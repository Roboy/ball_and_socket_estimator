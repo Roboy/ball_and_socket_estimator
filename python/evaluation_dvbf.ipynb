{
 "cells": [
  {
   "cell_type": "code",
   "execution_count": 1,
   "id": "da106e22",
   "metadata": {},
   "outputs": [],
   "source": [
    "import numpy as np\n",
    "import pandas as pd\n",
    "import time\n",
    "from scipy import stats\n",
    "from sklearn.preprocessing import MinMaxScaler\n",
    "import joblib\n",
    "import json\n",
    "import matplotlib.pyplot as plt\n",
    "from mpl_toolkits.mplot3d import Axes3D\n",
    "import seaborn as sns\n",
    "import matplotlib\n",
    "import os\n",
    "\n",
    "%load_ext autoreload\n",
    "%autoreload 2\n",
    "# %matplotlib notebook\n",
    "%matplotlib inline"
   ]
  },
  {
   "cell_type": "code",
   "execution_count": 2,
   "id": "082b7070",
   "metadata": {},
   "outputs": [],
   "source": [
    "# body_part = \"head\"\n",
    "# file_names = ['./training_data/head_data_1.log',\n",
    "#              './training_data/head_data_2.log',\n",
    "#              './training_data/head_data_3.log',\n",
    "#              './training_data/head_data_4.log',\n",
    "#              './training_data/head_data_5.log',\n",
    "#              './training_data/head_data_6.log']\n",
    "\n",
    "# body_part = \"shoulder_right\"\n",
    "# file_names = [\n",
    "#              './training_data_old/shoulder_right_data_1.log',\n",
    "#              './training_data_old/shoulder_right_data_2.log',\n",
    "#              './training_data_old/shoulder_right_data_3.log',\n",
    "#              './training_data_old/shoulder_right_data_4.log',\n",
    "#              './training_data_old/shoulder_right_data_5.log']\n",
    "\n",
    "# body_part = \"shoulder_right\"\n",
    "# file_names = [\n",
    "#              './training_data/shoulder_right_train_10_17.log',\n",
    "#              './training_data_old/shoulder_right_data_6.log',\n",
    "#              './training_data_old/shoulder_right_data_7.log',\n",
    "#              './training_data_old/shoulder_right_data_8.log',\n",
    "#              './training_data_old/shoulder_right_data_9.log',\n",
    "#             ]\n",
    "\n",
    "body_part = \"shoulder_left\"\n",
    "file_names = ['./training_data/shoulder_left_train_5_6_7_9_10.log']\n",
    "\n",
    "# file_names = ['./training_data/shoulder_left_5.log',\n",
    "#               './training_data/shoulder_left_6.log',\n",
    "#               './training_data/shoulder_left_7.log']\n",
    "\n",
    "# body_part = \"shoulder_left\"\n",
    "# file_names = ['./training_data/shoulder_left_1.log',\n",
    "#               './training_data/shoulder_left_2.log',\n",
    "#               './training_data/shoulder_left_3.log']"
   ]
  },
  {
   "cell_type": "code",
   "execution_count": 3,
   "id": "ad82ae8c",
   "metadata": {},
   "outputs": [
    {
     "name": "stdout",
     "output_type": "stream",
     "text": [
      "250240 values\n",
      "250238 values after filtering outliers\n",
      "max euler nan\n",
      "min euler nan\n"
     ]
    }
   ],
   "source": [
    "orig_dataset = pd.concat([pd.read_csv(f, delim_whitespace=True, header=0) for f in file_names])\n",
    "orig_dataset = orig_dataset.values[1:len(orig_dataset)-1,0:]\n",
    "\n",
    "abnormal_threshold = 0.5\n",
    "dataset = []\n",
    "\n",
    "for name in file_names:\n",
    "    df = pd.read_csv(name, delim_whitespace=True, header=0)\n",
    "    \n",
    "    # interpolate nan outputs (loss tracking)\n",
    "#     for c in df.columns[-3:]:\n",
    "#         df[c] = df[c].interpolate()\n",
    "    \n",
    "    # interpolate abnormal inputs\n",
    "    for c in df.columns[:-3]:\n",
    "        bad_idx = df.index[df[c].pct_change().abs().ge(abnormal_threshold)]\n",
    "        df.loc[bad_idx, c] = np.nan\n",
    "        df[c] = df[c].interpolate()\n",
    "    \n",
    "    dataset.append(df)\n",
    "    \n",
    "dataset_len = [len(data) for data in dataset]\n",
    "dataset = pd.concat(dataset) \n",
    "\n",
    "print(f'{np.sum(dataset_len)} values')\n",
    "\n",
    "dataset = dataset.values[1:len(dataset)-1,0:]\n",
    "dataset = dataset[abs(dataset[:,12])!=0.0,:]\n",
    "dataset = dataset[abs(dataset[:,13])!=0.0,:]\n",
    "dataset = dataset[abs(dataset[:,14])!=0.0,:]\n",
    "\n",
    "print(f'{len(dataset)} values after filtering outliers')\n",
    "\n",
    "euler_set = dataset[:, 12:15]\n",
    "sensors_set = dataset[:, :12]\n",
    "orig_sensors_set = orig_dataset[:, :12]\n",
    "print(f'max euler {str(np.amax(euler_set))}')\n",
    "print(f'min euler {str(np.amin(euler_set))}')"
   ]
  },
  {
   "cell_type": "code",
   "execution_count": 4,
   "id": "9fbf41cf",
   "metadata": {},
   "outputs": [],
   "source": [
    "import torch\n",
    "import torch.nn as nn\n",
    "from torch.autograd import Variable\n",
    "from libs.orientation_utils import compute_rotation_matrix_from_euler, compute_ortho6d_from_rotation_matrix, compute_rotation_matrix_from_ortho6d, compute_euler_angles_from_rotation_matrices"
   ]
  },
  {
   "cell_type": "code",
   "execution_count": 5,
   "id": "e48bc2bb",
   "metadata": {},
   "outputs": [],
   "source": [
    "euler_set_in = np.zeros_like(euler_set)\n",
    "euler_set_in[:, 0] = euler_set[:, 2] \n",
    "euler_set_in[:, 1] = euler_set[:, 1] \n",
    "euler_set_in[:, 2] = euler_set[:, 0] \n",
    "\n",
    "euler_set = torch.Tensor(euler_set_in).cuda()\n",
    "rot_set = compute_rotation_matrix_from_euler(euler_set)\n",
    "rot_set = compute_ortho6d_from_rotation_matrix(rot_set).cpu().detach().numpy()"
   ]
  },
  {
   "cell_type": "code",
   "execution_count": 6,
   "id": "576f0cf3",
   "metadata": {},
   "outputs": [],
   "source": [
    "model_path = f\"./outputs/{body_part}_dvbf_ad_rot6D\"\n",
    "\n",
    "sensors_scaler = joblib.load(f'{model_path}/scaler.pkl')\n",
    "\n",
    "# Split magnetic sensors into 4 independent distributions again\n",
    "orig_sensors_set = sensors_scaler.transform(orig_sensors_set).reshape(-1, 4, 3)\n",
    "sensors_set = sensors_scaler.transform(sensors_set).reshape(-1, 4, 3)"
   ]
  },
  {
   "cell_type": "code",
   "execution_count": 7,
   "id": "e70e5235",
   "metadata": {},
   "outputs": [],
   "source": [
    "import pytorch_lightning as pl\n",
    "from torch.utils.data import Dataset, DataLoader\n",
    "from pytorch_lightning import Trainer, seed_everything\n",
    "from pytorch_lightning.loggers.csv_logs import CSVLogger\n",
    "from pytorch_lightning.callbacks import ModelCheckpoint\n",
    "from libs.data_modules import SensorsDataModule\n",
    "from libs.nn_models import mse_seq\n",
    "from libs.dvbf_models import DVBF"
   ]
  },
  {
   "cell_type": "code",
   "execution_count": 8,
   "id": "4128b524",
   "metadata": {},
   "outputs": [
    {
     "name": "stderr",
     "output_type": "stream",
     "text": [
      "/home/thobotics/anaconda3/envs/tum/lib/python3.6/site-packages/torch/nn/modules/rnn.py:65: UserWarning: dropout option adds dropout after all but last recurrent layer, so non-zero dropout expects num_layers greater than 1, but got dropout=0.1 and num_layers=1\n",
      "  \"num_layers={}\".format(dropout, num_layers))\n"
     ]
    }
   ],
   "source": [
    "model = DVBF.load_from_checkpoint(checkpoint_path=f\"{model_path}/best.ckpt\")"
   ]
  },
  {
   "cell_type": "code",
   "execution_count": 9,
   "id": "6cf77cab",
   "metadata": {},
   "outputs": [
    {
     "data": {
      "text/plain": [
       "DVBF(\n",
       "  (initial_lstm): LSTM(12, 100, batch_first=True, dropout=0.1, bidirectional=True)\n",
       "  (initial_to_params): Sequential(\n",
       "    (0): Linear(in_features=200, out_features=100, bias=True)\n",
       "    (1): ReLU()\n",
       "    (2): Linear(in_features=100, out_features=32, bias=True)\n",
       "  )\n",
       "  (w1_to_z1): Sequential(\n",
       "    (0): Linear(in_features=16, out_features=100, bias=True)\n",
       "    (1): ReLU()\n",
       "    (2): Linear(in_features=100, out_features=16, bias=True)\n",
       "  )\n",
       "  (matrix_params): Sequential(\n",
       "    (0): Linear(in_features=16, out_features=100, bias=True)\n",
       "    (1): ReLU()\n",
       "    (2): Linear(in_features=100, out_features=16, bias=True)\n",
       "    (3): Softmax(dim=None)\n",
       "  )\n",
       "  (decoder_model): Sequential(\n",
       "    (0): Linear(in_features=16, out_features=100, bias=True)\n",
       "    (1): ReLU()\n",
       "    (2): Linear(in_features=100, out_features=24, bias=True)\n",
       "  )\n",
       "  (regressor_model): Sequential(\n",
       "    (0): Linear(in_features=16, out_features=100, bias=True)\n",
       "    (1): ReLU()\n",
       "    (2): Linear(in_features=100, out_features=12, bias=True)\n",
       "  )\n",
       "  (encoder_models): ModuleList(\n",
       "    (0): Sequential(\n",
       "      (0): Sequential(\n",
       "        (0): Linear(in_features=3, out_features=100, bias=True)\n",
       "        (1): ReLU()\n",
       "      )\n",
       "      (1): Linear(in_features=100, out_features=32, bias=True)\n",
       "    )\n",
       "    (1): Sequential(\n",
       "      (0): Sequential(\n",
       "        (0): Linear(in_features=3, out_features=100, bias=True)\n",
       "        (1): ReLU()\n",
       "      )\n",
       "      (1): Linear(in_features=100, out_features=32, bias=True)\n",
       "    )\n",
       "    (2): Sequential(\n",
       "      (0): Sequential(\n",
       "        (0): Linear(in_features=3, out_features=100, bias=True)\n",
       "        (1): ReLU()\n",
       "      )\n",
       "      (1): Linear(in_features=100, out_features=32, bias=True)\n",
       "    )\n",
       "    (3): Sequential(\n",
       "      (0): Sequential(\n",
       "        (0): Linear(in_features=3, out_features=100, bias=True)\n",
       "        (1): ReLU()\n",
       "      )\n",
       "      (1): Linear(in_features=100, out_features=32, bias=True)\n",
       "    )\n",
       "  )\n",
       ")"
      ]
     },
     "execution_count": 9,
     "metadata": {},
     "output_type": "execute_result"
    }
   ],
   "source": [
    "device = \"cuda\"\n",
    "model.to(device)\n",
    "torch.set_grad_enabled(False)\n",
    "model.eval()"
   ]
  },
  {
   "cell_type": "code",
   "execution_count": 10,
   "id": "a9ee5f58",
   "metadata": {},
   "outputs": [],
   "source": [
    "def plot_test(sensors_set, euler_set, look_back=5, ab_idx=None, save_name=None):\n",
    "\n",
    "    # Specific testing for abnormalities\n",
    "    \n",
    "    if body_part == \"shoulder_right\":\n",
    "        start_idx = 110090\n",
    "        end_idx = 110790\n",
    "        ab_idx = 110690\n",
    "    elif body_part == \"shoulder_left\":\n",
    "#         start_idx = 21500 # 4500\n",
    "#         end_idx = 22880 # 4850\n",
    "        start_idx = 20500 # 4500\n",
    "        end_idx = 23880 # 4850\n",
    "        ab_idx = 22626\n",
    "    elif body_part == \"head\":\n",
    "        start_idx = 900\n",
    "        end_idx = 950\n",
    "\n",
    "    test_idxs = slice(start_idx, end_idx)\n",
    "\n",
    "    # Prepare inputs and do the prediction\n",
    "    in_set = []\n",
    "    for i in range(start_idx, end_idx):\n",
    "        in_set.append(sensors_set[i:i+look_back])\n",
    "\n",
    "    in_set = torch.tensor(sensors_set[start_idx:end_idx][None], dtype=torch.float32).to(device)\n",
    "    out_set = model.predict(in_set)[0]#[:, -1]\n",
    "    rot_pred = compute_rotation_matrix_from_ortho6d(out_set)\n",
    "\n",
    "    euler_pred = compute_euler_angles_from_rotation_matrices(rot_pred)\n",
    "    euler_gt = torch.tensor(euler_set[test_idxs], dtype=torch.float32).to(device)\n",
    "    \n",
    "    print(f\"MSE: {mse_seq(euler_pred, euler_gt)}\")\n",
    "    \n",
    "    euler_pred = euler_pred.cpu().detach().numpy()\n",
    "    euler_gt = euler_gt.cpu().detach().numpy()\n",
    "\n",
    "    # Plotting\n",
    "    fig = plt.figure(figsize=(10,8))\n",
    "    ax = fig.add_subplot(1, 1, 1, projection='3d')\n",
    "    ax.scatter(euler_gt[:, 0], euler_gt[:, 1], euler_gt[:, 2], c=np.arange(len(euler_gt)), alpha=0.1)\n",
    "    sc = ax.plot(euler_pred[:,0], euler_pred[:,1], euler_pred[:,2])\n",
    "    sc = ax.scatter(euler_pred[:,0], euler_pred[:,1], euler_pred[:,2], c=np.arange(len(euler_pred)), alpha=0.5)\n",
    "\n",
    "    ax.set_xlabel('X')\n",
    "    ax.set_ylabel('Y')\n",
    "    ax.set_zlabel('Z')\n",
    "    \n",
    "    plt.colorbar(sc)\n",
    "    plt.show()\n",
    "    \n",
    "    ax.set_xlim([-2, 0.5])\n",
    "    ax.set_ylim([-1.5, 0.])\n",
    "    ax.set_zlim([-2, 0.])\n",
    "    \n",
    "    if save_name:\n",
    "        fig.savefig('./outputs/'+body_part+'_'+save_name+'.png', dpi=100, bbox_inches='tight')\n",
    "    \n",
    "    # Abnormal analysis\n",
    "    latent_dist = None\n",
    "    if ab_idx is not None:\n",
    "        ab_idx = ab_idx - start_idx\n",
    "        latent_dist = model.inv_meas(in_set[:, ab_idx])\n",
    "        print(f\"Abnormal input: {in_set[:, ab_idx]}\")\n",
    "    return latent_dist"
   ]
  },
  {
   "cell_type": "raw",
   "id": "4805a7c7",
   "metadata": {},
   "source": [
    "test_dataset = pd.concat([pd.read_csv(f, delim_whitespace=True, header=0) for f in file_names])\n",
    "test_dataset = test_dataset.values[1:len(test_dataset)-1,0:]\n",
    "test_euler_set = dataset[:, 12:15]\n",
    "test_sensors_set = test_dataset[:, :12]\n",
    "test_transformed_sensors_set = sensors_scaler.transform(test_sensors_set).reshape(-1, 4, 3)"
   ]
  },
  {
   "cell_type": "code",
   "execution_count": 11,
   "id": "f5ea9f16",
   "metadata": {},
   "outputs": [],
   "source": [
    "test_euler_set = dataset[:, 12:15]"
   ]
  },
  {
   "cell_type": "code",
   "execution_count": 12,
   "id": "430d6eb1",
   "metadata": {},
   "outputs": [
    {
     "ename": "TypeError",
     "evalue": "'NoneType' object is not subscriptable",
     "output_type": "error",
     "traceback": [
      "\u001b[0;31m---------------------------------------------------------------------------\u001b[0m",
      "\u001b[0;31mTypeError\u001b[0m                                 Traceback (most recent call last)",
      "\u001b[0;32m<ipython-input-12-cfd8686b78ba>\u001b[0m in \u001b[0;36m<module>\u001b[0;34m\u001b[0m\n\u001b[1;32m      1\u001b[0m \u001b[0;31m# Plot with raw inputs\u001b[0m\u001b[0;34m\u001b[0m\u001b[0;34m\u001b[0m\u001b[0;34m\u001b[0m\u001b[0m\n\u001b[0;32m----> 2\u001b[0;31m \u001b[0mtest_latent_dist\u001b[0m \u001b[0;34m=\u001b[0m \u001b[0mplot_test\u001b[0m\u001b[0;34m(\u001b[0m\u001b[0msensors_set\u001b[0m\u001b[0;34m,\u001b[0m \u001b[0mtest_euler_set\u001b[0m\u001b[0;34m,\u001b[0m \u001b[0mlook_back\u001b[0m\u001b[0;34m=\u001b[0m\u001b[0;36m10\u001b[0m\u001b[0;34m)\u001b[0m\u001b[0;34m\u001b[0m\u001b[0;34m\u001b[0m\u001b[0m\n\u001b[0m",
      "\u001b[0;32m<ipython-input-10-f7394b92d28c>\u001b[0m in \u001b[0;36mplot_test\u001b[0;34m(sensors_set, euler_set, look_back, ab_idx, save_name)\u001b[0m\n\u001b[1;32m     25\u001b[0m \u001b[0;34m\u001b[0m\u001b[0m\n\u001b[1;32m     26\u001b[0m     \u001b[0min_set\u001b[0m \u001b[0;34m=\u001b[0m \u001b[0mtorch\u001b[0m\u001b[0;34m.\u001b[0m\u001b[0mtensor\u001b[0m\u001b[0;34m(\u001b[0m\u001b[0msensors_set\u001b[0m\u001b[0;34m[\u001b[0m\u001b[0mstart_idx\u001b[0m\u001b[0;34m:\u001b[0m\u001b[0mend_idx\u001b[0m\u001b[0;34m]\u001b[0m\u001b[0;34m[\u001b[0m\u001b[0;32mNone\u001b[0m\u001b[0;34m]\u001b[0m\u001b[0;34m,\u001b[0m \u001b[0mdtype\u001b[0m\u001b[0;34m=\u001b[0m\u001b[0mtorch\u001b[0m\u001b[0;34m.\u001b[0m\u001b[0mfloat32\u001b[0m\u001b[0;34m)\u001b[0m\u001b[0;34m.\u001b[0m\u001b[0mto\u001b[0m\u001b[0;34m(\u001b[0m\u001b[0mdevice\u001b[0m\u001b[0;34m)\u001b[0m\u001b[0;34m\u001b[0m\u001b[0;34m\u001b[0m\u001b[0m\n\u001b[0;32m---> 27\u001b[0;31m     \u001b[0mout_set\u001b[0m \u001b[0;34m=\u001b[0m \u001b[0mmodel\u001b[0m\u001b[0;34m.\u001b[0m\u001b[0mpredict\u001b[0m\u001b[0;34m(\u001b[0m\u001b[0min_set\u001b[0m\u001b[0;34m)\u001b[0m\u001b[0;34m[\u001b[0m\u001b[0;36m0\u001b[0m\u001b[0;34m]\u001b[0m\u001b[0;31m#[:, -1]\u001b[0m\u001b[0;34m\u001b[0m\u001b[0;34m\u001b[0m\u001b[0m\n\u001b[0m\u001b[1;32m     28\u001b[0m     \u001b[0mrot_pred\u001b[0m \u001b[0;34m=\u001b[0m \u001b[0mcompute_rotation_matrix_from_ortho6d\u001b[0m\u001b[0;34m(\u001b[0m\u001b[0mout_set\u001b[0m\u001b[0;34m)\u001b[0m\u001b[0;34m\u001b[0m\u001b[0;34m\u001b[0m\u001b[0m\n\u001b[1;32m     29\u001b[0m \u001b[0;34m\u001b[0m\u001b[0m\n",
      "\u001b[0;32m~/roboy_nn/RoboyData-20211110T134625Z-001/RoboyData/ball_in_socket_estimator/python/libs/dvbf_models.py\u001b[0m in \u001b[0;36mpredict\u001b[0;34m(self, x, u)\u001b[0m\n\u001b[1;32m    261\u001b[0m         \u001b[0mstate\u001b[0m\u001b[0;34m,\u001b[0m \u001b[0m_\u001b[0m \u001b[0;34m=\u001b[0m \u001b[0mself\u001b[0m\u001b[0;34m.\u001b[0m\u001b[0mpredict_initial\u001b[0m\u001b[0;34m(\u001b[0m\u001b[0mx\u001b[0m\u001b[0;34m[\u001b[0m\u001b[0;34m:\u001b[0m\u001b[0;34m,\u001b[0m \u001b[0;34m:\u001b[0m\u001b[0mself\u001b[0m\u001b[0;34m.\u001b[0m\u001b[0mn_initial_obs\u001b[0m\u001b[0;34m]\u001b[0m\u001b[0;34m)\u001b[0m\u001b[0;34m\u001b[0m\u001b[0;34m\u001b[0m\u001b[0m\n\u001b[1;32m    262\u001b[0m         \u001b[0;32mfor\u001b[0m \u001b[0mt\u001b[0m \u001b[0;32min\u001b[0m \u001b[0mrange\u001b[0m\u001b[0;34m(\u001b[0m\u001b[0mT\u001b[0m\u001b[0;34m)\u001b[0m\u001b[0;34m:\u001b[0m\u001b[0;34m\u001b[0m\u001b[0;34m\u001b[0m\u001b[0m\n\u001b[0;32m--> 263\u001b[0;31m             \u001b[0moutput\u001b[0m\u001b[0;34m,\u001b[0m \u001b[0mstate\u001b[0m \u001b[0;34m=\u001b[0m \u001b[0mself\u001b[0m\u001b[0;34m.\u001b[0m\u001b[0mpredict_belief\u001b[0m\u001b[0;34m(\u001b[0m\u001b[0mstate\u001b[0m\u001b[0;34m,\u001b[0m \u001b[0mu\u001b[0m\u001b[0;34m[\u001b[0m\u001b[0;34m:\u001b[0m\u001b[0;34m,\u001b[0m \u001b[0mt\u001b[0m\u001b[0;34m]\u001b[0m\u001b[0;34m,\u001b[0m \u001b[0mx\u001b[0m\u001b[0;34m[\u001b[0m\u001b[0;34m:\u001b[0m\u001b[0;34m,\u001b[0m \u001b[0mt\u001b[0m\u001b[0;34m]\u001b[0m\u001b[0;34m)\u001b[0m\u001b[0;34m\u001b[0m\u001b[0;34m\u001b[0m\u001b[0m\n\u001b[0m\u001b[1;32m    264\u001b[0m             \u001b[0;31m# output, state = self.predict_belief(state, None, x[:, t])\u001b[0m\u001b[0;34m\u001b[0m\u001b[0;34m\u001b[0m\u001b[0;34m\u001b[0m\u001b[0m\n\u001b[1;32m    265\u001b[0m             \u001b[0moutputs\u001b[0m\u001b[0;34m.\u001b[0m\u001b[0mappend\u001b[0m\u001b[0;34m(\u001b[0m\u001b[0moutput\u001b[0m\u001b[0;34m)\u001b[0m\u001b[0;34m\u001b[0m\u001b[0;34m\u001b[0m\u001b[0m\n",
      "\u001b[0;31mTypeError\u001b[0m: 'NoneType' object is not subscriptable"
     ]
    }
   ],
   "source": [
    "# Plot with raw inputs\n",
    "test_latent_dist = plot_test(sensors_set, test_euler_set, look_back=10)"
   ]
  },
  {
   "cell_type": "raw",
   "id": "d8134335",
   "metadata": {},
   "source": [
    "orig_euler_set = dataset[:, 12:15]\n",
    "orig_sensors_set = dataset[:, :12]\n",
    "orig_transformed_sensors_set = sensors_scaler.transform(orig_sensors_set).reshape(-1, 4, 3)"
   ]
  },
  {
   "cell_type": "code",
   "execution_count": null,
   "id": "1e7e33eb",
   "metadata": {},
   "outputs": [],
   "source": [
    "# Plot with interpolated inputs\n",
    "orig_latent_dist = plot_test(orig_sensors_set, test_euler_set, save_name=\"dvbf\")"
   ]
  },
  {
   "cell_type": "code",
   "execution_count": null,
   "id": "14c11348",
   "metadata": {},
   "outputs": [],
   "source": [
    "test_latent_mean = torch.stack(test_latent_dist[0])\n",
    "test_latent_var = torch.stack(test_latent_dist[1])"
   ]
  },
  {
   "cell_type": "code",
   "execution_count": null,
   "id": "df4c8a7f",
   "metadata": {},
   "outputs": [],
   "source": [
    "orig_latent_mean = torch.stack(orig_latent_dist[0])\n",
    "orig_latent_var = torch.stack(orig_latent_dist[1])"
   ]
  },
  {
   "cell_type": "code",
   "execution_count": null,
   "id": "fb1da697",
   "metadata": {},
   "outputs": [],
   "source": [
    "(test_latent_mean - orig_latent_mean).abs().cpu().numpy()"
   ]
  },
  {
   "cell_type": "code",
   "execution_count": null,
   "id": "daba34c9",
   "metadata": {},
   "outputs": [],
   "source": [
    "(test_latent_var - orig_latent_var).abs().cpu().numpy()"
   ]
  },
  {
   "cell_type": "code",
   "execution_count": null,
   "id": "601662ff",
   "metadata": {},
   "outputs": [],
   "source": [
    "test_latent_var"
   ]
  },
  {
   "cell_type": "code",
   "execution_count": null,
   "id": "27f714c5",
   "metadata": {},
   "outputs": [],
   "source": [
    "orig_latent_var"
   ]
  },
  {
   "cell_type": "code",
   "execution_count": null,
   "id": "0ee776ef",
   "metadata": {},
   "outputs": [],
   "source": [
    "np.set_printoptions(precision=3, suppress=True)"
   ]
  },
  {
   "cell_type": "code",
   "execution_count": null,
   "id": "fe5e058b",
   "metadata": {},
   "outputs": [],
   "source": [
    "abnormal_idx = np.where(np.abs(test_transformed_sensors_set - orig_transformed_sensors_set) > 0.5)"
   ]
  },
  {
   "cell_type": "code",
   "execution_count": null,
   "id": "7e2feaee",
   "metadata": {},
   "outputs": [],
   "source": [
    "abnormal_idx"
   ]
  },
  {
   "cell_type": "code",
   "execution_count": null,
   "id": "059a1e8f",
   "metadata": {},
   "outputs": [],
   "source": [
    "test_sensors_set[abnormal_idx]"
   ]
  },
  {
   "cell_type": "code",
   "execution_count": null,
   "id": "6d3ae534",
   "metadata": {},
   "outputs": [],
   "source": [
    "orig_sensors_set[abnormal_idx]"
   ]
  },
  {
   "cell_type": "code",
   "execution_count": null,
   "id": "ce7aebfa",
   "metadata": {},
   "outputs": [],
   "source": []
  }
 ],
 "metadata": {
  "kernelspec": {
   "display_name": "Python 3",
   "language": "python",
   "name": "python3"
  },
  "language_info": {
   "codemirror_mode": {
    "name": "ipython",
    "version": 3
   },
   "file_extension": ".py",
   "mimetype": "text/x-python",
   "name": "python",
   "nbconvert_exporter": "python",
   "pygments_lexer": "ipython3",
   "version": "3.6.13"
  }
 },
 "nbformat": 4,
 "nbformat_minor": 5
}
