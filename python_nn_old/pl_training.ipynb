{
 "cells": [
  {
   "cell_type": "code",
   "execution_count": 1,
   "id": "8b5c2c62",
   "metadata": {},
   "outputs": [],
   "source": [
    "import numpy as np\n",
    "import pandas as pd\n",
    "import time\n",
    "from scipy import stats\n",
    "from sklearn.preprocessing import MinMaxScaler\n",
    "import joblib\n",
    "import matplotlib.pyplot as plt\n",
    "from mpl_toolkits.mplot3d import Axes3D\n",
    "import seaborn as sns\n",
    "import matplotlib\n",
    "import os\n",
    "\n",
    "%load_ext autoreload\n",
    "%autoreload 2\n",
    "%matplotlib notebook\n",
    "# %matplotlib inline"
   ]
  },
  {
   "cell_type": "code",
   "execution_count": 2,
   "id": "bc783449",
   "metadata": {},
   "outputs": [
    {
     "name": "stdout",
     "output_type": "stream",
     "text": [
      "346086 values\n"
     ]
    }
   ],
   "source": [
    "# body_part = \"head\"\n",
    "# file_names = ['./data/training_data/head_data_1.log',\n",
    "#              './data/training_data/head_data_2.log',\n",
    "#              './data/training_data/head_data_3.log',\n",
    "#              './data/training_data/head_data_4.log',\n",
    "#              './data/training_data/head_data_5.log',\n",
    "#              './data/training_data/head_data_6.log']\n",
    "\n",
    "body_part = \"shoulder_right\"\n",
    "file_names = [\n",
    "             './data/training_data/shoulder_right_data_6.log',\n",
    "             './data/training_data/shoulder_right_data_7.log',\n",
    "             './data/training_data/shoulder_right_data_8.log',\n",
    "             './data/training_data/shoulder_right_data_9.log',\n",
    "             './data/training_data/shoulder_right_data_14.log',\n",
    "             './data/training_data/shoulder_right_data_15.log',\n",
    "             './data/training_data/shoulder_right_data_16.log',\n",
    "            './data/training_data/shoulder_right_data_17.log'\n",
    "]\n",
    "\n",
    "# body_part = \"shoulder_left\"\n",
    "# file_names = ['./data/training_data/shoulder_left_data_1.log',\n",
    "#               './data/training_data/shoulder_left_data_2.log',\n",
    "#               './data/training_data/shoulder_left_data_3.log']\n",
    "\n",
    "dataset = [pd.read_csv(f, delim_whitespace=True, header=0) for f in file_names]\n",
    "# dataset = [data[(np.abs(stats.zscore(data[[\"mx0\", \"my0\", \"mz0\"]])) < 2.75).all(axis=1)] for data in dataset]\n",
    "# dataset = [data[(np.abs(stats.zscore(data[[\"mx1\", \"my1\", \"mz1\"]])) < 2.75).all(axis=1)] for data in dataset]\n",
    "# dataset = [data[(np.abs(stats.zscore(data[[\"mx2\", \"my2\", \"mz3\"]])) < 2.75).all(axis=1)] for data in dataset]\n",
    "# dataset = [data[(np.abs(stats.zscore(data[[\"mx3\", \"my3\", \"mz3.1\"]])) < 2.75).all(axis=1)] for data in dataset]\n",
    "dataset = [data[(np.abs(stats.zscore(data[[\"roll\", \"pitch\", \"yaw\"]])) < 2.75).all(axis=1)] for data in dataset]\n",
    "dataset_len = [len(data) for data in dataset]\n",
    "dataset = pd.concat(dataset)\n",
    "\n",
    "print('%d values'%(len(dataset)))"
   ]
  },
  {
   "cell_type": "code",
   "execution_count": 3,
   "id": "2b665a7c",
   "metadata": {},
   "outputs": [
    {
     "data": {
      "text/plain": [
       "[8241, 67523, 37184, 57790, 12928, 12195, 7290, 142935]"
      ]
     },
     "execution_count": 3,
     "metadata": {},
     "output_type": "execute_result"
    }
   ],
   "source": [
    "dataset_len"
   ]
  },
  {
   "cell_type": "code",
   "execution_count": 4,
   "id": "4aee86e3",
   "metadata": {},
   "outputs": [
    {
     "name": "stdout",
     "output_type": "stream",
     "text": [
      "346084 values after filtering outliers\n",
      "max euler 1.411555809406252\n",
      "min euler -2.2710370734661414\n"
     ]
    }
   ],
   "source": [
    "dataset = dataset.values[1:len(dataset)-1,0:]\n",
    "# np.random.shuffle(dataset)\n",
    "\n",
    "dataset = dataset[abs(dataset[:,12])!=0.0,:]\n",
    "dataset = dataset[abs(dataset[:,13])!=0.0,:]\n",
    "dataset = dataset[abs(dataset[:,14])!=0.0,:]\n",
    "print('%d values after filtering outliers'%(len(dataset)))\n",
    "\n",
    "euler_set = dataset[:, 12:15]\n",
    "print('max euler ' + str(np.amax(euler_set)))\n",
    "print('min euler ' + str(np.amin(euler_set)))\n",
    "sensors_set = dataset[:, :12]"
   ]
  },
  {
   "cell_type": "code",
   "execution_count": 5,
   "id": "0364368a",
   "metadata": {},
   "outputs": [],
   "source": [
    "from tools import *"
   ]
  },
  {
   "cell_type": "code",
   "execution_count": 6,
   "id": "6574e786",
   "metadata": {},
   "outputs": [],
   "source": [
    "euler_set_in = np.zeros_like(euler_set)\n",
    "euler_set_in[:, 0] = euler_set[:, 2] \n",
    "euler_set_in[:, 1] = euler_set[:, 1] \n",
    "euler_set_in[:, 2] = euler_set[:, 0] \n",
    "\n",
    "euler_set = torch.Tensor(euler_set_in).cuda()\n",
    "rot_set = compute_rotation_matrix_from_euler(euler_set)\n",
    "rot_set = compute_ortho6d_from_rotation_matrix(rot_set).cpu().detach().numpy()\n",
    "# quad_set = compute_quaternions_from_rotation_matrices(rot_set)\n",
    "# quad_set = quad_set.cpu().detach().numpy()"
   ]
  },
  {
   "cell_type": "code",
   "execution_count": 7,
   "id": "c1737114",
   "metadata": {},
   "outputs": [],
   "source": [
    "sensors_scaler = MinMaxScaler(feature_range=(-1., 1.))\n",
    "sensors_set = sensors_scaler.fit_transform(sensors_set)"
   ]
  },
  {
   "cell_type": "code",
   "execution_count": 8,
   "id": "90a680c1",
   "metadata": {},
   "outputs": [
    {
     "name": "stdout",
     "output_type": "stream",
     "text": [
      "8221\n",
      "75724\n",
      "112888\n",
      "170658\n",
      "183566\n",
      "195741\n",
      "203011\n",
      "345926\n"
     ]
    }
   ],
   "source": [
    "look_back = 10\n",
    "\n",
    "data_in = []\n",
    "data_out = []\n",
    "\n",
    "start_idx = 0\n",
    "for l in dataset_len:\n",
    "    # Ignore the last batch\n",
    "    for i in range(start_idx, start_idx+l-look_back*2):\n",
    "        data_in.append(sensors_set[i:i+look_back])\n",
    "        data_out.append(rot_set[i+1:i+look_back+1])\n",
    "    print(len(data_in))\n",
    "    start_idx += l"
   ]
  },
  {
   "cell_type": "code",
   "execution_count": 9,
   "id": "ede02746",
   "metadata": {},
   "outputs": [],
   "source": [
    "import torch\n",
    "import torch.nn as nn\n",
    "\n",
    "from torch.utils.data import Dataset, DataLoader\n",
    "\n",
    "import pytorch_lightning as pl\n",
    "from pytorch_lightning import Trainer, seed_everything\n",
    "from pytorch_lightning.loggers.csv_logs import CSVLogger\n",
    "from pytorch_lightning.callbacks import ModelCheckpoint\n",
    "from torch_nn import SensorsDataModule, LSTMRegressor, mse_seq"
   ]
  },
  {
   "cell_type": "code",
   "execution_count": 10,
   "id": "75399329",
   "metadata": {},
   "outputs": [],
   "source": [
    "p = dict(\n",
    "    seq_len = look_back,\n",
    "    batch_size = 1000, \n",
    "    criterion = mse_seq,\n",
    "    max_epochs = 1000,\n",
    "    n_features = 12,\n",
    "    hidden_size = 100,\n",
    "    num_layers = 2,\n",
    "    dropout = 0.2,\n",
    "    learning_rate = 5e-4,\n",
    ")"
   ]
  },
  {
   "cell_type": "code",
   "execution_count": 11,
   "id": "a6f888a4",
   "metadata": {},
   "outputs": [
    {
     "name": "stderr",
     "output_type": "stream",
     "text": [
      "Global seed set to 1\n",
      "/home/thobotics/anaconda3/envs/tum/lib/python3.6/site-packages/pytorch_lightning/trainer/connectors/callback_connector.py:91: LightningDeprecationWarning: Setting `Trainer(progress_bar_refresh_rate=2)` is deprecated in v1.5 and will be removed in v1.7. Please pass `pytorch_lightning.callbacks.progress.TQDMProgressBar` with `refresh_rate` directly to the Trainer's `callbacks` argument instead. Or, to disable the progress bar pass `enable_progress_bar = False` to the Trainer.\n",
      "  f\"Setting `Trainer(progress_bar_refresh_rate={progress_bar_refresh_rate})` is deprecated in v1.5 and\"\n",
      "GPU available: True, used: True\n",
      "TPU available: False, using: 0 TPU cores\n",
      "IPU available: False, using: 0 IPUs\n",
      "LOCAL_RANK: 0 - CUDA_VISIBLE_DEVICES: [0]\n",
      "\n",
      "  | Name   | Type   | Params\n",
      "----------------------------------\n",
      "0 | lstm   | LSTM   | 126 K \n",
      "1 | linear | Linear | 606   \n",
      "2 | tanh   | Tanh   | 0     \n",
      "----------------------------------\n",
      "127 K     Trainable params\n",
      "0         Non-trainable params\n",
      "127 K     Total params\n",
      "0.508     Total estimated model params size (MB)\n",
      "/home/thobotics/anaconda3/envs/tum/lib/python3.6/site-packages/pytorch_lightning/callbacks/model_checkpoint.py:617: UserWarning: Checkpoint directory /home/thobotics/roboy_nn/RoboyData-20211110T134625Z-001/RoboyData/ball_in_socket_estimator/python/lstm_rot6D exists and is not empty.\n",
      "  rank_zero_warn(f\"Checkpoint directory {dirpath} exists and is not empty.\")\n"
     ]
    },
    {
     "data": {
      "application/vnd.jupyter.widget-view+json": {
       "model_id": "",
       "version_major": 2,
       "version_minor": 0
      },
      "text/plain": [
       "Validation sanity check: 0it [00:00, ?it/s]"
      ]
     },
     "metadata": {},
     "output_type": "display_data"
    },
    {
     "name": "stderr",
     "output_type": "stream",
     "text": [
      "/home/thobotics/anaconda3/envs/tum/lib/python3.6/site-packages/pytorch_lightning/trainer/data_loading.py:111: UserWarning: The dataloader, val_dataloader 0, does not have many workers which may be a bottleneck. Consider increasing the value of the `num_workers` argument` (try 8 which is the number of cpus on this machine) in the `DataLoader` init to improve performance.\n",
      "  f\"The dataloader, {name}, does not have many workers which may be a bottleneck.\"\n",
      "Global seed set to 1\n",
      "/home/thobotics/anaconda3/envs/tum/lib/python3.6/site-packages/pytorch_lightning/trainer/data_loading.py:111: UserWarning: The dataloader, train_dataloader, does not have many workers which may be a bottleneck. Consider increasing the value of the `num_workers` argument` (try 8 which is the number of cpus on this machine) in the `DataLoader` init to improve performance.\n",
      "  f\"The dataloader, {name}, does not have many workers which may be a bottleneck.\"\n"
     ]
    },
    {
     "data": {
      "application/vnd.jupyter.widget-view+json": {
       "model_id": "5b9a89d48f414b269ac07b98d9ece9c0",
       "version_major": 2,
       "version_minor": 0
      },
      "text/plain": [
       "Training: 0it [00:00, ?it/s]"
      ]
     },
     "metadata": {},
     "output_type": "display_data"
    },
    {
     "data": {
      "application/vnd.jupyter.widget-view+json": {
       "model_id": "",
       "version_major": 2,
       "version_minor": 0
      },
      "text/plain": [
       "Validating: 0it [00:00, ?it/s]"
      ]
     },
     "metadata": {},
     "output_type": "display_data"
    },
    {
     "data": {
      "application/vnd.jupyter.widget-view+json": {
       "model_id": "",
       "version_major": 2,
       "version_minor": 0
      },
      "text/plain": [
       "Validating: 0it [00:00, ?it/s]"
      ]
     },
     "metadata": {},
     "output_type": "display_data"
    },
    {
     "data": {
      "application/vnd.jupyter.widget-view+json": {
       "model_id": "",
       "version_major": 2,
       "version_minor": 0
      },
      "text/plain": [
       "Validating: 0it [00:00, ?it/s]"
      ]
     },
     "metadata": {},
     "output_type": "display_data"
    },
    {
     "data": {
      "application/vnd.jupyter.widget-view+json": {
       "model_id": "",
       "version_major": 2,
       "version_minor": 0
      },
      "text/plain": [
       "Validating: 0it [00:00, ?it/s]"
      ]
     },
     "metadata": {},
     "output_type": "display_data"
    },
    {
     "data": {
      "application/vnd.jupyter.widget-view+json": {
       "model_id": "",
       "version_major": 2,
       "version_minor": 0
      },
      "text/plain": [
       "Validating: 0it [00:00, ?it/s]"
      ]
     },
     "metadata": {},
     "output_type": "display_data"
    },
    {
     "data": {
      "application/vnd.jupyter.widget-view+json": {
       "model_id": "",
       "version_major": 2,
       "version_minor": 0
      },
      "text/plain": [
       "Validating: 0it [00:00, ?it/s]"
      ]
     },
     "metadata": {},
     "output_type": "display_data"
    },
    {
     "data": {
      "application/vnd.jupyter.widget-view+json": {
       "model_id": "",
       "version_major": 2,
       "version_minor": 0
      },
      "text/plain": [
       "Validating: 0it [00:00, ?it/s]"
      ]
     },
     "metadata": {},
     "output_type": "display_data"
    },
    {
     "data": {
      "application/vnd.jupyter.widget-view+json": {
       "model_id": "",
       "version_major": 2,
       "version_minor": 0
      },
      "text/plain": [
       "Validating: 0it [00:00, ?it/s]"
      ]
     },
     "metadata": {},
     "output_type": "display_data"
    },
    {
     "data": {
      "application/vnd.jupyter.widget-view+json": {
       "model_id": "",
       "version_major": 2,
       "version_minor": 0
      },
      "text/plain": [
       "Validating: 0it [00:00, ?it/s]"
      ]
     },
     "metadata": {},
     "output_type": "display_data"
    },
    {
     "data": {
      "application/vnd.jupyter.widget-view+json": {
       "model_id": "",
       "version_major": 2,
       "version_minor": 0
      },
      "text/plain": [
       "Validating: 0it [00:00, ?it/s]"
      ]
     },
     "metadata": {},
     "output_type": "display_data"
    },
    {
     "data": {
      "application/vnd.jupyter.widget-view+json": {
       "model_id": "",
       "version_major": 2,
       "version_minor": 0
      },
      "text/plain": [
       "Validating: 0it [00:00, ?it/s]"
      ]
     },
     "metadata": {},
     "output_type": "display_data"
    },
    {
     "data": {
      "application/vnd.jupyter.widget-view+json": {
       "model_id": "",
       "version_major": 2,
       "version_minor": 0
      },
      "text/plain": [
       "Validating: 0it [00:00, ?it/s]"
      ]
     },
     "metadata": {},
     "output_type": "display_data"
    },
    {
     "data": {
      "application/vnd.jupyter.widget-view+json": {
       "model_id": "",
       "version_major": 2,
       "version_minor": 0
      },
      "text/plain": [
       "Validating: 0it [00:00, ?it/s]"
      ]
     },
     "metadata": {},
     "output_type": "display_data"
    },
    {
     "data": {
      "application/vnd.jupyter.widget-view+json": {
       "model_id": "",
       "version_major": 2,
       "version_minor": 0
      },
      "text/plain": [
       "Validating: 0it [00:00, ?it/s]"
      ]
     },
     "metadata": {},
     "output_type": "display_data"
    },
    {
     "data": {
      "application/vnd.jupyter.widget-view+json": {
       "model_id": "",
       "version_major": 2,
       "version_minor": 0
      },
      "text/plain": [
       "Validating: 0it [00:00, ?it/s]"
      ]
     },
     "metadata": {},
     "output_type": "display_data"
    },
    {
     "data": {
      "application/vnd.jupyter.widget-view+json": {
       "model_id": "",
       "version_major": 2,
       "version_minor": 0
      },
      "text/plain": [
       "Validating: 0it [00:00, ?it/s]"
      ]
     },
     "metadata": {},
     "output_type": "display_data"
    },
    {
     "data": {
      "application/vnd.jupyter.widget-view+json": {
       "model_id": "",
       "version_major": 2,
       "version_minor": 0
      },
      "text/plain": [
       "Validating: 0it [00:00, ?it/s]"
      ]
     },
     "metadata": {},
     "output_type": "display_data"
    },
    {
     "data": {
      "application/vnd.jupyter.widget-view+json": {
       "model_id": "",
       "version_major": 2,
       "version_minor": 0
      },
      "text/plain": [
       "Validating: 0it [00:00, ?it/s]"
      ]
     },
     "metadata": {},
     "output_type": "display_data"
    },
    {
     "data": {
      "application/vnd.jupyter.widget-view+json": {
       "model_id": "",
       "version_major": 2,
       "version_minor": 0
      },
      "text/plain": [
       "Validating: 0it [00:00, ?it/s]"
      ]
     },
     "metadata": {},
     "output_type": "display_data"
    },
    {
     "data": {
      "application/vnd.jupyter.widget-view+json": {
       "model_id": "",
       "version_major": 2,
       "version_minor": 0
      },
      "text/plain": [
       "Validating: 0it [00:00, ?it/s]"
      ]
     },
     "metadata": {},
     "output_type": "display_data"
    },
    {
     "data": {
      "application/vnd.jupyter.widget-view+json": {
       "model_id": "",
       "version_major": 2,
       "version_minor": 0
      },
      "text/plain": [
       "Validating: 0it [00:00, ?it/s]"
      ]
     },
     "metadata": {},
     "output_type": "display_data"
    },
    {
     "data": {
      "application/vnd.jupyter.widget-view+json": {
       "model_id": "",
       "version_major": 2,
       "version_minor": 0
      },
      "text/plain": [
       "Validating: 0it [00:00, ?it/s]"
      ]
     },
     "metadata": {},
     "output_type": "display_data"
    },
    {
     "data": {
      "application/vnd.jupyter.widget-view+json": {
       "model_id": "",
       "version_major": 2,
       "version_minor": 0
      },
      "text/plain": [
       "Validating: 0it [00:00, ?it/s]"
      ]
     },
     "metadata": {},
     "output_type": "display_data"
    },
    {
     "data": {
      "application/vnd.jupyter.widget-view+json": {
       "model_id": "",
       "version_major": 2,
       "version_minor": 0
      },
      "text/plain": [
       "Validating: 0it [00:00, ?it/s]"
      ]
     },
     "metadata": {},
     "output_type": "display_data"
    },
    {
     "data": {
      "application/vnd.jupyter.widget-view+json": {
       "model_id": "",
       "version_major": 2,
       "version_minor": 0
      },
      "text/plain": [
       "Validating: 0it [00:00, ?it/s]"
      ]
     },
     "metadata": {},
     "output_type": "display_data"
    },
    {
     "data": {
      "application/vnd.jupyter.widget-view+json": {
       "model_id": "",
       "version_major": 2,
       "version_minor": 0
      },
      "text/plain": [
       "Validating: 0it [00:00, ?it/s]"
      ]
     },
     "metadata": {},
     "output_type": "display_data"
    },
    {
     "data": {
      "application/vnd.jupyter.widget-view+json": {
       "model_id": "",
       "version_major": 2,
       "version_minor": 0
      },
      "text/plain": [
       "Validating: 0it [00:00, ?it/s]"
      ]
     },
     "metadata": {},
     "output_type": "display_data"
    },
    {
     "data": {
      "application/vnd.jupyter.widget-view+json": {
       "model_id": "",
       "version_major": 2,
       "version_minor": 0
      },
      "text/plain": [
       "Validating: 0it [00:00, ?it/s]"
      ]
     },
     "metadata": {},
     "output_type": "display_data"
    },
    {
     "data": {
      "application/vnd.jupyter.widget-view+json": {
       "model_id": "",
       "version_major": 2,
       "version_minor": 0
      },
      "text/plain": [
       "Validating: 0it [00:00, ?it/s]"
      ]
     },
     "metadata": {},
     "output_type": "display_data"
    },
    {
     "data": {
      "application/vnd.jupyter.widget-view+json": {
       "model_id": "",
       "version_major": 2,
       "version_minor": 0
      },
      "text/plain": [
       "Validating: 0it [00:00, ?it/s]"
      ]
     },
     "metadata": {},
     "output_type": "display_data"
    },
    {
     "data": {
      "application/vnd.jupyter.widget-view+json": {
       "model_id": "",
       "version_major": 2,
       "version_minor": 0
      },
      "text/plain": [
       "Validating: 0it [00:00, ?it/s]"
      ]
     },
     "metadata": {},
     "output_type": "display_data"
    },
    {
     "data": {
      "application/vnd.jupyter.widget-view+json": {
       "model_id": "",
       "version_major": 2,
       "version_minor": 0
      },
      "text/plain": [
       "Validating: 0it [00:00, ?it/s]"
      ]
     },
     "metadata": {},
     "output_type": "display_data"
    },
    {
     "data": {
      "application/vnd.jupyter.widget-view+json": {
       "model_id": "",
       "version_major": 2,
       "version_minor": 0
      },
      "text/plain": [
       "Validating: 0it [00:00, ?it/s]"
      ]
     },
     "metadata": {},
     "output_type": "display_data"
    },
    {
     "data": {
      "application/vnd.jupyter.widget-view+json": {
       "model_id": "",
       "version_major": 2,
       "version_minor": 0
      },
      "text/plain": [
       "Validating: 0it [00:00, ?it/s]"
      ]
     },
     "metadata": {},
     "output_type": "display_data"
    },
    {
     "data": {
      "application/vnd.jupyter.widget-view+json": {
       "model_id": "",
       "version_major": 2,
       "version_minor": 0
      },
      "text/plain": [
       "Validating: 0it [00:00, ?it/s]"
      ]
     },
     "metadata": {},
     "output_type": "display_data"
    },
    {
     "data": {
      "application/vnd.jupyter.widget-view+json": {
       "model_id": "",
       "version_major": 2,
       "version_minor": 0
      },
      "text/plain": [
       "Validating: 0it [00:00, ?it/s]"
      ]
     },
     "metadata": {},
     "output_type": "display_data"
    },
    {
     "data": {
      "application/vnd.jupyter.widget-view+json": {
       "model_id": "",
       "version_major": 2,
       "version_minor": 0
      },
      "text/plain": [
       "Validating: 0it [00:00, ?it/s]"
      ]
     },
     "metadata": {},
     "output_type": "display_data"
    },
    {
     "data": {
      "application/vnd.jupyter.widget-view+json": {
       "model_id": "",
       "version_major": 2,
       "version_minor": 0
      },
      "text/plain": [
       "Validating: 0it [00:00, ?it/s]"
      ]
     },
     "metadata": {},
     "output_type": "display_data"
    },
    {
     "data": {
      "application/vnd.jupyter.widget-view+json": {
       "model_id": "",
       "version_major": 2,
       "version_minor": 0
      },
      "text/plain": [
       "Validating: 0it [00:00, ?it/s]"
      ]
     },
     "metadata": {},
     "output_type": "display_data"
    },
    {
     "data": {
      "application/vnd.jupyter.widget-view+json": {
       "model_id": "",
       "version_major": 2,
       "version_minor": 0
      },
      "text/plain": [
       "Validating: 0it [00:00, ?it/s]"
      ]
     },
     "metadata": {},
     "output_type": "display_data"
    },
    {
     "data": {
      "application/vnd.jupyter.widget-view+json": {
       "model_id": "",
       "version_major": 2,
       "version_minor": 0
      },
      "text/plain": [
       "Validating: 0it [00:00, ?it/s]"
      ]
     },
     "metadata": {},
     "output_type": "display_data"
    },
    {
     "data": {
      "application/vnd.jupyter.widget-view+json": {
       "model_id": "",
       "version_major": 2,
       "version_minor": 0
      },
      "text/plain": [
       "Validating: 0it [00:00, ?it/s]"
      ]
     },
     "metadata": {},
     "output_type": "display_data"
    },
    {
     "data": {
      "application/vnd.jupyter.widget-view+json": {
       "model_id": "",
       "version_major": 2,
       "version_minor": 0
      },
      "text/plain": [
       "Validating: 0it [00:00, ?it/s]"
      ]
     },
     "metadata": {},
     "output_type": "display_data"
    },
    {
     "data": {
      "application/vnd.jupyter.widget-view+json": {
       "model_id": "",
       "version_major": 2,
       "version_minor": 0
      },
      "text/plain": [
       "Validating: 0it [00:00, ?it/s]"
      ]
     },
     "metadata": {},
     "output_type": "display_data"
    },
    {
     "data": {
      "application/vnd.jupyter.widget-view+json": {
       "model_id": "",
       "version_major": 2,
       "version_minor": 0
      },
      "text/plain": [
       "Validating: 0it [00:00, ?it/s]"
      ]
     },
     "metadata": {},
     "output_type": "display_data"
    },
    {
     "data": {
      "application/vnd.jupyter.widget-view+json": {
       "model_id": "",
       "version_major": 2,
       "version_minor": 0
      },
      "text/plain": [
       "Validating: 0it [00:00, ?it/s]"
      ]
     },
     "metadata": {},
     "output_type": "display_data"
    },
    {
     "data": {
      "application/vnd.jupyter.widget-view+json": {
       "model_id": "",
       "version_major": 2,
       "version_minor": 0
      },
      "text/plain": [
       "Validating: 0it [00:00, ?it/s]"
      ]
     },
     "metadata": {},
     "output_type": "display_data"
    },
    {
     "data": {
      "application/vnd.jupyter.widget-view+json": {
       "model_id": "",
       "version_major": 2,
       "version_minor": 0
      },
      "text/plain": [
       "Validating: 0it [00:00, ?it/s]"
      ]
     },
     "metadata": {},
     "output_type": "display_data"
    },
    {
     "data": {
      "application/vnd.jupyter.widget-view+json": {
       "model_id": "",
       "version_major": 2,
       "version_minor": 0
      },
      "text/plain": [
       "Validating: 0it [00:00, ?it/s]"
      ]
     },
     "metadata": {},
     "output_type": "display_data"
    },
    {
     "data": {
      "application/vnd.jupyter.widget-view+json": {
       "model_id": "",
       "version_major": 2,
       "version_minor": 0
      },
      "text/plain": [
       "Validating: 0it [00:00, ?it/s]"
      ]
     },
     "metadata": {},
     "output_type": "display_data"
    },
    {
     "data": {
      "application/vnd.jupyter.widget-view+json": {
       "model_id": "",
       "version_major": 2,
       "version_minor": 0
      },
      "text/plain": [
       "Validating: 0it [00:00, ?it/s]"
      ]
     },
     "metadata": {},
     "output_type": "display_data"
    },
    {
     "data": {
      "application/vnd.jupyter.widget-view+json": {
       "model_id": "",
       "version_major": 2,
       "version_minor": 0
      },
      "text/plain": [
       "Validating: 0it [00:00, ?it/s]"
      ]
     },
     "metadata": {},
     "output_type": "display_data"
    },
    {
     "data": {
      "application/vnd.jupyter.widget-view+json": {
       "model_id": "",
       "version_major": 2,
       "version_minor": 0
      },
      "text/plain": [
       "Validating: 0it [00:00, ?it/s]"
      ]
     },
     "metadata": {},
     "output_type": "display_data"
    },
    {
     "data": {
      "application/vnd.jupyter.widget-view+json": {
       "model_id": "",
       "version_major": 2,
       "version_minor": 0
      },
      "text/plain": [
       "Validating: 0it [00:00, ?it/s]"
      ]
     },
     "metadata": {},
     "output_type": "display_data"
    },
    {
     "data": {
      "application/vnd.jupyter.widget-view+json": {
       "model_id": "",
       "version_major": 2,
       "version_minor": 0
      },
      "text/plain": [
       "Validating: 0it [00:00, ?it/s]"
      ]
     },
     "metadata": {},
     "output_type": "display_data"
    },
    {
     "data": {
      "application/vnd.jupyter.widget-view+json": {
       "model_id": "",
       "version_major": 2,
       "version_minor": 0
      },
      "text/plain": [
       "Validating: 0it [00:00, ?it/s]"
      ]
     },
     "metadata": {},
     "output_type": "display_data"
    },
    {
     "data": {
      "application/vnd.jupyter.widget-view+json": {
       "model_id": "",
       "version_major": 2,
       "version_minor": 0
      },
      "text/plain": [
       "Validating: 0it [00:00, ?it/s]"
      ]
     },
     "metadata": {},
     "output_type": "display_data"
    },
    {
     "data": {
      "application/vnd.jupyter.widget-view+json": {
       "model_id": "",
       "version_major": 2,
       "version_minor": 0
      },
      "text/plain": [
       "Validating: 0it [00:00, ?it/s]"
      ]
     },
     "metadata": {},
     "output_type": "display_data"
    },
    {
     "data": {
      "application/vnd.jupyter.widget-view+json": {
       "model_id": "",
       "version_major": 2,
       "version_minor": 0
      },
      "text/plain": [
       "Validating: 0it [00:00, ?it/s]"
      ]
     },
     "metadata": {},
     "output_type": "display_data"
    },
    {
     "data": {
      "application/vnd.jupyter.widget-view+json": {
       "model_id": "",
       "version_major": 2,
       "version_minor": 0
      },
      "text/plain": [
       "Validating: 0it [00:00, ?it/s]"
      ]
     },
     "metadata": {},
     "output_type": "display_data"
    },
    {
     "data": {
      "application/vnd.jupyter.widget-view+json": {
       "model_id": "",
       "version_major": 2,
       "version_minor": 0
      },
      "text/plain": [
       "Validating: 0it [00:00, ?it/s]"
      ]
     },
     "metadata": {},
     "output_type": "display_data"
    },
    {
     "data": {
      "application/vnd.jupyter.widget-view+json": {
       "model_id": "",
       "version_major": 2,
       "version_minor": 0
      },
      "text/plain": [
       "Validating: 0it [00:00, ?it/s]"
      ]
     },
     "metadata": {},
     "output_type": "display_data"
    },
    {
     "data": {
      "application/vnd.jupyter.widget-view+json": {
       "model_id": "",
       "version_major": 2,
       "version_minor": 0
      },
      "text/plain": [
       "Validating: 0it [00:00, ?it/s]"
      ]
     },
     "metadata": {},
     "output_type": "display_data"
    },
    {
     "data": {
      "application/vnd.jupyter.widget-view+json": {
       "model_id": "",
       "version_major": 2,
       "version_minor": 0
      },
      "text/plain": [
       "Validating: 0it [00:00, ?it/s]"
      ]
     },
     "metadata": {},
     "output_type": "display_data"
    },
    {
     "data": {
      "application/vnd.jupyter.widget-view+json": {
       "model_id": "",
       "version_major": 2,
       "version_minor": 0
      },
      "text/plain": [
       "Validating: 0it [00:00, ?it/s]"
      ]
     },
     "metadata": {},
     "output_type": "display_data"
    },
    {
     "data": {
      "application/vnd.jupyter.widget-view+json": {
       "model_id": "",
       "version_major": 2,
       "version_minor": 0
      },
      "text/plain": [
       "Validating: 0it [00:00, ?it/s]"
      ]
     },
     "metadata": {},
     "output_type": "display_data"
    },
    {
     "data": {
      "application/vnd.jupyter.widget-view+json": {
       "model_id": "",
       "version_major": 2,
       "version_minor": 0
      },
      "text/plain": [
       "Validating: 0it [00:00, ?it/s]"
      ]
     },
     "metadata": {},
     "output_type": "display_data"
    },
    {
     "data": {
      "application/vnd.jupyter.widget-view+json": {
       "model_id": "",
       "version_major": 2,
       "version_minor": 0
      },
      "text/plain": [
       "Validating: 0it [00:00, ?it/s]"
      ]
     },
     "metadata": {},
     "output_type": "display_data"
    },
    {
     "data": {
      "application/vnd.jupyter.widget-view+json": {
       "model_id": "",
       "version_major": 2,
       "version_minor": 0
      },
      "text/plain": [
       "Validating: 0it [00:00, ?it/s]"
      ]
     },
     "metadata": {},
     "output_type": "display_data"
    },
    {
     "data": {
      "application/vnd.jupyter.widget-view+json": {
       "model_id": "",
       "version_major": 2,
       "version_minor": 0
      },
      "text/plain": [
       "Validating: 0it [00:00, ?it/s]"
      ]
     },
     "metadata": {},
     "output_type": "display_data"
    },
    {
     "data": {
      "application/vnd.jupyter.widget-view+json": {
       "model_id": "",
       "version_major": 2,
       "version_minor": 0
      },
      "text/plain": [
       "Validating: 0it [00:00, ?it/s]"
      ]
     },
     "metadata": {},
     "output_type": "display_data"
    },
    {
     "data": {
      "application/vnd.jupyter.widget-view+json": {
       "model_id": "",
       "version_major": 2,
       "version_minor": 0
      },
      "text/plain": [
       "Validating: 0it [00:00, ?it/s]"
      ]
     },
     "metadata": {},
     "output_type": "display_data"
    },
    {
     "data": {
      "application/vnd.jupyter.widget-view+json": {
       "model_id": "",
       "version_major": 2,
       "version_minor": 0
      },
      "text/plain": [
       "Validating: 0it [00:00, ?it/s]"
      ]
     },
     "metadata": {},
     "output_type": "display_data"
    },
    {
     "data": {
      "application/vnd.jupyter.widget-view+json": {
       "model_id": "",
       "version_major": 2,
       "version_minor": 0
      },
      "text/plain": [
       "Validating: 0it [00:00, ?it/s]"
      ]
     },
     "metadata": {},
     "output_type": "display_data"
    },
    {
     "data": {
      "application/vnd.jupyter.widget-view+json": {
       "model_id": "",
       "version_major": 2,
       "version_minor": 0
      },
      "text/plain": [
       "Validating: 0it [00:00, ?it/s]"
      ]
     },
     "metadata": {},
     "output_type": "display_data"
    },
    {
     "data": {
      "application/vnd.jupyter.widget-view+json": {
       "model_id": "",
       "version_major": 2,
       "version_minor": 0
      },
      "text/plain": [
       "Validating: 0it [00:00, ?it/s]"
      ]
     },
     "metadata": {},
     "output_type": "display_data"
    },
    {
     "data": {
      "application/vnd.jupyter.widget-view+json": {
       "model_id": "",
       "version_major": 2,
       "version_minor": 0
      },
      "text/plain": [
       "Validating: 0it [00:00, ?it/s]"
      ]
     },
     "metadata": {},
     "output_type": "display_data"
    },
    {
     "data": {
      "application/vnd.jupyter.widget-view+json": {
       "model_id": "",
       "version_major": 2,
       "version_minor": 0
      },
      "text/plain": [
       "Validating: 0it [00:00, ?it/s]"
      ]
     },
     "metadata": {},
     "output_type": "display_data"
    },
    {
     "data": {
      "application/vnd.jupyter.widget-view+json": {
       "model_id": "",
       "version_major": 2,
       "version_minor": 0
      },
      "text/plain": [
       "Validating: 0it [00:00, ?it/s]"
      ]
     },
     "metadata": {},
     "output_type": "display_data"
    },
    {
     "data": {
      "application/vnd.jupyter.widget-view+json": {
       "model_id": "",
       "version_major": 2,
       "version_minor": 0
      },
      "text/plain": [
       "Validating: 0it [00:00, ?it/s]"
      ]
     },
     "metadata": {},
     "output_type": "display_data"
    },
    {
     "data": {
      "application/vnd.jupyter.widget-view+json": {
       "model_id": "",
       "version_major": 2,
       "version_minor": 0
      },
      "text/plain": [
       "Validating: 0it [00:00, ?it/s]"
      ]
     },
     "metadata": {},
     "output_type": "display_data"
    },
    {
     "data": {
      "application/vnd.jupyter.widget-view+json": {
       "model_id": "",
       "version_major": 2,
       "version_minor": 0
      },
      "text/plain": [
       "Validating: 0it [00:00, ?it/s]"
      ]
     },
     "metadata": {},
     "output_type": "display_data"
    },
    {
     "data": {
      "application/vnd.jupyter.widget-view+json": {
       "model_id": "",
       "version_major": 2,
       "version_minor": 0
      },
      "text/plain": [
       "Validating: 0it [00:00, ?it/s]"
      ]
     },
     "metadata": {},
     "output_type": "display_data"
    },
    {
     "data": {
      "application/vnd.jupyter.widget-view+json": {
       "model_id": "",
       "version_major": 2,
       "version_minor": 0
      },
      "text/plain": [
       "Validating: 0it [00:00, ?it/s]"
      ]
     },
     "metadata": {},
     "output_type": "display_data"
    },
    {
     "data": {
      "application/vnd.jupyter.widget-view+json": {
       "model_id": "",
       "version_major": 2,
       "version_minor": 0
      },
      "text/plain": [
       "Validating: 0it [00:00, ?it/s]"
      ]
     },
     "metadata": {},
     "output_type": "display_data"
    },
    {
     "data": {
      "application/vnd.jupyter.widget-view+json": {
       "model_id": "",
       "version_major": 2,
       "version_minor": 0
      },
      "text/plain": [
       "Validating: 0it [00:00, ?it/s]"
      ]
     },
     "metadata": {},
     "output_type": "display_data"
    },
    {
     "data": {
      "application/vnd.jupyter.widget-view+json": {
       "model_id": "",
       "version_major": 2,
       "version_minor": 0
      },
      "text/plain": [
       "Validating: 0it [00:00, ?it/s]"
      ]
     },
     "metadata": {},
     "output_type": "display_data"
    },
    {
     "data": {
      "application/vnd.jupyter.widget-view+json": {
       "model_id": "",
       "version_major": 2,
       "version_minor": 0
      },
      "text/plain": [
       "Validating: 0it [00:00, ?it/s]"
      ]
     },
     "metadata": {},
     "output_type": "display_data"
    },
    {
     "data": {
      "application/vnd.jupyter.widget-view+json": {
       "model_id": "",
       "version_major": 2,
       "version_minor": 0
      },
      "text/plain": [
       "Validating: 0it [00:00, ?it/s]"
      ]
     },
     "metadata": {},
     "output_type": "display_data"
    },
    {
     "data": {
      "application/vnd.jupyter.widget-view+json": {
       "model_id": "",
       "version_major": 2,
       "version_minor": 0
      },
      "text/plain": [
       "Validating: 0it [00:00, ?it/s]"
      ]
     },
     "metadata": {},
     "output_type": "display_data"
    },
    {
     "data": {
      "application/vnd.jupyter.widget-view+json": {
       "model_id": "",
       "version_major": 2,
       "version_minor": 0
      },
      "text/plain": [
       "Validating: 0it [00:00, ?it/s]"
      ]
     },
     "metadata": {},
     "output_type": "display_data"
    },
    {
     "data": {
      "application/vnd.jupyter.widget-view+json": {
       "model_id": "",
       "version_major": 2,
       "version_minor": 0
      },
      "text/plain": [
       "Validating: 0it [00:00, ?it/s]"
      ]
     },
     "metadata": {},
     "output_type": "display_data"
    },
    {
     "data": {
      "application/vnd.jupyter.widget-view+json": {
       "model_id": "",
       "version_major": 2,
       "version_minor": 0
      },
      "text/plain": [
       "Validating: 0it [00:00, ?it/s]"
      ]
     },
     "metadata": {},
     "output_type": "display_data"
    },
    {
     "data": {
      "application/vnd.jupyter.widget-view+json": {
       "model_id": "",
       "version_major": 2,
       "version_minor": 0
      },
      "text/plain": [
       "Validating: 0it [00:00, ?it/s]"
      ]
     },
     "metadata": {},
     "output_type": "display_data"
    },
    {
     "data": {
      "application/vnd.jupyter.widget-view+json": {
       "model_id": "",
       "version_major": 2,
       "version_minor": 0
      },
      "text/plain": [
       "Validating: 0it [00:00, ?it/s]"
      ]
     },
     "metadata": {},
     "output_type": "display_data"
    },
    {
     "data": {
      "application/vnd.jupyter.widget-view+json": {
       "model_id": "",
       "version_major": 2,
       "version_minor": 0
      },
      "text/plain": [
       "Validating: 0it [00:00, ?it/s]"
      ]
     },
     "metadata": {},
     "output_type": "display_data"
    },
    {
     "data": {
      "application/vnd.jupyter.widget-view+json": {
       "model_id": "",
       "version_major": 2,
       "version_minor": 0
      },
      "text/plain": [
       "Validating: 0it [00:00, ?it/s]"
      ]
     },
     "metadata": {},
     "output_type": "display_data"
    },
    {
     "data": {
      "application/vnd.jupyter.widget-view+json": {
       "model_id": "",
       "version_major": 2,
       "version_minor": 0
      },
      "text/plain": [
       "Validating: 0it [00:00, ?it/s]"
      ]
     },
     "metadata": {},
     "output_type": "display_data"
    },
    {
     "data": {
      "application/vnd.jupyter.widget-view+json": {
       "model_id": "",
       "version_major": 2,
       "version_minor": 0
      },
      "text/plain": [
       "Validating: 0it [00:00, ?it/s]"
      ]
     },
     "metadata": {},
     "output_type": "display_data"
    },
    {
     "data": {
      "application/vnd.jupyter.widget-view+json": {
       "model_id": "",
       "version_major": 2,
       "version_minor": 0
      },
      "text/plain": [
       "Validating: 0it [00:00, ?it/s]"
      ]
     },
     "metadata": {},
     "output_type": "display_data"
    },
    {
     "data": {
      "application/vnd.jupyter.widget-view+json": {
       "model_id": "",
       "version_major": 2,
       "version_minor": 0
      },
      "text/plain": [
       "Validating: 0it [00:00, ?it/s]"
      ]
     },
     "metadata": {},
     "output_type": "display_data"
    },
    {
     "data": {
      "application/vnd.jupyter.widget-view+json": {
       "model_id": "",
       "version_major": 2,
       "version_minor": 0
      },
      "text/plain": [
       "Validating: 0it [00:00, ?it/s]"
      ]
     },
     "metadata": {},
     "output_type": "display_data"
    },
    {
     "data": {
      "application/vnd.jupyter.widget-view+json": {
       "model_id": "",
       "version_major": 2,
       "version_minor": 0
      },
      "text/plain": [
       "Validating: 0it [00:00, ?it/s]"
      ]
     },
     "metadata": {},
     "output_type": "display_data"
    },
    {
     "data": {
      "application/vnd.jupyter.widget-view+json": {
       "model_id": "",
       "version_major": 2,
       "version_minor": 0
      },
      "text/plain": [
       "Validating: 0it [00:00, ?it/s]"
      ]
     },
     "metadata": {},
     "output_type": "display_data"
    },
    {
     "data": {
      "application/vnd.jupyter.widget-view+json": {
       "model_id": "",
       "version_major": 2,
       "version_minor": 0
      },
      "text/plain": [
       "Validating: 0it [00:00, ?it/s]"
      ]
     },
     "metadata": {},
     "output_type": "display_data"
    },
    {
     "data": {
      "application/vnd.jupyter.widget-view+json": {
       "model_id": "",
       "version_major": 2,
       "version_minor": 0
      },
      "text/plain": [
       "Validating: 0it [00:00, ?it/s]"
      ]
     },
     "metadata": {},
     "output_type": "display_data"
    },
    {
     "data": {
      "application/vnd.jupyter.widget-view+json": {
       "model_id": "",
       "version_major": 2,
       "version_minor": 0
      },
      "text/plain": [
       "Validating: 0it [00:00, ?it/s]"
      ]
     },
     "metadata": {},
     "output_type": "display_data"
    },
    {
     "data": {
      "application/vnd.jupyter.widget-view+json": {
       "model_id": "",
       "version_major": 2,
       "version_minor": 0
      },
      "text/plain": [
       "Validating: 0it [00:00, ?it/s]"
      ]
     },
     "metadata": {},
     "output_type": "display_data"
    },
    {
     "data": {
      "application/vnd.jupyter.widget-view+json": {
       "model_id": "",
       "version_major": 2,
       "version_minor": 0
      },
      "text/plain": [
       "Validating: 0it [00:00, ?it/s]"
      ]
     },
     "metadata": {},
     "output_type": "display_data"
    },
    {
     "data": {
      "application/vnd.jupyter.widget-view+json": {
       "model_id": "",
       "version_major": 2,
       "version_minor": 0
      },
      "text/plain": [
       "Validating: 0it [00:00, ?it/s]"
      ]
     },
     "metadata": {},
     "output_type": "display_data"
    },
    {
     "data": {
      "application/vnd.jupyter.widget-view+json": {
       "model_id": "",
       "version_major": 2,
       "version_minor": 0
      },
      "text/plain": [
       "Validating: 0it [00:00, ?it/s]"
      ]
     },
     "metadata": {},
     "output_type": "display_data"
    },
    {
     "data": {
      "application/vnd.jupyter.widget-view+json": {
       "model_id": "",
       "version_major": 2,
       "version_minor": 0
      },
      "text/plain": [
       "Validating: 0it [00:00, ?it/s]"
      ]
     },
     "metadata": {},
     "output_type": "display_data"
    },
    {
     "data": {
      "application/vnd.jupyter.widget-view+json": {
       "model_id": "",
       "version_major": 2,
       "version_minor": 0
      },
      "text/plain": [
       "Validating: 0it [00:00, ?it/s]"
      ]
     },
     "metadata": {},
     "output_type": "display_data"
    },
    {
     "data": {
      "application/vnd.jupyter.widget-view+json": {
       "model_id": "",
       "version_major": 2,
       "version_minor": 0
      },
      "text/plain": [
       "Validating: 0it [00:00, ?it/s]"
      ]
     },
     "metadata": {},
     "output_type": "display_data"
    },
    {
     "data": {
      "application/vnd.jupyter.widget-view+json": {
       "model_id": "",
       "version_major": 2,
       "version_minor": 0
      },
      "text/plain": [
       "Validating: 0it [00:00, ?it/s]"
      ]
     },
     "metadata": {},
     "output_type": "display_data"
    },
    {
     "data": {
      "application/vnd.jupyter.widget-view+json": {
       "model_id": "",
       "version_major": 2,
       "version_minor": 0
      },
      "text/plain": [
       "Validating: 0it [00:00, ?it/s]"
      ]
     },
     "metadata": {},
     "output_type": "display_data"
    },
    {
     "data": {
      "application/vnd.jupyter.widget-view+json": {
       "model_id": "",
       "version_major": 2,
       "version_minor": 0
      },
      "text/plain": [
       "Validating: 0it [00:00, ?it/s]"
      ]
     },
     "metadata": {},
     "output_type": "display_data"
    },
    {
     "data": {
      "application/vnd.jupyter.widget-view+json": {
       "model_id": "",
       "version_major": 2,
       "version_minor": 0
      },
      "text/plain": [
       "Validating: 0it [00:00, ?it/s]"
      ]
     },
     "metadata": {},
     "output_type": "display_data"
    },
    {
     "data": {
      "application/vnd.jupyter.widget-view+json": {
       "model_id": "",
       "version_major": 2,
       "version_minor": 0
      },
      "text/plain": [
       "Validating: 0it [00:00, ?it/s]"
      ]
     },
     "metadata": {},
     "output_type": "display_data"
    },
    {
     "data": {
      "application/vnd.jupyter.widget-view+json": {
       "model_id": "",
       "version_major": 2,
       "version_minor": 0
      },
      "text/plain": [
       "Validating: 0it [00:00, ?it/s]"
      ]
     },
     "metadata": {},
     "output_type": "display_data"
    },
    {
     "data": {
      "application/vnd.jupyter.widget-view+json": {
       "model_id": "",
       "version_major": 2,
       "version_minor": 0
      },
      "text/plain": [
       "Validating: 0it [00:00, ?it/s]"
      ]
     },
     "metadata": {},
     "output_type": "display_data"
    },
    {
     "data": {
      "application/vnd.jupyter.widget-view+json": {
       "model_id": "",
       "version_major": 2,
       "version_minor": 0
      },
      "text/plain": [
       "Validating: 0it [00:00, ?it/s]"
      ]
     },
     "metadata": {},
     "output_type": "display_data"
    },
    {
     "data": {
      "application/vnd.jupyter.widget-view+json": {
       "model_id": "",
       "version_major": 2,
       "version_minor": 0
      },
      "text/plain": [
       "Validating: 0it [00:00, ?it/s]"
      ]
     },
     "metadata": {},
     "output_type": "display_data"
    },
    {
     "data": {
      "application/vnd.jupyter.widget-view+json": {
       "model_id": "",
       "version_major": 2,
       "version_minor": 0
      },
      "text/plain": [
       "Validating: 0it [00:00, ?it/s]"
      ]
     },
     "metadata": {},
     "output_type": "display_data"
    },
    {
     "data": {
      "application/vnd.jupyter.widget-view+json": {
       "model_id": "",
       "version_major": 2,
       "version_minor": 0
      },
      "text/plain": [
       "Validating: 0it [00:00, ?it/s]"
      ]
     },
     "metadata": {},
     "output_type": "display_data"
    },
    {
     "data": {
      "application/vnd.jupyter.widget-view+json": {
       "model_id": "",
       "version_major": 2,
       "version_minor": 0
      },
      "text/plain": [
       "Validating: 0it [00:00, ?it/s]"
      ]
     },
     "metadata": {},
     "output_type": "display_data"
    },
    {
     "data": {
      "application/vnd.jupyter.widget-view+json": {
       "model_id": "",
       "version_major": 2,
       "version_minor": 0
      },
      "text/plain": [
       "Validating: 0it [00:00, ?it/s]"
      ]
     },
     "metadata": {},
     "output_type": "display_data"
    },
    {
     "data": {
      "application/vnd.jupyter.widget-view+json": {
       "model_id": "",
       "version_major": 2,
       "version_minor": 0
      },
      "text/plain": [
       "Validating: 0it [00:00, ?it/s]"
      ]
     },
     "metadata": {},
     "output_type": "display_data"
    },
    {
     "data": {
      "application/vnd.jupyter.widget-view+json": {
       "model_id": "",
       "version_major": 2,
       "version_minor": 0
      },
      "text/plain": [
       "Validating: 0it [00:00, ?it/s]"
      ]
     },
     "metadata": {},
     "output_type": "display_data"
    },
    {
     "data": {
      "application/vnd.jupyter.widget-view+json": {
       "model_id": "",
       "version_major": 2,
       "version_minor": 0
      },
      "text/plain": [
       "Validating: 0it [00:00, ?it/s]"
      ]
     },
     "metadata": {},
     "output_type": "display_data"
    },
    {
     "data": {
      "application/vnd.jupyter.widget-view+json": {
       "model_id": "",
       "version_major": 2,
       "version_minor": 0
      },
      "text/plain": [
       "Validating: 0it [00:00, ?it/s]"
      ]
     },
     "metadata": {},
     "output_type": "display_data"
    },
    {
     "data": {
      "application/vnd.jupyter.widget-view+json": {
       "model_id": "",
       "version_major": 2,
       "version_minor": 0
      },
      "text/plain": [
       "Validating: 0it [00:00, ?it/s]"
      ]
     },
     "metadata": {},
     "output_type": "display_data"
    },
    {
     "data": {
      "application/vnd.jupyter.widget-view+json": {
       "model_id": "",
       "version_major": 2,
       "version_minor": 0
      },
      "text/plain": [
       "Validating: 0it [00:00, ?it/s]"
      ]
     },
     "metadata": {},
     "output_type": "display_data"
    },
    {
     "data": {
      "application/vnd.jupyter.widget-view+json": {
       "model_id": "",
       "version_major": 2,
       "version_minor": 0
      },
      "text/plain": [
       "Validating: 0it [00:00, ?it/s]"
      ]
     },
     "metadata": {},
     "output_type": "display_data"
    },
    {
     "data": {
      "application/vnd.jupyter.widget-view+json": {
       "model_id": "",
       "version_major": 2,
       "version_minor": 0
      },
      "text/plain": [
       "Validating: 0it [00:00, ?it/s]"
      ]
     },
     "metadata": {},
     "output_type": "display_data"
    },
    {
     "data": {
      "application/vnd.jupyter.widget-view+json": {
       "model_id": "",
       "version_major": 2,
       "version_minor": 0
      },
      "text/plain": [
       "Validating: 0it [00:00, ?it/s]"
      ]
     },
     "metadata": {},
     "output_type": "display_data"
    },
    {
     "data": {
      "application/vnd.jupyter.widget-view+json": {
       "model_id": "",
       "version_major": 2,
       "version_minor": 0
      },
      "text/plain": [
       "Validating: 0it [00:00, ?it/s]"
      ]
     },
     "metadata": {},
     "output_type": "display_data"
    },
    {
     "data": {
      "application/vnd.jupyter.widget-view+json": {
       "model_id": "",
       "version_major": 2,
       "version_minor": 0
      },
      "text/plain": [
       "Validating: 0it [00:00, ?it/s]"
      ]
     },
     "metadata": {},
     "output_type": "display_data"
    },
    {
     "data": {
      "application/vnd.jupyter.widget-view+json": {
       "model_id": "",
       "version_major": 2,
       "version_minor": 0
      },
      "text/plain": [
       "Validating: 0it [00:00, ?it/s]"
      ]
     },
     "metadata": {},
     "output_type": "display_data"
    },
    {
     "data": {
      "application/vnd.jupyter.widget-view+json": {
       "model_id": "",
       "version_major": 2,
       "version_minor": 0
      },
      "text/plain": [
       "Validating: 0it [00:00, ?it/s]"
      ]
     },
     "metadata": {},
     "output_type": "display_data"
    },
    {
     "data": {
      "application/vnd.jupyter.widget-view+json": {
       "model_id": "",
       "version_major": 2,
       "version_minor": 0
      },
      "text/plain": [
       "Validating: 0it [00:00, ?it/s]"
      ]
     },
     "metadata": {},
     "output_type": "display_data"
    },
    {
     "data": {
      "application/vnd.jupyter.widget-view+json": {
       "model_id": "",
       "version_major": 2,
       "version_minor": 0
      },
      "text/plain": [
       "Validating: 0it [00:00, ?it/s]"
      ]
     },
     "metadata": {},
     "output_type": "display_data"
    },
    {
     "data": {
      "application/vnd.jupyter.widget-view+json": {
       "model_id": "",
       "version_major": 2,
       "version_minor": 0
      },
      "text/plain": [
       "Validating: 0it [00:00, ?it/s]"
      ]
     },
     "metadata": {},
     "output_type": "display_data"
    },
    {
     "data": {
      "application/vnd.jupyter.widget-view+json": {
       "model_id": "",
       "version_major": 2,
       "version_minor": 0
      },
      "text/plain": [
       "Validating: 0it [00:00, ?it/s]"
      ]
     },
     "metadata": {},
     "output_type": "display_data"
    },
    {
     "data": {
      "application/vnd.jupyter.widget-view+json": {
       "model_id": "",
       "version_major": 2,
       "version_minor": 0
      },
      "text/plain": [
       "Validating: 0it [00:00, ?it/s]"
      ]
     },
     "metadata": {},
     "output_type": "display_data"
    },
    {
     "data": {
      "application/vnd.jupyter.widget-view+json": {
       "model_id": "",
       "version_major": 2,
       "version_minor": 0
      },
      "text/plain": [
       "Validating: 0it [00:00, ?it/s]"
      ]
     },
     "metadata": {},
     "output_type": "display_data"
    },
    {
     "data": {
      "application/vnd.jupyter.widget-view+json": {
       "model_id": "",
       "version_major": 2,
       "version_minor": 0
      },
      "text/plain": [
       "Validating: 0it [00:00, ?it/s]"
      ]
     },
     "metadata": {},
     "output_type": "display_data"
    },
    {
     "data": {
      "application/vnd.jupyter.widget-view+json": {
       "model_id": "",
       "version_major": 2,
       "version_minor": 0
      },
      "text/plain": [
       "Validating: 0it [00:00, ?it/s]"
      ]
     },
     "metadata": {},
     "output_type": "display_data"
    },
    {
     "data": {
      "application/vnd.jupyter.widget-view+json": {
       "model_id": "",
       "version_major": 2,
       "version_minor": 0
      },
      "text/plain": [
       "Validating: 0it [00:00, ?it/s]"
      ]
     },
     "metadata": {},
     "output_type": "display_data"
    },
    {
     "data": {
      "application/vnd.jupyter.widget-view+json": {
       "model_id": "",
       "version_major": 2,
       "version_minor": 0
      },
      "text/plain": [
       "Validating: 0it [00:00, ?it/s]"
      ]
     },
     "metadata": {},
     "output_type": "display_data"
    },
    {
     "data": {
      "application/vnd.jupyter.widget-view+json": {
       "model_id": "",
       "version_major": 2,
       "version_minor": 0
      },
      "text/plain": [
       "Validating: 0it [00:00, ?it/s]"
      ]
     },
     "metadata": {},
     "output_type": "display_data"
    },
    {
     "data": {
      "application/vnd.jupyter.widget-view+json": {
       "model_id": "",
       "version_major": 2,
       "version_minor": 0
      },
      "text/plain": [
       "Validating: 0it [00:00, ?it/s]"
      ]
     },
     "metadata": {},
     "output_type": "display_data"
    },
    {
     "data": {
      "application/vnd.jupyter.widget-view+json": {
       "model_id": "",
       "version_major": 2,
       "version_minor": 0
      },
      "text/plain": [
       "Validating: 0it [00:00, ?it/s]"
      ]
     },
     "metadata": {},
     "output_type": "display_data"
    },
    {
     "data": {
      "application/vnd.jupyter.widget-view+json": {
       "model_id": "",
       "version_major": 2,
       "version_minor": 0
      },
      "text/plain": [
       "Validating: 0it [00:00, ?it/s]"
      ]
     },
     "metadata": {},
     "output_type": "display_data"
    },
    {
     "data": {
      "application/vnd.jupyter.widget-view+json": {
       "model_id": "",
       "version_major": 2,
       "version_minor": 0
      },
      "text/plain": [
       "Validating: 0it [00:00, ?it/s]"
      ]
     },
     "metadata": {},
     "output_type": "display_data"
    },
    {
     "data": {
      "application/vnd.jupyter.widget-view+json": {
       "model_id": "",
       "version_major": 2,
       "version_minor": 0
      },
      "text/plain": [
       "Validating: 0it [00:00, ?it/s]"
      ]
     },
     "metadata": {},
     "output_type": "display_data"
    },
    {
     "data": {
      "application/vnd.jupyter.widget-view+json": {
       "model_id": "",
       "version_major": 2,
       "version_minor": 0
      },
      "text/plain": [
       "Validating: 0it [00:00, ?it/s]"
      ]
     },
     "metadata": {},
     "output_type": "display_data"
    },
    {
     "data": {
      "application/vnd.jupyter.widget-view+json": {
       "model_id": "",
       "version_major": 2,
       "version_minor": 0
      },
      "text/plain": [
       "Validating: 0it [00:00, ?it/s]"
      ]
     },
     "metadata": {},
     "output_type": "display_data"
    },
    {
     "data": {
      "application/vnd.jupyter.widget-view+json": {
       "model_id": "",
       "version_major": 2,
       "version_minor": 0
      },
      "text/plain": [
       "Validating: 0it [00:00, ?it/s]"
      ]
     },
     "metadata": {},
     "output_type": "display_data"
    },
    {
     "data": {
      "application/vnd.jupyter.widget-view+json": {
       "model_id": "",
       "version_major": 2,
       "version_minor": 0
      },
      "text/plain": [
       "Validating: 0it [00:00, ?it/s]"
      ]
     },
     "metadata": {},
     "output_type": "display_data"
    },
    {
     "data": {
      "application/vnd.jupyter.widget-view+json": {
       "model_id": "",
       "version_major": 2,
       "version_minor": 0
      },
      "text/plain": [
       "Validating: 0it [00:00, ?it/s]"
      ]
     },
     "metadata": {},
     "output_type": "display_data"
    },
    {
     "data": {
      "application/vnd.jupyter.widget-view+json": {
       "model_id": "",
       "version_major": 2,
       "version_minor": 0
      },
      "text/plain": [
       "Validating: 0it [00:00, ?it/s]"
      ]
     },
     "metadata": {},
     "output_type": "display_data"
    },
    {
     "data": {
      "application/vnd.jupyter.widget-view+json": {
       "model_id": "",
       "version_major": 2,
       "version_minor": 0
      },
      "text/plain": [
       "Validating: 0it [00:00, ?it/s]"
      ]
     },
     "metadata": {},
     "output_type": "display_data"
    },
    {
     "data": {
      "application/vnd.jupyter.widget-view+json": {
       "model_id": "",
       "version_major": 2,
       "version_minor": 0
      },
      "text/plain": [
       "Validating: 0it [00:00, ?it/s]"
      ]
     },
     "metadata": {},
     "output_type": "display_data"
    },
    {
     "data": {
      "application/vnd.jupyter.widget-view+json": {
       "model_id": "",
       "version_major": 2,
       "version_minor": 0
      },
      "text/plain": [
       "Validating: 0it [00:00, ?it/s]"
      ]
     },
     "metadata": {},
     "output_type": "display_data"
    },
    {
     "data": {
      "application/vnd.jupyter.widget-view+json": {
       "model_id": "",
       "version_major": 2,
       "version_minor": 0
      },
      "text/plain": [
       "Validating: 0it [00:00, ?it/s]"
      ]
     },
     "metadata": {},
     "output_type": "display_data"
    },
    {
     "data": {
      "application/vnd.jupyter.widget-view+json": {
       "model_id": "",
       "version_major": 2,
       "version_minor": 0
      },
      "text/plain": [
       "Validating: 0it [00:00, ?it/s]"
      ]
     },
     "metadata": {},
     "output_type": "display_data"
    },
    {
     "data": {
      "application/vnd.jupyter.widget-view+json": {
       "model_id": "",
       "version_major": 2,
       "version_minor": 0
      },
      "text/plain": [
       "Validating: 0it [00:00, ?it/s]"
      ]
     },
     "metadata": {},
     "output_type": "display_data"
    },
    {
     "data": {
      "application/vnd.jupyter.widget-view+json": {
       "model_id": "",
       "version_major": 2,
       "version_minor": 0
      },
      "text/plain": [
       "Validating: 0it [00:00, ?it/s]"
      ]
     },
     "metadata": {},
     "output_type": "display_data"
    },
    {
     "data": {
      "application/vnd.jupyter.widget-view+json": {
       "model_id": "",
       "version_major": 2,
       "version_minor": 0
      },
      "text/plain": [
       "Validating: 0it [00:00, ?it/s]"
      ]
     },
     "metadata": {},
     "output_type": "display_data"
    },
    {
     "data": {
      "application/vnd.jupyter.widget-view+json": {
       "model_id": "",
       "version_major": 2,
       "version_minor": 0
      },
      "text/plain": [
       "Validating: 0it [00:00, ?it/s]"
      ]
     },
     "metadata": {},
     "output_type": "display_data"
    },
    {
     "data": {
      "application/vnd.jupyter.widget-view+json": {
       "model_id": "",
       "version_major": 2,
       "version_minor": 0
      },
      "text/plain": [
       "Validating: 0it [00:00, ?it/s]"
      ]
     },
     "metadata": {},
     "output_type": "display_data"
    },
    {
     "data": {
      "application/vnd.jupyter.widget-view+json": {
       "model_id": "",
       "version_major": 2,
       "version_minor": 0
      },
      "text/plain": [
       "Validating: 0it [00:00, ?it/s]"
      ]
     },
     "metadata": {},
     "output_type": "display_data"
    },
    {
     "data": {
      "application/vnd.jupyter.widget-view+json": {
       "model_id": "",
       "version_major": 2,
       "version_minor": 0
      },
      "text/plain": [
       "Validating: 0it [00:00, ?it/s]"
      ]
     },
     "metadata": {},
     "output_type": "display_data"
    },
    {
     "data": {
      "application/vnd.jupyter.widget-view+json": {
       "model_id": "",
       "version_major": 2,
       "version_minor": 0
      },
      "text/plain": [
       "Validating: 0it [00:00, ?it/s]"
      ]
     },
     "metadata": {},
     "output_type": "display_data"
    },
    {
     "data": {
      "application/vnd.jupyter.widget-view+json": {
       "model_id": "",
       "version_major": 2,
       "version_minor": 0
      },
      "text/plain": [
       "Validating: 0it [00:00, ?it/s]"
      ]
     },
     "metadata": {},
     "output_type": "display_data"
    },
    {
     "data": {
      "application/vnd.jupyter.widget-view+json": {
       "model_id": "",
       "version_major": 2,
       "version_minor": 0
      },
      "text/plain": [
       "Validating: 0it [00:00, ?it/s]"
      ]
     },
     "metadata": {},
     "output_type": "display_data"
    },
    {
     "data": {
      "application/vnd.jupyter.widget-view+json": {
       "model_id": "",
       "version_major": 2,
       "version_minor": 0
      },
      "text/plain": [
       "Validating: 0it [00:00, ?it/s]"
      ]
     },
     "metadata": {},
     "output_type": "display_data"
    },
    {
     "data": {
      "application/vnd.jupyter.widget-view+json": {
       "model_id": "",
       "version_major": 2,
       "version_minor": 0
      },
      "text/plain": [
       "Validating: 0it [00:00, ?it/s]"
      ]
     },
     "metadata": {},
     "output_type": "display_data"
    },
    {
     "data": {
      "application/vnd.jupyter.widget-view+json": {
       "model_id": "",
       "version_major": 2,
       "version_minor": 0
      },
      "text/plain": [
       "Validating: 0it [00:00, ?it/s]"
      ]
     },
     "metadata": {},
     "output_type": "display_data"
    },
    {
     "data": {
      "application/vnd.jupyter.widget-view+json": {
       "model_id": "",
       "version_major": 2,
       "version_minor": 0
      },
      "text/plain": [
       "Validating: 0it [00:00, ?it/s]"
      ]
     },
     "metadata": {},
     "output_type": "display_data"
    },
    {
     "data": {
      "application/vnd.jupyter.widget-view+json": {
       "model_id": "",
       "version_major": 2,
       "version_minor": 0
      },
      "text/plain": [
       "Validating: 0it [00:00, ?it/s]"
      ]
     },
     "metadata": {},
     "output_type": "display_data"
    },
    {
     "data": {
      "application/vnd.jupyter.widget-view+json": {
       "model_id": "",
       "version_major": 2,
       "version_minor": 0
      },
      "text/plain": [
       "Validating: 0it [00:00, ?it/s]"
      ]
     },
     "metadata": {},
     "output_type": "display_data"
    },
    {
     "data": {
      "application/vnd.jupyter.widget-view+json": {
       "model_id": "",
       "version_major": 2,
       "version_minor": 0
      },
      "text/plain": [
       "Validating: 0it [00:00, ?it/s]"
      ]
     },
     "metadata": {},
     "output_type": "display_data"
    },
    {
     "data": {
      "application/vnd.jupyter.widget-view+json": {
       "model_id": "",
       "version_major": 2,
       "version_minor": 0
      },
      "text/plain": [
       "Validating: 0it [00:00, ?it/s]"
      ]
     },
     "metadata": {},
     "output_type": "display_data"
    },
    {
     "data": {
      "application/vnd.jupyter.widget-view+json": {
       "model_id": "",
       "version_major": 2,
       "version_minor": 0
      },
      "text/plain": [
       "Validating: 0it [00:00, ?it/s]"
      ]
     },
     "metadata": {},
     "output_type": "display_data"
    },
    {
     "data": {
      "application/vnd.jupyter.widget-view+json": {
       "model_id": "",
       "version_major": 2,
       "version_minor": 0
      },
      "text/plain": [
       "Validating: 0it [00:00, ?it/s]"
      ]
     },
     "metadata": {},
     "output_type": "display_data"
    },
    {
     "data": {
      "application/vnd.jupyter.widget-view+json": {
       "model_id": "",
       "version_major": 2,
       "version_minor": 0
      },
      "text/plain": [
       "Validating: 0it [00:00, ?it/s]"
      ]
     },
     "metadata": {},
     "output_type": "display_data"
    },
    {
     "data": {
      "application/vnd.jupyter.widget-view+json": {
       "model_id": "",
       "version_major": 2,
       "version_minor": 0
      },
      "text/plain": [
       "Validating: 0it [00:00, ?it/s]"
      ]
     },
     "metadata": {},
     "output_type": "display_data"
    },
    {
     "data": {
      "application/vnd.jupyter.widget-view+json": {
       "model_id": "",
       "version_major": 2,
       "version_minor": 0
      },
      "text/plain": [
       "Validating: 0it [00:00, ?it/s]"
      ]
     },
     "metadata": {},
     "output_type": "display_data"
    },
    {
     "data": {
      "application/vnd.jupyter.widget-view+json": {
       "model_id": "",
       "version_major": 2,
       "version_minor": 0
      },
      "text/plain": [
       "Validating: 0it [00:00, ?it/s]"
      ]
     },
     "metadata": {},
     "output_type": "display_data"
    },
    {
     "data": {
      "application/vnd.jupyter.widget-view+json": {
       "model_id": "",
       "version_major": 2,
       "version_minor": 0
      },
      "text/plain": [
       "Validating: 0it [00:00, ?it/s]"
      ]
     },
     "metadata": {},
     "output_type": "display_data"
    },
    {
     "data": {
      "application/vnd.jupyter.widget-view+json": {
       "model_id": "",
       "version_major": 2,
       "version_minor": 0
      },
      "text/plain": [
       "Validating: 0it [00:00, ?it/s]"
      ]
     },
     "metadata": {},
     "output_type": "display_data"
    },
    {
     "data": {
      "application/vnd.jupyter.widget-view+json": {
       "model_id": "",
       "version_major": 2,
       "version_minor": 0
      },
      "text/plain": [
       "Validating: 0it [00:00, ?it/s]"
      ]
     },
     "metadata": {},
     "output_type": "display_data"
    },
    {
     "data": {
      "application/vnd.jupyter.widget-view+json": {
       "model_id": "",
       "version_major": 2,
       "version_minor": 0
      },
      "text/plain": [
       "Validating: 0it [00:00, ?it/s]"
      ]
     },
     "metadata": {},
     "output_type": "display_data"
    },
    {
     "data": {
      "application/vnd.jupyter.widget-view+json": {
       "model_id": "",
       "version_major": 2,
       "version_minor": 0
      },
      "text/plain": [
       "Validating: 0it [00:00, ?it/s]"
      ]
     },
     "metadata": {},
     "output_type": "display_data"
    },
    {
     "data": {
      "application/vnd.jupyter.widget-view+json": {
       "model_id": "",
       "version_major": 2,
       "version_minor": 0
      },
      "text/plain": [
       "Validating: 0it [00:00, ?it/s]"
      ]
     },
     "metadata": {},
     "output_type": "display_data"
    },
    {
     "data": {
      "application/vnd.jupyter.widget-view+json": {
       "model_id": "",
       "version_major": 2,
       "version_minor": 0
      },
      "text/plain": [
       "Validating: 0it [00:00, ?it/s]"
      ]
     },
     "metadata": {},
     "output_type": "display_data"
    },
    {
     "data": {
      "application/vnd.jupyter.widget-view+json": {
       "model_id": "",
       "version_major": 2,
       "version_minor": 0
      },
      "text/plain": [
       "Validating: 0it [00:00, ?it/s]"
      ]
     },
     "metadata": {},
     "output_type": "display_data"
    },
    {
     "data": {
      "application/vnd.jupyter.widget-view+json": {
       "model_id": "",
       "version_major": 2,
       "version_minor": 0
      },
      "text/plain": [
       "Validating: 0it [00:00, ?it/s]"
      ]
     },
     "metadata": {},
     "output_type": "display_data"
    },
    {
     "data": {
      "application/vnd.jupyter.widget-view+json": {
       "model_id": "",
       "version_major": 2,
       "version_minor": 0
      },
      "text/plain": [
       "Validating: 0it [00:00, ?it/s]"
      ]
     },
     "metadata": {},
     "output_type": "display_data"
    },
    {
     "data": {
      "application/vnd.jupyter.widget-view+json": {
       "model_id": "",
       "version_major": 2,
       "version_minor": 0
      },
      "text/plain": [
       "Validating: 0it [00:00, ?it/s]"
      ]
     },
     "metadata": {},
     "output_type": "display_data"
    },
    {
     "data": {
      "application/vnd.jupyter.widget-view+json": {
       "model_id": "",
       "version_major": 2,
       "version_minor": 0
      },
      "text/plain": [
       "Validating: 0it [00:00, ?it/s]"
      ]
     },
     "metadata": {},
     "output_type": "display_data"
    },
    {
     "data": {
      "application/vnd.jupyter.widget-view+json": {
       "model_id": "",
       "version_major": 2,
       "version_minor": 0
      },
      "text/plain": [
       "Validating: 0it [00:00, ?it/s]"
      ]
     },
     "metadata": {},
     "output_type": "display_data"
    },
    {
     "data": {
      "application/vnd.jupyter.widget-view+json": {
       "model_id": "",
       "version_major": 2,
       "version_minor": 0
      },
      "text/plain": [
       "Validating: 0it [00:00, ?it/s]"
      ]
     },
     "metadata": {},
     "output_type": "display_data"
    },
    {
     "data": {
      "application/vnd.jupyter.widget-view+json": {
       "model_id": "",
       "version_major": 2,
       "version_minor": 0
      },
      "text/plain": [
       "Validating: 0it [00:00, ?it/s]"
      ]
     },
     "metadata": {},
     "output_type": "display_data"
    },
    {
     "data": {
      "application/vnd.jupyter.widget-view+json": {
       "model_id": "",
       "version_major": 2,
       "version_minor": 0
      },
      "text/plain": [
       "Validating: 0it [00:00, ?it/s]"
      ]
     },
     "metadata": {},
     "output_type": "display_data"
    },
    {
     "data": {
      "application/vnd.jupyter.widget-view+json": {
       "model_id": "",
       "version_major": 2,
       "version_minor": 0
      },
      "text/plain": [
       "Validating: 0it [00:00, ?it/s]"
      ]
     },
     "metadata": {},
     "output_type": "display_data"
    },
    {
     "data": {
      "application/vnd.jupyter.widget-view+json": {
       "model_id": "",
       "version_major": 2,
       "version_minor": 0
      },
      "text/plain": [
       "Validating: 0it [00:00, ?it/s]"
      ]
     },
     "metadata": {},
     "output_type": "display_data"
    },
    {
     "data": {
      "application/vnd.jupyter.widget-view+json": {
       "model_id": "",
       "version_major": 2,
       "version_minor": 0
      },
      "text/plain": [
       "Validating: 0it [00:00, ?it/s]"
      ]
     },
     "metadata": {},
     "output_type": "display_data"
    },
    {
     "data": {
      "application/vnd.jupyter.widget-view+json": {
       "model_id": "",
       "version_major": 2,
       "version_minor": 0
      },
      "text/plain": [
       "Validating: 0it [00:00, ?it/s]"
      ]
     },
     "metadata": {},
     "output_type": "display_data"
    },
    {
     "data": {
      "application/vnd.jupyter.widget-view+json": {
       "model_id": "",
       "version_major": 2,
       "version_minor": 0
      },
      "text/plain": [
       "Validating: 0it [00:00, ?it/s]"
      ]
     },
     "metadata": {},
     "output_type": "display_data"
    },
    {
     "data": {
      "application/vnd.jupyter.widget-view+json": {
       "model_id": "",
       "version_major": 2,
       "version_minor": 0
      },
      "text/plain": [
       "Validating: 0it [00:00, ?it/s]"
      ]
     },
     "metadata": {},
     "output_type": "display_data"
    },
    {
     "data": {
      "application/vnd.jupyter.widget-view+json": {
       "model_id": "",
       "version_major": 2,
       "version_minor": 0
      },
      "text/plain": [
       "Validating: 0it [00:00, ?it/s]"
      ]
     },
     "metadata": {},
     "output_type": "display_data"
    },
    {
     "data": {
      "application/vnd.jupyter.widget-view+json": {
       "model_id": "",
       "version_major": 2,
       "version_minor": 0
      },
      "text/plain": [
       "Validating: 0it [00:00, ?it/s]"
      ]
     },
     "metadata": {},
     "output_type": "display_data"
    },
    {
     "data": {
      "application/vnd.jupyter.widget-view+json": {
       "model_id": "",
       "version_major": 2,
       "version_minor": 0
      },
      "text/plain": [
       "Validating: 0it [00:00, ?it/s]"
      ]
     },
     "metadata": {},
     "output_type": "display_data"
    },
    {
     "data": {
      "application/vnd.jupyter.widget-view+json": {
       "model_id": "",
       "version_major": 2,
       "version_minor": 0
      },
      "text/plain": [
       "Validating: 0it [00:00, ?it/s]"
      ]
     },
     "metadata": {},
     "output_type": "display_data"
    },
    {
     "data": {
      "application/vnd.jupyter.widget-view+json": {
       "model_id": "",
       "version_major": 2,
       "version_minor": 0
      },
      "text/plain": [
       "Validating: 0it [00:00, ?it/s]"
      ]
     },
     "metadata": {},
     "output_type": "display_data"
    },
    {
     "data": {
      "application/vnd.jupyter.widget-view+json": {
       "model_id": "",
       "version_major": 2,
       "version_minor": 0
      },
      "text/plain": [
       "Validating: 0it [00:00, ?it/s]"
      ]
     },
     "metadata": {},
     "output_type": "display_data"
    },
    {
     "data": {
      "application/vnd.jupyter.widget-view+json": {
       "model_id": "",
       "version_major": 2,
       "version_minor": 0
      },
      "text/plain": [
       "Validating: 0it [00:00, ?it/s]"
      ]
     },
     "metadata": {},
     "output_type": "display_data"
    },
    {
     "data": {
      "application/vnd.jupyter.widget-view+json": {
       "model_id": "",
       "version_major": 2,
       "version_minor": 0
      },
      "text/plain": [
       "Validating: 0it [00:00, ?it/s]"
      ]
     },
     "metadata": {},
     "output_type": "display_data"
    },
    {
     "data": {
      "application/vnd.jupyter.widget-view+json": {
       "model_id": "",
       "version_major": 2,
       "version_minor": 0
      },
      "text/plain": [
       "Validating: 0it [00:00, ?it/s]"
      ]
     },
     "metadata": {},
     "output_type": "display_data"
    },
    {
     "data": {
      "application/vnd.jupyter.widget-view+json": {
       "model_id": "",
       "version_major": 2,
       "version_minor": 0
      },
      "text/plain": [
       "Validating: 0it [00:00, ?it/s]"
      ]
     },
     "metadata": {},
     "output_type": "display_data"
    },
    {
     "data": {
      "application/vnd.jupyter.widget-view+json": {
       "model_id": "",
       "version_major": 2,
       "version_minor": 0
      },
      "text/plain": [
       "Validating: 0it [00:00, ?it/s]"
      ]
     },
     "metadata": {},
     "output_type": "display_data"
    },
    {
     "data": {
      "application/vnd.jupyter.widget-view+json": {
       "model_id": "",
       "version_major": 2,
       "version_minor": 0
      },
      "text/plain": [
       "Validating: 0it [00:00, ?it/s]"
      ]
     },
     "metadata": {},
     "output_type": "display_data"
    },
    {
     "data": {
      "application/vnd.jupyter.widget-view+json": {
       "model_id": "",
       "version_major": 2,
       "version_minor": 0
      },
      "text/plain": [
       "Validating: 0it [00:00, ?it/s]"
      ]
     },
     "metadata": {},
     "output_type": "display_data"
    },
    {
     "data": {
      "application/vnd.jupyter.widget-view+json": {
       "model_id": "",
       "version_major": 2,
       "version_minor": 0
      },
      "text/plain": [
       "Validating: 0it [00:00, ?it/s]"
      ]
     },
     "metadata": {},
     "output_type": "display_data"
    },
    {
     "data": {
      "application/vnd.jupyter.widget-view+json": {
       "model_id": "",
       "version_major": 2,
       "version_minor": 0
      },
      "text/plain": [
       "Validating: 0it [00:00, ?it/s]"
      ]
     },
     "metadata": {},
     "output_type": "display_data"
    },
    {
     "data": {
      "application/vnd.jupyter.widget-view+json": {
       "model_id": "",
       "version_major": 2,
       "version_minor": 0
      },
      "text/plain": [
       "Validating: 0it [00:00, ?it/s]"
      ]
     },
     "metadata": {},
     "output_type": "display_data"
    },
    {
     "data": {
      "application/vnd.jupyter.widget-view+json": {
       "model_id": "",
       "version_major": 2,
       "version_minor": 0
      },
      "text/plain": [
       "Validating: 0it [00:00, ?it/s]"
      ]
     },
     "metadata": {},
     "output_type": "display_data"
    },
    {
     "data": {
      "application/vnd.jupyter.widget-view+json": {
       "model_id": "",
       "version_major": 2,
       "version_minor": 0
      },
      "text/plain": [
       "Validating: 0it [00:00, ?it/s]"
      ]
     },
     "metadata": {},
     "output_type": "display_data"
    },
    {
     "data": {
      "application/vnd.jupyter.widget-view+json": {
       "model_id": "",
       "version_major": 2,
       "version_minor": 0
      },
      "text/plain": [
       "Validating: 0it [00:00, ?it/s]"
      ]
     },
     "metadata": {},
     "output_type": "display_data"
    },
    {
     "data": {
      "application/vnd.jupyter.widget-view+json": {
       "model_id": "",
       "version_major": 2,
       "version_minor": 0
      },
      "text/plain": [
       "Validating: 0it [00:00, ?it/s]"
      ]
     },
     "metadata": {},
     "output_type": "display_data"
    },
    {
     "data": {
      "application/vnd.jupyter.widget-view+json": {
       "model_id": "",
       "version_major": 2,
       "version_minor": 0
      },
      "text/plain": [
       "Validating: 0it [00:00, ?it/s]"
      ]
     },
     "metadata": {},
     "output_type": "display_data"
    },
    {
     "data": {
      "application/vnd.jupyter.widget-view+json": {
       "model_id": "",
       "version_major": 2,
       "version_minor": 0
      },
      "text/plain": [
       "Validating: 0it [00:00, ?it/s]"
      ]
     },
     "metadata": {},
     "output_type": "display_data"
    },
    {
     "data": {
      "application/vnd.jupyter.widget-view+json": {
       "model_id": "",
       "version_major": 2,
       "version_minor": 0
      },
      "text/plain": [
       "Validating: 0it [00:00, ?it/s]"
      ]
     },
     "metadata": {},
     "output_type": "display_data"
    },
    {
     "data": {
      "application/vnd.jupyter.widget-view+json": {
       "model_id": "",
       "version_major": 2,
       "version_minor": 0
      },
      "text/plain": [
       "Validating: 0it [00:00, ?it/s]"
      ]
     },
     "metadata": {},
     "output_type": "display_data"
    },
    {
     "data": {
      "application/vnd.jupyter.widget-view+json": {
       "model_id": "",
       "version_major": 2,
       "version_minor": 0
      },
      "text/plain": [
       "Validating: 0it [00:00, ?it/s]"
      ]
     },
     "metadata": {},
     "output_type": "display_data"
    },
    {
     "data": {
      "application/vnd.jupyter.widget-view+json": {
       "model_id": "",
       "version_major": 2,
       "version_minor": 0
      },
      "text/plain": [
       "Validating: 0it [00:00, ?it/s]"
      ]
     },
     "metadata": {},
     "output_type": "display_data"
    },
    {
     "data": {
      "application/vnd.jupyter.widget-view+json": {
       "model_id": "",
       "version_major": 2,
       "version_minor": 0
      },
      "text/plain": [
       "Validating: 0it [00:00, ?it/s]"
      ]
     },
     "metadata": {},
     "output_type": "display_data"
    },
    {
     "data": {
      "application/vnd.jupyter.widget-view+json": {
       "model_id": "",
       "version_major": 2,
       "version_minor": 0
      },
      "text/plain": [
       "Validating: 0it [00:00, ?it/s]"
      ]
     },
     "metadata": {},
     "output_type": "display_data"
    },
    {
     "data": {
      "application/vnd.jupyter.widget-view+json": {
       "model_id": "",
       "version_major": 2,
       "version_minor": 0
      },
      "text/plain": [
       "Validating: 0it [00:00, ?it/s]"
      ]
     },
     "metadata": {},
     "output_type": "display_data"
    },
    {
     "data": {
      "application/vnd.jupyter.widget-view+json": {
       "model_id": "",
       "version_major": 2,
       "version_minor": 0
      },
      "text/plain": [
       "Validating: 0it [00:00, ?it/s]"
      ]
     },
     "metadata": {},
     "output_type": "display_data"
    },
    {
     "data": {
      "application/vnd.jupyter.widget-view+json": {
       "model_id": "",
       "version_major": 2,
       "version_minor": 0
      },
      "text/plain": [
       "Validating: 0it [00:00, ?it/s]"
      ]
     },
     "metadata": {},
     "output_type": "display_data"
    },
    {
     "data": {
      "application/vnd.jupyter.widget-view+json": {
       "model_id": "",
       "version_major": 2,
       "version_minor": 0
      },
      "text/plain": [
       "Validating: 0it [00:00, ?it/s]"
      ]
     },
     "metadata": {},
     "output_type": "display_data"
    },
    {
     "data": {
      "application/vnd.jupyter.widget-view+json": {
       "model_id": "",
       "version_major": 2,
       "version_minor": 0
      },
      "text/plain": [
       "Validating: 0it [00:00, ?it/s]"
      ]
     },
     "metadata": {},
     "output_type": "display_data"
    },
    {
     "data": {
      "application/vnd.jupyter.widget-view+json": {
       "model_id": "",
       "version_major": 2,
       "version_minor": 0
      },
      "text/plain": [
       "Validating: 0it [00:00, ?it/s]"
      ]
     },
     "metadata": {},
     "output_type": "display_data"
    },
    {
     "data": {
      "application/vnd.jupyter.widget-view+json": {
       "model_id": "",
       "version_major": 2,
       "version_minor": 0
      },
      "text/plain": [
       "Validating: 0it [00:00, ?it/s]"
      ]
     },
     "metadata": {},
     "output_type": "display_data"
    },
    {
     "data": {
      "application/vnd.jupyter.widget-view+json": {
       "model_id": "",
       "version_major": 2,
       "version_minor": 0
      },
      "text/plain": [
       "Validating: 0it [00:00, ?it/s]"
      ]
     },
     "metadata": {},
     "output_type": "display_data"
    },
    {
     "data": {
      "application/vnd.jupyter.widget-view+json": {
       "model_id": "",
       "version_major": 2,
       "version_minor": 0
      },
      "text/plain": [
       "Validating: 0it [00:00, ?it/s]"
      ]
     },
     "metadata": {},
     "output_type": "display_data"
    },
    {
     "data": {
      "application/vnd.jupyter.widget-view+json": {
       "model_id": "",
       "version_major": 2,
       "version_minor": 0
      },
      "text/plain": [
       "Validating: 0it [00:00, ?it/s]"
      ]
     },
     "metadata": {},
     "output_type": "display_data"
    },
    {
     "data": {
      "application/vnd.jupyter.widget-view+json": {
       "model_id": "",
       "version_major": 2,
       "version_minor": 0
      },
      "text/plain": [
       "Validating: 0it [00:00, ?it/s]"
      ]
     },
     "metadata": {},
     "output_type": "display_data"
    },
    {
     "data": {
      "application/vnd.jupyter.widget-view+json": {
       "model_id": "",
       "version_major": 2,
       "version_minor": 0
      },
      "text/plain": [
       "Validating: 0it [00:00, ?it/s]"
      ]
     },
     "metadata": {},
     "output_type": "display_data"
    },
    {
     "data": {
      "application/vnd.jupyter.widget-view+json": {
       "model_id": "",
       "version_major": 2,
       "version_minor": 0
      },
      "text/plain": [
       "Validating: 0it [00:00, ?it/s]"
      ]
     },
     "metadata": {},
     "output_type": "display_data"
    },
    {
     "data": {
      "application/vnd.jupyter.widget-view+json": {
       "model_id": "",
       "version_major": 2,
       "version_minor": 0
      },
      "text/plain": [
       "Validating: 0it [00:00, ?it/s]"
      ]
     },
     "metadata": {},
     "output_type": "display_data"
    },
    {
     "data": {
      "application/vnd.jupyter.widget-view+json": {
       "model_id": "",
       "version_major": 2,
       "version_minor": 0
      },
      "text/plain": [
       "Validating: 0it [00:00, ?it/s]"
      ]
     },
     "metadata": {},
     "output_type": "display_data"
    },
    {
     "data": {
      "application/vnd.jupyter.widget-view+json": {
       "model_id": "",
       "version_major": 2,
       "version_minor": 0
      },
      "text/plain": [
       "Validating: 0it [00:00, ?it/s]"
      ]
     },
     "metadata": {},
     "output_type": "display_data"
    },
    {
     "data": {
      "application/vnd.jupyter.widget-view+json": {
       "model_id": "",
       "version_major": 2,
       "version_minor": 0
      },
      "text/plain": [
       "Validating: 0it [00:00, ?it/s]"
      ]
     },
     "metadata": {},
     "output_type": "display_data"
    },
    {
     "data": {
      "application/vnd.jupyter.widget-view+json": {
       "model_id": "",
       "version_major": 2,
       "version_minor": 0
      },
      "text/plain": [
       "Validating: 0it [00:00, ?it/s]"
      ]
     },
     "metadata": {},
     "output_type": "display_data"
    },
    {
     "data": {
      "application/vnd.jupyter.widget-view+json": {
       "model_id": "",
       "version_major": 2,
       "version_minor": 0
      },
      "text/plain": [
       "Validating: 0it [00:00, ?it/s]"
      ]
     },
     "metadata": {},
     "output_type": "display_data"
    },
    {
     "data": {
      "application/vnd.jupyter.widget-view+json": {
       "model_id": "",
       "version_major": 2,
       "version_minor": 0
      },
      "text/plain": [
       "Validating: 0it [00:00, ?it/s]"
      ]
     },
     "metadata": {},
     "output_type": "display_data"
    },
    {
     "data": {
      "application/vnd.jupyter.widget-view+json": {
       "model_id": "",
       "version_major": 2,
       "version_minor": 0
      },
      "text/plain": [
       "Validating: 0it [00:00, ?it/s]"
      ]
     },
     "metadata": {},
     "output_type": "display_data"
    },
    {
     "data": {
      "application/vnd.jupyter.widget-view+json": {
       "model_id": "",
       "version_major": 2,
       "version_minor": 0
      },
      "text/plain": [
       "Validating: 0it [00:00, ?it/s]"
      ]
     },
     "metadata": {},
     "output_type": "display_data"
    },
    {
     "data": {
      "application/vnd.jupyter.widget-view+json": {
       "model_id": "",
       "version_major": 2,
       "version_minor": 0
      },
      "text/plain": [
       "Validating: 0it [00:00, ?it/s]"
      ]
     },
     "metadata": {},
     "output_type": "display_data"
    },
    {
     "data": {
      "application/vnd.jupyter.widget-view+json": {
       "model_id": "",
       "version_major": 2,
       "version_minor": 0
      },
      "text/plain": [
       "Validating: 0it [00:00, ?it/s]"
      ]
     },
     "metadata": {},
     "output_type": "display_data"
    },
    {
     "data": {
      "application/vnd.jupyter.widget-view+json": {
       "model_id": "",
       "version_major": 2,
       "version_minor": 0
      },
      "text/plain": [
       "Validating: 0it [00:00, ?it/s]"
      ]
     },
     "metadata": {},
     "output_type": "display_data"
    },
    {
     "data": {
      "application/vnd.jupyter.widget-view+json": {
       "model_id": "",
       "version_major": 2,
       "version_minor": 0
      },
      "text/plain": [
       "Validating: 0it [00:00, ?it/s]"
      ]
     },
     "metadata": {},
     "output_type": "display_data"
    },
    {
     "data": {
      "application/vnd.jupyter.widget-view+json": {
       "model_id": "",
       "version_major": 2,
       "version_minor": 0
      },
      "text/plain": [
       "Validating: 0it [00:00, ?it/s]"
      ]
     },
     "metadata": {},
     "output_type": "display_data"
    },
    {
     "data": {
      "application/vnd.jupyter.widget-view+json": {
       "model_id": "",
       "version_major": 2,
       "version_minor": 0
      },
      "text/plain": [
       "Validating: 0it [00:00, ?it/s]"
      ]
     },
     "metadata": {},
     "output_type": "display_data"
    },
    {
     "data": {
      "application/vnd.jupyter.widget-view+json": {
       "model_id": "",
       "version_major": 2,
       "version_minor": 0
      },
      "text/plain": [
       "Validating: 0it [00:00, ?it/s]"
      ]
     },
     "metadata": {},
     "output_type": "display_data"
    },
    {
     "data": {
      "application/vnd.jupyter.widget-view+json": {
       "model_id": "",
       "version_major": 2,
       "version_minor": 0
      },
      "text/plain": [
       "Validating: 0it [00:00, ?it/s]"
      ]
     },
     "metadata": {},
     "output_type": "display_data"
    },
    {
     "data": {
      "application/vnd.jupyter.widget-view+json": {
       "model_id": "",
       "version_major": 2,
       "version_minor": 0
      },
      "text/plain": [
       "Validating: 0it [00:00, ?it/s]"
      ]
     },
     "metadata": {},
     "output_type": "display_data"
    },
    {
     "data": {
      "application/vnd.jupyter.widget-view+json": {
       "model_id": "",
       "version_major": 2,
       "version_minor": 0
      },
      "text/plain": [
       "Validating: 0it [00:00, ?it/s]"
      ]
     },
     "metadata": {},
     "output_type": "display_data"
    },
    {
     "data": {
      "application/vnd.jupyter.widget-view+json": {
       "model_id": "",
       "version_major": 2,
       "version_minor": 0
      },
      "text/plain": [
       "Validating: 0it [00:00, ?it/s]"
      ]
     },
     "metadata": {},
     "output_type": "display_data"
    },
    {
     "data": {
      "application/vnd.jupyter.widget-view+json": {
       "model_id": "",
       "version_major": 2,
       "version_minor": 0
      },
      "text/plain": [
       "Validating: 0it [00:00, ?it/s]"
      ]
     },
     "metadata": {},
     "output_type": "display_data"
    },
    {
     "data": {
      "application/vnd.jupyter.widget-view+json": {
       "model_id": "",
       "version_major": 2,
       "version_minor": 0
      },
      "text/plain": [
       "Validating: 0it [00:00, ?it/s]"
      ]
     },
     "metadata": {},
     "output_type": "display_data"
    },
    {
     "data": {
      "application/vnd.jupyter.widget-view+json": {
       "model_id": "",
       "version_major": 2,
       "version_minor": 0
      },
      "text/plain": [
       "Validating: 0it [00:00, ?it/s]"
      ]
     },
     "metadata": {},
     "output_type": "display_data"
    },
    {
     "data": {
      "application/vnd.jupyter.widget-view+json": {
       "model_id": "",
       "version_major": 2,
       "version_minor": 0
      },
      "text/plain": [
       "Validating: 0it [00:00, ?it/s]"
      ]
     },
     "metadata": {},
     "output_type": "display_data"
    },
    {
     "data": {
      "application/vnd.jupyter.widget-view+json": {
       "model_id": "",
       "version_major": 2,
       "version_minor": 0
      },
      "text/plain": [
       "Validating: 0it [00:00, ?it/s]"
      ]
     },
     "metadata": {},
     "output_type": "display_data"
    },
    {
     "data": {
      "application/vnd.jupyter.widget-view+json": {
       "model_id": "",
       "version_major": 2,
       "version_minor": 0
      },
      "text/plain": [
       "Validating: 0it [00:00, ?it/s]"
      ]
     },
     "metadata": {},
     "output_type": "display_data"
    },
    {
     "data": {
      "application/vnd.jupyter.widget-view+json": {
       "model_id": "",
       "version_major": 2,
       "version_minor": 0
      },
      "text/plain": [
       "Validating: 0it [00:00, ?it/s]"
      ]
     },
     "metadata": {},
     "output_type": "display_data"
    },
    {
     "data": {
      "application/vnd.jupyter.widget-view+json": {
       "model_id": "",
       "version_major": 2,
       "version_minor": 0
      },
      "text/plain": [
       "Validating: 0it [00:00, ?it/s]"
      ]
     },
     "metadata": {},
     "output_type": "display_data"
    },
    {
     "data": {
      "application/vnd.jupyter.widget-view+json": {
       "model_id": "",
       "version_major": 2,
       "version_minor": 0
      },
      "text/plain": [
       "Validating: 0it [00:00, ?it/s]"
      ]
     },
     "metadata": {},
     "output_type": "display_data"
    },
    {
     "data": {
      "application/vnd.jupyter.widget-view+json": {
       "model_id": "",
       "version_major": 2,
       "version_minor": 0
      },
      "text/plain": [
       "Validating: 0it [00:00, ?it/s]"
      ]
     },
     "metadata": {},
     "output_type": "display_data"
    },
    {
     "data": {
      "application/vnd.jupyter.widget-view+json": {
       "model_id": "",
       "version_major": 2,
       "version_minor": 0
      },
      "text/plain": [
       "Validating: 0it [00:00, ?it/s]"
      ]
     },
     "metadata": {},
     "output_type": "display_data"
    },
    {
     "data": {
      "application/vnd.jupyter.widget-view+json": {
       "model_id": "",
       "version_major": 2,
       "version_minor": 0
      },
      "text/plain": [
       "Validating: 0it [00:00, ?it/s]"
      ]
     },
     "metadata": {},
     "output_type": "display_data"
    },
    {
     "data": {
      "application/vnd.jupyter.widget-view+json": {
       "model_id": "",
       "version_major": 2,
       "version_minor": 0
      },
      "text/plain": [
       "Validating: 0it [00:00, ?it/s]"
      ]
     },
     "metadata": {},
     "output_type": "display_data"
    },
    {
     "data": {
      "application/vnd.jupyter.widget-view+json": {
       "model_id": "",
       "version_major": 2,
       "version_minor": 0
      },
      "text/plain": [
       "Validating: 0it [00:00, ?it/s]"
      ]
     },
     "metadata": {},
     "output_type": "display_data"
    },
    {
     "data": {
      "application/vnd.jupyter.widget-view+json": {
       "model_id": "",
       "version_major": 2,
       "version_minor": 0
      },
      "text/plain": [
       "Validating: 0it [00:00, ?it/s]"
      ]
     },
     "metadata": {},
     "output_type": "display_data"
    },
    {
     "data": {
      "application/vnd.jupyter.widget-view+json": {
       "model_id": "",
       "version_major": 2,
       "version_minor": 0
      },
      "text/plain": [
       "Validating: 0it [00:00, ?it/s]"
      ]
     },
     "metadata": {},
     "output_type": "display_data"
    },
    {
     "data": {
      "application/vnd.jupyter.widget-view+json": {
       "model_id": "",
       "version_major": 2,
       "version_minor": 0
      },
      "text/plain": [
       "Validating: 0it [00:00, ?it/s]"
      ]
     },
     "metadata": {},
     "output_type": "display_data"
    },
    {
     "data": {
      "application/vnd.jupyter.widget-view+json": {
       "model_id": "",
       "version_major": 2,
       "version_minor": 0
      },
      "text/plain": [
       "Validating: 0it [00:00, ?it/s]"
      ]
     },
     "metadata": {},
     "output_type": "display_data"
    },
    {
     "data": {
      "application/vnd.jupyter.widget-view+json": {
       "model_id": "",
       "version_major": 2,
       "version_minor": 0
      },
      "text/plain": [
       "Validating: 0it [00:00, ?it/s]"
      ]
     },
     "metadata": {},
     "output_type": "display_data"
    },
    {
     "data": {
      "application/vnd.jupyter.widget-view+json": {
       "model_id": "",
       "version_major": 2,
       "version_minor": 0
      },
      "text/plain": [
       "Validating: 0it [00:00, ?it/s]"
      ]
     },
     "metadata": {},
     "output_type": "display_data"
    },
    {
     "data": {
      "application/vnd.jupyter.widget-view+json": {
       "model_id": "",
       "version_major": 2,
       "version_minor": 0
      },
      "text/plain": [
       "Validating: 0it [00:00, ?it/s]"
      ]
     },
     "metadata": {},
     "output_type": "display_data"
    },
    {
     "data": {
      "application/vnd.jupyter.widget-view+json": {
       "model_id": "",
       "version_major": 2,
       "version_minor": 0
      },
      "text/plain": [
       "Validating: 0it [00:00, ?it/s]"
      ]
     },
     "metadata": {},
     "output_type": "display_data"
    },
    {
     "data": {
      "application/vnd.jupyter.widget-view+json": {
       "model_id": "",
       "version_major": 2,
       "version_minor": 0
      },
      "text/plain": [
       "Validating: 0it [00:00, ?it/s]"
      ]
     },
     "metadata": {},
     "output_type": "display_data"
    },
    {
     "data": {
      "application/vnd.jupyter.widget-view+json": {
       "model_id": "",
       "version_major": 2,
       "version_minor": 0
      },
      "text/plain": [
       "Validating: 0it [00:00, ?it/s]"
      ]
     },
     "metadata": {},
     "output_type": "display_data"
    },
    {
     "data": {
      "application/vnd.jupyter.widget-view+json": {
       "model_id": "",
       "version_major": 2,
       "version_minor": 0
      },
      "text/plain": [
       "Validating: 0it [00:00, ?it/s]"
      ]
     },
     "metadata": {},
     "output_type": "display_data"
    },
    {
     "data": {
      "application/vnd.jupyter.widget-view+json": {
       "model_id": "",
       "version_major": 2,
       "version_minor": 0
      },
      "text/plain": [
       "Validating: 0it [00:00, ?it/s]"
      ]
     },
     "metadata": {},
     "output_type": "display_data"
    },
    {
     "data": {
      "application/vnd.jupyter.widget-view+json": {
       "model_id": "",
       "version_major": 2,
       "version_minor": 0
      },
      "text/plain": [
       "Validating: 0it [00:00, ?it/s]"
      ]
     },
     "metadata": {},
     "output_type": "display_data"
    },
    {
     "data": {
      "application/vnd.jupyter.widget-view+json": {
       "model_id": "",
       "version_major": 2,
       "version_minor": 0
      },
      "text/plain": [
       "Validating: 0it [00:00, ?it/s]"
      ]
     },
     "metadata": {},
     "output_type": "display_data"
    },
    {
     "data": {
      "application/vnd.jupyter.widget-view+json": {
       "model_id": "",
       "version_major": 2,
       "version_minor": 0
      },
      "text/plain": [
       "Validating: 0it [00:00, ?it/s]"
      ]
     },
     "metadata": {},
     "output_type": "display_data"
    },
    {
     "data": {
      "application/vnd.jupyter.widget-view+json": {
       "model_id": "",
       "version_major": 2,
       "version_minor": 0
      },
      "text/plain": [
       "Validating: 0it [00:00, ?it/s]"
      ]
     },
     "metadata": {},
     "output_type": "display_data"
    },
    {
     "data": {
      "application/vnd.jupyter.widget-view+json": {
       "model_id": "",
       "version_major": 2,
       "version_minor": 0
      },
      "text/plain": [
       "Validating: 0it [00:00, ?it/s]"
      ]
     },
     "metadata": {},
     "output_type": "display_data"
    },
    {
     "data": {
      "application/vnd.jupyter.widget-view+json": {
       "model_id": "",
       "version_major": 2,
       "version_minor": 0
      },
      "text/plain": [
       "Validating: 0it [00:00, ?it/s]"
      ]
     },
     "metadata": {},
     "output_type": "display_data"
    },
    {
     "data": {
      "application/vnd.jupyter.widget-view+json": {
       "model_id": "",
       "version_major": 2,
       "version_minor": 0
      },
      "text/plain": [
       "Validating: 0it [00:00, ?it/s]"
      ]
     },
     "metadata": {},
     "output_type": "display_data"
    },
    {
     "data": {
      "application/vnd.jupyter.widget-view+json": {
       "model_id": "",
       "version_major": 2,
       "version_minor": 0
      },
      "text/plain": [
       "Validating: 0it [00:00, ?it/s]"
      ]
     },
     "metadata": {},
     "output_type": "display_data"
    },
    {
     "data": {
      "application/vnd.jupyter.widget-view+json": {
       "model_id": "",
       "version_major": 2,
       "version_minor": 0
      },
      "text/plain": [
       "Validating: 0it [00:00, ?it/s]"
      ]
     },
     "metadata": {},
     "output_type": "display_data"
    },
    {
     "data": {
      "application/vnd.jupyter.widget-view+json": {
       "model_id": "",
       "version_major": 2,
       "version_minor": 0
      },
      "text/plain": [
       "Validating: 0it [00:00, ?it/s]"
      ]
     },
     "metadata": {},
     "output_type": "display_data"
    },
    {
     "data": {
      "application/vnd.jupyter.widget-view+json": {
       "model_id": "",
       "version_major": 2,
       "version_minor": 0
      },
      "text/plain": [
       "Validating: 0it [00:00, ?it/s]"
      ]
     },
     "metadata": {},
     "output_type": "display_data"
    },
    {
     "data": {
      "application/vnd.jupyter.widget-view+json": {
       "model_id": "",
       "version_major": 2,
       "version_minor": 0
      },
      "text/plain": [
       "Validating: 0it [00:00, ?it/s]"
      ]
     },
     "metadata": {},
     "output_type": "display_data"
    },
    {
     "data": {
      "application/vnd.jupyter.widget-view+json": {
       "model_id": "",
       "version_major": 2,
       "version_minor": 0
      },
      "text/plain": [
       "Validating: 0it [00:00, ?it/s]"
      ]
     },
     "metadata": {},
     "output_type": "display_data"
    },
    {
     "data": {
      "application/vnd.jupyter.widget-view+json": {
       "model_id": "",
       "version_major": 2,
       "version_minor": 0
      },
      "text/plain": [
       "Validating: 0it [00:00, ?it/s]"
      ]
     },
     "metadata": {},
     "output_type": "display_data"
    },
    {
     "data": {
      "application/vnd.jupyter.widget-view+json": {
       "model_id": "",
       "version_major": 2,
       "version_minor": 0
      },
      "text/plain": [
       "Validating: 0it [00:00, ?it/s]"
      ]
     },
     "metadata": {},
     "output_type": "display_data"
    },
    {
     "data": {
      "application/vnd.jupyter.widget-view+json": {
       "model_id": "",
       "version_major": 2,
       "version_minor": 0
      },
      "text/plain": [
       "Validating: 0it [00:00, ?it/s]"
      ]
     },
     "metadata": {},
     "output_type": "display_data"
    },
    {
     "data": {
      "application/vnd.jupyter.widget-view+json": {
       "model_id": "",
       "version_major": 2,
       "version_minor": 0
      },
      "text/plain": [
       "Validating: 0it [00:00, ?it/s]"
      ]
     },
     "metadata": {},
     "output_type": "display_data"
    },
    {
     "data": {
      "application/vnd.jupyter.widget-view+json": {
       "model_id": "",
       "version_major": 2,
       "version_minor": 0
      },
      "text/plain": [
       "Validating: 0it [00:00, ?it/s]"
      ]
     },
     "metadata": {},
     "output_type": "display_data"
    },
    {
     "data": {
      "application/vnd.jupyter.widget-view+json": {
       "model_id": "",
       "version_major": 2,
       "version_minor": 0
      },
      "text/plain": [
       "Validating: 0it [00:00, ?it/s]"
      ]
     },
     "metadata": {},
     "output_type": "display_data"
    },
    {
     "data": {
      "application/vnd.jupyter.widget-view+json": {
       "model_id": "",
       "version_major": 2,
       "version_minor": 0
      },
      "text/plain": [
       "Validating: 0it [00:00, ?it/s]"
      ]
     },
     "metadata": {},
     "output_type": "display_data"
    },
    {
     "data": {
      "application/vnd.jupyter.widget-view+json": {
       "model_id": "",
       "version_major": 2,
       "version_minor": 0
      },
      "text/plain": [
       "Validating: 0it [00:00, ?it/s]"
      ]
     },
     "metadata": {},
     "output_type": "display_data"
    },
    {
     "data": {
      "application/vnd.jupyter.widget-view+json": {
       "model_id": "",
       "version_major": 2,
       "version_minor": 0
      },
      "text/plain": [
       "Validating: 0it [00:00, ?it/s]"
      ]
     },
     "metadata": {},
     "output_type": "display_data"
    },
    {
     "data": {
      "application/vnd.jupyter.widget-view+json": {
       "model_id": "",
       "version_major": 2,
       "version_minor": 0
      },
      "text/plain": [
       "Validating: 0it [00:00, ?it/s]"
      ]
     },
     "metadata": {},
     "output_type": "display_data"
    },
    {
     "data": {
      "application/vnd.jupyter.widget-view+json": {
       "model_id": "",
       "version_major": 2,
       "version_minor": 0
      },
      "text/plain": [
       "Validating: 0it [00:00, ?it/s]"
      ]
     },
     "metadata": {},
     "output_type": "display_data"
    },
    {
     "data": {
      "application/vnd.jupyter.widget-view+json": {
       "model_id": "",
       "version_major": 2,
       "version_minor": 0
      },
      "text/plain": [
       "Validating: 0it [00:00, ?it/s]"
      ]
     },
     "metadata": {},
     "output_type": "display_data"
    },
    {
     "data": {
      "application/vnd.jupyter.widget-view+json": {
       "model_id": "",
       "version_major": 2,
       "version_minor": 0
      },
      "text/plain": [
       "Validating: 0it [00:00, ?it/s]"
      ]
     },
     "metadata": {},
     "output_type": "display_data"
    },
    {
     "data": {
      "application/vnd.jupyter.widget-view+json": {
       "model_id": "",
       "version_major": 2,
       "version_minor": 0
      },
      "text/plain": [
       "Validating: 0it [00:00, ?it/s]"
      ]
     },
     "metadata": {},
     "output_type": "display_data"
    },
    {
     "data": {
      "application/vnd.jupyter.widget-view+json": {
       "model_id": "",
       "version_major": 2,
       "version_minor": 0
      },
      "text/plain": [
       "Validating: 0it [00:00, ?it/s]"
      ]
     },
     "metadata": {},
     "output_type": "display_data"
    },
    {
     "data": {
      "application/vnd.jupyter.widget-view+json": {
       "model_id": "",
       "version_major": 2,
       "version_minor": 0
      },
      "text/plain": [
       "Validating: 0it [00:00, ?it/s]"
      ]
     },
     "metadata": {},
     "output_type": "display_data"
    },
    {
     "data": {
      "application/vnd.jupyter.widget-view+json": {
       "model_id": "",
       "version_major": 2,
       "version_minor": 0
      },
      "text/plain": [
       "Validating: 0it [00:00, ?it/s]"
      ]
     },
     "metadata": {},
     "output_type": "display_data"
    },
    {
     "data": {
      "application/vnd.jupyter.widget-view+json": {
       "model_id": "",
       "version_major": 2,
       "version_minor": 0
      },
      "text/plain": [
       "Validating: 0it [00:00, ?it/s]"
      ]
     },
     "metadata": {},
     "output_type": "display_data"
    },
    {
     "data": {
      "application/vnd.jupyter.widget-view+json": {
       "model_id": "",
       "version_major": 2,
       "version_minor": 0
      },
      "text/plain": [
       "Validating: 0it [00:00, ?it/s]"
      ]
     },
     "metadata": {},
     "output_type": "display_data"
    },
    {
     "data": {
      "application/vnd.jupyter.widget-view+json": {
       "model_id": "",
       "version_major": 2,
       "version_minor": 0
      },
      "text/plain": [
       "Validating: 0it [00:00, ?it/s]"
      ]
     },
     "metadata": {},
     "output_type": "display_data"
    },
    {
     "data": {
      "application/vnd.jupyter.widget-view+json": {
       "model_id": "",
       "version_major": 2,
       "version_minor": 0
      },
      "text/plain": [
       "Validating: 0it [00:00, ?it/s]"
      ]
     },
     "metadata": {},
     "output_type": "display_data"
    },
    {
     "data": {
      "application/vnd.jupyter.widget-view+json": {
       "model_id": "",
       "version_major": 2,
       "version_minor": 0
      },
      "text/plain": [
       "Validating: 0it [00:00, ?it/s]"
      ]
     },
     "metadata": {},
     "output_type": "display_data"
    },
    {
     "data": {
      "application/vnd.jupyter.widget-view+json": {
       "model_id": "",
       "version_major": 2,
       "version_minor": 0
      },
      "text/plain": [
       "Validating: 0it [00:00, ?it/s]"
      ]
     },
     "metadata": {},
     "output_type": "display_data"
    },
    {
     "data": {
      "application/vnd.jupyter.widget-view+json": {
       "model_id": "",
       "version_major": 2,
       "version_minor": 0
      },
      "text/plain": [
       "Validating: 0it [00:00, ?it/s]"
      ]
     },
     "metadata": {},
     "output_type": "display_data"
    },
    {
     "data": {
      "application/vnd.jupyter.widget-view+json": {
       "model_id": "",
       "version_major": 2,
       "version_minor": 0
      },
      "text/plain": [
       "Validating: 0it [00:00, ?it/s]"
      ]
     },
     "metadata": {},
     "output_type": "display_data"
    },
    {
     "data": {
      "application/vnd.jupyter.widget-view+json": {
       "model_id": "",
       "version_major": 2,
       "version_minor": 0
      },
      "text/plain": [
       "Validating: 0it [00:00, ?it/s]"
      ]
     },
     "metadata": {},
     "output_type": "display_data"
    },
    {
     "data": {
      "application/vnd.jupyter.widget-view+json": {
       "model_id": "",
       "version_major": 2,
       "version_minor": 0
      },
      "text/plain": [
       "Validating: 0it [00:00, ?it/s]"
      ]
     },
     "metadata": {},
     "output_type": "display_data"
    },
    {
     "data": {
      "application/vnd.jupyter.widget-view+json": {
       "model_id": "",
       "version_major": 2,
       "version_minor": 0
      },
      "text/plain": [
       "Validating: 0it [00:00, ?it/s]"
      ]
     },
     "metadata": {},
     "output_type": "display_data"
    },
    {
     "data": {
      "application/vnd.jupyter.widget-view+json": {
       "model_id": "",
       "version_major": 2,
       "version_minor": 0
      },
      "text/plain": [
       "Validating: 0it [00:00, ?it/s]"
      ]
     },
     "metadata": {},
     "output_type": "display_data"
    },
    {
     "data": {
      "application/vnd.jupyter.widget-view+json": {
       "model_id": "",
       "version_major": 2,
       "version_minor": 0
      },
      "text/plain": [
       "Validating: 0it [00:00, ?it/s]"
      ]
     },
     "metadata": {},
     "output_type": "display_data"
    },
    {
     "data": {
      "application/vnd.jupyter.widget-view+json": {
       "model_id": "",
       "version_major": 2,
       "version_minor": 0
      },
      "text/plain": [
       "Validating: 0it [00:00, ?it/s]"
      ]
     },
     "metadata": {},
     "output_type": "display_data"
    },
    {
     "data": {
      "application/vnd.jupyter.widget-view+json": {
       "model_id": "",
       "version_major": 2,
       "version_minor": 0
      },
      "text/plain": [
       "Validating: 0it [00:00, ?it/s]"
      ]
     },
     "metadata": {},
     "output_type": "display_data"
    },
    {
     "data": {
      "application/vnd.jupyter.widget-view+json": {
       "model_id": "",
       "version_major": 2,
       "version_minor": 0
      },
      "text/plain": [
       "Validating: 0it [00:00, ?it/s]"
      ]
     },
     "metadata": {},
     "output_type": "display_data"
    },
    {
     "data": {
      "application/vnd.jupyter.widget-view+json": {
       "model_id": "",
       "version_major": 2,
       "version_minor": 0
      },
      "text/plain": [
       "Validating: 0it [00:00, ?it/s]"
      ]
     },
     "metadata": {},
     "output_type": "display_data"
    },
    {
     "data": {
      "application/vnd.jupyter.widget-view+json": {
       "model_id": "",
       "version_major": 2,
       "version_minor": 0
      },
      "text/plain": [
       "Validating: 0it [00:00, ?it/s]"
      ]
     },
     "metadata": {},
     "output_type": "display_data"
    },
    {
     "data": {
      "application/vnd.jupyter.widget-view+json": {
       "model_id": "",
       "version_major": 2,
       "version_minor": 0
      },
      "text/plain": [
       "Validating: 0it [00:00, ?it/s]"
      ]
     },
     "metadata": {},
     "output_type": "display_data"
    },
    {
     "data": {
      "application/vnd.jupyter.widget-view+json": {
       "model_id": "",
       "version_major": 2,
       "version_minor": 0
      },
      "text/plain": [
       "Validating: 0it [00:00, ?it/s]"
      ]
     },
     "metadata": {},
     "output_type": "display_data"
    },
    {
     "data": {
      "application/vnd.jupyter.widget-view+json": {
       "model_id": "",
       "version_major": 2,
       "version_minor": 0
      },
      "text/plain": [
       "Validating: 0it [00:00, ?it/s]"
      ]
     },
     "metadata": {},
     "output_type": "display_data"
    },
    {
     "data": {
      "application/vnd.jupyter.widget-view+json": {
       "model_id": "",
       "version_major": 2,
       "version_minor": 0
      },
      "text/plain": [
       "Validating: 0it [00:00, ?it/s]"
      ]
     },
     "metadata": {},
     "output_type": "display_data"
    },
    {
     "data": {
      "application/vnd.jupyter.widget-view+json": {
       "model_id": "",
       "version_major": 2,
       "version_minor": 0
      },
      "text/plain": [
       "Validating: 0it [00:00, ?it/s]"
      ]
     },
     "metadata": {},
     "output_type": "display_data"
    },
    {
     "data": {
      "application/vnd.jupyter.widget-view+json": {
       "model_id": "",
       "version_major": 2,
       "version_minor": 0
      },
      "text/plain": [
       "Validating: 0it [00:00, ?it/s]"
      ]
     },
     "metadata": {},
     "output_type": "display_data"
    },
    {
     "data": {
      "application/vnd.jupyter.widget-view+json": {
       "model_id": "",
       "version_major": 2,
       "version_minor": 0
      },
      "text/plain": [
       "Validating: 0it [00:00, ?it/s]"
      ]
     },
     "metadata": {},
     "output_type": "display_data"
    },
    {
     "data": {
      "application/vnd.jupyter.widget-view+json": {
       "model_id": "",
       "version_major": 2,
       "version_minor": 0
      },
      "text/plain": [
       "Validating: 0it [00:00, ?it/s]"
      ]
     },
     "metadata": {},
     "output_type": "display_data"
    },
    {
     "data": {
      "application/vnd.jupyter.widget-view+json": {
       "model_id": "",
       "version_major": 2,
       "version_minor": 0
      },
      "text/plain": [
       "Validating: 0it [00:00, ?it/s]"
      ]
     },
     "metadata": {},
     "output_type": "display_data"
    },
    {
     "data": {
      "application/vnd.jupyter.widget-view+json": {
       "model_id": "",
       "version_major": 2,
       "version_minor": 0
      },
      "text/plain": [
       "Validating: 0it [00:00, ?it/s]"
      ]
     },
     "metadata": {},
     "output_type": "display_data"
    },
    {
     "data": {
      "application/vnd.jupyter.widget-view+json": {
       "model_id": "",
       "version_major": 2,
       "version_minor": 0
      },
      "text/plain": [
       "Validating: 0it [00:00, ?it/s]"
      ]
     },
     "metadata": {},
     "output_type": "display_data"
    },
    {
     "data": {
      "application/vnd.jupyter.widget-view+json": {
       "model_id": "",
       "version_major": 2,
       "version_minor": 0
      },
      "text/plain": [
       "Validating: 0it [00:00, ?it/s]"
      ]
     },
     "metadata": {},
     "output_type": "display_data"
    },
    {
     "data": {
      "application/vnd.jupyter.widget-view+json": {
       "model_id": "",
       "version_major": 2,
       "version_minor": 0
      },
      "text/plain": [
       "Validating: 0it [00:00, ?it/s]"
      ]
     },
     "metadata": {},
     "output_type": "display_data"
    },
    {
     "data": {
      "application/vnd.jupyter.widget-view+json": {
       "model_id": "",
       "version_major": 2,
       "version_minor": 0
      },
      "text/plain": [
       "Validating: 0it [00:00, ?it/s]"
      ]
     },
     "metadata": {},
     "output_type": "display_data"
    },
    {
     "data": {
      "application/vnd.jupyter.widget-view+json": {
       "model_id": "",
       "version_major": 2,
       "version_minor": 0
      },
      "text/plain": [
       "Validating: 0it [00:00, ?it/s]"
      ]
     },
     "metadata": {},
     "output_type": "display_data"
    },
    {
     "data": {
      "application/vnd.jupyter.widget-view+json": {
       "model_id": "",
       "version_major": 2,
       "version_minor": 0
      },
      "text/plain": [
       "Validating: 0it [00:00, ?it/s]"
      ]
     },
     "metadata": {},
     "output_type": "display_data"
    },
    {
     "data": {
      "application/vnd.jupyter.widget-view+json": {
       "model_id": "",
       "version_major": 2,
       "version_minor": 0
      },
      "text/plain": [
       "Validating: 0it [00:00, ?it/s]"
      ]
     },
     "metadata": {},
     "output_type": "display_data"
    },
    {
     "data": {
      "application/vnd.jupyter.widget-view+json": {
       "model_id": "",
       "version_major": 2,
       "version_minor": 0
      },
      "text/plain": [
       "Validating: 0it [00:00, ?it/s]"
      ]
     },
     "metadata": {},
     "output_type": "display_data"
    },
    {
     "data": {
      "application/vnd.jupyter.widget-view+json": {
       "model_id": "",
       "version_major": 2,
       "version_minor": 0
      },
      "text/plain": [
       "Validating: 0it [00:00, ?it/s]"
      ]
     },
     "metadata": {},
     "output_type": "display_data"
    },
    {
     "data": {
      "application/vnd.jupyter.widget-view+json": {
       "model_id": "",
       "version_major": 2,
       "version_minor": 0
      },
      "text/plain": [
       "Validating: 0it [00:00, ?it/s]"
      ]
     },
     "metadata": {},
     "output_type": "display_data"
    },
    {
     "data": {
      "application/vnd.jupyter.widget-view+json": {
       "model_id": "",
       "version_major": 2,
       "version_minor": 0
      },
      "text/plain": [
       "Validating: 0it [00:00, ?it/s]"
      ]
     },
     "metadata": {},
     "output_type": "display_data"
    },
    {
     "data": {
      "application/vnd.jupyter.widget-view+json": {
       "model_id": "",
       "version_major": 2,
       "version_minor": 0
      },
      "text/plain": [
       "Validating: 0it [00:00, ?it/s]"
      ]
     },
     "metadata": {},
     "output_type": "display_data"
    },
    {
     "data": {
      "application/vnd.jupyter.widget-view+json": {
       "model_id": "",
       "version_major": 2,
       "version_minor": 0
      },
      "text/plain": [
       "Validating: 0it [00:00, ?it/s]"
      ]
     },
     "metadata": {},
     "output_type": "display_data"
    },
    {
     "data": {
      "application/vnd.jupyter.widget-view+json": {
       "model_id": "",
       "version_major": 2,
       "version_minor": 0
      },
      "text/plain": [
       "Validating: 0it [00:00, ?it/s]"
      ]
     },
     "metadata": {},
     "output_type": "display_data"
    },
    {
     "data": {
      "application/vnd.jupyter.widget-view+json": {
       "model_id": "",
       "version_major": 2,
       "version_minor": 0
      },
      "text/plain": [
       "Validating: 0it [00:00, ?it/s]"
      ]
     },
     "metadata": {},
     "output_type": "display_data"
    },
    {
     "data": {
      "application/vnd.jupyter.widget-view+json": {
       "model_id": "",
       "version_major": 2,
       "version_minor": 0
      },
      "text/plain": [
       "Validating: 0it [00:00, ?it/s]"
      ]
     },
     "metadata": {},
     "output_type": "display_data"
    },
    {
     "data": {
      "application/vnd.jupyter.widget-view+json": {
       "model_id": "",
       "version_major": 2,
       "version_minor": 0
      },
      "text/plain": [
       "Validating: 0it [00:00, ?it/s]"
      ]
     },
     "metadata": {},
     "output_type": "display_data"
    },
    {
     "data": {
      "application/vnd.jupyter.widget-view+json": {
       "model_id": "",
       "version_major": 2,
       "version_minor": 0
      },
      "text/plain": [
       "Validating: 0it [00:00, ?it/s]"
      ]
     },
     "metadata": {},
     "output_type": "display_data"
    },
    {
     "data": {
      "application/vnd.jupyter.widget-view+json": {
       "model_id": "",
       "version_major": 2,
       "version_minor": 0
      },
      "text/plain": [
       "Validating: 0it [00:00, ?it/s]"
      ]
     },
     "metadata": {},
     "output_type": "display_data"
    },
    {
     "data": {
      "application/vnd.jupyter.widget-view+json": {
       "model_id": "",
       "version_major": 2,
       "version_minor": 0
      },
      "text/plain": [
       "Validating: 0it [00:00, ?it/s]"
      ]
     },
     "metadata": {},
     "output_type": "display_data"
    },
    {
     "data": {
      "application/vnd.jupyter.widget-view+json": {
       "model_id": "",
       "version_major": 2,
       "version_minor": 0
      },
      "text/plain": [
       "Validating: 0it [00:00, ?it/s]"
      ]
     },
     "metadata": {},
     "output_type": "display_data"
    },
    {
     "data": {
      "application/vnd.jupyter.widget-view+json": {
       "model_id": "",
       "version_major": 2,
       "version_minor": 0
      },
      "text/plain": [
       "Validating: 0it [00:00, ?it/s]"
      ]
     },
     "metadata": {},
     "output_type": "display_data"
    },
    {
     "data": {
      "application/vnd.jupyter.widget-view+json": {
       "model_id": "",
       "version_major": 2,
       "version_minor": 0
      },
      "text/plain": [
       "Validating: 0it [00:00, ?it/s]"
      ]
     },
     "metadata": {},
     "output_type": "display_data"
    },
    {
     "data": {
      "application/vnd.jupyter.widget-view+json": {
       "model_id": "",
       "version_major": 2,
       "version_minor": 0
      },
      "text/plain": [
       "Validating: 0it [00:00, ?it/s]"
      ]
     },
     "metadata": {},
     "output_type": "display_data"
    },
    {
     "data": {
      "application/vnd.jupyter.widget-view+json": {
       "model_id": "",
       "version_major": 2,
       "version_minor": 0
      },
      "text/plain": [
       "Validating: 0it [00:00, ?it/s]"
      ]
     },
     "metadata": {},
     "output_type": "display_data"
    },
    {
     "data": {
      "application/vnd.jupyter.widget-view+json": {
       "model_id": "",
       "version_major": 2,
       "version_minor": 0
      },
      "text/plain": [
       "Validating: 0it [00:00, ?it/s]"
      ]
     },
     "metadata": {},
     "output_type": "display_data"
    },
    {
     "data": {
      "application/vnd.jupyter.widget-view+json": {
       "model_id": "",
       "version_major": 2,
       "version_minor": 0
      },
      "text/plain": [
       "Validating: 0it [00:00, ?it/s]"
      ]
     },
     "metadata": {},
     "output_type": "display_data"
    },
    {
     "data": {
      "application/vnd.jupyter.widget-view+json": {
       "model_id": "",
       "version_major": 2,
       "version_minor": 0
      },
      "text/plain": [
       "Validating: 0it [00:00, ?it/s]"
      ]
     },
     "metadata": {},
     "output_type": "display_data"
    },
    {
     "data": {
      "application/vnd.jupyter.widget-view+json": {
       "model_id": "",
       "version_major": 2,
       "version_minor": 0
      },
      "text/plain": [
       "Validating: 0it [00:00, ?it/s]"
      ]
     },
     "metadata": {},
     "output_type": "display_data"
    },
    {
     "data": {
      "application/vnd.jupyter.widget-view+json": {
       "model_id": "",
       "version_major": 2,
       "version_minor": 0
      },
      "text/plain": [
       "Validating: 0it [00:00, ?it/s]"
      ]
     },
     "metadata": {},
     "output_type": "display_data"
    },
    {
     "data": {
      "application/vnd.jupyter.widget-view+json": {
       "model_id": "",
       "version_major": 2,
       "version_minor": 0
      },
      "text/plain": [
       "Validating: 0it [00:00, ?it/s]"
      ]
     },
     "metadata": {},
     "output_type": "display_data"
    },
    {
     "data": {
      "application/vnd.jupyter.widget-view+json": {
       "model_id": "",
       "version_major": 2,
       "version_minor": 0
      },
      "text/plain": [
       "Validating: 0it [00:00, ?it/s]"
      ]
     },
     "metadata": {},
     "output_type": "display_data"
    },
    {
     "data": {
      "application/vnd.jupyter.widget-view+json": {
       "model_id": "",
       "version_major": 2,
       "version_minor": 0
      },
      "text/plain": [
       "Validating: 0it [00:00, ?it/s]"
      ]
     },
     "metadata": {},
     "output_type": "display_data"
    },
    {
     "data": {
      "application/vnd.jupyter.widget-view+json": {
       "model_id": "",
       "version_major": 2,
       "version_minor": 0
      },
      "text/plain": [
       "Validating: 0it [00:00, ?it/s]"
      ]
     },
     "metadata": {},
     "output_type": "display_data"
    },
    {
     "data": {
      "application/vnd.jupyter.widget-view+json": {
       "model_id": "",
       "version_major": 2,
       "version_minor": 0
      },
      "text/plain": [
       "Validating: 0it [00:00, ?it/s]"
      ]
     },
     "metadata": {},
     "output_type": "display_data"
    },
    {
     "data": {
      "application/vnd.jupyter.widget-view+json": {
       "model_id": "",
       "version_major": 2,
       "version_minor": 0
      },
      "text/plain": [
       "Validating: 0it [00:00, ?it/s]"
      ]
     },
     "metadata": {},
     "output_type": "display_data"
    },
    {
     "data": {
      "application/vnd.jupyter.widget-view+json": {
       "model_id": "",
       "version_major": 2,
       "version_minor": 0
      },
      "text/plain": [
       "Validating: 0it [00:00, ?it/s]"
      ]
     },
     "metadata": {},
     "output_type": "display_data"
    },
    {
     "data": {
      "application/vnd.jupyter.widget-view+json": {
       "model_id": "",
       "version_major": 2,
       "version_minor": 0
      },
      "text/plain": [
       "Validating: 0it [00:00, ?it/s]"
      ]
     },
     "metadata": {},
     "output_type": "display_data"
    },
    {
     "data": {
      "application/vnd.jupyter.widget-view+json": {
       "model_id": "",
       "version_major": 2,
       "version_minor": 0
      },
      "text/plain": [
       "Validating: 0it [00:00, ?it/s]"
      ]
     },
     "metadata": {},
     "output_type": "display_data"
    },
    {
     "data": {
      "application/vnd.jupyter.widget-view+json": {
       "model_id": "",
       "version_major": 2,
       "version_minor": 0
      },
      "text/plain": [
       "Validating: 0it [00:00, ?it/s]"
      ]
     },
     "metadata": {},
     "output_type": "display_data"
    },
    {
     "data": {
      "application/vnd.jupyter.widget-view+json": {
       "model_id": "",
       "version_major": 2,
       "version_minor": 0
      },
      "text/plain": [
       "Validating: 0it [00:00, ?it/s]"
      ]
     },
     "metadata": {},
     "output_type": "display_data"
    },
    {
     "data": {
      "application/vnd.jupyter.widget-view+json": {
       "model_id": "",
       "version_major": 2,
       "version_minor": 0
      },
      "text/plain": [
       "Validating: 0it [00:00, ?it/s]"
      ]
     },
     "metadata": {},
     "output_type": "display_data"
    },
    {
     "data": {
      "application/vnd.jupyter.widget-view+json": {
       "model_id": "",
       "version_major": 2,
       "version_minor": 0
      },
      "text/plain": [
       "Validating: 0it [00:00, ?it/s]"
      ]
     },
     "metadata": {},
     "output_type": "display_data"
    },
    {
     "data": {
      "application/vnd.jupyter.widget-view+json": {
       "model_id": "",
       "version_major": 2,
       "version_minor": 0
      },
      "text/plain": [
       "Validating: 0it [00:00, ?it/s]"
      ]
     },
     "metadata": {},
     "output_type": "display_data"
    },
    {
     "data": {
      "application/vnd.jupyter.widget-view+json": {
       "model_id": "",
       "version_major": 2,
       "version_minor": 0
      },
      "text/plain": [
       "Validating: 0it [00:00, ?it/s]"
      ]
     },
     "metadata": {},
     "output_type": "display_data"
    },
    {
     "data": {
      "application/vnd.jupyter.widget-view+json": {
       "model_id": "",
       "version_major": 2,
       "version_minor": 0
      },
      "text/plain": [
       "Validating: 0it [00:00, ?it/s]"
      ]
     },
     "metadata": {},
     "output_type": "display_data"
    },
    {
     "data": {
      "application/vnd.jupyter.widget-view+json": {
       "model_id": "",
       "version_major": 2,
       "version_minor": 0
      },
      "text/plain": [
       "Validating: 0it [00:00, ?it/s]"
      ]
     },
     "metadata": {},
     "output_type": "display_data"
    },
    {
     "data": {
      "application/vnd.jupyter.widget-view+json": {
       "model_id": "",
       "version_major": 2,
       "version_minor": 0
      },
      "text/plain": [
       "Validating: 0it [00:00, ?it/s]"
      ]
     },
     "metadata": {},
     "output_type": "display_data"
    },
    {
     "data": {
      "application/vnd.jupyter.widget-view+json": {
       "model_id": "",
       "version_major": 2,
       "version_minor": 0
      },
      "text/plain": [
       "Validating: 0it [00:00, ?it/s]"
      ]
     },
     "metadata": {},
     "output_type": "display_data"
    },
    {
     "data": {
      "application/vnd.jupyter.widget-view+json": {
       "model_id": "",
       "version_major": 2,
       "version_minor": 0
      },
      "text/plain": [
       "Validating: 0it [00:00, ?it/s]"
      ]
     },
     "metadata": {},
     "output_type": "display_data"
    },
    {
     "data": {
      "application/vnd.jupyter.widget-view+json": {
       "model_id": "",
       "version_major": 2,
       "version_minor": 0
      },
      "text/plain": [
       "Validating: 0it [00:00, ?it/s]"
      ]
     },
     "metadata": {},
     "output_type": "display_data"
    },
    {
     "data": {
      "application/vnd.jupyter.widget-view+json": {
       "model_id": "",
       "version_major": 2,
       "version_minor": 0
      },
      "text/plain": [
       "Validating: 0it [00:00, ?it/s]"
      ]
     },
     "metadata": {},
     "output_type": "display_data"
    },
    {
     "data": {
      "application/vnd.jupyter.widget-view+json": {
       "model_id": "",
       "version_major": 2,
       "version_minor": 0
      },
      "text/plain": [
       "Validating: 0it [00:00, ?it/s]"
      ]
     },
     "metadata": {},
     "output_type": "display_data"
    },
    {
     "data": {
      "application/vnd.jupyter.widget-view+json": {
       "model_id": "",
       "version_major": 2,
       "version_minor": 0
      },
      "text/plain": [
       "Validating: 0it [00:00, ?it/s]"
      ]
     },
     "metadata": {},
     "output_type": "display_data"
    },
    {
     "data": {
      "application/vnd.jupyter.widget-view+json": {
       "model_id": "",
       "version_major": 2,
       "version_minor": 0
      },
      "text/plain": [
       "Validating: 0it [00:00, ?it/s]"
      ]
     },
     "metadata": {},
     "output_type": "display_data"
    },
    {
     "data": {
      "application/vnd.jupyter.widget-view+json": {
       "model_id": "",
       "version_major": 2,
       "version_minor": 0
      },
      "text/plain": [
       "Validating: 0it [00:00, ?it/s]"
      ]
     },
     "metadata": {},
     "output_type": "display_data"
    },
    {
     "data": {
      "application/vnd.jupyter.widget-view+json": {
       "model_id": "",
       "version_major": 2,
       "version_minor": 0
      },
      "text/plain": [
       "Validating: 0it [00:00, ?it/s]"
      ]
     },
     "metadata": {},
     "output_type": "display_data"
    },
    {
     "data": {
      "application/vnd.jupyter.widget-view+json": {
       "model_id": "",
       "version_major": 2,
       "version_minor": 0
      },
      "text/plain": [
       "Validating: 0it [00:00, ?it/s]"
      ]
     },
     "metadata": {},
     "output_type": "display_data"
    },
    {
     "data": {
      "application/vnd.jupyter.widget-view+json": {
       "model_id": "",
       "version_major": 2,
       "version_minor": 0
      },
      "text/plain": [
       "Validating: 0it [00:00, ?it/s]"
      ]
     },
     "metadata": {},
     "output_type": "display_data"
    },
    {
     "data": {
      "application/vnd.jupyter.widget-view+json": {
       "model_id": "",
       "version_major": 2,
       "version_minor": 0
      },
      "text/plain": [
       "Validating: 0it [00:00, ?it/s]"
      ]
     },
     "metadata": {},
     "output_type": "display_data"
    },
    {
     "data": {
      "application/vnd.jupyter.widget-view+json": {
       "model_id": "",
       "version_major": 2,
       "version_minor": 0
      },
      "text/plain": [
       "Validating: 0it [00:00, ?it/s]"
      ]
     },
     "metadata": {},
     "output_type": "display_data"
    },
    {
     "data": {
      "application/vnd.jupyter.widget-view+json": {
       "model_id": "",
       "version_major": 2,
       "version_minor": 0
      },
      "text/plain": [
       "Validating: 0it [00:00, ?it/s]"
      ]
     },
     "metadata": {},
     "output_type": "display_data"
    },
    {
     "data": {
      "application/vnd.jupyter.widget-view+json": {
       "model_id": "",
       "version_major": 2,
       "version_minor": 0
      },
      "text/plain": [
       "Validating: 0it [00:00, ?it/s]"
      ]
     },
     "metadata": {},
     "output_type": "display_data"
    },
    {
     "data": {
      "application/vnd.jupyter.widget-view+json": {
       "model_id": "",
       "version_major": 2,
       "version_minor": 0
      },
      "text/plain": [
       "Validating: 0it [00:00, ?it/s]"
      ]
     },
     "metadata": {},
     "output_type": "display_data"
    },
    {
     "data": {
      "application/vnd.jupyter.widget-view+json": {
       "model_id": "",
       "version_major": 2,
       "version_minor": 0
      },
      "text/plain": [
       "Validating: 0it [00:00, ?it/s]"
      ]
     },
     "metadata": {},
     "output_type": "display_data"
    },
    {
     "data": {
      "application/vnd.jupyter.widget-view+json": {
       "model_id": "",
       "version_major": 2,
       "version_minor": 0
      },
      "text/plain": [
       "Validating: 0it [00:00, ?it/s]"
      ]
     },
     "metadata": {},
     "output_type": "display_data"
    },
    {
     "data": {
      "application/vnd.jupyter.widget-view+json": {
       "model_id": "",
       "version_major": 2,
       "version_minor": 0
      },
      "text/plain": [
       "Validating: 0it [00:00, ?it/s]"
      ]
     },
     "metadata": {},
     "output_type": "display_data"
    },
    {
     "data": {
      "application/vnd.jupyter.widget-view+json": {
       "model_id": "",
       "version_major": 2,
       "version_minor": 0
      },
      "text/plain": [
       "Validating: 0it [00:00, ?it/s]"
      ]
     },
     "metadata": {},
     "output_type": "display_data"
    },
    {
     "data": {
      "application/vnd.jupyter.widget-view+json": {
       "model_id": "",
       "version_major": 2,
       "version_minor": 0
      },
      "text/plain": [
       "Validating: 0it [00:00, ?it/s]"
      ]
     },
     "metadata": {},
     "output_type": "display_data"
    },
    {
     "data": {
      "application/vnd.jupyter.widget-view+json": {
       "model_id": "",
       "version_major": 2,
       "version_minor": 0
      },
      "text/plain": [
       "Validating: 0it [00:00, ?it/s]"
      ]
     },
     "metadata": {},
     "output_type": "display_data"
    },
    {
     "data": {
      "application/vnd.jupyter.widget-view+json": {
       "model_id": "",
       "version_major": 2,
       "version_minor": 0
      },
      "text/plain": [
       "Validating: 0it [00:00, ?it/s]"
      ]
     },
     "metadata": {},
     "output_type": "display_data"
    },
    {
     "data": {
      "application/vnd.jupyter.widget-view+json": {
       "model_id": "",
       "version_major": 2,
       "version_minor": 0
      },
      "text/plain": [
       "Validating: 0it [00:00, ?it/s]"
      ]
     },
     "metadata": {},
     "output_type": "display_data"
    },
    {
     "data": {
      "application/vnd.jupyter.widget-view+json": {
       "model_id": "",
       "version_major": 2,
       "version_minor": 0
      },
      "text/plain": [
       "Validating: 0it [00:00, ?it/s]"
      ]
     },
     "metadata": {},
     "output_type": "display_data"
    },
    {
     "data": {
      "application/vnd.jupyter.widget-view+json": {
       "model_id": "",
       "version_major": 2,
       "version_minor": 0
      },
      "text/plain": [
       "Validating: 0it [00:00, ?it/s]"
      ]
     },
     "metadata": {},
     "output_type": "display_data"
    },
    {
     "data": {
      "application/vnd.jupyter.widget-view+json": {
       "model_id": "",
       "version_major": 2,
       "version_minor": 0
      },
      "text/plain": [
       "Validating: 0it [00:00, ?it/s]"
      ]
     },
     "metadata": {},
     "output_type": "display_data"
    },
    {
     "data": {
      "application/vnd.jupyter.widget-view+json": {
       "model_id": "",
       "version_major": 2,
       "version_minor": 0
      },
      "text/plain": [
       "Validating: 0it [00:00, ?it/s]"
      ]
     },
     "metadata": {},
     "output_type": "display_data"
    },
    {
     "data": {
      "application/vnd.jupyter.widget-view+json": {
       "model_id": "",
       "version_major": 2,
       "version_minor": 0
      },
      "text/plain": [
       "Validating: 0it [00:00, ?it/s]"
      ]
     },
     "metadata": {},
     "output_type": "display_data"
    },
    {
     "data": {
      "application/vnd.jupyter.widget-view+json": {
       "model_id": "",
       "version_major": 2,
       "version_minor": 0
      },
      "text/plain": [
       "Validating: 0it [00:00, ?it/s]"
      ]
     },
     "metadata": {},
     "output_type": "display_data"
    },
    {
     "data": {
      "application/vnd.jupyter.widget-view+json": {
       "model_id": "",
       "version_major": 2,
       "version_minor": 0
      },
      "text/plain": [
       "Validating: 0it [00:00, ?it/s]"
      ]
     },
     "metadata": {},
     "output_type": "display_data"
    },
    {
     "data": {
      "application/vnd.jupyter.widget-view+json": {
       "model_id": "",
       "version_major": 2,
       "version_minor": 0
      },
      "text/plain": [
       "Validating: 0it [00:00, ?it/s]"
      ]
     },
     "metadata": {},
     "output_type": "display_data"
    },
    {
     "data": {
      "application/vnd.jupyter.widget-view+json": {
       "model_id": "",
       "version_major": 2,
       "version_minor": 0
      },
      "text/plain": [
       "Validating: 0it [00:00, ?it/s]"
      ]
     },
     "metadata": {},
     "output_type": "display_data"
    },
    {
     "data": {
      "application/vnd.jupyter.widget-view+json": {
       "model_id": "",
       "version_major": 2,
       "version_minor": 0
      },
      "text/plain": [
       "Validating: 0it [00:00, ?it/s]"
      ]
     },
     "metadata": {},
     "output_type": "display_data"
    },
    {
     "data": {
      "application/vnd.jupyter.widget-view+json": {
       "model_id": "",
       "version_major": 2,
       "version_minor": 0
      },
      "text/plain": [
       "Validating: 0it [00:00, ?it/s]"
      ]
     },
     "metadata": {},
     "output_type": "display_data"
    },
    {
     "data": {
      "application/vnd.jupyter.widget-view+json": {
       "model_id": "",
       "version_major": 2,
       "version_minor": 0
      },
      "text/plain": [
       "Validating: 0it [00:00, ?it/s]"
      ]
     },
     "metadata": {},
     "output_type": "display_data"
    },
    {
     "data": {
      "application/vnd.jupyter.widget-view+json": {
       "model_id": "",
       "version_major": 2,
       "version_minor": 0
      },
      "text/plain": [
       "Validating: 0it [00:00, ?it/s]"
      ]
     },
     "metadata": {},
     "output_type": "display_data"
    },
    {
     "data": {
      "application/vnd.jupyter.widget-view+json": {
       "model_id": "",
       "version_major": 2,
       "version_minor": 0
      },
      "text/plain": [
       "Validating: 0it [00:00, ?it/s]"
      ]
     },
     "metadata": {},
     "output_type": "display_data"
    },
    {
     "data": {
      "application/vnd.jupyter.widget-view+json": {
       "model_id": "",
       "version_major": 2,
       "version_minor": 0
      },
      "text/plain": [
       "Validating: 0it [00:00, ?it/s]"
      ]
     },
     "metadata": {},
     "output_type": "display_data"
    },
    {
     "data": {
      "application/vnd.jupyter.widget-view+json": {
       "model_id": "",
       "version_major": 2,
       "version_minor": 0
      },
      "text/plain": [
       "Validating: 0it [00:00, ?it/s]"
      ]
     },
     "metadata": {},
     "output_type": "display_data"
    },
    {
     "data": {
      "application/vnd.jupyter.widget-view+json": {
       "model_id": "",
       "version_major": 2,
       "version_minor": 0
      },
      "text/plain": [
       "Validating: 0it [00:00, ?it/s]"
      ]
     },
     "metadata": {},
     "output_type": "display_data"
    },
    {
     "data": {
      "application/vnd.jupyter.widget-view+json": {
       "model_id": "",
       "version_major": 2,
       "version_minor": 0
      },
      "text/plain": [
       "Validating: 0it [00:00, ?it/s]"
      ]
     },
     "metadata": {},
     "output_type": "display_data"
    },
    {
     "data": {
      "application/vnd.jupyter.widget-view+json": {
       "model_id": "",
       "version_major": 2,
       "version_minor": 0
      },
      "text/plain": [
       "Validating: 0it [00:00, ?it/s]"
      ]
     },
     "metadata": {},
     "output_type": "display_data"
    },
    {
     "data": {
      "application/vnd.jupyter.widget-view+json": {
       "model_id": "",
       "version_major": 2,
       "version_minor": 0
      },
      "text/plain": [
       "Validating: 0it [00:00, ?it/s]"
      ]
     },
     "metadata": {},
     "output_type": "display_data"
    },
    {
     "data": {
      "application/vnd.jupyter.widget-view+json": {
       "model_id": "",
       "version_major": 2,
       "version_minor": 0
      },
      "text/plain": [
       "Validating: 0it [00:00, ?it/s]"
      ]
     },
     "metadata": {},
     "output_type": "display_data"
    },
    {
     "data": {
      "application/vnd.jupyter.widget-view+json": {
       "model_id": "",
       "version_major": 2,
       "version_minor": 0
      },
      "text/plain": [
       "Validating: 0it [00:00, ?it/s]"
      ]
     },
     "metadata": {},
     "output_type": "display_data"
    },
    {
     "data": {
      "application/vnd.jupyter.widget-view+json": {
       "model_id": "",
       "version_major": 2,
       "version_minor": 0
      },
      "text/plain": [
       "Validating: 0it [00:00, ?it/s]"
      ]
     },
     "metadata": {},
     "output_type": "display_data"
    },
    {
     "data": {
      "application/vnd.jupyter.widget-view+json": {
       "model_id": "",
       "version_major": 2,
       "version_minor": 0
      },
      "text/plain": [
       "Validating: 0it [00:00, ?it/s]"
      ]
     },
     "metadata": {},
     "output_type": "display_data"
    },
    {
     "data": {
      "application/vnd.jupyter.widget-view+json": {
       "model_id": "",
       "version_major": 2,
       "version_minor": 0
      },
      "text/plain": [
       "Validating: 0it [00:00, ?it/s]"
      ]
     },
     "metadata": {},
     "output_type": "display_data"
    },
    {
     "data": {
      "application/vnd.jupyter.widget-view+json": {
       "model_id": "",
       "version_major": 2,
       "version_minor": 0
      },
      "text/plain": [
       "Validating: 0it [00:00, ?it/s]"
      ]
     },
     "metadata": {},
     "output_type": "display_data"
    },
    {
     "data": {
      "application/vnd.jupyter.widget-view+json": {
       "model_id": "",
       "version_major": 2,
       "version_minor": 0
      },
      "text/plain": [
       "Validating: 0it [00:00, ?it/s]"
      ]
     },
     "metadata": {},
     "output_type": "display_data"
    },
    {
     "data": {
      "application/vnd.jupyter.widget-view+json": {
       "model_id": "",
       "version_major": 2,
       "version_minor": 0
      },
      "text/plain": [
       "Validating: 0it [00:00, ?it/s]"
      ]
     },
     "metadata": {},
     "output_type": "display_data"
    },
    {
     "data": {
      "application/vnd.jupyter.widget-view+json": {
       "model_id": "",
       "version_major": 2,
       "version_minor": 0
      },
      "text/plain": [
       "Validating: 0it [00:00, ?it/s]"
      ]
     },
     "metadata": {},
     "output_type": "display_data"
    },
    {
     "data": {
      "application/vnd.jupyter.widget-view+json": {
       "model_id": "",
       "version_major": 2,
       "version_minor": 0
      },
      "text/plain": [
       "Validating: 0it [00:00, ?it/s]"
      ]
     },
     "metadata": {},
     "output_type": "display_data"
    },
    {
     "data": {
      "application/vnd.jupyter.widget-view+json": {
       "model_id": "",
       "version_major": 2,
       "version_minor": 0
      },
      "text/plain": [
       "Validating: 0it [00:00, ?it/s]"
      ]
     },
     "metadata": {},
     "output_type": "display_data"
    },
    {
     "data": {
      "application/vnd.jupyter.widget-view+json": {
       "model_id": "",
       "version_major": 2,
       "version_minor": 0
      },
      "text/plain": [
       "Validating: 0it [00:00, ?it/s]"
      ]
     },
     "metadata": {},
     "output_type": "display_data"
    },
    {
     "data": {
      "application/vnd.jupyter.widget-view+json": {
       "model_id": "",
       "version_major": 2,
       "version_minor": 0
      },
      "text/plain": [
       "Validating: 0it [00:00, ?it/s]"
      ]
     },
     "metadata": {},
     "output_type": "display_data"
    },
    {
     "data": {
      "application/vnd.jupyter.widget-view+json": {
       "model_id": "",
       "version_major": 2,
       "version_minor": 0
      },
      "text/plain": [
       "Validating: 0it [00:00, ?it/s]"
      ]
     },
     "metadata": {},
     "output_type": "display_data"
    },
    {
     "data": {
      "application/vnd.jupyter.widget-view+json": {
       "model_id": "",
       "version_major": 2,
       "version_minor": 0
      },
      "text/plain": [
       "Validating: 0it [00:00, ?it/s]"
      ]
     },
     "metadata": {},
     "output_type": "display_data"
    },
    {
     "data": {
      "application/vnd.jupyter.widget-view+json": {
       "model_id": "",
       "version_major": 2,
       "version_minor": 0
      },
      "text/plain": [
       "Validating: 0it [00:00, ?it/s]"
      ]
     },
     "metadata": {},
     "output_type": "display_data"
    },
    {
     "data": {
      "application/vnd.jupyter.widget-view+json": {
       "model_id": "",
       "version_major": 2,
       "version_minor": 0
      },
      "text/plain": [
       "Validating: 0it [00:00, ?it/s]"
      ]
     },
     "metadata": {},
     "output_type": "display_data"
    },
    {
     "data": {
      "application/vnd.jupyter.widget-view+json": {
       "model_id": "",
       "version_major": 2,
       "version_minor": 0
      },
      "text/plain": [
       "Validating: 0it [00:00, ?it/s]"
      ]
     },
     "metadata": {},
     "output_type": "display_data"
    },
    {
     "data": {
      "application/vnd.jupyter.widget-view+json": {
       "model_id": "",
       "version_major": 2,
       "version_minor": 0
      },
      "text/plain": [
       "Validating: 0it [00:00, ?it/s]"
      ]
     },
     "metadata": {},
     "output_type": "display_data"
    },
    {
     "data": {
      "application/vnd.jupyter.widget-view+json": {
       "model_id": "",
       "version_major": 2,
       "version_minor": 0
      },
      "text/plain": [
       "Validating: 0it [00:00, ?it/s]"
      ]
     },
     "metadata": {},
     "output_type": "display_data"
    },
    {
     "data": {
      "application/vnd.jupyter.widget-view+json": {
       "model_id": "",
       "version_major": 2,
       "version_minor": 0
      },
      "text/plain": [
       "Validating: 0it [00:00, ?it/s]"
      ]
     },
     "metadata": {},
     "output_type": "display_data"
    },
    {
     "data": {
      "application/vnd.jupyter.widget-view+json": {
       "model_id": "",
       "version_major": 2,
       "version_minor": 0
      },
      "text/plain": [
       "Validating: 0it [00:00, ?it/s]"
      ]
     },
     "metadata": {},
     "output_type": "display_data"
    },
    {
     "data": {
      "application/vnd.jupyter.widget-view+json": {
       "model_id": "",
       "version_major": 2,
       "version_minor": 0
      },
      "text/plain": [
       "Validating: 0it [00:00, ?it/s]"
      ]
     },
     "metadata": {},
     "output_type": "display_data"
    },
    {
     "data": {
      "application/vnd.jupyter.widget-view+json": {
       "model_id": "",
       "version_major": 2,
       "version_minor": 0
      },
      "text/plain": [
       "Validating: 0it [00:00, ?it/s]"
      ]
     },
     "metadata": {},
     "output_type": "display_data"
    },
    {
     "data": {
      "application/vnd.jupyter.widget-view+json": {
       "model_id": "",
       "version_major": 2,
       "version_minor": 0
      },
      "text/plain": [
       "Validating: 0it [00:00, ?it/s]"
      ]
     },
     "metadata": {},
     "output_type": "display_data"
    },
    {
     "data": {
      "application/vnd.jupyter.widget-view+json": {
       "model_id": "",
       "version_major": 2,
       "version_minor": 0
      },
      "text/plain": [
       "Validating: 0it [00:00, ?it/s]"
      ]
     },
     "metadata": {},
     "output_type": "display_data"
    },
    {
     "data": {
      "application/vnd.jupyter.widget-view+json": {
       "model_id": "",
       "version_major": 2,
       "version_minor": 0
      },
      "text/plain": [
       "Validating: 0it [00:00, ?it/s]"
      ]
     },
     "metadata": {},
     "output_type": "display_data"
    },
    {
     "data": {
      "application/vnd.jupyter.widget-view+json": {
       "model_id": "",
       "version_major": 2,
       "version_minor": 0
      },
      "text/plain": [
       "Validating: 0it [00:00, ?it/s]"
      ]
     },
     "metadata": {},
     "output_type": "display_data"
    },
    {
     "data": {
      "application/vnd.jupyter.widget-view+json": {
       "model_id": "",
       "version_major": 2,
       "version_minor": 0
      },
      "text/plain": [
       "Validating: 0it [00:00, ?it/s]"
      ]
     },
     "metadata": {},
     "output_type": "display_data"
    },
    {
     "data": {
      "application/vnd.jupyter.widget-view+json": {
       "model_id": "",
       "version_major": 2,
       "version_minor": 0
      },
      "text/plain": [
       "Validating: 0it [00:00, ?it/s]"
      ]
     },
     "metadata": {},
     "output_type": "display_data"
    },
    {
     "data": {
      "application/vnd.jupyter.widget-view+json": {
       "model_id": "",
       "version_major": 2,
       "version_minor": 0
      },
      "text/plain": [
       "Validating: 0it [00:00, ?it/s]"
      ]
     },
     "metadata": {},
     "output_type": "display_data"
    },
    {
     "data": {
      "application/vnd.jupyter.widget-view+json": {
       "model_id": "",
       "version_major": 2,
       "version_minor": 0
      },
      "text/plain": [
       "Validating: 0it [00:00, ?it/s]"
      ]
     },
     "metadata": {},
     "output_type": "display_data"
    },
    {
     "data": {
      "application/vnd.jupyter.widget-view+json": {
       "model_id": "",
       "version_major": 2,
       "version_minor": 0
      },
      "text/plain": [
       "Validating: 0it [00:00, ?it/s]"
      ]
     },
     "metadata": {},
     "output_type": "display_data"
    },
    {
     "data": {
      "application/vnd.jupyter.widget-view+json": {
       "model_id": "",
       "version_major": 2,
       "version_minor": 0
      },
      "text/plain": [
       "Validating: 0it [00:00, ?it/s]"
      ]
     },
     "metadata": {},
     "output_type": "display_data"
    },
    {
     "data": {
      "application/vnd.jupyter.widget-view+json": {
       "model_id": "",
       "version_major": 2,
       "version_minor": 0
      },
      "text/plain": [
       "Validating: 0it [00:00, ?it/s]"
      ]
     },
     "metadata": {},
     "output_type": "display_data"
    },
    {
     "data": {
      "application/vnd.jupyter.widget-view+json": {
       "model_id": "",
       "version_major": 2,
       "version_minor": 0
      },
      "text/plain": [
       "Validating: 0it [00:00, ?it/s]"
      ]
     },
     "metadata": {},
     "output_type": "display_data"
    },
    {
     "data": {
      "application/vnd.jupyter.widget-view+json": {
       "model_id": "",
       "version_major": 2,
       "version_minor": 0
      },
      "text/plain": [
       "Validating: 0it [00:00, ?it/s]"
      ]
     },
     "metadata": {},
     "output_type": "display_data"
    },
    {
     "data": {
      "application/vnd.jupyter.widget-view+json": {
       "model_id": "",
       "version_major": 2,
       "version_minor": 0
      },
      "text/plain": [
       "Validating: 0it [00:00, ?it/s]"
      ]
     },
     "metadata": {},
     "output_type": "display_data"
    },
    {
     "data": {
      "application/vnd.jupyter.widget-view+json": {
       "model_id": "",
       "version_major": 2,
       "version_minor": 0
      },
      "text/plain": [
       "Validating: 0it [00:00, ?it/s]"
      ]
     },
     "metadata": {},
     "output_type": "display_data"
    },
    {
     "data": {
      "application/vnd.jupyter.widget-view+json": {
       "model_id": "",
       "version_major": 2,
       "version_minor": 0
      },
      "text/plain": [
       "Validating: 0it [00:00, ?it/s]"
      ]
     },
     "metadata": {},
     "output_type": "display_data"
    },
    {
     "data": {
      "application/vnd.jupyter.widget-view+json": {
       "model_id": "",
       "version_major": 2,
       "version_minor": 0
      },
      "text/plain": [
       "Validating: 0it [00:00, ?it/s]"
      ]
     },
     "metadata": {},
     "output_type": "display_data"
    },
    {
     "data": {
      "application/vnd.jupyter.widget-view+json": {
       "model_id": "",
       "version_major": 2,
       "version_minor": 0
      },
      "text/plain": [
       "Validating: 0it [00:00, ?it/s]"
      ]
     },
     "metadata": {},
     "output_type": "display_data"
    },
    {
     "data": {
      "application/vnd.jupyter.widget-view+json": {
       "model_id": "",
       "version_major": 2,
       "version_minor": 0
      },
      "text/plain": [
       "Validating: 0it [00:00, ?it/s]"
      ]
     },
     "metadata": {},
     "output_type": "display_data"
    },
    {
     "data": {
      "application/vnd.jupyter.widget-view+json": {
       "model_id": "",
       "version_major": 2,
       "version_minor": 0
      },
      "text/plain": [
       "Validating: 0it [00:00, ?it/s]"
      ]
     },
     "metadata": {},
     "output_type": "display_data"
    },
    {
     "data": {
      "application/vnd.jupyter.widget-view+json": {
       "model_id": "",
       "version_major": 2,
       "version_minor": 0
      },
      "text/plain": [
       "Validating: 0it [00:00, ?it/s]"
      ]
     },
     "metadata": {},
     "output_type": "display_data"
    },
    {
     "data": {
      "application/vnd.jupyter.widget-view+json": {
       "model_id": "",
       "version_major": 2,
       "version_minor": 0
      },
      "text/plain": [
       "Validating: 0it [00:00, ?it/s]"
      ]
     },
     "metadata": {},
     "output_type": "display_data"
    },
    {
     "data": {
      "application/vnd.jupyter.widget-view+json": {
       "model_id": "",
       "version_major": 2,
       "version_minor": 0
      },
      "text/plain": [
       "Validating: 0it [00:00, ?it/s]"
      ]
     },
     "metadata": {},
     "output_type": "display_data"
    },
    {
     "data": {
      "application/vnd.jupyter.widget-view+json": {
       "model_id": "",
       "version_major": 2,
       "version_minor": 0
      },
      "text/plain": [
       "Validating: 0it [00:00, ?it/s]"
      ]
     },
     "metadata": {},
     "output_type": "display_data"
    },
    {
     "data": {
      "application/vnd.jupyter.widget-view+json": {
       "model_id": "",
       "version_major": 2,
       "version_minor": 0
      },
      "text/plain": [
       "Validating: 0it [00:00, ?it/s]"
      ]
     },
     "metadata": {},
     "output_type": "display_data"
    },
    {
     "data": {
      "application/vnd.jupyter.widget-view+json": {
       "model_id": "",
       "version_major": 2,
       "version_minor": 0
      },
      "text/plain": [
       "Validating: 0it [00:00, ?it/s]"
      ]
     },
     "metadata": {},
     "output_type": "display_data"
    },
    {
     "data": {
      "application/vnd.jupyter.widget-view+json": {
       "model_id": "",
       "version_major": 2,
       "version_minor": 0
      },
      "text/plain": [
       "Validating: 0it [00:00, ?it/s]"
      ]
     },
     "metadata": {},
     "output_type": "display_data"
    },
    {
     "data": {
      "application/vnd.jupyter.widget-view+json": {
       "model_id": "",
       "version_major": 2,
       "version_minor": 0
      },
      "text/plain": [
       "Validating: 0it [00:00, ?it/s]"
      ]
     },
     "metadata": {},
     "output_type": "display_data"
    },
    {
     "data": {
      "application/vnd.jupyter.widget-view+json": {
       "model_id": "",
       "version_major": 2,
       "version_minor": 0
      },
      "text/plain": [
       "Validating: 0it [00:00, ?it/s]"
      ]
     },
     "metadata": {},
     "output_type": "display_data"
    },
    {
     "data": {
      "application/vnd.jupyter.widget-view+json": {
       "model_id": "",
       "version_major": 2,
       "version_minor": 0
      },
      "text/plain": [
       "Validating: 0it [00:00, ?it/s]"
      ]
     },
     "metadata": {},
     "output_type": "display_data"
    },
    {
     "data": {
      "application/vnd.jupyter.widget-view+json": {
       "model_id": "",
       "version_major": 2,
       "version_minor": 0
      },
      "text/plain": [
       "Validating: 0it [00:00, ?it/s]"
      ]
     },
     "metadata": {},
     "output_type": "display_data"
    },
    {
     "data": {
      "application/vnd.jupyter.widget-view+json": {
       "model_id": "",
       "version_major": 2,
       "version_minor": 0
      },
      "text/plain": [
       "Validating: 0it [00:00, ?it/s]"
      ]
     },
     "metadata": {},
     "output_type": "display_data"
    },
    {
     "data": {
      "application/vnd.jupyter.widget-view+json": {
       "model_id": "",
       "version_major": 2,
       "version_minor": 0
      },
      "text/plain": [
       "Validating: 0it [00:00, ?it/s]"
      ]
     },
     "metadata": {},
     "output_type": "display_data"
    },
    {
     "data": {
      "application/vnd.jupyter.widget-view+json": {
       "model_id": "",
       "version_major": 2,
       "version_minor": 0
      },
      "text/plain": [
       "Validating: 0it [00:00, ?it/s]"
      ]
     },
     "metadata": {},
     "output_type": "display_data"
    },
    {
     "data": {
      "application/vnd.jupyter.widget-view+json": {
       "model_id": "",
       "version_major": 2,
       "version_minor": 0
      },
      "text/plain": [
       "Validating: 0it [00:00, ?it/s]"
      ]
     },
     "metadata": {},
     "output_type": "display_data"
    },
    {
     "data": {
      "application/vnd.jupyter.widget-view+json": {
       "model_id": "",
       "version_major": 2,
       "version_minor": 0
      },
      "text/plain": [
       "Validating: 0it [00:00, ?it/s]"
      ]
     },
     "metadata": {},
     "output_type": "display_data"
    },
    {
     "data": {
      "application/vnd.jupyter.widget-view+json": {
       "model_id": "",
       "version_major": 2,
       "version_minor": 0
      },
      "text/plain": [
       "Validating: 0it [00:00, ?it/s]"
      ]
     },
     "metadata": {},
     "output_type": "display_data"
    },
    {
     "data": {
      "application/vnd.jupyter.widget-view+json": {
       "model_id": "",
       "version_major": 2,
       "version_minor": 0
      },
      "text/plain": [
       "Validating: 0it [00:00, ?it/s]"
      ]
     },
     "metadata": {},
     "output_type": "display_data"
    },
    {
     "data": {
      "application/vnd.jupyter.widget-view+json": {
       "model_id": "",
       "version_major": 2,
       "version_minor": 0
      },
      "text/plain": [
       "Validating: 0it [00:00, ?it/s]"
      ]
     },
     "metadata": {},
     "output_type": "display_data"
    },
    {
     "data": {
      "application/vnd.jupyter.widget-view+json": {
       "model_id": "",
       "version_major": 2,
       "version_minor": 0
      },
      "text/plain": [
       "Validating: 0it [00:00, ?it/s]"
      ]
     },
     "metadata": {},
     "output_type": "display_data"
    },
    {
     "data": {
      "application/vnd.jupyter.widget-view+json": {
       "model_id": "",
       "version_major": 2,
       "version_minor": 0
      },
      "text/plain": [
       "Validating: 0it [00:00, ?it/s]"
      ]
     },
     "metadata": {},
     "output_type": "display_data"
    },
    {
     "data": {
      "application/vnd.jupyter.widget-view+json": {
       "model_id": "",
       "version_major": 2,
       "version_minor": 0
      },
      "text/plain": [
       "Validating: 0it [00:00, ?it/s]"
      ]
     },
     "metadata": {},
     "output_type": "display_data"
    },
    {
     "data": {
      "application/vnd.jupyter.widget-view+json": {
       "model_id": "",
       "version_major": 2,
       "version_minor": 0
      },
      "text/plain": [
       "Validating: 0it [00:00, ?it/s]"
      ]
     },
     "metadata": {},
     "output_type": "display_data"
    },
    {
     "data": {
      "application/vnd.jupyter.widget-view+json": {
       "model_id": "",
       "version_major": 2,
       "version_minor": 0
      },
      "text/plain": [
       "Validating: 0it [00:00, ?it/s]"
      ]
     },
     "metadata": {},
     "output_type": "display_data"
    },
    {
     "data": {
      "application/vnd.jupyter.widget-view+json": {
       "model_id": "",
       "version_major": 2,
       "version_minor": 0
      },
      "text/plain": [
       "Validating: 0it [00:00, ?it/s]"
      ]
     },
     "metadata": {},
     "output_type": "display_data"
    },
    {
     "data": {
      "application/vnd.jupyter.widget-view+json": {
       "model_id": "",
       "version_major": 2,
       "version_minor": 0
      },
      "text/plain": [
       "Validating: 0it [00:00, ?it/s]"
      ]
     },
     "metadata": {},
     "output_type": "display_data"
    },
    {
     "data": {
      "application/vnd.jupyter.widget-view+json": {
       "model_id": "",
       "version_major": 2,
       "version_minor": 0
      },
      "text/plain": [
       "Validating: 0it [00:00, ?it/s]"
      ]
     },
     "metadata": {},
     "output_type": "display_data"
    },
    {
     "data": {
      "application/vnd.jupyter.widget-view+json": {
       "model_id": "",
       "version_major": 2,
       "version_minor": 0
      },
      "text/plain": [
       "Validating: 0it [00:00, ?it/s]"
      ]
     },
     "metadata": {},
     "output_type": "display_data"
    },
    {
     "data": {
      "application/vnd.jupyter.widget-view+json": {
       "model_id": "",
       "version_major": 2,
       "version_minor": 0
      },
      "text/plain": [
       "Validating: 0it [00:00, ?it/s]"
      ]
     },
     "metadata": {},
     "output_type": "display_data"
    },
    {
     "data": {
      "application/vnd.jupyter.widget-view+json": {
       "model_id": "",
       "version_major": 2,
       "version_minor": 0
      },
      "text/plain": [
       "Validating: 0it [00:00, ?it/s]"
      ]
     },
     "metadata": {},
     "output_type": "display_data"
    },
    {
     "data": {
      "application/vnd.jupyter.widget-view+json": {
       "model_id": "",
       "version_major": 2,
       "version_minor": 0
      },
      "text/plain": [
       "Validating: 0it [00:00, ?it/s]"
      ]
     },
     "metadata": {},
     "output_type": "display_data"
    },
    {
     "data": {
      "application/vnd.jupyter.widget-view+json": {
       "model_id": "",
       "version_major": 2,
       "version_minor": 0
      },
      "text/plain": [
       "Validating: 0it [00:00, ?it/s]"
      ]
     },
     "metadata": {},
     "output_type": "display_data"
    },
    {
     "data": {
      "application/vnd.jupyter.widget-view+json": {
       "model_id": "",
       "version_major": 2,
       "version_minor": 0
      },
      "text/plain": [
       "Validating: 0it [00:00, ?it/s]"
      ]
     },
     "metadata": {},
     "output_type": "display_data"
    },
    {
     "data": {
      "application/vnd.jupyter.widget-view+json": {
       "model_id": "",
       "version_major": 2,
       "version_minor": 0
      },
      "text/plain": [
       "Validating: 0it [00:00, ?it/s]"
      ]
     },
     "metadata": {},
     "output_type": "display_data"
    },
    {
     "data": {
      "application/vnd.jupyter.widget-view+json": {
       "model_id": "",
       "version_major": 2,
       "version_minor": 0
      },
      "text/plain": [
       "Validating: 0it [00:00, ?it/s]"
      ]
     },
     "metadata": {},
     "output_type": "display_data"
    },
    {
     "data": {
      "application/vnd.jupyter.widget-view+json": {
       "model_id": "",
       "version_major": 2,
       "version_minor": 0
      },
      "text/plain": [
       "Validating: 0it [00:00, ?it/s]"
      ]
     },
     "metadata": {},
     "output_type": "display_data"
    },
    {
     "data": {
      "application/vnd.jupyter.widget-view+json": {
       "model_id": "",
       "version_major": 2,
       "version_minor": 0
      },
      "text/plain": [
       "Validating: 0it [00:00, ?it/s]"
      ]
     },
     "metadata": {},
     "output_type": "display_data"
    },
    {
     "data": {
      "application/vnd.jupyter.widget-view+json": {
       "model_id": "",
       "version_major": 2,
       "version_minor": 0
      },
      "text/plain": [
       "Validating: 0it [00:00, ?it/s]"
      ]
     },
     "metadata": {},
     "output_type": "display_data"
    },
    {
     "data": {
      "application/vnd.jupyter.widget-view+json": {
       "model_id": "",
       "version_major": 2,
       "version_minor": 0
      },
      "text/plain": [
       "Validating: 0it [00:00, ?it/s]"
      ]
     },
     "metadata": {},
     "output_type": "display_data"
    },
    {
     "data": {
      "application/vnd.jupyter.widget-view+json": {
       "model_id": "",
       "version_major": 2,
       "version_minor": 0
      },
      "text/plain": [
       "Validating: 0it [00:00, ?it/s]"
      ]
     },
     "metadata": {},
     "output_type": "display_data"
    },
    {
     "data": {
      "application/vnd.jupyter.widget-view+json": {
       "model_id": "",
       "version_major": 2,
       "version_minor": 0
      },
      "text/plain": [
       "Validating: 0it [00:00, ?it/s]"
      ]
     },
     "metadata": {},
     "output_type": "display_data"
    },
    {
     "data": {
      "application/vnd.jupyter.widget-view+json": {
       "model_id": "",
       "version_major": 2,
       "version_minor": 0
      },
      "text/plain": [
       "Validating: 0it [00:00, ?it/s]"
      ]
     },
     "metadata": {},
     "output_type": "display_data"
    },
    {
     "data": {
      "application/vnd.jupyter.widget-view+json": {
       "model_id": "",
       "version_major": 2,
       "version_minor": 0
      },
      "text/plain": [
       "Validating: 0it [00:00, ?it/s]"
      ]
     },
     "metadata": {},
     "output_type": "display_data"
    },
    {
     "data": {
      "application/vnd.jupyter.widget-view+json": {
       "model_id": "",
       "version_major": 2,
       "version_minor": 0
      },
      "text/plain": [
       "Validating: 0it [00:00, ?it/s]"
      ]
     },
     "metadata": {},
     "output_type": "display_data"
    },
    {
     "data": {
      "application/vnd.jupyter.widget-view+json": {
       "model_id": "",
       "version_major": 2,
       "version_minor": 0
      },
      "text/plain": [
       "Validating: 0it [00:00, ?it/s]"
      ]
     },
     "metadata": {},
     "output_type": "display_data"
    },
    {
     "data": {
      "application/vnd.jupyter.widget-view+json": {
       "model_id": "",
       "version_major": 2,
       "version_minor": 0
      },
      "text/plain": [
       "Validating: 0it [00:00, ?it/s]"
      ]
     },
     "metadata": {},
     "output_type": "display_data"
    },
    {
     "data": {
      "application/vnd.jupyter.widget-view+json": {
       "model_id": "",
       "version_major": 2,
       "version_minor": 0
      },
      "text/plain": [
       "Validating: 0it [00:00, ?it/s]"
      ]
     },
     "metadata": {},
     "output_type": "display_data"
    },
    {
     "data": {
      "application/vnd.jupyter.widget-view+json": {
       "model_id": "",
       "version_major": 2,
       "version_minor": 0
      },
      "text/plain": [
       "Validating: 0it [00:00, ?it/s]"
      ]
     },
     "metadata": {},
     "output_type": "display_data"
    },
    {
     "data": {
      "application/vnd.jupyter.widget-view+json": {
       "model_id": "",
       "version_major": 2,
       "version_minor": 0
      },
      "text/plain": [
       "Validating: 0it [00:00, ?it/s]"
      ]
     },
     "metadata": {},
     "output_type": "display_data"
    },
    {
     "data": {
      "application/vnd.jupyter.widget-view+json": {
       "model_id": "",
       "version_major": 2,
       "version_minor": 0
      },
      "text/plain": [
       "Validating: 0it [00:00, ?it/s]"
      ]
     },
     "metadata": {},
     "output_type": "display_data"
    },
    {
     "data": {
      "application/vnd.jupyter.widget-view+json": {
       "model_id": "",
       "version_major": 2,
       "version_minor": 0
      },
      "text/plain": [
       "Validating: 0it [00:00, ?it/s]"
      ]
     },
     "metadata": {},
     "output_type": "display_data"
    },
    {
     "data": {
      "application/vnd.jupyter.widget-view+json": {
       "model_id": "",
       "version_major": 2,
       "version_minor": 0
      },
      "text/plain": [
       "Validating: 0it [00:00, ?it/s]"
      ]
     },
     "metadata": {},
     "output_type": "display_data"
    },
    {
     "data": {
      "application/vnd.jupyter.widget-view+json": {
       "model_id": "",
       "version_major": 2,
       "version_minor": 0
      },
      "text/plain": [
       "Validating: 0it [00:00, ?it/s]"
      ]
     },
     "metadata": {},
     "output_type": "display_data"
    },
    {
     "data": {
      "application/vnd.jupyter.widget-view+json": {
       "model_id": "",
       "version_major": 2,
       "version_minor": 0
      },
      "text/plain": [
       "Validating: 0it [00:00, ?it/s]"
      ]
     },
     "metadata": {},
     "output_type": "display_data"
    },
    {
     "data": {
      "application/vnd.jupyter.widget-view+json": {
       "model_id": "",
       "version_major": 2,
       "version_minor": 0
      },
      "text/plain": [
       "Validating: 0it [00:00, ?it/s]"
      ]
     },
     "metadata": {},
     "output_type": "display_data"
    },
    {
     "data": {
      "application/vnd.jupyter.widget-view+json": {
       "model_id": "",
       "version_major": 2,
       "version_minor": 0
      },
      "text/plain": [
       "Validating: 0it [00:00, ?it/s]"
      ]
     },
     "metadata": {},
     "output_type": "display_data"
    },
    {
     "data": {
      "application/vnd.jupyter.widget-view+json": {
       "model_id": "",
       "version_major": 2,
       "version_minor": 0
      },
      "text/plain": [
       "Validating: 0it [00:00, ?it/s]"
      ]
     },
     "metadata": {},
     "output_type": "display_data"
    },
    {
     "data": {
      "application/vnd.jupyter.widget-view+json": {
       "model_id": "",
       "version_major": 2,
       "version_minor": 0
      },
      "text/plain": [
       "Validating: 0it [00:00, ?it/s]"
      ]
     },
     "metadata": {},
     "output_type": "display_data"
    },
    {
     "data": {
      "application/vnd.jupyter.widget-view+json": {
       "model_id": "",
       "version_major": 2,
       "version_minor": 0
      },
      "text/plain": [
       "Validating: 0it [00:00, ?it/s]"
      ]
     },
     "metadata": {},
     "output_type": "display_data"
    },
    {
     "data": {
      "application/vnd.jupyter.widget-view+json": {
       "model_id": "",
       "version_major": 2,
       "version_minor": 0
      },
      "text/plain": [
       "Validating: 0it [00:00, ?it/s]"
      ]
     },
     "metadata": {},
     "output_type": "display_data"
    },
    {
     "data": {
      "application/vnd.jupyter.widget-view+json": {
       "model_id": "",
       "version_major": 2,
       "version_minor": 0
      },
      "text/plain": [
       "Validating: 0it [00:00, ?it/s]"
      ]
     },
     "metadata": {},
     "output_type": "display_data"
    },
    {
     "data": {
      "application/vnd.jupyter.widget-view+json": {
       "model_id": "",
       "version_major": 2,
       "version_minor": 0
      },
      "text/plain": [
       "Validating: 0it [00:00, ?it/s]"
      ]
     },
     "metadata": {},
     "output_type": "display_data"
    },
    {
     "data": {
      "application/vnd.jupyter.widget-view+json": {
       "model_id": "",
       "version_major": 2,
       "version_minor": 0
      },
      "text/plain": [
       "Validating: 0it [00:00, ?it/s]"
      ]
     },
     "metadata": {},
     "output_type": "display_data"
    },
    {
     "data": {
      "application/vnd.jupyter.widget-view+json": {
       "model_id": "",
       "version_major": 2,
       "version_minor": 0
      },
      "text/plain": [
       "Validating: 0it [00:00, ?it/s]"
      ]
     },
     "metadata": {},
     "output_type": "display_data"
    },
    {
     "data": {
      "application/vnd.jupyter.widget-view+json": {
       "model_id": "",
       "version_major": 2,
       "version_minor": 0
      },
      "text/plain": [
       "Validating: 0it [00:00, ?it/s]"
      ]
     },
     "metadata": {},
     "output_type": "display_data"
    },
    {
     "data": {
      "application/vnd.jupyter.widget-view+json": {
       "model_id": "",
       "version_major": 2,
       "version_minor": 0
      },
      "text/plain": [
       "Validating: 0it [00:00, ?it/s]"
      ]
     },
     "metadata": {},
     "output_type": "display_data"
    },
    {
     "data": {
      "application/vnd.jupyter.widget-view+json": {
       "model_id": "",
       "version_major": 2,
       "version_minor": 0
      },
      "text/plain": [
       "Validating: 0it [00:00, ?it/s]"
      ]
     },
     "metadata": {},
     "output_type": "display_data"
    },
    {
     "data": {
      "application/vnd.jupyter.widget-view+json": {
       "model_id": "",
       "version_major": 2,
       "version_minor": 0
      },
      "text/plain": [
       "Validating: 0it [00:00, ?it/s]"
      ]
     },
     "metadata": {},
     "output_type": "display_data"
    },
    {
     "data": {
      "application/vnd.jupyter.widget-view+json": {
       "model_id": "",
       "version_major": 2,
       "version_minor": 0
      },
      "text/plain": [
       "Validating: 0it [00:00, ?it/s]"
      ]
     },
     "metadata": {},
     "output_type": "display_data"
    },
    {
     "data": {
      "application/vnd.jupyter.widget-view+json": {
       "model_id": "",
       "version_major": 2,
       "version_minor": 0
      },
      "text/plain": [
       "Validating: 0it [00:00, ?it/s]"
      ]
     },
     "metadata": {},
     "output_type": "display_data"
    },
    {
     "data": {
      "application/vnd.jupyter.widget-view+json": {
       "model_id": "",
       "version_major": 2,
       "version_minor": 0
      },
      "text/plain": [
       "Validating: 0it [00:00, ?it/s]"
      ]
     },
     "metadata": {},
     "output_type": "display_data"
    },
    {
     "data": {
      "application/vnd.jupyter.widget-view+json": {
       "model_id": "",
       "version_major": 2,
       "version_minor": 0
      },
      "text/plain": [
       "Validating: 0it [00:00, ?it/s]"
      ]
     },
     "metadata": {},
     "output_type": "display_data"
    },
    {
     "data": {
      "application/vnd.jupyter.widget-view+json": {
       "model_id": "",
       "version_major": 2,
       "version_minor": 0
      },
      "text/plain": [
       "Validating: 0it [00:00, ?it/s]"
      ]
     },
     "metadata": {},
     "output_type": "display_data"
    },
    {
     "data": {
      "application/vnd.jupyter.widget-view+json": {
       "model_id": "",
       "version_major": 2,
       "version_minor": 0
      },
      "text/plain": [
       "Validating: 0it [00:00, ?it/s]"
      ]
     },
     "metadata": {},
     "output_type": "display_data"
    },
    {
     "data": {
      "application/vnd.jupyter.widget-view+json": {
       "model_id": "",
       "version_major": 2,
       "version_minor": 0
      },
      "text/plain": [
       "Validating: 0it [00:00, ?it/s]"
      ]
     },
     "metadata": {},
     "output_type": "display_data"
    },
    {
     "data": {
      "application/vnd.jupyter.widget-view+json": {
       "model_id": "",
       "version_major": 2,
       "version_minor": 0
      },
      "text/plain": [
       "Validating: 0it [00:00, ?it/s]"
      ]
     },
     "metadata": {},
     "output_type": "display_data"
    },
    {
     "data": {
      "application/vnd.jupyter.widget-view+json": {
       "model_id": "",
       "version_major": 2,
       "version_minor": 0
      },
      "text/plain": [
       "Validating: 0it [00:00, ?it/s]"
      ]
     },
     "metadata": {},
     "output_type": "display_data"
    },
    {
     "data": {
      "application/vnd.jupyter.widget-view+json": {
       "model_id": "",
       "version_major": 2,
       "version_minor": 0
      },
      "text/plain": [
       "Validating: 0it [00:00, ?it/s]"
      ]
     },
     "metadata": {},
     "output_type": "display_data"
    },
    {
     "data": {
      "application/vnd.jupyter.widget-view+json": {
       "model_id": "",
       "version_major": 2,
       "version_minor": 0
      },
      "text/plain": [
       "Validating: 0it [00:00, ?it/s]"
      ]
     },
     "metadata": {},
     "output_type": "display_data"
    },
    {
     "data": {
      "application/vnd.jupyter.widget-view+json": {
       "model_id": "",
       "version_major": 2,
       "version_minor": 0
      },
      "text/plain": [
       "Validating: 0it [00:00, ?it/s]"
      ]
     },
     "metadata": {},
     "output_type": "display_data"
    },
    {
     "data": {
      "application/vnd.jupyter.widget-view+json": {
       "model_id": "",
       "version_major": 2,
       "version_minor": 0
      },
      "text/plain": [
       "Validating: 0it [00:00, ?it/s]"
      ]
     },
     "metadata": {},
     "output_type": "display_data"
    },
    {
     "data": {
      "application/vnd.jupyter.widget-view+json": {
       "model_id": "",
       "version_major": 2,
       "version_minor": 0
      },
      "text/plain": [
       "Validating: 0it [00:00, ?it/s]"
      ]
     },
     "metadata": {},
     "output_type": "display_data"
    },
    {
     "data": {
      "application/vnd.jupyter.widget-view+json": {
       "model_id": "",
       "version_major": 2,
       "version_minor": 0
      },
      "text/plain": [
       "Validating: 0it [00:00, ?it/s]"
      ]
     },
     "metadata": {},
     "output_type": "display_data"
    },
    {
     "data": {
      "application/vnd.jupyter.widget-view+json": {
       "model_id": "",
       "version_major": 2,
       "version_minor": 0
      },
      "text/plain": [
       "Validating: 0it [00:00, ?it/s]"
      ]
     },
     "metadata": {},
     "output_type": "display_data"
    },
    {
     "data": {
      "application/vnd.jupyter.widget-view+json": {
       "model_id": "",
       "version_major": 2,
       "version_minor": 0
      },
      "text/plain": [
       "Validating: 0it [00:00, ?it/s]"
      ]
     },
     "metadata": {},
     "output_type": "display_data"
    },
    {
     "data": {
      "application/vnd.jupyter.widget-view+json": {
       "model_id": "",
       "version_major": 2,
       "version_minor": 0
      },
      "text/plain": [
       "Validating: 0it [00:00, ?it/s]"
      ]
     },
     "metadata": {},
     "output_type": "display_data"
    },
    {
     "data": {
      "application/vnd.jupyter.widget-view+json": {
       "model_id": "",
       "version_major": 2,
       "version_minor": 0
      },
      "text/plain": [
       "Validating: 0it [00:00, ?it/s]"
      ]
     },
     "metadata": {},
     "output_type": "display_data"
    },
    {
     "data": {
      "application/vnd.jupyter.widget-view+json": {
       "model_id": "",
       "version_major": 2,
       "version_minor": 0
      },
      "text/plain": [
       "Validating: 0it [00:00, ?it/s]"
      ]
     },
     "metadata": {},
     "output_type": "display_data"
    },
    {
     "data": {
      "application/vnd.jupyter.widget-view+json": {
       "model_id": "",
       "version_major": 2,
       "version_minor": 0
      },
      "text/plain": [
       "Validating: 0it [00:00, ?it/s]"
      ]
     },
     "metadata": {},
     "output_type": "display_data"
    },
    {
     "data": {
      "application/vnd.jupyter.widget-view+json": {
       "model_id": "",
       "version_major": 2,
       "version_minor": 0
      },
      "text/plain": [
       "Validating: 0it [00:00, ?it/s]"
      ]
     },
     "metadata": {},
     "output_type": "display_data"
    },
    {
     "data": {
      "application/vnd.jupyter.widget-view+json": {
       "model_id": "",
       "version_major": 2,
       "version_minor": 0
      },
      "text/plain": [
       "Validating: 0it [00:00, ?it/s]"
      ]
     },
     "metadata": {},
     "output_type": "display_data"
    },
    {
     "data": {
      "application/vnd.jupyter.widget-view+json": {
       "model_id": "",
       "version_major": 2,
       "version_minor": 0
      },
      "text/plain": [
       "Validating: 0it [00:00, ?it/s]"
      ]
     },
     "metadata": {},
     "output_type": "display_data"
    },
    {
     "data": {
      "application/vnd.jupyter.widget-view+json": {
       "model_id": "",
       "version_major": 2,
       "version_minor": 0
      },
      "text/plain": [
       "Validating: 0it [00:00, ?it/s]"
      ]
     },
     "metadata": {},
     "output_type": "display_data"
    },
    {
     "data": {
      "application/vnd.jupyter.widget-view+json": {
       "model_id": "",
       "version_major": 2,
       "version_minor": 0
      },
      "text/plain": [
       "Validating: 0it [00:00, ?it/s]"
      ]
     },
     "metadata": {},
     "output_type": "display_data"
    },
    {
     "data": {
      "application/vnd.jupyter.widget-view+json": {
       "model_id": "",
       "version_major": 2,
       "version_minor": 0
      },
      "text/plain": [
       "Validating: 0it [00:00, ?it/s]"
      ]
     },
     "metadata": {},
     "output_type": "display_data"
    },
    {
     "data": {
      "application/vnd.jupyter.widget-view+json": {
       "model_id": "",
       "version_major": 2,
       "version_minor": 0
      },
      "text/plain": [
       "Validating: 0it [00:00, ?it/s]"
      ]
     },
     "metadata": {},
     "output_type": "display_data"
    },
    {
     "data": {
      "application/vnd.jupyter.widget-view+json": {
       "model_id": "",
       "version_major": 2,
       "version_minor": 0
      },
      "text/plain": [
       "Validating: 0it [00:00, ?it/s]"
      ]
     },
     "metadata": {},
     "output_type": "display_data"
    },
    {
     "data": {
      "application/vnd.jupyter.widget-view+json": {
       "model_id": "",
       "version_major": 2,
       "version_minor": 0
      },
      "text/plain": [
       "Validating: 0it [00:00, ?it/s]"
      ]
     },
     "metadata": {},
     "output_type": "display_data"
    },
    {
     "data": {
      "application/vnd.jupyter.widget-view+json": {
       "model_id": "",
       "version_major": 2,
       "version_minor": 0
      },
      "text/plain": [
       "Validating: 0it [00:00, ?it/s]"
      ]
     },
     "metadata": {},
     "output_type": "display_data"
    },
    {
     "data": {
      "application/vnd.jupyter.widget-view+json": {
       "model_id": "",
       "version_major": 2,
       "version_minor": 0
      },
      "text/plain": [
       "Validating: 0it [00:00, ?it/s]"
      ]
     },
     "metadata": {},
     "output_type": "display_data"
    },
    {
     "data": {
      "application/vnd.jupyter.widget-view+json": {
       "model_id": "",
       "version_major": 2,
       "version_minor": 0
      },
      "text/plain": [
       "Validating: 0it [00:00, ?it/s]"
      ]
     },
     "metadata": {},
     "output_type": "display_data"
    },
    {
     "data": {
      "application/vnd.jupyter.widget-view+json": {
       "model_id": "",
       "version_major": 2,
       "version_minor": 0
      },
      "text/plain": [
       "Validating: 0it [00:00, ?it/s]"
      ]
     },
     "metadata": {},
     "output_type": "display_data"
    },
    {
     "data": {
      "application/vnd.jupyter.widget-view+json": {
       "model_id": "",
       "version_major": 2,
       "version_minor": 0
      },
      "text/plain": [
       "Validating: 0it [00:00, ?it/s]"
      ]
     },
     "metadata": {},
     "output_type": "display_data"
    },
    {
     "data": {
      "application/vnd.jupyter.widget-view+json": {
       "model_id": "",
       "version_major": 2,
       "version_minor": 0
      },
      "text/plain": [
       "Validating: 0it [00:00, ?it/s]"
      ]
     },
     "metadata": {},
     "output_type": "display_data"
    },
    {
     "data": {
      "application/vnd.jupyter.widget-view+json": {
       "model_id": "",
       "version_major": 2,
       "version_minor": 0
      },
      "text/plain": [
       "Validating: 0it [00:00, ?it/s]"
      ]
     },
     "metadata": {},
     "output_type": "display_data"
    },
    {
     "data": {
      "application/vnd.jupyter.widget-view+json": {
       "model_id": "",
       "version_major": 2,
       "version_minor": 0
      },
      "text/plain": [
       "Validating: 0it [00:00, ?it/s]"
      ]
     },
     "metadata": {},
     "output_type": "display_data"
    },
    {
     "data": {
      "application/vnd.jupyter.widget-view+json": {
       "model_id": "",
       "version_major": 2,
       "version_minor": 0
      },
      "text/plain": [
       "Validating: 0it [00:00, ?it/s]"
      ]
     },
     "metadata": {},
     "output_type": "display_data"
    },
    {
     "data": {
      "application/vnd.jupyter.widget-view+json": {
       "model_id": "",
       "version_major": 2,
       "version_minor": 0
      },
      "text/plain": [
       "Validating: 0it [00:00, ?it/s]"
      ]
     },
     "metadata": {},
     "output_type": "display_data"
    },
    {
     "data": {
      "application/vnd.jupyter.widget-view+json": {
       "model_id": "",
       "version_major": 2,
       "version_minor": 0
      },
      "text/plain": [
       "Validating: 0it [00:00, ?it/s]"
      ]
     },
     "metadata": {},
     "output_type": "display_data"
    },
    {
     "data": {
      "application/vnd.jupyter.widget-view+json": {
       "model_id": "",
       "version_major": 2,
       "version_minor": 0
      },
      "text/plain": [
       "Validating: 0it [00:00, ?it/s]"
      ]
     },
     "metadata": {},
     "output_type": "display_data"
    },
    {
     "data": {
      "application/vnd.jupyter.widget-view+json": {
       "model_id": "",
       "version_major": 2,
       "version_minor": 0
      },
      "text/plain": [
       "Validating: 0it [00:00, ?it/s]"
      ]
     },
     "metadata": {},
     "output_type": "display_data"
    },
    {
     "data": {
      "application/vnd.jupyter.widget-view+json": {
       "model_id": "",
       "version_major": 2,
       "version_minor": 0
      },
      "text/plain": [
       "Validating: 0it [00:00, ?it/s]"
      ]
     },
     "metadata": {},
     "output_type": "display_data"
    },
    {
     "data": {
      "application/vnd.jupyter.widget-view+json": {
       "model_id": "",
       "version_major": 2,
       "version_minor": 0
      },
      "text/plain": [
       "Validating: 0it [00:00, ?it/s]"
      ]
     },
     "metadata": {},
     "output_type": "display_data"
    },
    {
     "data": {
      "application/vnd.jupyter.widget-view+json": {
       "model_id": "",
       "version_major": 2,
       "version_minor": 0
      },
      "text/plain": [
       "Validating: 0it [00:00, ?it/s]"
      ]
     },
     "metadata": {},
     "output_type": "display_data"
    },
    {
     "data": {
      "application/vnd.jupyter.widget-view+json": {
       "model_id": "",
       "version_major": 2,
       "version_minor": 0
      },
      "text/plain": [
       "Validating: 0it [00:00, ?it/s]"
      ]
     },
     "metadata": {},
     "output_type": "display_data"
    },
    {
     "data": {
      "application/vnd.jupyter.widget-view+json": {
       "model_id": "",
       "version_major": 2,
       "version_minor": 0
      },
      "text/plain": [
       "Validating: 0it [00:00, ?it/s]"
      ]
     },
     "metadata": {},
     "output_type": "display_data"
    },
    {
     "data": {
      "application/vnd.jupyter.widget-view+json": {
       "model_id": "",
       "version_major": 2,
       "version_minor": 0
      },
      "text/plain": [
       "Validating: 0it [00:00, ?it/s]"
      ]
     },
     "metadata": {},
     "output_type": "display_data"
    },
    {
     "data": {
      "application/vnd.jupyter.widget-view+json": {
       "model_id": "",
       "version_major": 2,
       "version_minor": 0
      },
      "text/plain": [
       "Validating: 0it [00:00, ?it/s]"
      ]
     },
     "metadata": {},
     "output_type": "display_data"
    },
    {
     "data": {
      "application/vnd.jupyter.widget-view+json": {
       "model_id": "",
       "version_major": 2,
       "version_minor": 0
      },
      "text/plain": [
       "Validating: 0it [00:00, ?it/s]"
      ]
     },
     "metadata": {},
     "output_type": "display_data"
    },
    {
     "data": {
      "application/vnd.jupyter.widget-view+json": {
       "model_id": "",
       "version_major": 2,
       "version_minor": 0
      },
      "text/plain": [
       "Validating: 0it [00:00, ?it/s]"
      ]
     },
     "metadata": {},
     "output_type": "display_data"
    },
    {
     "data": {
      "application/vnd.jupyter.widget-view+json": {
       "model_id": "",
       "version_major": 2,
       "version_minor": 0
      },
      "text/plain": [
       "Validating: 0it [00:00, ?it/s]"
      ]
     },
     "metadata": {},
     "output_type": "display_data"
    },
    {
     "data": {
      "application/vnd.jupyter.widget-view+json": {
       "model_id": "",
       "version_major": 2,
       "version_minor": 0
      },
      "text/plain": [
       "Validating: 0it [00:00, ?it/s]"
      ]
     },
     "metadata": {},
     "output_type": "display_data"
    },
    {
     "data": {
      "application/vnd.jupyter.widget-view+json": {
       "model_id": "",
       "version_major": 2,
       "version_minor": 0
      },
      "text/plain": [
       "Validating: 0it [00:00, ?it/s]"
      ]
     },
     "metadata": {},
     "output_type": "display_data"
    },
    {
     "data": {
      "application/vnd.jupyter.widget-view+json": {
       "model_id": "",
       "version_major": 2,
       "version_minor": 0
      },
      "text/plain": [
       "Validating: 0it [00:00, ?it/s]"
      ]
     },
     "metadata": {},
     "output_type": "display_data"
    },
    {
     "data": {
      "application/vnd.jupyter.widget-view+json": {
       "model_id": "",
       "version_major": 2,
       "version_minor": 0
      },
      "text/plain": [
       "Validating: 0it [00:00, ?it/s]"
      ]
     },
     "metadata": {},
     "output_type": "display_data"
    },
    {
     "data": {
      "application/vnd.jupyter.widget-view+json": {
       "model_id": "",
       "version_major": 2,
       "version_minor": 0
      },
      "text/plain": [
       "Validating: 0it [00:00, ?it/s]"
      ]
     },
     "metadata": {},
     "output_type": "display_data"
    },
    {
     "data": {
      "application/vnd.jupyter.widget-view+json": {
       "model_id": "",
       "version_major": 2,
       "version_minor": 0
      },
      "text/plain": [
       "Validating: 0it [00:00, ?it/s]"
      ]
     },
     "metadata": {},
     "output_type": "display_data"
    },
    {
     "data": {
      "application/vnd.jupyter.widget-view+json": {
       "model_id": "",
       "version_major": 2,
       "version_minor": 0
      },
      "text/plain": [
       "Validating: 0it [00:00, ?it/s]"
      ]
     },
     "metadata": {},
     "output_type": "display_data"
    },
    {
     "data": {
      "application/vnd.jupyter.widget-view+json": {
       "model_id": "",
       "version_major": 2,
       "version_minor": 0
      },
      "text/plain": [
       "Validating: 0it [00:00, ?it/s]"
      ]
     },
     "metadata": {},
     "output_type": "display_data"
    },
    {
     "data": {
      "application/vnd.jupyter.widget-view+json": {
       "model_id": "",
       "version_major": 2,
       "version_minor": 0
      },
      "text/plain": [
       "Validating: 0it [00:00, ?it/s]"
      ]
     },
     "metadata": {},
     "output_type": "display_data"
    },
    {
     "data": {
      "application/vnd.jupyter.widget-view+json": {
       "model_id": "",
       "version_major": 2,
       "version_minor": 0
      },
      "text/plain": [
       "Validating: 0it [00:00, ?it/s]"
      ]
     },
     "metadata": {},
     "output_type": "display_data"
    },
    {
     "data": {
      "application/vnd.jupyter.widget-view+json": {
       "model_id": "",
       "version_major": 2,
       "version_minor": 0
      },
      "text/plain": [
       "Validating: 0it [00:00, ?it/s]"
      ]
     },
     "metadata": {},
     "output_type": "display_data"
    },
    {
     "data": {
      "application/vnd.jupyter.widget-view+json": {
       "model_id": "",
       "version_major": 2,
       "version_minor": 0
      },
      "text/plain": [
       "Validating: 0it [00:00, ?it/s]"
      ]
     },
     "metadata": {},
     "output_type": "display_data"
    },
    {
     "data": {
      "application/vnd.jupyter.widget-view+json": {
       "model_id": "",
       "version_major": 2,
       "version_minor": 0
      },
      "text/plain": [
       "Validating: 0it [00:00, ?it/s]"
      ]
     },
     "metadata": {},
     "output_type": "display_data"
    },
    {
     "data": {
      "application/vnd.jupyter.widget-view+json": {
       "model_id": "",
       "version_major": 2,
       "version_minor": 0
      },
      "text/plain": [
       "Validating: 0it [00:00, ?it/s]"
      ]
     },
     "metadata": {},
     "output_type": "display_data"
    },
    {
     "data": {
      "application/vnd.jupyter.widget-view+json": {
       "model_id": "",
       "version_major": 2,
       "version_minor": 0
      },
      "text/plain": [
       "Validating: 0it [00:00, ?it/s]"
      ]
     },
     "metadata": {},
     "output_type": "display_data"
    },
    {
     "data": {
      "application/vnd.jupyter.widget-view+json": {
       "model_id": "",
       "version_major": 2,
       "version_minor": 0
      },
      "text/plain": [
       "Validating: 0it [00:00, ?it/s]"
      ]
     },
     "metadata": {},
     "output_type": "display_data"
    },
    {
     "data": {
      "application/vnd.jupyter.widget-view+json": {
       "model_id": "",
       "version_major": 2,
       "version_minor": 0
      },
      "text/plain": [
       "Validating: 0it [00:00, ?it/s]"
      ]
     },
     "metadata": {},
     "output_type": "display_data"
    },
    {
     "data": {
      "application/vnd.jupyter.widget-view+json": {
       "model_id": "",
       "version_major": 2,
       "version_minor": 0
      },
      "text/plain": [
       "Validating: 0it [00:00, ?it/s]"
      ]
     },
     "metadata": {},
     "output_type": "display_data"
    },
    {
     "data": {
      "application/vnd.jupyter.widget-view+json": {
       "model_id": "",
       "version_major": 2,
       "version_minor": 0
      },
      "text/plain": [
       "Validating: 0it [00:00, ?it/s]"
      ]
     },
     "metadata": {},
     "output_type": "display_data"
    },
    {
     "data": {
      "application/vnd.jupyter.widget-view+json": {
       "model_id": "",
       "version_major": 2,
       "version_minor": 0
      },
      "text/plain": [
       "Validating: 0it [00:00, ?it/s]"
      ]
     },
     "metadata": {},
     "output_type": "display_data"
    },
    {
     "data": {
      "application/vnd.jupyter.widget-view+json": {
       "model_id": "",
       "version_major": 2,
       "version_minor": 0
      },
      "text/plain": [
       "Validating: 0it [00:00, ?it/s]"
      ]
     },
     "metadata": {},
     "output_type": "display_data"
    },
    {
     "data": {
      "application/vnd.jupyter.widget-view+json": {
       "model_id": "",
       "version_major": 2,
       "version_minor": 0
      },
      "text/plain": [
       "Validating: 0it [00:00, ?it/s]"
      ]
     },
     "metadata": {},
     "output_type": "display_data"
    },
    {
     "data": {
      "application/vnd.jupyter.widget-view+json": {
       "model_id": "",
       "version_major": 2,
       "version_minor": 0
      },
      "text/plain": [
       "Validating: 0it [00:00, ?it/s]"
      ]
     },
     "metadata": {},
     "output_type": "display_data"
    },
    {
     "data": {
      "application/vnd.jupyter.widget-view+json": {
       "model_id": "",
       "version_major": 2,
       "version_minor": 0
      },
      "text/plain": [
       "Validating: 0it [00:00, ?it/s]"
      ]
     },
     "metadata": {},
     "output_type": "display_data"
    },
    {
     "data": {
      "application/vnd.jupyter.widget-view+json": {
       "model_id": "",
       "version_major": 2,
       "version_minor": 0
      },
      "text/plain": [
       "Validating: 0it [00:00, ?it/s]"
      ]
     },
     "metadata": {},
     "output_type": "display_data"
    },
    {
     "data": {
      "application/vnd.jupyter.widget-view+json": {
       "model_id": "",
       "version_major": 2,
       "version_minor": 0
      },
      "text/plain": [
       "Validating: 0it [00:00, ?it/s]"
      ]
     },
     "metadata": {},
     "output_type": "display_data"
    },
    {
     "data": {
      "application/vnd.jupyter.widget-view+json": {
       "model_id": "",
       "version_major": 2,
       "version_minor": 0
      },
      "text/plain": [
       "Validating: 0it [00:00, ?it/s]"
      ]
     },
     "metadata": {},
     "output_type": "display_data"
    },
    {
     "data": {
      "application/vnd.jupyter.widget-view+json": {
       "model_id": "",
       "version_major": 2,
       "version_minor": 0
      },
      "text/plain": [
       "Validating: 0it [00:00, ?it/s]"
      ]
     },
     "metadata": {},
     "output_type": "display_data"
    },
    {
     "data": {
      "application/vnd.jupyter.widget-view+json": {
       "model_id": "",
       "version_major": 2,
       "version_minor": 0
      },
      "text/plain": [
       "Validating: 0it [00:00, ?it/s]"
      ]
     },
     "metadata": {},
     "output_type": "display_data"
    },
    {
     "data": {
      "application/vnd.jupyter.widget-view+json": {
       "model_id": "",
       "version_major": 2,
       "version_minor": 0
      },
      "text/plain": [
       "Validating: 0it [00:00, ?it/s]"
      ]
     },
     "metadata": {},
     "output_type": "display_data"
    },
    {
     "data": {
      "application/vnd.jupyter.widget-view+json": {
       "model_id": "",
       "version_major": 2,
       "version_minor": 0
      },
      "text/plain": [
       "Validating: 0it [00:00, ?it/s]"
      ]
     },
     "metadata": {},
     "output_type": "display_data"
    },
    {
     "data": {
      "application/vnd.jupyter.widget-view+json": {
       "model_id": "",
       "version_major": 2,
       "version_minor": 0
      },
      "text/plain": [
       "Validating: 0it [00:00, ?it/s]"
      ]
     },
     "metadata": {},
     "output_type": "display_data"
    },
    {
     "data": {
      "application/vnd.jupyter.widget-view+json": {
       "model_id": "",
       "version_major": 2,
       "version_minor": 0
      },
      "text/plain": [
       "Validating: 0it [00:00, ?it/s]"
      ]
     },
     "metadata": {},
     "output_type": "display_data"
    },
    {
     "data": {
      "application/vnd.jupyter.widget-view+json": {
       "model_id": "",
       "version_major": 2,
       "version_minor": 0
      },
      "text/plain": [
       "Validating: 0it [00:00, ?it/s]"
      ]
     },
     "metadata": {},
     "output_type": "display_data"
    },
    {
     "data": {
      "application/vnd.jupyter.widget-view+json": {
       "model_id": "",
       "version_major": 2,
       "version_minor": 0
      },
      "text/plain": [
       "Validating: 0it [00:00, ?it/s]"
      ]
     },
     "metadata": {},
     "output_type": "display_data"
    },
    {
     "data": {
      "application/vnd.jupyter.widget-view+json": {
       "model_id": "",
       "version_major": 2,
       "version_minor": 0
      },
      "text/plain": [
       "Validating: 0it [00:00, ?it/s]"
      ]
     },
     "metadata": {},
     "output_type": "display_data"
    },
    {
     "data": {
      "application/vnd.jupyter.widget-view+json": {
       "model_id": "",
       "version_major": 2,
       "version_minor": 0
      },
      "text/plain": [
       "Validating: 0it [00:00, ?it/s]"
      ]
     },
     "metadata": {},
     "output_type": "display_data"
    },
    {
     "data": {
      "application/vnd.jupyter.widget-view+json": {
       "model_id": "",
       "version_major": 2,
       "version_minor": 0
      },
      "text/plain": [
       "Validating: 0it [00:00, ?it/s]"
      ]
     },
     "metadata": {},
     "output_type": "display_data"
    },
    {
     "data": {
      "application/vnd.jupyter.widget-view+json": {
       "model_id": "",
       "version_major": 2,
       "version_minor": 0
      },
      "text/plain": [
       "Validating: 0it [00:00, ?it/s]"
      ]
     },
     "metadata": {},
     "output_type": "display_data"
    },
    {
     "data": {
      "application/vnd.jupyter.widget-view+json": {
       "model_id": "",
       "version_major": 2,
       "version_minor": 0
      },
      "text/plain": [
       "Validating: 0it [00:00, ?it/s]"
      ]
     },
     "metadata": {},
     "output_type": "display_data"
    },
    {
     "data": {
      "application/vnd.jupyter.widget-view+json": {
       "model_id": "",
       "version_major": 2,
       "version_minor": 0
      },
      "text/plain": [
       "Validating: 0it [00:00, ?it/s]"
      ]
     },
     "metadata": {},
     "output_type": "display_data"
    },
    {
     "data": {
      "application/vnd.jupyter.widget-view+json": {
       "model_id": "",
       "version_major": 2,
       "version_minor": 0
      },
      "text/plain": [
       "Validating: 0it [00:00, ?it/s]"
      ]
     },
     "metadata": {},
     "output_type": "display_data"
    },
    {
     "data": {
      "application/vnd.jupyter.widget-view+json": {
       "model_id": "",
       "version_major": 2,
       "version_minor": 0
      },
      "text/plain": [
       "Validating: 0it [00:00, ?it/s]"
      ]
     },
     "metadata": {},
     "output_type": "display_data"
    },
    {
     "data": {
      "application/vnd.jupyter.widget-view+json": {
       "model_id": "",
       "version_major": 2,
       "version_minor": 0
      },
      "text/plain": [
       "Validating: 0it [00:00, ?it/s]"
      ]
     },
     "metadata": {},
     "output_type": "display_data"
    },
    {
     "data": {
      "application/vnd.jupyter.widget-view+json": {
       "model_id": "",
       "version_major": 2,
       "version_minor": 0
      },
      "text/plain": [
       "Validating: 0it [00:00, ?it/s]"
      ]
     },
     "metadata": {},
     "output_type": "display_data"
    },
    {
     "data": {
      "application/vnd.jupyter.widget-view+json": {
       "model_id": "",
       "version_major": 2,
       "version_minor": 0
      },
      "text/plain": [
       "Validating: 0it [00:00, ?it/s]"
      ]
     },
     "metadata": {},
     "output_type": "display_data"
    },
    {
     "data": {
      "application/vnd.jupyter.widget-view+json": {
       "model_id": "",
       "version_major": 2,
       "version_minor": 0
      },
      "text/plain": [
       "Validating: 0it [00:00, ?it/s]"
      ]
     },
     "metadata": {},
     "output_type": "display_data"
    },
    {
     "data": {
      "application/vnd.jupyter.widget-view+json": {
       "model_id": "",
       "version_major": 2,
       "version_minor": 0
      },
      "text/plain": [
       "Validating: 0it [00:00, ?it/s]"
      ]
     },
     "metadata": {},
     "output_type": "display_data"
    },
    {
     "data": {
      "application/vnd.jupyter.widget-view+json": {
       "model_id": "",
       "version_major": 2,
       "version_minor": 0
      },
      "text/plain": [
       "Validating: 0it [00:00, ?it/s]"
      ]
     },
     "metadata": {},
     "output_type": "display_data"
    },
    {
     "data": {
      "application/vnd.jupyter.widget-view+json": {
       "model_id": "",
       "version_major": 2,
       "version_minor": 0
      },
      "text/plain": [
       "Validating: 0it [00:00, ?it/s]"
      ]
     },
     "metadata": {},
     "output_type": "display_data"
    },
    {
     "data": {
      "application/vnd.jupyter.widget-view+json": {
       "model_id": "",
       "version_major": 2,
       "version_minor": 0
      },
      "text/plain": [
       "Validating: 0it [00:00, ?it/s]"
      ]
     },
     "metadata": {},
     "output_type": "display_data"
    },
    {
     "data": {
      "application/vnd.jupyter.widget-view+json": {
       "model_id": "",
       "version_major": 2,
       "version_minor": 0
      },
      "text/plain": [
       "Validating: 0it [00:00, ?it/s]"
      ]
     },
     "metadata": {},
     "output_type": "display_data"
    },
    {
     "data": {
      "application/vnd.jupyter.widget-view+json": {
       "model_id": "",
       "version_major": 2,
       "version_minor": 0
      },
      "text/plain": [
       "Validating: 0it [00:00, ?it/s]"
      ]
     },
     "metadata": {},
     "output_type": "display_data"
    },
    {
     "data": {
      "application/vnd.jupyter.widget-view+json": {
       "model_id": "",
       "version_major": 2,
       "version_minor": 0
      },
      "text/plain": [
       "Validating: 0it [00:00, ?it/s]"
      ]
     },
     "metadata": {},
     "output_type": "display_data"
    },
    {
     "data": {
      "application/vnd.jupyter.widget-view+json": {
       "model_id": "",
       "version_major": 2,
       "version_minor": 0
      },
      "text/plain": [
       "Validating: 0it [00:00, ?it/s]"
      ]
     },
     "metadata": {},
     "output_type": "display_data"
    },
    {
     "data": {
      "application/vnd.jupyter.widget-view+json": {
       "model_id": "",
       "version_major": 2,
       "version_minor": 0
      },
      "text/plain": [
       "Validating: 0it [00:00, ?it/s]"
      ]
     },
     "metadata": {},
     "output_type": "display_data"
    },
    {
     "data": {
      "application/vnd.jupyter.widget-view+json": {
       "model_id": "",
       "version_major": 2,
       "version_minor": 0
      },
      "text/plain": [
       "Validating: 0it [00:00, ?it/s]"
      ]
     },
     "metadata": {},
     "output_type": "display_data"
    },
    {
     "data": {
      "application/vnd.jupyter.widget-view+json": {
       "model_id": "",
       "version_major": 2,
       "version_minor": 0
      },
      "text/plain": [
       "Validating: 0it [00:00, ?it/s]"
      ]
     },
     "metadata": {},
     "output_type": "display_data"
    },
    {
     "data": {
      "application/vnd.jupyter.widget-view+json": {
       "model_id": "",
       "version_major": 2,
       "version_minor": 0
      },
      "text/plain": [
       "Validating: 0it [00:00, ?it/s]"
      ]
     },
     "metadata": {},
     "output_type": "display_data"
    },
    {
     "data": {
      "application/vnd.jupyter.widget-view+json": {
       "model_id": "",
       "version_major": 2,
       "version_minor": 0
      },
      "text/plain": [
       "Validating: 0it [00:00, ?it/s]"
      ]
     },
     "metadata": {},
     "output_type": "display_data"
    },
    {
     "data": {
      "application/vnd.jupyter.widget-view+json": {
       "model_id": "",
       "version_major": 2,
       "version_minor": 0
      },
      "text/plain": [
       "Validating: 0it [00:00, ?it/s]"
      ]
     },
     "metadata": {},
     "output_type": "display_data"
    },
    {
     "data": {
      "application/vnd.jupyter.widget-view+json": {
       "model_id": "",
       "version_major": 2,
       "version_minor": 0
      },
      "text/plain": [
       "Validating: 0it [00:00, ?it/s]"
      ]
     },
     "metadata": {},
     "output_type": "display_data"
    },
    {
     "data": {
      "application/vnd.jupyter.widget-view+json": {
       "model_id": "",
       "version_major": 2,
       "version_minor": 0
      },
      "text/plain": [
       "Validating: 0it [00:00, ?it/s]"
      ]
     },
     "metadata": {},
     "output_type": "display_data"
    },
    {
     "data": {
      "application/vnd.jupyter.widget-view+json": {
       "model_id": "",
       "version_major": 2,
       "version_minor": 0
      },
      "text/plain": [
       "Validating: 0it [00:00, ?it/s]"
      ]
     },
     "metadata": {},
     "output_type": "display_data"
    },
    {
     "data": {
      "application/vnd.jupyter.widget-view+json": {
       "model_id": "",
       "version_major": 2,
       "version_minor": 0
      },
      "text/plain": [
       "Validating: 0it [00:00, ?it/s]"
      ]
     },
     "metadata": {},
     "output_type": "display_data"
    },
    {
     "data": {
      "application/vnd.jupyter.widget-view+json": {
       "model_id": "",
       "version_major": 2,
       "version_minor": 0
      },
      "text/plain": [
       "Validating: 0it [00:00, ?it/s]"
      ]
     },
     "metadata": {},
     "output_type": "display_data"
    },
    {
     "data": {
      "application/vnd.jupyter.widget-view+json": {
       "model_id": "",
       "version_major": 2,
       "version_minor": 0
      },
      "text/plain": [
       "Validating: 0it [00:00, ?it/s]"
      ]
     },
     "metadata": {},
     "output_type": "display_data"
    },
    {
     "data": {
      "application/vnd.jupyter.widget-view+json": {
       "model_id": "",
       "version_major": 2,
       "version_minor": 0
      },
      "text/plain": [
       "Validating: 0it [00:00, ?it/s]"
      ]
     },
     "metadata": {},
     "output_type": "display_data"
    },
    {
     "data": {
      "application/vnd.jupyter.widget-view+json": {
       "model_id": "",
       "version_major": 2,
       "version_minor": 0
      },
      "text/plain": [
       "Validating: 0it [00:00, ?it/s]"
      ]
     },
     "metadata": {},
     "output_type": "display_data"
    },
    {
     "data": {
      "application/vnd.jupyter.widget-view+json": {
       "model_id": "",
       "version_major": 2,
       "version_minor": 0
      },
      "text/plain": [
       "Validating: 0it [00:00, ?it/s]"
      ]
     },
     "metadata": {},
     "output_type": "display_data"
    },
    {
     "data": {
      "application/vnd.jupyter.widget-view+json": {
       "model_id": "",
       "version_major": 2,
       "version_minor": 0
      },
      "text/plain": [
       "Validating: 0it [00:00, ?it/s]"
      ]
     },
     "metadata": {},
     "output_type": "display_data"
    },
    {
     "data": {
      "application/vnd.jupyter.widget-view+json": {
       "model_id": "",
       "version_major": 2,
       "version_minor": 0
      },
      "text/plain": [
       "Validating: 0it [00:00, ?it/s]"
      ]
     },
     "metadata": {},
     "output_type": "display_data"
    },
    {
     "data": {
      "application/vnd.jupyter.widget-view+json": {
       "model_id": "",
       "version_major": 2,
       "version_minor": 0
      },
      "text/plain": [
       "Validating: 0it [00:00, ?it/s]"
      ]
     },
     "metadata": {},
     "output_type": "display_data"
    },
    {
     "data": {
      "application/vnd.jupyter.widget-view+json": {
       "model_id": "",
       "version_major": 2,
       "version_minor": 0
      },
      "text/plain": [
       "Validating: 0it [00:00, ?it/s]"
      ]
     },
     "metadata": {},
     "output_type": "display_data"
    },
    {
     "data": {
      "application/vnd.jupyter.widget-view+json": {
       "model_id": "",
       "version_major": 2,
       "version_minor": 0
      },
      "text/plain": [
       "Validating: 0it [00:00, ?it/s]"
      ]
     },
     "metadata": {},
     "output_type": "display_data"
    },
    {
     "data": {
      "application/vnd.jupyter.widget-view+json": {
       "model_id": "",
       "version_major": 2,
       "version_minor": 0
      },
      "text/plain": [
       "Validating: 0it [00:00, ?it/s]"
      ]
     },
     "metadata": {},
     "output_type": "display_data"
    },
    {
     "data": {
      "application/vnd.jupyter.widget-view+json": {
       "model_id": "",
       "version_major": 2,
       "version_minor": 0
      },
      "text/plain": [
       "Validating: 0it [00:00, ?it/s]"
      ]
     },
     "metadata": {},
     "output_type": "display_data"
    },
    {
     "data": {
      "application/vnd.jupyter.widget-view+json": {
       "model_id": "",
       "version_major": 2,
       "version_minor": 0
      },
      "text/plain": [
       "Validating: 0it [00:00, ?it/s]"
      ]
     },
     "metadata": {},
     "output_type": "display_data"
    },
    {
     "data": {
      "application/vnd.jupyter.widget-view+json": {
       "model_id": "",
       "version_major": 2,
       "version_minor": 0
      },
      "text/plain": [
       "Validating: 0it [00:00, ?it/s]"
      ]
     },
     "metadata": {},
     "output_type": "display_data"
    },
    {
     "data": {
      "application/vnd.jupyter.widget-view+json": {
       "model_id": "",
       "version_major": 2,
       "version_minor": 0
      },
      "text/plain": [
       "Validating: 0it [00:00, ?it/s]"
      ]
     },
     "metadata": {},
     "output_type": "display_data"
    },
    {
     "data": {
      "application/vnd.jupyter.widget-view+json": {
       "model_id": "",
       "version_major": 2,
       "version_minor": 0
      },
      "text/plain": [
       "Validating: 0it [00:00, ?it/s]"
      ]
     },
     "metadata": {},
     "output_type": "display_data"
    },
    {
     "data": {
      "application/vnd.jupyter.widget-view+json": {
       "model_id": "",
       "version_major": 2,
       "version_minor": 0
      },
      "text/plain": [
       "Validating: 0it [00:00, ?it/s]"
      ]
     },
     "metadata": {},
     "output_type": "display_data"
    },
    {
     "data": {
      "application/vnd.jupyter.widget-view+json": {
       "model_id": "",
       "version_major": 2,
       "version_minor": 0
      },
      "text/plain": [
       "Validating: 0it [00:00, ?it/s]"
      ]
     },
     "metadata": {},
     "output_type": "display_data"
    },
    {
     "data": {
      "application/vnd.jupyter.widget-view+json": {
       "model_id": "",
       "version_major": 2,
       "version_minor": 0
      },
      "text/plain": [
       "Validating: 0it [00:00, ?it/s]"
      ]
     },
     "metadata": {},
     "output_type": "display_data"
    },
    {
     "data": {
      "application/vnd.jupyter.widget-view+json": {
       "model_id": "",
       "version_major": 2,
       "version_minor": 0
      },
      "text/plain": [
       "Validating: 0it [00:00, ?it/s]"
      ]
     },
     "metadata": {},
     "output_type": "display_data"
    },
    {
     "data": {
      "application/vnd.jupyter.widget-view+json": {
       "model_id": "",
       "version_major": 2,
       "version_minor": 0
      },
      "text/plain": [
       "Validating: 0it [00:00, ?it/s]"
      ]
     },
     "metadata": {},
     "output_type": "display_data"
    },
    {
     "data": {
      "application/vnd.jupyter.widget-view+json": {
       "model_id": "",
       "version_major": 2,
       "version_minor": 0
      },
      "text/plain": [
       "Validating: 0it [00:00, ?it/s]"
      ]
     },
     "metadata": {},
     "output_type": "display_data"
    },
    {
     "data": {
      "application/vnd.jupyter.widget-view+json": {
       "model_id": "",
       "version_major": 2,
       "version_minor": 0
      },
      "text/plain": [
       "Validating: 0it [00:00, ?it/s]"
      ]
     },
     "metadata": {},
     "output_type": "display_data"
    },
    {
     "data": {
      "application/vnd.jupyter.widget-view+json": {
       "model_id": "",
       "version_major": 2,
       "version_minor": 0
      },
      "text/plain": [
       "Validating: 0it [00:00, ?it/s]"
      ]
     },
     "metadata": {},
     "output_type": "display_data"
    },
    {
     "data": {
      "application/vnd.jupyter.widget-view+json": {
       "model_id": "",
       "version_major": 2,
       "version_minor": 0
      },
      "text/plain": [
       "Validating: 0it [00:00, ?it/s]"
      ]
     },
     "metadata": {},
     "output_type": "display_data"
    },
    {
     "data": {
      "application/vnd.jupyter.widget-view+json": {
       "model_id": "",
       "version_major": 2,
       "version_minor": 0
      },
      "text/plain": [
       "Validating: 0it [00:00, ?it/s]"
      ]
     },
     "metadata": {},
     "output_type": "display_data"
    },
    {
     "data": {
      "application/vnd.jupyter.widget-view+json": {
       "model_id": "",
       "version_major": 2,
       "version_minor": 0
      },
      "text/plain": [
       "Validating: 0it [00:00, ?it/s]"
      ]
     },
     "metadata": {},
     "output_type": "display_data"
    },
    {
     "data": {
      "application/vnd.jupyter.widget-view+json": {
       "model_id": "",
       "version_major": 2,
       "version_minor": 0
      },
      "text/plain": [
       "Validating: 0it [00:00, ?it/s]"
      ]
     },
     "metadata": {},
     "output_type": "display_data"
    },
    {
     "data": {
      "application/vnd.jupyter.widget-view+json": {
       "model_id": "",
       "version_major": 2,
       "version_minor": 0
      },
      "text/plain": [
       "Validating: 0it [00:00, ?it/s]"
      ]
     },
     "metadata": {},
     "output_type": "display_data"
    },
    {
     "data": {
      "application/vnd.jupyter.widget-view+json": {
       "model_id": "",
       "version_major": 2,
       "version_minor": 0
      },
      "text/plain": [
       "Validating: 0it [00:00, ?it/s]"
      ]
     },
     "metadata": {},
     "output_type": "display_data"
    },
    {
     "data": {
      "application/vnd.jupyter.widget-view+json": {
       "model_id": "",
       "version_major": 2,
       "version_minor": 0
      },
      "text/plain": [
       "Validating: 0it [00:00, ?it/s]"
      ]
     },
     "metadata": {},
     "output_type": "display_data"
    },
    {
     "data": {
      "application/vnd.jupyter.widget-view+json": {
       "model_id": "",
       "version_major": 2,
       "version_minor": 0
      },
      "text/plain": [
       "Validating: 0it [00:00, ?it/s]"
      ]
     },
     "metadata": {},
     "output_type": "display_data"
    },
    {
     "data": {
      "application/vnd.jupyter.widget-view+json": {
       "model_id": "",
       "version_major": 2,
       "version_minor": 0
      },
      "text/plain": [
       "Validating: 0it [00:00, ?it/s]"
      ]
     },
     "metadata": {},
     "output_type": "display_data"
    },
    {
     "data": {
      "application/vnd.jupyter.widget-view+json": {
       "model_id": "",
       "version_major": 2,
       "version_minor": 0
      },
      "text/plain": [
       "Validating: 0it [00:00, ?it/s]"
      ]
     },
     "metadata": {},
     "output_type": "display_data"
    },
    {
     "data": {
      "application/vnd.jupyter.widget-view+json": {
       "model_id": "",
       "version_major": 2,
       "version_minor": 0
      },
      "text/plain": [
       "Validating: 0it [00:00, ?it/s]"
      ]
     },
     "metadata": {},
     "output_type": "display_data"
    },
    {
     "data": {
      "application/vnd.jupyter.widget-view+json": {
       "model_id": "",
       "version_major": 2,
       "version_minor": 0
      },
      "text/plain": [
       "Validating: 0it [00:00, ?it/s]"
      ]
     },
     "metadata": {},
     "output_type": "display_data"
    },
    {
     "data": {
      "application/vnd.jupyter.widget-view+json": {
       "model_id": "",
       "version_major": 2,
       "version_minor": 0
      },
      "text/plain": [
       "Validating: 0it [00:00, ?it/s]"
      ]
     },
     "metadata": {},
     "output_type": "display_data"
    },
    {
     "data": {
      "application/vnd.jupyter.widget-view+json": {
       "model_id": "",
       "version_major": 2,
       "version_minor": 0
      },
      "text/plain": [
       "Validating: 0it [00:00, ?it/s]"
      ]
     },
     "metadata": {},
     "output_type": "display_data"
    },
    {
     "data": {
      "application/vnd.jupyter.widget-view+json": {
       "model_id": "",
       "version_major": 2,
       "version_minor": 0
      },
      "text/plain": [
       "Validating: 0it [00:00, ?it/s]"
      ]
     },
     "metadata": {},
     "output_type": "display_data"
    },
    {
     "data": {
      "application/vnd.jupyter.widget-view+json": {
       "model_id": "",
       "version_major": 2,
       "version_minor": 0
      },
      "text/plain": [
       "Validating: 0it [00:00, ?it/s]"
      ]
     },
     "metadata": {},
     "output_type": "display_data"
    },
    {
     "data": {
      "application/vnd.jupyter.widget-view+json": {
       "model_id": "",
       "version_major": 2,
       "version_minor": 0
      },
      "text/plain": [
       "Validating: 0it [00:00, ?it/s]"
      ]
     },
     "metadata": {},
     "output_type": "display_data"
    },
    {
     "data": {
      "application/vnd.jupyter.widget-view+json": {
       "model_id": "",
       "version_major": 2,
       "version_minor": 0
      },
      "text/plain": [
       "Validating: 0it [00:00, ?it/s]"
      ]
     },
     "metadata": {},
     "output_type": "display_data"
    },
    {
     "data": {
      "application/vnd.jupyter.widget-view+json": {
       "model_id": "",
       "version_major": 2,
       "version_minor": 0
      },
      "text/plain": [
       "Validating: 0it [00:00, ?it/s]"
      ]
     },
     "metadata": {},
     "output_type": "display_data"
    },
    {
     "data": {
      "application/vnd.jupyter.widget-view+json": {
       "model_id": "",
       "version_major": 2,
       "version_minor": 0
      },
      "text/plain": [
       "Validating: 0it [00:00, ?it/s]"
      ]
     },
     "metadata": {},
     "output_type": "display_data"
    },
    {
     "data": {
      "application/vnd.jupyter.widget-view+json": {
       "model_id": "",
       "version_major": 2,
       "version_minor": 0
      },
      "text/plain": [
       "Validating: 0it [00:00, ?it/s]"
      ]
     },
     "metadata": {},
     "output_type": "display_data"
    },
    {
     "data": {
      "application/vnd.jupyter.widget-view+json": {
       "model_id": "",
       "version_major": 2,
       "version_minor": 0
      },
      "text/plain": [
       "Validating: 0it [00:00, ?it/s]"
      ]
     },
     "metadata": {},
     "output_type": "display_data"
    },
    {
     "data": {
      "application/vnd.jupyter.widget-view+json": {
       "model_id": "",
       "version_major": 2,
       "version_minor": 0
      },
      "text/plain": [
       "Validating: 0it [00:00, ?it/s]"
      ]
     },
     "metadata": {},
     "output_type": "display_data"
    },
    {
     "data": {
      "application/vnd.jupyter.widget-view+json": {
       "model_id": "",
       "version_major": 2,
       "version_minor": 0
      },
      "text/plain": [
       "Validating: 0it [00:00, ?it/s]"
      ]
     },
     "metadata": {},
     "output_type": "display_data"
    },
    {
     "data": {
      "application/vnd.jupyter.widget-view+json": {
       "model_id": "",
       "version_major": 2,
       "version_minor": 0
      },
      "text/plain": [
       "Validating: 0it [00:00, ?it/s]"
      ]
     },
     "metadata": {},
     "output_type": "display_data"
    },
    {
     "data": {
      "application/vnd.jupyter.widget-view+json": {
       "model_id": "",
       "version_major": 2,
       "version_minor": 0
      },
      "text/plain": [
       "Validating: 0it [00:00, ?it/s]"
      ]
     },
     "metadata": {},
     "output_type": "display_data"
    },
    {
     "data": {
      "application/vnd.jupyter.widget-view+json": {
       "model_id": "",
       "version_major": 2,
       "version_minor": 0
      },
      "text/plain": [
       "Validating: 0it [00:00, ?it/s]"
      ]
     },
     "metadata": {},
     "output_type": "display_data"
    },
    {
     "data": {
      "application/vnd.jupyter.widget-view+json": {
       "model_id": "",
       "version_major": 2,
       "version_minor": 0
      },
      "text/plain": [
       "Validating: 0it [00:00, ?it/s]"
      ]
     },
     "metadata": {},
     "output_type": "display_data"
    },
    {
     "data": {
      "application/vnd.jupyter.widget-view+json": {
       "model_id": "",
       "version_major": 2,
       "version_minor": 0
      },
      "text/plain": [
       "Validating: 0it [00:00, ?it/s]"
      ]
     },
     "metadata": {},
     "output_type": "display_data"
    },
    {
     "data": {
      "application/vnd.jupyter.widget-view+json": {
       "model_id": "",
       "version_major": 2,
       "version_minor": 0
      },
      "text/plain": [
       "Validating: 0it [00:00, ?it/s]"
      ]
     },
     "metadata": {},
     "output_type": "display_data"
    },
    {
     "data": {
      "application/vnd.jupyter.widget-view+json": {
       "model_id": "",
       "version_major": 2,
       "version_minor": 0
      },
      "text/plain": [
       "Validating: 0it [00:00, ?it/s]"
      ]
     },
     "metadata": {},
     "output_type": "display_data"
    },
    {
     "data": {
      "application/vnd.jupyter.widget-view+json": {
       "model_id": "",
       "version_major": 2,
       "version_minor": 0
      },
      "text/plain": [
       "Validating: 0it [00:00, ?it/s]"
      ]
     },
     "metadata": {},
     "output_type": "display_data"
    },
    {
     "data": {
      "application/vnd.jupyter.widget-view+json": {
       "model_id": "",
       "version_major": 2,
       "version_minor": 0
      },
      "text/plain": [
       "Validating: 0it [00:00, ?it/s]"
      ]
     },
     "metadata": {},
     "output_type": "display_data"
    },
    {
     "data": {
      "application/vnd.jupyter.widget-view+json": {
       "model_id": "",
       "version_major": 2,
       "version_minor": 0
      },
      "text/plain": [
       "Validating: 0it [00:00, ?it/s]"
      ]
     },
     "metadata": {},
     "output_type": "display_data"
    },
    {
     "data": {
      "application/vnd.jupyter.widget-view+json": {
       "model_id": "",
       "version_major": 2,
       "version_minor": 0
      },
      "text/plain": [
       "Validating: 0it [00:00, ?it/s]"
      ]
     },
     "metadata": {},
     "output_type": "display_data"
    },
    {
     "data": {
      "application/vnd.jupyter.widget-view+json": {
       "model_id": "",
       "version_major": 2,
       "version_minor": 0
      },
      "text/plain": [
       "Validating: 0it [00:00, ?it/s]"
      ]
     },
     "metadata": {},
     "output_type": "display_data"
    },
    {
     "data": {
      "application/vnd.jupyter.widget-view+json": {
       "model_id": "",
       "version_major": 2,
       "version_minor": 0
      },
      "text/plain": [
       "Validating: 0it [00:00, ?it/s]"
      ]
     },
     "metadata": {},
     "output_type": "display_data"
    },
    {
     "data": {
      "application/vnd.jupyter.widget-view+json": {
       "model_id": "",
       "version_major": 2,
       "version_minor": 0
      },
      "text/plain": [
       "Validating: 0it [00:00, ?it/s]"
      ]
     },
     "metadata": {},
     "output_type": "display_data"
    },
    {
     "data": {
      "application/vnd.jupyter.widget-view+json": {
       "model_id": "",
       "version_major": 2,
       "version_minor": 0
      },
      "text/plain": [
       "Validating: 0it [00:00, ?it/s]"
      ]
     },
     "metadata": {},
     "output_type": "display_data"
    },
    {
     "data": {
      "application/vnd.jupyter.widget-view+json": {
       "model_id": "",
       "version_major": 2,
       "version_minor": 0
      },
      "text/plain": [
       "Validating: 0it [00:00, ?it/s]"
      ]
     },
     "metadata": {},
     "output_type": "display_data"
    },
    {
     "data": {
      "application/vnd.jupyter.widget-view+json": {
       "model_id": "",
       "version_major": 2,
       "version_minor": 0
      },
      "text/plain": [
       "Validating: 0it [00:00, ?it/s]"
      ]
     },
     "metadata": {},
     "output_type": "display_data"
    },
    {
     "data": {
      "application/vnd.jupyter.widget-view+json": {
       "model_id": "",
       "version_major": 2,
       "version_minor": 0
      },
      "text/plain": [
       "Validating: 0it [00:00, ?it/s]"
      ]
     },
     "metadata": {},
     "output_type": "display_data"
    },
    {
     "data": {
      "application/vnd.jupyter.widget-view+json": {
       "model_id": "",
       "version_major": 2,
       "version_minor": 0
      },
      "text/plain": [
       "Validating: 0it [00:00, ?it/s]"
      ]
     },
     "metadata": {},
     "output_type": "display_data"
    },
    {
     "data": {
      "application/vnd.jupyter.widget-view+json": {
       "model_id": "",
       "version_major": 2,
       "version_minor": 0
      },
      "text/plain": [
       "Validating: 0it [00:00, ?it/s]"
      ]
     },
     "metadata": {},
     "output_type": "display_data"
    },
    {
     "data": {
      "application/vnd.jupyter.widget-view+json": {
       "model_id": "",
       "version_major": 2,
       "version_minor": 0
      },
      "text/plain": [
       "Validating: 0it [00:00, ?it/s]"
      ]
     },
     "metadata": {},
     "output_type": "display_data"
    },
    {
     "data": {
      "application/vnd.jupyter.widget-view+json": {
       "model_id": "",
       "version_major": 2,
       "version_minor": 0
      },
      "text/plain": [
       "Validating: 0it [00:00, ?it/s]"
      ]
     },
     "metadata": {},
     "output_type": "display_data"
    },
    {
     "data": {
      "application/vnd.jupyter.widget-view+json": {
       "model_id": "",
       "version_major": 2,
       "version_minor": 0
      },
      "text/plain": [
       "Validating: 0it [00:00, ?it/s]"
      ]
     },
     "metadata": {},
     "output_type": "display_data"
    },
    {
     "data": {
      "application/vnd.jupyter.widget-view+json": {
       "model_id": "",
       "version_major": 2,
       "version_minor": 0
      },
      "text/plain": [
       "Validating: 0it [00:00, ?it/s]"
      ]
     },
     "metadata": {},
     "output_type": "display_data"
    },
    {
     "data": {
      "application/vnd.jupyter.widget-view+json": {
       "model_id": "",
       "version_major": 2,
       "version_minor": 0
      },
      "text/plain": [
       "Validating: 0it [00:00, ?it/s]"
      ]
     },
     "metadata": {},
     "output_type": "display_data"
    },
    {
     "data": {
      "application/vnd.jupyter.widget-view+json": {
       "model_id": "",
       "version_major": 2,
       "version_minor": 0
      },
      "text/plain": [
       "Validating: 0it [00:00, ?it/s]"
      ]
     },
     "metadata": {},
     "output_type": "display_data"
    },
    {
     "data": {
      "application/vnd.jupyter.widget-view+json": {
       "model_id": "",
       "version_major": 2,
       "version_minor": 0
      },
      "text/plain": [
       "Validating: 0it [00:00, ?it/s]"
      ]
     },
     "metadata": {},
     "output_type": "display_data"
    },
    {
     "data": {
      "application/vnd.jupyter.widget-view+json": {
       "model_id": "",
       "version_major": 2,
       "version_minor": 0
      },
      "text/plain": [
       "Validating: 0it [00:00, ?it/s]"
      ]
     },
     "metadata": {},
     "output_type": "display_data"
    },
    {
     "data": {
      "application/vnd.jupyter.widget-view+json": {
       "model_id": "",
       "version_major": 2,
       "version_minor": 0
      },
      "text/plain": [
       "Validating: 0it [00:00, ?it/s]"
      ]
     },
     "metadata": {},
     "output_type": "display_data"
    },
    {
     "data": {
      "application/vnd.jupyter.widget-view+json": {
       "model_id": "",
       "version_major": 2,
       "version_minor": 0
      },
      "text/plain": [
       "Validating: 0it [00:00, ?it/s]"
      ]
     },
     "metadata": {},
     "output_type": "display_data"
    },
    {
     "data": {
      "application/vnd.jupyter.widget-view+json": {
       "model_id": "",
       "version_major": 2,
       "version_minor": 0
      },
      "text/plain": [
       "Validating: 0it [00:00, ?it/s]"
      ]
     },
     "metadata": {},
     "output_type": "display_data"
    },
    {
     "data": {
      "application/vnd.jupyter.widget-view+json": {
       "model_id": "",
       "version_major": 2,
       "version_minor": 0
      },
      "text/plain": [
       "Validating: 0it [00:00, ?it/s]"
      ]
     },
     "metadata": {},
     "output_type": "display_data"
    },
    {
     "data": {
      "application/vnd.jupyter.widget-view+json": {
       "model_id": "",
       "version_major": 2,
       "version_minor": 0
      },
      "text/plain": [
       "Validating: 0it [00:00, ?it/s]"
      ]
     },
     "metadata": {},
     "output_type": "display_data"
    },
    {
     "data": {
      "application/vnd.jupyter.widget-view+json": {
       "model_id": "",
       "version_major": 2,
       "version_minor": 0
      },
      "text/plain": [
       "Validating: 0it [00:00, ?it/s]"
      ]
     },
     "metadata": {},
     "output_type": "display_data"
    },
    {
     "data": {
      "application/vnd.jupyter.widget-view+json": {
       "model_id": "",
       "version_major": 2,
       "version_minor": 0
      },
      "text/plain": [
       "Validating: 0it [00:00, ?it/s]"
      ]
     },
     "metadata": {},
     "output_type": "display_data"
    },
    {
     "data": {
      "application/vnd.jupyter.widget-view+json": {
       "model_id": "",
       "version_major": 2,
       "version_minor": 0
      },
      "text/plain": [
       "Validating: 0it [00:00, ?it/s]"
      ]
     },
     "metadata": {},
     "output_type": "display_data"
    },
    {
     "data": {
      "application/vnd.jupyter.widget-view+json": {
       "model_id": "",
       "version_major": 2,
       "version_minor": 0
      },
      "text/plain": [
       "Validating: 0it [00:00, ?it/s]"
      ]
     },
     "metadata": {},
     "output_type": "display_data"
    },
    {
     "data": {
      "application/vnd.jupyter.widget-view+json": {
       "model_id": "",
       "version_major": 2,
       "version_minor": 0
      },
      "text/plain": [
       "Validating: 0it [00:00, ?it/s]"
      ]
     },
     "metadata": {},
     "output_type": "display_data"
    },
    {
     "data": {
      "application/vnd.jupyter.widget-view+json": {
       "model_id": "",
       "version_major": 2,
       "version_minor": 0
      },
      "text/plain": [
       "Validating: 0it [00:00, ?it/s]"
      ]
     },
     "metadata": {},
     "output_type": "display_data"
    },
    {
     "data": {
      "application/vnd.jupyter.widget-view+json": {
       "model_id": "",
       "version_major": 2,
       "version_minor": 0
      },
      "text/plain": [
       "Validating: 0it [00:00, ?it/s]"
      ]
     },
     "metadata": {},
     "output_type": "display_data"
    },
    {
     "data": {
      "application/vnd.jupyter.widget-view+json": {
       "model_id": "",
       "version_major": 2,
       "version_minor": 0
      },
      "text/plain": [
       "Validating: 0it [00:00, ?it/s]"
      ]
     },
     "metadata": {},
     "output_type": "display_data"
    },
    {
     "data": {
      "application/vnd.jupyter.widget-view+json": {
       "model_id": "",
       "version_major": 2,
       "version_minor": 0
      },
      "text/plain": [
       "Validating: 0it [00:00, ?it/s]"
      ]
     },
     "metadata": {},
     "output_type": "display_data"
    },
    {
     "data": {
      "application/vnd.jupyter.widget-view+json": {
       "model_id": "",
       "version_major": 2,
       "version_minor": 0
      },
      "text/plain": [
       "Validating: 0it [00:00, ?it/s]"
      ]
     },
     "metadata": {},
     "output_type": "display_data"
    },
    {
     "data": {
      "application/vnd.jupyter.widget-view+json": {
       "model_id": "",
       "version_major": 2,
       "version_minor": 0
      },
      "text/plain": [
       "Validating: 0it [00:00, ?it/s]"
      ]
     },
     "metadata": {},
     "output_type": "display_data"
    },
    {
     "data": {
      "application/vnd.jupyter.widget-view+json": {
       "model_id": "",
       "version_major": 2,
       "version_minor": 0
      },
      "text/plain": [
       "Validating: 0it [00:00, ?it/s]"
      ]
     },
     "metadata": {},
     "output_type": "display_data"
    },
    {
     "data": {
      "application/vnd.jupyter.widget-view+json": {
       "model_id": "",
       "version_major": 2,
       "version_minor": 0
      },
      "text/plain": [
       "Validating: 0it [00:00, ?it/s]"
      ]
     },
     "metadata": {},
     "output_type": "display_data"
    },
    {
     "data": {
      "application/vnd.jupyter.widget-view+json": {
       "model_id": "",
       "version_major": 2,
       "version_minor": 0
      },
      "text/plain": [
       "Validating: 0it [00:00, ?it/s]"
      ]
     },
     "metadata": {},
     "output_type": "display_data"
    },
    {
     "data": {
      "application/vnd.jupyter.widget-view+json": {
       "model_id": "",
       "version_major": 2,
       "version_minor": 0
      },
      "text/plain": [
       "Validating: 0it [00:00, ?it/s]"
      ]
     },
     "metadata": {},
     "output_type": "display_data"
    },
    {
     "data": {
      "application/vnd.jupyter.widget-view+json": {
       "model_id": "",
       "version_major": 2,
       "version_minor": 0
      },
      "text/plain": [
       "Validating: 0it [00:00, ?it/s]"
      ]
     },
     "metadata": {},
     "output_type": "display_data"
    },
    {
     "data": {
      "application/vnd.jupyter.widget-view+json": {
       "model_id": "",
       "version_major": 2,
       "version_minor": 0
      },
      "text/plain": [
       "Validating: 0it [00:00, ?it/s]"
      ]
     },
     "metadata": {},
     "output_type": "display_data"
    },
    {
     "data": {
      "application/vnd.jupyter.widget-view+json": {
       "model_id": "",
       "version_major": 2,
       "version_minor": 0
      },
      "text/plain": [
       "Validating: 0it [00:00, ?it/s]"
      ]
     },
     "metadata": {},
     "output_type": "display_data"
    },
    {
     "data": {
      "application/vnd.jupyter.widget-view+json": {
       "model_id": "",
       "version_major": 2,
       "version_minor": 0
      },
      "text/plain": [
       "Validating: 0it [00:00, ?it/s]"
      ]
     },
     "metadata": {},
     "output_type": "display_data"
    },
    {
     "data": {
      "application/vnd.jupyter.widget-view+json": {
       "model_id": "",
       "version_major": 2,
       "version_minor": 0
      },
      "text/plain": [
       "Validating: 0it [00:00, ?it/s]"
      ]
     },
     "metadata": {},
     "output_type": "display_data"
    },
    {
     "data": {
      "application/vnd.jupyter.widget-view+json": {
       "model_id": "",
       "version_major": 2,
       "version_minor": 0
      },
      "text/plain": [
       "Validating: 0it [00:00, ?it/s]"
      ]
     },
     "metadata": {},
     "output_type": "display_data"
    },
    {
     "data": {
      "application/vnd.jupyter.widget-view+json": {
       "model_id": "",
       "version_major": 2,
       "version_minor": 0
      },
      "text/plain": [
       "Validating: 0it [00:00, ?it/s]"
      ]
     },
     "metadata": {},
     "output_type": "display_data"
    },
    {
     "data": {
      "application/vnd.jupyter.widget-view+json": {
       "model_id": "",
       "version_major": 2,
       "version_minor": 0
      },
      "text/plain": [
       "Validating: 0it [00:00, ?it/s]"
      ]
     },
     "metadata": {},
     "output_type": "display_data"
    },
    {
     "data": {
      "application/vnd.jupyter.widget-view+json": {
       "model_id": "",
       "version_major": 2,
       "version_minor": 0
      },
      "text/plain": [
       "Validating: 0it [00:00, ?it/s]"
      ]
     },
     "metadata": {},
     "output_type": "display_data"
    },
    {
     "data": {
      "application/vnd.jupyter.widget-view+json": {
       "model_id": "",
       "version_major": 2,
       "version_minor": 0
      },
      "text/plain": [
       "Validating: 0it [00:00, ?it/s]"
      ]
     },
     "metadata": {},
     "output_type": "display_data"
    },
    {
     "data": {
      "application/vnd.jupyter.widget-view+json": {
       "model_id": "",
       "version_major": 2,
       "version_minor": 0
      },
      "text/plain": [
       "Validating: 0it [00:00, ?it/s]"
      ]
     },
     "metadata": {},
     "output_type": "display_data"
    },
    {
     "data": {
      "application/vnd.jupyter.widget-view+json": {
       "model_id": "",
       "version_major": 2,
       "version_minor": 0
      },
      "text/plain": [
       "Validating: 0it [00:00, ?it/s]"
      ]
     },
     "metadata": {},
     "output_type": "display_data"
    },
    {
     "data": {
      "application/vnd.jupyter.widget-view+json": {
       "model_id": "",
       "version_major": 2,
       "version_minor": 0
      },
      "text/plain": [
       "Validating: 0it [00:00, ?it/s]"
      ]
     },
     "metadata": {},
     "output_type": "display_data"
    },
    {
     "data": {
      "application/vnd.jupyter.widget-view+json": {
       "model_id": "",
       "version_major": 2,
       "version_minor": 0
      },
      "text/plain": [
       "Validating: 0it [00:00, ?it/s]"
      ]
     },
     "metadata": {},
     "output_type": "display_data"
    },
    {
     "data": {
      "application/vnd.jupyter.widget-view+json": {
       "model_id": "",
       "version_major": 2,
       "version_minor": 0
      },
      "text/plain": [
       "Validating: 0it [00:00, ?it/s]"
      ]
     },
     "metadata": {},
     "output_type": "display_data"
    },
    {
     "data": {
      "application/vnd.jupyter.widget-view+json": {
       "model_id": "",
       "version_major": 2,
       "version_minor": 0
      },
      "text/plain": [
       "Validating: 0it [00:00, ?it/s]"
      ]
     },
     "metadata": {},
     "output_type": "display_data"
    },
    {
     "data": {
      "application/vnd.jupyter.widget-view+json": {
       "model_id": "",
       "version_major": 2,
       "version_minor": 0
      },
      "text/plain": [
       "Validating: 0it [00:00, ?it/s]"
      ]
     },
     "metadata": {},
     "output_type": "display_data"
    },
    {
     "data": {
      "application/vnd.jupyter.widget-view+json": {
       "model_id": "",
       "version_major": 2,
       "version_minor": 0
      },
      "text/plain": [
       "Validating: 0it [00:00, ?it/s]"
      ]
     },
     "metadata": {},
     "output_type": "display_data"
    },
    {
     "data": {
      "application/vnd.jupyter.widget-view+json": {
       "model_id": "",
       "version_major": 2,
       "version_minor": 0
      },
      "text/plain": [
       "Validating: 0it [00:00, ?it/s]"
      ]
     },
     "metadata": {},
     "output_type": "display_data"
    },
    {
     "data": {
      "application/vnd.jupyter.widget-view+json": {
       "model_id": "",
       "version_major": 2,
       "version_minor": 0
      },
      "text/plain": [
       "Validating: 0it [00:00, ?it/s]"
      ]
     },
     "metadata": {},
     "output_type": "display_data"
    },
    {
     "data": {
      "application/vnd.jupyter.widget-view+json": {
       "model_id": "",
       "version_major": 2,
       "version_minor": 0
      },
      "text/plain": [
       "Validating: 0it [00:00, ?it/s]"
      ]
     },
     "metadata": {},
     "output_type": "display_data"
    },
    {
     "data": {
      "application/vnd.jupyter.widget-view+json": {
       "model_id": "",
       "version_major": 2,
       "version_minor": 0
      },
      "text/plain": [
       "Validating: 0it [00:00, ?it/s]"
      ]
     },
     "metadata": {},
     "output_type": "display_data"
    },
    {
     "data": {
      "application/vnd.jupyter.widget-view+json": {
       "model_id": "",
       "version_major": 2,
       "version_minor": 0
      },
      "text/plain": [
       "Validating: 0it [00:00, ?it/s]"
      ]
     },
     "metadata": {},
     "output_type": "display_data"
    },
    {
     "data": {
      "application/vnd.jupyter.widget-view+json": {
       "model_id": "",
       "version_major": 2,
       "version_minor": 0
      },
      "text/plain": [
       "Validating: 0it [00:00, ?it/s]"
      ]
     },
     "metadata": {},
     "output_type": "display_data"
    },
    {
     "data": {
      "application/vnd.jupyter.widget-view+json": {
       "model_id": "",
       "version_major": 2,
       "version_minor": 0
      },
      "text/plain": [
       "Validating: 0it [00:00, ?it/s]"
      ]
     },
     "metadata": {},
     "output_type": "display_data"
    },
    {
     "data": {
      "application/vnd.jupyter.widget-view+json": {
       "model_id": "",
       "version_major": 2,
       "version_minor": 0
      },
      "text/plain": [
       "Validating: 0it [00:00, ?it/s]"
      ]
     },
     "metadata": {},
     "output_type": "display_data"
    },
    {
     "data": {
      "application/vnd.jupyter.widget-view+json": {
       "model_id": "",
       "version_major": 2,
       "version_minor": 0
      },
      "text/plain": [
       "Validating: 0it [00:00, ?it/s]"
      ]
     },
     "metadata": {},
     "output_type": "display_data"
    },
    {
     "data": {
      "application/vnd.jupyter.widget-view+json": {
       "model_id": "",
       "version_major": 2,
       "version_minor": 0
      },
      "text/plain": [
       "Validating: 0it [00:00, ?it/s]"
      ]
     },
     "metadata": {},
     "output_type": "display_data"
    },
    {
     "data": {
      "application/vnd.jupyter.widget-view+json": {
       "model_id": "",
       "version_major": 2,
       "version_minor": 0
      },
      "text/plain": [
       "Validating: 0it [00:00, ?it/s]"
      ]
     },
     "metadata": {},
     "output_type": "display_data"
    },
    {
     "data": {
      "application/vnd.jupyter.widget-view+json": {
       "model_id": "",
       "version_major": 2,
       "version_minor": 0
      },
      "text/plain": [
       "Validating: 0it [00:00, ?it/s]"
      ]
     },
     "metadata": {},
     "output_type": "display_data"
    },
    {
     "data": {
      "application/vnd.jupyter.widget-view+json": {
       "model_id": "",
       "version_major": 2,
       "version_minor": 0
      },
      "text/plain": [
       "Validating: 0it [00:00, ?it/s]"
      ]
     },
     "metadata": {},
     "output_type": "display_data"
    },
    {
     "data": {
      "application/vnd.jupyter.widget-view+json": {
       "model_id": "",
       "version_major": 2,
       "version_minor": 0
      },
      "text/plain": [
       "Validating: 0it [00:00, ?it/s]"
      ]
     },
     "metadata": {},
     "output_type": "display_data"
    },
    {
     "data": {
      "application/vnd.jupyter.widget-view+json": {
       "model_id": "",
       "version_major": 2,
       "version_minor": 0
      },
      "text/plain": [
       "Validating: 0it [00:00, ?it/s]"
      ]
     },
     "metadata": {},
     "output_type": "display_data"
    },
    {
     "data": {
      "application/vnd.jupyter.widget-view+json": {
       "model_id": "",
       "version_major": 2,
       "version_minor": 0
      },
      "text/plain": [
       "Validating: 0it [00:00, ?it/s]"
      ]
     },
     "metadata": {},
     "output_type": "display_data"
    },
    {
     "data": {
      "application/vnd.jupyter.widget-view+json": {
       "model_id": "",
       "version_major": 2,
       "version_minor": 0
      },
      "text/plain": [
       "Validating: 0it [00:00, ?it/s]"
      ]
     },
     "metadata": {},
     "output_type": "display_data"
    },
    {
     "data": {
      "application/vnd.jupyter.widget-view+json": {
       "model_id": "",
       "version_major": 2,
       "version_minor": 0
      },
      "text/plain": [
       "Validating: 0it [00:00, ?it/s]"
      ]
     },
     "metadata": {},
     "output_type": "display_data"
    },
    {
     "data": {
      "application/vnd.jupyter.widget-view+json": {
       "model_id": "",
       "version_major": 2,
       "version_minor": 0
      },
      "text/plain": [
       "Validating: 0it [00:00, ?it/s]"
      ]
     },
     "metadata": {},
     "output_type": "display_data"
    },
    {
     "data": {
      "application/vnd.jupyter.widget-view+json": {
       "model_id": "",
       "version_major": 2,
       "version_minor": 0
      },
      "text/plain": [
       "Validating: 0it [00:00, ?it/s]"
      ]
     },
     "metadata": {},
     "output_type": "display_data"
    },
    {
     "data": {
      "application/vnd.jupyter.widget-view+json": {
       "model_id": "",
       "version_major": 2,
       "version_minor": 0
      },
      "text/plain": [
       "Validating: 0it [00:00, ?it/s]"
      ]
     },
     "metadata": {},
     "output_type": "display_data"
    },
    {
     "data": {
      "application/vnd.jupyter.widget-view+json": {
       "model_id": "",
       "version_major": 2,
       "version_minor": 0
      },
      "text/plain": [
       "Validating: 0it [00:00, ?it/s]"
      ]
     },
     "metadata": {},
     "output_type": "display_data"
    },
    {
     "data": {
      "application/vnd.jupyter.widget-view+json": {
       "model_id": "",
       "version_major": 2,
       "version_minor": 0
      },
      "text/plain": [
       "Validating: 0it [00:00, ?it/s]"
      ]
     },
     "metadata": {},
     "output_type": "display_data"
    },
    {
     "data": {
      "application/vnd.jupyter.widget-view+json": {
       "model_id": "",
       "version_major": 2,
       "version_minor": 0
      },
      "text/plain": [
       "Validating: 0it [00:00, ?it/s]"
      ]
     },
     "metadata": {},
     "output_type": "display_data"
    },
    {
     "data": {
      "application/vnd.jupyter.widget-view+json": {
       "model_id": "",
       "version_major": 2,
       "version_minor": 0
      },
      "text/plain": [
       "Validating: 0it [00:00, ?it/s]"
      ]
     },
     "metadata": {},
     "output_type": "display_data"
    },
    {
     "data": {
      "application/vnd.jupyter.widget-view+json": {
       "model_id": "",
       "version_major": 2,
       "version_minor": 0
      },
      "text/plain": [
       "Validating: 0it [00:00, ?it/s]"
      ]
     },
     "metadata": {},
     "output_type": "display_data"
    },
    {
     "data": {
      "application/vnd.jupyter.widget-view+json": {
       "model_id": "",
       "version_major": 2,
       "version_minor": 0
      },
      "text/plain": [
       "Validating: 0it [00:00, ?it/s]"
      ]
     },
     "metadata": {},
     "output_type": "display_data"
    },
    {
     "data": {
      "application/vnd.jupyter.widget-view+json": {
       "model_id": "",
       "version_major": 2,
       "version_minor": 0
      },
      "text/plain": [
       "Validating: 0it [00:00, ?it/s]"
      ]
     },
     "metadata": {},
     "output_type": "display_data"
    },
    {
     "data": {
      "application/vnd.jupyter.widget-view+json": {
       "model_id": "",
       "version_major": 2,
       "version_minor": 0
      },
      "text/plain": [
       "Validating: 0it [00:00, ?it/s]"
      ]
     },
     "metadata": {},
     "output_type": "display_data"
    },
    {
     "data": {
      "application/vnd.jupyter.widget-view+json": {
       "model_id": "",
       "version_major": 2,
       "version_minor": 0
      },
      "text/plain": [
       "Validating: 0it [00:00, ?it/s]"
      ]
     },
     "metadata": {},
     "output_type": "display_data"
    },
    {
     "data": {
      "application/vnd.jupyter.widget-view+json": {
       "model_id": "",
       "version_major": 2,
       "version_minor": 0
      },
      "text/plain": [
       "Validating: 0it [00:00, ?it/s]"
      ]
     },
     "metadata": {},
     "output_type": "display_data"
    },
    {
     "data": {
      "application/vnd.jupyter.widget-view+json": {
       "model_id": "",
       "version_major": 2,
       "version_minor": 0
      },
      "text/plain": [
       "Validating: 0it [00:00, ?it/s]"
      ]
     },
     "metadata": {},
     "output_type": "display_data"
    },
    {
     "data": {
      "application/vnd.jupyter.widget-view+json": {
       "model_id": "",
       "version_major": 2,
       "version_minor": 0
      },
      "text/plain": [
       "Validating: 0it [00:00, ?it/s]"
      ]
     },
     "metadata": {},
     "output_type": "display_data"
    },
    {
     "data": {
      "application/vnd.jupyter.widget-view+json": {
       "model_id": "",
       "version_major": 2,
       "version_minor": 0
      },
      "text/plain": [
       "Validating: 0it [00:00, ?it/s]"
      ]
     },
     "metadata": {},
     "output_type": "display_data"
    },
    {
     "data": {
      "application/vnd.jupyter.widget-view+json": {
       "model_id": "",
       "version_major": 2,
       "version_minor": 0
      },
      "text/plain": [
       "Validating: 0it [00:00, ?it/s]"
      ]
     },
     "metadata": {},
     "output_type": "display_data"
    },
    {
     "data": {
      "application/vnd.jupyter.widget-view+json": {
       "model_id": "",
       "version_major": 2,
       "version_minor": 0
      },
      "text/plain": [
       "Validating: 0it [00:00, ?it/s]"
      ]
     },
     "metadata": {},
     "output_type": "display_data"
    },
    {
     "data": {
      "application/vnd.jupyter.widget-view+json": {
       "model_id": "",
       "version_major": 2,
       "version_minor": 0
      },
      "text/plain": [
       "Validating: 0it [00:00, ?it/s]"
      ]
     },
     "metadata": {},
     "output_type": "display_data"
    },
    {
     "data": {
      "application/vnd.jupyter.widget-view+json": {
       "model_id": "",
       "version_major": 2,
       "version_minor": 0
      },
      "text/plain": [
       "Validating: 0it [00:00, ?it/s]"
      ]
     },
     "metadata": {},
     "output_type": "display_data"
    },
    {
     "data": {
      "application/vnd.jupyter.widget-view+json": {
       "model_id": "",
       "version_major": 2,
       "version_minor": 0
      },
      "text/plain": [
       "Validating: 0it [00:00, ?it/s]"
      ]
     },
     "metadata": {},
     "output_type": "display_data"
    },
    {
     "data": {
      "application/vnd.jupyter.widget-view+json": {
       "model_id": "",
       "version_major": 2,
       "version_minor": 0
      },
      "text/plain": [
       "Validating: 0it [00:00, ?it/s]"
      ]
     },
     "metadata": {},
     "output_type": "display_data"
    },
    {
     "data": {
      "application/vnd.jupyter.widget-view+json": {
       "model_id": "",
       "version_major": 2,
       "version_minor": 0
      },
      "text/plain": [
       "Validating: 0it [00:00, ?it/s]"
      ]
     },
     "metadata": {},
     "output_type": "display_data"
    },
    {
     "data": {
      "application/vnd.jupyter.widget-view+json": {
       "model_id": "",
       "version_major": 2,
       "version_minor": 0
      },
      "text/plain": [
       "Validating: 0it [00:00, ?it/s]"
      ]
     },
     "metadata": {},
     "output_type": "display_data"
    },
    {
     "data": {
      "application/vnd.jupyter.widget-view+json": {
       "model_id": "",
       "version_major": 2,
       "version_minor": 0
      },
      "text/plain": [
       "Validating: 0it [00:00, ?it/s]"
      ]
     },
     "metadata": {},
     "output_type": "display_data"
    },
    {
     "data": {
      "application/vnd.jupyter.widget-view+json": {
       "model_id": "",
       "version_major": 2,
       "version_minor": 0
      },
      "text/plain": [
       "Validating: 0it [00:00, ?it/s]"
      ]
     },
     "metadata": {},
     "output_type": "display_data"
    },
    {
     "data": {
      "application/vnd.jupyter.widget-view+json": {
       "model_id": "",
       "version_major": 2,
       "version_minor": 0
      },
      "text/plain": [
       "Validating: 0it [00:00, ?it/s]"
      ]
     },
     "metadata": {},
     "output_type": "display_data"
    },
    {
     "data": {
      "application/vnd.jupyter.widget-view+json": {
       "model_id": "",
       "version_major": 2,
       "version_minor": 0
      },
      "text/plain": [
       "Validating: 0it [00:00, ?it/s]"
      ]
     },
     "metadata": {},
     "output_type": "display_data"
    },
    {
     "data": {
      "application/vnd.jupyter.widget-view+json": {
       "model_id": "",
       "version_major": 2,
       "version_minor": 0
      },
      "text/plain": [
       "Validating: 0it [00:00, ?it/s]"
      ]
     },
     "metadata": {},
     "output_type": "display_data"
    },
    {
     "data": {
      "application/vnd.jupyter.widget-view+json": {
       "model_id": "",
       "version_major": 2,
       "version_minor": 0
      },
      "text/plain": [
       "Validating: 0it [00:00, ?it/s]"
      ]
     },
     "metadata": {},
     "output_type": "display_data"
    },
    {
     "data": {
      "application/vnd.jupyter.widget-view+json": {
       "model_id": "",
       "version_major": 2,
       "version_minor": 0
      },
      "text/plain": [
       "Validating: 0it [00:00, ?it/s]"
      ]
     },
     "metadata": {},
     "output_type": "display_data"
    },
    {
     "data": {
      "application/vnd.jupyter.widget-view+json": {
       "model_id": "",
       "version_major": 2,
       "version_minor": 0
      },
      "text/plain": [
       "Validating: 0it [00:00, ?it/s]"
      ]
     },
     "metadata": {},
     "output_type": "display_data"
    },
    {
     "data": {
      "application/vnd.jupyter.widget-view+json": {
       "model_id": "",
       "version_major": 2,
       "version_minor": 0
      },
      "text/plain": [
       "Validating: 0it [00:00, ?it/s]"
      ]
     },
     "metadata": {},
     "output_type": "display_data"
    },
    {
     "data": {
      "application/vnd.jupyter.widget-view+json": {
       "model_id": "",
       "version_major": 2,
       "version_minor": 0
      },
      "text/plain": [
       "Validating: 0it [00:00, ?it/s]"
      ]
     },
     "metadata": {},
     "output_type": "display_data"
    },
    {
     "data": {
      "application/vnd.jupyter.widget-view+json": {
       "model_id": "",
       "version_major": 2,
       "version_minor": 0
      },
      "text/plain": [
       "Validating: 0it [00:00, ?it/s]"
      ]
     },
     "metadata": {},
     "output_type": "display_data"
    },
    {
     "data": {
      "application/vnd.jupyter.widget-view+json": {
       "model_id": "",
       "version_major": 2,
       "version_minor": 0
      },
      "text/plain": [
       "Validating: 0it [00:00, ?it/s]"
      ]
     },
     "metadata": {},
     "output_type": "display_data"
    },
    {
     "data": {
      "application/vnd.jupyter.widget-view+json": {
       "model_id": "",
       "version_major": 2,
       "version_minor": 0
      },
      "text/plain": [
       "Validating: 0it [00:00, ?it/s]"
      ]
     },
     "metadata": {},
     "output_type": "display_data"
    },
    {
     "data": {
      "application/vnd.jupyter.widget-view+json": {
       "model_id": "",
       "version_major": 2,
       "version_minor": 0
      },
      "text/plain": [
       "Validating: 0it [00:00, ?it/s]"
      ]
     },
     "metadata": {},
     "output_type": "display_data"
    },
    {
     "data": {
      "application/vnd.jupyter.widget-view+json": {
       "model_id": "",
       "version_major": 2,
       "version_minor": 0
      },
      "text/plain": [
       "Validating: 0it [00:00, ?it/s]"
      ]
     },
     "metadata": {},
     "output_type": "display_data"
    },
    {
     "data": {
      "application/vnd.jupyter.widget-view+json": {
       "model_id": "",
       "version_major": 2,
       "version_minor": 0
      },
      "text/plain": [
       "Validating: 0it [00:00, ?it/s]"
      ]
     },
     "metadata": {},
     "output_type": "display_data"
    },
    {
     "data": {
      "application/vnd.jupyter.widget-view+json": {
       "model_id": "",
       "version_major": 2,
       "version_minor": 0
      },
      "text/plain": [
       "Validating: 0it [00:00, ?it/s]"
      ]
     },
     "metadata": {},
     "output_type": "display_data"
    },
    {
     "data": {
      "application/vnd.jupyter.widget-view+json": {
       "model_id": "",
       "version_major": 2,
       "version_minor": 0
      },
      "text/plain": [
       "Validating: 0it [00:00, ?it/s]"
      ]
     },
     "metadata": {},
     "output_type": "display_data"
    },
    {
     "data": {
      "application/vnd.jupyter.widget-view+json": {
       "model_id": "",
       "version_major": 2,
       "version_minor": 0
      },
      "text/plain": [
       "Validating: 0it [00:00, ?it/s]"
      ]
     },
     "metadata": {},
     "output_type": "display_data"
    },
    {
     "data": {
      "application/vnd.jupyter.widget-view+json": {
       "model_id": "",
       "version_major": 2,
       "version_minor": 0
      },
      "text/plain": [
       "Validating: 0it [00:00, ?it/s]"
      ]
     },
     "metadata": {},
     "output_type": "display_data"
    },
    {
     "data": {
      "application/vnd.jupyter.widget-view+json": {
       "model_id": "",
       "version_major": 2,
       "version_minor": 0
      },
      "text/plain": [
       "Validating: 0it [00:00, ?it/s]"
      ]
     },
     "metadata": {},
     "output_type": "display_data"
    },
    {
     "data": {
      "application/vnd.jupyter.widget-view+json": {
       "model_id": "",
       "version_major": 2,
       "version_minor": 0
      },
      "text/plain": [
       "Validating: 0it [00:00, ?it/s]"
      ]
     },
     "metadata": {},
     "output_type": "display_data"
    },
    {
     "data": {
      "application/vnd.jupyter.widget-view+json": {
       "model_id": "",
       "version_major": 2,
       "version_minor": 0
      },
      "text/plain": [
       "Validating: 0it [00:00, ?it/s]"
      ]
     },
     "metadata": {},
     "output_type": "display_data"
    },
    {
     "data": {
      "application/vnd.jupyter.widget-view+json": {
       "model_id": "",
       "version_major": 2,
       "version_minor": 0
      },
      "text/plain": [
       "Validating: 0it [00:00, ?it/s]"
      ]
     },
     "metadata": {},
     "output_type": "display_data"
    },
    {
     "data": {
      "application/vnd.jupyter.widget-view+json": {
       "model_id": "",
       "version_major": 2,
       "version_minor": 0
      },
      "text/plain": [
       "Validating: 0it [00:00, ?it/s]"
      ]
     },
     "metadata": {},
     "output_type": "display_data"
    },
    {
     "data": {
      "application/vnd.jupyter.widget-view+json": {
       "model_id": "",
       "version_major": 2,
       "version_minor": 0
      },
      "text/plain": [
       "Validating: 0it [00:00, ?it/s]"
      ]
     },
     "metadata": {},
     "output_type": "display_data"
    },
    {
     "data": {
      "application/vnd.jupyter.widget-view+json": {
       "model_id": "",
       "version_major": 2,
       "version_minor": 0
      },
      "text/plain": [
       "Validating: 0it [00:00, ?it/s]"
      ]
     },
     "metadata": {},
     "output_type": "display_data"
    },
    {
     "data": {
      "application/vnd.jupyter.widget-view+json": {
       "model_id": "",
       "version_major": 2,
       "version_minor": 0
      },
      "text/plain": [
       "Validating: 0it [00:00, ?it/s]"
      ]
     },
     "metadata": {},
     "output_type": "display_data"
    },
    {
     "data": {
      "application/vnd.jupyter.widget-view+json": {
       "model_id": "",
       "version_major": 2,
       "version_minor": 0
      },
      "text/plain": [
       "Validating: 0it [00:00, ?it/s]"
      ]
     },
     "metadata": {},
     "output_type": "display_data"
    },
    {
     "data": {
      "application/vnd.jupyter.widget-view+json": {
       "model_id": "",
       "version_major": 2,
       "version_minor": 0
      },
      "text/plain": [
       "Validating: 0it [00:00, ?it/s]"
      ]
     },
     "metadata": {},
     "output_type": "display_data"
    },
    {
     "data": {
      "application/vnd.jupyter.widget-view+json": {
       "model_id": "",
       "version_major": 2,
       "version_minor": 0
      },
      "text/plain": [
       "Validating: 0it [00:00, ?it/s]"
      ]
     },
     "metadata": {},
     "output_type": "display_data"
    },
    {
     "data": {
      "application/vnd.jupyter.widget-view+json": {
       "model_id": "",
       "version_major": 2,
       "version_minor": 0
      },
      "text/plain": [
       "Validating: 0it [00:00, ?it/s]"
      ]
     },
     "metadata": {},
     "output_type": "display_data"
    },
    {
     "data": {
      "application/vnd.jupyter.widget-view+json": {
       "model_id": "",
       "version_major": 2,
       "version_minor": 0
      },
      "text/plain": [
       "Validating: 0it [00:00, ?it/s]"
      ]
     },
     "metadata": {},
     "output_type": "display_data"
    },
    {
     "data": {
      "application/vnd.jupyter.widget-view+json": {
       "model_id": "",
       "version_major": 2,
       "version_minor": 0
      },
      "text/plain": [
       "Validating: 0it [00:00, ?it/s]"
      ]
     },
     "metadata": {},
     "output_type": "display_data"
    },
    {
     "data": {
      "application/vnd.jupyter.widget-view+json": {
       "model_id": "",
       "version_major": 2,
       "version_minor": 0
      },
      "text/plain": [
       "Validating: 0it [00:00, ?it/s]"
      ]
     },
     "metadata": {},
     "output_type": "display_data"
    },
    {
     "data": {
      "application/vnd.jupyter.widget-view+json": {
       "model_id": "",
       "version_major": 2,
       "version_minor": 0
      },
      "text/plain": [
       "Validating: 0it [00:00, ?it/s]"
      ]
     },
     "metadata": {},
     "output_type": "display_data"
    },
    {
     "data": {
      "application/vnd.jupyter.widget-view+json": {
       "model_id": "",
       "version_major": 2,
       "version_minor": 0
      },
      "text/plain": [
       "Validating: 0it [00:00, ?it/s]"
      ]
     },
     "metadata": {},
     "output_type": "display_data"
    },
    {
     "data": {
      "application/vnd.jupyter.widget-view+json": {
       "model_id": "",
       "version_major": 2,
       "version_minor": 0
      },
      "text/plain": [
       "Validating: 0it [00:00, ?it/s]"
      ]
     },
     "metadata": {},
     "output_type": "display_data"
    },
    {
     "data": {
      "application/vnd.jupyter.widget-view+json": {
       "model_id": "",
       "version_major": 2,
       "version_minor": 0
      },
      "text/plain": [
       "Validating: 0it [00:00, ?it/s]"
      ]
     },
     "metadata": {},
     "output_type": "display_data"
    },
    {
     "data": {
      "application/vnd.jupyter.widget-view+json": {
       "model_id": "",
       "version_major": 2,
       "version_minor": 0
      },
      "text/plain": [
       "Validating: 0it [00:00, ?it/s]"
      ]
     },
     "metadata": {},
     "output_type": "display_data"
    },
    {
     "data": {
      "application/vnd.jupyter.widget-view+json": {
       "model_id": "",
       "version_major": 2,
       "version_minor": 0
      },
      "text/plain": [
       "Validating: 0it [00:00, ?it/s]"
      ]
     },
     "metadata": {},
     "output_type": "display_data"
    },
    {
     "data": {
      "application/vnd.jupyter.widget-view+json": {
       "model_id": "",
       "version_major": 2,
       "version_minor": 0
      },
      "text/plain": [
       "Validating: 0it [00:00, ?it/s]"
      ]
     },
     "metadata": {},
     "output_type": "display_data"
    },
    {
     "data": {
      "application/vnd.jupyter.widget-view+json": {
       "model_id": "",
       "version_major": 2,
       "version_minor": 0
      },
      "text/plain": [
       "Validating: 0it [00:00, ?it/s]"
      ]
     },
     "metadata": {},
     "output_type": "display_data"
    },
    {
     "data": {
      "application/vnd.jupyter.widget-view+json": {
       "model_id": "",
       "version_major": 2,
       "version_minor": 0
      },
      "text/plain": [
       "Validating: 0it [00:00, ?it/s]"
      ]
     },
     "metadata": {},
     "output_type": "display_data"
    },
    {
     "data": {
      "application/vnd.jupyter.widget-view+json": {
       "model_id": "",
       "version_major": 2,
       "version_minor": 0
      },
      "text/plain": [
       "Validating: 0it [00:00, ?it/s]"
      ]
     },
     "metadata": {},
     "output_type": "display_data"
    },
    {
     "data": {
      "application/vnd.jupyter.widget-view+json": {
       "model_id": "",
       "version_major": 2,
       "version_minor": 0
      },
      "text/plain": [
       "Validating: 0it [00:00, ?it/s]"
      ]
     },
     "metadata": {},
     "output_type": "display_data"
    },
    {
     "data": {
      "application/vnd.jupyter.widget-view+json": {
       "model_id": "",
       "version_major": 2,
       "version_minor": 0
      },
      "text/plain": [
       "Validating: 0it [00:00, ?it/s]"
      ]
     },
     "metadata": {},
     "output_type": "display_data"
    },
    {
     "data": {
      "application/vnd.jupyter.widget-view+json": {
       "model_id": "",
       "version_major": 2,
       "version_minor": 0
      },
      "text/plain": [
       "Validating: 0it [00:00, ?it/s]"
      ]
     },
     "metadata": {},
     "output_type": "display_data"
    },
    {
     "data": {
      "application/vnd.jupyter.widget-view+json": {
       "model_id": "",
       "version_major": 2,
       "version_minor": 0
      },
      "text/plain": [
       "Validating: 0it [00:00, ?it/s]"
      ]
     },
     "metadata": {},
     "output_type": "display_data"
    },
    {
     "data": {
      "application/vnd.jupyter.widget-view+json": {
       "model_id": "",
       "version_major": 2,
       "version_minor": 0
      },
      "text/plain": [
       "Validating: 0it [00:00, ?it/s]"
      ]
     },
     "metadata": {},
     "output_type": "display_data"
    },
    {
     "data": {
      "application/vnd.jupyter.widget-view+json": {
       "model_id": "",
       "version_major": 2,
       "version_minor": 0
      },
      "text/plain": [
       "Validating: 0it [00:00, ?it/s]"
      ]
     },
     "metadata": {},
     "output_type": "display_data"
    },
    {
     "data": {
      "application/vnd.jupyter.widget-view+json": {
       "model_id": "",
       "version_major": 2,
       "version_minor": 0
      },
      "text/plain": [
       "Validating: 0it [00:00, ?it/s]"
      ]
     },
     "metadata": {},
     "output_type": "display_data"
    },
    {
     "data": {
      "application/vnd.jupyter.widget-view+json": {
       "model_id": "",
       "version_major": 2,
       "version_minor": 0
      },
      "text/plain": [
       "Validating: 0it [00:00, ?it/s]"
      ]
     },
     "metadata": {},
     "output_type": "display_data"
    },
    {
     "data": {
      "application/vnd.jupyter.widget-view+json": {
       "model_id": "",
       "version_major": 2,
       "version_minor": 0
      },
      "text/plain": [
       "Validating: 0it [00:00, ?it/s]"
      ]
     },
     "metadata": {},
     "output_type": "display_data"
    },
    {
     "data": {
      "application/vnd.jupyter.widget-view+json": {
       "model_id": "",
       "version_major": 2,
       "version_minor": 0
      },
      "text/plain": [
       "Validating: 0it [00:00, ?it/s]"
      ]
     },
     "metadata": {},
     "output_type": "display_data"
    },
    {
     "data": {
      "application/vnd.jupyter.widget-view+json": {
       "model_id": "",
       "version_major": 2,
       "version_minor": 0
      },
      "text/plain": [
       "Validating: 0it [00:00, ?it/s]"
      ]
     },
     "metadata": {},
     "output_type": "display_data"
    },
    {
     "data": {
      "application/vnd.jupyter.widget-view+json": {
       "model_id": "",
       "version_major": 2,
       "version_minor": 0
      },
      "text/plain": [
       "Validating: 0it [00:00, ?it/s]"
      ]
     },
     "metadata": {},
     "output_type": "display_data"
    },
    {
     "data": {
      "application/vnd.jupyter.widget-view+json": {
       "model_id": "",
       "version_major": 2,
       "version_minor": 0
      },
      "text/plain": [
       "Validating: 0it [00:00, ?it/s]"
      ]
     },
     "metadata": {},
     "output_type": "display_data"
    },
    {
     "data": {
      "application/vnd.jupyter.widget-view+json": {
       "model_id": "",
       "version_major": 2,
       "version_minor": 0
      },
      "text/plain": [
       "Validating: 0it [00:00, ?it/s]"
      ]
     },
     "metadata": {},
     "output_type": "display_data"
    },
    {
     "data": {
      "application/vnd.jupyter.widget-view+json": {
       "model_id": "",
       "version_major": 2,
       "version_minor": 0
      },
      "text/plain": [
       "Validating: 0it [00:00, ?it/s]"
      ]
     },
     "metadata": {},
     "output_type": "display_data"
    },
    {
     "data": {
      "application/vnd.jupyter.widget-view+json": {
       "model_id": "",
       "version_major": 2,
       "version_minor": 0
      },
      "text/plain": [
       "Validating: 0it [00:00, ?it/s]"
      ]
     },
     "metadata": {},
     "output_type": "display_data"
    },
    {
     "data": {
      "application/vnd.jupyter.widget-view+json": {
       "model_id": "",
       "version_major": 2,
       "version_minor": 0
      },
      "text/plain": [
       "Validating: 0it [00:00, ?it/s]"
      ]
     },
     "metadata": {},
     "output_type": "display_data"
    },
    {
     "data": {
      "application/vnd.jupyter.widget-view+json": {
       "model_id": "",
       "version_major": 2,
       "version_minor": 0
      },
      "text/plain": [
       "Validating: 0it [00:00, ?it/s]"
      ]
     },
     "metadata": {},
     "output_type": "display_data"
    },
    {
     "data": {
      "application/vnd.jupyter.widget-view+json": {
       "model_id": "",
       "version_major": 2,
       "version_minor": 0
      },
      "text/plain": [
       "Validating: 0it [00:00, ?it/s]"
      ]
     },
     "metadata": {},
     "output_type": "display_data"
    },
    {
     "data": {
      "application/vnd.jupyter.widget-view+json": {
       "model_id": "",
       "version_major": 2,
       "version_minor": 0
      },
      "text/plain": [
       "Validating: 0it [00:00, ?it/s]"
      ]
     },
     "metadata": {},
     "output_type": "display_data"
    },
    {
     "data": {
      "application/vnd.jupyter.widget-view+json": {
       "model_id": "",
       "version_major": 2,
       "version_minor": 0
      },
      "text/plain": [
       "Validating: 0it [00:00, ?it/s]"
      ]
     },
     "metadata": {},
     "output_type": "display_data"
    },
    {
     "data": {
      "application/vnd.jupyter.widget-view+json": {
       "model_id": "",
       "version_major": 2,
       "version_minor": 0
      },
      "text/plain": [
       "Validating: 0it [00:00, ?it/s]"
      ]
     },
     "metadata": {},
     "output_type": "display_data"
    },
    {
     "data": {
      "application/vnd.jupyter.widget-view+json": {
       "model_id": "",
       "version_major": 2,
       "version_minor": 0
      },
      "text/plain": [
       "Validating: 0it [00:00, ?it/s]"
      ]
     },
     "metadata": {},
     "output_type": "display_data"
    },
    {
     "data": {
      "application/vnd.jupyter.widget-view+json": {
       "model_id": "",
       "version_major": 2,
       "version_minor": 0
      },
      "text/plain": [
       "Validating: 0it [00:00, ?it/s]"
      ]
     },
     "metadata": {},
     "output_type": "display_data"
    },
    {
     "data": {
      "application/vnd.jupyter.widget-view+json": {
       "model_id": "",
       "version_major": 2,
       "version_minor": 0
      },
      "text/plain": [
       "Validating: 0it [00:00, ?it/s]"
      ]
     },
     "metadata": {},
     "output_type": "display_data"
    },
    {
     "data": {
      "application/vnd.jupyter.widget-view+json": {
       "model_id": "",
       "version_major": 2,
       "version_minor": 0
      },
      "text/plain": [
       "Validating: 0it [00:00, ?it/s]"
      ]
     },
     "metadata": {},
     "output_type": "display_data"
    },
    {
     "data": {
      "application/vnd.jupyter.widget-view+json": {
       "model_id": "",
       "version_major": 2,
       "version_minor": 0
      },
      "text/plain": [
       "Validating: 0it [00:00, ?it/s]"
      ]
     },
     "metadata": {},
     "output_type": "display_data"
    },
    {
     "data": {
      "application/vnd.jupyter.widget-view+json": {
       "model_id": "",
       "version_major": 2,
       "version_minor": 0
      },
      "text/plain": [
       "Validating: 0it [00:00, ?it/s]"
      ]
     },
     "metadata": {},
     "output_type": "display_data"
    },
    {
     "data": {
      "application/vnd.jupyter.widget-view+json": {
       "model_id": "",
       "version_major": 2,
       "version_minor": 0
      },
      "text/plain": [
       "Validating: 0it [00:00, ?it/s]"
      ]
     },
     "metadata": {},
     "output_type": "display_data"
    },
    {
     "data": {
      "application/vnd.jupyter.widget-view+json": {
       "model_id": "",
       "version_major": 2,
       "version_minor": 0
      },
      "text/plain": [
       "Validating: 0it [00:00, ?it/s]"
      ]
     },
     "metadata": {},
     "output_type": "display_data"
    },
    {
     "data": {
      "application/vnd.jupyter.widget-view+json": {
       "model_id": "",
       "version_major": 2,
       "version_minor": 0
      },
      "text/plain": [
       "Validating: 0it [00:00, ?it/s]"
      ]
     },
     "metadata": {},
     "output_type": "display_data"
    },
    {
     "data": {
      "application/vnd.jupyter.widget-view+json": {
       "model_id": "",
       "version_major": 2,
       "version_minor": 0
      },
      "text/plain": [
       "Validating: 0it [00:00, ?it/s]"
      ]
     },
     "metadata": {},
     "output_type": "display_data"
    },
    {
     "data": {
      "application/vnd.jupyter.widget-view+json": {
       "model_id": "",
       "version_major": 2,
       "version_minor": 0
      },
      "text/plain": [
       "Validating: 0it [00:00, ?it/s]"
      ]
     },
     "metadata": {},
     "output_type": "display_data"
    },
    {
     "data": {
      "application/vnd.jupyter.widget-view+json": {
       "model_id": "",
       "version_major": 2,
       "version_minor": 0
      },
      "text/plain": [
       "Validating: 0it [00:00, ?it/s]"
      ]
     },
     "metadata": {},
     "output_type": "display_data"
    },
    {
     "data": {
      "application/vnd.jupyter.widget-view+json": {
       "model_id": "",
       "version_major": 2,
       "version_minor": 0
      },
      "text/plain": [
       "Validating: 0it [00:00, ?it/s]"
      ]
     },
     "metadata": {},
     "output_type": "display_data"
    },
    {
     "data": {
      "application/vnd.jupyter.widget-view+json": {
       "model_id": "",
       "version_major": 2,
       "version_minor": 0
      },
      "text/plain": [
       "Validating: 0it [00:00, ?it/s]"
      ]
     },
     "metadata": {},
     "output_type": "display_data"
    },
    {
     "data": {
      "application/vnd.jupyter.widget-view+json": {
       "model_id": "",
       "version_major": 2,
       "version_minor": 0
      },
      "text/plain": [
       "Validating: 0it [00:00, ?it/s]"
      ]
     },
     "metadata": {},
     "output_type": "display_data"
    },
    {
     "data": {
      "application/vnd.jupyter.widget-view+json": {
       "model_id": "",
       "version_major": 2,
       "version_minor": 0
      },
      "text/plain": [
       "Validating: 0it [00:00, ?it/s]"
      ]
     },
     "metadata": {},
     "output_type": "display_data"
    },
    {
     "data": {
      "application/vnd.jupyter.widget-view+json": {
       "model_id": "",
       "version_major": 2,
       "version_minor": 0
      },
      "text/plain": [
       "Validating: 0it [00:00, ?it/s]"
      ]
     },
     "metadata": {},
     "output_type": "display_data"
    },
    {
     "data": {
      "application/vnd.jupyter.widget-view+json": {
       "model_id": "",
       "version_major": 2,
       "version_minor": 0
      },
      "text/plain": [
       "Validating: 0it [00:00, ?it/s]"
      ]
     },
     "metadata": {},
     "output_type": "display_data"
    },
    {
     "data": {
      "application/vnd.jupyter.widget-view+json": {
       "model_id": "",
       "version_major": 2,
       "version_minor": 0
      },
      "text/plain": [
       "Validating: 0it [00:00, ?it/s]"
      ]
     },
     "metadata": {},
     "output_type": "display_data"
    },
    {
     "data": {
      "application/vnd.jupyter.widget-view+json": {
       "model_id": "",
       "version_major": 2,
       "version_minor": 0
      },
      "text/plain": [
       "Validating: 0it [00:00, ?it/s]"
      ]
     },
     "metadata": {},
     "output_type": "display_data"
    },
    {
     "data": {
      "application/vnd.jupyter.widget-view+json": {
       "model_id": "",
       "version_major": 2,
       "version_minor": 0
      },
      "text/plain": [
       "Validating: 0it [00:00, ?it/s]"
      ]
     },
     "metadata": {},
     "output_type": "display_data"
    },
    {
     "data": {
      "application/vnd.jupyter.widget-view+json": {
       "model_id": "",
       "version_major": 2,
       "version_minor": 0
      },
      "text/plain": [
       "Validating: 0it [00:00, ?it/s]"
      ]
     },
     "metadata": {},
     "output_type": "display_data"
    },
    {
     "data": {
      "application/vnd.jupyter.widget-view+json": {
       "model_id": "",
       "version_major": 2,
       "version_minor": 0
      },
      "text/plain": [
       "Validating: 0it [00:00, ?it/s]"
      ]
     },
     "metadata": {},
     "output_type": "display_data"
    },
    {
     "data": {
      "application/vnd.jupyter.widget-view+json": {
       "model_id": "",
       "version_major": 2,
       "version_minor": 0
      },
      "text/plain": [
       "Validating: 0it [00:00, ?it/s]"
      ]
     },
     "metadata": {},
     "output_type": "display_data"
    },
    {
     "data": {
      "application/vnd.jupyter.widget-view+json": {
       "model_id": "",
       "version_major": 2,
       "version_minor": 0
      },
      "text/plain": [
       "Validating: 0it [00:00, ?it/s]"
      ]
     },
     "metadata": {},
     "output_type": "display_data"
    },
    {
     "data": {
      "application/vnd.jupyter.widget-view+json": {
       "model_id": "",
       "version_major": 2,
       "version_minor": 0
      },
      "text/plain": [
       "Validating: 0it [00:00, ?it/s]"
      ]
     },
     "metadata": {},
     "output_type": "display_data"
    },
    {
     "data": {
      "application/vnd.jupyter.widget-view+json": {
       "model_id": "",
       "version_major": 2,
       "version_minor": 0
      },
      "text/plain": [
       "Validating: 0it [00:00, ?it/s]"
      ]
     },
     "metadata": {},
     "output_type": "display_data"
    },
    {
     "data": {
      "application/vnd.jupyter.widget-view+json": {
       "model_id": "",
       "version_major": 2,
       "version_minor": 0
      },
      "text/plain": [
       "Validating: 0it [00:00, ?it/s]"
      ]
     },
     "metadata": {},
     "output_type": "display_data"
    },
    {
     "data": {
      "application/vnd.jupyter.widget-view+json": {
       "model_id": "",
       "version_major": 2,
       "version_minor": 0
      },
      "text/plain": [
       "Validating: 0it [00:00, ?it/s]"
      ]
     },
     "metadata": {},
     "output_type": "display_data"
    },
    {
     "data": {
      "application/vnd.jupyter.widget-view+json": {
       "model_id": "",
       "version_major": 2,
       "version_minor": 0
      },
      "text/plain": [
       "Validating: 0it [00:00, ?it/s]"
      ]
     },
     "metadata": {},
     "output_type": "display_data"
    },
    {
     "data": {
      "application/vnd.jupyter.widget-view+json": {
       "model_id": "",
       "version_major": 2,
       "version_minor": 0
      },
      "text/plain": [
       "Validating: 0it [00:00, ?it/s]"
      ]
     },
     "metadata": {},
     "output_type": "display_data"
    },
    {
     "data": {
      "application/vnd.jupyter.widget-view+json": {
       "model_id": "",
       "version_major": 2,
       "version_minor": 0
      },
      "text/plain": [
       "Validating: 0it [00:00, ?it/s]"
      ]
     },
     "metadata": {},
     "output_type": "display_data"
    },
    {
     "data": {
      "application/vnd.jupyter.widget-view+json": {
       "model_id": "",
       "version_major": 2,
       "version_minor": 0
      },
      "text/plain": [
       "Validating: 0it [00:00, ?it/s]"
      ]
     },
     "metadata": {},
     "output_type": "display_data"
    },
    {
     "data": {
      "application/vnd.jupyter.widget-view+json": {
       "model_id": "",
       "version_major": 2,
       "version_minor": 0
      },
      "text/plain": [
       "Validating: 0it [00:00, ?it/s]"
      ]
     },
     "metadata": {},
     "output_type": "display_data"
    },
    {
     "data": {
      "application/vnd.jupyter.widget-view+json": {
       "model_id": "",
       "version_major": 2,
       "version_minor": 0
      },
      "text/plain": [
       "Validating: 0it [00:00, ?it/s]"
      ]
     },
     "metadata": {},
     "output_type": "display_data"
    },
    {
     "data": {
      "application/vnd.jupyter.widget-view+json": {
       "model_id": "",
       "version_major": 2,
       "version_minor": 0
      },
      "text/plain": [
       "Validating: 0it [00:00, ?it/s]"
      ]
     },
     "metadata": {},
     "output_type": "display_data"
    },
    {
     "data": {
      "application/vnd.jupyter.widget-view+json": {
       "model_id": "",
       "version_major": 2,
       "version_minor": 0
      },
      "text/plain": [
       "Validating: 0it [00:00, ?it/s]"
      ]
     },
     "metadata": {},
     "output_type": "display_data"
    },
    {
     "data": {
      "application/vnd.jupyter.widget-view+json": {
       "model_id": "",
       "version_major": 2,
       "version_minor": 0
      },
      "text/plain": [
       "Validating: 0it [00:00, ?it/s]"
      ]
     },
     "metadata": {},
     "output_type": "display_data"
    },
    {
     "data": {
      "application/vnd.jupyter.widget-view+json": {
       "model_id": "",
       "version_major": 2,
       "version_minor": 0
      },
      "text/plain": [
       "Validating: 0it [00:00, ?it/s]"
      ]
     },
     "metadata": {},
     "output_type": "display_data"
    },
    {
     "data": {
      "application/vnd.jupyter.widget-view+json": {
       "model_id": "",
       "version_major": 2,
       "version_minor": 0
      },
      "text/plain": [
       "Validating: 0it [00:00, ?it/s]"
      ]
     },
     "metadata": {},
     "output_type": "display_data"
    },
    {
     "data": {
      "application/vnd.jupyter.widget-view+json": {
       "model_id": "",
       "version_major": 2,
       "version_minor": 0
      },
      "text/plain": [
       "Validating: 0it [00:00, ?it/s]"
      ]
     },
     "metadata": {},
     "output_type": "display_data"
    },
    {
     "data": {
      "application/vnd.jupyter.widget-view+json": {
       "model_id": "",
       "version_major": 2,
       "version_minor": 0
      },
      "text/plain": [
       "Validating: 0it [00:00, ?it/s]"
      ]
     },
     "metadata": {},
     "output_type": "display_data"
    },
    {
     "data": {
      "application/vnd.jupyter.widget-view+json": {
       "model_id": "",
       "version_major": 2,
       "version_minor": 0
      },
      "text/plain": [
       "Validating: 0it [00:00, ?it/s]"
      ]
     },
     "metadata": {},
     "output_type": "display_data"
    },
    {
     "data": {
      "application/vnd.jupyter.widget-view+json": {
       "model_id": "",
       "version_major": 2,
       "version_minor": 0
      },
      "text/plain": [
       "Validating: 0it [00:00, ?it/s]"
      ]
     },
     "metadata": {},
     "output_type": "display_data"
    },
    {
     "data": {
      "application/vnd.jupyter.widget-view+json": {
       "model_id": "",
       "version_major": 2,
       "version_minor": 0
      },
      "text/plain": [
       "Validating: 0it [00:00, ?it/s]"
      ]
     },
     "metadata": {},
     "output_type": "display_data"
    },
    {
     "data": {
      "application/vnd.jupyter.widget-view+json": {
       "model_id": "",
       "version_major": 2,
       "version_minor": 0
      },
      "text/plain": [
       "Validating: 0it [00:00, ?it/s]"
      ]
     },
     "metadata": {},
     "output_type": "display_data"
    },
    {
     "data": {
      "application/vnd.jupyter.widget-view+json": {
       "model_id": "",
       "version_major": 2,
       "version_minor": 0
      },
      "text/plain": [
       "Validating: 0it [00:00, ?it/s]"
      ]
     },
     "metadata": {},
     "output_type": "display_data"
    },
    {
     "data": {
      "application/vnd.jupyter.widget-view+json": {
       "model_id": "",
       "version_major": 2,
       "version_minor": 0
      },
      "text/plain": [
       "Validating: 0it [00:00, ?it/s]"
      ]
     },
     "metadata": {},
     "output_type": "display_data"
    },
    {
     "data": {
      "application/vnd.jupyter.widget-view+json": {
       "model_id": "",
       "version_major": 2,
       "version_minor": 0
      },
      "text/plain": [
       "Validating: 0it [00:00, ?it/s]"
      ]
     },
     "metadata": {},
     "output_type": "display_data"
    },
    {
     "data": {
      "application/vnd.jupyter.widget-view+json": {
       "model_id": "",
       "version_major": 2,
       "version_minor": 0
      },
      "text/plain": [
       "Validating: 0it [00:00, ?it/s]"
      ]
     },
     "metadata": {},
     "output_type": "display_data"
    },
    {
     "data": {
      "application/vnd.jupyter.widget-view+json": {
       "model_id": "",
       "version_major": 2,
       "version_minor": 0
      },
      "text/plain": [
       "Validating: 0it [00:00, ?it/s]"
      ]
     },
     "metadata": {},
     "output_type": "display_data"
    },
    {
     "data": {
      "application/vnd.jupyter.widget-view+json": {
       "model_id": "",
       "version_major": 2,
       "version_minor": 0
      },
      "text/plain": [
       "Validating: 0it [00:00, ?it/s]"
      ]
     },
     "metadata": {},
     "output_type": "display_data"
    },
    {
     "data": {
      "application/vnd.jupyter.widget-view+json": {
       "model_id": "",
       "version_major": 2,
       "version_minor": 0
      },
      "text/plain": [
       "Validating: 0it [00:00, ?it/s]"
      ]
     },
     "metadata": {},
     "output_type": "display_data"
    },
    {
     "data": {
      "application/vnd.jupyter.widget-view+json": {
       "model_id": "",
       "version_major": 2,
       "version_minor": 0
      },
      "text/plain": [
       "Validating: 0it [00:00, ?it/s]"
      ]
     },
     "metadata": {},
     "output_type": "display_data"
    },
    {
     "data": {
      "application/vnd.jupyter.widget-view+json": {
       "model_id": "",
       "version_major": 2,
       "version_minor": 0
      },
      "text/plain": [
       "Validating: 0it [00:00, ?it/s]"
      ]
     },
     "metadata": {},
     "output_type": "display_data"
    },
    {
     "data": {
      "application/vnd.jupyter.widget-view+json": {
       "model_id": "",
       "version_major": 2,
       "version_minor": 0
      },
      "text/plain": [
       "Validating: 0it [00:00, ?it/s]"
      ]
     },
     "metadata": {},
     "output_type": "display_data"
    },
    {
     "data": {
      "application/vnd.jupyter.widget-view+json": {
       "model_id": "",
       "version_major": 2,
       "version_minor": 0
      },
      "text/plain": [
       "Validating: 0it [00:00, ?it/s]"
      ]
     },
     "metadata": {},
     "output_type": "display_data"
    },
    {
     "data": {
      "application/vnd.jupyter.widget-view+json": {
       "model_id": "",
       "version_major": 2,
       "version_minor": 0
      },
      "text/plain": [
       "Validating: 0it [00:00, ?it/s]"
      ]
     },
     "metadata": {},
     "output_type": "display_data"
    },
    {
     "data": {
      "application/vnd.jupyter.widget-view+json": {
       "model_id": "",
       "version_major": 2,
       "version_minor": 0
      },
      "text/plain": [
       "Validating: 0it [00:00, ?it/s]"
      ]
     },
     "metadata": {},
     "output_type": "display_data"
    },
    {
     "data": {
      "application/vnd.jupyter.widget-view+json": {
       "model_id": "",
       "version_major": 2,
       "version_minor": 0
      },
      "text/plain": [
       "Validating: 0it [00:00, ?it/s]"
      ]
     },
     "metadata": {},
     "output_type": "display_data"
    },
    {
     "data": {
      "application/vnd.jupyter.widget-view+json": {
       "model_id": "",
       "version_major": 2,
       "version_minor": 0
      },
      "text/plain": [
       "Validating: 0it [00:00, ?it/s]"
      ]
     },
     "metadata": {},
     "output_type": "display_data"
    },
    {
     "data": {
      "application/vnd.jupyter.widget-view+json": {
       "model_id": "",
       "version_major": 2,
       "version_minor": 0
      },
      "text/plain": [
       "Validating: 0it [00:00, ?it/s]"
      ]
     },
     "metadata": {},
     "output_type": "display_data"
    },
    {
     "data": {
      "application/vnd.jupyter.widget-view+json": {
       "model_id": "",
       "version_major": 2,
       "version_minor": 0
      },
      "text/plain": [
       "Validating: 0it [00:00, ?it/s]"
      ]
     },
     "metadata": {},
     "output_type": "display_data"
    },
    {
     "data": {
      "application/vnd.jupyter.widget-view+json": {
       "model_id": "",
       "version_major": 2,
       "version_minor": 0
      },
      "text/plain": [
       "Validating: 0it [00:00, ?it/s]"
      ]
     },
     "metadata": {},
     "output_type": "display_data"
    },
    {
     "data": {
      "application/vnd.jupyter.widget-view+json": {
       "model_id": "",
       "version_major": 2,
       "version_minor": 0
      },
      "text/plain": [
       "Validating: 0it [00:00, ?it/s]"
      ]
     },
     "metadata": {},
     "output_type": "display_data"
    },
    {
     "data": {
      "application/vnd.jupyter.widget-view+json": {
       "model_id": "",
       "version_major": 2,
       "version_minor": 0
      },
      "text/plain": [
       "Validating: 0it [00:00, ?it/s]"
      ]
     },
     "metadata": {},
     "output_type": "display_data"
    },
    {
     "data": {
      "application/vnd.jupyter.widget-view+json": {
       "model_id": "",
       "version_major": 2,
       "version_minor": 0
      },
      "text/plain": [
       "Validating: 0it [00:00, ?it/s]"
      ]
     },
     "metadata": {},
     "output_type": "display_data"
    },
    {
     "data": {
      "application/vnd.jupyter.widget-view+json": {
       "model_id": "",
       "version_major": 2,
       "version_minor": 0
      },
      "text/plain": [
       "Validating: 0it [00:00, ?it/s]"
      ]
     },
     "metadata": {},
     "output_type": "display_data"
    },
    {
     "data": {
      "application/vnd.jupyter.widget-view+json": {
       "model_id": "",
       "version_major": 2,
       "version_minor": 0
      },
      "text/plain": [
       "Validating: 0it [00:00, ?it/s]"
      ]
     },
     "metadata": {},
     "output_type": "display_data"
    },
    {
     "data": {
      "application/vnd.jupyter.widget-view+json": {
       "model_id": "",
       "version_major": 2,
       "version_minor": 0
      },
      "text/plain": [
       "Validating: 0it [00:00, ?it/s]"
      ]
     },
     "metadata": {},
     "output_type": "display_data"
    },
    {
     "data": {
      "application/vnd.jupyter.widget-view+json": {
       "model_id": "",
       "version_major": 2,
       "version_minor": 0
      },
      "text/plain": [
       "Validating: 0it [00:00, ?it/s]"
      ]
     },
     "metadata": {},
     "output_type": "display_data"
    },
    {
     "data": {
      "application/vnd.jupyter.widget-view+json": {
       "model_id": "",
       "version_major": 2,
       "version_minor": 0
      },
      "text/plain": [
       "Validating: 0it [00:00, ?it/s]"
      ]
     },
     "metadata": {},
     "output_type": "display_data"
    },
    {
     "data": {
      "application/vnd.jupyter.widget-view+json": {
       "model_id": "",
       "version_major": 2,
       "version_minor": 0
      },
      "text/plain": [
       "Validating: 0it [00:00, ?it/s]"
      ]
     },
     "metadata": {},
     "output_type": "display_data"
    },
    {
     "data": {
      "application/vnd.jupyter.widget-view+json": {
       "model_id": "",
       "version_major": 2,
       "version_minor": 0
      },
      "text/plain": [
       "Validating: 0it [00:00, ?it/s]"
      ]
     },
     "metadata": {},
     "output_type": "display_data"
    },
    {
     "data": {
      "application/vnd.jupyter.widget-view+json": {
       "model_id": "",
       "version_major": 2,
       "version_minor": 0
      },
      "text/plain": [
       "Validating: 0it [00:00, ?it/s]"
      ]
     },
     "metadata": {},
     "output_type": "display_data"
    },
    {
     "data": {
      "application/vnd.jupyter.widget-view+json": {
       "model_id": "",
       "version_major": 2,
       "version_minor": 0
      },
      "text/plain": [
       "Validating: 0it [00:00, ?it/s]"
      ]
     },
     "metadata": {},
     "output_type": "display_data"
    },
    {
     "data": {
      "application/vnd.jupyter.widget-view+json": {
       "model_id": "",
       "version_major": 2,
       "version_minor": 0
      },
      "text/plain": [
       "Validating: 0it [00:00, ?it/s]"
      ]
     },
     "metadata": {},
     "output_type": "display_data"
    },
    {
     "data": {
      "application/vnd.jupyter.widget-view+json": {
       "model_id": "",
       "version_major": 2,
       "version_minor": 0
      },
      "text/plain": [
       "Validating: 0it [00:00, ?it/s]"
      ]
     },
     "metadata": {},
     "output_type": "display_data"
    },
    {
     "data": {
      "application/vnd.jupyter.widget-view+json": {
       "model_id": "",
       "version_major": 2,
       "version_minor": 0
      },
      "text/plain": [
       "Validating: 0it [00:00, ?it/s]"
      ]
     },
     "metadata": {},
     "output_type": "display_data"
    },
    {
     "data": {
      "application/vnd.jupyter.widget-view+json": {
       "model_id": "",
       "version_major": 2,
       "version_minor": 0
      },
      "text/plain": [
       "Validating: 0it [00:00, ?it/s]"
      ]
     },
     "metadata": {},
     "output_type": "display_data"
    },
    {
     "data": {
      "application/vnd.jupyter.widget-view+json": {
       "model_id": "",
       "version_major": 2,
       "version_minor": 0
      },
      "text/plain": [
       "Validating: 0it [00:00, ?it/s]"
      ]
     },
     "metadata": {},
     "output_type": "display_data"
    },
    {
     "data": {
      "application/vnd.jupyter.widget-view+json": {
       "model_id": "",
       "version_major": 2,
       "version_minor": 0
      },
      "text/plain": [
       "Validating: 0it [00:00, ?it/s]"
      ]
     },
     "metadata": {},
     "output_type": "display_data"
    },
    {
     "data": {
      "application/vnd.jupyter.widget-view+json": {
       "model_id": "",
       "version_major": 2,
       "version_minor": 0
      },
      "text/plain": [
       "Validating: 0it [00:00, ?it/s]"
      ]
     },
     "metadata": {},
     "output_type": "display_data"
    },
    {
     "data": {
      "application/vnd.jupyter.widget-view+json": {
       "model_id": "",
       "version_major": 2,
       "version_minor": 0
      },
      "text/plain": [
       "Validating: 0it [00:00, ?it/s]"
      ]
     },
     "metadata": {},
     "output_type": "display_data"
    },
    {
     "data": {
      "application/vnd.jupyter.widget-view+json": {
       "model_id": "",
       "version_major": 2,
       "version_minor": 0
      },
      "text/plain": [
       "Validating: 0it [00:00, ?it/s]"
      ]
     },
     "metadata": {},
     "output_type": "display_data"
    },
    {
     "data": {
      "application/vnd.jupyter.widget-view+json": {
       "model_id": "",
       "version_major": 2,
       "version_minor": 0
      },
      "text/plain": [
       "Validating: 0it [00:00, ?it/s]"
      ]
     },
     "metadata": {},
     "output_type": "display_data"
    },
    {
     "data": {
      "application/vnd.jupyter.widget-view+json": {
       "model_id": "",
       "version_major": 2,
       "version_minor": 0
      },
      "text/plain": [
       "Validating: 0it [00:00, ?it/s]"
      ]
     },
     "metadata": {},
     "output_type": "display_data"
    },
    {
     "data": {
      "application/vnd.jupyter.widget-view+json": {
       "model_id": "",
       "version_major": 2,
       "version_minor": 0
      },
      "text/plain": [
       "Validating: 0it [00:00, ?it/s]"
      ]
     },
     "metadata": {},
     "output_type": "display_data"
    },
    {
     "data": {
      "application/vnd.jupyter.widget-view+json": {
       "model_id": "",
       "version_major": 2,
       "version_minor": 0
      },
      "text/plain": [
       "Validating: 0it [00:00, ?it/s]"
      ]
     },
     "metadata": {},
     "output_type": "display_data"
    },
    {
     "data": {
      "application/vnd.jupyter.widget-view+json": {
       "model_id": "",
       "version_major": 2,
       "version_minor": 0
      },
      "text/plain": [
       "Validating: 0it [00:00, ?it/s]"
      ]
     },
     "metadata": {},
     "output_type": "display_data"
    },
    {
     "data": {
      "application/vnd.jupyter.widget-view+json": {
       "model_id": "",
       "version_major": 2,
       "version_minor": 0
      },
      "text/plain": [
       "Validating: 0it [00:00, ?it/s]"
      ]
     },
     "metadata": {},
     "output_type": "display_data"
    },
    {
     "data": {
      "application/vnd.jupyter.widget-view+json": {
       "model_id": "",
       "version_major": 2,
       "version_minor": 0
      },
      "text/plain": [
       "Validating: 0it [00:00, ?it/s]"
      ]
     },
     "metadata": {},
     "output_type": "display_data"
    },
    {
     "data": {
      "application/vnd.jupyter.widget-view+json": {
       "model_id": "",
       "version_major": 2,
       "version_minor": 0
      },
      "text/plain": [
       "Validating: 0it [00:00, ?it/s]"
      ]
     },
     "metadata": {},
     "output_type": "display_data"
    },
    {
     "data": {
      "application/vnd.jupyter.widget-view+json": {
       "model_id": "",
       "version_major": 2,
       "version_minor": 0
      },
      "text/plain": [
       "Validating: 0it [00:00, ?it/s]"
      ]
     },
     "metadata": {},
     "output_type": "display_data"
    },
    {
     "data": {
      "application/vnd.jupyter.widget-view+json": {
       "model_id": "",
       "version_major": 2,
       "version_minor": 0
      },
      "text/plain": [
       "Validating: 0it [00:00, ?it/s]"
      ]
     },
     "metadata": {},
     "output_type": "display_data"
    },
    {
     "data": {
      "application/vnd.jupyter.widget-view+json": {
       "model_id": "",
       "version_major": 2,
       "version_minor": 0
      },
      "text/plain": [
       "Validating: 0it [00:00, ?it/s]"
      ]
     },
     "metadata": {},
     "output_type": "display_data"
    },
    {
     "data": {
      "application/vnd.jupyter.widget-view+json": {
       "model_id": "",
       "version_major": 2,
       "version_minor": 0
      },
      "text/plain": [
       "Validating: 0it [00:00, ?it/s]"
      ]
     },
     "metadata": {},
     "output_type": "display_data"
    },
    {
     "name": "stderr",
     "output_type": "stream",
     "text": [
      "LOCAL_RANK: 0 - CUDA_VISIBLE_DEVICES: [0]\n",
      "/home/thobotics/anaconda3/envs/tum/lib/python3.6/site-packages/pytorch_lightning/trainer/data_loading.py:111: UserWarning: The dataloader, test_dataloader 0, does not have many workers which may be a bottleneck. Consider increasing the value of the `num_workers` argument` (try 8 which is the number of cpus on this machine) in the `DataLoader` init to improve performance.\n",
      "  f\"The dataloader, {name}, does not have many workers which may be a bottleneck.\"\n"
     ]
    },
    {
     "data": {
      "application/vnd.jupyter.widget-view+json": {
       "model_id": "55b0f903c5294fbb931fc07cf036bad2",
       "version_major": 2,
       "version_minor": 0
      },
      "text/plain": [
       "Testing: 0it [00:00, ?it/s]"
      ]
     },
     "metadata": {},
     "output_type": "display_data"
    },
    {
     "name": "stdout",
     "output_type": "stream",
     "text": [
      "--------------------------------------------------------------------------------\n",
      "DATALOADER:0 TEST RESULTS\n",
      "{'test_loss': 0.0010040894849225879}\n",
      "--------------------------------------------------------------------------------\n"
     ]
    },
    {
     "data": {
      "text/plain": [
       "[{'test_loss': 0.0010040894849225879}]"
      ]
     },
     "execution_count": 11,
     "metadata": {},
     "output_type": "execute_result"
    }
   ],
   "source": [
    "seed_everything(1)\n",
    "\n",
    "checkpoint_callback = ModelCheckpoint(\n",
    "    monitor=\"val_loss\",\n",
    "    dirpath=\"./lstm_rot6D\",\n",
    "#     filename=\"lstm_rot6D-{epoch:03d}-{val_loss:.5f}\",\n",
    "    filename=\"best\",\n",
    "    save_top_k=1,\n",
    "    mode=\"min\",\n",
    ")\n",
    "\n",
    "trainer = Trainer(\n",
    "    max_epochs=p['max_epochs'],\n",
    "    callbacks=[checkpoint_callback],\n",
    "    gpus=1,\n",
    "    log_every_n_steps=10,\n",
    "    progress_bar_refresh_rate=2,\n",
    ")\n",
    "\n",
    "model = LSTMRegressor(\n",
    "    n_features = p['n_features'],\n",
    "    hidden_size = p['hidden_size'],\n",
    "    seq_len = p['seq_len'],\n",
    "    batch_size = p['batch_size'],\n",
    "    criterion = p['criterion'],\n",
    "    num_layers = p['num_layers'],\n",
    "    dropout = p['dropout'],\n",
    "    learning_rate = p['learning_rate']\n",
    ")\n",
    "\n",
    "dm = SensorsDataModule(\n",
    "    data_x = data_in,\n",
    "    data_y = data_out,\n",
    "    seq_len = p['seq_len'],\n",
    "    batch_size = p['batch_size']\n",
    ")\n",
    "\n",
    "trainer.fit(model, dm)\n",
    "trainer.test(model, datamodule=dm)"
   ]
  },
  {
   "cell_type": "code",
   "execution_count": 12,
   "id": "68cd7f44",
   "metadata": {},
   "outputs": [],
   "source": [
    "trainer.save_checkpoint(\"./lstm_rot6D/best.ckpt\")"
   ]
  },
  {
   "cell_type": "markdown",
   "id": "24008b14",
   "metadata": {},
   "source": [
    "## Testing"
   ]
  },
  {
   "cell_type": "code",
   "execution_count": 13,
   "id": "4a2f58f2",
   "metadata": {},
   "outputs": [],
   "source": [
    "device = \"cuda\""
   ]
  },
  {
   "cell_type": "code",
   "execution_count": 14,
   "id": "e445e01c",
   "metadata": {},
   "outputs": [
    {
     "data": {
      "text/plain": [
       "LSTMRegressor(\n",
       "  (lstm): LSTM(12, 100, num_layers=2, batch_first=True, dropout=0.2)\n",
       "  (linear): Linear(in_features=100, out_features=6, bias=True)\n",
       "  (tanh): Tanh()\n",
       ")"
      ]
     },
     "execution_count": 14,
     "metadata": {},
     "output_type": "execute_result"
    }
   ],
   "source": [
    "model.to(device)\n",
    "torch.set_grad_enabled(False)\n",
    "model.eval()"
   ]
  },
  {
   "cell_type": "code",
   "execution_count": 15,
   "id": "a5518c0e",
   "metadata": {},
   "outputs": [],
   "source": [
    "start_idx = 205111\n",
    "end_idx = 206511\n",
    "test_idxs = slice(start_idx, end_idx)"
   ]
  },
  {
   "cell_type": "code",
   "execution_count": 16,
   "id": "24a9122d",
   "metadata": {},
   "outputs": [],
   "source": [
    "in_set = []\n",
    "\n",
    "look_back = 10\n",
    "for i in range(start_idx, end_idx):\n",
    "    in_set.append(sensors_set[i:i+look_back] + np.random.normal(size=(look_back, 12))*0.0)\n",
    "\n",
    "in_set = torch.tensor(in_set, dtype=torch.float32).to(device)"
   ]
  },
  {
   "cell_type": "code",
   "execution_count": 17,
   "id": "c922129a",
   "metadata": {},
   "outputs": [],
   "source": [
    "out_set = model(in_set)[:, -1]#.view(-1, 3, 3)\n",
    "rot_pred = compute_rotation_matrix_from_ortho6d(out_set)\n",
    "euler_pred = compute_euler_angles_from_rotation_matrices(rot_pred).cpu().detach().numpy()"
   ]
  },
  {
   "cell_type": "code",
   "execution_count": 18,
   "id": "259d18e1",
   "metadata": {},
   "outputs": [],
   "source": [
    "euler_set = dataset[test_idxs, 12:15]\n",
    "\n",
    "# euler_set_in = np.zeros_like(euler_set)\n",
    "# euler_set_in[:, 0] = euler_set[:, 0] \n",
    "# euler_set_in[:, 1] = euler_set[:, 2] \n",
    "# euler_set_in[:, 2] = euler_set[:, 1] "
   ]
  },
  {
   "cell_type": "code",
   "execution_count": 19,
   "id": "40b9537f",
   "metadata": {},
   "outputs": [
    {
     "data": {
      "text/plain": [
       "0.007331690828267128"
      ]
     },
     "execution_count": 19,
     "metadata": {},
     "output_type": "execute_result"
    }
   ],
   "source": [
    "np.mean(np.sum(np.square(euler_pred - euler_set), axis=-1))"
   ]
  },
  {
   "cell_type": "code",
   "execution_count": 20,
   "id": "63fb9d53",
   "metadata": {},
   "outputs": [],
   "source": [
    "euler_gt_plt = euler_set[150:570]\n",
    "euler_plt = euler_pred[150:570] "
   ]
  },
  {
   "cell_type": "code",
   "execution_count": 22,
   "id": "e7a94bb2",
   "metadata": {},
   "outputs": [
    {
     "data": {
      "application/javascript": [
       "/* Put everything inside the global mpl namespace */\n",
       "/* global mpl */\n",
       "window.mpl = {};\n",
       "\n",
       "mpl.get_websocket_type = function () {\n",
       "    if (typeof WebSocket !== 'undefined') {\n",
       "        return WebSocket;\n",
       "    } else if (typeof MozWebSocket !== 'undefined') {\n",
       "        return MozWebSocket;\n",
       "    } else {\n",
       "        alert(\n",
       "            'Your browser does not have WebSocket support. ' +\n",
       "                'Please try Chrome, Safari or Firefox ≥ 6. ' +\n",
       "                'Firefox 4 and 5 are also supported but you ' +\n",
       "                'have to enable WebSockets in about:config.'\n",
       "        );\n",
       "    }\n",
       "};\n",
       "\n",
       "mpl.figure = function (figure_id, websocket, ondownload, parent_element) {\n",
       "    this.id = figure_id;\n",
       "\n",
       "    this.ws = websocket;\n",
       "\n",
       "    this.supports_binary = this.ws.binaryType !== undefined;\n",
       "\n",
       "    if (!this.supports_binary) {\n",
       "        var warnings = document.getElementById('mpl-warnings');\n",
       "        if (warnings) {\n",
       "            warnings.style.display = 'block';\n",
       "            warnings.textContent =\n",
       "                'This browser does not support binary websocket messages. ' +\n",
       "                'Performance may be slow.';\n",
       "        }\n",
       "    }\n",
       "\n",
       "    this.imageObj = new Image();\n",
       "\n",
       "    this.context = undefined;\n",
       "    this.message = undefined;\n",
       "    this.canvas = undefined;\n",
       "    this.rubberband_canvas = undefined;\n",
       "    this.rubberband_context = undefined;\n",
       "    this.format_dropdown = undefined;\n",
       "\n",
       "    this.image_mode = 'full';\n",
       "\n",
       "    this.root = document.createElement('div');\n",
       "    this.root.setAttribute('style', 'display: inline-block');\n",
       "    this._root_extra_style(this.root);\n",
       "\n",
       "    parent_element.appendChild(this.root);\n",
       "\n",
       "    this._init_header(this);\n",
       "    this._init_canvas(this);\n",
       "    this._init_toolbar(this);\n",
       "\n",
       "    var fig = this;\n",
       "\n",
       "    this.waiting = false;\n",
       "\n",
       "    this.ws.onopen = function () {\n",
       "        fig.send_message('supports_binary', { value: fig.supports_binary });\n",
       "        fig.send_message('send_image_mode', {});\n",
       "        if (fig.ratio !== 1) {\n",
       "            fig.send_message('set_dpi_ratio', { dpi_ratio: fig.ratio });\n",
       "        }\n",
       "        fig.send_message('refresh', {});\n",
       "    };\n",
       "\n",
       "    this.imageObj.onload = function () {\n",
       "        if (fig.image_mode === 'full') {\n",
       "            // Full images could contain transparency (where diff images\n",
       "            // almost always do), so we need to clear the canvas so that\n",
       "            // there is no ghosting.\n",
       "            fig.context.clearRect(0, 0, fig.canvas.width, fig.canvas.height);\n",
       "        }\n",
       "        fig.context.drawImage(fig.imageObj, 0, 0);\n",
       "    };\n",
       "\n",
       "    this.imageObj.onunload = function () {\n",
       "        fig.ws.close();\n",
       "    };\n",
       "\n",
       "    this.ws.onmessage = this._make_on_message_function(this);\n",
       "\n",
       "    this.ondownload = ondownload;\n",
       "};\n",
       "\n",
       "mpl.figure.prototype._init_header = function () {\n",
       "    var titlebar = document.createElement('div');\n",
       "    titlebar.classList =\n",
       "        'ui-dialog-titlebar ui-widget-header ui-corner-all ui-helper-clearfix';\n",
       "    var titletext = document.createElement('div');\n",
       "    titletext.classList = 'ui-dialog-title';\n",
       "    titletext.setAttribute(\n",
       "        'style',\n",
       "        'width: 100%; text-align: center; padding: 3px;'\n",
       "    );\n",
       "    titlebar.appendChild(titletext);\n",
       "    this.root.appendChild(titlebar);\n",
       "    this.header = titletext;\n",
       "};\n",
       "\n",
       "mpl.figure.prototype._canvas_extra_style = function (_canvas_div) {};\n",
       "\n",
       "mpl.figure.prototype._root_extra_style = function (_canvas_div) {};\n",
       "\n",
       "mpl.figure.prototype._init_canvas = function () {\n",
       "    var fig = this;\n",
       "\n",
       "    var canvas_div = (this.canvas_div = document.createElement('div'));\n",
       "    canvas_div.setAttribute(\n",
       "        'style',\n",
       "        'border: 1px solid #ddd;' +\n",
       "            'box-sizing: content-box;' +\n",
       "            'clear: both;' +\n",
       "            'min-height: 1px;' +\n",
       "            'min-width: 1px;' +\n",
       "            'outline: 0;' +\n",
       "            'overflow: hidden;' +\n",
       "            'position: relative;' +\n",
       "            'resize: both;'\n",
       "    );\n",
       "\n",
       "    function on_keyboard_event_closure(name) {\n",
       "        return function (event) {\n",
       "            return fig.key_event(event, name);\n",
       "        };\n",
       "    }\n",
       "\n",
       "    canvas_div.addEventListener(\n",
       "        'keydown',\n",
       "        on_keyboard_event_closure('key_press')\n",
       "    );\n",
       "    canvas_div.addEventListener(\n",
       "        'keyup',\n",
       "        on_keyboard_event_closure('key_release')\n",
       "    );\n",
       "\n",
       "    this._canvas_extra_style(canvas_div);\n",
       "    this.root.appendChild(canvas_div);\n",
       "\n",
       "    var canvas = (this.canvas = document.createElement('canvas'));\n",
       "    canvas.classList.add('mpl-canvas');\n",
       "    canvas.setAttribute('style', 'box-sizing: content-box;');\n",
       "\n",
       "    this.context = canvas.getContext('2d');\n",
       "\n",
       "    var backingStore =\n",
       "        this.context.backingStorePixelRatio ||\n",
       "        this.context.webkitBackingStorePixelRatio ||\n",
       "        this.context.mozBackingStorePixelRatio ||\n",
       "        this.context.msBackingStorePixelRatio ||\n",
       "        this.context.oBackingStorePixelRatio ||\n",
       "        this.context.backingStorePixelRatio ||\n",
       "        1;\n",
       "\n",
       "    this.ratio = (window.devicePixelRatio || 1) / backingStore;\n",
       "\n",
       "    var rubberband_canvas = (this.rubberband_canvas = document.createElement(\n",
       "        'canvas'\n",
       "    ));\n",
       "    rubberband_canvas.setAttribute(\n",
       "        'style',\n",
       "        'box-sizing: content-box; position: absolute; left: 0; top: 0; z-index: 1;'\n",
       "    );\n",
       "\n",
       "    // Apply a ponyfill if ResizeObserver is not implemented by browser.\n",
       "    if (this.ResizeObserver === undefined) {\n",
       "        if (window.ResizeObserver !== undefined) {\n",
       "            this.ResizeObserver = window.ResizeObserver;\n",
       "        } else {\n",
       "            var obs = _JSXTOOLS_RESIZE_OBSERVER({});\n",
       "            this.ResizeObserver = obs.ResizeObserver;\n",
       "        }\n",
       "    }\n",
       "\n",
       "    this.resizeObserverInstance = new this.ResizeObserver(function (entries) {\n",
       "        var nentries = entries.length;\n",
       "        for (var i = 0; i < nentries; i++) {\n",
       "            var entry = entries[i];\n",
       "            var width, height;\n",
       "            if (entry.contentBoxSize) {\n",
       "                if (entry.contentBoxSize instanceof Array) {\n",
       "                    // Chrome 84 implements new version of spec.\n",
       "                    width = entry.contentBoxSize[0].inlineSize;\n",
       "                    height = entry.contentBoxSize[0].blockSize;\n",
       "                } else {\n",
       "                    // Firefox implements old version of spec.\n",
       "                    width = entry.contentBoxSize.inlineSize;\n",
       "                    height = entry.contentBoxSize.blockSize;\n",
       "                }\n",
       "            } else {\n",
       "                // Chrome <84 implements even older version of spec.\n",
       "                width = entry.contentRect.width;\n",
       "                height = entry.contentRect.height;\n",
       "            }\n",
       "\n",
       "            // Keep the size of the canvas and rubber band canvas in sync with\n",
       "            // the canvas container.\n",
       "            if (entry.devicePixelContentBoxSize) {\n",
       "                // Chrome 84 implements new version of spec.\n",
       "                canvas.setAttribute(\n",
       "                    'width',\n",
       "                    entry.devicePixelContentBoxSize[0].inlineSize\n",
       "                );\n",
       "                canvas.setAttribute(\n",
       "                    'height',\n",
       "                    entry.devicePixelContentBoxSize[0].blockSize\n",
       "                );\n",
       "            } else {\n",
       "                canvas.setAttribute('width', width * fig.ratio);\n",
       "                canvas.setAttribute('height', height * fig.ratio);\n",
       "            }\n",
       "            canvas.setAttribute(\n",
       "                'style',\n",
       "                'width: ' + width + 'px; height: ' + height + 'px;'\n",
       "            );\n",
       "\n",
       "            rubberband_canvas.setAttribute('width', width);\n",
       "            rubberband_canvas.setAttribute('height', height);\n",
       "\n",
       "            // And update the size in Python. We ignore the initial 0/0 size\n",
       "            // that occurs as the element is placed into the DOM, which should\n",
       "            // otherwise not happen due to the minimum size styling.\n",
       "            if (fig.ws.readyState == 1 && width != 0 && height != 0) {\n",
       "                fig.request_resize(width, height);\n",
       "            }\n",
       "        }\n",
       "    });\n",
       "    this.resizeObserverInstance.observe(canvas_div);\n",
       "\n",
       "    function on_mouse_event_closure(name) {\n",
       "        return function (event) {\n",
       "            return fig.mouse_event(event, name);\n",
       "        };\n",
       "    }\n",
       "\n",
       "    rubberband_canvas.addEventListener(\n",
       "        'mousedown',\n",
       "        on_mouse_event_closure('button_press')\n",
       "    );\n",
       "    rubberband_canvas.addEventListener(\n",
       "        'mouseup',\n",
       "        on_mouse_event_closure('button_release')\n",
       "    );\n",
       "    // Throttle sequential mouse events to 1 every 20ms.\n",
       "    rubberband_canvas.addEventListener(\n",
       "        'mousemove',\n",
       "        on_mouse_event_closure('motion_notify')\n",
       "    );\n",
       "\n",
       "    rubberband_canvas.addEventListener(\n",
       "        'mouseenter',\n",
       "        on_mouse_event_closure('figure_enter')\n",
       "    );\n",
       "    rubberband_canvas.addEventListener(\n",
       "        'mouseleave',\n",
       "        on_mouse_event_closure('figure_leave')\n",
       "    );\n",
       "\n",
       "    canvas_div.addEventListener('wheel', function (event) {\n",
       "        if (event.deltaY < 0) {\n",
       "            event.step = 1;\n",
       "        } else {\n",
       "            event.step = -1;\n",
       "        }\n",
       "        on_mouse_event_closure('scroll')(event);\n",
       "    });\n",
       "\n",
       "    canvas_div.appendChild(canvas);\n",
       "    canvas_div.appendChild(rubberband_canvas);\n",
       "\n",
       "    this.rubberband_context = rubberband_canvas.getContext('2d');\n",
       "    this.rubberband_context.strokeStyle = '#000000';\n",
       "\n",
       "    this._resize_canvas = function (width, height, forward) {\n",
       "        if (forward) {\n",
       "            canvas_div.style.width = width + 'px';\n",
       "            canvas_div.style.height = height + 'px';\n",
       "        }\n",
       "    };\n",
       "\n",
       "    // Disable right mouse context menu.\n",
       "    this.rubberband_canvas.addEventListener('contextmenu', function (_e) {\n",
       "        event.preventDefault();\n",
       "        return false;\n",
       "    });\n",
       "\n",
       "    function set_focus() {\n",
       "        canvas.focus();\n",
       "        canvas_div.focus();\n",
       "    }\n",
       "\n",
       "    window.setTimeout(set_focus, 100);\n",
       "};\n",
       "\n",
       "mpl.figure.prototype._init_toolbar = function () {\n",
       "    var fig = this;\n",
       "\n",
       "    var toolbar = document.createElement('div');\n",
       "    toolbar.classList = 'mpl-toolbar';\n",
       "    this.root.appendChild(toolbar);\n",
       "\n",
       "    function on_click_closure(name) {\n",
       "        return function (_event) {\n",
       "            return fig.toolbar_button_onclick(name);\n",
       "        };\n",
       "    }\n",
       "\n",
       "    function on_mouseover_closure(tooltip) {\n",
       "        return function (event) {\n",
       "            if (!event.currentTarget.disabled) {\n",
       "                return fig.toolbar_button_onmouseover(tooltip);\n",
       "            }\n",
       "        };\n",
       "    }\n",
       "\n",
       "    fig.buttons = {};\n",
       "    var buttonGroup = document.createElement('div');\n",
       "    buttonGroup.classList = 'mpl-button-group';\n",
       "    for (var toolbar_ind in mpl.toolbar_items) {\n",
       "        var name = mpl.toolbar_items[toolbar_ind][0];\n",
       "        var tooltip = mpl.toolbar_items[toolbar_ind][1];\n",
       "        var image = mpl.toolbar_items[toolbar_ind][2];\n",
       "        var method_name = mpl.toolbar_items[toolbar_ind][3];\n",
       "\n",
       "        if (!name) {\n",
       "            /* Instead of a spacer, we start a new button group. */\n",
       "            if (buttonGroup.hasChildNodes()) {\n",
       "                toolbar.appendChild(buttonGroup);\n",
       "            }\n",
       "            buttonGroup = document.createElement('div');\n",
       "            buttonGroup.classList = 'mpl-button-group';\n",
       "            continue;\n",
       "        }\n",
       "\n",
       "        var button = (fig.buttons[name] = document.createElement('button'));\n",
       "        button.classList = 'mpl-widget';\n",
       "        button.setAttribute('role', 'button');\n",
       "        button.setAttribute('aria-disabled', 'false');\n",
       "        button.addEventListener('click', on_click_closure(method_name));\n",
       "        button.addEventListener('mouseover', on_mouseover_closure(tooltip));\n",
       "\n",
       "        var icon_img = document.createElement('img');\n",
       "        icon_img.src = '_images/' + image + '.png';\n",
       "        icon_img.srcset = '_images/' + image + '_large.png 2x';\n",
       "        icon_img.alt = tooltip;\n",
       "        button.appendChild(icon_img);\n",
       "\n",
       "        buttonGroup.appendChild(button);\n",
       "    }\n",
       "\n",
       "    if (buttonGroup.hasChildNodes()) {\n",
       "        toolbar.appendChild(buttonGroup);\n",
       "    }\n",
       "\n",
       "    var fmt_picker = document.createElement('select');\n",
       "    fmt_picker.classList = 'mpl-widget';\n",
       "    toolbar.appendChild(fmt_picker);\n",
       "    this.format_dropdown = fmt_picker;\n",
       "\n",
       "    for (var ind in mpl.extensions) {\n",
       "        var fmt = mpl.extensions[ind];\n",
       "        var option = document.createElement('option');\n",
       "        option.selected = fmt === mpl.default_extension;\n",
       "        option.innerHTML = fmt;\n",
       "        fmt_picker.appendChild(option);\n",
       "    }\n",
       "\n",
       "    var status_bar = document.createElement('span');\n",
       "    status_bar.classList = 'mpl-message';\n",
       "    toolbar.appendChild(status_bar);\n",
       "    this.message = status_bar;\n",
       "};\n",
       "\n",
       "mpl.figure.prototype.request_resize = function (x_pixels, y_pixels) {\n",
       "    // Request matplotlib to resize the figure. Matplotlib will then trigger a resize in the client,\n",
       "    // which will in turn request a refresh of the image.\n",
       "    this.send_message('resize', { width: x_pixels, height: y_pixels });\n",
       "};\n",
       "\n",
       "mpl.figure.prototype.send_message = function (type, properties) {\n",
       "    properties['type'] = type;\n",
       "    properties['figure_id'] = this.id;\n",
       "    this.ws.send(JSON.stringify(properties));\n",
       "};\n",
       "\n",
       "mpl.figure.prototype.send_draw_message = function () {\n",
       "    if (!this.waiting) {\n",
       "        this.waiting = true;\n",
       "        this.ws.send(JSON.stringify({ type: 'draw', figure_id: this.id }));\n",
       "    }\n",
       "};\n",
       "\n",
       "mpl.figure.prototype.handle_save = function (fig, _msg) {\n",
       "    var format_dropdown = fig.format_dropdown;\n",
       "    var format = format_dropdown.options[format_dropdown.selectedIndex].value;\n",
       "    fig.ondownload(fig, format);\n",
       "};\n",
       "\n",
       "mpl.figure.prototype.handle_resize = function (fig, msg) {\n",
       "    var size = msg['size'];\n",
       "    if (size[0] !== fig.canvas.width || size[1] !== fig.canvas.height) {\n",
       "        fig._resize_canvas(size[0], size[1], msg['forward']);\n",
       "        fig.send_message('refresh', {});\n",
       "    }\n",
       "};\n",
       "\n",
       "mpl.figure.prototype.handle_rubberband = function (fig, msg) {\n",
       "    var x0 = msg['x0'] / fig.ratio;\n",
       "    var y0 = (fig.canvas.height - msg['y0']) / fig.ratio;\n",
       "    var x1 = msg['x1'] / fig.ratio;\n",
       "    var y1 = (fig.canvas.height - msg['y1']) / fig.ratio;\n",
       "    x0 = Math.floor(x0) + 0.5;\n",
       "    y0 = Math.floor(y0) + 0.5;\n",
       "    x1 = Math.floor(x1) + 0.5;\n",
       "    y1 = Math.floor(y1) + 0.5;\n",
       "    var min_x = Math.min(x0, x1);\n",
       "    var min_y = Math.min(y0, y1);\n",
       "    var width = Math.abs(x1 - x0);\n",
       "    var height = Math.abs(y1 - y0);\n",
       "\n",
       "    fig.rubberband_context.clearRect(\n",
       "        0,\n",
       "        0,\n",
       "        fig.canvas.width / fig.ratio,\n",
       "        fig.canvas.height / fig.ratio\n",
       "    );\n",
       "\n",
       "    fig.rubberband_context.strokeRect(min_x, min_y, width, height);\n",
       "};\n",
       "\n",
       "mpl.figure.prototype.handle_figure_label = function (fig, msg) {\n",
       "    // Updates the figure title.\n",
       "    fig.header.textContent = msg['label'];\n",
       "};\n",
       "\n",
       "mpl.figure.prototype.handle_cursor = function (fig, msg) {\n",
       "    var cursor = msg['cursor'];\n",
       "    switch (cursor) {\n",
       "        case 0:\n",
       "            cursor = 'pointer';\n",
       "            break;\n",
       "        case 1:\n",
       "            cursor = 'default';\n",
       "            break;\n",
       "        case 2:\n",
       "            cursor = 'crosshair';\n",
       "            break;\n",
       "        case 3:\n",
       "            cursor = 'move';\n",
       "            break;\n",
       "    }\n",
       "    fig.rubberband_canvas.style.cursor = cursor;\n",
       "};\n",
       "\n",
       "mpl.figure.prototype.handle_message = function (fig, msg) {\n",
       "    fig.message.textContent = msg['message'];\n",
       "};\n",
       "\n",
       "mpl.figure.prototype.handle_draw = function (fig, _msg) {\n",
       "    // Request the server to send over a new figure.\n",
       "    fig.send_draw_message();\n",
       "};\n",
       "\n",
       "mpl.figure.prototype.handle_image_mode = function (fig, msg) {\n",
       "    fig.image_mode = msg['mode'];\n",
       "};\n",
       "\n",
       "mpl.figure.prototype.handle_history_buttons = function (fig, msg) {\n",
       "    for (var key in msg) {\n",
       "        if (!(key in fig.buttons)) {\n",
       "            continue;\n",
       "        }\n",
       "        fig.buttons[key].disabled = !msg[key];\n",
       "        fig.buttons[key].setAttribute('aria-disabled', !msg[key]);\n",
       "    }\n",
       "};\n",
       "\n",
       "mpl.figure.prototype.handle_navigate_mode = function (fig, msg) {\n",
       "    if (msg['mode'] === 'PAN') {\n",
       "        fig.buttons['Pan'].classList.add('active');\n",
       "        fig.buttons['Zoom'].classList.remove('active');\n",
       "    } else if (msg['mode'] === 'ZOOM') {\n",
       "        fig.buttons['Pan'].classList.remove('active');\n",
       "        fig.buttons['Zoom'].classList.add('active');\n",
       "    } else {\n",
       "        fig.buttons['Pan'].classList.remove('active');\n",
       "        fig.buttons['Zoom'].classList.remove('active');\n",
       "    }\n",
       "};\n",
       "\n",
       "mpl.figure.prototype.updated_canvas_event = function () {\n",
       "    // Called whenever the canvas gets updated.\n",
       "    this.send_message('ack', {});\n",
       "};\n",
       "\n",
       "// A function to construct a web socket function for onmessage handling.\n",
       "// Called in the figure constructor.\n",
       "mpl.figure.prototype._make_on_message_function = function (fig) {\n",
       "    return function socket_on_message(evt) {\n",
       "        if (evt.data instanceof Blob) {\n",
       "            /* FIXME: We get \"Resource interpreted as Image but\n",
       "             * transferred with MIME type text/plain:\" errors on\n",
       "             * Chrome.  But how to set the MIME type?  It doesn't seem\n",
       "             * to be part of the websocket stream */\n",
       "            evt.data.type = 'image/png';\n",
       "\n",
       "            /* Free the memory for the previous frames */\n",
       "            if (fig.imageObj.src) {\n",
       "                (window.URL || window.webkitURL).revokeObjectURL(\n",
       "                    fig.imageObj.src\n",
       "                );\n",
       "            }\n",
       "\n",
       "            fig.imageObj.src = (window.URL || window.webkitURL).createObjectURL(\n",
       "                evt.data\n",
       "            );\n",
       "            fig.updated_canvas_event();\n",
       "            fig.waiting = false;\n",
       "            return;\n",
       "        } else if (\n",
       "            typeof evt.data === 'string' &&\n",
       "            evt.data.slice(0, 21) === 'data:image/png;base64'\n",
       "        ) {\n",
       "            fig.imageObj.src = evt.data;\n",
       "            fig.updated_canvas_event();\n",
       "            fig.waiting = false;\n",
       "            return;\n",
       "        }\n",
       "\n",
       "        var msg = JSON.parse(evt.data);\n",
       "        var msg_type = msg['type'];\n",
       "\n",
       "        // Call the  \"handle_{type}\" callback, which takes\n",
       "        // the figure and JSON message as its only arguments.\n",
       "        try {\n",
       "            var callback = fig['handle_' + msg_type];\n",
       "        } catch (e) {\n",
       "            console.log(\n",
       "                \"No handler for the '\" + msg_type + \"' message type: \",\n",
       "                msg\n",
       "            );\n",
       "            return;\n",
       "        }\n",
       "\n",
       "        if (callback) {\n",
       "            try {\n",
       "                // console.log(\"Handling '\" + msg_type + \"' message: \", msg);\n",
       "                callback(fig, msg);\n",
       "            } catch (e) {\n",
       "                console.log(\n",
       "                    \"Exception inside the 'handler_\" + msg_type + \"' callback:\",\n",
       "                    e,\n",
       "                    e.stack,\n",
       "                    msg\n",
       "                );\n",
       "            }\n",
       "        }\n",
       "    };\n",
       "};\n",
       "\n",
       "// from http://stackoverflow.com/questions/1114465/getting-mouse-location-in-canvas\n",
       "mpl.findpos = function (e) {\n",
       "    //this section is from http://www.quirksmode.org/js/events_properties.html\n",
       "    var targ;\n",
       "    if (!e) {\n",
       "        e = window.event;\n",
       "    }\n",
       "    if (e.target) {\n",
       "        targ = e.target;\n",
       "    } else if (e.srcElement) {\n",
       "        targ = e.srcElement;\n",
       "    }\n",
       "    if (targ.nodeType === 3) {\n",
       "        // defeat Safari bug\n",
       "        targ = targ.parentNode;\n",
       "    }\n",
       "\n",
       "    // pageX,Y are the mouse positions relative to the document\n",
       "    var boundingRect = targ.getBoundingClientRect();\n",
       "    var x = e.pageX - (boundingRect.left + document.body.scrollLeft);\n",
       "    var y = e.pageY - (boundingRect.top + document.body.scrollTop);\n",
       "\n",
       "    return { x: x, y: y };\n",
       "};\n",
       "\n",
       "/*\n",
       " * return a copy of an object with only non-object keys\n",
       " * we need this to avoid circular references\n",
       " * http://stackoverflow.com/a/24161582/3208463\n",
       " */\n",
       "function simpleKeys(original) {\n",
       "    return Object.keys(original).reduce(function (obj, key) {\n",
       "        if (typeof original[key] !== 'object') {\n",
       "            obj[key] = original[key];\n",
       "        }\n",
       "        return obj;\n",
       "    }, {});\n",
       "}\n",
       "\n",
       "mpl.figure.prototype.mouse_event = function (event, name) {\n",
       "    var canvas_pos = mpl.findpos(event);\n",
       "\n",
       "    if (name === 'button_press') {\n",
       "        this.canvas.focus();\n",
       "        this.canvas_div.focus();\n",
       "    }\n",
       "\n",
       "    var x = canvas_pos.x * this.ratio;\n",
       "    var y = canvas_pos.y * this.ratio;\n",
       "\n",
       "    this.send_message(name, {\n",
       "        x: x,\n",
       "        y: y,\n",
       "        button: event.button,\n",
       "        step: event.step,\n",
       "        guiEvent: simpleKeys(event),\n",
       "    });\n",
       "\n",
       "    /* This prevents the web browser from automatically changing to\n",
       "     * the text insertion cursor when the button is pressed.  We want\n",
       "     * to control all of the cursor setting manually through the\n",
       "     * 'cursor' event from matplotlib */\n",
       "    event.preventDefault();\n",
       "    return false;\n",
       "};\n",
       "\n",
       "mpl.figure.prototype._key_event_extra = function (_event, _name) {\n",
       "    // Handle any extra behaviour associated with a key event\n",
       "};\n",
       "\n",
       "mpl.figure.prototype.key_event = function (event, name) {\n",
       "    // Prevent repeat events\n",
       "    if (name === 'key_press') {\n",
       "        if (event.which === this._key) {\n",
       "            return;\n",
       "        } else {\n",
       "            this._key = event.which;\n",
       "        }\n",
       "    }\n",
       "    if (name === 'key_release') {\n",
       "        this._key = null;\n",
       "    }\n",
       "\n",
       "    var value = '';\n",
       "    if (event.ctrlKey && event.which !== 17) {\n",
       "        value += 'ctrl+';\n",
       "    }\n",
       "    if (event.altKey && event.which !== 18) {\n",
       "        value += 'alt+';\n",
       "    }\n",
       "    if (event.shiftKey && event.which !== 16) {\n",
       "        value += 'shift+';\n",
       "    }\n",
       "\n",
       "    value += 'k';\n",
       "    value += event.which.toString();\n",
       "\n",
       "    this._key_event_extra(event, name);\n",
       "\n",
       "    this.send_message(name, { key: value, guiEvent: simpleKeys(event) });\n",
       "    return false;\n",
       "};\n",
       "\n",
       "mpl.figure.prototype.toolbar_button_onclick = function (name) {\n",
       "    if (name === 'download') {\n",
       "        this.handle_save(this, null);\n",
       "    } else {\n",
       "        this.send_message('toolbar_button', { name: name });\n",
       "    }\n",
       "};\n",
       "\n",
       "mpl.figure.prototype.toolbar_button_onmouseover = function (tooltip) {\n",
       "    this.message.textContent = tooltip;\n",
       "};\n",
       "\n",
       "///////////////// REMAINING CONTENT GENERATED BY embed_js.py /////////////////\n",
       "// prettier-ignore\n",
       "var _JSXTOOLS_RESIZE_OBSERVER=function(A){var t,i=new WeakMap,n=new WeakMap,a=new WeakMap,r=new WeakMap,o=new Set;function s(e){if(!(this instanceof s))throw new TypeError(\"Constructor requires 'new' operator\");i.set(this,e)}function h(){throw new TypeError(\"Function is not a constructor\")}function c(e,t,i,n){e=0 in arguments?Number(arguments[0]):0,t=1 in arguments?Number(arguments[1]):0,i=2 in arguments?Number(arguments[2]):0,n=3 in arguments?Number(arguments[3]):0,this.right=(this.x=this.left=e)+(this.width=i),this.bottom=(this.y=this.top=t)+(this.height=n),Object.freeze(this)}function d(){t=requestAnimationFrame(d);var s=new WeakMap,p=new Set;o.forEach((function(t){r.get(t).forEach((function(i){var r=t instanceof window.SVGElement,o=a.get(t),d=r?0:parseFloat(o.paddingTop),f=r?0:parseFloat(o.paddingRight),l=r?0:parseFloat(o.paddingBottom),u=r?0:parseFloat(o.paddingLeft),g=r?0:parseFloat(o.borderTopWidth),m=r?0:parseFloat(o.borderRightWidth),w=r?0:parseFloat(o.borderBottomWidth),b=u+f,F=d+l,v=(r?0:parseFloat(o.borderLeftWidth))+m,W=g+w,y=r?0:t.offsetHeight-W-t.clientHeight,E=r?0:t.offsetWidth-v-t.clientWidth,R=b+v,z=F+W,M=r?t.width:parseFloat(o.width)-R-E,O=r?t.height:parseFloat(o.height)-z-y;if(n.has(t)){var k=n.get(t);if(k[0]===M&&k[1]===O)return}n.set(t,[M,O]);var S=Object.create(h.prototype);S.target=t,S.contentRect=new c(u,d,M,O),s.has(i)||(s.set(i,[]),p.add(i)),s.get(i).push(S)}))})),p.forEach((function(e){i.get(e).call(e,s.get(e),e)}))}return s.prototype.observe=function(i){if(i instanceof window.Element){r.has(i)||(r.set(i,new Set),o.add(i),a.set(i,window.getComputedStyle(i)));var n=r.get(i);n.has(this)||n.add(this),cancelAnimationFrame(t),t=requestAnimationFrame(d)}},s.prototype.unobserve=function(i){if(i instanceof window.Element&&r.has(i)){var n=r.get(i);n.has(this)&&(n.delete(this),n.size||(r.delete(i),o.delete(i))),n.size||r.delete(i),o.size||cancelAnimationFrame(t)}},A.DOMRectReadOnly=c,A.ResizeObserver=s,A.ResizeObserverEntry=h,A}; // eslint-disable-line\n",
       "mpl.toolbar_items = [[\"Home\", \"Reset original view\", \"fa fa-home icon-home\", \"home\"], [\"Back\", \"Back to previous view\", \"fa fa-arrow-left icon-arrow-left\", \"back\"], [\"Forward\", \"Forward to next view\", \"fa fa-arrow-right icon-arrow-right\", \"forward\"], [\"\", \"\", \"\", \"\"], [\"Pan\", \"Left button pans, Right button zooms\\nx/y fixes axis, CTRL fixes aspect\", \"fa fa-arrows icon-move\", \"pan\"], [\"Zoom\", \"Zoom to rectangle\\nx/y fixes axis, CTRL fixes aspect\", \"fa fa-square-o icon-check-empty\", \"zoom\"], [\"\", \"\", \"\", \"\"], [\"Download\", \"Download plot\", \"fa fa-floppy-o icon-save\", \"download\"]];\n",
       "\n",
       "mpl.extensions = [\"eps\", \"jpeg\", \"pdf\", \"png\", \"ps\", \"raw\", \"svg\", \"tif\"];\n",
       "\n",
       "mpl.default_extension = \"png\";/* global mpl */\n",
       "\n",
       "var comm_websocket_adapter = function (comm) {\n",
       "    // Create a \"websocket\"-like object which calls the given IPython comm\n",
       "    // object with the appropriate methods. Currently this is a non binary\n",
       "    // socket, so there is still some room for performance tuning.\n",
       "    var ws = {};\n",
       "\n",
       "    ws.close = function () {\n",
       "        comm.close();\n",
       "    };\n",
       "    ws.send = function (m) {\n",
       "        //console.log('sending', m);\n",
       "        comm.send(m);\n",
       "    };\n",
       "    // Register the callback with on_msg.\n",
       "    comm.on_msg(function (msg) {\n",
       "        //console.log('receiving', msg['content']['data'], msg);\n",
       "        // Pass the mpl event to the overridden (by mpl) onmessage function.\n",
       "        ws.onmessage(msg['content']['data']);\n",
       "    });\n",
       "    return ws;\n",
       "};\n",
       "\n",
       "mpl.mpl_figure_comm = function (comm, msg) {\n",
       "    // This is the function which gets called when the mpl process\n",
       "    // starts-up an IPython Comm through the \"matplotlib\" channel.\n",
       "\n",
       "    var id = msg.content.data.id;\n",
       "    // Get hold of the div created by the display call when the Comm\n",
       "    // socket was opened in Python.\n",
       "    var element = document.getElementById(id);\n",
       "    var ws_proxy = comm_websocket_adapter(comm);\n",
       "\n",
       "    function ondownload(figure, _format) {\n",
       "        window.open(figure.canvas.toDataURL());\n",
       "    }\n",
       "\n",
       "    var fig = new mpl.figure(id, ws_proxy, ondownload, element);\n",
       "\n",
       "    // Call onopen now - mpl needs it, as it is assuming we've passed it a real\n",
       "    // web socket which is closed, not our websocket->open comm proxy.\n",
       "    ws_proxy.onopen();\n",
       "\n",
       "    fig.parent_element = element;\n",
       "    fig.cell_info = mpl.find_output_cell(\"<div id='\" + id + \"'></div>\");\n",
       "    if (!fig.cell_info) {\n",
       "        console.error('Failed to find cell for figure', id, fig);\n",
       "        return;\n",
       "    }\n",
       "    fig.cell_info[0].output_area.element.on(\n",
       "        'cleared',\n",
       "        { fig: fig },\n",
       "        fig._remove_fig_handler\n",
       "    );\n",
       "};\n",
       "\n",
       "mpl.figure.prototype.handle_close = function (fig, msg) {\n",
       "    var width = fig.canvas.width / fig.ratio;\n",
       "    fig.cell_info[0].output_area.element.off(\n",
       "        'cleared',\n",
       "        fig._remove_fig_handler\n",
       "    );\n",
       "    fig.resizeObserverInstance.unobserve(fig.canvas_div);\n",
       "\n",
       "    // Update the output cell to use the data from the current canvas.\n",
       "    fig.push_to_output();\n",
       "    var dataURL = fig.canvas.toDataURL();\n",
       "    // Re-enable the keyboard manager in IPython - without this line, in FF,\n",
       "    // the notebook keyboard shortcuts fail.\n",
       "    IPython.keyboard_manager.enable();\n",
       "    fig.parent_element.innerHTML =\n",
       "        '<img src=\"' + dataURL + '\" width=\"' + width + '\">';\n",
       "    fig.close_ws(fig, msg);\n",
       "};\n",
       "\n",
       "mpl.figure.prototype.close_ws = function (fig, msg) {\n",
       "    fig.send_message('closing', msg);\n",
       "    // fig.ws.close()\n",
       "};\n",
       "\n",
       "mpl.figure.prototype.push_to_output = function (_remove_interactive) {\n",
       "    // Turn the data on the canvas into data in the output cell.\n",
       "    var width = this.canvas.width / this.ratio;\n",
       "    var dataURL = this.canvas.toDataURL();\n",
       "    this.cell_info[1]['text/html'] =\n",
       "        '<img src=\"' + dataURL + '\" width=\"' + width + '\">';\n",
       "};\n",
       "\n",
       "mpl.figure.prototype.updated_canvas_event = function () {\n",
       "    // Tell IPython that the notebook contents must change.\n",
       "    IPython.notebook.set_dirty(true);\n",
       "    this.send_message('ack', {});\n",
       "    var fig = this;\n",
       "    // Wait a second, then push the new image to the DOM so\n",
       "    // that it is saved nicely (might be nice to debounce this).\n",
       "    setTimeout(function () {\n",
       "        fig.push_to_output();\n",
       "    }, 1000);\n",
       "};\n",
       "\n",
       "mpl.figure.prototype._init_toolbar = function () {\n",
       "    var fig = this;\n",
       "\n",
       "    var toolbar = document.createElement('div');\n",
       "    toolbar.classList = 'btn-toolbar';\n",
       "    this.root.appendChild(toolbar);\n",
       "\n",
       "    function on_click_closure(name) {\n",
       "        return function (_event) {\n",
       "            return fig.toolbar_button_onclick(name);\n",
       "        };\n",
       "    }\n",
       "\n",
       "    function on_mouseover_closure(tooltip) {\n",
       "        return function (event) {\n",
       "            if (!event.currentTarget.disabled) {\n",
       "                return fig.toolbar_button_onmouseover(tooltip);\n",
       "            }\n",
       "        };\n",
       "    }\n",
       "\n",
       "    fig.buttons = {};\n",
       "    var buttonGroup = document.createElement('div');\n",
       "    buttonGroup.classList = 'btn-group';\n",
       "    var button;\n",
       "    for (var toolbar_ind in mpl.toolbar_items) {\n",
       "        var name = mpl.toolbar_items[toolbar_ind][0];\n",
       "        var tooltip = mpl.toolbar_items[toolbar_ind][1];\n",
       "        var image = mpl.toolbar_items[toolbar_ind][2];\n",
       "        var method_name = mpl.toolbar_items[toolbar_ind][3];\n",
       "\n",
       "        if (!name) {\n",
       "            /* Instead of a spacer, we start a new button group. */\n",
       "            if (buttonGroup.hasChildNodes()) {\n",
       "                toolbar.appendChild(buttonGroup);\n",
       "            }\n",
       "            buttonGroup = document.createElement('div');\n",
       "            buttonGroup.classList = 'btn-group';\n",
       "            continue;\n",
       "        }\n",
       "\n",
       "        button = fig.buttons[name] = document.createElement('button');\n",
       "        button.classList = 'btn btn-default';\n",
       "        button.href = '#';\n",
       "        button.title = name;\n",
       "        button.innerHTML = '<i class=\"fa ' + image + ' fa-lg\"></i>';\n",
       "        button.addEventListener('click', on_click_closure(method_name));\n",
       "        button.addEventListener('mouseover', on_mouseover_closure(tooltip));\n",
       "        buttonGroup.appendChild(button);\n",
       "    }\n",
       "\n",
       "    if (buttonGroup.hasChildNodes()) {\n",
       "        toolbar.appendChild(buttonGroup);\n",
       "    }\n",
       "\n",
       "    // Add the status bar.\n",
       "    var status_bar = document.createElement('span');\n",
       "    status_bar.classList = 'mpl-message pull-right';\n",
       "    toolbar.appendChild(status_bar);\n",
       "    this.message = status_bar;\n",
       "\n",
       "    // Add the close button to the window.\n",
       "    var buttongrp = document.createElement('div');\n",
       "    buttongrp.classList = 'btn-group inline pull-right';\n",
       "    button = document.createElement('button');\n",
       "    button.classList = 'btn btn-mini btn-primary';\n",
       "    button.href = '#';\n",
       "    button.title = 'Stop Interaction';\n",
       "    button.innerHTML = '<i class=\"fa fa-power-off icon-remove icon-large\"></i>';\n",
       "    button.addEventListener('click', function (_evt) {\n",
       "        fig.handle_close(fig, {});\n",
       "    });\n",
       "    button.addEventListener(\n",
       "        'mouseover',\n",
       "        on_mouseover_closure('Stop Interaction')\n",
       "    );\n",
       "    buttongrp.appendChild(button);\n",
       "    var titlebar = this.root.querySelector('.ui-dialog-titlebar');\n",
       "    titlebar.insertBefore(buttongrp, titlebar.firstChild);\n",
       "};\n",
       "\n",
       "mpl.figure.prototype._remove_fig_handler = function (event) {\n",
       "    var fig = event.data.fig;\n",
       "    if (event.target !== this) {\n",
       "        // Ignore bubbled events from children.\n",
       "        return;\n",
       "    }\n",
       "    fig.close_ws(fig, {});\n",
       "};\n",
       "\n",
       "mpl.figure.prototype._root_extra_style = function (el) {\n",
       "    el.style.boxSizing = 'content-box'; // override notebook setting of border-box.\n",
       "};\n",
       "\n",
       "mpl.figure.prototype._canvas_extra_style = function (el) {\n",
       "    // this is important to make the div 'focusable\n",
       "    el.setAttribute('tabindex', 0);\n",
       "    // reach out to IPython and tell the keyboard manager to turn it's self\n",
       "    // off when our div gets focus\n",
       "\n",
       "    // location in version 3\n",
       "    if (IPython.notebook.keyboard_manager) {\n",
       "        IPython.notebook.keyboard_manager.register_events(el);\n",
       "    } else {\n",
       "        // location in version 2\n",
       "        IPython.keyboard_manager.register_events(el);\n",
       "    }\n",
       "};\n",
       "\n",
       "mpl.figure.prototype._key_event_extra = function (event, _name) {\n",
       "    var manager = IPython.notebook.keyboard_manager;\n",
       "    if (!manager) {\n",
       "        manager = IPython.keyboard_manager;\n",
       "    }\n",
       "\n",
       "    // Check for shift+enter\n",
       "    if (event.shiftKey && event.which === 13) {\n",
       "        this.canvas_div.blur();\n",
       "        // select the cell after this one\n",
       "        var index = IPython.notebook.find_cell_index(this.cell_info[0]);\n",
       "        IPython.notebook.select(index + 1);\n",
       "    }\n",
       "};\n",
       "\n",
       "mpl.figure.prototype.handle_save = function (fig, _msg) {\n",
       "    fig.ondownload(fig, null);\n",
       "};\n",
       "\n",
       "mpl.find_output_cell = function (html_output) {\n",
       "    // Return the cell and output element which can be found *uniquely* in the notebook.\n",
       "    // Note - this is a bit hacky, but it is done because the \"notebook_saving.Notebook\"\n",
       "    // IPython event is triggered only after the cells have been serialised, which for\n",
       "    // our purposes (turning an active figure into a static one), is too late.\n",
       "    var cells = IPython.notebook.get_cells();\n",
       "    var ncells = cells.length;\n",
       "    for (var i = 0; i < ncells; i++) {\n",
       "        var cell = cells[i];\n",
       "        if (cell.cell_type === 'code') {\n",
       "            for (var j = 0; j < cell.output_area.outputs.length; j++) {\n",
       "                var data = cell.output_area.outputs[j];\n",
       "                if (data.data) {\n",
       "                    // IPython >= 3 moved mimebundle to data attribute of output\n",
       "                    data = data.data;\n",
       "                }\n",
       "                if (data['text/html'] === html_output) {\n",
       "                    return [cell, data, j];\n",
       "                }\n",
       "            }\n",
       "        }\n",
       "    }\n",
       "};\n",
       "\n",
       "// Register the function which deals with the matplotlib target/channel.\n",
       "// The kernel may be null if the page has been refreshed.\n",
       "if (IPython.notebook.kernel !== null) {\n",
       "    IPython.notebook.kernel.comm_manager.register_target(\n",
       "        'matplotlib',\n",
       "        mpl.mpl_figure_comm\n",
       "    );\n",
       "}\n"
      ],
      "text/plain": [
       "<IPython.core.display.Javascript object>"
      ]
     },
     "metadata": {},
     "output_type": "display_data"
    },
    {
     "data": {
      "text/html": [
       "<img src=\"data:image/png;base64,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\" width=\"1000\">"
      ],
      "text/plain": [
       "<IPython.core.display.HTML object>"
      ]
     },
     "metadata": {},
     "output_type": "display_data"
    }
   ],
   "source": [
    "fig = plt.figure(figsize=(10,8))\n",
    "\n",
    "ax = fig.add_subplot(1, 1, 1, projection='3d')\n",
    "# ax.scatter(euler_gt_plt[:, 0], euler_gt_plt[:, 1], euler_gt_plt[:, 2], c=np.arange(len(euler_gt_plt)), alpha=0.1)\n",
    "sc = ax.plot(euler_plt[:,0], euler_plt[:,1], euler_plt[:,2]) #, c=np.arange(len(euler_plt)), alpha=0.5)\n",
    "sc = ax.scatter(euler_plt[:,0], euler_plt[:,1], euler_plt[:,2], c=np.arange(len(euler_plt)), alpha=0.5)\n",
    "\n",
    "ax.set_xlabel('X')\n",
    "ax.set_ylabel('Y')\n",
    "ax.set_zlabel('Z')\n",
    "\n",
    "ax.set_xlim([-1.5, 0.25])\n",
    "ax.set_ylim([-1.95, 1.5])\n",
    "ax.set_zlim([-0.5, 0.0])\n",
    "\n",
    "# plt.colorbar(sc)\n",
    "plt.show()"
   ]
  },
  {
   "cell_type": "code",
   "execution_count": null,
   "id": "1f8b31d2",
   "metadata": {},
   "outputs": [],
   "source": []
  }
 ],
 "metadata": {
  "kernelspec": {
   "display_name": "Python 3",
   "language": "python",
   "name": "python3"
  },
  "language_info": {
   "codemirror_mode": {
    "name": "ipython",
    "version": 3
   },
   "file_extension": ".py",
   "mimetype": "text/x-python",
   "name": "python",
   "nbconvert_exporter": "python",
   "pygments_lexer": "ipython3",
   "version": "3.6.13"
  }
 },
 "nbformat": 4,
 "nbformat_minor": 5
}
