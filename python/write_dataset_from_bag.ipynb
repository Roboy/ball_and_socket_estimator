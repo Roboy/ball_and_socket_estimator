{
 "cells": [
  {
   "cell_type": "code",
   "execution_count": 1,
   "id": "4c6445c6",
   "metadata": {},
   "outputs": [
    {
     "name": "stdout",
     "output_type": "stream",
     "text": [
      "Python older than 3.7 detected. \n"
     ]
    }
   ],
   "source": [
    "import bagpy\n",
    "from bagpy import bagreader\n",
    "import pandas as pd"
   ]
  },
  {
   "cell_type": "code",
   "execution_count": 2,
   "id": "78bc8445",
   "metadata": {},
   "outputs": [],
   "source": [
    "def filter_mgs(msg_csv, pattern):\n",
    "    data = open(msg_csv, \"r\").readlines()\n",
    "    filtered_data = [data[0]]\n",
    "\n",
    "    for i, line in enumerate(data[1:]):\n",
    "        if line.find(pattern) > 0:\n",
    "            filtered_data.append(line)\n",
    "\n",
    "    out_csv = msg_csv + \"_filtered.csv\"\n",
    "    open(out_csv, \"w\").write(\"\".join(filtered_data))\n",
    "    return out_csv"
   ]
  },
  {
   "cell_type": "code",
   "execution_count": 3,
   "id": "c07c4231",
   "metadata": {},
   "outputs": [],
   "source": [
    "def load_bag_topic_to_df(bag, topic_name, filter=False, filter_pattern=\"\"):\n",
    "    msg = bag.message_by_topic(topic_name)\n",
    "    \n",
    "    if filter:\n",
    "        msg = filter_mgs(msg, filter_pattern)\n",
    "    \n",
    "    df = pd.read_csv(msg)\n",
    "    return df"
   ]
  },
  {
   "cell_type": "code",
   "execution_count": 4,
   "id": "58365f85",
   "metadata": {},
   "outputs": [],
   "source": [
    "def extract_bag_to_data(bag_name):\n",
    "    \n",
    "    bag = bagreader(bag_name)\n",
    "    \n",
    "    topic_name = \"/roboy/pinky/sensing/external_joint_states\"\n",
    "    df_joint = load_bag_topic_to_df(bag, topic_name, True, \"shoulder_left\")\n",
    "    \n",
    "    topic_name = \"/roboy/pinky/middleware/MagneticSensor\"\n",
    "    df_magnetic = load_bag_topic_to_df(bag, topic_name, True, \"0,b\")\n",
    "    \n",
    "    topic_name = \"/tracking_loss\"\n",
    "    df_tracking_loss = load_bag_topic_to_df(bag, topic_name)\n",
    "    \n",
    "    df = pd.merge_asof(df_magnetic, df_joint, on=\"Time\", direction=\"nearest\")\n",
    "    df = pd.merge_asof(df, df_tracking_loss, on=\"Time\", direction=\"nearest\")\n",
    "    \n",
    "    df = df.loc[df['data'] == False]\n",
    "    \n",
    "    df_final = df[['Time'] + \n",
    "              [f'{coord}_{id}' for coord in ['x','y','z'] for id in range(4)] +\n",
    "              [f'position_{id}' for id in range(3)]].copy()\n",
    "    \n",
    "    return df_final"
   ]
  },
  {
   "cell_type": "code",
   "execution_count": 5,
   "id": "633abc84",
   "metadata": {},
   "outputs": [
    {
     "name": "stdout",
     "output_type": "stream",
     "text": [
      "[INFO]  Data folder ./bags_data/shoulder_left_5_tendon_aug_11_elbow_both_axises already exists. Not creating.\n",
      "[INFO]  Data folder ./bags_data/shoulder_left_6_tendon_aug_11_elbow_both_axises already exists. Not creating.\n",
      "[INFO]  Data folder ./bags_data/shoulder_left_7_tendon_aug_11_elbow_both_axises already exists. Not creating.\n",
      "[INFO]  Data folder ./bags_data/shoulder_left_9_tendon_aug_11_animus already exists. Not creating.\n",
      "[INFO]  Data folder ./bags_data/shoulder_left_10_tendon_aug_11_animus already exists. Not creating.\n"
     ]
    }
   ],
   "source": [
    "bag_names = [\n",
    "    \"./bags_data/shoulder_left_5_tendon_aug_11_elbow_both_axises.bag\",\n",
    "    \"./bags_data/shoulder_left_6_tendon_aug_11_elbow_both_axises.bag\",\n",
    "    \"./bags_data/shoulder_left_7_tendon_aug_11_elbow_both_axises.bag\",\n",
    "    \"./bags_data/shoulder_left_9_tendon_aug_11_animus.bag\",\n",
    "    \"./bags_data/shoulder_left_10_tendon_aug_11_animus.bag\",\n",
    "]\n",
    "\n",
    "csv_outs = [\n",
    "    \"./training_data/shoulder_left_5.csv\",\n",
    "    \"./training_data/shoulder_left_6.csv\",\n",
    "    \"./training_data/shoulder_left_7.csv\",\n",
    "    \"./training_data/shoulder_left_9.csv\",\n",
    "    \"./training_data/shoulder_left_10.csv\",\n",
    "]\n",
    "\n",
    "for bag_name, out in zip(bag_names, csv_outs):\n",
    "    df_final = extract_bag_to_data(bag_name)\n",
    "    df_final.to_csv(out, index=False)"
   ]
  }
 ],
 "metadata": {
  "kernelspec": {
   "display_name": "Python 3",
   "language": "python",
   "name": "python3"
  },
  "language_info": {
   "codemirror_mode": {
    "name": "ipython",
    "version": 3
   },
   "file_extension": ".py",
   "mimetype": "text/x-python",
   "name": "python",
   "nbconvert_exporter": "python",
   "pygments_lexer": "ipython3",
   "version": "3.6.13"
  }
 },
 "nbformat": 4,
 "nbformat_minor": 5
}
