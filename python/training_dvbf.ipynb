{
 "cells": [
  {
   "cell_type": "code",
   "execution_count": 1,
   "id": "ce11495c",
   "metadata": {},
   "outputs": [],
   "source": [
    "import numpy as np\n",
    "import pandas as pd\n",
    "import time\n",
    "from scipy import stats\n",
    "from sklearn.preprocessing import MinMaxScaler\n",
    "import joblib\n",
    "import json\n",
    "import matplotlib.pyplot as plt\n",
    "from mpl_toolkits.mplot3d import Axes3D\n",
    "import seaborn as sns\n",
    "import matplotlib\n",
    "import os\n",
    "\n",
    "%load_ext autoreload\n",
    "%autoreload 2\n",
    "# %matplotlib notebook\n",
    "%matplotlib inline"
   ]
  },
  {
   "cell_type": "markdown",
   "id": "63e20f3d",
   "metadata": {},
   "source": [
    "# Data Preprocessing"
   ]
  },
  {
   "cell_type": "code",
   "execution_count": 2,
   "id": "9c94ebba",
   "metadata": {},
   "outputs": [],
   "source": [
    "# body_part = \"head\"\n",
    "# file_names = ['./training_data/head_train_1_to_6.log']\n",
    "\n",
    "body_part = \"shoulder_right\"\n",
    "file_names = [\n",
    "             './training_data/shoulder_right_train_10_17.log',\n",
    "             './training_data_old/shoulder_right_data_6.log',\n",
    "             './training_data_old/shoulder_right_data_7.log',\n",
    "             './training_data_old/shoulder_right_data_8.log',\n",
    "             './training_data_old/shoulder_right_data_9.log',\n",
    "            ]\n",
    "\n",
    "# body_part = \"shoulder_left\"\n",
    "# file_names = ['./training_data/shoulder_left_train_2.log',\n",
    "#               './training_data/shoulder_left_train_5_6_7_9_10.log'\n",
    "#              ]"
   ]
  },
  {
   "cell_type": "code",
   "execution_count": 3,
   "id": "a6ee2f50",
   "metadata": {},
   "outputs": [
    {
     "name": "stdout",
     "output_type": "stream",
     "text": [
      "521420 values\n",
      "521418 values after filtering outliers\n",
      "max euler 2.013683795928955\n",
      "min euler -3.141414165496826\n"
     ]
    }
   ],
   "source": [
    "orig_dataset = pd.concat([pd.read_csv(f, delim_whitespace=True, header=0) for f in file_names])\n",
    "orig_dataset = orig_dataset.values[1:len(orig_dataset)-1,0:]\n",
    "# dataset = [data[(np.abs(stats.zscore(data[[\"roll\", \"pitch\", \"yaw\"]])) < 2.75).all(axis=1)] for data in dataset]\n",
    "\n",
    "abnormal_threshold = 0.5\n",
    "dataset = []\n",
    "\n",
    "for name in file_names:\n",
    "    df = pd.read_csv(name, delim_whitespace=True, header=0)\n",
    "    \n",
    "    # interpolate nan outputs (loss tracking)\n",
    "    for c in df.columns[-3:]:\n",
    "        df[c] = df[c].interpolate()\n",
    "    \n",
    "    # interpolate abnormal inputs\n",
    "    for c in df.columns[:-3]:\n",
    "        bad_idx = df.index[df[c].pct_change().abs().ge(abnormal_threshold)]\n",
    "        df.loc[bad_idx, c] = np.nan\n",
    "        df[c] = df[c].interpolate()\n",
    "    \n",
    "    dataset.append(df)\n",
    "\n",
    "dataset_len = [len(data) for data in dataset]\n",
    "dataset = pd.concat(dataset) \n",
    "\n",
    "print(f'{np.sum(dataset_len)} values')\n",
    "\n",
    "dataset = dataset.values[1:len(dataset)-1,0:]\n",
    "dataset = dataset[abs(dataset[:,12])!=0.0,:]\n",
    "dataset = dataset[abs(dataset[:,13])!=0.0,:]\n",
    "dataset = dataset[abs(dataset[:,14])!=0.0,:]\n",
    "\n",
    "print(f'{len(dataset)} values after filtering outliers')\n",
    "\n",
    "euler_set = dataset[:, 12:15]\n",
    "sensors_set = dataset[:, :12]\n",
    "orig_sensors_set = orig_dataset[:, :12]\n",
    "print(f'max euler {str(np.amax(euler_set))}')\n",
    "print(f'min euler {str(np.amin(euler_set))}')"
   ]
  },
  {
   "cell_type": "markdown",
   "id": "8fc067d6",
   "metadata": {},
   "source": [
    "## Orientation preprocessing "
   ]
  },
  {
   "cell_type": "code",
   "execution_count": 4,
   "id": "692c7d07",
   "metadata": {},
   "outputs": [],
   "source": [
    "import torch\n",
    "import torch.nn as nn\n",
    "from torch.autograd import Variable\n",
    "from libs.orientation_utils import compute_rotation_matrix_from_euler, compute_ortho6d_from_rotation_matrix, compute_rotation_matrix_from_ortho6d, compute_euler_angles_from_rotation_matrices"
   ]
  },
  {
   "cell_type": "code",
   "execution_count": 5,
   "id": "f95647f0",
   "metadata": {},
   "outputs": [],
   "source": [
    "euler_set_in = np.zeros_like(euler_set)\n",
    "euler_set_in[:, 0] = euler_set[:, 2] \n",
    "euler_set_in[:, 1] = euler_set[:, 1] \n",
    "euler_set_in[:, 2] = euler_set[:, 0] \n",
    "\n",
    "euler_set = torch.Tensor(euler_set_in).cuda()\n",
    "rot_set = compute_rotation_matrix_from_euler(euler_set)\n",
    "rot_set = compute_ortho6d_from_rotation_matrix(rot_set).cpu().detach().numpy()"
   ]
  },
  {
   "cell_type": "markdown",
   "id": "8f6a1f17",
   "metadata": {},
   "source": [
    "## Normalization"
   ]
  },
  {
   "cell_type": "code",
   "execution_count": 6,
   "id": "606dc105",
   "metadata": {},
   "outputs": [],
   "source": [
    "sensors_scaler = MinMaxScaler(feature_range=(-1., 1.))\n",
    "\n",
    "# Split magnetic sensors into 4 independent distributions again\n",
    "orig_sensors_set = sensors_scaler.fit_transform(orig_sensors_set).reshape(-1, 4, 3)\n",
    "sensors_set = sensors_scaler.transform(sensors_set).reshape(-1, 4, 3)"
   ]
  },
  {
   "cell_type": "markdown",
   "id": "79039b50",
   "metadata": {},
   "source": [
    "## Torch dataloader"
   ]
  },
  {
   "cell_type": "code",
   "execution_count": 7,
   "id": "b708e779",
   "metadata": {},
   "outputs": [],
   "source": [
    "import pytorch_lightning as pl\n",
    "from torch.utils.data import Dataset, DataLoader\n",
    "from pytorch_lightning import Trainer, seed_everything\n",
    "from pytorch_lightning.loggers.csv_logs import CSVLogger\n",
    "from pytorch_lightning.callbacks import ModelCheckpoint\n",
    "from libs.data_modules import SensorsDataModule\n",
    "from libs.nn_models import mse_seq\n",
    "from libs.dvbf_models import DVBF"
   ]
  },
  {
   "cell_type": "code",
   "execution_count": 8,
   "id": "dd907f1a",
   "metadata": {},
   "outputs": [
    {
     "name": "stdout",
     "output_type": "stream",
     "text": [
      "348907\n",
      "357314\n",
      "424817\n",
      "463358\n",
      "521320\n"
     ]
    }
   ],
   "source": [
    "look_back = 10\n",
    "\n",
    "data_in = []\n",
    "data_hat_in = []\n",
    "data_out = []\n",
    "\n",
    "start_idx = 0\n",
    "for l in dataset_len:\n",
    "    # Ignore the last batch\n",
    "    for i in range(start_idx, start_idx+l-look_back*2):\n",
    "        data_in.append(orig_sensors_set[i:i+look_back])\n",
    "        data_hat_in.append(sensors_set[i:i+look_back])\n",
    "        data_out.append(rot_set[i+1:i+look_back+1])\n",
    "    print(len(data_in))\n",
    "    start_idx += l"
   ]
  },
  {
   "cell_type": "markdown",
   "id": "ca250d03",
   "metadata": {},
   "source": [
    "# Training"
   ]
  },
  {
   "cell_type": "code",
   "execution_count": 9,
   "id": "7cc04a7e",
   "metadata": {},
   "outputs": [],
   "source": [
    "p = dict(\n",
    "    seq_len = look_back,\n",
    "    batch_size = 1000, \n",
    "    max_epochs = 100,\n",
    "    n_frames = 4,\n",
    "    n_observations = 3,\n",
    "    n_actions = 0,\n",
    "    n_latents = 16,\n",
    "    n_outputs = 6,\n",
    "    n_initial_obs = 3,\n",
    "    hidden_size = 100,\n",
    "    learning_rate = 5e-4,\n",
    "    alpha = 0.1,\n",
    "    beta = 1.5,\n",
    "    annealing = 0.3,\n",
    "    temperature = 1e4\n",
    ")"
   ]
  },
  {
   "cell_type": "code",
   "execution_count": 10,
   "id": "81bc79d7",
   "metadata": {},
   "outputs": [],
   "source": [
    "model_path = f\"./outputs/{body_part}_dvbf_rot6D\"\n",
    "\n",
    "if not os.path.exists(model_path):\n",
    "    os.makedirs(model_path)\n",
    "\n",
    "joblib.dump(sensors_scaler, f'{model_path}/scaler.pkl')\n",
    "with open(f'{model_path}/hyperparams.json', 'w') as fp:\n",
    "    json.dump(p, fp)"
   ]
  },
  {
   "cell_type": "code",
   "execution_count": 11,
   "id": "5d79d476",
   "metadata": {},
   "outputs": [
    {
     "name": "stderr",
     "output_type": "stream",
     "text": [
      "Global seed set to 1\n",
      "/home/thobotics/anaconda3/envs/tum/lib/python3.6/site-packages/pytorch_lightning/trainer/connectors/callback_connector.py:91: LightningDeprecationWarning: Setting `Trainer(progress_bar_refresh_rate=2)` is deprecated in v1.5 and will be removed in v1.7. Please pass `pytorch_lightning.callbacks.progress.TQDMProgressBar` with `refresh_rate` directly to the Trainer's `callbacks` argument instead. Or, to disable the progress bar pass `enable_progress_bar = False` to the Trainer.\n",
      "  f\"Setting `Trainer(progress_bar_refresh_rate={progress_bar_refresh_rate})` is deprecated in v1.5 and\"\n",
      "GPU available: True, used: True\n",
      "TPU available: False, using: 0 TPU cores\n",
      "IPU available: False, using: 0 IPUs\n",
      "/home/thobotics/anaconda3/envs/tum/lib/python3.6/site-packages/torch/nn/modules/rnn.py:65: UserWarning: dropout option adds dropout after all but last recurrent layer, so non-zero dropout expects num_layers greater than 1, but got dropout=0.1 and num_layers=1\n",
      "  \"num_layers={}\".format(dropout, num_layers))\n",
      "LOCAL_RANK: 0 - CUDA_VISIBLE_DEVICES: [0]\n",
      "\n",
      "  | Name              | Type       | Params\n",
      "-------------------------------------------------\n",
      "0 | initial_lstm      | LSTM       | 91.2 K\n",
      "1 | initial_to_params | Sequential | 23.3 K\n",
      "2 | w1_to_z1          | Sequential | 3.3 K \n",
      "3 | matrix_params     | Sequential | 3.3 K \n",
      "4 | decoder_model     | Sequential | 4.1 K \n",
      "5 | regressor_model   | Sequential | 2.9 K \n",
      "6 | encoder_models    | ModuleList | 13.3 K\n",
      "-------------------------------------------------\n",
      "146 K     Trainable params\n",
      "0         Non-trainable params\n",
      "146 K     Total params\n",
      "0.585     Total estimated model params size (MB)\n",
      "/home/thobotics/anaconda3/envs/tum/lib/python3.6/site-packages/pytorch_lightning/callbacks/model_checkpoint.py:617: UserWarning: Checkpoint directory /home/thobotics/roboy_nn/RoboyData-20211110T134625Z-001/RoboyData/ball_in_socket_estimator/python/outputs/shoulder_right_dvbf_rot6D exists and is not empty.\n",
      "  rank_zero_warn(f\"Checkpoint directory {dirpath} exists and is not empty.\")\n"
     ]
    },
    {
     "data": {
      "application/vnd.jupyter.widget-view+json": {
       "model_id": "",
       "version_major": 2,
       "version_minor": 0
      },
      "text/plain": [
       "Validation sanity check: 0it [00:00, ?it/s]"
      ]
     },
     "metadata": {},
     "output_type": "display_data"
    },
    {
     "name": "stderr",
     "output_type": "stream",
     "text": [
      "/home/thobotics/anaconda3/envs/tum/lib/python3.6/site-packages/pytorch_lightning/trainer/data_loading.py:111: UserWarning: The dataloader, val_dataloader 0, does not have many workers which may be a bottleneck. Consider increasing the value of the `num_workers` argument` (try 8 which is the number of cpus on this machine) in the `DataLoader` init to improve performance.\n",
      "  f\"The dataloader, {name}, does not have many workers which may be a bottleneck.\"\n",
      "/home/thobotics/anaconda3/envs/tum/lib/python3.6/site-packages/torch/nn/modules/container.py:139: UserWarning: Implicit dimension choice for softmax has been deprecated. Change the call to include dim=X as an argument.\n",
      "  input = module(input)\n",
      "Global seed set to 1\n",
      "/home/thobotics/anaconda3/envs/tum/lib/python3.6/site-packages/pytorch_lightning/trainer/data_loading.py:111: UserWarning: The dataloader, train_dataloader, does not have many workers which may be a bottleneck. Consider increasing the value of the `num_workers` argument` (try 8 which is the number of cpus on this machine) in the `DataLoader` init to improve performance.\n",
      "  f\"The dataloader, {name}, does not have many workers which may be a bottleneck.\"\n"
     ]
    },
    {
     "data": {
      "application/vnd.jupyter.widget-view+json": {
       "model_id": "1004a96b60ef4e74abe7b76cead41ea4",
       "version_major": 2,
       "version_minor": 0
      },
      "text/plain": [
       "Training: 0it [00:00, ?it/s]"
      ]
     },
     "metadata": {},
     "output_type": "display_data"
    },
    {
     "data": {
      "application/vnd.jupyter.widget-view+json": {
       "model_id": "",
       "version_major": 2,
       "version_minor": 0
      },
      "text/plain": [
       "Validating: 0it [00:00, ?it/s]"
      ]
     },
     "metadata": {},
     "output_type": "display_data"
    },
    {
     "data": {
      "application/vnd.jupyter.widget-view+json": {
       "model_id": "",
       "version_major": 2,
       "version_minor": 0
      },
      "text/plain": [
       "Validating: 0it [00:00, ?it/s]"
      ]
     },
     "metadata": {},
     "output_type": "display_data"
    },
    {
     "data": {
      "application/vnd.jupyter.widget-view+json": {
       "model_id": "",
       "version_major": 2,
       "version_minor": 0
      },
      "text/plain": [
       "Validating: 0it [00:00, ?it/s]"
      ]
     },
     "metadata": {},
     "output_type": "display_data"
    },
    {
     "data": {
      "application/vnd.jupyter.widget-view+json": {
       "model_id": "",
       "version_major": 2,
       "version_minor": 0
      },
      "text/plain": [
       "Validating: 0it [00:00, ?it/s]"
      ]
     },
     "metadata": {},
     "output_type": "display_data"
    },
    {
     "data": {
      "application/vnd.jupyter.widget-view+json": {
       "model_id": "",
       "version_major": 2,
       "version_minor": 0
      },
      "text/plain": [
       "Validating: 0it [00:00, ?it/s]"
      ]
     },
     "metadata": {},
     "output_type": "display_data"
    },
    {
     "data": {
      "application/vnd.jupyter.widget-view+json": {
       "model_id": "",
       "version_major": 2,
       "version_minor": 0
      },
      "text/plain": [
       "Validating: 0it [00:00, ?it/s]"
      ]
     },
     "metadata": {},
     "output_type": "display_data"
    },
    {
     "data": {
      "application/vnd.jupyter.widget-view+json": {
       "model_id": "",
       "version_major": 2,
       "version_minor": 0
      },
      "text/plain": [
       "Validating: 0it [00:00, ?it/s]"
      ]
     },
     "metadata": {},
     "output_type": "display_data"
    },
    {
     "data": {
      "application/vnd.jupyter.widget-view+json": {
       "model_id": "",
       "version_major": 2,
       "version_minor": 0
      },
      "text/plain": [
       "Validating: 0it [00:00, ?it/s]"
      ]
     },
     "metadata": {},
     "output_type": "display_data"
    },
    {
     "data": {
      "application/vnd.jupyter.widget-view+json": {
       "model_id": "",
       "version_major": 2,
       "version_minor": 0
      },
      "text/plain": [
       "Validating: 0it [00:00, ?it/s]"
      ]
     },
     "metadata": {},
     "output_type": "display_data"
    },
    {
     "data": {
      "application/vnd.jupyter.widget-view+json": {
       "model_id": "",
       "version_major": 2,
       "version_minor": 0
      },
      "text/plain": [
       "Validating: 0it [00:00, ?it/s]"
      ]
     },
     "metadata": {},
     "output_type": "display_data"
    },
    {
     "data": {
      "application/vnd.jupyter.widget-view+json": {
       "model_id": "",
       "version_major": 2,
       "version_minor": 0
      },
      "text/plain": [
       "Validating: 0it [00:00, ?it/s]"
      ]
     },
     "metadata": {},
     "output_type": "display_data"
    },
    {
     "data": {
      "application/vnd.jupyter.widget-view+json": {
       "model_id": "",
       "version_major": 2,
       "version_minor": 0
      },
      "text/plain": [
       "Validating: 0it [00:00, ?it/s]"
      ]
     },
     "metadata": {},
     "output_type": "display_data"
    },
    {
     "data": {
      "application/vnd.jupyter.widget-view+json": {
       "model_id": "",
       "version_major": 2,
       "version_minor": 0
      },
      "text/plain": [
       "Validating: 0it [00:00, ?it/s]"
      ]
     },
     "metadata": {},
     "output_type": "display_data"
    },
    {
     "data": {
      "application/vnd.jupyter.widget-view+json": {
       "model_id": "",
       "version_major": 2,
       "version_minor": 0
      },
      "text/plain": [
       "Validating: 0it [00:00, ?it/s]"
      ]
     },
     "metadata": {},
     "output_type": "display_data"
    },
    {
     "data": {
      "application/vnd.jupyter.widget-view+json": {
       "model_id": "",
       "version_major": 2,
       "version_minor": 0
      },
      "text/plain": [
       "Validating: 0it [00:00, ?it/s]"
      ]
     },
     "metadata": {},
     "output_type": "display_data"
    },
    {
     "data": {
      "application/vnd.jupyter.widget-view+json": {
       "model_id": "",
       "version_major": 2,
       "version_minor": 0
      },
      "text/plain": [
       "Validating: 0it [00:00, ?it/s]"
      ]
     },
     "metadata": {},
     "output_type": "display_data"
    },
    {
     "data": {
      "application/vnd.jupyter.widget-view+json": {
       "model_id": "",
       "version_major": 2,
       "version_minor": 0
      },
      "text/plain": [
       "Validating: 0it [00:00, ?it/s]"
      ]
     },
     "metadata": {},
     "output_type": "display_data"
    },
    {
     "data": {
      "application/vnd.jupyter.widget-view+json": {
       "model_id": "",
       "version_major": 2,
       "version_minor": 0
      },
      "text/plain": [
       "Validating: 0it [00:00, ?it/s]"
      ]
     },
     "metadata": {},
     "output_type": "display_data"
    },
    {
     "data": {
      "application/vnd.jupyter.widget-view+json": {
       "model_id": "",
       "version_major": 2,
       "version_minor": 0
      },
      "text/plain": [
       "Validating: 0it [00:00, ?it/s]"
      ]
     },
     "metadata": {},
     "output_type": "display_data"
    },
    {
     "data": {
      "application/vnd.jupyter.widget-view+json": {
       "model_id": "",
       "version_major": 2,
       "version_minor": 0
      },
      "text/plain": [
       "Validating: 0it [00:00, ?it/s]"
      ]
     },
     "metadata": {},
     "output_type": "display_data"
    },
    {
     "data": {
      "application/vnd.jupyter.widget-view+json": {
       "model_id": "",
       "version_major": 2,
       "version_minor": 0
      },
      "text/plain": [
       "Validating: 0it [00:00, ?it/s]"
      ]
     },
     "metadata": {},
     "output_type": "display_data"
    },
    {
     "data": {
      "application/vnd.jupyter.widget-view+json": {
       "model_id": "",
       "version_major": 2,
       "version_minor": 0
      },
      "text/plain": [
       "Validating: 0it [00:00, ?it/s]"
      ]
     },
     "metadata": {},
     "output_type": "display_data"
    },
    {
     "data": {
      "application/vnd.jupyter.widget-view+json": {
       "model_id": "",
       "version_major": 2,
       "version_minor": 0
      },
      "text/plain": [
       "Validating: 0it [00:00, ?it/s]"
      ]
     },
     "metadata": {},
     "output_type": "display_data"
    },
    {
     "data": {
      "application/vnd.jupyter.widget-view+json": {
       "model_id": "",
       "version_major": 2,
       "version_minor": 0
      },
      "text/plain": [
       "Validating: 0it [00:00, ?it/s]"
      ]
     },
     "metadata": {},
     "output_type": "display_data"
    },
    {
     "data": {
      "application/vnd.jupyter.widget-view+json": {
       "model_id": "",
       "version_major": 2,
       "version_minor": 0
      },
      "text/plain": [
       "Validating: 0it [00:00, ?it/s]"
      ]
     },
     "metadata": {},
     "output_type": "display_data"
    },
    {
     "data": {
      "application/vnd.jupyter.widget-view+json": {
       "model_id": "",
       "version_major": 2,
       "version_minor": 0
      },
      "text/plain": [
       "Validating: 0it [00:00, ?it/s]"
      ]
     },
     "metadata": {},
     "output_type": "display_data"
    },
    {
     "data": {
      "application/vnd.jupyter.widget-view+json": {
       "model_id": "",
       "version_major": 2,
       "version_minor": 0
      },
      "text/plain": [
       "Validating: 0it [00:00, ?it/s]"
      ]
     },
     "metadata": {},
     "output_type": "display_data"
    },
    {
     "data": {
      "application/vnd.jupyter.widget-view+json": {
       "model_id": "",
       "version_major": 2,
       "version_minor": 0
      },
      "text/plain": [
       "Validating: 0it [00:00, ?it/s]"
      ]
     },
     "metadata": {},
     "output_type": "display_data"
    },
    {
     "data": {
      "application/vnd.jupyter.widget-view+json": {
       "model_id": "",
       "version_major": 2,
       "version_minor": 0
      },
      "text/plain": [
       "Validating: 0it [00:00, ?it/s]"
      ]
     },
     "metadata": {},
     "output_type": "display_data"
    },
    {
     "data": {
      "application/vnd.jupyter.widget-view+json": {
       "model_id": "",
       "version_major": 2,
       "version_minor": 0
      },
      "text/plain": [
       "Validating: 0it [00:00, ?it/s]"
      ]
     },
     "metadata": {},
     "output_type": "display_data"
    },
    {
     "data": {
      "application/vnd.jupyter.widget-view+json": {
       "model_id": "",
       "version_major": 2,
       "version_minor": 0
      },
      "text/plain": [
       "Validating: 0it [00:00, ?it/s]"
      ]
     },
     "metadata": {},
     "output_type": "display_data"
    },
    {
     "data": {
      "application/vnd.jupyter.widget-view+json": {
       "model_id": "",
       "version_major": 2,
       "version_minor": 0
      },
      "text/plain": [
       "Validating: 0it [00:00, ?it/s]"
      ]
     },
     "metadata": {},
     "output_type": "display_data"
    },
    {
     "data": {
      "application/vnd.jupyter.widget-view+json": {
       "model_id": "",
       "version_major": 2,
       "version_minor": 0
      },
      "text/plain": [
       "Validating: 0it [00:00, ?it/s]"
      ]
     },
     "metadata": {},
     "output_type": "display_data"
    },
    {
     "data": {
      "application/vnd.jupyter.widget-view+json": {
       "model_id": "",
       "version_major": 2,
       "version_minor": 0
      },
      "text/plain": [
       "Validating: 0it [00:00, ?it/s]"
      ]
     },
     "metadata": {},
     "output_type": "display_data"
    },
    {
     "data": {
      "application/vnd.jupyter.widget-view+json": {
       "model_id": "",
       "version_major": 2,
       "version_minor": 0
      },
      "text/plain": [
       "Validating: 0it [00:00, ?it/s]"
      ]
     },
     "metadata": {},
     "output_type": "display_data"
    },
    {
     "data": {
      "application/vnd.jupyter.widget-view+json": {
       "model_id": "",
       "version_major": 2,
       "version_minor": 0
      },
      "text/plain": [
       "Validating: 0it [00:00, ?it/s]"
      ]
     },
     "metadata": {},
     "output_type": "display_data"
    },
    {
     "data": {
      "application/vnd.jupyter.widget-view+json": {
       "model_id": "",
       "version_major": 2,
       "version_minor": 0
      },
      "text/plain": [
       "Validating: 0it [00:00, ?it/s]"
      ]
     },
     "metadata": {},
     "output_type": "display_data"
    },
    {
     "data": {
      "application/vnd.jupyter.widget-view+json": {
       "model_id": "",
       "version_major": 2,
       "version_minor": 0
      },
      "text/plain": [
       "Validating: 0it [00:00, ?it/s]"
      ]
     },
     "metadata": {},
     "output_type": "display_data"
    },
    {
     "data": {
      "application/vnd.jupyter.widget-view+json": {
       "model_id": "",
       "version_major": 2,
       "version_minor": 0
      },
      "text/plain": [
       "Validating: 0it [00:00, ?it/s]"
      ]
     },
     "metadata": {},
     "output_type": "display_data"
    },
    {
     "data": {
      "application/vnd.jupyter.widget-view+json": {
       "model_id": "",
       "version_major": 2,
       "version_minor": 0
      },
      "text/plain": [
       "Validating: 0it [00:00, ?it/s]"
      ]
     },
     "metadata": {},
     "output_type": "display_data"
    },
    {
     "data": {
      "application/vnd.jupyter.widget-view+json": {
       "model_id": "",
       "version_major": 2,
       "version_minor": 0
      },
      "text/plain": [
       "Validating: 0it [00:00, ?it/s]"
      ]
     },
     "metadata": {},
     "output_type": "display_data"
    },
    {
     "data": {
      "application/vnd.jupyter.widget-view+json": {
       "model_id": "",
       "version_major": 2,
       "version_minor": 0
      },
      "text/plain": [
       "Validating: 0it [00:00, ?it/s]"
      ]
     },
     "metadata": {},
     "output_type": "display_data"
    },
    {
     "data": {
      "application/vnd.jupyter.widget-view+json": {
       "model_id": "",
       "version_major": 2,
       "version_minor": 0
      },
      "text/plain": [
       "Validating: 0it [00:00, ?it/s]"
      ]
     },
     "metadata": {},
     "output_type": "display_data"
    },
    {
     "data": {
      "application/vnd.jupyter.widget-view+json": {
       "model_id": "",
       "version_major": 2,
       "version_minor": 0
      },
      "text/plain": [
       "Validating: 0it [00:00, ?it/s]"
      ]
     },
     "metadata": {},
     "output_type": "display_data"
    },
    {
     "data": {
      "application/vnd.jupyter.widget-view+json": {
       "model_id": "",
       "version_major": 2,
       "version_minor": 0
      },
      "text/plain": [
       "Validating: 0it [00:00, ?it/s]"
      ]
     },
     "metadata": {},
     "output_type": "display_data"
    },
    {
     "data": {
      "application/vnd.jupyter.widget-view+json": {
       "model_id": "",
       "version_major": 2,
       "version_minor": 0
      },
      "text/plain": [
       "Validating: 0it [00:00, ?it/s]"
      ]
     },
     "metadata": {},
     "output_type": "display_data"
    },
    {
     "data": {
      "application/vnd.jupyter.widget-view+json": {
       "model_id": "",
       "version_major": 2,
       "version_minor": 0
      },
      "text/plain": [
       "Validating: 0it [00:00, ?it/s]"
      ]
     },
     "metadata": {},
     "output_type": "display_data"
    },
    {
     "data": {
      "application/vnd.jupyter.widget-view+json": {
       "model_id": "",
       "version_major": 2,
       "version_minor": 0
      },
      "text/plain": [
       "Validating: 0it [00:00, ?it/s]"
      ]
     },
     "metadata": {},
     "output_type": "display_data"
    },
    {
     "data": {
      "application/vnd.jupyter.widget-view+json": {
       "model_id": "",
       "version_major": 2,
       "version_minor": 0
      },
      "text/plain": [
       "Validating: 0it [00:00, ?it/s]"
      ]
     },
     "metadata": {},
     "output_type": "display_data"
    },
    {
     "data": {
      "application/vnd.jupyter.widget-view+json": {
       "model_id": "",
       "version_major": 2,
       "version_minor": 0
      },
      "text/plain": [
       "Validating: 0it [00:00, ?it/s]"
      ]
     },
     "metadata": {},
     "output_type": "display_data"
    },
    {
     "data": {
      "application/vnd.jupyter.widget-view+json": {
       "model_id": "",
       "version_major": 2,
       "version_minor": 0
      },
      "text/plain": [
       "Validating: 0it [00:00, ?it/s]"
      ]
     },
     "metadata": {},
     "output_type": "display_data"
    },
    {
     "data": {
      "application/vnd.jupyter.widget-view+json": {
       "model_id": "",
       "version_major": 2,
       "version_minor": 0
      },
      "text/plain": [
       "Validating: 0it [00:00, ?it/s]"
      ]
     },
     "metadata": {},
     "output_type": "display_data"
    },
    {
     "data": {
      "application/vnd.jupyter.widget-view+json": {
       "model_id": "",
       "version_major": 2,
       "version_minor": 0
      },
      "text/plain": [
       "Validating: 0it [00:00, ?it/s]"
      ]
     },
     "metadata": {},
     "output_type": "display_data"
    },
    {
     "data": {
      "application/vnd.jupyter.widget-view+json": {
       "model_id": "",
       "version_major": 2,
       "version_minor": 0
      },
      "text/plain": [
       "Validating: 0it [00:00, ?it/s]"
      ]
     },
     "metadata": {},
     "output_type": "display_data"
    },
    {
     "data": {
      "application/vnd.jupyter.widget-view+json": {
       "model_id": "",
       "version_major": 2,
       "version_minor": 0
      },
      "text/plain": [
       "Validating: 0it [00:00, ?it/s]"
      ]
     },
     "metadata": {},
     "output_type": "display_data"
    },
    {
     "data": {
      "application/vnd.jupyter.widget-view+json": {
       "model_id": "",
       "version_major": 2,
       "version_minor": 0
      },
      "text/plain": [
       "Validating: 0it [00:00, ?it/s]"
      ]
     },
     "metadata": {},
     "output_type": "display_data"
    },
    {
     "data": {
      "application/vnd.jupyter.widget-view+json": {
       "model_id": "",
       "version_major": 2,
       "version_minor": 0
      },
      "text/plain": [
       "Validating: 0it [00:00, ?it/s]"
      ]
     },
     "metadata": {},
     "output_type": "display_data"
    },
    {
     "data": {
      "application/vnd.jupyter.widget-view+json": {
       "model_id": "",
       "version_major": 2,
       "version_minor": 0
      },
      "text/plain": [
       "Validating: 0it [00:00, ?it/s]"
      ]
     },
     "metadata": {},
     "output_type": "display_data"
    },
    {
     "data": {
      "application/vnd.jupyter.widget-view+json": {
       "model_id": "",
       "version_major": 2,
       "version_minor": 0
      },
      "text/plain": [
       "Validating: 0it [00:00, ?it/s]"
      ]
     },
     "metadata": {},
     "output_type": "display_data"
    },
    {
     "data": {
      "application/vnd.jupyter.widget-view+json": {
       "model_id": "",
       "version_major": 2,
       "version_minor": 0
      },
      "text/plain": [
       "Validating: 0it [00:00, ?it/s]"
      ]
     },
     "metadata": {},
     "output_type": "display_data"
    },
    {
     "data": {
      "application/vnd.jupyter.widget-view+json": {
       "model_id": "",
       "version_major": 2,
       "version_minor": 0
      },
      "text/plain": [
       "Validating: 0it [00:00, ?it/s]"
      ]
     },
     "metadata": {},
     "output_type": "display_data"
    },
    {
     "data": {
      "application/vnd.jupyter.widget-view+json": {
       "model_id": "",
       "version_major": 2,
       "version_minor": 0
      },
      "text/plain": [
       "Validating: 0it [00:00, ?it/s]"
      ]
     },
     "metadata": {},
     "output_type": "display_data"
    },
    {
     "data": {
      "application/vnd.jupyter.widget-view+json": {
       "model_id": "",
       "version_major": 2,
       "version_minor": 0
      },
      "text/plain": [
       "Validating: 0it [00:00, ?it/s]"
      ]
     },
     "metadata": {},
     "output_type": "display_data"
    },
    {
     "data": {
      "application/vnd.jupyter.widget-view+json": {
       "model_id": "",
       "version_major": 2,
       "version_minor": 0
      },
      "text/plain": [
       "Validating: 0it [00:00, ?it/s]"
      ]
     },
     "metadata": {},
     "output_type": "display_data"
    },
    {
     "data": {
      "application/vnd.jupyter.widget-view+json": {
       "model_id": "",
       "version_major": 2,
       "version_minor": 0
      },
      "text/plain": [
       "Validating: 0it [00:00, ?it/s]"
      ]
     },
     "metadata": {},
     "output_type": "display_data"
    },
    {
     "data": {
      "application/vnd.jupyter.widget-view+json": {
       "model_id": "",
       "version_major": 2,
       "version_minor": 0
      },
      "text/plain": [
       "Validating: 0it [00:00, ?it/s]"
      ]
     },
     "metadata": {},
     "output_type": "display_data"
    },
    {
     "data": {
      "application/vnd.jupyter.widget-view+json": {
       "model_id": "",
       "version_major": 2,
       "version_minor": 0
      },
      "text/plain": [
       "Validating: 0it [00:00, ?it/s]"
      ]
     },
     "metadata": {},
     "output_type": "display_data"
    },
    {
     "data": {
      "application/vnd.jupyter.widget-view+json": {
       "model_id": "",
       "version_major": 2,
       "version_minor": 0
      },
      "text/plain": [
       "Validating: 0it [00:00, ?it/s]"
      ]
     },
     "metadata": {},
     "output_type": "display_data"
    },
    {
     "data": {
      "application/vnd.jupyter.widget-view+json": {
       "model_id": "",
       "version_major": 2,
       "version_minor": 0
      },
      "text/plain": [
       "Validating: 0it [00:00, ?it/s]"
      ]
     },
     "metadata": {},
     "output_type": "display_data"
    },
    {
     "data": {
      "application/vnd.jupyter.widget-view+json": {
       "model_id": "",
       "version_major": 2,
       "version_minor": 0
      },
      "text/plain": [
       "Validating: 0it [00:00, ?it/s]"
      ]
     },
     "metadata": {},
     "output_type": "display_data"
    },
    {
     "data": {
      "application/vnd.jupyter.widget-view+json": {
       "model_id": "",
       "version_major": 2,
       "version_minor": 0
      },
      "text/plain": [
       "Validating: 0it [00:00, ?it/s]"
      ]
     },
     "metadata": {},
     "output_type": "display_data"
    },
    {
     "data": {
      "application/vnd.jupyter.widget-view+json": {
       "model_id": "",
       "version_major": 2,
       "version_minor": 0
      },
      "text/plain": [
       "Validating: 0it [00:00, ?it/s]"
      ]
     },
     "metadata": {},
     "output_type": "display_data"
    },
    {
     "data": {
      "application/vnd.jupyter.widget-view+json": {
       "model_id": "",
       "version_major": 2,
       "version_minor": 0
      },
      "text/plain": [
       "Validating: 0it [00:00, ?it/s]"
      ]
     },
     "metadata": {},
     "output_type": "display_data"
    },
    {
     "data": {
      "application/vnd.jupyter.widget-view+json": {
       "model_id": "",
       "version_major": 2,
       "version_minor": 0
      },
      "text/plain": [
       "Validating: 0it [00:00, ?it/s]"
      ]
     },
     "metadata": {},
     "output_type": "display_data"
    },
    {
     "data": {
      "application/vnd.jupyter.widget-view+json": {
       "model_id": "",
       "version_major": 2,
       "version_minor": 0
      },
      "text/plain": [
       "Validating: 0it [00:00, ?it/s]"
      ]
     },
     "metadata": {},
     "output_type": "display_data"
    },
    {
     "data": {
      "application/vnd.jupyter.widget-view+json": {
       "model_id": "",
       "version_major": 2,
       "version_minor": 0
      },
      "text/plain": [
       "Validating: 0it [00:00, ?it/s]"
      ]
     },
     "metadata": {},
     "output_type": "display_data"
    },
    {
     "data": {
      "application/vnd.jupyter.widget-view+json": {
       "model_id": "",
       "version_major": 2,
       "version_minor": 0
      },
      "text/plain": [
       "Validating: 0it [00:00, ?it/s]"
      ]
     },
     "metadata": {},
     "output_type": "display_data"
    },
    {
     "data": {
      "application/vnd.jupyter.widget-view+json": {
       "model_id": "",
       "version_major": 2,
       "version_minor": 0
      },
      "text/plain": [
       "Validating: 0it [00:00, ?it/s]"
      ]
     },
     "metadata": {},
     "output_type": "display_data"
    },
    {
     "data": {
      "application/vnd.jupyter.widget-view+json": {
       "model_id": "",
       "version_major": 2,
       "version_minor": 0
      },
      "text/plain": [
       "Validating: 0it [00:00, ?it/s]"
      ]
     },
     "metadata": {},
     "output_type": "display_data"
    },
    {
     "data": {
      "application/vnd.jupyter.widget-view+json": {
       "model_id": "",
       "version_major": 2,
       "version_minor": 0
      },
      "text/plain": [
       "Validating: 0it [00:00, ?it/s]"
      ]
     },
     "metadata": {},
     "output_type": "display_data"
    },
    {
     "data": {
      "application/vnd.jupyter.widget-view+json": {
       "model_id": "",
       "version_major": 2,
       "version_minor": 0
      },
      "text/plain": [
       "Validating: 0it [00:00, ?it/s]"
      ]
     },
     "metadata": {},
     "output_type": "display_data"
    },
    {
     "data": {
      "application/vnd.jupyter.widget-view+json": {
       "model_id": "",
       "version_major": 2,
       "version_minor": 0
      },
      "text/plain": [
       "Validating: 0it [00:00, ?it/s]"
      ]
     },
     "metadata": {},
     "output_type": "display_data"
    },
    {
     "data": {
      "application/vnd.jupyter.widget-view+json": {
       "model_id": "",
       "version_major": 2,
       "version_minor": 0
      },
      "text/plain": [
       "Validating: 0it [00:00, ?it/s]"
      ]
     },
     "metadata": {},
     "output_type": "display_data"
    },
    {
     "data": {
      "application/vnd.jupyter.widget-view+json": {
       "model_id": "",
       "version_major": 2,
       "version_minor": 0
      },
      "text/plain": [
       "Validating: 0it [00:00, ?it/s]"
      ]
     },
     "metadata": {},
     "output_type": "display_data"
    },
    {
     "data": {
      "application/vnd.jupyter.widget-view+json": {
       "model_id": "",
       "version_major": 2,
       "version_minor": 0
      },
      "text/plain": [
       "Validating: 0it [00:00, ?it/s]"
      ]
     },
     "metadata": {},
     "output_type": "display_data"
    },
    {
     "data": {
      "application/vnd.jupyter.widget-view+json": {
       "model_id": "",
       "version_major": 2,
       "version_minor": 0
      },
      "text/plain": [
       "Validating: 0it [00:00, ?it/s]"
      ]
     },
     "metadata": {},
     "output_type": "display_data"
    },
    {
     "data": {
      "application/vnd.jupyter.widget-view+json": {
       "model_id": "",
       "version_major": 2,
       "version_minor": 0
      },
      "text/plain": [
       "Validating: 0it [00:00, ?it/s]"
      ]
     },
     "metadata": {},
     "output_type": "display_data"
    },
    {
     "data": {
      "application/vnd.jupyter.widget-view+json": {
       "model_id": "",
       "version_major": 2,
       "version_minor": 0
      },
      "text/plain": [
       "Validating: 0it [00:00, ?it/s]"
      ]
     },
     "metadata": {},
     "output_type": "display_data"
    },
    {
     "data": {
      "application/vnd.jupyter.widget-view+json": {
       "model_id": "",
       "version_major": 2,
       "version_minor": 0
      },
      "text/plain": [
       "Validating: 0it [00:00, ?it/s]"
      ]
     },
     "metadata": {},
     "output_type": "display_data"
    },
    {
     "data": {
      "application/vnd.jupyter.widget-view+json": {
       "model_id": "",
       "version_major": 2,
       "version_minor": 0
      },
      "text/plain": [
       "Validating: 0it [00:00, ?it/s]"
      ]
     },
     "metadata": {},
     "output_type": "display_data"
    },
    {
     "data": {
      "application/vnd.jupyter.widget-view+json": {
       "model_id": "",
       "version_major": 2,
       "version_minor": 0
      },
      "text/plain": [
       "Validating: 0it [00:00, ?it/s]"
      ]
     },
     "metadata": {},
     "output_type": "display_data"
    },
    {
     "data": {
      "application/vnd.jupyter.widget-view+json": {
       "model_id": "",
       "version_major": 2,
       "version_minor": 0
      },
      "text/plain": [
       "Validating: 0it [00:00, ?it/s]"
      ]
     },
     "metadata": {},
     "output_type": "display_data"
    },
    {
     "data": {
      "application/vnd.jupyter.widget-view+json": {
       "model_id": "",
       "version_major": 2,
       "version_minor": 0
      },
      "text/plain": [
       "Validating: 0it [00:00, ?it/s]"
      ]
     },
     "metadata": {},
     "output_type": "display_data"
    },
    {
     "data": {
      "application/vnd.jupyter.widget-view+json": {
       "model_id": "",
       "version_major": 2,
       "version_minor": 0
      },
      "text/plain": [
       "Validating: 0it [00:00, ?it/s]"
      ]
     },
     "metadata": {},
     "output_type": "display_data"
    },
    {
     "data": {
      "application/vnd.jupyter.widget-view+json": {
       "model_id": "",
       "version_major": 2,
       "version_minor": 0
      },
      "text/plain": [
       "Validating: 0it [00:00, ?it/s]"
      ]
     },
     "metadata": {},
     "output_type": "display_data"
    },
    {
     "data": {
      "application/vnd.jupyter.widget-view+json": {
       "model_id": "",
       "version_major": 2,
       "version_minor": 0
      },
      "text/plain": [
       "Validating: 0it [00:00, ?it/s]"
      ]
     },
     "metadata": {},
     "output_type": "display_data"
    },
    {
     "data": {
      "application/vnd.jupyter.widget-view+json": {
       "model_id": "",
       "version_major": 2,
       "version_minor": 0
      },
      "text/plain": [
       "Validating: 0it [00:00, ?it/s]"
      ]
     },
     "metadata": {},
     "output_type": "display_data"
    },
    {
     "data": {
      "application/vnd.jupyter.widget-view+json": {
       "model_id": "",
       "version_major": 2,
       "version_minor": 0
      },
      "text/plain": [
       "Validating: 0it [00:00, ?it/s]"
      ]
     },
     "metadata": {},
     "output_type": "display_data"
    },
    {
     "data": {
      "application/vnd.jupyter.widget-view+json": {
       "model_id": "",
       "version_major": 2,
       "version_minor": 0
      },
      "text/plain": [
       "Validating: 0it [00:00, ?it/s]"
      ]
     },
     "metadata": {},
     "output_type": "display_data"
    },
    {
     "data": {
      "application/vnd.jupyter.widget-view+json": {
       "model_id": "",
       "version_major": 2,
       "version_minor": 0
      },
      "text/plain": [
       "Validating: 0it [00:00, ?it/s]"
      ]
     },
     "metadata": {},
     "output_type": "display_data"
    },
    {
     "name": "stderr",
     "output_type": "stream",
     "text": [
      "LOCAL_RANK: 0 - CUDA_VISIBLE_DEVICES: [0]\n",
      "/home/thobotics/anaconda3/envs/tum/lib/python3.6/site-packages/pytorch_lightning/trainer/data_loading.py:111: UserWarning: The dataloader, test_dataloader 0, does not have many workers which may be a bottleneck. Consider increasing the value of the `num_workers` argument` (try 8 which is the number of cpus on this machine) in the `DataLoader` init to improve performance.\n",
      "  f\"The dataloader, {name}, does not have many workers which may be a bottleneck.\"\n"
     ]
    },
    {
     "data": {
      "application/vnd.jupyter.widget-view+json": {
       "model_id": "4c6b3a73d3f14b87a76eb8c52d21aa4a",
       "version_major": 2,
       "version_minor": 0
      },
      "text/plain": [
       "Testing: 0it [00:00, ?it/s]"
      ]
     },
     "metadata": {},
     "output_type": "display_data"
    },
    {
     "name": "stdout",
     "output_type": "stream",
     "text": [
      "--------------------------------------------------------------------------------\n",
      "DATALOADER:0 TEST RESULTS\n",
      "{'test_kl': 4.0538177490234375,\n",
      " 'test_loss': -19.42087745666504,\n",
      " 'test_nllx': -24.384679794311523,\n",
      " 'test_nlly': -11.169145584106445}\n",
      "--------------------------------------------------------------------------------\n"
     ]
    },
    {
     "data": {
      "text/plain": [
       "[{'test_loss': -19.42087745666504,\n",
       "  'test_nllx': -24.384679794311523,\n",
       "  'test_nlly': -11.169145584106445,\n",
       "  'test_kl': 4.0538177490234375}]"
      ]
     },
     "execution_count": 11,
     "metadata": {},
     "output_type": "execute_result"
    }
   ],
   "source": [
    "seed_everything(1)\n",
    "\n",
    "checkpoint_callback = ModelCheckpoint(\n",
    "    monitor=\"val_loss\",\n",
    "    dirpath=model_path,\n",
    "    filename=\"best-{epoch:03d}-{val_loss:.5f}\",\n",
    "    save_top_k=3,\n",
    "    mode=\"min\",\n",
    ")\n",
    "\n",
    "trainer = Trainer(\n",
    "    max_epochs=p['max_epochs'],\n",
    "    callbacks=[checkpoint_callback],\n",
    "    gpus=1,\n",
    "    log_every_n_steps=10,\n",
    "    progress_bar_refresh_rate=2,\n",
    ")\n",
    "\n",
    "model = DVBF(\n",
    "    n_frames = p['n_frames'],\n",
    "    n_observations = p['n_observations'],\n",
    "    n_actions = p['n_actions'],\n",
    "    n_latents = p['n_latents'],\n",
    "    n_outputs = p['n_outputs'],\n",
    "    n_initial_obs = p['n_initial_obs'],\n",
    "    hidden_size = p['hidden_size'],\n",
    "    seq_len = p['seq_len'],\n",
    "    batch_size = p['batch_size'],\n",
    "    learning_rate = p['learning_rate'],\n",
    "    alpha = p['alpha'],\n",
    "    beta = p['beta'],\n",
    "    annealing = p['annealing'],\n",
    "    temperature = p['temperature'],\n",
    ")\n",
    "\n",
    "\n",
    "dm = SensorsDataModule(\n",
    "#     data_x = data_in,\n",
    "    data_x = data_hat_in,\n",
    "    data_y = data_out,\n",
    "#     data_x_hat = data_hat_in,\n",
    "    seq_len = p['seq_len'],\n",
    "    batch_size = p['batch_size']\n",
    ")\n",
    "\n",
    "trainer.fit(model, dm)\n",
    "trainer.test(model, datamodule=dm)"
   ]
  },
  {
   "cell_type": "code",
   "execution_count": 12,
   "id": "a6b9ca00",
   "metadata": {},
   "outputs": [],
   "source": [
    "best_model_path = f\"{model_path}/best.ckpt\"\n",
    "if os.path.exists(best_model_path):\n",
    "    os.remove(best_model_path)\n",
    "trainer.save_checkpoint(best_model_path)"
   ]
  },
  {
   "cell_type": "markdown",
   "id": "9df57715",
   "metadata": {},
   "source": [
    "# Testing "
   ]
  },
  {
   "cell_type": "code",
   "execution_count": 13,
   "id": "3680a932",
   "metadata": {},
   "outputs": [
    {
     "data": {
      "text/plain": [
       "DVBF(\n",
       "  (initial_lstm): LSTM(12, 100, batch_first=True, dropout=0.1, bidirectional=True)\n",
       "  (initial_to_params): Sequential(\n",
       "    (0): Linear(in_features=200, out_features=100, bias=True)\n",
       "    (1): ReLU()\n",
       "    (2): Linear(in_features=100, out_features=32, bias=True)\n",
       "  )\n",
       "  (w1_to_z1): Sequential(\n",
       "    (0): Linear(in_features=16, out_features=100, bias=True)\n",
       "    (1): ReLU()\n",
       "    (2): Linear(in_features=100, out_features=16, bias=True)\n",
       "  )\n",
       "  (matrix_params): Sequential(\n",
       "    (0): Linear(in_features=16, out_features=100, bias=True)\n",
       "    (1): ReLU()\n",
       "    (2): Linear(in_features=100, out_features=16, bias=True)\n",
       "    (3): Softmax(dim=None)\n",
       "  )\n",
       "  (decoder_model): Sequential(\n",
       "    (0): Linear(in_features=16, out_features=100, bias=True)\n",
       "    (1): ReLU()\n",
       "    (2): Linear(in_features=100, out_features=24, bias=True)\n",
       "  )\n",
       "  (regressor_model): Sequential(\n",
       "    (0): Linear(in_features=16, out_features=100, bias=True)\n",
       "    (1): ReLU()\n",
       "    (2): Linear(in_features=100, out_features=12, bias=True)\n",
       "  )\n",
       "  (encoder_models): ModuleList(\n",
       "    (0): Sequential(\n",
       "      (0): Sequential(\n",
       "        (0): Linear(in_features=3, out_features=100, bias=True)\n",
       "        (1): ReLU()\n",
       "      )\n",
       "      (1): Linear(in_features=100, out_features=32, bias=True)\n",
       "    )\n",
       "    (1): Sequential(\n",
       "      (0): Sequential(\n",
       "        (0): Linear(in_features=3, out_features=100, bias=True)\n",
       "        (1): ReLU()\n",
       "      )\n",
       "      (1): Linear(in_features=100, out_features=32, bias=True)\n",
       "    )\n",
       "    (2): Sequential(\n",
       "      (0): Sequential(\n",
       "        (0): Linear(in_features=3, out_features=100, bias=True)\n",
       "        (1): ReLU()\n",
       "      )\n",
       "      (1): Linear(in_features=100, out_features=32, bias=True)\n",
       "    )\n",
       "    (3): Sequential(\n",
       "      (0): Sequential(\n",
       "        (0): Linear(in_features=3, out_features=100, bias=True)\n",
       "        (1): ReLU()\n",
       "      )\n",
       "      (1): Linear(in_features=100, out_features=32, bias=True)\n",
       "    )\n",
       "  )\n",
       ")"
      ]
     },
     "execution_count": 13,
     "metadata": {},
     "output_type": "execute_result"
    }
   ],
   "source": [
    "device = \"cuda\"\n",
    "model.to(device)\n",
    "torch.set_grad_enabled(False)\n",
    "model.eval()"
   ]
  },
  {
   "cell_type": "code",
   "execution_count": 14,
   "id": "b52c8428",
   "metadata": {},
   "outputs": [],
   "source": [
    "def plot_test(sensors_set, euler_set, look_back=5, ab_idx=None):\n",
    "\n",
    "    # Specific testing for abnormalities\n",
    "    \n",
    "    if body_part == \"shoulder_right\":\n",
    "        start_idx = 110090\n",
    "        end_idx = 110790\n",
    "        ab_idx = 110690\n",
    "    elif body_part == \"shoulder_left\":\n",
    "        start_idx = 21500\n",
    "        end_idx = 22880\n",
    "        ab_idx = 22626\n",
    "    elif body_part == \"head\":\n",
    "        start_idx = 900\n",
    "        end_idx = 950\n",
    "\n",
    "    test_idxs = slice(start_idx, end_idx)\n",
    "\n",
    "    # Prepare inputs and do the prediction\n",
    "    in_set = []\n",
    "    for i in range(start_idx, end_idx):\n",
    "        in_set.append(sensors_set[i:i+look_back])\n",
    "\n",
    "#     in_set = torch.tensor(in_set, dtype=torch.float32).to(device)\n",
    "    in_set = torch.tensor(sensors_set[start_idx:end_idx][None], dtype=torch.float32).to(device)\n",
    "    out_set = model.predict(in_set)[0]#[:, -1]\n",
    "    rot_pred = compute_rotation_matrix_from_ortho6d(out_set)\n",
    "    \n",
    "    euler_pred = compute_euler_angles_from_rotation_matrices(rot_pred)\n",
    "    euler_gt = torch.tensor(euler_set[test_idxs], dtype=torch.float32).to(device)\n",
    "    \n",
    "    print(f\"MSE: {mse_seq(euler_pred, euler_gt)}\")\n",
    "    \n",
    "    euler_pred = euler_pred.cpu().detach().numpy()\n",
    "    euler_gt = euler_gt.cpu().detach().numpy()\n",
    "\n",
    "    # Plotting\n",
    "    fig = plt.figure(figsize=(10,8))\n",
    "    ax = fig.add_subplot(1, 1, 1, projection='3d')\n",
    "    ax.scatter(euler_gt[:, 0], euler_gt[:, 1], euler_gt[:, 2], c=np.arange(len(euler_gt)), alpha=0.1)\n",
    "    sc = ax.plot(euler_pred[:,0], euler_pred[:,1], euler_pred[:,2])\n",
    "    sc = ax.scatter(euler_pred[:,0], euler_pred[:,1], euler_pred[:,2], c=np.arange(len(euler_pred)), alpha=0.5)\n",
    "\n",
    "    ax.set_xlabel('X')\n",
    "    ax.set_ylabel('Y')\n",
    "    ax.set_zlabel('Z')\n",
    "\n",
    "    plt.colorbar(sc)\n",
    "    plt.show()\n",
    "    \n",
    "    # Abnormal analysis\n",
    "    latent_dist = None\n",
    "    if ab_idx is not None:\n",
    "        ab_idx = ab_idx - start_idx\n",
    "        latent_dist = model.inv_meas(in_set[:, ab_idx])\n",
    "        print(f\"Abnormal input: {in_set[:, ab_idx]}\")\n",
    "    return latent_dist"
   ]
  },
  {
   "cell_type": "raw",
   "id": "f5b8d1d2",
   "metadata": {},
   "source": [
    "test_dataset = pd.concat([pd.read_csv(f, delim_whitespace=True, header=0) for f in file_names])\n",
    "test_dataset = test_dataset.values[1:len(test_dataset)-1,0:]\n",
    "test_euler_set = dataset[:, 12:15]\n",
    "test_sensors_set = test_dataset[:, :12]\n",
    "test_transformed_sensors_set = sensors_scaler.transform(test_sensors_set).reshape(-1, 4, 3)"
   ]
  },
  {
   "cell_type": "code",
   "execution_count": 15,
   "id": "a57965a5",
   "metadata": {},
   "outputs": [],
   "source": [
    "test_euler_set = dataset[:, 12:15]"
   ]
  },
  {
   "cell_type": "code",
   "execution_count": 16,
   "id": "0b076dea",
   "metadata": {},
   "outputs": [
    {
     "name": "stdout",
     "output_type": "stream",
     "text": [
      "MSE: 0.0006341974949464202\n"
     ]
    },
    {
     "data": {
      "image/png": "[encoded data removed]",
      "text/plain": [
       "<Figure size 720x576 with 2 Axes>"
      ]
     },
     "metadata": {
      "needs_background": "light"
     },
     "output_type": "display_data"
    },
    {
     "name": "stdout",
     "output_type": "stream",
     "text": [
      "Abnormal input: tensor([[[ 0.0665,  0.6416,  0.5979],\n",
      "         [ 0.1106, -0.5942,  0.7795],\n",
      "         [-0.1069,  0.3333, -0.2064],\n",
      "         [-0.1109,  0.1616, -0.0624]]], device='cuda:0')\n"
     ]
    }
   ],
   "source": [
    "# Plot with raw inputs\n",
    "test_latent_dist = plot_test(sensors_set, test_euler_set, look_back=5)"
   ]
  },
  {
   "cell_type": "raw",
   "id": "2e4236e0",
   "metadata": {},
   "source": [
    "orig_euler_set = dataset[:, 12:15]\n",
    "orig_sensors_set = dataset[:, :12]\n",
    "orig_transformed_sensors_set = sensors_scaler.transform(orig_sensors_set).reshape(-1, 4, 3)"
   ]
  },
  {
   "cell_type": "code",
   "execution_count": 17,
   "id": "8d5ea437",
   "metadata": {},
   "outputs": [
    {
     "name": "stderr",
     "output_type": "stream",
     "text": [
      "/home/thobotics/anaconda3/envs/tum/lib/python3.6/site-packages/torch/nn/modules/container.py:139: UserWarning: Implicit dimension choice for softmax has been deprecated. Change the call to include dim=X as an argument.\n",
      "  input = module(input)\n"
     ]
    },
    {
     "name": "stdout",
     "output_type": "stream",
     "text": [
      "MSE: 0.0007008670945651829\n"
     ]
    },
    {
     "data": {
      "image/png": "[encoded data removed]",
      "text/plain": [
       "<Figure size 720x576 with 2 Axes>"
      ]
     },
     "metadata": {
      "needs_background": "light"
     },
     "output_type": "display_data"
    },
    {
     "name": "stdout",
     "output_type": "stream",
     "text": [
      "Abnormal input: tensor([[[-0.2319, -0.0155,  0.0441],\n",
      "         [ 0.1106, -0.5942,  0.7795],\n",
      "         [-0.1069,  0.3333, -0.2064],\n",
      "         [-0.1109,  0.1616, -0.0624]]], device='cuda:0')\n"
     ]
    }
   ],
   "source": [
    "# Plot with interpolated inputs\n",
    "orig_latent_dist = plot_test(orig_sensors_set, test_euler_set, look_back=5)"
   ]
  },
  {
   "cell_type": "code",
   "execution_count": 18,
   "id": "23ccc201",
   "metadata": {},
   "outputs": [],
   "source": [
    "test_latent_mean = torch.stack(test_latent_dist[0])\n",
    "test_latent_var = torch.stack(test_latent_dist[1])"
   ]
  },
  {
   "cell_type": "code",
   "execution_count": 19,
   "id": "530cecdb",
   "metadata": {},
   "outputs": [],
   "source": [
    "orig_latent_mean = torch.stack(orig_latent_dist[0])\n",
    "orig_latent_var = torch.stack(orig_latent_dist[1])"
   ]
  },
  {
   "cell_type": "code",
   "execution_count": 20,
   "id": "e461b606",
   "metadata": {},
   "outputs": [],
   "source": [
    "np.set_printoptions(precision=3, suppress=True)"
   ]
  },
  {
   "cell_type": "code",
   "execution_count": 21,
   "id": "5025f6f8",
   "metadata": {},
   "outputs": [
    {
     "data": {
      "text/plain": [
       "tensor([[[ 13.3144,  34.1276,  18.4852, -29.5642,  33.8643,   6.2906,  -8.5682,\n",
       "           25.3254,  17.5630, -17.2653,  -6.9595,  27.6519, -18.7231, -14.8541,\n",
       "          -20.4540, -22.6791]],\n",
       "\n",
       "        [[ 26.4230,  28.5782,  19.8168, -19.1515,  -4.4046, -30.8207,  19.1289,\n",
       "            0.3002, -19.4701,  22.4883, -10.8826, -25.2579,  25.4457, -19.2987,\n",
       "           -7.1951, -20.4433]],\n",
       "\n",
       "        [[-10.5413,  23.7672, -11.7869, -17.2616, -14.5275,  18.3051, -26.6699,\n",
       "          -27.8140,   5.2824,  17.8348,  17.6474,  10.8259, -11.5190,  -0.7061,\n",
       "           12.0947,  16.7718]],\n",
       "\n",
       "        [[-11.8071, -21.4082,  17.9581,  20.2418,   8.2919, -30.4340,  17.2779,\n",
       "          -26.3439,   3.6795, -20.3733,  18.5319,  11.7416, -13.9494,  16.2188,\n",
       "          -11.1531, -10.6602]]], device='cuda:0')"
      ]
     },
     "execution_count": 21,
     "metadata": {},
     "output_type": "execute_result"
    }
   ],
   "source": [
    "test_latent_mean"
   ]
  },
  {
   "cell_type": "code",
   "execution_count": 22,
   "id": "6d32d7eb",
   "metadata": {},
   "outputs": [
    {
     "data": {
      "text/plain": [
       "tensor([[[  3.7802,  26.8231,  14.0437, -17.9544,  20.6239,   9.2453,  -5.1525,\n",
       "            9.6852,  15.5180, -19.9038,  -3.6071,  21.9384, -13.3025,   0.5014,\n",
       "          -18.6851, -11.0063]],\n",
       "\n",
       "        [[ 26.4230,  28.5782,  19.8168, -19.1515,  -4.4046, -30.8207,  19.1289,\n",
       "            0.3002, -19.4701,  22.4883, -10.8826, -25.2579,  25.4457, -19.2987,\n",
       "           -7.1951, -20.4433]],\n",
       "\n",
       "        [[-10.5413,  23.7672, -11.7869, -17.2616, -14.5275,  18.3051, -26.6699,\n",
       "          -27.8140,   5.2824,  17.8348,  17.6474,  10.8259, -11.5190,  -0.7061,\n",
       "           12.0947,  16.7718]],\n",
       "\n",
       "        [[-11.8071, -21.4082,  17.9581,  20.2418,   8.2919, -30.4340,  17.2779,\n",
       "          -26.3439,   3.6795, -20.3733,  18.5319,  11.7416, -13.9494,  16.2188,\n",
       "          -11.1531, -10.6602]]], device='cuda:0')"
      ]
     },
     "execution_count": 22,
     "metadata": {},
     "output_type": "execute_result"
    }
   ],
   "source": [
    "orig_latent_mean"
   ]
  },
  {
   "cell_type": "code",
   "execution_count": 23,
   "id": "128fa26f",
   "metadata": {},
   "outputs": [
    {
     "data": {
      "text/plain": [
       "array([[[ 9.534,  7.305,  4.442, 11.61 , 13.24 ,  2.955,  3.416, 15.64 ,\n",
       "          2.045,  2.639,  3.352,  5.714,  5.421, 15.356,  1.769, 11.673]],\n",
       "\n",
       "       [[ 0.   ,  0.   ,  0.   ,  0.   ,  0.   ,  0.   ,  0.   ,  0.   ,\n",
       "          0.   ,  0.   ,  0.   ,  0.   ,  0.   ,  0.   ,  0.   ,  0.   ]],\n",
       "\n",
       "       [[ 0.   ,  0.   ,  0.   ,  0.   ,  0.   ,  0.   ,  0.   ,  0.   ,\n",
       "          0.   ,  0.   ,  0.   ,  0.   ,  0.   ,  0.   ,  0.   ,  0.   ]],\n",
       "\n",
       "       [[ 0.   ,  0.   ,  0.   ,  0.   ,  0.   ,  0.   ,  0.   ,  0.   ,\n",
       "          0.   ,  0.   ,  0.   ,  0.   ,  0.   ,  0.   ,  0.   ,  0.   ]]],\n",
       "      dtype=float32)"
      ]
     },
     "execution_count": 23,
     "metadata": {},
     "output_type": "execute_result"
    }
   ],
   "source": [
    "(test_latent_mean - orig_latent_mean).abs().cpu().numpy()"
   ]
  },
  {
   "cell_type": "code",
   "execution_count": 24,
   "id": "1a858d05",
   "metadata": {},
   "outputs": [
    {
     "data": {
      "text/plain": [
       "array([[[  0.356,   0.795,  11.999,   0.024,   7.908,   0.496,  16.609,\n",
       "           1.412,  21.834,   0.807,   0.153,   0.094,   3.312, 306.998,\n",
       "           0.38 ,   1.113]],\n",
       "\n",
       "       [[  0.   ,   0.   ,   0.   ,   0.   ,   0.   ,   0.   ,   0.   ,\n",
       "           0.   ,   0.   ,   0.   ,   0.   ,   0.   ,   0.   ,   0.   ,\n",
       "           0.   ,   0.   ]],\n",
       "\n",
       "       [[  0.   ,   0.   ,   0.   ,   0.   ,   0.   ,   0.   ,   0.   ,\n",
       "           0.   ,   0.   ,   0.   ,   0.   ,   0.   ,   0.   ,   0.   ,\n",
       "           0.   ,   0.   ]],\n",
       "\n",
       "       [[  0.   ,   0.   ,   0.   ,   0.   ,   0.   ,   0.   ,   0.   ,\n",
       "           0.   ,   0.   ,   0.   ,   0.   ,   0.   ,   0.   ,   0.   ,\n",
       "           0.   ,   0.   ]]], dtype=float32)"
      ]
     },
     "execution_count": 24,
     "metadata": {},
     "output_type": "execute_result"
    }
   ],
   "source": [
    "(test_latent_var - orig_latent_var).abs().cpu().numpy()"
   ]
  },
  {
   "cell_type": "code",
   "execution_count": 25,
   "id": "157aa377",
   "metadata": {},
   "outputs": [
    {
     "data": {
      "text/plain": [
       "tensor([[[7.5234e-01, 3.4260e+00, 1.6040e+01, 3.3177e+00, 1.2845e+01,\n",
       "          5.1072e-01, 2.0143e+01, 2.9457e+00, 2.2482e+01, 6.4228e-01,\n",
       "          6.0116e-02, 1.2257e+01, 1.4659e+01, 3.1598e+02, 1.9931e+00,\n",
       "          6.6338e-01]],\n",
       "\n",
       "        [[1.6276e+00, 1.1697e+01, 7.2549e+00, 5.0579e+00, 8.2124e+01,\n",
       "          2.0954e+00, 3.2650e+00, 1.8460e+00, 2.1242e-01, 8.2481e-01,\n",
       "          5.5610e-01, 1.9956e+00, 3.4243e+00, 1.1983e+00, 1.2366e+00,\n",
       "          2.4388e+00]],\n",
       "\n",
       "        [[1.2071e+00, 3.7182e+00, 1.1755e+00, 6.0099e+01, 1.5922e+00,\n",
       "          2.1593e+00, 3.5356e+00, 2.2255e+01, 6.9852e-01, 3.6030e+00,\n",
       "          8.8311e-01, 3.7718e+00, 5.8335e+00, 1.9276e+00, 2.2888e-01,\n",
       "          6.8698e-01]],\n",
       "\n",
       "        [[5.7094e-01, 1.7695e+00, 2.5251e+00, 1.4937e+00, 1.7387e+00,\n",
       "          4.1649e+00, 4.5024e+00, 4.0388e+00, 6.7093e-01, 4.2034e+00,\n",
       "          7.0787e-01, 2.4952e+00, 6.5692e+00, 1.1765e+00, 1.0612e+00,\n",
       "          3.1963e+01]]], device='cuda:0')"
      ]
     },
     "execution_count": 25,
     "metadata": {},
     "output_type": "execute_result"
    }
   ],
   "source": [
    "test_latent_var"
   ]
  },
  {
   "cell_type": "code",
   "execution_count": 26,
   "id": "8271ee9c",
   "metadata": {},
   "outputs": [
    {
     "data": {
      "text/plain": [
       "tensor([[[ 0.3959,  2.6307,  4.0406,  3.2942,  4.9369,  1.0066,  3.5348,\n",
       "           1.5339,  0.6476,  1.4489,  0.2135, 12.3513, 11.3469,  8.9843,\n",
       "           2.3730,  1.7761]],\n",
       "\n",
       "        [[ 1.6276, 11.6972,  7.2549,  5.0579, 82.1245,  2.0954,  3.2650,\n",
       "           1.8460,  0.2124,  0.8248,  0.5561,  1.9956,  3.4243,  1.1983,\n",
       "           1.2366,  2.4388]],\n",
       "\n",
       "        [[ 1.2071,  3.7182,  1.1755, 60.0988,  1.5922,  2.1593,  3.5356,\n",
       "          22.2551,  0.6985,  3.6030,  0.8831,  3.7718,  5.8335,  1.9276,\n",
       "           0.2289,  0.6870]],\n",
       "\n",
       "        [[ 0.5709,  1.7695,  2.5251,  1.4937,  1.7387,  4.1649,  4.5024,\n",
       "           4.0388,  0.6709,  4.2034,  0.7079,  2.4952,  6.5692,  1.1765,\n",
       "           1.0612, 31.9628]]], device='cuda:0')"
      ]
     },
     "execution_count": 26,
     "metadata": {},
     "output_type": "execute_result"
    }
   ],
   "source": [
    "orig_latent_var"
   ]
  },
  {
   "cell_type": "code",
   "execution_count": 27,
   "id": "4887ab4e",
   "metadata": {},
   "outputs": [],
   "source": [
    "abnormal_idx = np.where(np.abs(sensors_set - orig_sensors_set) > 0.5)"
   ]
  },
  {
   "cell_type": "code",
   "execution_count": 28,
   "id": "6e8e969b",
   "metadata": {},
   "outputs": [
    {
     "data": {
      "text/plain": [
       "(array([  6359,   7282,   7861,  10877,  18195,  20239,  20239,  22348,\n",
       "         22348,  23255,  28222,  28222,  28222,  31384,  31384,  32200,\n",
       "         32200,  36783,  40562,  43777,  43777,  46872,  47596,  49206,\n",
       "         49206,  54548,  54548,  54548,  57452,  61673,  61673,  64080,\n",
       "         65461,  65461,  71214,  71214,  71733,  71733,  75343,  75343,\n",
       "         75343,  76828,  80736,  83577,  83577,  88961,  88961,  99868,\n",
       "        105754, 105754, 110690, 110690, 110970, 115034, 115962, 115962,\n",
       "        120417, 123952, 126027, 128826, 128826, 129269, 130274, 130274,\n",
       "        130299, 130299, 142657, 146754, 148496, 148496, 149746, 150588,\n",
       "        161092, 171772, 185709, 186262, 192433, 198430, 199022, 199022,\n",
       "        199606, 199606, 199606, 207450, 207450, 208368, 208368, 208368,\n",
       "        209362, 209362, 213657, 213657, 213657, 217936, 220533, 222209,\n",
       "        222968, 223023, 224902, 234968, 234968, 237943, 244524, 244524,\n",
       "        254902, 254902, 255413, 258481, 258481, 258481, 266078, 273589,\n",
       "        273589, 273589, 274543, 274543, 278751, 287201, 290529, 290529,\n",
       "        291603, 291603, 300526, 300867, 300867, 305681, 305681, 306283,\n",
       "        306283, 307844, 307844, 308854, 308854, 308854, 309477, 311990,\n",
       "        311990, 313799, 314534, 314534, 315219, 315219, 315296, 329120,\n",
       "        329120, 339065, 339065, 341494, 342443, 342443, 342939, 342939,\n",
       "        345922, 345922, 346676, 348420, 348420, 348420, 349376, 353432,\n",
       "        353433, 353434, 356293, 356298]),\n",
       " array([2, 3, 3, 3, 1, 2, 2, 3, 3, 0, 1, 1, 1, 1, 1, 3, 3, 1, 3, 2, 2, 1,\n",
       "        3, 0, 0, 1, 1, 1, 0, 1, 1, 2, 1, 1, 0, 0, 2, 2, 1, 1, 1, 0, 0, 1,\n",
       "        1, 2, 2, 0, 3, 3, 0, 0, 1, 0, 2, 2, 3, 2, 3, 1, 1, 2, 3, 3, 0, 0,\n",
       "        1, 0, 1, 1, 1, 0, 0, 0, 3, 1, 2, 2, 1, 1, 2, 2, 2, 1, 1, 2, 2, 2,\n",
       "        2, 2, 2, 2, 2, 0, 3, 3, 3, 2, 3, 3, 3, 3, 3, 3, 2, 2, 2, 0, 0, 0,\n",
       "        2, 3, 3, 3, 1, 1, 1, 1, 3, 3, 1, 1, 2, 0, 0, 2, 2, 2, 2, 2, 2, 2,\n",
       "        2, 2, 0, 3, 3, 1, 1, 1, 2, 2, 1, 3, 3, 3, 3, 1, 0, 0, 2, 2, 2, 2,\n",
       "        1, 2, 2, 2, 2, 0, 0, 0, 0, 0]),\n",
       " array([2, 0, 1, 1, 2, 1, 2, 0, 2, 0, 0, 1, 2, 0, 2, 1, 2, 1, 0, 0, 1, 1,\n",
       "        0, 0, 1, 0, 1, 2, 1, 0, 2, 2, 0, 2, 1, 2, 0, 2, 0, 1, 2, 1, 1, 0,\n",
       "        2, 0, 2, 1, 1, 2, 1, 2, 2, 1, 1, 2, 2, 1, 2, 0, 1, 2, 1, 2, 1, 2,\n",
       "        1, 1, 1, 2, 0, 1, 2, 0, 1, 0, 0, 2, 1, 2, 0, 1, 2, 1, 2, 0, 1, 2,\n",
       "        1, 2, 0, 1, 2, 1, 0, 0, 0, 1, 1, 1, 2, 1, 1, 2, 0, 2, 2, 0, 1, 2,\n",
       "        1, 0, 1, 2, 1, 2, 1, 0, 1, 2, 1, 2, 1, 1, 2, 1, 2, 1, 2, 1, 2, 0,\n",
       "        1, 2, 1, 0, 1, 1, 0, 2, 1, 2, 1, 1, 2, 1, 2, 2, 0, 1, 0, 2, 1, 2,\n",
       "        2, 0, 1, 2, 0, 0, 0, 0, 1, 0]))"
      ]
     },
     "execution_count": 28,
     "metadata": {},
     "output_type": "execute_result"
    }
   ],
   "source": [
    "abnormal_idx"
   ]
  },
  {
   "cell_type": "code",
   "execution_count": null,
   "id": "88c6efa7",
   "metadata": {},
   "outputs": [],
   "source": []
  },
  {
   "cell_type": "code",
   "execution_count": null,
   "id": "84d51ae5",
   "metadata": {},
   "outputs": [],
   "source": []
  }
 ],
 "metadata": {
  "kernelspec": {
   "display_name": "Python 3",
   "language": "python",
   "name": "python3"
  },
  "language_info": {
   "codemirror_mode": {
    "name": "ipython",
    "version": 3
   },
   "file_extension": ".py",
   "mimetype": "text/x-python",
   "name": "python",
   "nbconvert_exporter": "python",
   "pygments_lexer": "ipython3",
   "version": "3.6.13"
  }
 },
 "nbformat": 4,
 "nbformat_minor": 5
}
