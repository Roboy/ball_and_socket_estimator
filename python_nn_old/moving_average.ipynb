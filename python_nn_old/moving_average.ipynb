{
 "cells": [
  {
   "cell_type": "code",
   "execution_count": 1,
   "id": "2786f2f3",
   "metadata": {},
   "outputs": [],
   "source": [
    "from scipy import signal\n",
    "import numpy as np\n",
    "import matplotlib.pyplot as plt\n",
    "\n",
    "rng = np.random.default_rng()\n",
    "t = np.linspace(-1, 1, 201)\n",
    "x = (np.sin(2*np.pi*0.75*t*(1-t) + 2.1) +\n",
    "     0.1*np.sin(2*np.pi*1.25*t + 1) +\n",
    "     0.18*np.cos(2*np.pi*3.85*t))\n",
    "xn = x + rng.standard_normal(len(t)) * 0.08"
   ]
  },
  {
   "cell_type": "code",
   "execution_count": 2,
   "id": "433ad7df",
   "metadata": {},
   "outputs": [],
   "source": [
    "b, a = signal.butter(3, 0.05)"
   ]
  },
  {
   "cell_type": "code",
   "execution_count": 3,
   "id": "ba20fb86",
   "metadata": {},
   "outputs": [],
   "source": [
    "zi = signal.lfilter_zi(b, a)\n",
    "z, _ = signal.lfilter(b, a, xn, zi=zi*xn[0])"
   ]
  },
  {
   "cell_type": "code",
   "execution_count": 4,
   "id": "2c6800de",
   "metadata": {},
   "outputs": [],
   "source": [
    "z2, _ = signal.lfilter(b, a, z, zi=zi*z[0])"
   ]
  },
  {
   "cell_type": "code",
   "execution_count": 5,
   "id": "07bb1f58",
   "metadata": {},
   "outputs": [],
   "source": [
    "y = signal.filtfilt(b, a, xn)"
   ]
  },
  {
   "cell_type": "code",
   "execution_count": 6,
   "id": "17674831",
   "metadata": {},
   "outputs": [],
   "source": [
    "def running_mean(x, N):\n",
    "    cumsum = np.cumsum(np.insert(x, 0, 0)) \n",
    "    return (cumsum[N:] - cumsum[:-N]) / float(N)"
   ]
  },
  {
   "cell_type": "code",
   "execution_count": 50,
   "id": "93873923",
   "metadata": {},
   "outputs": [],
   "source": [
    "xn[30] += 3.0\n",
    "xn[50] -= 1.0\n",
    "o = running_mean(xn, 5)"
   ]
  },
  {
   "cell_type": "code",
   "execution_count": 8,
   "id": "5ae6381e",
   "metadata": {},
   "outputs": [],
   "source": [
    "o = np.hstack([xn[:4], o])"
   ]
  },
  {
   "cell_type": "code",
   "execution_count": 9,
   "id": "bd6e8840",
   "metadata": {},
   "outputs": [
    {
     "data": {
      "text/plain": [
       "(201,)"
      ]
     },
     "execution_count": 9,
     "metadata": {},
     "output_type": "execute_result"
    }
   ],
   "source": [
    "o.shape"
   ]
  },
  {
   "cell_type": "code",
   "execution_count": 10,
   "id": "57147e59",
   "metadata": {},
   "outputs": [],
   "source": [
    "def ewma_vectorized_safe(data, alpha, row_size=None, dtype=None, order='C', out=None):\n",
    "    \"\"\"\n",
    "    Reshapes data before calculating EWMA, then iterates once over the rows\n",
    "    to calculate the offset without precision issues\n",
    "    :param data: Input data, will be flattened.\n",
    "    :param alpha: scalar float in range (0,1)\n",
    "        The alpha parameter for the moving average.\n",
    "    :param row_size: int, optional\n",
    "        The row size to use in the computation. High row sizes need higher precision,\n",
    "        low values will impact performance. The optimal value depends on the\n",
    "        platform and the alpha being used. Higher alpha values require lower\n",
    "        row size. Default depends on dtype.\n",
    "    :param dtype: optional\n",
    "        Data type used for calculations. Defaults to float64 unless\n",
    "        data.dtype is float32, then it will use float32.\n",
    "    :param order: {'C', 'F', 'A'}, optional\n",
    "        Order to use when flattening the data. Defaults to 'C'.\n",
    "    :param out: ndarray, or None, optional\n",
    "        A location into which the result is stored. If provided, it must have\n",
    "        the same shape as the desired output. If not provided or `None`,\n",
    "        a freshly-allocated array is returned.\n",
    "    :return: The flattened result.\n",
    "    \"\"\"\n",
    "    data = np.array(data, copy=False)\n",
    "\n",
    "    if dtype is None:\n",
    "        if data.dtype == np.float32:\n",
    "            dtype = np.float32\n",
    "        else:\n",
    "            dtype = np.float\n",
    "    else:\n",
    "        dtype = np.dtype(dtype)\n",
    "\n",
    "    row_size = int(row_size) if row_size is not None else get_max_row_size(alpha, dtype)\n",
    "\n",
    "    if data.size <= row_size:\n",
    "        # The normal function can handle this input, use that\n",
    "        return ewma_vectorized(data, alpha, dtype=dtype, order=order, out=out)\n",
    "\n",
    "    if data.ndim > 1:\n",
    "        # flatten input\n",
    "        data = np.reshape(data, -1, order=order)\n",
    "\n",
    "    if out is None:\n",
    "        out = np.empty_like(data, dtype=dtype)\n",
    "    else:\n",
    "        assert out.shape == data.shape\n",
    "        assert out.dtype == dtype\n",
    "\n",
    "    row_n = int(data.size // row_size)  # the number of rows to use\n",
    "    trailing_n = int(data.size % row_size)  # the amount of data leftover\n",
    "    first_offset = data[0]\n",
    "\n",
    "    if trailing_n > 0:\n",
    "        # set temporary results to slice view of out parameter\n",
    "        out_main_view = np.reshape(out[:-trailing_n], (row_n, row_size))\n",
    "        data_main_view = np.reshape(data[:-trailing_n], (row_n, row_size))\n",
    "    else:\n",
    "        out_main_view = out\n",
    "        data_main_view = data\n",
    "\n",
    "    # get all the scaled cumulative sums with 0 offset\n",
    "    ewma_vectorized_2d(data_main_view, alpha, axis=1, offset=0, dtype=dtype,\n",
    "                       order='C', out=out_main_view)\n",
    "\n",
    "    scaling_factors = (1 - alpha) ** np.arange(1, row_size + 1)\n",
    "    last_scaling_factor = scaling_factors[-1]\n",
    "\n",
    "    # create offset array\n",
    "    offsets = np.empty(out_main_view.shape[0], dtype=dtype)\n",
    "    offsets[0] = first_offset\n",
    "    # iteratively calculate offset for each row\n",
    "    for i in range(1, out_main_view.shape[0]):\n",
    "        offsets[i] = offsets[i - 1] * last_scaling_factor + out_main_view[i - 1, -1]\n",
    "\n",
    "    # add the offsets to the result\n",
    "    out_main_view += offsets[:, np.newaxis] * scaling_factors[np.newaxis, :]\n",
    "\n",
    "    if trailing_n > 0:\n",
    "        # process trailing data in the 2nd slice of the out parameter\n",
    "        ewma_vectorized(data[-trailing_n:], alpha, offset=out_main_view[-1, -1],\n",
    "                        dtype=dtype, order='C', out=out[-trailing_n:])\n",
    "    return out\n",
    "\n",
    "def get_max_row_size(alpha, dtype=float):\n",
    "    assert 0. <= alpha < 1.\n",
    "    # This will return the maximum row size possible on \n",
    "    # your platform for the given dtype. I can find no impact on accuracy\n",
    "    # at this value on my machine.\n",
    "    # Might not be the optimal value for speed, which is hard to predict\n",
    "    # due to numpy's optimizations\n",
    "    # Use np.finfo(dtype).eps if you  are worried about accuracy\n",
    "    # and want to be extra safe.\n",
    "    epsilon = np.finfo(dtype).tiny\n",
    "    # If this produces an OverflowError, make epsilon larger\n",
    "    return int(np.log(epsilon)/np.log(1-alpha)) + 1"
   ]
  },
  {
   "cell_type": "code",
   "execution_count": 11,
   "id": "157ab54d",
   "metadata": {},
   "outputs": [],
   "source": [
    "def ewma_vectorized(data, alpha, offset=None, dtype=None, order='C', out=None):\n",
    "    \"\"\"\n",
    "    Calculates the exponential moving average over a vector.\n",
    "    Will fail for large inputs.\n",
    "    :param data: Input data\n",
    "    :param alpha: scalar float in range (0,1)\n",
    "        The alpha parameter for the moving average.\n",
    "    :param offset: optional\n",
    "        The offset for the moving average, scalar. Defaults to data[0].\n",
    "    :param dtype: optional\n",
    "        Data type used for calculations. Defaults to float64 unless\n",
    "        data.dtype is float32, then it will use float32.\n",
    "    :param order: {'C', 'F', 'A'}, optional\n",
    "        Order to use when flattening the data. Defaults to 'C'.\n",
    "    :param out: ndarray, or None, optional\n",
    "        A location into which the result is stored. If provided, it must have\n",
    "        the same shape as the input. If not provided or `None`,\n",
    "        a freshly-allocated array is returned.\n",
    "    \"\"\"\n",
    "    data = np.array(data, copy=False)\n",
    "\n",
    "    if dtype is None:\n",
    "        if data.dtype == np.float32:\n",
    "            dtype = np.float32\n",
    "        else:\n",
    "            dtype = np.float64\n",
    "    else:\n",
    "        dtype = np.dtype(dtype)\n",
    "\n",
    "    if data.ndim > 1:\n",
    "        # flatten input\n",
    "        data = data.reshape(-1, order)\n",
    "\n",
    "    if out is None:\n",
    "        out = np.empty_like(data, dtype=dtype)\n",
    "    else:\n",
    "        assert out.shape == data.shape\n",
    "        assert out.dtype == dtype\n",
    "\n",
    "    if data.size < 1:\n",
    "        # empty input, return empty array\n",
    "        return out\n",
    "\n",
    "    if offset is None:\n",
    "        offset = data[0]\n",
    "\n",
    "    alpha = np.array(alpha, copy=False).astype(dtype, copy=False)\n",
    "\n",
    "    # scaling_factors -> 0 as len(data) gets large\n",
    "    # this leads to divide-by-zeros below\n",
    "    scaling_factors = np.power(1. - alpha, np.arange(data.size + 1, dtype=dtype),\n",
    "                               dtype=dtype)\n",
    "    # create cumulative sum array\n",
    "    np.multiply(data, (alpha * scaling_factors[-2]) / scaling_factors[:-1],\n",
    "                dtype=dtype, out=out)\n",
    "    np.cumsum(out, dtype=dtype, out=out)\n",
    "\n",
    "    # cumsums / scaling\n",
    "    out /= scaling_factors[-2::-1]\n",
    "\n",
    "    if offset != 0:\n",
    "        offset = np.array(offset, copy=False).astype(dtype, copy=False)\n",
    "        # add offsets\n",
    "        out += offset * scaling_factors[1:]\n",
    "\n",
    "    return out"
   ]
  },
  {
   "cell_type": "code",
   "execution_count": 12,
   "id": "32e64461",
   "metadata": {},
   "outputs": [],
   "source": [
    "def numpy_ewma_vectorized_v2(data, window):\n",
    "\n",
    "    alpha = 2 /(window + 1.0)\n",
    "    alpha_rev = 1-alpha\n",
    "    n = data.shape[0]\n",
    "\n",
    "    pows = alpha_rev**(np.arange(n+1))\n",
    "\n",
    "    scale_arr = 1/pows[:-1]\n",
    "    offset = data[0]*pows[1:]\n",
    "    pw0 = alpha*alpha_rev**(n-1)\n",
    "\n",
    "    mult = data*pw0*scale_arr\n",
    "    cumsums = mult.cumsum()\n",
    "    out = offset + cumsums*scale_arr[::-1]\n",
    "    return out"
   ]
  },
  {
   "cell_type": "code",
   "execution_count": 13,
   "id": "f7894641",
   "metadata": {},
   "outputs": [],
   "source": [
    "alpha = 0.9\n",
    "result = numpy_ewma_vectorized_v2(xn, alpha)"
   ]
  },
  {
   "cell_type": "code",
   "execution_count": null,
   "id": "14b8fd71",
   "metadata": {},
   "outputs": [],
   "source": []
  },
  {
   "cell_type": "code",
   "execution_count": 54,
   "id": "546ef09f",
   "metadata": {},
   "outputs": [],
   "source": [
    "yn = np.copy(xn)"
   ]
  },
  {
   "cell_type": "code",
   "execution_count": 89,
   "id": "e5ccd2be",
   "metadata": {},
   "outputs": [],
   "source": [
    "xn = yn[15:31]"
   ]
  },
  {
   "cell_type": "code",
   "execution_count": 90,
   "id": "e6241d11",
   "metadata": {},
   "outputs": [],
   "source": [
    "import pandas as pd"
   ]
  },
  {
   "cell_type": "code",
   "execution_count": 91,
   "id": "b0da5bfa",
   "metadata": {},
   "outputs": [],
   "source": [
    "xn_rep = np.tile(xn, (2,1))"
   ]
  },
  {
   "cell_type": "code",
   "execution_count": 92,
   "id": "79e807d0",
   "metadata": {
    "scrolled": false
   },
   "outputs": [],
   "source": [
    "dfs = [pd.Series(xn) for xn in xn_rep]"
   ]
  },
  {
   "cell_type": "code",
   "execution_count": 96,
   "id": "081940a5",
   "metadata": {},
   "outputs": [],
   "source": [
    "results = [df.ewm(span=10).mean() for df in dfs]"
   ]
  },
  {
   "cell_type": "code",
   "execution_count": 97,
   "id": "7e3f11bf",
   "metadata": {},
   "outputs": [
    {
     "data": {
      "text/plain": [
       "array([ 0,  1,  2,  3,  4,  5,  6,  7,  8,  9, 10, 11, 12, 13, 14, 15])"
      ]
     },
     "execution_count": 97,
     "metadata": {},
     "output_type": "execute_result"
    }
   ],
   "source": [
    "t"
   ]
  },
  {
   "cell_type": "code",
   "execution_count": 98,
   "id": "a0e8d2ab",
   "metadata": {},
   "outputs": [
    {
     "data": {
      "image/png": "[encoded data removed]",
      "text/plain": [
       "<Figure size 432x288 with 1 Axes>"
      ]
     },
     "metadata": {
      "needs_background": "light"
     },
     "output_type": "display_data"
    }
   ],
   "source": [
    "t = np.arange(xn.shape[0])\n",
    "plt.figure\n",
    "plt.plot(t, xn, 'b', alpha=0.75)\n",
    "plt.plot(t, results[0], 'g')\n",
    "# plt.plot(t, y, 'r', t, o, 'k', t, results[0], 'g')\n",
    "# plt.legend(('noisy signal', 'lfilter, once', 'lfilter, twice',\n",
    "#             'filtfilt'), loc='best')\n",
    "plt.grid(True)\n",
    "plt.show()"
   ]
  },
  {
   "cell_type": "code",
   "execution_count": null,
   "id": "90b5a44c",
   "metadata": {},
   "outputs": [],
   "source": []
  },
  {
   "cell_type": "code",
   "execution_count": null,
   "id": "11b2e7d6",
   "metadata": {},
   "outputs": [],
   "source": []
  }
 ],
 "metadata": {
  "kernelspec": {
   "display_name": "Python 3",
   "language": "python",
   "name": "python3"
  },
  "language_info": {
   "codemirror_mode": {
    "name": "ipython",
    "version": 3
   },
   "file_extension": ".py",
   "mimetype": "text/x-python",
   "name": "python",
   "nbconvert_exporter": "python",
   "pygments_lexer": "ipython3",
   "version": "3.8.8"
  }
 },
 "nbformat": 4,
 "nbformat_minor": 5
}
