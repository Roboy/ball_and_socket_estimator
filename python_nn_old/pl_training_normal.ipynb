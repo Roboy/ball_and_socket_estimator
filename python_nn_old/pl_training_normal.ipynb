{
 "cells": [
  {
   "cell_type": "code",
   "execution_count": 1,
   "id": "8b5c2c62",
   "metadata": {},
   "outputs": [],
   "source": [
    "import numpy as np\n",
    "import pandas as pd\n",
    "import time\n",
    "from scipy import stats\n",
    "from sklearn.preprocessing import MinMaxScaler\n",
    "import joblib\n",
    "import matplotlib.pyplot as plt\n",
    "from mpl_toolkits.mplot3d import Axes3D\n",
    "import seaborn as sns\n",
    "import matplotlib\n",
    "import os\n",
    "\n",
    "%load_ext autoreload\n",
    "%autoreload 2\n",
    "%matplotlib notebook\n",
    "# %matplotlib inline"
   ]
  },
  {
   "cell_type": "code",
   "execution_count": 2,
   "id": "bc783449",
   "metadata": {},
   "outputs": [
    {
     "name": "stdout",
     "output_type": "stream",
     "text": [
      "346086 values\n"
     ]
    }
   ],
   "source": [
    "# body_part = \"head\"\n",
    "# file_names = ['./data/training_data/head_data_1.log',\n",
    "#              './data/training_data/head_data_2.log',\n",
    "#              './data/training_data/head_data_3.log',\n",
    "#              './data/training_data/head_data_4.log',\n",
    "#              './data/training_data/head_data_5.log',\n",
    "#              './data/training_data/head_data_6.log']\n",
    "\n",
    "body_part = \"shoulder_right\"\n",
    "file_names = [\n",
    "             './data/training_data/shoulder_right_data_6.log',\n",
    "             './data/training_data/shoulder_right_data_7.log',\n",
    "             './data/training_data/shoulder_right_data_8.log',\n",
    "             './data/training_data/shoulder_right_data_9.log',\n",
    "             './data/training_data/shoulder_right_data_14.log',\n",
    "             './data/training_data/shoulder_right_data_15.log',\n",
    "             './data/training_data/shoulder_right_data_16.log',\n",
    "             './data/training_data/shoulder_right_data_17.log']\n",
    "\n",
    "# body_part = \"shoulder_left\"\n",
    "# file_names = ['./data/training_data/shoulder_left_data_1.log',\n",
    "#               './data/training_data/shoulder_left_data_2.log',\n",
    "#               './data/training_data/shoulder_left_data_3.log']\n",
    "\n",
    "dataset = [pd.read_csv(f, delim_whitespace=True, header=0) for f in file_names]\n",
    "# dataset = [data[(np.abs(stats.zscore(data[[\"mx0\", \"my0\", \"mz0\"]])) < 2.75).all(axis=1)] for data in dataset]\n",
    "# dataset = [data[(np.abs(stats.zscore(data[[\"mx1\", \"my1\", \"mz1\"]])) < 2.75).all(axis=1)] for data in dataset]\n",
    "# dataset = [data[(np.abs(stats.zscore(data[[\"mx2\", \"my2\", \"mz3\"]])) < 2.75).all(axis=1)] for data in dataset]\n",
    "# dataset = [data[(np.abs(stats.zscore(data[[\"mx3\", \"my3\", \"mz3.1\"]])) < 2.75).all(axis=1)] for data in dataset]\n",
    "dataset = [data[(np.abs(stats.zscore(data[[\"roll\", \"pitch\", \"yaw\"]])) < 2.75).all(axis=1)] for data in dataset]\n",
    "dataset_len = [len(data) for data in dataset]\n",
    "dataset = pd.concat(dataset)\n",
    "\n",
    "print('%d values'%(len(dataset)))"
   ]
  },
  {
   "cell_type": "code",
   "execution_count": 3,
   "id": "2b665a7c",
   "metadata": {},
   "outputs": [
    {
     "data": {
      "text/plain": [
       "[8241, 67523, 37184, 57790, 12928, 12195, 7290, 142935]"
      ]
     },
     "execution_count": 3,
     "metadata": {},
     "output_type": "execute_result"
    }
   ],
   "source": [
    "dataset_len"
   ]
  },
  {
   "cell_type": "code",
   "execution_count": 4,
   "id": "4aee86e3",
   "metadata": {},
   "outputs": [
    {
     "name": "stdout",
     "output_type": "stream",
     "text": [
      "346084 values after filtering outliers\n",
      "max euler 1.411555809406252\n",
      "min euler -2.2710370734661414\n"
     ]
    }
   ],
   "source": [
    "dataset = dataset.values[1:len(dataset)-1,0:]\n",
    "# np.random.shuffle(dataset)\n",
    "\n",
    "dataset = dataset[abs(dataset[:,12])!=0.0,:]\n",
    "dataset = dataset[abs(dataset[:,13])!=0.0,:]\n",
    "dataset = dataset[abs(dataset[:,14])!=0.0,:]\n",
    "print('%d values after filtering outliers'%(len(dataset)))\n",
    "\n",
    "euler_set = dataset[:, 12:15]\n",
    "print('max euler ' + str(np.amax(euler_set)))\n",
    "print('min euler ' + str(np.amin(euler_set)))\n",
    "sensors_set = dataset[:, :12]"
   ]
  },
  {
   "cell_type": "code",
   "execution_count": 5,
   "id": "0364368a",
   "metadata": {},
   "outputs": [],
   "source": [
    "from tools import *"
   ]
  },
  {
   "cell_type": "code",
   "execution_count": 6,
   "id": "7f19d199",
   "metadata": {},
   "outputs": [],
   "source": [
    "sin_cos_set = np.hstack([np.sin(euler_set), np.cos(euler_set)])"
   ]
  },
  {
   "cell_type": "code",
   "execution_count": 7,
   "id": "c1737114",
   "metadata": {},
   "outputs": [],
   "source": [
    "sensors_scaler = MinMaxScaler(feature_range=(-1., 1.))\n",
    "sensors_set = sensors_scaler.fit_transform(sensors_set)"
   ]
  },
  {
   "cell_type": "code",
   "execution_count": 8,
   "id": "90a680c1",
   "metadata": {},
   "outputs": [
    {
     "name": "stdout",
     "output_type": "stream",
     "text": [
      "8221\n",
      "75724\n",
      "112888\n",
      "170658\n",
      "183566\n",
      "195741\n",
      "203011\n",
      "345926\n"
     ]
    }
   ],
   "source": [
    "look_back = 10\n",
    "\n",
    "data_in = []\n",
    "data_out = []\n",
    "\n",
    "start_idx = 0\n",
    "for l in dataset_len:\n",
    "    # Ignore the last batch\n",
    "    for i in range(start_idx, start_idx+l-look_back*2):\n",
    "        data_in.append(sensors_set[i:i+look_back])\n",
    "        data_out.append(sin_cos_set[i+1:i+look_back+1])\n",
    "    print(len(data_in))\n",
    "    start_idx += l"
   ]
  },
  {
   "cell_type": "code",
   "execution_count": 9,
   "id": "ede02746",
   "metadata": {},
   "outputs": [],
   "source": [
    "import torch\n",
    "import torch.nn as nn\n",
    "\n",
    "from torch.utils.data import Dataset, DataLoader\n",
    "\n",
    "import pytorch_lightning as pl\n",
    "from pytorch_lightning import Trainer, seed_everything\n",
    "from pytorch_lightning.loggers.csv_logs import CSVLogger\n",
    "from pytorch_lightning.callbacks import ModelCheckpoint"
   ]
  },
  {
   "cell_type": "code",
   "execution_count": 10,
   "id": "012dcdae",
   "metadata": {},
   "outputs": [],
   "source": [
    "class SensorsDataset(Dataset):   \n",
    "    '''\n",
    "    Custom Dataset subclass. \n",
    "    Serves as input to DataLoader to transform X \n",
    "      into sequence data using rolling window. \n",
    "    DataLoader using this dataset will output batches \n",
    "      of `(batch_size, seq_len, n_features)` shape.\n",
    "    Suitable as an input to RNNs. \n",
    "    '''\n",
    "    def __init__(self, X: np.ndarray, y: np.ndarray):\n",
    "        self.X = torch.tensor(X).float()\n",
    "        self.y = torch.tensor(y).float()\n",
    "\n",
    "    def __len__(self):\n",
    "        return self.X.__len__()\n",
    "\n",
    "    def __getitem__(self, index):\n",
    "        return (self.X[index], self.y[index])"
   ]
  },
  {
   "cell_type": "code",
   "execution_count": 11,
   "id": "59100cb0",
   "metadata": {},
   "outputs": [],
   "source": [
    "class SensorsDataModule(pl.LightningDataModule):\n",
    "    '''\n",
    "    PyTorch Lighting DataModule subclass:\n",
    "    https://pytorch-lightning.readthedocs.io/en/latest/datamodules.html\n",
    "\n",
    "    Serves the purpose of aggregating all data loading \n",
    "      and processing work in one place.\n",
    "    '''\n",
    "    \n",
    "    def __init__(self, seq_len = 1, batch_size = 128, num_workers=0):\n",
    "        super().__init__()\n",
    "        self.seq_len = seq_len\n",
    "        self.batch_size = batch_size\n",
    "        self.num_workers = num_workers\n",
    "        self.X_train = None\n",
    "        self.y_train = None\n",
    "        self.X_val = None\n",
    "        self.y_val = None\n",
    "        self.X_test = None\n",
    "        self.X_test = None\n",
    "        self.columns = None\n",
    "        self.preprocessing = None\n",
    "\n",
    "    def prepare_data(self):\n",
    "        pass\n",
    "\n",
    "    def setup(self, stage=None):\n",
    "        '''\n",
    "        Data is resampled to hourly intervals.\n",
    "        Both 'np.nan' and '?' are converted to 'np.nan'\n",
    "        'Date' and 'Time' columns are merged into 'dt' index\n",
    "        '''\n",
    "\n",
    "        if stage == 'fit' and self.X_train is not None:\n",
    "            return \n",
    "        if stage == 'test' and self.X_test is not None:\n",
    "            return\n",
    "        if stage is None and self.X_train is not None and self.X_test is not None:  \n",
    "            return\n",
    "        \n",
    "        data_split = 0.8\n",
    "        data_idx = np.arange(len(data_in))\n",
    "        np.random.shuffle(data_idx)\n",
    "        split_idx = int(len(data_in)*data_split)\n",
    "\n",
    "        if stage == 'fit' or stage is None:\n",
    "            self.X_train = np.array(data_in)[data_idx[:split_idx]]\n",
    "            self.y_train = np.array(data_out)[data_idx[:split_idx]]\n",
    "            self.X_val = np.array(data_in)[data_idx[split_idx:]]\n",
    "            self.y_val = np.array(data_out)[data_idx[split_idx:]]\n",
    "            \n",
    "        if stage == 'test' or stage is None:\n",
    "            self.X_test = np.array(data_in)[data_idx[split_idx:]]\n",
    "            self.y_test = np.array(data_out)[data_idx[split_idx:]]\n",
    "        \n",
    "\n",
    "    def train_dataloader(self):\n",
    "        train_dataset = SensorsDataset(self.X_train, \n",
    "                                       self.y_train)\n",
    "        train_loader = DataLoader(train_dataset, \n",
    "                                  batch_size = self.batch_size, \n",
    "                                  shuffle = False, \n",
    "                                  num_workers = self.num_workers)\n",
    "        \n",
    "        return train_loader\n",
    "\n",
    "    def val_dataloader(self):\n",
    "        val_dataset = SensorsDataset(self.X_val, \n",
    "                                     self.y_val)\n",
    "        val_loader = DataLoader(val_dataset, \n",
    "                                batch_size = self.batch_size, \n",
    "                                shuffle = False, \n",
    "                                num_workers = self.num_workers)\n",
    "\n",
    "        return val_loader\n",
    "\n",
    "    def test_dataloader(self):\n",
    "        test_dataset = SensorsDataset(self.X_test, \n",
    "                                      self.y_test)\n",
    "        test_loader = DataLoader(test_dataset, \n",
    "                                 batch_size = self.batch_size, \n",
    "                                 shuffle = False, \n",
    "                                 num_workers = self.num_workers)\n",
    "\n",
    "        return test_loader"
   ]
  },
  {
   "cell_type": "code",
   "execution_count": 12,
   "id": "e518edc9",
   "metadata": {},
   "outputs": [],
   "source": [
    "class LSTMRegressor(pl.LightningModule):\n",
    "    '''\n",
    "    Standard PyTorch Lightning module:\n",
    "    https://pytorch-lightning.readthedocs.io/en/latest/lightning_module.html\n",
    "    '''\n",
    "    def __init__(self, \n",
    "                 n_features, \n",
    "                 hidden_size, \n",
    "                 seq_len, \n",
    "                 batch_size,\n",
    "                 num_layers, \n",
    "                 dropout, \n",
    "                 learning_rate,\n",
    "                 criterion):\n",
    "        super(LSTMRegressor, self).__init__()\n",
    "        self.n_features = n_features\n",
    "        self.hidden_size = hidden_size\n",
    "        self.seq_len = seq_len\n",
    "        self.batch_size = batch_size\n",
    "        self.num_layers = num_layers\n",
    "        self.dropout = dropout\n",
    "        self.criterion = criterion\n",
    "        self.learning_rate = learning_rate\n",
    "\n",
    "        self.lstm = nn.LSTM(input_size=n_features, \n",
    "                            hidden_size=hidden_size,\n",
    "                            num_layers=num_layers, \n",
    "                            dropout=dropout, \n",
    "                            batch_first=True)\n",
    "        self.linear = nn.Linear(hidden_size, 6)\n",
    "        self.tanh = nn.Tanh()\n",
    "        \n",
    "    def forward(self, x):\n",
    "        batch_size, seq_len, _ = x.size()\n",
    "               \n",
    "        # Propagate input through LSTM\n",
    "        ula, _ = self.lstm(x)\n",
    "        lstm_out = ula.contiguous().view(-1, self.hidden_size)\n",
    "        \n",
    "        out = self.linear(lstm_out)\n",
    "        out = self.tanh(out)\n",
    "        out = out.view(batch_size, seq_len, 6)\n",
    "        \n",
    "        return out\n",
    "    \n",
    "    def configure_optimizers(self):\n",
    "        return torch.optim.Adam(self.parameters(), lr=self.learning_rate)\n",
    "\n",
    "    def training_step(self, batch, batch_idx):\n",
    "        x, y = batch\n",
    "        y_hat = self(x)\n",
    "        loss = self.criterion(y_hat, y)\n",
    "        self.log('train_loss', loss)\n",
    "        return loss\n",
    "\n",
    "    def validation_step(self, batch, batch_idx):\n",
    "        x, y = batch\n",
    "        y_hat = self(x)\n",
    "        loss = self.criterion(y_hat, y)\n",
    "        self.log('val_loss', loss)\n",
    "        return loss\n",
    "    \n",
    "    def test_step(self, batch, batch_idx):\n",
    "        x, y = batch\n",
    "        y_hat = self(x)\n",
    "        loss = self.criterion(y_hat, y)\n",
    "        self.log('test_loss', loss)\n",
    "        return loss"
   ]
  },
  {
   "cell_type": "code",
   "execution_count": 13,
   "id": "1db6ba1b",
   "metadata": {},
   "outputs": [],
   "source": [
    "def mse_seq(x, y):\n",
    "    return torch.square(x - y).sum(-1).mean()"
   ]
  },
  {
   "cell_type": "code",
   "execution_count": 14,
   "id": "75399329",
   "metadata": {},
   "outputs": [],
   "source": [
    "p = dict(\n",
    "    seq_len = 10,\n",
    "    batch_size = 1000, \n",
    "    criterion = mse_seq,\n",
    "    max_epochs = 1000,\n",
    "    n_features = 12,\n",
    "    hidden_size = 100,\n",
    "    num_layers = 2,\n",
    "    dropout = 0.0,\n",
    "    learning_rate = 5e-4,\n",
    ")"
   ]
  },
  {
   "cell_type": "code",
   "execution_count": 15,
   "id": "a6f888a4",
   "metadata": {},
   "outputs": [
    {
     "name": "stderr",
     "output_type": "stream",
     "text": [
      "Global seed set to 1\n",
      "/home/thobotics/anaconda3/envs/tum/lib/python3.6/site-packages/pytorch_lightning/trainer/connectors/callback_connector.py:91: LightningDeprecationWarning: Setting `Trainer(progress_bar_refresh_rate=2)` is deprecated in v1.5 and will be removed in v1.7. Please pass `pytorch_lightning.callbacks.progress.TQDMProgressBar` with `refresh_rate` directly to the Trainer's `callbacks` argument instead. Or, to disable the progress bar pass `enable_progress_bar = False` to the Trainer.\n",
      "  f\"Setting `Trainer(progress_bar_refresh_rate={progress_bar_refresh_rate})` is deprecated in v1.5 and\"\n",
      "GPU available: True, used: True\n",
      "TPU available: False, using: 0 TPU cores\n",
      "IPU available: False, using: 0 IPUs\n",
      "LOCAL_RANK: 0 - CUDA_VISIBLE_DEVICES: [0]\n",
      "/home/thobotics/anaconda3/envs/tum/lib/python3.6/site-packages/pytorch_lightning/loggers/csv_logs.py:58: UserWarning: Experiment logs directory ./lstm_normal/0 exists and is not empty. Previous log files in this directory will be deleted when the new ones are saved!\n",
      "  f\"Experiment logs directory {self.log_dir} exists and is not empty.\"\n",
      "\n",
      "  | Name   | Type   | Params\n",
      "----------------------------------\n",
      "0 | lstm   | LSTM   | 126 K \n",
      "1 | linear | Linear | 606   \n",
      "2 | tanh   | Tanh   | 0     \n",
      "----------------------------------\n",
      "127 K     Trainable params\n",
      "0         Non-trainable params\n",
      "127 K     Total params\n",
      "0.508     Total estimated model params size (MB)\n",
      "/home/thobotics/anaconda3/envs/tum/lib/python3.6/site-packages/pytorch_lightning/callbacks/model_checkpoint.py:617: UserWarning: Checkpoint directory /home/thobotics/roboy_nn/RoboyData-20211110T134625Z-001/RoboyData/ball_in_socket_estimator/python/lstm_normal exists and is not empty.\n",
      "  rank_zero_warn(f\"Checkpoint directory {dirpath} exists and is not empty.\")\n"
     ]
    },
    {
     "data": {
      "application/vnd.jupyter.widget-view+json": {
       "model_id": "",
       "version_major": 2,
       "version_minor": 0
      },
      "text/plain": [
       "Validation sanity check: 0it [00:00, ?it/s]"
      ]
     },
     "metadata": {},
     "output_type": "display_data"
    },
    {
     "name": "stderr",
     "output_type": "stream",
     "text": [
      "/home/thobotics/anaconda3/envs/tum/lib/python3.6/site-packages/pytorch_lightning/trainer/data_loading.py:111: UserWarning: The dataloader, val_dataloader 0, does not have many workers which may be a bottleneck. Consider increasing the value of the `num_workers` argument` (try 8 which is the number of cpus on this machine) in the `DataLoader` init to improve performance.\n",
      "  f\"The dataloader, {name}, does not have many workers which may be a bottleneck.\"\n",
      "Global seed set to 1\n",
      "/home/thobotics/anaconda3/envs/tum/lib/python3.6/site-packages/pytorch_lightning/trainer/data_loading.py:111: UserWarning: The dataloader, train_dataloader, does not have many workers which may be a bottleneck. Consider increasing the value of the `num_workers` argument` (try 8 which is the number of cpus on this machine) in the `DataLoader` init to improve performance.\n",
      "  f\"The dataloader, {name}, does not have many workers which may be a bottleneck.\"\n"
     ]
    },
    {
     "data": {
      "application/vnd.jupyter.widget-view+json": {
       "model_id": "6a0f1dd7419144388da0b85c2786ab85",
       "version_major": 2,
       "version_minor": 0
      },
      "text/plain": [
       "Training: 0it [00:00, ?it/s]"
      ]
     },
     "metadata": {},
     "output_type": "display_data"
    },
    {
     "data": {
      "application/vnd.jupyter.widget-view+json": {
       "model_id": "",
       "version_major": 2,
       "version_minor": 0
      },
      "text/plain": [
       "Validating: 0it [00:00, ?it/s]"
      ]
     },
     "metadata": {},
     "output_type": "display_data"
    },
    {
     "data": {
      "application/vnd.jupyter.widget-view+json": {
       "model_id": "",
       "version_major": 2,
       "version_minor": 0
      },
      "text/plain": [
       "Validating: 0it [00:00, ?it/s]"
      ]
     },
     "metadata": {},
     "output_type": "display_data"
    },
    {
     "data": {
      "application/vnd.jupyter.widget-view+json": {
       "model_id": "",
       "version_major": 2,
       "version_minor": 0
      },
      "text/plain": [
       "Validating: 0it [00:00, ?it/s]"
      ]
     },
     "metadata": {},
     "output_type": "display_data"
    },
    {
     "data": {
      "application/vnd.jupyter.widget-view+json": {
       "model_id": "",
       "version_major": 2,
       "version_minor": 0
      },
      "text/plain": [
       "Validating: 0it [00:00, ?it/s]"
      ]
     },
     "metadata": {},
     "output_type": "display_data"
    },
    {
     "data": {
      "application/vnd.jupyter.widget-view+json": {
       "model_id": "",
       "version_major": 2,
       "version_minor": 0
      },
      "text/plain": [
       "Validating: 0it [00:00, ?it/s]"
      ]
     },
     "metadata": {},
     "output_type": "display_data"
    },
    {
     "data": {
      "application/vnd.jupyter.widget-view+json": {
       "model_id": "",
       "version_major": 2,
       "version_minor": 0
      },
      "text/plain": [
       "Validating: 0it [00:00, ?it/s]"
      ]
     },
     "metadata": {},
     "output_type": "display_data"
    },
    {
     "data": {
      "application/vnd.jupyter.widget-view+json": {
       "model_id": "",
       "version_major": 2,
       "version_minor": 0
      },
      "text/plain": [
       "Validating: 0it [00:00, ?it/s]"
      ]
     },
     "metadata": {},
     "output_type": "display_data"
    },
    {
     "data": {
      "application/vnd.jupyter.widget-view+json": {
       "model_id": "",
       "version_major": 2,
       "version_minor": 0
      },
      "text/plain": [
       "Validating: 0it [00:00, ?it/s]"
      ]
     },
     "metadata": {},
     "output_type": "display_data"
    },
    {
     "data": {
      "application/vnd.jupyter.widget-view+json": {
       "model_id": "",
       "version_major": 2,
       "version_minor": 0
      },
      "text/plain": [
       "Validating: 0it [00:00, ?it/s]"
      ]
     },
     "metadata": {},
     "output_type": "display_data"
    },
    {
     "data": {
      "application/vnd.jupyter.widget-view+json": {
       "model_id": "",
       "version_major": 2,
       "version_minor": 0
      },
      "text/plain": [
       "Validating: 0it [00:00, ?it/s]"
      ]
     },
     "metadata": {},
     "output_type": "display_data"
    },
    {
     "data": {
      "application/vnd.jupyter.widget-view+json": {
       "model_id": "",
       "version_major": 2,
       "version_minor": 0
      },
      "text/plain": [
       "Validating: 0it [00:00, ?it/s]"
      ]
     },
     "metadata": {},
     "output_type": "display_data"
    },
    {
     "data": {
      "application/vnd.jupyter.widget-view+json": {
       "model_id": "",
       "version_major": 2,
       "version_minor": 0
      },
      "text/plain": [
       "Validating: 0it [00:00, ?it/s]"
      ]
     },
     "metadata": {},
     "output_type": "display_data"
    },
    {
     "data": {
      "application/vnd.jupyter.widget-view+json": {
       "model_id": "",
       "version_major": 2,
       "version_minor": 0
      },
      "text/plain": [
       "Validating: 0it [00:00, ?it/s]"
      ]
     },
     "metadata": {},
     "output_type": "display_data"
    },
    {
     "data": {
      "application/vnd.jupyter.widget-view+json": {
       "model_id": "",
       "version_major": 2,
       "version_minor": 0
      },
      "text/plain": [
       "Validating: 0it [00:00, ?it/s]"
      ]
     },
     "metadata": {},
     "output_type": "display_data"
    },
    {
     "data": {
      "application/vnd.jupyter.widget-view+json": {
       "model_id": "",
       "version_major": 2,
       "version_minor": 0
      },
      "text/plain": [
       "Validating: 0it [00:00, ?it/s]"
      ]
     },
     "metadata": {},
     "output_type": "display_data"
    },
    {
     "data": {
      "application/vnd.jupyter.widget-view+json": {
       "model_id": "",
       "version_major": 2,
       "version_minor": 0
      },
      "text/plain": [
       "Validating: 0it [00:00, ?it/s]"
      ]
     },
     "metadata": {},
     "output_type": "display_data"
    },
    {
     "data": {
      "application/vnd.jupyter.widget-view+json": {
       "model_id": "",
       "version_major": 2,
       "version_minor": 0
      },
      "text/plain": [
       "Validating: 0it [00:00, ?it/s]"
      ]
     },
     "metadata": {},
     "output_type": "display_data"
    },
    {
     "data": {
      "application/vnd.jupyter.widget-view+json": {
       "model_id": "",
       "version_major": 2,
       "version_minor": 0
      },
      "text/plain": [
       "Validating: 0it [00:00, ?it/s]"
      ]
     },
     "metadata": {},
     "output_type": "display_data"
    },
    {
     "data": {
      "application/vnd.jupyter.widget-view+json": {
       "model_id": "",
       "version_major": 2,
       "version_minor": 0
      },
      "text/plain": [
       "Validating: 0it [00:00, ?it/s]"
      ]
     },
     "metadata": {},
     "output_type": "display_data"
    },
    {
     "data": {
      "application/vnd.jupyter.widget-view+json": {
       "model_id": "",
       "version_major": 2,
       "version_minor": 0
      },
      "text/plain": [
       "Validating: 0it [00:00, ?it/s]"
      ]
     },
     "metadata": {},
     "output_type": "display_data"
    },
    {
     "data": {
      "application/vnd.jupyter.widget-view+json": {
       "model_id": "",
       "version_major": 2,
       "version_minor": 0
      },
      "text/plain": [
       "Validating: 0it [00:00, ?it/s]"
      ]
     },
     "metadata": {},
     "output_type": "display_data"
    },
    {
     "data": {
      "application/vnd.jupyter.widget-view+json": {
       "model_id": "",
       "version_major": 2,
       "version_minor": 0
      },
      "text/plain": [
       "Validating: 0it [00:00, ?it/s]"
      ]
     },
     "metadata": {},
     "output_type": "display_data"
    },
    {
     "data": {
      "application/vnd.jupyter.widget-view+json": {
       "model_id": "",
       "version_major": 2,
       "version_minor": 0
      },
      "text/plain": [
       "Validating: 0it [00:00, ?it/s]"
      ]
     },
     "metadata": {},
     "output_type": "display_data"
    },
    {
     "data": {
      "application/vnd.jupyter.widget-view+json": {
       "model_id": "",
       "version_major": 2,
       "version_minor": 0
      },
      "text/plain": [
       "Validating: 0it [00:00, ?it/s]"
      ]
     },
     "metadata": {},
     "output_type": "display_data"
    },
    {
     "data": {
      "application/vnd.jupyter.widget-view+json": {
       "model_id": "",
       "version_major": 2,
       "version_minor": 0
      },
      "text/plain": [
       "Validating: 0it [00:00, ?it/s]"
      ]
     },
     "metadata": {},
     "output_type": "display_data"
    },
    {
     "data": {
      "application/vnd.jupyter.widget-view+json": {
       "model_id": "",
       "version_major": 2,
       "version_minor": 0
      },
      "text/plain": [
       "Validating: 0it [00:00, ?it/s]"
      ]
     },
     "metadata": {},
     "output_type": "display_data"
    },
    {
     "data": {
      "application/vnd.jupyter.widget-view+json": {
       "model_id": "",
       "version_major": 2,
       "version_minor": 0
      },
      "text/plain": [
       "Validating: 0it [00:00, ?it/s]"
      ]
     },
     "metadata": {},
     "output_type": "display_data"
    },
    {
     "data": {
      "application/vnd.jupyter.widget-view+json": {
       "model_id": "",
       "version_major": 2,
       "version_minor": 0
      },
      "text/plain": [
       "Validating: 0it [00:00, ?it/s]"
      ]
     },
     "metadata": {},
     "output_type": "display_data"
    },
    {
     "data": {
      "application/vnd.jupyter.widget-view+json": {
       "model_id": "",
       "version_major": 2,
       "version_minor": 0
      },
      "text/plain": [
       "Validating: 0it [00:00, ?it/s]"
      ]
     },
     "metadata": {},
     "output_type": "display_data"
    },
    {
     "data": {
      "application/vnd.jupyter.widget-view+json": {
       "model_id": "",
       "version_major": 2,
       "version_minor": 0
      },
      "text/plain": [
       "Validating: 0it [00:00, ?it/s]"
      ]
     },
     "metadata": {},
     "output_type": "display_data"
    },
    {
     "data": {
      "application/vnd.jupyter.widget-view+json": {
       "model_id": "",
       "version_major": 2,
       "version_minor": 0
      },
      "text/plain": [
       "Validating: 0it [00:00, ?it/s]"
      ]
     },
     "metadata": {},
     "output_type": "display_data"
    },
    {
     "data": {
      "application/vnd.jupyter.widget-view+json": {
       "model_id": "",
       "version_major": 2,
       "version_minor": 0
      },
      "text/plain": [
       "Validating: 0it [00:00, ?it/s]"
      ]
     },
     "metadata": {},
     "output_type": "display_data"
    },
    {
     "data": {
      "application/vnd.jupyter.widget-view+json": {
       "model_id": "",
       "version_major": 2,
       "version_minor": 0
      },
      "text/plain": [
       "Validating: 0it [00:00, ?it/s]"
      ]
     },
     "metadata": {},
     "output_type": "display_data"
    },
    {
     "data": {
      "application/vnd.jupyter.widget-view+json": {
       "model_id": "",
       "version_major": 2,
       "version_minor": 0
      },
      "text/plain": [
       "Validating: 0it [00:00, ?it/s]"
      ]
     },
     "metadata": {},
     "output_type": "display_data"
    },
    {
     "data": {
      "application/vnd.jupyter.widget-view+json": {
       "model_id": "",
       "version_major": 2,
       "version_minor": 0
      },
      "text/plain": [
       "Validating: 0it [00:00, ?it/s]"
      ]
     },
     "metadata": {},
     "output_type": "display_data"
    },
    {
     "data": {
      "application/vnd.jupyter.widget-view+json": {
       "model_id": "",
       "version_major": 2,
       "version_minor": 0
      },
      "text/plain": [
       "Validating: 0it [00:00, ?it/s]"
      ]
     },
     "metadata": {},
     "output_type": "display_data"
    },
    {
     "data": {
      "application/vnd.jupyter.widget-view+json": {
       "model_id": "",
       "version_major": 2,
       "version_minor": 0
      },
      "text/plain": [
       "Validating: 0it [00:00, ?it/s]"
      ]
     },
     "metadata": {},
     "output_type": "display_data"
    },
    {
     "data": {
      "application/vnd.jupyter.widget-view+json": {
       "model_id": "",
       "version_major": 2,
       "version_minor": 0
      },
      "text/plain": [
       "Validating: 0it [00:00, ?it/s]"
      ]
     },
     "metadata": {},
     "output_type": "display_data"
    },
    {
     "data": {
      "application/vnd.jupyter.widget-view+json": {
       "model_id": "",
       "version_major": 2,
       "version_minor": 0
      },
      "text/plain": [
       "Validating: 0it [00:00, ?it/s]"
      ]
     },
     "metadata": {},
     "output_type": "display_data"
    },
    {
     "data": {
      "application/vnd.jupyter.widget-view+json": {
       "model_id": "",
       "version_major": 2,
       "version_minor": 0
      },
      "text/plain": [
       "Validating: 0it [00:00, ?it/s]"
      ]
     },
     "metadata": {},
     "output_type": "display_data"
    },
    {
     "data": {
      "application/vnd.jupyter.widget-view+json": {
       "model_id": "",
       "version_major": 2,
       "version_minor": 0
      },
      "text/plain": [
       "Validating: 0it [00:00, ?it/s]"
      ]
     },
     "metadata": {},
     "output_type": "display_data"
    },
    {
     "data": {
      "application/vnd.jupyter.widget-view+json": {
       "model_id": "",
       "version_major": 2,
       "version_minor": 0
      },
      "text/plain": [
       "Validating: 0it [00:00, ?it/s]"
      ]
     },
     "metadata": {},
     "output_type": "display_data"
    },
    {
     "data": {
      "application/vnd.jupyter.widget-view+json": {
       "model_id": "",
       "version_major": 2,
       "version_minor": 0
      },
      "text/plain": [
       "Validating: 0it [00:00, ?it/s]"
      ]
     },
     "metadata": {},
     "output_type": "display_data"
    },
    {
     "data": {
      "application/vnd.jupyter.widget-view+json": {
       "model_id": "",
       "version_major": 2,
       "version_minor": 0
      },
      "text/plain": [
       "Validating: 0it [00:00, ?it/s]"
      ]
     },
     "metadata": {},
     "output_type": "display_data"
    },
    {
     "data": {
      "application/vnd.jupyter.widget-view+json": {
       "model_id": "",
       "version_major": 2,
       "version_minor": 0
      },
      "text/plain": [
       "Validating: 0it [00:00, ?it/s]"
      ]
     },
     "metadata": {},
     "output_type": "display_data"
    },
    {
     "data": {
      "application/vnd.jupyter.widget-view+json": {
       "model_id": "",
       "version_major": 2,
       "version_minor": 0
      },
      "text/plain": [
       "Validating: 0it [00:00, ?it/s]"
      ]
     },
     "metadata": {},
     "output_type": "display_data"
    },
    {
     "data": {
      "application/vnd.jupyter.widget-view+json": {
       "model_id": "",
       "version_major": 2,
       "version_minor": 0
      },
      "text/plain": [
       "Validating: 0it [00:00, ?it/s]"
      ]
     },
     "metadata": {},
     "output_type": "display_data"
    },
    {
     "data": {
      "application/vnd.jupyter.widget-view+json": {
       "model_id": "",
       "version_major": 2,
       "version_minor": 0
      },
      "text/plain": [
       "Validating: 0it [00:00, ?it/s]"
      ]
     },
     "metadata": {},
     "output_type": "display_data"
    },
    {
     "data": {
      "application/vnd.jupyter.widget-view+json": {
       "model_id": "",
       "version_major": 2,
       "version_minor": 0
      },
      "text/plain": [
       "Validating: 0it [00:00, ?it/s]"
      ]
     },
     "metadata": {},
     "output_type": "display_data"
    },
    {
     "data": {
      "application/vnd.jupyter.widget-view+json": {
       "model_id": "",
       "version_major": 2,
       "version_minor": 0
      },
      "text/plain": [
       "Validating: 0it [00:00, ?it/s]"
      ]
     },
     "metadata": {},
     "output_type": "display_data"
    },
    {
     "data": {
      "application/vnd.jupyter.widget-view+json": {
       "model_id": "",
       "version_major": 2,
       "version_minor": 0
      },
      "text/plain": [
       "Validating: 0it [00:00, ?it/s]"
      ]
     },
     "metadata": {},
     "output_type": "display_data"
    },
    {
     "data": {
      "application/vnd.jupyter.widget-view+json": {
       "model_id": "",
       "version_major": 2,
       "version_minor": 0
      },
      "text/plain": [
       "Validating: 0it [00:00, ?it/s]"
      ]
     },
     "metadata": {},
     "output_type": "display_data"
    },
    {
     "data": {
      "application/vnd.jupyter.widget-view+json": {
       "model_id": "",
       "version_major": 2,
       "version_minor": 0
      },
      "text/plain": [
       "Validating: 0it [00:00, ?it/s]"
      ]
     },
     "metadata": {},
     "output_type": "display_data"
    },
    {
     "data": {
      "application/vnd.jupyter.widget-view+json": {
       "model_id": "",
       "version_major": 2,
       "version_minor": 0
      },
      "text/plain": [
       "Validating: 0it [00:00, ?it/s]"
      ]
     },
     "metadata": {},
     "output_type": "display_data"
    },
    {
     "data": {
      "application/vnd.jupyter.widget-view+json": {
       "model_id": "",
       "version_major": 2,
       "version_minor": 0
      },
      "text/plain": [
       "Validating: 0it [00:00, ?it/s]"
      ]
     },
     "metadata": {},
     "output_type": "display_data"
    },
    {
     "data": {
      "application/vnd.jupyter.widget-view+json": {
       "model_id": "",
       "version_major": 2,
       "version_minor": 0
      },
      "text/plain": [
       "Validating: 0it [00:00, ?it/s]"
      ]
     },
     "metadata": {},
     "output_type": "display_data"
    },
    {
     "data": {
      "application/vnd.jupyter.widget-view+json": {
       "model_id": "",
       "version_major": 2,
       "version_minor": 0
      },
      "text/plain": [
       "Validating: 0it [00:00, ?it/s]"
      ]
     },
     "metadata": {},
     "output_type": "display_data"
    },
    {
     "data": {
      "application/vnd.jupyter.widget-view+json": {
       "model_id": "",
       "version_major": 2,
       "version_minor": 0
      },
      "text/plain": [
       "Validating: 0it [00:00, ?it/s]"
      ]
     },
     "metadata": {},
     "output_type": "display_data"
    },
    {
     "data": {
      "application/vnd.jupyter.widget-view+json": {
       "model_id": "",
       "version_major": 2,
       "version_minor": 0
      },
      "text/plain": [
       "Validating: 0it [00:00, ?it/s]"
      ]
     },
     "metadata": {},
     "output_type": "display_data"
    },
    {
     "data": {
      "application/vnd.jupyter.widget-view+json": {
       "model_id": "",
       "version_major": 2,
       "version_minor": 0
      },
      "text/plain": [
       "Validating: 0it [00:00, ?it/s]"
      ]
     },
     "metadata": {},
     "output_type": "display_data"
    },
    {
     "data": {
      "application/vnd.jupyter.widget-view+json": {
       "model_id": "",
       "version_major": 2,
       "version_minor": 0
      },
      "text/plain": [
       "Validating: 0it [00:00, ?it/s]"
      ]
     },
     "metadata": {},
     "output_type": "display_data"
    },
    {
     "data": {
      "application/vnd.jupyter.widget-view+json": {
       "model_id": "",
       "version_major": 2,
       "version_minor": 0
      },
      "text/plain": [
       "Validating: 0it [00:00, ?it/s]"
      ]
     },
     "metadata": {},
     "output_type": "display_data"
    },
    {
     "data": {
      "application/vnd.jupyter.widget-view+json": {
       "model_id": "",
       "version_major": 2,
       "version_minor": 0
      },
      "text/plain": [
       "Validating: 0it [00:00, ?it/s]"
      ]
     },
     "metadata": {},
     "output_type": "display_data"
    },
    {
     "data": {
      "application/vnd.jupyter.widget-view+json": {
       "model_id": "",
       "version_major": 2,
       "version_minor": 0
      },
      "text/plain": [
       "Validating: 0it [00:00, ?it/s]"
      ]
     },
     "metadata": {},
     "output_type": "display_data"
    },
    {
     "data": {
      "application/vnd.jupyter.widget-view+json": {
       "model_id": "",
       "version_major": 2,
       "version_minor": 0
      },
      "text/plain": [
       "Validating: 0it [00:00, ?it/s]"
      ]
     },
     "metadata": {},
     "output_type": "display_data"
    },
    {
     "data": {
      "application/vnd.jupyter.widget-view+json": {
       "model_id": "",
       "version_major": 2,
       "version_minor": 0
      },
      "text/plain": [
       "Validating: 0it [00:00, ?it/s]"
      ]
     },
     "metadata": {},
     "output_type": "display_data"
    },
    {
     "data": {
      "application/vnd.jupyter.widget-view+json": {
       "model_id": "",
       "version_major": 2,
       "version_minor": 0
      },
      "text/plain": [
       "Validating: 0it [00:00, ?it/s]"
      ]
     },
     "metadata": {},
     "output_type": "display_data"
    },
    {
     "data": {
      "application/vnd.jupyter.widget-view+json": {
       "model_id": "",
       "version_major": 2,
       "version_minor": 0
      },
      "text/plain": [
       "Validating: 0it [00:00, ?it/s]"
      ]
     },
     "metadata": {},
     "output_type": "display_data"
    },
    {
     "data": {
      "application/vnd.jupyter.widget-view+json": {
       "model_id": "",
       "version_major": 2,
       "version_minor": 0
      },
      "text/plain": [
       "Validating: 0it [00:00, ?it/s]"
      ]
     },
     "metadata": {},
     "output_type": "display_data"
    },
    {
     "data": {
      "application/vnd.jupyter.widget-view+json": {
       "model_id": "",
       "version_major": 2,
       "version_minor": 0
      },
      "text/plain": [
       "Validating: 0it [00:00, ?it/s]"
      ]
     },
     "metadata": {},
     "output_type": "display_data"
    },
    {
     "data": {
      "application/vnd.jupyter.widget-view+json": {
       "model_id": "",
       "version_major": 2,
       "version_minor": 0
      },
      "text/plain": [
       "Validating: 0it [00:00, ?it/s]"
      ]
     },
     "metadata": {},
     "output_type": "display_data"
    },
    {
     "data": {
      "application/vnd.jupyter.widget-view+json": {
       "model_id": "",
       "version_major": 2,
       "version_minor": 0
      },
      "text/plain": [
       "Validating: 0it [00:00, ?it/s]"
      ]
     },
     "metadata": {},
     "output_type": "display_data"
    },
    {
     "data": {
      "application/vnd.jupyter.widget-view+json": {
       "model_id": "",
       "version_major": 2,
       "version_minor": 0
      },
      "text/plain": [
       "Validating: 0it [00:00, ?it/s]"
      ]
     },
     "metadata": {},
     "output_type": "display_data"
    },
    {
     "data": {
      "application/vnd.jupyter.widget-view+json": {
       "model_id": "",
       "version_major": 2,
       "version_minor": 0
      },
      "text/plain": [
       "Validating: 0it [00:00, ?it/s]"
      ]
     },
     "metadata": {},
     "output_type": "display_data"
    },
    {
     "data": {
      "application/vnd.jupyter.widget-view+json": {
       "model_id": "",
       "version_major": 2,
       "version_minor": 0
      },
      "text/plain": [
       "Validating: 0it [00:00, ?it/s]"
      ]
     },
     "metadata": {},
     "output_type": "display_data"
    },
    {
     "data": {
      "application/vnd.jupyter.widget-view+json": {
       "model_id": "",
       "version_major": 2,
       "version_minor": 0
      },
      "text/plain": [
       "Validating: 0it [00:00, ?it/s]"
      ]
     },
     "metadata": {},
     "output_type": "display_data"
    },
    {
     "data": {
      "application/vnd.jupyter.widget-view+json": {
       "model_id": "",
       "version_major": 2,
       "version_minor": 0
      },
      "text/plain": [
       "Validating: 0it [00:00, ?it/s]"
      ]
     },
     "metadata": {},
     "output_type": "display_data"
    },
    {
     "data": {
      "application/vnd.jupyter.widget-view+json": {
       "model_id": "",
       "version_major": 2,
       "version_minor": 0
      },
      "text/plain": [
       "Validating: 0it [00:00, ?it/s]"
      ]
     },
     "metadata": {},
     "output_type": "display_data"
    },
    {
     "data": {
      "application/vnd.jupyter.widget-view+json": {
       "model_id": "",
       "version_major": 2,
       "version_minor": 0
      },
      "text/plain": [
       "Validating: 0it [00:00, ?it/s]"
      ]
     },
     "metadata": {},
     "output_type": "display_data"
    },
    {
     "data": {
      "application/vnd.jupyter.widget-view+json": {
       "model_id": "",
       "version_major": 2,
       "version_minor": 0
      },
      "text/plain": [
       "Validating: 0it [00:00, ?it/s]"
      ]
     },
     "metadata": {},
     "output_type": "display_data"
    },
    {
     "data": {
      "application/vnd.jupyter.widget-view+json": {
       "model_id": "",
       "version_major": 2,
       "version_minor": 0
      },
      "text/plain": [
       "Validating: 0it [00:00, ?it/s]"
      ]
     },
     "metadata": {},
     "output_type": "display_data"
    },
    {
     "data": {
      "application/vnd.jupyter.widget-view+json": {
       "model_id": "",
       "version_major": 2,
       "version_minor": 0
      },
      "text/plain": [
       "Validating: 0it [00:00, ?it/s]"
      ]
     },
     "metadata": {},
     "output_type": "display_data"
    },
    {
     "data": {
      "application/vnd.jupyter.widget-view+json": {
       "model_id": "",
       "version_major": 2,
       "version_minor": 0
      },
      "text/plain": [
       "Validating: 0it [00:00, ?it/s]"
      ]
     },
     "metadata": {},
     "output_type": "display_data"
    },
    {
     "data": {
      "application/vnd.jupyter.widget-view+json": {
       "model_id": "",
       "version_major": 2,
       "version_minor": 0
      },
      "text/plain": [
       "Validating: 0it [00:00, ?it/s]"
      ]
     },
     "metadata": {},
     "output_type": "display_data"
    },
    {
     "data": {
      "application/vnd.jupyter.widget-view+json": {
       "model_id": "",
       "version_major": 2,
       "version_minor": 0
      },
      "text/plain": [
       "Validating: 0it [00:00, ?it/s]"
      ]
     },
     "metadata": {},
     "output_type": "display_data"
    },
    {
     "data": {
      "application/vnd.jupyter.widget-view+json": {
       "model_id": "",
       "version_major": 2,
       "version_minor": 0
      },
      "text/plain": [
       "Validating: 0it [00:00, ?it/s]"
      ]
     },
     "metadata": {},
     "output_type": "display_data"
    },
    {
     "data": {
      "application/vnd.jupyter.widget-view+json": {
       "model_id": "",
       "version_major": 2,
       "version_minor": 0
      },
      "text/plain": [
       "Validating: 0it [00:00, ?it/s]"
      ]
     },
     "metadata": {},
     "output_type": "display_data"
    },
    {
     "data": {
      "application/vnd.jupyter.widget-view+json": {
       "model_id": "",
       "version_major": 2,
       "version_minor": 0
      },
      "text/plain": [
       "Validating: 0it [00:00, ?it/s]"
      ]
     },
     "metadata": {},
     "output_type": "display_data"
    },
    {
     "data": {
      "application/vnd.jupyter.widget-view+json": {
       "model_id": "",
       "version_major": 2,
       "version_minor": 0
      },
      "text/plain": [
       "Validating: 0it [00:00, ?it/s]"
      ]
     },
     "metadata": {},
     "output_type": "display_data"
    },
    {
     "data": {
      "application/vnd.jupyter.widget-view+json": {
       "model_id": "",
       "version_major": 2,
       "version_minor": 0
      },
      "text/plain": [
       "Validating: 0it [00:00, ?it/s]"
      ]
     },
     "metadata": {},
     "output_type": "display_data"
    },
    {
     "data": {
      "application/vnd.jupyter.widget-view+json": {
       "model_id": "",
       "version_major": 2,
       "version_minor": 0
      },
      "text/plain": [
       "Validating: 0it [00:00, ?it/s]"
      ]
     },
     "metadata": {},
     "output_type": "display_data"
    },
    {
     "data": {
      "application/vnd.jupyter.widget-view+json": {
       "model_id": "",
       "version_major": 2,
       "version_minor": 0
      },
      "text/plain": [
       "Validating: 0it [00:00, ?it/s]"
      ]
     },
     "metadata": {},
     "output_type": "display_data"
    },
    {
     "data": {
      "application/vnd.jupyter.widget-view+json": {
       "model_id": "",
       "version_major": 2,
       "version_minor": 0
      },
      "text/plain": [
       "Validating: 0it [00:00, ?it/s]"
      ]
     },
     "metadata": {},
     "output_type": "display_data"
    },
    {
     "data": {
      "application/vnd.jupyter.widget-view+json": {
       "model_id": "",
       "version_major": 2,
       "version_minor": 0
      },
      "text/plain": [
       "Validating: 0it [00:00, ?it/s]"
      ]
     },
     "metadata": {},
     "output_type": "display_data"
    },
    {
     "data": {
      "application/vnd.jupyter.widget-view+json": {
       "model_id": "",
       "version_major": 2,
       "version_minor": 0
      },
      "text/plain": [
       "Validating: 0it [00:00, ?it/s]"
      ]
     },
     "metadata": {},
     "output_type": "display_data"
    },
    {
     "data": {
      "application/vnd.jupyter.widget-view+json": {
       "model_id": "",
       "version_major": 2,
       "version_minor": 0
      },
      "text/plain": [
       "Validating: 0it [00:00, ?it/s]"
      ]
     },
     "metadata": {},
     "output_type": "display_data"
    },
    {
     "data": {
      "application/vnd.jupyter.widget-view+json": {
       "model_id": "",
       "version_major": 2,
       "version_minor": 0
      },
      "text/plain": [
       "Validating: 0it [00:00, ?it/s]"
      ]
     },
     "metadata": {},
     "output_type": "display_data"
    },
    {
     "data": {
      "application/vnd.jupyter.widget-view+json": {
       "model_id": "",
       "version_major": 2,
       "version_minor": 0
      },
      "text/plain": [
       "Validating: 0it [00:00, ?it/s]"
      ]
     },
     "metadata": {},
     "output_type": "display_data"
    },
    {
     "data": {
      "application/vnd.jupyter.widget-view+json": {
       "model_id": "",
       "version_major": 2,
       "version_minor": 0
      },
      "text/plain": [
       "Validating: 0it [00:00, ?it/s]"
      ]
     },
     "metadata": {},
     "output_type": "display_data"
    },
    {
     "data": {
      "application/vnd.jupyter.widget-view+json": {
       "model_id": "",
       "version_major": 2,
       "version_minor": 0
      },
      "text/plain": [
       "Validating: 0it [00:00, ?it/s]"
      ]
     },
     "metadata": {},
     "output_type": "display_data"
    },
    {
     "data": {
      "application/vnd.jupyter.widget-view+json": {
       "model_id": "",
       "version_major": 2,
       "version_minor": 0
      },
      "text/plain": [
       "Validating: 0it [00:00, ?it/s]"
      ]
     },
     "metadata": {},
     "output_type": "display_data"
    },
    {
     "data": {
      "application/vnd.jupyter.widget-view+json": {
       "model_id": "",
       "version_major": 2,
       "version_minor": 0
      },
      "text/plain": [
       "Validating: 0it [00:00, ?it/s]"
      ]
     },
     "metadata": {},
     "output_type": "display_data"
    },
    {
     "data": {
      "application/vnd.jupyter.widget-view+json": {
       "model_id": "",
       "version_major": 2,
       "version_minor": 0
      },
      "text/plain": [
       "Validating: 0it [00:00, ?it/s]"
      ]
     },
     "metadata": {},
     "output_type": "display_data"
    },
    {
     "data": {
      "application/vnd.jupyter.widget-view+json": {
       "model_id": "",
       "version_major": 2,
       "version_minor": 0
      },
      "text/plain": [
       "Validating: 0it [00:00, ?it/s]"
      ]
     },
     "metadata": {},
     "output_type": "display_data"
    },
    {
     "data": {
      "application/vnd.jupyter.widget-view+json": {
       "model_id": "",
       "version_major": 2,
       "version_minor": 0
      },
      "text/plain": [
       "Validating: 0it [00:00, ?it/s]"
      ]
     },
     "metadata": {},
     "output_type": "display_data"
    },
    {
     "data": {
      "application/vnd.jupyter.widget-view+json": {
       "model_id": "",
       "version_major": 2,
       "version_minor": 0
      },
      "text/plain": [
       "Validating: 0it [00:00, ?it/s]"
      ]
     },
     "metadata": {},
     "output_type": "display_data"
    },
    {
     "data": {
      "application/vnd.jupyter.widget-view+json": {
       "model_id": "",
       "version_major": 2,
       "version_minor": 0
      },
      "text/plain": [
       "Validating: 0it [00:00, ?it/s]"
      ]
     },
     "metadata": {},
     "output_type": "display_data"
    },
    {
     "data": {
      "application/vnd.jupyter.widget-view+json": {
       "model_id": "",
       "version_major": 2,
       "version_minor": 0
      },
      "text/plain": [
       "Validating: 0it [00:00, ?it/s]"
      ]
     },
     "metadata": {},
     "output_type": "display_data"
    },
    {
     "data": {
      "application/vnd.jupyter.widget-view+json": {
       "model_id": "",
       "version_major": 2,
       "version_minor": 0
      },
      "text/plain": [
       "Validating: 0it [00:00, ?it/s]"
      ]
     },
     "metadata": {},
     "output_type": "display_data"
    },
    {
     "data": {
      "application/vnd.jupyter.widget-view+json": {
       "model_id": "",
       "version_major": 2,
       "version_minor": 0
      },
      "text/plain": [
       "Validating: 0it [00:00, ?it/s]"
      ]
     },
     "metadata": {},
     "output_type": "display_data"
    },
    {
     "data": {
      "application/vnd.jupyter.widget-view+json": {
       "model_id": "",
       "version_major": 2,
       "version_minor": 0
      },
      "text/plain": [
       "Validating: 0it [00:00, ?it/s]"
      ]
     },
     "metadata": {},
     "output_type": "display_data"
    },
    {
     "data": {
      "application/vnd.jupyter.widget-view+json": {
       "model_id": "",
       "version_major": 2,
       "version_minor": 0
      },
      "text/plain": [
       "Validating: 0it [00:00, ?it/s]"
      ]
     },
     "metadata": {},
     "output_type": "display_data"
    },
    {
     "data": {
      "application/vnd.jupyter.widget-view+json": {
       "model_id": "",
       "version_major": 2,
       "version_minor": 0
      },
      "text/plain": [
       "Validating: 0it [00:00, ?it/s]"
      ]
     },
     "metadata": {},
     "output_type": "display_data"
    },
    {
     "data": {
      "application/vnd.jupyter.widget-view+json": {
       "model_id": "",
       "version_major": 2,
       "version_minor": 0
      },
      "text/plain": [
       "Validating: 0it [00:00, ?it/s]"
      ]
     },
     "metadata": {},
     "output_type": "display_data"
    },
    {
     "data": {
      "application/vnd.jupyter.widget-view+json": {
       "model_id": "",
       "version_major": 2,
       "version_minor": 0
      },
      "text/plain": [
       "Validating: 0it [00:00, ?it/s]"
      ]
     },
     "metadata": {},
     "output_type": "display_data"
    },
    {
     "data": {
      "application/vnd.jupyter.widget-view+json": {
       "model_id": "",
       "version_major": 2,
       "version_minor": 0
      },
      "text/plain": [
       "Validating: 0it [00:00, ?it/s]"
      ]
     },
     "metadata": {},
     "output_type": "display_data"
    },
    {
     "data": {
      "application/vnd.jupyter.widget-view+json": {
       "model_id": "",
       "version_major": 2,
       "version_minor": 0
      },
      "text/plain": [
       "Validating: 0it [00:00, ?it/s]"
      ]
     },
     "metadata": {},
     "output_type": "display_data"
    },
    {
     "data": {
      "application/vnd.jupyter.widget-view+json": {
       "model_id": "",
       "version_major": 2,
       "version_minor": 0
      },
      "text/plain": [
       "Validating: 0it [00:00, ?it/s]"
      ]
     },
     "metadata": {},
     "output_type": "display_data"
    },
    {
     "data": {
      "application/vnd.jupyter.widget-view+json": {
       "model_id": "",
       "version_major": 2,
       "version_minor": 0
      },
      "text/plain": [
       "Validating: 0it [00:00, ?it/s]"
      ]
     },
     "metadata": {},
     "output_type": "display_data"
    },
    {
     "data": {
      "application/vnd.jupyter.widget-view+json": {
       "model_id": "",
       "version_major": 2,
       "version_minor": 0
      },
      "text/plain": [
       "Validating: 0it [00:00, ?it/s]"
      ]
     },
     "metadata": {},
     "output_type": "display_data"
    },
    {
     "data": {
      "application/vnd.jupyter.widget-view+json": {
       "model_id": "",
       "version_major": 2,
       "version_minor": 0
      },
      "text/plain": [
       "Validating: 0it [00:00, ?it/s]"
      ]
     },
     "metadata": {},
     "output_type": "display_data"
    },
    {
     "data": {
      "application/vnd.jupyter.widget-view+json": {
       "model_id": "",
       "version_major": 2,
       "version_minor": 0
      },
      "text/plain": [
       "Validating: 0it [00:00, ?it/s]"
      ]
     },
     "metadata": {},
     "output_type": "display_data"
    },
    {
     "data": {
      "application/vnd.jupyter.widget-view+json": {
       "model_id": "",
       "version_major": 2,
       "version_minor": 0
      },
      "text/plain": [
       "Validating: 0it [00:00, ?it/s]"
      ]
     },
     "metadata": {},
     "output_type": "display_data"
    },
    {
     "data": {
      "application/vnd.jupyter.widget-view+json": {
       "model_id": "",
       "version_major": 2,
       "version_minor": 0
      },
      "text/plain": [
       "Validating: 0it [00:00, ?it/s]"
      ]
     },
     "metadata": {},
     "output_type": "display_data"
    },
    {
     "data": {
      "application/vnd.jupyter.widget-view+json": {
       "model_id": "",
       "version_major": 2,
       "version_minor": 0
      },
      "text/plain": [
       "Validating: 0it [00:00, ?it/s]"
      ]
     },
     "metadata": {},
     "output_type": "display_data"
    },
    {
     "data": {
      "application/vnd.jupyter.widget-view+json": {
       "model_id": "",
       "version_major": 2,
       "version_minor": 0
      },
      "text/plain": [
       "Validating: 0it [00:00, ?it/s]"
      ]
     },
     "metadata": {},
     "output_type": "display_data"
    },
    {
     "data": {
      "application/vnd.jupyter.widget-view+json": {
       "model_id": "",
       "version_major": 2,
       "version_minor": 0
      },
      "text/plain": [
       "Validating: 0it [00:00, ?it/s]"
      ]
     },
     "metadata": {},
     "output_type": "display_data"
    },
    {
     "data": {
      "application/vnd.jupyter.widget-view+json": {
       "model_id": "",
       "version_major": 2,
       "version_minor": 0
      },
      "text/plain": [
       "Validating: 0it [00:00, ?it/s]"
      ]
     },
     "metadata": {},
     "output_type": "display_data"
    },
    {
     "data": {
      "application/vnd.jupyter.widget-view+json": {
       "model_id": "",
       "version_major": 2,
       "version_minor": 0
      },
      "text/plain": [
       "Validating: 0it [00:00, ?it/s]"
      ]
     },
     "metadata": {},
     "output_type": "display_data"
    },
    {
     "data": {
      "application/vnd.jupyter.widget-view+json": {
       "model_id": "",
       "version_major": 2,
       "version_minor": 0
      },
      "text/plain": [
       "Validating: 0it [00:00, ?it/s]"
      ]
     },
     "metadata": {},
     "output_type": "display_data"
    },
    {
     "data": {
      "application/vnd.jupyter.widget-view+json": {
       "model_id": "",
       "version_major": 2,
       "version_minor": 0
      },
      "text/plain": [
       "Validating: 0it [00:00, ?it/s]"
      ]
     },
     "metadata": {},
     "output_type": "display_data"
    },
    {
     "data": {
      "application/vnd.jupyter.widget-view+json": {
       "model_id": "",
       "version_major": 2,
       "version_minor": 0
      },
      "text/plain": [
       "Validating: 0it [00:00, ?it/s]"
      ]
     },
     "metadata": {},
     "output_type": "display_data"
    },
    {
     "data": {
      "application/vnd.jupyter.widget-view+json": {
       "model_id": "",
       "version_major": 2,
       "version_minor": 0
      },
      "text/plain": [
       "Validating: 0it [00:00, ?it/s]"
      ]
     },
     "metadata": {},
     "output_type": "display_data"
    },
    {
     "data": {
      "application/vnd.jupyter.widget-view+json": {
       "model_id": "",
       "version_major": 2,
       "version_minor": 0
      },
      "text/plain": [
       "Validating: 0it [00:00, ?it/s]"
      ]
     },
     "metadata": {},
     "output_type": "display_data"
    },
    {
     "data": {
      "application/vnd.jupyter.widget-view+json": {
       "model_id": "",
       "version_major": 2,
       "version_minor": 0
      },
      "text/plain": [
       "Validating: 0it [00:00, ?it/s]"
      ]
     },
     "metadata": {},
     "output_type": "display_data"
    },
    {
     "data": {
      "application/vnd.jupyter.widget-view+json": {
       "model_id": "",
       "version_major": 2,
       "version_minor": 0
      },
      "text/plain": [
       "Validating: 0it [00:00, ?it/s]"
      ]
     },
     "metadata": {},
     "output_type": "display_data"
    },
    {
     "data": {
      "application/vnd.jupyter.widget-view+json": {
       "model_id": "",
       "version_major": 2,
       "version_minor": 0
      },
      "text/plain": [
       "Validating: 0it [00:00, ?it/s]"
      ]
     },
     "metadata": {},
     "output_type": "display_data"
    },
    {
     "data": {
      "application/vnd.jupyter.widget-view+json": {
       "model_id": "",
       "version_major": 2,
       "version_minor": 0
      },
      "text/plain": [
       "Validating: 0it [00:00, ?it/s]"
      ]
     },
     "metadata": {},
     "output_type": "display_data"
    },
    {
     "data": {
      "application/vnd.jupyter.widget-view+json": {
       "model_id": "",
       "version_major": 2,
       "version_minor": 0
      },
      "text/plain": [
       "Validating: 0it [00:00, ?it/s]"
      ]
     },
     "metadata": {},
     "output_type": "display_data"
    },
    {
     "data": {
      "application/vnd.jupyter.widget-view+json": {
       "model_id": "",
       "version_major": 2,
       "version_minor": 0
      },
      "text/plain": [
       "Validating: 0it [00:00, ?it/s]"
      ]
     },
     "metadata": {},
     "output_type": "display_data"
    },
    {
     "data": {
      "application/vnd.jupyter.widget-view+json": {
       "model_id": "",
       "version_major": 2,
       "version_minor": 0
      },
      "text/plain": [
       "Validating: 0it [00:00, ?it/s]"
      ]
     },
     "metadata": {},
     "output_type": "display_data"
    },
    {
     "data": {
      "application/vnd.jupyter.widget-view+json": {
       "model_id": "",
       "version_major": 2,
       "version_minor": 0
      },
      "text/plain": [
       "Validating: 0it [00:00, ?it/s]"
      ]
     },
     "metadata": {},
     "output_type": "display_data"
    },
    {
     "data": {
      "application/vnd.jupyter.widget-view+json": {
       "model_id": "",
       "version_major": 2,
       "version_minor": 0
      },
      "text/plain": [
       "Validating: 0it [00:00, ?it/s]"
      ]
     },
     "metadata": {},
     "output_type": "display_data"
    },
    {
     "data": {
      "application/vnd.jupyter.widget-view+json": {
       "model_id": "",
       "version_major": 2,
       "version_minor": 0
      },
      "text/plain": [
       "Validating: 0it [00:00, ?it/s]"
      ]
     },
     "metadata": {},
     "output_type": "display_data"
    },
    {
     "data": {
      "application/vnd.jupyter.widget-view+json": {
       "model_id": "",
       "version_major": 2,
       "version_minor": 0
      },
      "text/plain": [
       "Validating: 0it [00:00, ?it/s]"
      ]
     },
     "metadata": {},
     "output_type": "display_data"
    },
    {
     "data": {
      "application/vnd.jupyter.widget-view+json": {
       "model_id": "",
       "version_major": 2,
       "version_minor": 0
      },
      "text/plain": [
       "Validating: 0it [00:00, ?it/s]"
      ]
     },
     "metadata": {},
     "output_type": "display_data"
    },
    {
     "data": {
      "application/vnd.jupyter.widget-view+json": {
       "model_id": "",
       "version_major": 2,
       "version_minor": 0
      },
      "text/plain": [
       "Validating: 0it [00:00, ?it/s]"
      ]
     },
     "metadata": {},
     "output_type": "display_data"
    },
    {
     "data": {
      "application/vnd.jupyter.widget-view+json": {
       "model_id": "",
       "version_major": 2,
       "version_minor": 0
      },
      "text/plain": [
       "Validating: 0it [00:00, ?it/s]"
      ]
     },
     "metadata": {},
     "output_type": "display_data"
    },
    {
     "data": {
      "application/vnd.jupyter.widget-view+json": {
       "model_id": "",
       "version_major": 2,
       "version_minor": 0
      },
      "text/plain": [
       "Validating: 0it [00:00, ?it/s]"
      ]
     },
     "metadata": {},
     "output_type": "display_data"
    },
    {
     "data": {
      "application/vnd.jupyter.widget-view+json": {
       "model_id": "",
       "version_major": 2,
       "version_minor": 0
      },
      "text/plain": [
       "Validating: 0it [00:00, ?it/s]"
      ]
     },
     "metadata": {},
     "output_type": "display_data"
    },
    {
     "data": {
      "application/vnd.jupyter.widget-view+json": {
       "model_id": "",
       "version_major": 2,
       "version_minor": 0
      },
      "text/plain": [
       "Validating: 0it [00:00, ?it/s]"
      ]
     },
     "metadata": {},
     "output_type": "display_data"
    },
    {
     "data": {
      "application/vnd.jupyter.widget-view+json": {
       "model_id": "",
       "version_major": 2,
       "version_minor": 0
      },
      "text/plain": [
       "Validating: 0it [00:00, ?it/s]"
      ]
     },
     "metadata": {},
     "output_type": "display_data"
    },
    {
     "data": {
      "application/vnd.jupyter.widget-view+json": {
       "model_id": "",
       "version_major": 2,
       "version_minor": 0
      },
      "text/plain": [
       "Validating: 0it [00:00, ?it/s]"
      ]
     },
     "metadata": {},
     "output_type": "display_data"
    },
    {
     "data": {
      "application/vnd.jupyter.widget-view+json": {
       "model_id": "",
       "version_major": 2,
       "version_minor": 0
      },
      "text/plain": [
       "Validating: 0it [00:00, ?it/s]"
      ]
     },
     "metadata": {},
     "output_type": "display_data"
    },
    {
     "data": {
      "application/vnd.jupyter.widget-view+json": {
       "model_id": "",
       "version_major": 2,
       "version_minor": 0
      },
      "text/plain": [
       "Validating: 0it [00:00, ?it/s]"
      ]
     },
     "metadata": {},
     "output_type": "display_data"
    },
    {
     "data": {
      "application/vnd.jupyter.widget-view+json": {
       "model_id": "",
       "version_major": 2,
       "version_minor": 0
      },
      "text/plain": [
       "Validating: 0it [00:00, ?it/s]"
      ]
     },
     "metadata": {},
     "output_type": "display_data"
    },
    {
     "data": {
      "application/vnd.jupyter.widget-view+json": {
       "model_id": "",
       "version_major": 2,
       "version_minor": 0
      },
      "text/plain": [
       "Validating: 0it [00:00, ?it/s]"
      ]
     },
     "metadata": {},
     "output_type": "display_data"
    },
    {
     "data": {
      "application/vnd.jupyter.widget-view+json": {
       "model_id": "",
       "version_major": 2,
       "version_minor": 0
      },
      "text/plain": [
       "Validating: 0it [00:00, ?it/s]"
      ]
     },
     "metadata": {},
     "output_type": "display_data"
    },
    {
     "data": {
      "application/vnd.jupyter.widget-view+json": {
       "model_id": "",
       "version_major": 2,
       "version_minor": 0
      },
      "text/plain": [
       "Validating: 0it [00:00, ?it/s]"
      ]
     },
     "metadata": {},
     "output_type": "display_data"
    },
    {
     "data": {
      "application/vnd.jupyter.widget-view+json": {
       "model_id": "",
       "version_major": 2,
       "version_minor": 0
      },
      "text/plain": [
       "Validating: 0it [00:00, ?it/s]"
      ]
     },
     "metadata": {},
     "output_type": "display_data"
    },
    {
     "data": {
      "application/vnd.jupyter.widget-view+json": {
       "model_id": "",
       "version_major": 2,
       "version_minor": 0
      },
      "text/plain": [
       "Validating: 0it [00:00, ?it/s]"
      ]
     },
     "metadata": {},
     "output_type": "display_data"
    },
    {
     "data": {
      "application/vnd.jupyter.widget-view+json": {
       "model_id": "",
       "version_major": 2,
       "version_minor": 0
      },
      "text/plain": [
       "Validating: 0it [00:00, ?it/s]"
      ]
     },
     "metadata": {},
     "output_type": "display_data"
    },
    {
     "data": {
      "application/vnd.jupyter.widget-view+json": {
       "model_id": "",
       "version_major": 2,
       "version_minor": 0
      },
      "text/plain": [
       "Validating: 0it [00:00, ?it/s]"
      ]
     },
     "metadata": {},
     "output_type": "display_data"
    },
    {
     "data": {
      "application/vnd.jupyter.widget-view+json": {
       "model_id": "",
       "version_major": 2,
       "version_minor": 0
      },
      "text/plain": [
       "Validating: 0it [00:00, ?it/s]"
      ]
     },
     "metadata": {},
     "output_type": "display_data"
    },
    {
     "data": {
      "application/vnd.jupyter.widget-view+json": {
       "model_id": "",
       "version_major": 2,
       "version_minor": 0
      },
      "text/plain": [
       "Validating: 0it [00:00, ?it/s]"
      ]
     },
     "metadata": {},
     "output_type": "display_data"
    },
    {
     "data": {
      "application/vnd.jupyter.widget-view+json": {
       "model_id": "",
       "version_major": 2,
       "version_minor": 0
      },
      "text/plain": [
       "Validating: 0it [00:00, ?it/s]"
      ]
     },
     "metadata": {},
     "output_type": "display_data"
    },
    {
     "data": {
      "application/vnd.jupyter.widget-view+json": {
       "model_id": "",
       "version_major": 2,
       "version_minor": 0
      },
      "text/plain": [
       "Validating: 0it [00:00, ?it/s]"
      ]
     },
     "metadata": {},
     "output_type": "display_data"
    },
    {
     "data": {
      "application/vnd.jupyter.widget-view+json": {
       "model_id": "",
       "version_major": 2,
       "version_minor": 0
      },
      "text/plain": [
       "Validating: 0it [00:00, ?it/s]"
      ]
     },
     "metadata": {},
     "output_type": "display_data"
    },
    {
     "data": {
      "application/vnd.jupyter.widget-view+json": {
       "model_id": "",
       "version_major": 2,
       "version_minor": 0
      },
      "text/plain": [
       "Validating: 0it [00:00, ?it/s]"
      ]
     },
     "metadata": {},
     "output_type": "display_data"
    },
    {
     "data": {
      "application/vnd.jupyter.widget-view+json": {
       "model_id": "",
       "version_major": 2,
       "version_minor": 0
      },
      "text/plain": [
       "Validating: 0it [00:00, ?it/s]"
      ]
     },
     "metadata": {},
     "output_type": "display_data"
    },
    {
     "data": {
      "application/vnd.jupyter.widget-view+json": {
       "model_id": "",
       "version_major": 2,
       "version_minor": 0
      },
      "text/plain": [
       "Validating: 0it [00:00, ?it/s]"
      ]
     },
     "metadata": {},
     "output_type": "display_data"
    },
    {
     "data": {
      "application/vnd.jupyter.widget-view+json": {
       "model_id": "",
       "version_major": 2,
       "version_minor": 0
      },
      "text/plain": [
       "Validating: 0it [00:00, ?it/s]"
      ]
     },
     "metadata": {},
     "output_type": "display_data"
    },
    {
     "data": {
      "application/vnd.jupyter.widget-view+json": {
       "model_id": "",
       "version_major": 2,
       "version_minor": 0
      },
      "text/plain": [
       "Validating: 0it [00:00, ?it/s]"
      ]
     },
     "metadata": {},
     "output_type": "display_data"
    },
    {
     "data": {
      "application/vnd.jupyter.widget-view+json": {
       "model_id": "",
       "version_major": 2,
       "version_minor": 0
      },
      "text/plain": [
       "Validating: 0it [00:00, ?it/s]"
      ]
     },
     "metadata": {},
     "output_type": "display_data"
    },
    {
     "data": {
      "application/vnd.jupyter.widget-view+json": {
       "model_id": "",
       "version_major": 2,
       "version_minor": 0
      },
      "text/plain": [
       "Validating: 0it [00:00, ?it/s]"
      ]
     },
     "metadata": {},
     "output_type": "display_data"
    },
    {
     "data": {
      "application/vnd.jupyter.widget-view+json": {
       "model_id": "",
       "version_major": 2,
       "version_minor": 0
      },
      "text/plain": [
       "Validating: 0it [00:00, ?it/s]"
      ]
     },
     "metadata": {},
     "output_type": "display_data"
    },
    {
     "data": {
      "application/vnd.jupyter.widget-view+json": {
       "model_id": "",
       "version_major": 2,
       "version_minor": 0
      },
      "text/plain": [
       "Validating: 0it [00:00, ?it/s]"
      ]
     },
     "metadata": {},
     "output_type": "display_data"
    },
    {
     "data": {
      "application/vnd.jupyter.widget-view+json": {
       "model_id": "",
       "version_major": 2,
       "version_minor": 0
      },
      "text/plain": [
       "Validating: 0it [00:00, ?it/s]"
      ]
     },
     "metadata": {},
     "output_type": "display_data"
    },
    {
     "data": {
      "application/vnd.jupyter.widget-view+json": {
       "model_id": "",
       "version_major": 2,
       "version_minor": 0
      },
      "text/plain": [
       "Validating: 0it [00:00, ?it/s]"
      ]
     },
     "metadata": {},
     "output_type": "display_data"
    },
    {
     "data": {
      "application/vnd.jupyter.widget-view+json": {
       "model_id": "",
       "version_major": 2,
       "version_minor": 0
      },
      "text/plain": [
       "Validating: 0it [00:00, ?it/s]"
      ]
     },
     "metadata": {},
     "output_type": "display_data"
    },
    {
     "data": {
      "application/vnd.jupyter.widget-view+json": {
       "model_id": "",
       "version_major": 2,
       "version_minor": 0
      },
      "text/plain": [
       "Validating: 0it [00:00, ?it/s]"
      ]
     },
     "metadata": {},
     "output_type": "display_data"
    },
    {
     "data": {
      "application/vnd.jupyter.widget-view+json": {
       "model_id": "",
       "version_major": 2,
       "version_minor": 0
      },
      "text/plain": [
       "Validating: 0it [00:00, ?it/s]"
      ]
     },
     "metadata": {},
     "output_type": "display_data"
    },
    {
     "data": {
      "application/vnd.jupyter.widget-view+json": {
       "model_id": "",
       "version_major": 2,
       "version_minor": 0
      },
      "text/plain": [
       "Validating: 0it [00:00, ?it/s]"
      ]
     },
     "metadata": {},
     "output_type": "display_data"
    },
    {
     "data": {
      "application/vnd.jupyter.widget-view+json": {
       "model_id": "",
       "version_major": 2,
       "version_minor": 0
      },
      "text/plain": [
       "Validating: 0it [00:00, ?it/s]"
      ]
     },
     "metadata": {},
     "output_type": "display_data"
    },
    {
     "data": {
      "application/vnd.jupyter.widget-view+json": {
       "model_id": "",
       "version_major": 2,
       "version_minor": 0
      },
      "text/plain": [
       "Validating: 0it [00:00, ?it/s]"
      ]
     },
     "metadata": {},
     "output_type": "display_data"
    },
    {
     "data": {
      "application/vnd.jupyter.widget-view+json": {
       "model_id": "",
       "version_major": 2,
       "version_minor": 0
      },
      "text/plain": [
       "Validating: 0it [00:00, ?it/s]"
      ]
     },
     "metadata": {},
     "output_type": "display_data"
    },
    {
     "data": {
      "application/vnd.jupyter.widget-view+json": {
       "model_id": "",
       "version_major": 2,
       "version_minor": 0
      },
      "text/plain": [
       "Validating: 0it [00:00, ?it/s]"
      ]
     },
     "metadata": {},
     "output_type": "display_data"
    },
    {
     "data": {
      "application/vnd.jupyter.widget-view+json": {
       "model_id": "",
       "version_major": 2,
       "version_minor": 0
      },
      "text/plain": [
       "Validating: 0it [00:00, ?it/s]"
      ]
     },
     "metadata": {},
     "output_type": "display_data"
    },
    {
     "data": {
      "application/vnd.jupyter.widget-view+json": {
       "model_id": "",
       "version_major": 2,
       "version_minor": 0
      },
      "text/plain": [
       "Validating: 0it [00:00, ?it/s]"
      ]
     },
     "metadata": {},
     "output_type": "display_data"
    },
    {
     "data": {
      "application/vnd.jupyter.widget-view+json": {
       "model_id": "",
       "version_major": 2,
       "version_minor": 0
      },
      "text/plain": [
       "Validating: 0it [00:00, ?it/s]"
      ]
     },
     "metadata": {},
     "output_type": "display_data"
    },
    {
     "data": {
      "application/vnd.jupyter.widget-view+json": {
       "model_id": "",
       "version_major": 2,
       "version_minor": 0
      },
      "text/plain": [
       "Validating: 0it [00:00, ?it/s]"
      ]
     },
     "metadata": {},
     "output_type": "display_data"
    },
    {
     "data": {
      "application/vnd.jupyter.widget-view+json": {
       "model_id": "",
       "version_major": 2,
       "version_minor": 0
      },
      "text/plain": [
       "Validating: 0it [00:00, ?it/s]"
      ]
     },
     "metadata": {},
     "output_type": "display_data"
    },
    {
     "data": {
      "application/vnd.jupyter.widget-view+json": {
       "model_id": "",
       "version_major": 2,
       "version_minor": 0
      },
      "text/plain": [
       "Validating: 0it [00:00, ?it/s]"
      ]
     },
     "metadata": {},
     "output_type": "display_data"
    },
    {
     "data": {
      "application/vnd.jupyter.widget-view+json": {
       "model_id": "",
       "version_major": 2,
       "version_minor": 0
      },
      "text/plain": [
       "Validating: 0it [00:00, ?it/s]"
      ]
     },
     "metadata": {},
     "output_type": "display_data"
    },
    {
     "data": {
      "application/vnd.jupyter.widget-view+json": {
       "model_id": "",
       "version_major": 2,
       "version_minor": 0
      },
      "text/plain": [
       "Validating: 0it [00:00, ?it/s]"
      ]
     },
     "metadata": {},
     "output_type": "display_data"
    },
    {
     "data": {
      "application/vnd.jupyter.widget-view+json": {
       "model_id": "",
       "version_major": 2,
       "version_minor": 0
      },
      "text/plain": [
       "Validating: 0it [00:00, ?it/s]"
      ]
     },
     "metadata": {},
     "output_type": "display_data"
    },
    {
     "data": {
      "application/vnd.jupyter.widget-view+json": {
       "model_id": "",
       "version_major": 2,
       "version_minor": 0
      },
      "text/plain": [
       "Validating: 0it [00:00, ?it/s]"
      ]
     },
     "metadata": {},
     "output_type": "display_data"
    },
    {
     "data": {
      "application/vnd.jupyter.widget-view+json": {
       "model_id": "",
       "version_major": 2,
       "version_minor": 0
      },
      "text/plain": [
       "Validating: 0it [00:00, ?it/s]"
      ]
     },
     "metadata": {},
     "output_type": "display_data"
    },
    {
     "data": {
      "application/vnd.jupyter.widget-view+json": {
       "model_id": "",
       "version_major": 2,
       "version_minor": 0
      },
      "text/plain": [
       "Validating: 0it [00:00, ?it/s]"
      ]
     },
     "metadata": {},
     "output_type": "display_data"
    },
    {
     "data": {
      "application/vnd.jupyter.widget-view+json": {
       "model_id": "",
       "version_major": 2,
       "version_minor": 0
      },
      "text/plain": [
       "Validating: 0it [00:00, ?it/s]"
      ]
     },
     "metadata": {},
     "output_type": "display_data"
    },
    {
     "data": {
      "application/vnd.jupyter.widget-view+json": {
       "model_id": "",
       "version_major": 2,
       "version_minor": 0
      },
      "text/plain": [
       "Validating: 0it [00:00, ?it/s]"
      ]
     },
     "metadata": {},
     "output_type": "display_data"
    },
    {
     "data": {
      "application/vnd.jupyter.widget-view+json": {
       "model_id": "",
       "version_major": 2,
       "version_minor": 0
      },
      "text/plain": [
       "Validating: 0it [00:00, ?it/s]"
      ]
     },
     "metadata": {},
     "output_type": "display_data"
    },
    {
     "data": {
      "application/vnd.jupyter.widget-view+json": {
       "model_id": "",
       "version_major": 2,
       "version_minor": 0
      },
      "text/plain": [
       "Validating: 0it [00:00, ?it/s]"
      ]
     },
     "metadata": {},
     "output_type": "display_data"
    },
    {
     "data": {
      "application/vnd.jupyter.widget-view+json": {
       "model_id": "",
       "version_major": 2,
       "version_minor": 0
      },
      "text/plain": [
       "Validating: 0it [00:00, ?it/s]"
      ]
     },
     "metadata": {},
     "output_type": "display_data"
    },
    {
     "data": {
      "application/vnd.jupyter.widget-view+json": {
       "model_id": "",
       "version_major": 2,
       "version_minor": 0
      },
      "text/plain": [
       "Validating: 0it [00:00, ?it/s]"
      ]
     },
     "metadata": {},
     "output_type": "display_data"
    },
    {
     "data": {
      "application/vnd.jupyter.widget-view+json": {
       "model_id": "",
       "version_major": 2,
       "version_minor": 0
      },
      "text/plain": [
       "Validating: 0it [00:00, ?it/s]"
      ]
     },
     "metadata": {},
     "output_type": "display_data"
    },
    {
     "data": {
      "application/vnd.jupyter.widget-view+json": {
       "model_id": "",
       "version_major": 2,
       "version_minor": 0
      },
      "text/plain": [
       "Validating: 0it [00:00, ?it/s]"
      ]
     },
     "metadata": {},
     "output_type": "display_data"
    },
    {
     "data": {
      "application/vnd.jupyter.widget-view+json": {
       "model_id": "",
       "version_major": 2,
       "version_minor": 0
      },
      "text/plain": [
       "Validating: 0it [00:00, ?it/s]"
      ]
     },
     "metadata": {},
     "output_type": "display_data"
    },
    {
     "data": {
      "application/vnd.jupyter.widget-view+json": {
       "model_id": "",
       "version_major": 2,
       "version_minor": 0
      },
      "text/plain": [
       "Validating: 0it [00:00, ?it/s]"
      ]
     },
     "metadata": {},
     "output_type": "display_data"
    },
    {
     "data": {
      "application/vnd.jupyter.widget-view+json": {
       "model_id": "",
       "version_major": 2,
       "version_minor": 0
      },
      "text/plain": [
       "Validating: 0it [00:00, ?it/s]"
      ]
     },
     "metadata": {},
     "output_type": "display_data"
    },
    {
     "data": {
      "application/vnd.jupyter.widget-view+json": {
       "model_id": "",
       "version_major": 2,
       "version_minor": 0
      },
      "text/plain": [
       "Validating: 0it [00:00, ?it/s]"
      ]
     },
     "metadata": {},
     "output_type": "display_data"
    },
    {
     "data": {
      "application/vnd.jupyter.widget-view+json": {
       "model_id": "",
       "version_major": 2,
       "version_minor": 0
      },
      "text/plain": [
       "Validating: 0it [00:00, ?it/s]"
      ]
     },
     "metadata": {},
     "output_type": "display_data"
    },
    {
     "data": {
      "application/vnd.jupyter.widget-view+json": {
       "model_id": "",
       "version_major": 2,
       "version_minor": 0
      },
      "text/plain": [
       "Validating: 0it [00:00, ?it/s]"
      ]
     },
     "metadata": {},
     "output_type": "display_data"
    },
    {
     "data": {
      "application/vnd.jupyter.widget-view+json": {
       "model_id": "",
       "version_major": 2,
       "version_minor": 0
      },
      "text/plain": [
       "Validating: 0it [00:00, ?it/s]"
      ]
     },
     "metadata": {},
     "output_type": "display_data"
    },
    {
     "data": {
      "application/vnd.jupyter.widget-view+json": {
       "model_id": "",
       "version_major": 2,
       "version_minor": 0
      },
      "text/plain": [
       "Validating: 0it [00:00, ?it/s]"
      ]
     },
     "metadata": {},
     "output_type": "display_data"
    },
    {
     "data": {
      "application/vnd.jupyter.widget-view+json": {
       "model_id": "",
       "version_major": 2,
       "version_minor": 0
      },
      "text/plain": [
       "Validating: 0it [00:00, ?it/s]"
      ]
     },
     "metadata": {},
     "output_type": "display_data"
    },
    {
     "data": {
      "application/vnd.jupyter.widget-view+json": {
       "model_id": "",
       "version_major": 2,
       "version_minor": 0
      },
      "text/plain": [
       "Validating: 0it [00:00, ?it/s]"
      ]
     },
     "metadata": {},
     "output_type": "display_data"
    },
    {
     "data": {
      "application/vnd.jupyter.widget-view+json": {
       "model_id": "",
       "version_major": 2,
       "version_minor": 0
      },
      "text/plain": [
       "Validating: 0it [00:00, ?it/s]"
      ]
     },
     "metadata": {},
     "output_type": "display_data"
    },
    {
     "data": {
      "application/vnd.jupyter.widget-view+json": {
       "model_id": "",
       "version_major": 2,
       "version_minor": 0
      },
      "text/plain": [
       "Validating: 0it [00:00, ?it/s]"
      ]
     },
     "metadata": {},
     "output_type": "display_data"
    },
    {
     "data": {
      "application/vnd.jupyter.widget-view+json": {
       "model_id": "",
       "version_major": 2,
       "version_minor": 0
      },
      "text/plain": [
       "Validating: 0it [00:00, ?it/s]"
      ]
     },
     "metadata": {},
     "output_type": "display_data"
    },
    {
     "data": {
      "application/vnd.jupyter.widget-view+json": {
       "model_id": "",
       "version_major": 2,
       "version_minor": 0
      },
      "text/plain": [
       "Validating: 0it [00:00, ?it/s]"
      ]
     },
     "metadata": {},
     "output_type": "display_data"
    },
    {
     "data": {
      "application/vnd.jupyter.widget-view+json": {
       "model_id": "",
       "version_major": 2,
       "version_minor": 0
      },
      "text/plain": [
       "Validating: 0it [00:00, ?it/s]"
      ]
     },
     "metadata": {},
     "output_type": "display_data"
    },
    {
     "data": {
      "application/vnd.jupyter.widget-view+json": {
       "model_id": "",
       "version_major": 2,
       "version_minor": 0
      },
      "text/plain": [
       "Validating: 0it [00:00, ?it/s]"
      ]
     },
     "metadata": {},
     "output_type": "display_data"
    },
    {
     "data": {
      "application/vnd.jupyter.widget-view+json": {
       "model_id": "",
       "version_major": 2,
       "version_minor": 0
      },
      "text/plain": [
       "Validating: 0it [00:00, ?it/s]"
      ]
     },
     "metadata": {},
     "output_type": "display_data"
    },
    {
     "data": {
      "application/vnd.jupyter.widget-view+json": {
       "model_id": "",
       "version_major": 2,
       "version_minor": 0
      },
      "text/plain": [
       "Validating: 0it [00:00, ?it/s]"
      ]
     },
     "metadata": {},
     "output_type": "display_data"
    },
    {
     "data": {
      "application/vnd.jupyter.widget-view+json": {
       "model_id": "",
       "version_major": 2,
       "version_minor": 0
      },
      "text/plain": [
       "Validating: 0it [00:00, ?it/s]"
      ]
     },
     "metadata": {},
     "output_type": "display_data"
    },
    {
     "data": {
      "application/vnd.jupyter.widget-view+json": {
       "model_id": "",
       "version_major": 2,
       "version_minor": 0
      },
      "text/plain": [
       "Validating: 0it [00:00, ?it/s]"
      ]
     },
     "metadata": {},
     "output_type": "display_data"
    },
    {
     "data": {
      "application/vnd.jupyter.widget-view+json": {
       "model_id": "",
       "version_major": 2,
       "version_minor": 0
      },
      "text/plain": [
       "Validating: 0it [00:00, ?it/s]"
      ]
     },
     "metadata": {},
     "output_type": "display_data"
    },
    {
     "data": {
      "application/vnd.jupyter.widget-view+json": {
       "model_id": "",
       "version_major": 2,
       "version_minor": 0
      },
      "text/plain": [
       "Validating: 0it [00:00, ?it/s]"
      ]
     },
     "metadata": {},
     "output_type": "display_data"
    },
    {
     "data": {
      "application/vnd.jupyter.widget-view+json": {
       "model_id": "",
       "version_major": 2,
       "version_minor": 0
      },
      "text/plain": [
       "Validating: 0it [00:00, ?it/s]"
      ]
     },
     "metadata": {},
     "output_type": "display_data"
    },
    {
     "data": {
      "application/vnd.jupyter.widget-view+json": {
       "model_id": "",
       "version_major": 2,
       "version_minor": 0
      },
      "text/plain": [
       "Validating: 0it [00:00, ?it/s]"
      ]
     },
     "metadata": {},
     "output_type": "display_data"
    },
    {
     "data": {
      "application/vnd.jupyter.widget-view+json": {
       "model_id": "",
       "version_major": 2,
       "version_minor": 0
      },
      "text/plain": [
       "Validating: 0it [00:00, ?it/s]"
      ]
     },
     "metadata": {},
     "output_type": "display_data"
    },
    {
     "data": {
      "application/vnd.jupyter.widget-view+json": {
       "model_id": "",
       "version_major": 2,
       "version_minor": 0
      },
      "text/plain": [
       "Validating: 0it [00:00, ?it/s]"
      ]
     },
     "metadata": {},
     "output_type": "display_data"
    },
    {
     "data": {
      "application/vnd.jupyter.widget-view+json": {
       "model_id": "",
       "version_major": 2,
       "version_minor": 0
      },
      "text/plain": [
       "Validating: 0it [00:00, ?it/s]"
      ]
     },
     "metadata": {},
     "output_type": "display_data"
    },
    {
     "data": {
      "application/vnd.jupyter.widget-view+json": {
       "model_id": "",
       "version_major": 2,
       "version_minor": 0
      },
      "text/plain": [
       "Validating: 0it [00:00, ?it/s]"
      ]
     },
     "metadata": {},
     "output_type": "display_data"
    },
    {
     "data": {
      "application/vnd.jupyter.widget-view+json": {
       "model_id": "",
       "version_major": 2,
       "version_minor": 0
      },
      "text/plain": [
       "Validating: 0it [00:00, ?it/s]"
      ]
     },
     "metadata": {},
     "output_type": "display_data"
    },
    {
     "data": {
      "application/vnd.jupyter.widget-view+json": {
       "model_id": "",
       "version_major": 2,
       "version_minor": 0
      },
      "text/plain": [
       "Validating: 0it [00:00, ?it/s]"
      ]
     },
     "metadata": {},
     "output_type": "display_data"
    },
    {
     "data": {
      "application/vnd.jupyter.widget-view+json": {
       "model_id": "",
       "version_major": 2,
       "version_minor": 0
      },
      "text/plain": [
       "Validating: 0it [00:00, ?it/s]"
      ]
     },
     "metadata": {},
     "output_type": "display_data"
    },
    {
     "data": {
      "application/vnd.jupyter.widget-view+json": {
       "model_id": "",
       "version_major": 2,
       "version_minor": 0
      },
      "text/plain": [
       "Validating: 0it [00:00, ?it/s]"
      ]
     },
     "metadata": {},
     "output_type": "display_data"
    },
    {
     "data": {
      "application/vnd.jupyter.widget-view+json": {
       "model_id": "",
       "version_major": 2,
       "version_minor": 0
      },
      "text/plain": [
       "Validating: 0it [00:00, ?it/s]"
      ]
     },
     "metadata": {},
     "output_type": "display_data"
    },
    {
     "data": {
      "application/vnd.jupyter.widget-view+json": {
       "model_id": "",
       "version_major": 2,
       "version_minor": 0
      },
      "text/plain": [
       "Validating: 0it [00:00, ?it/s]"
      ]
     },
     "metadata": {},
     "output_type": "display_data"
    },
    {
     "data": {
      "application/vnd.jupyter.widget-view+json": {
       "model_id": "",
       "version_major": 2,
       "version_minor": 0
      },
      "text/plain": [
       "Validating: 0it [00:00, ?it/s]"
      ]
     },
     "metadata": {},
     "output_type": "display_data"
    },
    {
     "data": {
      "application/vnd.jupyter.widget-view+json": {
       "model_id": "",
       "version_major": 2,
       "version_minor": 0
      },
      "text/plain": [
       "Validating: 0it [00:00, ?it/s]"
      ]
     },
     "metadata": {},
     "output_type": "display_data"
    },
    {
     "data": {
      "application/vnd.jupyter.widget-view+json": {
       "model_id": "",
       "version_major": 2,
       "version_minor": 0
      },
      "text/plain": [
       "Validating: 0it [00:00, ?it/s]"
      ]
     },
     "metadata": {},
     "output_type": "display_data"
    },
    {
     "data": {
      "application/vnd.jupyter.widget-view+json": {
       "model_id": "",
       "version_major": 2,
       "version_minor": 0
      },
      "text/plain": [
       "Validating: 0it [00:00, ?it/s]"
      ]
     },
     "metadata": {},
     "output_type": "display_data"
    },
    {
     "data": {
      "application/vnd.jupyter.widget-view+json": {
       "model_id": "",
       "version_major": 2,
       "version_minor": 0
      },
      "text/plain": [
       "Validating: 0it [00:00, ?it/s]"
      ]
     },
     "metadata": {},
     "output_type": "display_data"
    },
    {
     "data": {
      "application/vnd.jupyter.widget-view+json": {
       "model_id": "",
       "version_major": 2,
       "version_minor": 0
      },
      "text/plain": [
       "Validating: 0it [00:00, ?it/s]"
      ]
     },
     "metadata": {},
     "output_type": "display_data"
    },
    {
     "data": {
      "application/vnd.jupyter.widget-view+json": {
       "model_id": "",
       "version_major": 2,
       "version_minor": 0
      },
      "text/plain": [
       "Validating: 0it [00:00, ?it/s]"
      ]
     },
     "metadata": {},
     "output_type": "display_data"
    },
    {
     "data": {
      "application/vnd.jupyter.widget-view+json": {
       "model_id": "",
       "version_major": 2,
       "version_minor": 0
      },
      "text/plain": [
       "Validating: 0it [00:00, ?it/s]"
      ]
     },
     "metadata": {},
     "output_type": "display_data"
    },
    {
     "data": {
      "application/vnd.jupyter.widget-view+json": {
       "model_id": "",
       "version_major": 2,
       "version_minor": 0
      },
      "text/plain": [
       "Validating: 0it [00:00, ?it/s]"
      ]
     },
     "metadata": {},
     "output_type": "display_data"
    },
    {
     "data": {
      "application/vnd.jupyter.widget-view+json": {
       "model_id": "",
       "version_major": 2,
       "version_minor": 0
      },
      "text/plain": [
       "Validating: 0it [00:00, ?it/s]"
      ]
     },
     "metadata": {},
     "output_type": "display_data"
    },
    {
     "data": {
      "application/vnd.jupyter.widget-view+json": {
       "model_id": "",
       "version_major": 2,
       "version_minor": 0
      },
      "text/plain": [
       "Validating: 0it [00:00, ?it/s]"
      ]
     },
     "metadata": {},
     "output_type": "display_data"
    },
    {
     "data": {
      "application/vnd.jupyter.widget-view+json": {
       "model_id": "",
       "version_major": 2,
       "version_minor": 0
      },
      "text/plain": [
       "Validating: 0it [00:00, ?it/s]"
      ]
     },
     "metadata": {},
     "output_type": "display_data"
    },
    {
     "data": {
      "application/vnd.jupyter.widget-view+json": {
       "model_id": "",
       "version_major": 2,
       "version_minor": 0
      },
      "text/plain": [
       "Validating: 0it [00:00, ?it/s]"
      ]
     },
     "metadata": {},
     "output_type": "display_data"
    },
    {
     "data": {
      "application/vnd.jupyter.widget-view+json": {
       "model_id": "",
       "version_major": 2,
       "version_minor": 0
      },
      "text/plain": [
       "Validating: 0it [00:00, ?it/s]"
      ]
     },
     "metadata": {},
     "output_type": "display_data"
    },
    {
     "data": {
      "application/vnd.jupyter.widget-view+json": {
       "model_id": "",
       "version_major": 2,
       "version_minor": 0
      },
      "text/plain": [
       "Validating: 0it [00:00, ?it/s]"
      ]
     },
     "metadata": {},
     "output_type": "display_data"
    },
    {
     "data": {
      "application/vnd.jupyter.widget-view+json": {
       "model_id": "",
       "version_major": 2,
       "version_minor": 0
      },
      "text/plain": [
       "Validating: 0it [00:00, ?it/s]"
      ]
     },
     "metadata": {},
     "output_type": "display_data"
    },
    {
     "data": {
      "application/vnd.jupyter.widget-view+json": {
       "model_id": "",
       "version_major": 2,
       "version_minor": 0
      },
      "text/plain": [
       "Validating: 0it [00:00, ?it/s]"
      ]
     },
     "metadata": {},
     "output_type": "display_data"
    },
    {
     "data": {
      "application/vnd.jupyter.widget-view+json": {
       "model_id": "",
       "version_major": 2,
       "version_minor": 0
      },
      "text/plain": [
       "Validating: 0it [00:00, ?it/s]"
      ]
     },
     "metadata": {},
     "output_type": "display_data"
    },
    {
     "data": {
      "application/vnd.jupyter.widget-view+json": {
       "model_id": "",
       "version_major": 2,
       "version_minor": 0
      },
      "text/plain": [
       "Validating: 0it [00:00, ?it/s]"
      ]
     },
     "metadata": {},
     "output_type": "display_data"
    },
    {
     "data": {
      "application/vnd.jupyter.widget-view+json": {
       "model_id": "",
       "version_major": 2,
       "version_minor": 0
      },
      "text/plain": [
       "Validating: 0it [00:00, ?it/s]"
      ]
     },
     "metadata": {},
     "output_type": "display_data"
    },
    {
     "data": {
      "application/vnd.jupyter.widget-view+json": {
       "model_id": "",
       "version_major": 2,
       "version_minor": 0
      },
      "text/plain": [
       "Validating: 0it [00:00, ?it/s]"
      ]
     },
     "metadata": {},
     "output_type": "display_data"
    },
    {
     "data": {
      "application/vnd.jupyter.widget-view+json": {
       "model_id": "",
       "version_major": 2,
       "version_minor": 0
      },
      "text/plain": [
       "Validating: 0it [00:00, ?it/s]"
      ]
     },
     "metadata": {},
     "output_type": "display_data"
    },
    {
     "data": {
      "application/vnd.jupyter.widget-view+json": {
       "model_id": "",
       "version_major": 2,
       "version_minor": 0
      },
      "text/plain": [
       "Validating: 0it [00:00, ?it/s]"
      ]
     },
     "metadata": {},
     "output_type": "display_data"
    },
    {
     "data": {
      "application/vnd.jupyter.widget-view+json": {
       "model_id": "",
       "version_major": 2,
       "version_minor": 0
      },
      "text/plain": [
       "Validating: 0it [00:00, ?it/s]"
      ]
     },
     "metadata": {},
     "output_type": "display_data"
    },
    {
     "data": {
      "application/vnd.jupyter.widget-view+json": {
       "model_id": "",
       "version_major": 2,
       "version_minor": 0
      },
      "text/plain": [
       "Validating: 0it [00:00, ?it/s]"
      ]
     },
     "metadata": {},
     "output_type": "display_data"
    },
    {
     "data": {
      "application/vnd.jupyter.widget-view+json": {
       "model_id": "",
       "version_major": 2,
       "version_minor": 0
      },
      "text/plain": [
       "Validating: 0it [00:00, ?it/s]"
      ]
     },
     "metadata": {},
     "output_type": "display_data"
    },
    {
     "data": {
      "application/vnd.jupyter.widget-view+json": {
       "model_id": "",
       "version_major": 2,
       "version_minor": 0
      },
      "text/plain": [
       "Validating: 0it [00:00, ?it/s]"
      ]
     },
     "metadata": {},
     "output_type": "display_data"
    },
    {
     "data": {
      "application/vnd.jupyter.widget-view+json": {
       "model_id": "",
       "version_major": 2,
       "version_minor": 0
      },
      "text/plain": [
       "Validating: 0it [00:00, ?it/s]"
      ]
     },
     "metadata": {},
     "output_type": "display_data"
    },
    {
     "data": {
      "application/vnd.jupyter.widget-view+json": {
       "model_id": "",
       "version_major": 2,
       "version_minor": 0
      },
      "text/plain": [
       "Validating: 0it [00:00, ?it/s]"
      ]
     },
     "metadata": {},
     "output_type": "display_data"
    },
    {
     "data": {
      "application/vnd.jupyter.widget-view+json": {
       "model_id": "",
       "version_major": 2,
       "version_minor": 0
      },
      "text/plain": [
       "Validating: 0it [00:00, ?it/s]"
      ]
     },
     "metadata": {},
     "output_type": "display_data"
    },
    {
     "data": {
      "application/vnd.jupyter.widget-view+json": {
       "model_id": "",
       "version_major": 2,
       "version_minor": 0
      },
      "text/plain": [
       "Validating: 0it [00:00, ?it/s]"
      ]
     },
     "metadata": {},
     "output_type": "display_data"
    },
    {
     "data": {
      "application/vnd.jupyter.widget-view+json": {
       "model_id": "",
       "version_major": 2,
       "version_minor": 0
      },
      "text/plain": [
       "Validating: 0it [00:00, ?it/s]"
      ]
     },
     "metadata": {},
     "output_type": "display_data"
    },
    {
     "data": {
      "application/vnd.jupyter.widget-view+json": {
       "model_id": "",
       "version_major": 2,
       "version_minor": 0
      },
      "text/plain": [
       "Validating: 0it [00:00, ?it/s]"
      ]
     },
     "metadata": {},
     "output_type": "display_data"
    },
    {
     "data": {
      "application/vnd.jupyter.widget-view+json": {
       "model_id": "",
       "version_major": 2,
       "version_minor": 0
      },
      "text/plain": [
       "Validating: 0it [00:00, ?it/s]"
      ]
     },
     "metadata": {},
     "output_type": "display_data"
    },
    {
     "data": {
      "application/vnd.jupyter.widget-view+json": {
       "model_id": "",
       "version_major": 2,
       "version_minor": 0
      },
      "text/plain": [
       "Validating: 0it [00:00, ?it/s]"
      ]
     },
     "metadata": {},
     "output_type": "display_data"
    },
    {
     "data": {
      "application/vnd.jupyter.widget-view+json": {
       "model_id": "",
       "version_major": 2,
       "version_minor": 0
      },
      "text/plain": [
       "Validating: 0it [00:00, ?it/s]"
      ]
     },
     "metadata": {},
     "output_type": "display_data"
    },
    {
     "data": {
      "application/vnd.jupyter.widget-view+json": {
       "model_id": "",
       "version_major": 2,
       "version_minor": 0
      },
      "text/plain": [
       "Validating: 0it [00:00, ?it/s]"
      ]
     },
     "metadata": {},
     "output_type": "display_data"
    },
    {
     "data": {
      "application/vnd.jupyter.widget-view+json": {
       "model_id": "",
       "version_major": 2,
       "version_minor": 0
      },
      "text/plain": [
       "Validating: 0it [00:00, ?it/s]"
      ]
     },
     "metadata": {},
     "output_type": "display_data"
    },
    {
     "data": {
      "application/vnd.jupyter.widget-view+json": {
       "model_id": "",
       "version_major": 2,
       "version_minor": 0
      },
      "text/plain": [
       "Validating: 0it [00:00, ?it/s]"
      ]
     },
     "metadata": {},
     "output_type": "display_data"
    },
    {
     "data": {
      "application/vnd.jupyter.widget-view+json": {
       "model_id": "",
       "version_major": 2,
       "version_minor": 0
      },
      "text/plain": [
       "Validating: 0it [00:00, ?it/s]"
      ]
     },
     "metadata": {},
     "output_type": "display_data"
    },
    {
     "data": {
      "application/vnd.jupyter.widget-view+json": {
       "model_id": "",
       "version_major": 2,
       "version_minor": 0
      },
      "text/plain": [
       "Validating: 0it [00:00, ?it/s]"
      ]
     },
     "metadata": {},
     "output_type": "display_data"
    },
    {
     "data": {
      "application/vnd.jupyter.widget-view+json": {
       "model_id": "",
       "version_major": 2,
       "version_minor": 0
      },
      "text/plain": [
       "Validating: 0it [00:00, ?it/s]"
      ]
     },
     "metadata": {},
     "output_type": "display_data"
    },
    {
     "data": {
      "application/vnd.jupyter.widget-view+json": {
       "model_id": "",
       "version_major": 2,
       "version_minor": 0
      },
      "text/plain": [
       "Validating: 0it [00:00, ?it/s]"
      ]
     },
     "metadata": {},
     "output_type": "display_data"
    },
    {
     "data": {
      "application/vnd.jupyter.widget-view+json": {
       "model_id": "",
       "version_major": 2,
       "version_minor": 0
      },
      "text/plain": [
       "Validating: 0it [00:00, ?it/s]"
      ]
     },
     "metadata": {},
     "output_type": "display_data"
    },
    {
     "data": {
      "application/vnd.jupyter.widget-view+json": {
       "model_id": "",
       "version_major": 2,
       "version_minor": 0
      },
      "text/plain": [
       "Validating: 0it [00:00, ?it/s]"
      ]
     },
     "metadata": {},
     "output_type": "display_data"
    },
    {
     "data": {
      "application/vnd.jupyter.widget-view+json": {
       "model_id": "",
       "version_major": 2,
       "version_minor": 0
      },
      "text/plain": [
       "Validating: 0it [00:00, ?it/s]"
      ]
     },
     "metadata": {},
     "output_type": "display_data"
    },
    {
     "data": {
      "application/vnd.jupyter.widget-view+json": {
       "model_id": "",
       "version_major": 2,
       "version_minor": 0
      },
      "text/plain": [
       "Validating: 0it [00:00, ?it/s]"
      ]
     },
     "metadata": {},
     "output_type": "display_data"
    },
    {
     "data": {
      "application/vnd.jupyter.widget-view+json": {
       "model_id": "",
       "version_major": 2,
       "version_minor": 0
      },
      "text/plain": [
       "Validating: 0it [00:00, ?it/s]"
      ]
     },
     "metadata": {},
     "output_type": "display_data"
    },
    {
     "data": {
      "application/vnd.jupyter.widget-view+json": {
       "model_id": "",
       "version_major": 2,
       "version_minor": 0
      },
      "text/plain": [
       "Validating: 0it [00:00, ?it/s]"
      ]
     },
     "metadata": {},
     "output_type": "display_data"
    },
    {
     "data": {
      "application/vnd.jupyter.widget-view+json": {
       "model_id": "",
       "version_major": 2,
       "version_minor": 0
      },
      "text/plain": [
       "Validating: 0it [00:00, ?it/s]"
      ]
     },
     "metadata": {},
     "output_type": "display_data"
    },
    {
     "data": {
      "application/vnd.jupyter.widget-view+json": {
       "model_id": "",
       "version_major": 2,
       "version_minor": 0
      },
      "text/plain": [
       "Validating: 0it [00:00, ?it/s]"
      ]
     },
     "metadata": {},
     "output_type": "display_data"
    },
    {
     "data": {
      "application/vnd.jupyter.widget-view+json": {
       "model_id": "",
       "version_major": 2,
       "version_minor": 0
      },
      "text/plain": [
       "Validating: 0it [00:00, ?it/s]"
      ]
     },
     "metadata": {},
     "output_type": "display_data"
    },
    {
     "data": {
      "application/vnd.jupyter.widget-view+json": {
       "model_id": "",
       "version_major": 2,
       "version_minor": 0
      },
      "text/plain": [
       "Validating: 0it [00:00, ?it/s]"
      ]
     },
     "metadata": {},
     "output_type": "display_data"
    },
    {
     "data": {
      "application/vnd.jupyter.widget-view+json": {
       "model_id": "",
       "version_major": 2,
       "version_minor": 0
      },
      "text/plain": [
       "Validating: 0it [00:00, ?it/s]"
      ]
     },
     "metadata": {},
     "output_type": "display_data"
    },
    {
     "data": {
      "application/vnd.jupyter.widget-view+json": {
       "model_id": "",
       "version_major": 2,
       "version_minor": 0
      },
      "text/plain": [
       "Validating: 0it [00:00, ?it/s]"
      ]
     },
     "metadata": {},
     "output_type": "display_data"
    },
    {
     "data": {
      "application/vnd.jupyter.widget-view+json": {
       "model_id": "",
       "version_major": 2,
       "version_minor": 0
      },
      "text/plain": [
       "Validating: 0it [00:00, ?it/s]"
      ]
     },
     "metadata": {},
     "output_type": "display_data"
    },
    {
     "data": {
      "application/vnd.jupyter.widget-view+json": {
       "model_id": "",
       "version_major": 2,
       "version_minor": 0
      },
      "text/plain": [
       "Validating: 0it [00:00, ?it/s]"
      ]
     },
     "metadata": {},
     "output_type": "display_data"
    },
    {
     "data": {
      "application/vnd.jupyter.widget-view+json": {
       "model_id": "",
       "version_major": 2,
       "version_minor": 0
      },
      "text/plain": [
       "Validating: 0it [00:00, ?it/s]"
      ]
     },
     "metadata": {},
     "output_type": "display_data"
    },
    {
     "data": {
      "application/vnd.jupyter.widget-view+json": {
       "model_id": "",
       "version_major": 2,
       "version_minor": 0
      },
      "text/plain": [
       "Validating: 0it [00:00, ?it/s]"
      ]
     },
     "metadata": {},
     "output_type": "display_data"
    },
    {
     "data": {
      "application/vnd.jupyter.widget-view+json": {
       "model_id": "",
       "version_major": 2,
       "version_minor": 0
      },
      "text/plain": [
       "Validating: 0it [00:00, ?it/s]"
      ]
     },
     "metadata": {},
     "output_type": "display_data"
    },
    {
     "data": {
      "application/vnd.jupyter.widget-view+json": {
       "model_id": "",
       "version_major": 2,
       "version_minor": 0
      },
      "text/plain": [
       "Validating: 0it [00:00, ?it/s]"
      ]
     },
     "metadata": {},
     "output_type": "display_data"
    },
    {
     "data": {
      "application/vnd.jupyter.widget-view+json": {
       "model_id": "",
       "version_major": 2,
       "version_minor": 0
      },
      "text/plain": [
       "Validating: 0it [00:00, ?it/s]"
      ]
     },
     "metadata": {},
     "output_type": "display_data"
    },
    {
     "data": {
      "application/vnd.jupyter.widget-view+json": {
       "model_id": "",
       "version_major": 2,
       "version_minor": 0
      },
      "text/plain": [
       "Validating: 0it [00:00, ?it/s]"
      ]
     },
     "metadata": {},
     "output_type": "display_data"
    },
    {
     "data": {
      "application/vnd.jupyter.widget-view+json": {
       "model_id": "",
       "version_major": 2,
       "version_minor": 0
      },
      "text/plain": [
       "Validating: 0it [00:00, ?it/s]"
      ]
     },
     "metadata": {},
     "output_type": "display_data"
    },
    {
     "data": {
      "application/vnd.jupyter.widget-view+json": {
       "model_id": "",
       "version_major": 2,
       "version_minor": 0
      },
      "text/plain": [
       "Validating: 0it [00:00, ?it/s]"
      ]
     },
     "metadata": {},
     "output_type": "display_data"
    },
    {
     "data": {
      "application/vnd.jupyter.widget-view+json": {
       "model_id": "",
       "version_major": 2,
       "version_minor": 0
      },
      "text/plain": [
       "Validating: 0it [00:00, ?it/s]"
      ]
     },
     "metadata": {},
     "output_type": "display_data"
    },
    {
     "data": {
      "application/vnd.jupyter.widget-view+json": {
       "model_id": "",
       "version_major": 2,
       "version_minor": 0
      },
      "text/plain": [
       "Validating: 0it [00:00, ?it/s]"
      ]
     },
     "metadata": {},
     "output_type": "display_data"
    },
    {
     "data": {
      "application/vnd.jupyter.widget-view+json": {
       "model_id": "",
       "version_major": 2,
       "version_minor": 0
      },
      "text/plain": [
       "Validating: 0it [00:00, ?it/s]"
      ]
     },
     "metadata": {},
     "output_type": "display_data"
    },
    {
     "data": {
      "application/vnd.jupyter.widget-view+json": {
       "model_id": "",
       "version_major": 2,
       "version_minor": 0
      },
      "text/plain": [
       "Validating: 0it [00:00, ?it/s]"
      ]
     },
     "metadata": {},
     "output_type": "display_data"
    },
    {
     "data": {
      "application/vnd.jupyter.widget-view+json": {
       "model_id": "",
       "version_major": 2,
       "version_minor": 0
      },
      "text/plain": [
       "Validating: 0it [00:00, ?it/s]"
      ]
     },
     "metadata": {},
     "output_type": "display_data"
    },
    {
     "data": {
      "application/vnd.jupyter.widget-view+json": {
       "model_id": "",
       "version_major": 2,
       "version_minor": 0
      },
      "text/plain": [
       "Validating: 0it [00:00, ?it/s]"
      ]
     },
     "metadata": {},
     "output_type": "display_data"
    },
    {
     "data": {
      "application/vnd.jupyter.widget-view+json": {
       "model_id": "",
       "version_major": 2,
       "version_minor": 0
      },
      "text/plain": [
       "Validating: 0it [00:00, ?it/s]"
      ]
     },
     "metadata": {},
     "output_type": "display_data"
    },
    {
     "data": {
      "application/vnd.jupyter.widget-view+json": {
       "model_id": "",
       "version_major": 2,
       "version_minor": 0
      },
      "text/plain": [
       "Validating: 0it [00:00, ?it/s]"
      ]
     },
     "metadata": {},
     "output_type": "display_data"
    },
    {
     "data": {
      "application/vnd.jupyter.widget-view+json": {
       "model_id": "",
       "version_major": 2,
       "version_minor": 0
      },
      "text/plain": [
       "Validating: 0it [00:00, ?it/s]"
      ]
     },
     "metadata": {},
     "output_type": "display_data"
    },
    {
     "data": {
      "application/vnd.jupyter.widget-view+json": {
       "model_id": "",
       "version_major": 2,
       "version_minor": 0
      },
      "text/plain": [
       "Validating: 0it [00:00, ?it/s]"
      ]
     },
     "metadata": {},
     "output_type": "display_data"
    },
    {
     "data": {
      "application/vnd.jupyter.widget-view+json": {
       "model_id": "",
       "version_major": 2,
       "version_minor": 0
      },
      "text/plain": [
       "Validating: 0it [00:00, ?it/s]"
      ]
     },
     "metadata": {},
     "output_type": "display_data"
    },
    {
     "data": {
      "application/vnd.jupyter.widget-view+json": {
       "model_id": "",
       "version_major": 2,
       "version_minor": 0
      },
      "text/plain": [
       "Validating: 0it [00:00, ?it/s]"
      ]
     },
     "metadata": {},
     "output_type": "display_data"
    },
    {
     "data": {
      "application/vnd.jupyter.widget-view+json": {
       "model_id": "",
       "version_major": 2,
       "version_minor": 0
      },
      "text/plain": [
       "Validating: 0it [00:00, ?it/s]"
      ]
     },
     "metadata": {},
     "output_type": "display_data"
    },
    {
     "data": {
      "application/vnd.jupyter.widget-view+json": {
       "model_id": "",
       "version_major": 2,
       "version_minor": 0
      },
      "text/plain": [
       "Validating: 0it [00:00, ?it/s]"
      ]
     },
     "metadata": {},
     "output_type": "display_data"
    },
    {
     "data": {
      "application/vnd.jupyter.widget-view+json": {
       "model_id": "",
       "version_major": 2,
       "version_minor": 0
      },
      "text/plain": [
       "Validating: 0it [00:00, ?it/s]"
      ]
     },
     "metadata": {},
     "output_type": "display_data"
    },
    {
     "data": {
      "application/vnd.jupyter.widget-view+json": {
       "model_id": "",
       "version_major": 2,
       "version_minor": 0
      },
      "text/plain": [
       "Validating: 0it [00:00, ?it/s]"
      ]
     },
     "metadata": {},
     "output_type": "display_data"
    },
    {
     "data": {
      "application/vnd.jupyter.widget-view+json": {
       "model_id": "",
       "version_major": 2,
       "version_minor": 0
      },
      "text/plain": [
       "Validating: 0it [00:00, ?it/s]"
      ]
     },
     "metadata": {},
     "output_type": "display_data"
    },
    {
     "data": {
      "application/vnd.jupyter.widget-view+json": {
       "model_id": "",
       "version_major": 2,
       "version_minor": 0
      },
      "text/plain": [
       "Validating: 0it [00:00, ?it/s]"
      ]
     },
     "metadata": {},
     "output_type": "display_data"
    },
    {
     "data": {
      "application/vnd.jupyter.widget-view+json": {
       "model_id": "",
       "version_major": 2,
       "version_minor": 0
      },
      "text/plain": [
       "Validating: 0it [00:00, ?it/s]"
      ]
     },
     "metadata": {},
     "output_type": "display_data"
    },
    {
     "data": {
      "application/vnd.jupyter.widget-view+json": {
       "model_id": "",
       "version_major": 2,
       "version_minor": 0
      },
      "text/plain": [
       "Validating: 0it [00:00, ?it/s]"
      ]
     },
     "metadata": {},
     "output_type": "display_data"
    },
    {
     "data": {
      "application/vnd.jupyter.widget-view+json": {
       "model_id": "",
       "version_major": 2,
       "version_minor": 0
      },
      "text/plain": [
       "Validating: 0it [00:00, ?it/s]"
      ]
     },
     "metadata": {},
     "output_type": "display_data"
    },
    {
     "data": {
      "application/vnd.jupyter.widget-view+json": {
       "model_id": "",
       "version_major": 2,
       "version_minor": 0
      },
      "text/plain": [
       "Validating: 0it [00:00, ?it/s]"
      ]
     },
     "metadata": {},
     "output_type": "display_data"
    },
    {
     "data": {
      "application/vnd.jupyter.widget-view+json": {
       "model_id": "",
       "version_major": 2,
       "version_minor": 0
      },
      "text/plain": [
       "Validating: 0it [00:00, ?it/s]"
      ]
     },
     "metadata": {},
     "output_type": "display_data"
    },
    {
     "data": {
      "application/vnd.jupyter.widget-view+json": {
       "model_id": "",
       "version_major": 2,
       "version_minor": 0
      },
      "text/plain": [
       "Validating: 0it [00:00, ?it/s]"
      ]
     },
     "metadata": {},
     "output_type": "display_data"
    },
    {
     "data": {
      "application/vnd.jupyter.widget-view+json": {
       "model_id": "",
       "version_major": 2,
       "version_minor": 0
      },
      "text/plain": [
       "Validating: 0it [00:00, ?it/s]"
      ]
     },
     "metadata": {},
     "output_type": "display_data"
    },
    {
     "data": {
      "application/vnd.jupyter.widget-view+json": {
       "model_id": "",
       "version_major": 2,
       "version_minor": 0
      },
      "text/plain": [
       "Validating: 0it [00:00, ?it/s]"
      ]
     },
     "metadata": {},
     "output_type": "display_data"
    },
    {
     "data": {
      "application/vnd.jupyter.widget-view+json": {
       "model_id": "",
       "version_major": 2,
       "version_minor": 0
      },
      "text/plain": [
       "Validating: 0it [00:00, ?it/s]"
      ]
     },
     "metadata": {},
     "output_type": "display_data"
    },
    {
     "data": {
      "application/vnd.jupyter.widget-view+json": {
       "model_id": "",
       "version_major": 2,
       "version_minor": 0
      },
      "text/plain": [
       "Validating: 0it [00:00, ?it/s]"
      ]
     },
     "metadata": {},
     "output_type": "display_data"
    },
    {
     "data": {
      "application/vnd.jupyter.widget-view+json": {
       "model_id": "",
       "version_major": 2,
       "version_minor": 0
      },
      "text/plain": [
       "Validating: 0it [00:00, ?it/s]"
      ]
     },
     "metadata": {},
     "output_type": "display_data"
    },
    {
     "data": {
      "application/vnd.jupyter.widget-view+json": {
       "model_id": "",
       "version_major": 2,
       "version_minor": 0
      },
      "text/plain": [
       "Validating: 0it [00:00, ?it/s]"
      ]
     },
     "metadata": {},
     "output_type": "display_data"
    },
    {
     "data": {
      "application/vnd.jupyter.widget-view+json": {
       "model_id": "",
       "version_major": 2,
       "version_minor": 0
      },
      "text/plain": [
       "Validating: 0it [00:00, ?it/s]"
      ]
     },
     "metadata": {},
     "output_type": "display_data"
    },
    {
     "data": {
      "application/vnd.jupyter.widget-view+json": {
       "model_id": "",
       "version_major": 2,
       "version_minor": 0
      },
      "text/plain": [
       "Validating: 0it [00:00, ?it/s]"
      ]
     },
     "metadata": {},
     "output_type": "display_data"
    },
    {
     "data": {
      "application/vnd.jupyter.widget-view+json": {
       "model_id": "",
       "version_major": 2,
       "version_minor": 0
      },
      "text/plain": [
       "Validating: 0it [00:00, ?it/s]"
      ]
     },
     "metadata": {},
     "output_type": "display_data"
    },
    {
     "data": {
      "application/vnd.jupyter.widget-view+json": {
       "model_id": "",
       "version_major": 2,
       "version_minor": 0
      },
      "text/plain": [
       "Validating: 0it [00:00, ?it/s]"
      ]
     },
     "metadata": {},
     "output_type": "display_data"
    },
    {
     "data": {
      "application/vnd.jupyter.widget-view+json": {
       "model_id": "",
       "version_major": 2,
       "version_minor": 0
      },
      "text/plain": [
       "Validating: 0it [00:00, ?it/s]"
      ]
     },
     "metadata": {},
     "output_type": "display_data"
    },
    {
     "data": {
      "application/vnd.jupyter.widget-view+json": {
       "model_id": "",
       "version_major": 2,
       "version_minor": 0
      },
      "text/plain": [
       "Validating: 0it [00:00, ?it/s]"
      ]
     },
     "metadata": {},
     "output_type": "display_data"
    },
    {
     "data": {
      "application/vnd.jupyter.widget-view+json": {
       "model_id": "",
       "version_major": 2,
       "version_minor": 0
      },
      "text/plain": [
       "Validating: 0it [00:00, ?it/s]"
      ]
     },
     "metadata": {},
     "output_type": "display_data"
    },
    {
     "data": {
      "application/vnd.jupyter.widget-view+json": {
       "model_id": "",
       "version_major": 2,
       "version_minor": 0
      },
      "text/plain": [
       "Validating: 0it [00:00, ?it/s]"
      ]
     },
     "metadata": {},
     "output_type": "display_data"
    },
    {
     "data": {
      "application/vnd.jupyter.widget-view+json": {
       "model_id": "",
       "version_major": 2,
       "version_minor": 0
      },
      "text/plain": [
       "Validating: 0it [00:00, ?it/s]"
      ]
     },
     "metadata": {},
     "output_type": "display_data"
    },
    {
     "data": {
      "application/vnd.jupyter.widget-view+json": {
       "model_id": "",
       "version_major": 2,
       "version_minor": 0
      },
      "text/plain": [
       "Validating: 0it [00:00, ?it/s]"
      ]
     },
     "metadata": {},
     "output_type": "display_data"
    },
    {
     "data": {
      "application/vnd.jupyter.widget-view+json": {
       "model_id": "",
       "version_major": 2,
       "version_minor": 0
      },
      "text/plain": [
       "Validating: 0it [00:00, ?it/s]"
      ]
     },
     "metadata": {},
     "output_type": "display_data"
    },
    {
     "data": {
      "application/vnd.jupyter.widget-view+json": {
       "model_id": "",
       "version_major": 2,
       "version_minor": 0
      },
      "text/plain": [
       "Validating: 0it [00:00, ?it/s]"
      ]
     },
     "metadata": {},
     "output_type": "display_data"
    },
    {
     "data": {
      "application/vnd.jupyter.widget-view+json": {
       "model_id": "",
       "version_major": 2,
       "version_minor": 0
      },
      "text/plain": [
       "Validating: 0it [00:00, ?it/s]"
      ]
     },
     "metadata": {},
     "output_type": "display_data"
    },
    {
     "data": {
      "application/vnd.jupyter.widget-view+json": {
       "model_id": "",
       "version_major": 2,
       "version_minor": 0
      },
      "text/plain": [
       "Validating: 0it [00:00, ?it/s]"
      ]
     },
     "metadata": {},
     "output_type": "display_data"
    },
    {
     "data": {
      "application/vnd.jupyter.widget-view+json": {
       "model_id": "",
       "version_major": 2,
       "version_minor": 0
      },
      "text/plain": [
       "Validating: 0it [00:00, ?it/s]"
      ]
     },
     "metadata": {},
     "output_type": "display_data"
    },
    {
     "data": {
      "application/vnd.jupyter.widget-view+json": {
       "model_id": "",
       "version_major": 2,
       "version_minor": 0
      },
      "text/plain": [
       "Validating: 0it [00:00, ?it/s]"
      ]
     },
     "metadata": {},
     "output_type": "display_data"
    },
    {
     "data": {
      "application/vnd.jupyter.widget-view+json": {
       "model_id": "",
       "version_major": 2,
       "version_minor": 0
      },
      "text/plain": [
       "Validating: 0it [00:00, ?it/s]"
      ]
     },
     "metadata": {},
     "output_type": "display_data"
    },
    {
     "data": {
      "application/vnd.jupyter.widget-view+json": {
       "model_id": "",
       "version_major": 2,
       "version_minor": 0
      },
      "text/plain": [
       "Validating: 0it [00:00, ?it/s]"
      ]
     },
     "metadata": {},
     "output_type": "display_data"
    },
    {
     "data": {
      "application/vnd.jupyter.widget-view+json": {
       "model_id": "",
       "version_major": 2,
       "version_minor": 0
      },
      "text/plain": [
       "Validating: 0it [00:00, ?it/s]"
      ]
     },
     "metadata": {},
     "output_type": "display_data"
    },
    {
     "data": {
      "application/vnd.jupyter.widget-view+json": {
       "model_id": "",
       "version_major": 2,
       "version_minor": 0
      },
      "text/plain": [
       "Validating: 0it [00:00, ?it/s]"
      ]
     },
     "metadata": {},
     "output_type": "display_data"
    },
    {
     "data": {
      "application/vnd.jupyter.widget-view+json": {
       "model_id": "",
       "version_major": 2,
       "version_minor": 0
      },
      "text/plain": [
       "Validating: 0it [00:00, ?it/s]"
      ]
     },
     "metadata": {},
     "output_type": "display_data"
    },
    {
     "data": {
      "application/vnd.jupyter.widget-view+json": {
       "model_id": "",
       "version_major": 2,
       "version_minor": 0
      },
      "text/plain": [
       "Validating: 0it [00:00, ?it/s]"
      ]
     },
     "metadata": {},
     "output_type": "display_data"
    },
    {
     "data": {
      "application/vnd.jupyter.widget-view+json": {
       "model_id": "",
       "version_major": 2,
       "version_minor": 0
      },
      "text/plain": [
       "Validating: 0it [00:00, ?it/s]"
      ]
     },
     "metadata": {},
     "output_type": "display_data"
    },
    {
     "data": {
      "application/vnd.jupyter.widget-view+json": {
       "model_id": "",
       "version_major": 2,
       "version_minor": 0
      },
      "text/plain": [
       "Validating: 0it [00:00, ?it/s]"
      ]
     },
     "metadata": {},
     "output_type": "display_data"
    },
    {
     "data": {
      "application/vnd.jupyter.widget-view+json": {
       "model_id": "",
       "version_major": 2,
       "version_minor": 0
      },
      "text/plain": [
       "Validating: 0it [00:00, ?it/s]"
      ]
     },
     "metadata": {},
     "output_type": "display_data"
    },
    {
     "data": {
      "application/vnd.jupyter.widget-view+json": {
       "model_id": "",
       "version_major": 2,
       "version_minor": 0
      },
      "text/plain": [
       "Validating: 0it [00:00, ?it/s]"
      ]
     },
     "metadata": {},
     "output_type": "display_data"
    },
    {
     "data": {
      "application/vnd.jupyter.widget-view+json": {
       "model_id": "",
       "version_major": 2,
       "version_minor": 0
      },
      "text/plain": [
       "Validating: 0it [00:00, ?it/s]"
      ]
     },
     "metadata": {},
     "output_type": "display_data"
    },
    {
     "data": {
      "application/vnd.jupyter.widget-view+json": {
       "model_id": "",
       "version_major": 2,
       "version_minor": 0
      },
      "text/plain": [
       "Validating: 0it [00:00, ?it/s]"
      ]
     },
     "metadata": {},
     "output_type": "display_data"
    },
    {
     "data": {
      "application/vnd.jupyter.widget-view+json": {
       "model_id": "",
       "version_major": 2,
       "version_minor": 0
      },
      "text/plain": [
       "Validating: 0it [00:00, ?it/s]"
      ]
     },
     "metadata": {},
     "output_type": "display_data"
    },
    {
     "data": {
      "application/vnd.jupyter.widget-view+json": {
       "model_id": "",
       "version_major": 2,
       "version_minor": 0
      },
      "text/plain": [
       "Validating: 0it [00:00, ?it/s]"
      ]
     },
     "metadata": {},
     "output_type": "display_data"
    },
    {
     "data": {
      "application/vnd.jupyter.widget-view+json": {
       "model_id": "",
       "version_major": 2,
       "version_minor": 0
      },
      "text/plain": [
       "Validating: 0it [00:00, ?it/s]"
      ]
     },
     "metadata": {},
     "output_type": "display_data"
    },
    {
     "data": {
      "application/vnd.jupyter.widget-view+json": {
       "model_id": "",
       "version_major": 2,
       "version_minor": 0
      },
      "text/plain": [
       "Validating: 0it [00:00, ?it/s]"
      ]
     },
     "metadata": {},
     "output_type": "display_data"
    },
    {
     "data": {
      "application/vnd.jupyter.widget-view+json": {
       "model_id": "",
       "version_major": 2,
       "version_minor": 0
      },
      "text/plain": [
       "Validating: 0it [00:00, ?it/s]"
      ]
     },
     "metadata": {},
     "output_type": "display_data"
    },
    {
     "data": {
      "application/vnd.jupyter.widget-view+json": {
       "model_id": "",
       "version_major": 2,
       "version_minor": 0
      },
      "text/plain": [
       "Validating: 0it [00:00, ?it/s]"
      ]
     },
     "metadata": {},
     "output_type": "display_data"
    },
    {
     "data": {
      "application/vnd.jupyter.widget-view+json": {
       "model_id": "",
       "version_major": 2,
       "version_minor": 0
      },
      "text/plain": [
       "Validating: 0it [00:00, ?it/s]"
      ]
     },
     "metadata": {},
     "output_type": "display_data"
    },
    {
     "data": {
      "application/vnd.jupyter.widget-view+json": {
       "model_id": "",
       "version_major": 2,
       "version_minor": 0
      },
      "text/plain": [
       "Validating: 0it [00:00, ?it/s]"
      ]
     },
     "metadata": {},
     "output_type": "display_data"
    },
    {
     "data": {
      "application/vnd.jupyter.widget-view+json": {
       "model_id": "",
       "version_major": 2,
       "version_minor": 0
      },
      "text/plain": [
       "Validating: 0it [00:00, ?it/s]"
      ]
     },
     "metadata": {},
     "output_type": "display_data"
    },
    {
     "data": {
      "application/vnd.jupyter.widget-view+json": {
       "model_id": "",
       "version_major": 2,
       "version_minor": 0
      },
      "text/plain": [
       "Validating: 0it [00:00, ?it/s]"
      ]
     },
     "metadata": {},
     "output_type": "display_data"
    },
    {
     "data": {
      "application/vnd.jupyter.widget-view+json": {
       "model_id": "",
       "version_major": 2,
       "version_minor": 0
      },
      "text/plain": [
       "Validating: 0it [00:00, ?it/s]"
      ]
     },
     "metadata": {},
     "output_type": "display_data"
    },
    {
     "data": {
      "application/vnd.jupyter.widget-view+json": {
       "model_id": "",
       "version_major": 2,
       "version_minor": 0
      },
      "text/plain": [
       "Validating: 0it [00:00, ?it/s]"
      ]
     },
     "metadata": {},
     "output_type": "display_data"
    },
    {
     "data": {
      "application/vnd.jupyter.widget-view+json": {
       "model_id": "",
       "version_major": 2,
       "version_minor": 0
      },
      "text/plain": [
       "Validating: 0it [00:00, ?it/s]"
      ]
     },
     "metadata": {},
     "output_type": "display_data"
    },
    {
     "data": {
      "application/vnd.jupyter.widget-view+json": {
       "model_id": "",
       "version_major": 2,
       "version_minor": 0
      },
      "text/plain": [
       "Validating: 0it [00:00, ?it/s]"
      ]
     },
     "metadata": {},
     "output_type": "display_data"
    },
    {
     "data": {
      "application/vnd.jupyter.widget-view+json": {
       "model_id": "",
       "version_major": 2,
       "version_minor": 0
      },
      "text/plain": [
       "Validating: 0it [00:00, ?it/s]"
      ]
     },
     "metadata": {},
     "output_type": "display_data"
    },
    {
     "data": {
      "application/vnd.jupyter.widget-view+json": {
       "model_id": "",
       "version_major": 2,
       "version_minor": 0
      },
      "text/plain": [
       "Validating: 0it [00:00, ?it/s]"
      ]
     },
     "metadata": {},
     "output_type": "display_data"
    },
    {
     "data": {
      "application/vnd.jupyter.widget-view+json": {
       "model_id": "",
       "version_major": 2,
       "version_minor": 0
      },
      "text/plain": [
       "Validating: 0it [00:00, ?it/s]"
      ]
     },
     "metadata": {},
     "output_type": "display_data"
    },
    {
     "data": {
      "application/vnd.jupyter.widget-view+json": {
       "model_id": "",
       "version_major": 2,
       "version_minor": 0
      },
      "text/plain": [
       "Validating: 0it [00:00, ?it/s]"
      ]
     },
     "metadata": {},
     "output_type": "display_data"
    },
    {
     "data": {
      "application/vnd.jupyter.widget-view+json": {
       "model_id": "",
       "version_major": 2,
       "version_minor": 0
      },
      "text/plain": [
       "Validating: 0it [00:00, ?it/s]"
      ]
     },
     "metadata": {},
     "output_type": "display_data"
    },
    {
     "data": {
      "application/vnd.jupyter.widget-view+json": {
       "model_id": "",
       "version_major": 2,
       "version_minor": 0
      },
      "text/plain": [
       "Validating: 0it [00:00, ?it/s]"
      ]
     },
     "metadata": {},
     "output_type": "display_data"
    },
    {
     "data": {
      "application/vnd.jupyter.widget-view+json": {
       "model_id": "",
       "version_major": 2,
       "version_minor": 0
      },
      "text/plain": [
       "Validating: 0it [00:00, ?it/s]"
      ]
     },
     "metadata": {},
     "output_type": "display_data"
    },
    {
     "data": {
      "application/vnd.jupyter.widget-view+json": {
       "model_id": "",
       "version_major": 2,
       "version_minor": 0
      },
      "text/plain": [
       "Validating: 0it [00:00, ?it/s]"
      ]
     },
     "metadata": {},
     "output_type": "display_data"
    },
    {
     "data": {
      "application/vnd.jupyter.widget-view+json": {
       "model_id": "",
       "version_major": 2,
       "version_minor": 0
      },
      "text/plain": [
       "Validating: 0it [00:00, ?it/s]"
      ]
     },
     "metadata": {},
     "output_type": "display_data"
    },
    {
     "data": {
      "application/vnd.jupyter.widget-view+json": {
       "model_id": "",
       "version_major": 2,
       "version_minor": 0
      },
      "text/plain": [
       "Validating: 0it [00:00, ?it/s]"
      ]
     },
     "metadata": {},
     "output_type": "display_data"
    },
    {
     "data": {
      "application/vnd.jupyter.widget-view+json": {
       "model_id": "",
       "version_major": 2,
       "version_minor": 0
      },
      "text/plain": [
       "Validating: 0it [00:00, ?it/s]"
      ]
     },
     "metadata": {},
     "output_type": "display_data"
    },
    {
     "data": {
      "application/vnd.jupyter.widget-view+json": {
       "model_id": "",
       "version_major": 2,
       "version_minor": 0
      },
      "text/plain": [
       "Validating: 0it [00:00, ?it/s]"
      ]
     },
     "metadata": {},
     "output_type": "display_data"
    },
    {
     "data": {
      "application/vnd.jupyter.widget-view+json": {
       "model_id": "",
       "version_major": 2,
       "version_minor": 0
      },
      "text/plain": [
       "Validating: 0it [00:00, ?it/s]"
      ]
     },
     "metadata": {},
     "output_type": "display_data"
    },
    {
     "data": {
      "application/vnd.jupyter.widget-view+json": {
       "model_id": "",
       "version_major": 2,
       "version_minor": 0
      },
      "text/plain": [
       "Validating: 0it [00:00, ?it/s]"
      ]
     },
     "metadata": {},
     "output_type": "display_data"
    },
    {
     "data": {
      "application/vnd.jupyter.widget-view+json": {
       "model_id": "",
       "version_major": 2,
       "version_minor": 0
      },
      "text/plain": [
       "Validating: 0it [00:00, ?it/s]"
      ]
     },
     "metadata": {},
     "output_type": "display_data"
    },
    {
     "data": {
      "application/vnd.jupyter.widget-view+json": {
       "model_id": "",
       "version_major": 2,
       "version_minor": 0
      },
      "text/plain": [
       "Validating: 0it [00:00, ?it/s]"
      ]
     },
     "metadata": {},
     "output_type": "display_data"
    },
    {
     "data": {
      "application/vnd.jupyter.widget-view+json": {
       "model_id": "",
       "version_major": 2,
       "version_minor": 0
      },
      "text/plain": [
       "Validating: 0it [00:00, ?it/s]"
      ]
     },
     "metadata": {},
     "output_type": "display_data"
    },
    {
     "data": {
      "application/vnd.jupyter.widget-view+json": {
       "model_id": "",
       "version_major": 2,
       "version_minor": 0
      },
      "text/plain": [
       "Validating: 0it [00:00, ?it/s]"
      ]
     },
     "metadata": {},
     "output_type": "display_data"
    },
    {
     "data": {
      "application/vnd.jupyter.widget-view+json": {
       "model_id": "",
       "version_major": 2,
       "version_minor": 0
      },
      "text/plain": [
       "Validating: 0it [00:00, ?it/s]"
      ]
     },
     "metadata": {},
     "output_type": "display_data"
    },
    {
     "data": {
      "application/vnd.jupyter.widget-view+json": {
       "model_id": "",
       "version_major": 2,
       "version_minor": 0
      },
      "text/plain": [
       "Validating: 0it [00:00, ?it/s]"
      ]
     },
     "metadata": {},
     "output_type": "display_data"
    },
    {
     "data": {
      "application/vnd.jupyter.widget-view+json": {
       "model_id": "",
       "version_major": 2,
       "version_minor": 0
      },
      "text/plain": [
       "Validating: 0it [00:00, ?it/s]"
      ]
     },
     "metadata": {},
     "output_type": "display_data"
    },
    {
     "data": {
      "application/vnd.jupyter.widget-view+json": {
       "model_id": "",
       "version_major": 2,
       "version_minor": 0
      },
      "text/plain": [
       "Validating: 0it [00:00, ?it/s]"
      ]
     },
     "metadata": {},
     "output_type": "display_data"
    },
    {
     "data": {
      "application/vnd.jupyter.widget-view+json": {
       "model_id": "",
       "version_major": 2,
       "version_minor": 0
      },
      "text/plain": [
       "Validating: 0it [00:00, ?it/s]"
      ]
     },
     "metadata": {},
     "output_type": "display_data"
    },
    {
     "data": {
      "application/vnd.jupyter.widget-view+json": {
       "model_id": "",
       "version_major": 2,
       "version_minor": 0
      },
      "text/plain": [
       "Validating: 0it [00:00, ?it/s]"
      ]
     },
     "metadata": {},
     "output_type": "display_data"
    },
    {
     "data": {
      "application/vnd.jupyter.widget-view+json": {
       "model_id": "",
       "version_major": 2,
       "version_minor": 0
      },
      "text/plain": [
       "Validating: 0it [00:00, ?it/s]"
      ]
     },
     "metadata": {},
     "output_type": "display_data"
    },
    {
     "data": {
      "application/vnd.jupyter.widget-view+json": {
       "model_id": "",
       "version_major": 2,
       "version_minor": 0
      },
      "text/plain": [
       "Validating: 0it [00:00, ?it/s]"
      ]
     },
     "metadata": {},
     "output_type": "display_data"
    },
    {
     "data": {
      "application/vnd.jupyter.widget-view+json": {
       "model_id": "",
       "version_major": 2,
       "version_minor": 0
      },
      "text/plain": [
       "Validating: 0it [00:00, ?it/s]"
      ]
     },
     "metadata": {},
     "output_type": "display_data"
    },
    {
     "data": {
      "application/vnd.jupyter.widget-view+json": {
       "model_id": "",
       "version_major": 2,
       "version_minor": 0
      },
      "text/plain": [
       "Validating: 0it [00:00, ?it/s]"
      ]
     },
     "metadata": {},
     "output_type": "display_data"
    },
    {
     "data": {
      "application/vnd.jupyter.widget-view+json": {
       "model_id": "",
       "version_major": 2,
       "version_minor": 0
      },
      "text/plain": [
       "Validating: 0it [00:00, ?it/s]"
      ]
     },
     "metadata": {},
     "output_type": "display_data"
    },
    {
     "data": {
      "application/vnd.jupyter.widget-view+json": {
       "model_id": "",
       "version_major": 2,
       "version_minor": 0
      },
      "text/plain": [
       "Validating: 0it [00:00, ?it/s]"
      ]
     },
     "metadata": {},
     "output_type": "display_data"
    },
    {
     "data": {
      "application/vnd.jupyter.widget-view+json": {
       "model_id": "",
       "version_major": 2,
       "version_minor": 0
      },
      "text/plain": [
       "Validating: 0it [00:00, ?it/s]"
      ]
     },
     "metadata": {},
     "output_type": "display_data"
    },
    {
     "data": {
      "application/vnd.jupyter.widget-view+json": {
       "model_id": "",
       "version_major": 2,
       "version_minor": 0
      },
      "text/plain": [
       "Validating: 0it [00:00, ?it/s]"
      ]
     },
     "metadata": {},
     "output_type": "display_data"
    },
    {
     "data": {
      "application/vnd.jupyter.widget-view+json": {
       "model_id": "",
       "version_major": 2,
       "version_minor": 0
      },
      "text/plain": [
       "Validating: 0it [00:00, ?it/s]"
      ]
     },
     "metadata": {},
     "output_type": "display_data"
    },
    {
     "data": {
      "application/vnd.jupyter.widget-view+json": {
       "model_id": "",
       "version_major": 2,
       "version_minor": 0
      },
      "text/plain": [
       "Validating: 0it [00:00, ?it/s]"
      ]
     },
     "metadata": {},
     "output_type": "display_data"
    },
    {
     "data": {
      "application/vnd.jupyter.widget-view+json": {
       "model_id": "",
       "version_major": 2,
       "version_minor": 0
      },
      "text/plain": [
       "Validating: 0it [00:00, ?it/s]"
      ]
     },
     "metadata": {},
     "output_type": "display_data"
    },
    {
     "data": {
      "application/vnd.jupyter.widget-view+json": {
       "model_id": "",
       "version_major": 2,
       "version_minor": 0
      },
      "text/plain": [
       "Validating: 0it [00:00, ?it/s]"
      ]
     },
     "metadata": {},
     "output_type": "display_data"
    },
    {
     "data": {
      "application/vnd.jupyter.widget-view+json": {
       "model_id": "",
       "version_major": 2,
       "version_minor": 0
      },
      "text/plain": [
       "Validating: 0it [00:00, ?it/s]"
      ]
     },
     "metadata": {},
     "output_type": "display_data"
    },
    {
     "data": {
      "application/vnd.jupyter.widget-view+json": {
       "model_id": "",
       "version_major": 2,
       "version_minor": 0
      },
      "text/plain": [
       "Validating: 0it [00:00, ?it/s]"
      ]
     },
     "metadata": {},
     "output_type": "display_data"
    },
    {
     "data": {
      "application/vnd.jupyter.widget-view+json": {
       "model_id": "",
       "version_major": 2,
       "version_minor": 0
      },
      "text/plain": [
       "Validating: 0it [00:00, ?it/s]"
      ]
     },
     "metadata": {},
     "output_type": "display_data"
    },
    {
     "data": {
      "application/vnd.jupyter.widget-view+json": {
       "model_id": "",
       "version_major": 2,
       "version_minor": 0
      },
      "text/plain": [
       "Validating: 0it [00:00, ?it/s]"
      ]
     },
     "metadata": {},
     "output_type": "display_data"
    },
    {
     "data": {
      "application/vnd.jupyter.widget-view+json": {
       "model_id": "",
       "version_major": 2,
       "version_minor": 0
      },
      "text/plain": [
       "Validating: 0it [00:00, ?it/s]"
      ]
     },
     "metadata": {},
     "output_type": "display_data"
    },
    {
     "data": {
      "application/vnd.jupyter.widget-view+json": {
       "model_id": "",
       "version_major": 2,
       "version_minor": 0
      },
      "text/plain": [
       "Validating: 0it [00:00, ?it/s]"
      ]
     },
     "metadata": {},
     "output_type": "display_data"
    },
    {
     "data": {
      "application/vnd.jupyter.widget-view+json": {
       "model_id": "",
       "version_major": 2,
       "version_minor": 0
      },
      "text/plain": [
       "Validating: 0it [00:00, ?it/s]"
      ]
     },
     "metadata": {},
     "output_type": "display_data"
    },
    {
     "data": {
      "application/vnd.jupyter.widget-view+json": {
       "model_id": "",
       "version_major": 2,
       "version_minor": 0
      },
      "text/plain": [
       "Validating: 0it [00:00, ?it/s]"
      ]
     },
     "metadata": {},
     "output_type": "display_data"
    },
    {
     "data": {
      "application/vnd.jupyter.widget-view+json": {
       "model_id": "",
       "version_major": 2,
       "version_minor": 0
      },
      "text/plain": [
       "Validating: 0it [00:00, ?it/s]"
      ]
     },
     "metadata": {},
     "output_type": "display_data"
    },
    {
     "data": {
      "application/vnd.jupyter.widget-view+json": {
       "model_id": "",
       "version_major": 2,
       "version_minor": 0
      },
      "text/plain": [
       "Validating: 0it [00:00, ?it/s]"
      ]
     },
     "metadata": {},
     "output_type": "display_data"
    },
    {
     "data": {
      "application/vnd.jupyter.widget-view+json": {
       "model_id": "",
       "version_major": 2,
       "version_minor": 0
      },
      "text/plain": [
       "Validating: 0it [00:00, ?it/s]"
      ]
     },
     "metadata": {},
     "output_type": "display_data"
    },
    {
     "data": {
      "application/vnd.jupyter.widget-view+json": {
       "model_id": "",
       "version_major": 2,
       "version_minor": 0
      },
      "text/plain": [
       "Validating: 0it [00:00, ?it/s]"
      ]
     },
     "metadata": {},
     "output_type": "display_data"
    },
    {
     "data": {
      "application/vnd.jupyter.widget-view+json": {
       "model_id": "",
       "version_major": 2,
       "version_minor": 0
      },
      "text/plain": [
       "Validating: 0it [00:00, ?it/s]"
      ]
     },
     "metadata": {},
     "output_type": "display_data"
    },
    {
     "data": {
      "application/vnd.jupyter.widget-view+json": {
       "model_id": "",
       "version_major": 2,
       "version_minor": 0
      },
      "text/plain": [
       "Validating: 0it [00:00, ?it/s]"
      ]
     },
     "metadata": {},
     "output_type": "display_data"
    },
    {
     "data": {
      "application/vnd.jupyter.widget-view+json": {
       "model_id": "",
       "version_major": 2,
       "version_minor": 0
      },
      "text/plain": [
       "Validating: 0it [00:00, ?it/s]"
      ]
     },
     "metadata": {},
     "output_type": "display_data"
    },
    {
     "data": {
      "application/vnd.jupyter.widget-view+json": {
       "model_id": "",
       "version_major": 2,
       "version_minor": 0
      },
      "text/plain": [
       "Validating: 0it [00:00, ?it/s]"
      ]
     },
     "metadata": {},
     "output_type": "display_data"
    },
    {
     "data": {
      "application/vnd.jupyter.widget-view+json": {
       "model_id": "",
       "version_major": 2,
       "version_minor": 0
      },
      "text/plain": [
       "Validating: 0it [00:00, ?it/s]"
      ]
     },
     "metadata": {},
     "output_type": "display_data"
    },
    {
     "data": {
      "application/vnd.jupyter.widget-view+json": {
       "model_id": "",
       "version_major": 2,
       "version_minor": 0
      },
      "text/plain": [
       "Validating: 0it [00:00, ?it/s]"
      ]
     },
     "metadata": {},
     "output_type": "display_data"
    },
    {
     "data": {
      "application/vnd.jupyter.widget-view+json": {
       "model_id": "",
       "version_major": 2,
       "version_minor": 0
      },
      "text/plain": [
       "Validating: 0it [00:00, ?it/s]"
      ]
     },
     "metadata": {},
     "output_type": "display_data"
    },
    {
     "data": {
      "application/vnd.jupyter.widget-view+json": {
       "model_id": "",
       "version_major": 2,
       "version_minor": 0
      },
      "text/plain": [
       "Validating: 0it [00:00, ?it/s]"
      ]
     },
     "metadata": {},
     "output_type": "display_data"
    },
    {
     "data": {
      "application/vnd.jupyter.widget-view+json": {
       "model_id": "",
       "version_major": 2,
       "version_minor": 0
      },
      "text/plain": [
       "Validating: 0it [00:00, ?it/s]"
      ]
     },
     "metadata": {},
     "output_type": "display_data"
    },
    {
     "data": {
      "application/vnd.jupyter.widget-view+json": {
       "model_id": "",
       "version_major": 2,
       "version_minor": 0
      },
      "text/plain": [
       "Validating: 0it [00:00, ?it/s]"
      ]
     },
     "metadata": {},
     "output_type": "display_data"
    },
    {
     "data": {
      "application/vnd.jupyter.widget-view+json": {
       "model_id": "",
       "version_major": 2,
       "version_minor": 0
      },
      "text/plain": [
       "Validating: 0it [00:00, ?it/s]"
      ]
     },
     "metadata": {},
     "output_type": "display_data"
    },
    {
     "data": {
      "application/vnd.jupyter.widget-view+json": {
       "model_id": "",
       "version_major": 2,
       "version_minor": 0
      },
      "text/plain": [
       "Validating: 0it [00:00, ?it/s]"
      ]
     },
     "metadata": {},
     "output_type": "display_data"
    },
    {
     "data": {
      "application/vnd.jupyter.widget-view+json": {
       "model_id": "",
       "version_major": 2,
       "version_minor": 0
      },
      "text/plain": [
       "Validating: 0it [00:00, ?it/s]"
      ]
     },
     "metadata": {},
     "output_type": "display_data"
    },
    {
     "data": {
      "application/vnd.jupyter.widget-view+json": {
       "model_id": "",
       "version_major": 2,
       "version_minor": 0
      },
      "text/plain": [
       "Validating: 0it [00:00, ?it/s]"
      ]
     },
     "metadata": {},
     "output_type": "display_data"
    },
    {
     "data": {
      "application/vnd.jupyter.widget-view+json": {
       "model_id": "",
       "version_major": 2,
       "version_minor": 0
      },
      "text/plain": [
       "Validating: 0it [00:00, ?it/s]"
      ]
     },
     "metadata": {},
     "output_type": "display_data"
    },
    {
     "data": {
      "application/vnd.jupyter.widget-view+json": {
       "model_id": "",
       "version_major": 2,
       "version_minor": 0
      },
      "text/plain": [
       "Validating: 0it [00:00, ?it/s]"
      ]
     },
     "metadata": {},
     "output_type": "display_data"
    },
    {
     "data": {
      "application/vnd.jupyter.widget-view+json": {
       "model_id": "",
       "version_major": 2,
       "version_minor": 0
      },
      "text/plain": [
       "Validating: 0it [00:00, ?it/s]"
      ]
     },
     "metadata": {},
     "output_type": "display_data"
    },
    {
     "data": {
      "application/vnd.jupyter.widget-view+json": {
       "model_id": "",
       "version_major": 2,
       "version_minor": 0
      },
      "text/plain": [
       "Validating: 0it [00:00, ?it/s]"
      ]
     },
     "metadata": {},
     "output_type": "display_data"
    },
    {
     "data": {
      "application/vnd.jupyter.widget-view+json": {
       "model_id": "",
       "version_major": 2,
       "version_minor": 0
      },
      "text/plain": [
       "Validating: 0it [00:00, ?it/s]"
      ]
     },
     "metadata": {},
     "output_type": "display_data"
    },
    {
     "data": {
      "application/vnd.jupyter.widget-view+json": {
       "model_id": "",
       "version_major": 2,
       "version_minor": 0
      },
      "text/plain": [
       "Validating: 0it [00:00, ?it/s]"
      ]
     },
     "metadata": {},
     "output_type": "display_data"
    },
    {
     "data": {
      "application/vnd.jupyter.widget-view+json": {
       "model_id": "",
       "version_major": 2,
       "version_minor": 0
      },
      "text/plain": [
       "Validating: 0it [00:00, ?it/s]"
      ]
     },
     "metadata": {},
     "output_type": "display_data"
    },
    {
     "data": {
      "application/vnd.jupyter.widget-view+json": {
       "model_id": "",
       "version_major": 2,
       "version_minor": 0
      },
      "text/plain": [
       "Validating: 0it [00:00, ?it/s]"
      ]
     },
     "metadata": {},
     "output_type": "display_data"
    },
    {
     "data": {
      "application/vnd.jupyter.widget-view+json": {
       "model_id": "",
       "version_major": 2,
       "version_minor": 0
      },
      "text/plain": [
       "Validating: 0it [00:00, ?it/s]"
      ]
     },
     "metadata": {},
     "output_type": "display_data"
    },
    {
     "data": {
      "application/vnd.jupyter.widget-view+json": {
       "model_id": "",
       "version_major": 2,
       "version_minor": 0
      },
      "text/plain": [
       "Validating: 0it [00:00, ?it/s]"
      ]
     },
     "metadata": {},
     "output_type": "display_data"
    },
    {
     "data": {
      "application/vnd.jupyter.widget-view+json": {
       "model_id": "",
       "version_major": 2,
       "version_minor": 0
      },
      "text/plain": [
       "Validating: 0it [00:00, ?it/s]"
      ]
     },
     "metadata": {},
     "output_type": "display_data"
    },
    {
     "data": {
      "application/vnd.jupyter.widget-view+json": {
       "model_id": "",
       "version_major": 2,
       "version_minor": 0
      },
      "text/plain": [
       "Validating: 0it [00:00, ?it/s]"
      ]
     },
     "metadata": {},
     "output_type": "display_data"
    },
    {
     "data": {
      "application/vnd.jupyter.widget-view+json": {
       "model_id": "",
       "version_major": 2,
       "version_minor": 0
      },
      "text/plain": [
       "Validating: 0it [00:00, ?it/s]"
      ]
     },
     "metadata": {},
     "output_type": "display_data"
    },
    {
     "data": {
      "application/vnd.jupyter.widget-view+json": {
       "model_id": "",
       "version_major": 2,
       "version_minor": 0
      },
      "text/plain": [
       "Validating: 0it [00:00, ?it/s]"
      ]
     },
     "metadata": {},
     "output_type": "display_data"
    },
    {
     "data": {
      "application/vnd.jupyter.widget-view+json": {
       "model_id": "",
       "version_major": 2,
       "version_minor": 0
      },
      "text/plain": [
       "Validating: 0it [00:00, ?it/s]"
      ]
     },
     "metadata": {},
     "output_type": "display_data"
    },
    {
     "data": {
      "application/vnd.jupyter.widget-view+json": {
       "model_id": "",
       "version_major": 2,
       "version_minor": 0
      },
      "text/plain": [
       "Validating: 0it [00:00, ?it/s]"
      ]
     },
     "metadata": {},
     "output_type": "display_data"
    },
    {
     "data": {
      "application/vnd.jupyter.widget-view+json": {
       "model_id": "",
       "version_major": 2,
       "version_minor": 0
      },
      "text/plain": [
       "Validating: 0it [00:00, ?it/s]"
      ]
     },
     "metadata": {},
     "output_type": "display_data"
    },
    {
     "data": {
      "application/vnd.jupyter.widget-view+json": {
       "model_id": "",
       "version_major": 2,
       "version_minor": 0
      },
      "text/plain": [
       "Validating: 0it [00:00, ?it/s]"
      ]
     },
     "metadata": {},
     "output_type": "display_data"
    },
    {
     "data": {
      "application/vnd.jupyter.widget-view+json": {
       "model_id": "",
       "version_major": 2,
       "version_minor": 0
      },
      "text/plain": [
       "Validating: 0it [00:00, ?it/s]"
      ]
     },
     "metadata": {},
     "output_type": "display_data"
    },
    {
     "data": {
      "application/vnd.jupyter.widget-view+json": {
       "model_id": "",
       "version_major": 2,
       "version_minor": 0
      },
      "text/plain": [
       "Validating: 0it [00:00, ?it/s]"
      ]
     },
     "metadata": {},
     "output_type": "display_data"
    },
    {
     "data": {
      "application/vnd.jupyter.widget-view+json": {
       "model_id": "",
       "version_major": 2,
       "version_minor": 0
      },
      "text/plain": [
       "Validating: 0it [00:00, ?it/s]"
      ]
     },
     "metadata": {},
     "output_type": "display_data"
    },
    {
     "data": {
      "application/vnd.jupyter.widget-view+json": {
       "model_id": "",
       "version_major": 2,
       "version_minor": 0
      },
      "text/plain": [
       "Validating: 0it [00:00, ?it/s]"
      ]
     },
     "metadata": {},
     "output_type": "display_data"
    },
    {
     "data": {
      "application/vnd.jupyter.widget-view+json": {
       "model_id": "",
       "version_major": 2,
       "version_minor": 0
      },
      "text/plain": [
       "Validating: 0it [00:00, ?it/s]"
      ]
     },
     "metadata": {},
     "output_type": "display_data"
    },
    {
     "data": {
      "application/vnd.jupyter.widget-view+json": {
       "model_id": "",
       "version_major": 2,
       "version_minor": 0
      },
      "text/plain": [
       "Validating: 0it [00:00, ?it/s]"
      ]
     },
     "metadata": {},
     "output_type": "display_data"
    },
    {
     "data": {
      "application/vnd.jupyter.widget-view+json": {
       "model_id": "",
       "version_major": 2,
       "version_minor": 0
      },
      "text/plain": [
       "Validating: 0it [00:00, ?it/s]"
      ]
     },
     "metadata": {},
     "output_type": "display_data"
    },
    {
     "data": {
      "application/vnd.jupyter.widget-view+json": {
       "model_id": "",
       "version_major": 2,
       "version_minor": 0
      },
      "text/plain": [
       "Validating: 0it [00:00, ?it/s]"
      ]
     },
     "metadata": {},
     "output_type": "display_data"
    },
    {
     "data": {
      "application/vnd.jupyter.widget-view+json": {
       "model_id": "",
       "version_major": 2,
       "version_minor": 0
      },
      "text/plain": [
       "Validating: 0it [00:00, ?it/s]"
      ]
     },
     "metadata": {},
     "output_type": "display_data"
    },
    {
     "data": {
      "application/vnd.jupyter.widget-view+json": {
       "model_id": "",
       "version_major": 2,
       "version_minor": 0
      },
      "text/plain": [
       "Validating: 0it [00:00, ?it/s]"
      ]
     },
     "metadata": {},
     "output_type": "display_data"
    },
    {
     "data": {
      "application/vnd.jupyter.widget-view+json": {
       "model_id": "",
       "version_major": 2,
       "version_minor": 0
      },
      "text/plain": [
       "Validating: 0it [00:00, ?it/s]"
      ]
     },
     "metadata": {},
     "output_type": "display_data"
    },
    {
     "data": {
      "application/vnd.jupyter.widget-view+json": {
       "model_id": "",
       "version_major": 2,
       "version_minor": 0
      },
      "text/plain": [
       "Validating: 0it [00:00, ?it/s]"
      ]
     },
     "metadata": {},
     "output_type": "display_data"
    },
    {
     "data": {
      "application/vnd.jupyter.widget-view+json": {
       "model_id": "",
       "version_major": 2,
       "version_minor": 0
      },
      "text/plain": [
       "Validating: 0it [00:00, ?it/s]"
      ]
     },
     "metadata": {},
     "output_type": "display_data"
    },
    {
     "data": {
      "application/vnd.jupyter.widget-view+json": {
       "model_id": "",
       "version_major": 2,
       "version_minor": 0
      },
      "text/plain": [
       "Validating: 0it [00:00, ?it/s]"
      ]
     },
     "metadata": {},
     "output_type": "display_data"
    },
    {
     "data": {
      "application/vnd.jupyter.widget-view+json": {
       "model_id": "",
       "version_major": 2,
       "version_minor": 0
      },
      "text/plain": [
       "Validating: 0it [00:00, ?it/s]"
      ]
     },
     "metadata": {},
     "output_type": "display_data"
    },
    {
     "data": {
      "application/vnd.jupyter.widget-view+json": {
       "model_id": "",
       "version_major": 2,
       "version_minor": 0
      },
      "text/plain": [
       "Validating: 0it [00:00, ?it/s]"
      ]
     },
     "metadata": {},
     "output_type": "display_data"
    },
    {
     "data": {
      "application/vnd.jupyter.widget-view+json": {
       "model_id": "",
       "version_major": 2,
       "version_minor": 0
      },
      "text/plain": [
       "Validating: 0it [00:00, ?it/s]"
      ]
     },
     "metadata": {},
     "output_type": "display_data"
    },
    {
     "data": {
      "application/vnd.jupyter.widget-view+json": {
       "model_id": "",
       "version_major": 2,
       "version_minor": 0
      },
      "text/plain": [
       "Validating: 0it [00:00, ?it/s]"
      ]
     },
     "metadata": {},
     "output_type": "display_data"
    },
    {
     "data": {
      "application/vnd.jupyter.widget-view+json": {
       "model_id": "",
       "version_major": 2,
       "version_minor": 0
      },
      "text/plain": [
       "Validating: 0it [00:00, ?it/s]"
      ]
     },
     "metadata": {},
     "output_type": "display_data"
    },
    {
     "data": {
      "application/vnd.jupyter.widget-view+json": {
       "model_id": "",
       "version_major": 2,
       "version_minor": 0
      },
      "text/plain": [
       "Validating: 0it [00:00, ?it/s]"
      ]
     },
     "metadata": {},
     "output_type": "display_data"
    },
    {
     "data": {
      "application/vnd.jupyter.widget-view+json": {
       "model_id": "",
       "version_major": 2,
       "version_minor": 0
      },
      "text/plain": [
       "Validating: 0it [00:00, ?it/s]"
      ]
     },
     "metadata": {},
     "output_type": "display_data"
    },
    {
     "data": {
      "application/vnd.jupyter.widget-view+json": {
       "model_id": "",
       "version_major": 2,
       "version_minor": 0
      },
      "text/plain": [
       "Validating: 0it [00:00, ?it/s]"
      ]
     },
     "metadata": {},
     "output_type": "display_data"
    },
    {
     "data": {
      "application/vnd.jupyter.widget-view+json": {
       "model_id": "",
       "version_major": 2,
       "version_minor": 0
      },
      "text/plain": [
       "Validating: 0it [00:00, ?it/s]"
      ]
     },
     "metadata": {},
     "output_type": "display_data"
    },
    {
     "data": {
      "application/vnd.jupyter.widget-view+json": {
       "model_id": "",
       "version_major": 2,
       "version_minor": 0
      },
      "text/plain": [
       "Validating: 0it [00:00, ?it/s]"
      ]
     },
     "metadata": {},
     "output_type": "display_data"
    },
    {
     "data": {
      "application/vnd.jupyter.widget-view+json": {
       "model_id": "",
       "version_major": 2,
       "version_minor": 0
      },
      "text/plain": [
       "Validating: 0it [00:00, ?it/s]"
      ]
     },
     "metadata": {},
     "output_type": "display_data"
    },
    {
     "data": {
      "application/vnd.jupyter.widget-view+json": {
       "model_id": "",
       "version_major": 2,
       "version_minor": 0
      },
      "text/plain": [
       "Validating: 0it [00:00, ?it/s]"
      ]
     },
     "metadata": {},
     "output_type": "display_data"
    },
    {
     "data": {
      "application/vnd.jupyter.widget-view+json": {
       "model_id": "",
       "version_major": 2,
       "version_minor": 0
      },
      "text/plain": [
       "Validating: 0it [00:00, ?it/s]"
      ]
     },
     "metadata": {},
     "output_type": "display_data"
    },
    {
     "data": {
      "application/vnd.jupyter.widget-view+json": {
       "model_id": "",
       "version_major": 2,
       "version_minor": 0
      },
      "text/plain": [
       "Validating: 0it [00:00, ?it/s]"
      ]
     },
     "metadata": {},
     "output_type": "display_data"
    },
    {
     "data": {
      "application/vnd.jupyter.widget-view+json": {
       "model_id": "",
       "version_major": 2,
       "version_minor": 0
      },
      "text/plain": [
       "Validating: 0it [00:00, ?it/s]"
      ]
     },
     "metadata": {},
     "output_type": "display_data"
    },
    {
     "data": {
      "application/vnd.jupyter.widget-view+json": {
       "model_id": "",
       "version_major": 2,
       "version_minor": 0
      },
      "text/plain": [
       "Validating: 0it [00:00, ?it/s]"
      ]
     },
     "metadata": {},
     "output_type": "display_data"
    },
    {
     "data": {
      "application/vnd.jupyter.widget-view+json": {
       "model_id": "",
       "version_major": 2,
       "version_minor": 0
      },
      "text/plain": [
       "Validating: 0it [00:00, ?it/s]"
      ]
     },
     "metadata": {},
     "output_type": "display_data"
    },
    {
     "data": {
      "application/vnd.jupyter.widget-view+json": {
       "model_id": "",
       "version_major": 2,
       "version_minor": 0
      },
      "text/plain": [
       "Validating: 0it [00:00, ?it/s]"
      ]
     },
     "metadata": {},
     "output_type": "display_data"
    },
    {
     "data": {
      "application/vnd.jupyter.widget-view+json": {
       "model_id": "",
       "version_major": 2,
       "version_minor": 0
      },
      "text/plain": [
       "Validating: 0it [00:00, ?it/s]"
      ]
     },
     "metadata": {},
     "output_type": "display_data"
    },
    {
     "data": {
      "application/vnd.jupyter.widget-view+json": {
       "model_id": "",
       "version_major": 2,
       "version_minor": 0
      },
      "text/plain": [
       "Validating: 0it [00:00, ?it/s]"
      ]
     },
     "metadata": {},
     "output_type": "display_data"
    },
    {
     "data": {
      "application/vnd.jupyter.widget-view+json": {
       "model_id": "",
       "version_major": 2,
       "version_minor": 0
      },
      "text/plain": [
       "Validating: 0it [00:00, ?it/s]"
      ]
     },
     "metadata": {},
     "output_type": "display_data"
    },
    {
     "data": {
      "application/vnd.jupyter.widget-view+json": {
       "model_id": "",
       "version_major": 2,
       "version_minor": 0
      },
      "text/plain": [
       "Validating: 0it [00:00, ?it/s]"
      ]
     },
     "metadata": {},
     "output_type": "display_data"
    },
    {
     "data": {
      "application/vnd.jupyter.widget-view+json": {
       "model_id": "",
       "version_major": 2,
       "version_minor": 0
      },
      "text/plain": [
       "Validating: 0it [00:00, ?it/s]"
      ]
     },
     "metadata": {},
     "output_type": "display_data"
    },
    {
     "data": {
      "application/vnd.jupyter.widget-view+json": {
       "model_id": "",
       "version_major": 2,
       "version_minor": 0
      },
      "text/plain": [
       "Validating: 0it [00:00, ?it/s]"
      ]
     },
     "metadata": {},
     "output_type": "display_data"
    },
    {
     "data": {
      "application/vnd.jupyter.widget-view+json": {
       "model_id": "",
       "version_major": 2,
       "version_minor": 0
      },
      "text/plain": [
       "Validating: 0it [00:00, ?it/s]"
      ]
     },
     "metadata": {},
     "output_type": "display_data"
    },
    {
     "data": {
      "application/vnd.jupyter.widget-view+json": {
       "model_id": "",
       "version_major": 2,
       "version_minor": 0
      },
      "text/plain": [
       "Validating: 0it [00:00, ?it/s]"
      ]
     },
     "metadata": {},
     "output_type": "display_data"
    },
    {
     "data": {
      "application/vnd.jupyter.widget-view+json": {
       "model_id": "",
       "version_major": 2,
       "version_minor": 0
      },
      "text/plain": [
       "Validating: 0it [00:00, ?it/s]"
      ]
     },
     "metadata": {},
     "output_type": "display_data"
    },
    {
     "data": {
      "application/vnd.jupyter.widget-view+json": {
       "model_id": "",
       "version_major": 2,
       "version_minor": 0
      },
      "text/plain": [
       "Validating: 0it [00:00, ?it/s]"
      ]
     },
     "metadata": {},
     "output_type": "display_data"
    },
    {
     "data": {
      "application/vnd.jupyter.widget-view+json": {
       "model_id": "",
       "version_major": 2,
       "version_minor": 0
      },
      "text/plain": [
       "Validating: 0it [00:00, ?it/s]"
      ]
     },
     "metadata": {},
     "output_type": "display_data"
    },
    {
     "data": {
      "application/vnd.jupyter.widget-view+json": {
       "model_id": "",
       "version_major": 2,
       "version_minor": 0
      },
      "text/plain": [
       "Validating: 0it [00:00, ?it/s]"
      ]
     },
     "metadata": {},
     "output_type": "display_data"
    },
    {
     "data": {
      "application/vnd.jupyter.widget-view+json": {
       "model_id": "",
       "version_major": 2,
       "version_minor": 0
      },
      "text/plain": [
       "Validating: 0it [00:00, ?it/s]"
      ]
     },
     "metadata": {},
     "output_type": "display_data"
    },
    {
     "data": {
      "application/vnd.jupyter.widget-view+json": {
       "model_id": "",
       "version_major": 2,
       "version_minor": 0
      },
      "text/plain": [
       "Validating: 0it [00:00, ?it/s]"
      ]
     },
     "metadata": {},
     "output_type": "display_data"
    },
    {
     "data": {
      "application/vnd.jupyter.widget-view+json": {
       "model_id": "",
       "version_major": 2,
       "version_minor": 0
      },
      "text/plain": [
       "Validating: 0it [00:00, ?it/s]"
      ]
     },
     "metadata": {},
     "output_type": "display_data"
    },
    {
     "data": {
      "application/vnd.jupyter.widget-view+json": {
       "model_id": "",
       "version_major": 2,
       "version_minor": 0
      },
      "text/plain": [
       "Validating: 0it [00:00, ?it/s]"
      ]
     },
     "metadata": {},
     "output_type": "display_data"
    },
    {
     "data": {
      "application/vnd.jupyter.widget-view+json": {
       "model_id": "",
       "version_major": 2,
       "version_minor": 0
      },
      "text/plain": [
       "Validating: 0it [00:00, ?it/s]"
      ]
     },
     "metadata": {},
     "output_type": "display_data"
    },
    {
     "data": {
      "application/vnd.jupyter.widget-view+json": {
       "model_id": "",
       "version_major": 2,
       "version_minor": 0
      },
      "text/plain": [
       "Validating: 0it [00:00, ?it/s]"
      ]
     },
     "metadata": {},
     "output_type": "display_data"
    },
    {
     "data": {
      "application/vnd.jupyter.widget-view+json": {
       "model_id": "",
       "version_major": 2,
       "version_minor": 0
      },
      "text/plain": [
       "Validating: 0it [00:00, ?it/s]"
      ]
     },
     "metadata": {},
     "output_type": "display_data"
    },
    {
     "data": {
      "application/vnd.jupyter.widget-view+json": {
       "model_id": "",
       "version_major": 2,
       "version_minor": 0
      },
      "text/plain": [
       "Validating: 0it [00:00, ?it/s]"
      ]
     },
     "metadata": {},
     "output_type": "display_data"
    },
    {
     "data": {
      "application/vnd.jupyter.widget-view+json": {
       "model_id": "",
       "version_major": 2,
       "version_minor": 0
      },
      "text/plain": [
       "Validating: 0it [00:00, ?it/s]"
      ]
     },
     "metadata": {},
     "output_type": "display_data"
    },
    {
     "data": {
      "application/vnd.jupyter.widget-view+json": {
       "model_id": "",
       "version_major": 2,
       "version_minor": 0
      },
      "text/plain": [
       "Validating: 0it [00:00, ?it/s]"
      ]
     },
     "metadata": {},
     "output_type": "display_data"
    },
    {
     "data": {
      "application/vnd.jupyter.widget-view+json": {
       "model_id": "",
       "version_major": 2,
       "version_minor": 0
      },
      "text/plain": [
       "Validating: 0it [00:00, ?it/s]"
      ]
     },
     "metadata": {},
     "output_type": "display_data"
    },
    {
     "data": {
      "application/vnd.jupyter.widget-view+json": {
       "model_id": "",
       "version_major": 2,
       "version_minor": 0
      },
      "text/plain": [
       "Validating: 0it [00:00, ?it/s]"
      ]
     },
     "metadata": {},
     "output_type": "display_data"
    },
    {
     "data": {
      "application/vnd.jupyter.widget-view+json": {
       "model_id": "",
       "version_major": 2,
       "version_minor": 0
      },
      "text/plain": [
       "Validating: 0it [00:00, ?it/s]"
      ]
     },
     "metadata": {},
     "output_type": "display_data"
    },
    {
     "data": {
      "application/vnd.jupyter.widget-view+json": {
       "model_id": "",
       "version_major": 2,
       "version_minor": 0
      },
      "text/plain": [
       "Validating: 0it [00:00, ?it/s]"
      ]
     },
     "metadata": {},
     "output_type": "display_data"
    },
    {
     "data": {
      "application/vnd.jupyter.widget-view+json": {
       "model_id": "",
       "version_major": 2,
       "version_minor": 0
      },
      "text/plain": [
       "Validating: 0it [00:00, ?it/s]"
      ]
     },
     "metadata": {},
     "output_type": "display_data"
    },
    {
     "data": {
      "application/vnd.jupyter.widget-view+json": {
       "model_id": "",
       "version_major": 2,
       "version_minor": 0
      },
      "text/plain": [
       "Validating: 0it [00:00, ?it/s]"
      ]
     },
     "metadata": {},
     "output_type": "display_data"
    },
    {
     "data": {
      "application/vnd.jupyter.widget-view+json": {
       "model_id": "",
       "version_major": 2,
       "version_minor": 0
      },
      "text/plain": [
       "Validating: 0it [00:00, ?it/s]"
      ]
     },
     "metadata": {},
     "output_type": "display_data"
    },
    {
     "data": {
      "application/vnd.jupyter.widget-view+json": {
       "model_id": "",
       "version_major": 2,
       "version_minor": 0
      },
      "text/plain": [
       "Validating: 0it [00:00, ?it/s]"
      ]
     },
     "metadata": {},
     "output_type": "display_data"
    },
    {
     "data": {
      "application/vnd.jupyter.widget-view+json": {
       "model_id": "",
       "version_major": 2,
       "version_minor": 0
      },
      "text/plain": [
       "Validating: 0it [00:00, ?it/s]"
      ]
     },
     "metadata": {},
     "output_type": "display_data"
    },
    {
     "data": {
      "application/vnd.jupyter.widget-view+json": {
       "model_id": "",
       "version_major": 2,
       "version_minor": 0
      },
      "text/plain": [
       "Validating: 0it [00:00, ?it/s]"
      ]
     },
     "metadata": {},
     "output_type": "display_data"
    },
    {
     "data": {
      "application/vnd.jupyter.widget-view+json": {
       "model_id": "",
       "version_major": 2,
       "version_minor": 0
      },
      "text/plain": [
       "Validating: 0it [00:00, ?it/s]"
      ]
     },
     "metadata": {},
     "output_type": "display_data"
    },
    {
     "data": {
      "application/vnd.jupyter.widget-view+json": {
       "model_id": "",
       "version_major": 2,
       "version_minor": 0
      },
      "text/plain": [
       "Validating: 0it [00:00, ?it/s]"
      ]
     },
     "metadata": {},
     "output_type": "display_data"
    },
    {
     "data": {
      "application/vnd.jupyter.widget-view+json": {
       "model_id": "",
       "version_major": 2,
       "version_minor": 0
      },
      "text/plain": [
       "Validating: 0it [00:00, ?it/s]"
      ]
     },
     "metadata": {},
     "output_type": "display_data"
    },
    {
     "data": {
      "application/vnd.jupyter.widget-view+json": {
       "model_id": "",
       "version_major": 2,
       "version_minor": 0
      },
      "text/plain": [
       "Validating: 0it [00:00, ?it/s]"
      ]
     },
     "metadata": {},
     "output_type": "display_data"
    },
    {
     "data": {
      "application/vnd.jupyter.widget-view+json": {
       "model_id": "",
       "version_major": 2,
       "version_minor": 0
      },
      "text/plain": [
       "Validating: 0it [00:00, ?it/s]"
      ]
     },
     "metadata": {},
     "output_type": "display_data"
    },
    {
     "data": {
      "application/vnd.jupyter.widget-view+json": {
       "model_id": "",
       "version_major": 2,
       "version_minor": 0
      },
      "text/plain": [
       "Validating: 0it [00:00, ?it/s]"
      ]
     },
     "metadata": {},
     "output_type": "display_data"
    },
    {
     "data": {
      "application/vnd.jupyter.widget-view+json": {
       "model_id": "",
       "version_major": 2,
       "version_minor": 0
      },
      "text/plain": [
       "Validating: 0it [00:00, ?it/s]"
      ]
     },
     "metadata": {},
     "output_type": "display_data"
    },
    {
     "data": {
      "application/vnd.jupyter.widget-view+json": {
       "model_id": "",
       "version_major": 2,
       "version_minor": 0
      },
      "text/plain": [
       "Validating: 0it [00:00, ?it/s]"
      ]
     },
     "metadata": {},
     "output_type": "display_data"
    },
    {
     "data": {
      "application/vnd.jupyter.widget-view+json": {
       "model_id": "",
       "version_major": 2,
       "version_minor": 0
      },
      "text/plain": [
       "Validating: 0it [00:00, ?it/s]"
      ]
     },
     "metadata": {},
     "output_type": "display_data"
    },
    {
     "data": {
      "application/vnd.jupyter.widget-view+json": {
       "model_id": "",
       "version_major": 2,
       "version_minor": 0
      },
      "text/plain": [
       "Validating: 0it [00:00, ?it/s]"
      ]
     },
     "metadata": {},
     "output_type": "display_data"
    },
    {
     "data": {
      "application/vnd.jupyter.widget-view+json": {
       "model_id": "",
       "version_major": 2,
       "version_minor": 0
      },
      "text/plain": [
       "Validating: 0it [00:00, ?it/s]"
      ]
     },
     "metadata": {},
     "output_type": "display_data"
    },
    {
     "data": {
      "application/vnd.jupyter.widget-view+json": {
       "model_id": "",
       "version_major": 2,
       "version_minor": 0
      },
      "text/plain": [
       "Validating: 0it [00:00, ?it/s]"
      ]
     },
     "metadata": {},
     "output_type": "display_data"
    },
    {
     "data": {
      "application/vnd.jupyter.widget-view+json": {
       "model_id": "",
       "version_major": 2,
       "version_minor": 0
      },
      "text/plain": [
       "Validating: 0it [00:00, ?it/s]"
      ]
     },
     "metadata": {},
     "output_type": "display_data"
    },
    {
     "data": {
      "application/vnd.jupyter.widget-view+json": {
       "model_id": "",
       "version_major": 2,
       "version_minor": 0
      },
      "text/plain": [
       "Validating: 0it [00:00, ?it/s]"
      ]
     },
     "metadata": {},
     "output_type": "display_data"
    },
    {
     "data": {
      "application/vnd.jupyter.widget-view+json": {
       "model_id": "",
       "version_major": 2,
       "version_minor": 0
      },
      "text/plain": [
       "Validating: 0it [00:00, ?it/s]"
      ]
     },
     "metadata": {},
     "output_type": "display_data"
    },
    {
     "data": {
      "application/vnd.jupyter.widget-view+json": {
       "model_id": "",
       "version_major": 2,
       "version_minor": 0
      },
      "text/plain": [
       "Validating: 0it [00:00, ?it/s]"
      ]
     },
     "metadata": {},
     "output_type": "display_data"
    },
    {
     "data": {
      "application/vnd.jupyter.widget-view+json": {
       "model_id": "",
       "version_major": 2,
       "version_minor": 0
      },
      "text/plain": [
       "Validating: 0it [00:00, ?it/s]"
      ]
     },
     "metadata": {},
     "output_type": "display_data"
    },
    {
     "data": {
      "application/vnd.jupyter.widget-view+json": {
       "model_id": "",
       "version_major": 2,
       "version_minor": 0
      },
      "text/plain": [
       "Validating: 0it [00:00, ?it/s]"
      ]
     },
     "metadata": {},
     "output_type": "display_data"
    },
    {
     "data": {
      "application/vnd.jupyter.widget-view+json": {
       "model_id": "",
       "version_major": 2,
       "version_minor": 0
      },
      "text/plain": [
       "Validating: 0it [00:00, ?it/s]"
      ]
     },
     "metadata": {},
     "output_type": "display_data"
    },
    {
     "data": {
      "application/vnd.jupyter.widget-view+json": {
       "model_id": "",
       "version_major": 2,
       "version_minor": 0
      },
      "text/plain": [
       "Validating: 0it [00:00, ?it/s]"
      ]
     },
     "metadata": {},
     "output_type": "display_data"
    },
    {
     "data": {
      "application/vnd.jupyter.widget-view+json": {
       "model_id": "",
       "version_major": 2,
       "version_minor": 0
      },
      "text/plain": [
       "Validating: 0it [00:00, ?it/s]"
      ]
     },
     "metadata": {},
     "output_type": "display_data"
    },
    {
     "data": {
      "application/vnd.jupyter.widget-view+json": {
       "model_id": "",
       "version_major": 2,
       "version_minor": 0
      },
      "text/plain": [
       "Validating: 0it [00:00, ?it/s]"
      ]
     },
     "metadata": {},
     "output_type": "display_data"
    },
    {
     "data": {
      "application/vnd.jupyter.widget-view+json": {
       "model_id": "",
       "version_major": 2,
       "version_minor": 0
      },
      "text/plain": [
       "Validating: 0it [00:00, ?it/s]"
      ]
     },
     "metadata": {},
     "output_type": "display_data"
    },
    {
     "data": {
      "application/vnd.jupyter.widget-view+json": {
       "model_id": "",
       "version_major": 2,
       "version_minor": 0
      },
      "text/plain": [
       "Validating: 0it [00:00, ?it/s]"
      ]
     },
     "metadata": {},
     "output_type": "display_data"
    },
    {
     "data": {
      "application/vnd.jupyter.widget-view+json": {
       "model_id": "",
       "version_major": 2,
       "version_minor": 0
      },
      "text/plain": [
       "Validating: 0it [00:00, ?it/s]"
      ]
     },
     "metadata": {},
     "output_type": "display_data"
    },
    {
     "data": {
      "application/vnd.jupyter.widget-view+json": {
       "model_id": "",
       "version_major": 2,
       "version_minor": 0
      },
      "text/plain": [
       "Validating: 0it [00:00, ?it/s]"
      ]
     },
     "metadata": {},
     "output_type": "display_data"
    },
    {
     "data": {
      "application/vnd.jupyter.widget-view+json": {
       "model_id": "",
       "version_major": 2,
       "version_minor": 0
      },
      "text/plain": [
       "Validating: 0it [00:00, ?it/s]"
      ]
     },
     "metadata": {},
     "output_type": "display_data"
    },
    {
     "data": {
      "application/vnd.jupyter.widget-view+json": {
       "model_id": "",
       "version_major": 2,
       "version_minor": 0
      },
      "text/plain": [
       "Validating: 0it [00:00, ?it/s]"
      ]
     },
     "metadata": {},
     "output_type": "display_data"
    },
    {
     "data": {
      "application/vnd.jupyter.widget-view+json": {
       "model_id": "",
       "version_major": 2,
       "version_minor": 0
      },
      "text/plain": [
       "Validating: 0it [00:00, ?it/s]"
      ]
     },
     "metadata": {},
     "output_type": "display_data"
    },
    {
     "data": {
      "application/vnd.jupyter.widget-view+json": {
       "model_id": "",
       "version_major": 2,
       "version_minor": 0
      },
      "text/plain": [
       "Validating: 0it [00:00, ?it/s]"
      ]
     },
     "metadata": {},
     "output_type": "display_data"
    },
    {
     "data": {
      "application/vnd.jupyter.widget-view+json": {
       "model_id": "",
       "version_major": 2,
       "version_minor": 0
      },
      "text/plain": [
       "Validating: 0it [00:00, ?it/s]"
      ]
     },
     "metadata": {},
     "output_type": "display_data"
    },
    {
     "data": {
      "application/vnd.jupyter.widget-view+json": {
       "model_id": "",
       "version_major": 2,
       "version_minor": 0
      },
      "text/plain": [
       "Validating: 0it [00:00, ?it/s]"
      ]
     },
     "metadata": {},
     "output_type": "display_data"
    },
    {
     "data": {
      "application/vnd.jupyter.widget-view+json": {
       "model_id": "",
       "version_major": 2,
       "version_minor": 0
      },
      "text/plain": [
       "Validating: 0it [00:00, ?it/s]"
      ]
     },
     "metadata": {},
     "output_type": "display_data"
    },
    {
     "data": {
      "application/vnd.jupyter.widget-view+json": {
       "model_id": "",
       "version_major": 2,
       "version_minor": 0
      },
      "text/plain": [
       "Validating: 0it [00:00, ?it/s]"
      ]
     },
     "metadata": {},
     "output_type": "display_data"
    },
    {
     "data": {
      "application/vnd.jupyter.widget-view+json": {
       "model_id": "",
       "version_major": 2,
       "version_minor": 0
      },
      "text/plain": [
       "Validating: 0it [00:00, ?it/s]"
      ]
     },
     "metadata": {},
     "output_type": "display_data"
    },
    {
     "data": {
      "application/vnd.jupyter.widget-view+json": {
       "model_id": "",
       "version_major": 2,
       "version_minor": 0
      },
      "text/plain": [
       "Validating: 0it [00:00, ?it/s]"
      ]
     },
     "metadata": {},
     "output_type": "display_data"
    },
    {
     "data": {
      "application/vnd.jupyter.widget-view+json": {
       "model_id": "",
       "version_major": 2,
       "version_minor": 0
      },
      "text/plain": [
       "Validating: 0it [00:00, ?it/s]"
      ]
     },
     "metadata": {},
     "output_type": "display_data"
    },
    {
     "data": {
      "application/vnd.jupyter.widget-view+json": {
       "model_id": "",
       "version_major": 2,
       "version_minor": 0
      },
      "text/plain": [
       "Validating: 0it [00:00, ?it/s]"
      ]
     },
     "metadata": {},
     "output_type": "display_data"
    },
    {
     "data": {
      "application/vnd.jupyter.widget-view+json": {
       "model_id": "",
       "version_major": 2,
       "version_minor": 0
      },
      "text/plain": [
       "Validating: 0it [00:00, ?it/s]"
      ]
     },
     "metadata": {},
     "output_type": "display_data"
    },
    {
     "data": {
      "application/vnd.jupyter.widget-view+json": {
       "model_id": "",
       "version_major": 2,
       "version_minor": 0
      },
      "text/plain": [
       "Validating: 0it [00:00, ?it/s]"
      ]
     },
     "metadata": {},
     "output_type": "display_data"
    },
    {
     "data": {
      "application/vnd.jupyter.widget-view+json": {
       "model_id": "",
       "version_major": 2,
       "version_minor": 0
      },
      "text/plain": [
       "Validating: 0it [00:00, ?it/s]"
      ]
     },
     "metadata": {},
     "output_type": "display_data"
    },
    {
     "data": {
      "application/vnd.jupyter.widget-view+json": {
       "model_id": "",
       "version_major": 2,
       "version_minor": 0
      },
      "text/plain": [
       "Validating: 0it [00:00, ?it/s]"
      ]
     },
     "metadata": {},
     "output_type": "display_data"
    },
    {
     "data": {
      "application/vnd.jupyter.widget-view+json": {
       "model_id": "",
       "version_major": 2,
       "version_minor": 0
      },
      "text/plain": [
       "Validating: 0it [00:00, ?it/s]"
      ]
     },
     "metadata": {},
     "output_type": "display_data"
    },
    {
     "data": {
      "application/vnd.jupyter.widget-view+json": {
       "model_id": "",
       "version_major": 2,
       "version_minor": 0
      },
      "text/plain": [
       "Validating: 0it [00:00, ?it/s]"
      ]
     },
     "metadata": {},
     "output_type": "display_data"
    },
    {
     "data": {
      "application/vnd.jupyter.widget-view+json": {
       "model_id": "",
       "version_major": 2,
       "version_minor": 0
      },
      "text/plain": [
       "Validating: 0it [00:00, ?it/s]"
      ]
     },
     "metadata": {},
     "output_type": "display_data"
    },
    {
     "data": {
      "application/vnd.jupyter.widget-view+json": {
       "model_id": "",
       "version_major": 2,
       "version_minor": 0
      },
      "text/plain": [
       "Validating: 0it [00:00, ?it/s]"
      ]
     },
     "metadata": {},
     "output_type": "display_data"
    },
    {
     "data": {
      "application/vnd.jupyter.widget-view+json": {
       "model_id": "",
       "version_major": 2,
       "version_minor": 0
      },
      "text/plain": [
       "Validating: 0it [00:00, ?it/s]"
      ]
     },
     "metadata": {},
     "output_type": "display_data"
    },
    {
     "data": {
      "application/vnd.jupyter.widget-view+json": {
       "model_id": "",
       "version_major": 2,
       "version_minor": 0
      },
      "text/plain": [
       "Validating: 0it [00:00, ?it/s]"
      ]
     },
     "metadata": {},
     "output_type": "display_data"
    },
    {
     "data": {
      "application/vnd.jupyter.widget-view+json": {
       "model_id": "",
       "version_major": 2,
       "version_minor": 0
      },
      "text/plain": [
       "Validating: 0it [00:00, ?it/s]"
      ]
     },
     "metadata": {},
     "output_type": "display_data"
    },
    {
     "data": {
      "application/vnd.jupyter.widget-view+json": {
       "model_id": "",
       "version_major": 2,
       "version_minor": 0
      },
      "text/plain": [
       "Validating: 0it [00:00, ?it/s]"
      ]
     },
     "metadata": {},
     "output_type": "display_data"
    },
    {
     "data": {
      "application/vnd.jupyter.widget-view+json": {
       "model_id": "",
       "version_major": 2,
       "version_minor": 0
      },
      "text/plain": [
       "Validating: 0it [00:00, ?it/s]"
      ]
     },
     "metadata": {},
     "output_type": "display_data"
    },
    {
     "data": {
      "application/vnd.jupyter.widget-view+json": {
       "model_id": "",
       "version_major": 2,
       "version_minor": 0
      },
      "text/plain": [
       "Validating: 0it [00:00, ?it/s]"
      ]
     },
     "metadata": {},
     "output_type": "display_data"
    },
    {
     "data": {
      "application/vnd.jupyter.widget-view+json": {
       "model_id": "",
       "version_major": 2,
       "version_minor": 0
      },
      "text/plain": [
       "Validating: 0it [00:00, ?it/s]"
      ]
     },
     "metadata": {},
     "output_type": "display_data"
    },
    {
     "data": {
      "application/vnd.jupyter.widget-view+json": {
       "model_id": "",
       "version_major": 2,
       "version_minor": 0
      },
      "text/plain": [
       "Validating: 0it [00:00, ?it/s]"
      ]
     },
     "metadata": {},
     "output_type": "display_data"
    },
    {
     "data": {
      "application/vnd.jupyter.widget-view+json": {
       "model_id": "",
       "version_major": 2,
       "version_minor": 0
      },
      "text/plain": [
       "Validating: 0it [00:00, ?it/s]"
      ]
     },
     "metadata": {},
     "output_type": "display_data"
    },
    {
     "data": {
      "application/vnd.jupyter.widget-view+json": {
       "model_id": "",
       "version_major": 2,
       "version_minor": 0
      },
      "text/plain": [
       "Validating: 0it [00:00, ?it/s]"
      ]
     },
     "metadata": {},
     "output_type": "display_data"
    },
    {
     "data": {
      "application/vnd.jupyter.widget-view+json": {
       "model_id": "",
       "version_major": 2,
       "version_minor": 0
      },
      "text/plain": [
       "Validating: 0it [00:00, ?it/s]"
      ]
     },
     "metadata": {},
     "output_type": "display_data"
    },
    {
     "data": {
      "application/vnd.jupyter.widget-view+json": {
       "model_id": "",
       "version_major": 2,
       "version_minor": 0
      },
      "text/plain": [
       "Validating: 0it [00:00, ?it/s]"
      ]
     },
     "metadata": {},
     "output_type": "display_data"
    },
    {
     "data": {
      "application/vnd.jupyter.widget-view+json": {
       "model_id": "",
       "version_major": 2,
       "version_minor": 0
      },
      "text/plain": [
       "Validating: 0it [00:00, ?it/s]"
      ]
     },
     "metadata": {},
     "output_type": "display_data"
    },
    {
     "data": {
      "application/vnd.jupyter.widget-view+json": {
       "model_id": "",
       "version_major": 2,
       "version_minor": 0
      },
      "text/plain": [
       "Validating: 0it [00:00, ?it/s]"
      ]
     },
     "metadata": {},
     "output_type": "display_data"
    },
    {
     "data": {
      "application/vnd.jupyter.widget-view+json": {
       "model_id": "",
       "version_major": 2,
       "version_minor": 0
      },
      "text/plain": [
       "Validating: 0it [00:00, ?it/s]"
      ]
     },
     "metadata": {},
     "output_type": "display_data"
    },
    {
     "data": {
      "application/vnd.jupyter.widget-view+json": {
       "model_id": "",
       "version_major": 2,
       "version_minor": 0
      },
      "text/plain": [
       "Validating: 0it [00:00, ?it/s]"
      ]
     },
     "metadata": {},
     "output_type": "display_data"
    },
    {
     "data": {
      "application/vnd.jupyter.widget-view+json": {
       "model_id": "",
       "version_major": 2,
       "version_minor": 0
      },
      "text/plain": [
       "Validating: 0it [00:00, ?it/s]"
      ]
     },
     "metadata": {},
     "output_type": "display_data"
    },
    {
     "data": {
      "application/vnd.jupyter.widget-view+json": {
       "model_id": "",
       "version_major": 2,
       "version_minor": 0
      },
      "text/plain": [
       "Validating: 0it [00:00, ?it/s]"
      ]
     },
     "metadata": {},
     "output_type": "display_data"
    },
    {
     "data": {
      "application/vnd.jupyter.widget-view+json": {
       "model_id": "",
       "version_major": 2,
       "version_minor": 0
      },
      "text/plain": [
       "Validating: 0it [00:00, ?it/s]"
      ]
     },
     "metadata": {},
     "output_type": "display_data"
    },
    {
     "data": {
      "application/vnd.jupyter.widget-view+json": {
       "model_id": "",
       "version_major": 2,
       "version_minor": 0
      },
      "text/plain": [
       "Validating: 0it [00:00, ?it/s]"
      ]
     },
     "metadata": {},
     "output_type": "display_data"
    },
    {
     "data": {
      "application/vnd.jupyter.widget-view+json": {
       "model_id": "",
       "version_major": 2,
       "version_minor": 0
      },
      "text/plain": [
       "Validating: 0it [00:00, ?it/s]"
      ]
     },
     "metadata": {},
     "output_type": "display_data"
    },
    {
     "data": {
      "application/vnd.jupyter.widget-view+json": {
       "model_id": "",
       "version_major": 2,
       "version_minor": 0
      },
      "text/plain": [
       "Validating: 0it [00:00, ?it/s]"
      ]
     },
     "metadata": {},
     "output_type": "display_data"
    },
    {
     "data": {
      "application/vnd.jupyter.widget-view+json": {
       "model_id": "",
       "version_major": 2,
       "version_minor": 0
      },
      "text/plain": [
       "Validating: 0it [00:00, ?it/s]"
      ]
     },
     "metadata": {},
     "output_type": "display_data"
    },
    {
     "data": {
      "application/vnd.jupyter.widget-view+json": {
       "model_id": "",
       "version_major": 2,
       "version_minor": 0
      },
      "text/plain": [
       "Validating: 0it [00:00, ?it/s]"
      ]
     },
     "metadata": {},
     "output_type": "display_data"
    },
    {
     "data": {
      "application/vnd.jupyter.widget-view+json": {
       "model_id": "",
       "version_major": 2,
       "version_minor": 0
      },
      "text/plain": [
       "Validating: 0it [00:00, ?it/s]"
      ]
     },
     "metadata": {},
     "output_type": "display_data"
    },
    {
     "data": {
      "application/vnd.jupyter.widget-view+json": {
       "model_id": "",
       "version_major": 2,
       "version_minor": 0
      },
      "text/plain": [
       "Validating: 0it [00:00, ?it/s]"
      ]
     },
     "metadata": {},
     "output_type": "display_data"
    },
    {
     "data": {
      "application/vnd.jupyter.widget-view+json": {
       "model_id": "",
       "version_major": 2,
       "version_minor": 0
      },
      "text/plain": [
       "Validating: 0it [00:00, ?it/s]"
      ]
     },
     "metadata": {},
     "output_type": "display_data"
    },
    {
     "data": {
      "application/vnd.jupyter.widget-view+json": {
       "model_id": "",
       "version_major": 2,
       "version_minor": 0
      },
      "text/plain": [
       "Validating: 0it [00:00, ?it/s]"
      ]
     },
     "metadata": {},
     "output_type": "display_data"
    },
    {
     "data": {
      "application/vnd.jupyter.widget-view+json": {
       "model_id": "",
       "version_major": 2,
       "version_minor": 0
      },
      "text/plain": [
       "Validating: 0it [00:00, ?it/s]"
      ]
     },
     "metadata": {},
     "output_type": "display_data"
    },
    {
     "data": {
      "application/vnd.jupyter.widget-view+json": {
       "model_id": "",
       "version_major": 2,
       "version_minor": 0
      },
      "text/plain": [
       "Validating: 0it [00:00, ?it/s]"
      ]
     },
     "metadata": {},
     "output_type": "display_data"
    },
    {
     "data": {
      "application/vnd.jupyter.widget-view+json": {
       "model_id": "",
       "version_major": 2,
       "version_minor": 0
      },
      "text/plain": [
       "Validating: 0it [00:00, ?it/s]"
      ]
     },
     "metadata": {},
     "output_type": "display_data"
    },
    {
     "data": {
      "application/vnd.jupyter.widget-view+json": {
       "model_id": "",
       "version_major": 2,
       "version_minor": 0
      },
      "text/plain": [
       "Validating: 0it [00:00, ?it/s]"
      ]
     },
     "metadata": {},
     "output_type": "display_data"
    },
    {
     "data": {
      "application/vnd.jupyter.widget-view+json": {
       "model_id": "",
       "version_major": 2,
       "version_minor": 0
      },
      "text/plain": [
       "Validating: 0it [00:00, ?it/s]"
      ]
     },
     "metadata": {},
     "output_type": "display_data"
    },
    {
     "data": {
      "application/vnd.jupyter.widget-view+json": {
       "model_id": "",
       "version_major": 2,
       "version_minor": 0
      },
      "text/plain": [
       "Validating: 0it [00:00, ?it/s]"
      ]
     },
     "metadata": {},
     "output_type": "display_data"
    },
    {
     "data": {
      "application/vnd.jupyter.widget-view+json": {
       "model_id": "",
       "version_major": 2,
       "version_minor": 0
      },
      "text/plain": [
       "Validating: 0it [00:00, ?it/s]"
      ]
     },
     "metadata": {},
     "output_type": "display_data"
    },
    {
     "data": {
      "application/vnd.jupyter.widget-view+json": {
       "model_id": "",
       "version_major": 2,
       "version_minor": 0
      },
      "text/plain": [
       "Validating: 0it [00:00, ?it/s]"
      ]
     },
     "metadata": {},
     "output_type": "display_data"
    },
    {
     "data": {
      "application/vnd.jupyter.widget-view+json": {
       "model_id": "",
       "version_major": 2,
       "version_minor": 0
      },
      "text/plain": [
       "Validating: 0it [00:00, ?it/s]"
      ]
     },
     "metadata": {},
     "output_type": "display_data"
    },
    {
     "data": {
      "application/vnd.jupyter.widget-view+json": {
       "model_id": "",
       "version_major": 2,
       "version_minor": 0
      },
      "text/plain": [
       "Validating: 0it [00:00, ?it/s]"
      ]
     },
     "metadata": {},
     "output_type": "display_data"
    },
    {
     "data": {
      "application/vnd.jupyter.widget-view+json": {
       "model_id": "",
       "version_major": 2,
       "version_minor": 0
      },
      "text/plain": [
       "Validating: 0it [00:00, ?it/s]"
      ]
     },
     "metadata": {},
     "output_type": "display_data"
    },
    {
     "data": {
      "application/vnd.jupyter.widget-view+json": {
       "model_id": "",
       "version_major": 2,
       "version_minor": 0
      },
      "text/plain": [
       "Validating: 0it [00:00, ?it/s]"
      ]
     },
     "metadata": {},
     "output_type": "display_data"
    },
    {
     "data": {
      "application/vnd.jupyter.widget-view+json": {
       "model_id": "",
       "version_major": 2,
       "version_minor": 0
      },
      "text/plain": [
       "Validating: 0it [00:00, ?it/s]"
      ]
     },
     "metadata": {},
     "output_type": "display_data"
    },
    {
     "data": {
      "application/vnd.jupyter.widget-view+json": {
       "model_id": "",
       "version_major": 2,
       "version_minor": 0
      },
      "text/plain": [
       "Validating: 0it [00:00, ?it/s]"
      ]
     },
     "metadata": {},
     "output_type": "display_data"
    },
    {
     "data": {
      "application/vnd.jupyter.widget-view+json": {
       "model_id": "",
       "version_major": 2,
       "version_minor": 0
      },
      "text/plain": [
       "Validating: 0it [00:00, ?it/s]"
      ]
     },
     "metadata": {},
     "output_type": "display_data"
    },
    {
     "data": {
      "application/vnd.jupyter.widget-view+json": {
       "model_id": "",
       "version_major": 2,
       "version_minor": 0
      },
      "text/plain": [
       "Validating: 0it [00:00, ?it/s]"
      ]
     },
     "metadata": {},
     "output_type": "display_data"
    },
    {
     "data": {
      "application/vnd.jupyter.widget-view+json": {
       "model_id": "",
       "version_major": 2,
       "version_minor": 0
      },
      "text/plain": [
       "Validating: 0it [00:00, ?it/s]"
      ]
     },
     "metadata": {},
     "output_type": "display_data"
    },
    {
     "data": {
      "application/vnd.jupyter.widget-view+json": {
       "model_id": "",
       "version_major": 2,
       "version_minor": 0
      },
      "text/plain": [
       "Validating: 0it [00:00, ?it/s]"
      ]
     },
     "metadata": {},
     "output_type": "display_data"
    },
    {
     "data": {
      "application/vnd.jupyter.widget-view+json": {
       "model_id": "",
       "version_major": 2,
       "version_minor": 0
      },
      "text/plain": [
       "Validating: 0it [00:00, ?it/s]"
      ]
     },
     "metadata": {},
     "output_type": "display_data"
    },
    {
     "data": {
      "application/vnd.jupyter.widget-view+json": {
       "model_id": "",
       "version_major": 2,
       "version_minor": 0
      },
      "text/plain": [
       "Validating: 0it [00:00, ?it/s]"
      ]
     },
     "metadata": {},
     "output_type": "display_data"
    },
    {
     "data": {
      "application/vnd.jupyter.widget-view+json": {
       "model_id": "",
       "version_major": 2,
       "version_minor": 0
      },
      "text/plain": [
       "Validating: 0it [00:00, ?it/s]"
      ]
     },
     "metadata": {},
     "output_type": "display_data"
    },
    {
     "data": {
      "application/vnd.jupyter.widget-view+json": {
       "model_id": "",
       "version_major": 2,
       "version_minor": 0
      },
      "text/plain": [
       "Validating: 0it [00:00, ?it/s]"
      ]
     },
     "metadata": {},
     "output_type": "display_data"
    },
    {
     "data": {
      "application/vnd.jupyter.widget-view+json": {
       "model_id": "",
       "version_major": 2,
       "version_minor": 0
      },
      "text/plain": [
       "Validating: 0it [00:00, ?it/s]"
      ]
     },
     "metadata": {},
     "output_type": "display_data"
    },
    {
     "data": {
      "application/vnd.jupyter.widget-view+json": {
       "model_id": "",
       "version_major": 2,
       "version_minor": 0
      },
      "text/plain": [
       "Validating: 0it [00:00, ?it/s]"
      ]
     },
     "metadata": {},
     "output_type": "display_data"
    },
    {
     "data": {
      "application/vnd.jupyter.widget-view+json": {
       "model_id": "",
       "version_major": 2,
       "version_minor": 0
      },
      "text/plain": [
       "Validating: 0it [00:00, ?it/s]"
      ]
     },
     "metadata": {},
     "output_type": "display_data"
    },
    {
     "data": {
      "application/vnd.jupyter.widget-view+json": {
       "model_id": "",
       "version_major": 2,
       "version_minor": 0
      },
      "text/plain": [
       "Validating: 0it [00:00, ?it/s]"
      ]
     },
     "metadata": {},
     "output_type": "display_data"
    },
    {
     "data": {
      "application/vnd.jupyter.widget-view+json": {
       "model_id": "",
       "version_major": 2,
       "version_minor": 0
      },
      "text/plain": [
       "Validating: 0it [00:00, ?it/s]"
      ]
     },
     "metadata": {},
     "output_type": "display_data"
    },
    {
     "data": {
      "application/vnd.jupyter.widget-view+json": {
       "model_id": "",
       "version_major": 2,
       "version_minor": 0
      },
      "text/plain": [
       "Validating: 0it [00:00, ?it/s]"
      ]
     },
     "metadata": {},
     "output_type": "display_data"
    },
    {
     "data": {
      "application/vnd.jupyter.widget-view+json": {
       "model_id": "",
       "version_major": 2,
       "version_minor": 0
      },
      "text/plain": [
       "Validating: 0it [00:00, ?it/s]"
      ]
     },
     "metadata": {},
     "output_type": "display_data"
    },
    {
     "data": {
      "application/vnd.jupyter.widget-view+json": {
       "model_id": "",
       "version_major": 2,
       "version_minor": 0
      },
      "text/plain": [
       "Validating: 0it [00:00, ?it/s]"
      ]
     },
     "metadata": {},
     "output_type": "display_data"
    },
    {
     "data": {
      "application/vnd.jupyter.widget-view+json": {
       "model_id": "",
       "version_major": 2,
       "version_minor": 0
      },
      "text/plain": [
       "Validating: 0it [00:00, ?it/s]"
      ]
     },
     "metadata": {},
     "output_type": "display_data"
    },
    {
     "data": {
      "application/vnd.jupyter.widget-view+json": {
       "model_id": "",
       "version_major": 2,
       "version_minor": 0
      },
      "text/plain": [
       "Validating: 0it [00:00, ?it/s]"
      ]
     },
     "metadata": {},
     "output_type": "display_data"
    },
    {
     "data": {
      "application/vnd.jupyter.widget-view+json": {
       "model_id": "",
       "version_major": 2,
       "version_minor": 0
      },
      "text/plain": [
       "Validating: 0it [00:00, ?it/s]"
      ]
     },
     "metadata": {},
     "output_type": "display_data"
    },
    {
     "data": {
      "application/vnd.jupyter.widget-view+json": {
       "model_id": "",
       "version_major": 2,
       "version_minor": 0
      },
      "text/plain": [
       "Validating: 0it [00:00, ?it/s]"
      ]
     },
     "metadata": {},
     "output_type": "display_data"
    },
    {
     "data": {
      "application/vnd.jupyter.widget-view+json": {
       "model_id": "",
       "version_major": 2,
       "version_minor": 0
      },
      "text/plain": [
       "Validating: 0it [00:00, ?it/s]"
      ]
     },
     "metadata": {},
     "output_type": "display_data"
    },
    {
     "data": {
      "application/vnd.jupyter.widget-view+json": {
       "model_id": "",
       "version_major": 2,
       "version_minor": 0
      },
      "text/plain": [
       "Validating: 0it [00:00, ?it/s]"
      ]
     },
     "metadata": {},
     "output_type": "display_data"
    },
    {
     "data": {
      "application/vnd.jupyter.widget-view+json": {
       "model_id": "",
       "version_major": 2,
       "version_minor": 0
      },
      "text/plain": [
       "Validating: 0it [00:00, ?it/s]"
      ]
     },
     "metadata": {},
     "output_type": "display_data"
    },
    {
     "data": {
      "application/vnd.jupyter.widget-view+json": {
       "model_id": "",
       "version_major": 2,
       "version_minor": 0
      },
      "text/plain": [
       "Validating: 0it [00:00, ?it/s]"
      ]
     },
     "metadata": {},
     "output_type": "display_data"
    },
    {
     "data": {
      "application/vnd.jupyter.widget-view+json": {
       "model_id": "",
       "version_major": 2,
       "version_minor": 0
      },
      "text/plain": [
       "Validating: 0it [00:00, ?it/s]"
      ]
     },
     "metadata": {},
     "output_type": "display_data"
    },
    {
     "data": {
      "application/vnd.jupyter.widget-view+json": {
       "model_id": "",
       "version_major": 2,
       "version_minor": 0
      },
      "text/plain": [
       "Validating: 0it [00:00, ?it/s]"
      ]
     },
     "metadata": {},
     "output_type": "display_data"
    },
    {
     "data": {
      "application/vnd.jupyter.widget-view+json": {
       "model_id": "",
       "version_major": 2,
       "version_minor": 0
      },
      "text/plain": [
       "Validating: 0it [00:00, ?it/s]"
      ]
     },
     "metadata": {},
     "output_type": "display_data"
    },
    {
     "data": {
      "application/vnd.jupyter.widget-view+json": {
       "model_id": "",
       "version_major": 2,
       "version_minor": 0
      },
      "text/plain": [
       "Validating: 0it [00:00, ?it/s]"
      ]
     },
     "metadata": {},
     "output_type": "display_data"
    },
    {
     "data": {
      "application/vnd.jupyter.widget-view+json": {
       "model_id": "",
       "version_major": 2,
       "version_minor": 0
      },
      "text/plain": [
       "Validating: 0it [00:00, ?it/s]"
      ]
     },
     "metadata": {},
     "output_type": "display_data"
    },
    {
     "data": {
      "application/vnd.jupyter.widget-view+json": {
       "model_id": "",
       "version_major": 2,
       "version_minor": 0
      },
      "text/plain": [
       "Validating: 0it [00:00, ?it/s]"
      ]
     },
     "metadata": {},
     "output_type": "display_data"
    },
    {
     "data": {
      "application/vnd.jupyter.widget-view+json": {
       "model_id": "",
       "version_major": 2,
       "version_minor": 0
      },
      "text/plain": [
       "Validating: 0it [00:00, ?it/s]"
      ]
     },
     "metadata": {},
     "output_type": "display_data"
    },
    {
     "data": {
      "application/vnd.jupyter.widget-view+json": {
       "model_id": "",
       "version_major": 2,
       "version_minor": 0
      },
      "text/plain": [
       "Validating: 0it [00:00, ?it/s]"
      ]
     },
     "metadata": {},
     "output_type": "display_data"
    },
    {
     "data": {
      "application/vnd.jupyter.widget-view+json": {
       "model_id": "",
       "version_major": 2,
       "version_minor": 0
      },
      "text/plain": [
       "Validating: 0it [00:00, ?it/s]"
      ]
     },
     "metadata": {},
     "output_type": "display_data"
    },
    {
     "data": {
      "application/vnd.jupyter.widget-view+json": {
       "model_id": "",
       "version_major": 2,
       "version_minor": 0
      },
      "text/plain": [
       "Validating: 0it [00:00, ?it/s]"
      ]
     },
     "metadata": {},
     "output_type": "display_data"
    },
    {
     "data": {
      "application/vnd.jupyter.widget-view+json": {
       "model_id": "",
       "version_major": 2,
       "version_minor": 0
      },
      "text/plain": [
       "Validating: 0it [00:00, ?it/s]"
      ]
     },
     "metadata": {},
     "output_type": "display_data"
    },
    {
     "data": {
      "application/vnd.jupyter.widget-view+json": {
       "model_id": "",
       "version_major": 2,
       "version_minor": 0
      },
      "text/plain": [
       "Validating: 0it [00:00, ?it/s]"
      ]
     },
     "metadata": {},
     "output_type": "display_data"
    },
    {
     "data": {
      "application/vnd.jupyter.widget-view+json": {
       "model_id": "",
       "version_major": 2,
       "version_minor": 0
      },
      "text/plain": [
       "Validating: 0it [00:00, ?it/s]"
      ]
     },
     "metadata": {},
     "output_type": "display_data"
    },
    {
     "data": {
      "application/vnd.jupyter.widget-view+json": {
       "model_id": "",
       "version_major": 2,
       "version_minor": 0
      },
      "text/plain": [
       "Validating: 0it [00:00, ?it/s]"
      ]
     },
     "metadata": {},
     "output_type": "display_data"
    },
    {
     "data": {
      "application/vnd.jupyter.widget-view+json": {
       "model_id": "",
       "version_major": 2,
       "version_minor": 0
      },
      "text/plain": [
       "Validating: 0it [00:00, ?it/s]"
      ]
     },
     "metadata": {},
     "output_type": "display_data"
    },
    {
     "data": {
      "application/vnd.jupyter.widget-view+json": {
       "model_id": "",
       "version_major": 2,
       "version_minor": 0
      },
      "text/plain": [
       "Validating: 0it [00:00, ?it/s]"
      ]
     },
     "metadata": {},
     "output_type": "display_data"
    },
    {
     "data": {
      "application/vnd.jupyter.widget-view+json": {
       "model_id": "",
       "version_major": 2,
       "version_minor": 0
      },
      "text/plain": [
       "Validating: 0it [00:00, ?it/s]"
      ]
     },
     "metadata": {},
     "output_type": "display_data"
    },
    {
     "data": {
      "application/vnd.jupyter.widget-view+json": {
       "model_id": "",
       "version_major": 2,
       "version_minor": 0
      },
      "text/plain": [
       "Validating: 0it [00:00, ?it/s]"
      ]
     },
     "metadata": {},
     "output_type": "display_data"
    },
    {
     "data": {
      "application/vnd.jupyter.widget-view+json": {
       "model_id": "",
       "version_major": 2,
       "version_minor": 0
      },
      "text/plain": [
       "Validating: 0it [00:00, ?it/s]"
      ]
     },
     "metadata": {},
     "output_type": "display_data"
    },
    {
     "data": {
      "application/vnd.jupyter.widget-view+json": {
       "model_id": "",
       "version_major": 2,
       "version_minor": 0
      },
      "text/plain": [
       "Validating: 0it [00:00, ?it/s]"
      ]
     },
     "metadata": {},
     "output_type": "display_data"
    },
    {
     "data": {
      "application/vnd.jupyter.widget-view+json": {
       "model_id": "",
       "version_major": 2,
       "version_minor": 0
      },
      "text/plain": [
       "Validating: 0it [00:00, ?it/s]"
      ]
     },
     "metadata": {},
     "output_type": "display_data"
    },
    {
     "data": {
      "application/vnd.jupyter.widget-view+json": {
       "model_id": "",
       "version_major": 2,
       "version_minor": 0
      },
      "text/plain": [
       "Validating: 0it [00:00, ?it/s]"
      ]
     },
     "metadata": {},
     "output_type": "display_data"
    },
    {
     "data": {
      "application/vnd.jupyter.widget-view+json": {
       "model_id": "",
       "version_major": 2,
       "version_minor": 0
      },
      "text/plain": [
       "Validating: 0it [00:00, ?it/s]"
      ]
     },
     "metadata": {},
     "output_type": "display_data"
    },
    {
     "data": {
      "application/vnd.jupyter.widget-view+json": {
       "model_id": "",
       "version_major": 2,
       "version_minor": 0
      },
      "text/plain": [
       "Validating: 0it [00:00, ?it/s]"
      ]
     },
     "metadata": {},
     "output_type": "display_data"
    },
    {
     "data": {
      "application/vnd.jupyter.widget-view+json": {
       "model_id": "",
       "version_major": 2,
       "version_minor": 0
      },
      "text/plain": [
       "Validating: 0it [00:00, ?it/s]"
      ]
     },
     "metadata": {},
     "output_type": "display_data"
    },
    {
     "data": {
      "application/vnd.jupyter.widget-view+json": {
       "model_id": "",
       "version_major": 2,
       "version_minor": 0
      },
      "text/plain": [
       "Validating: 0it [00:00, ?it/s]"
      ]
     },
     "metadata": {},
     "output_type": "display_data"
    },
    {
     "data": {
      "application/vnd.jupyter.widget-view+json": {
       "model_id": "",
       "version_major": 2,
       "version_minor": 0
      },
      "text/plain": [
       "Validating: 0it [00:00, ?it/s]"
      ]
     },
     "metadata": {},
     "output_type": "display_data"
    },
    {
     "data": {
      "application/vnd.jupyter.widget-view+json": {
       "model_id": "",
       "version_major": 2,
       "version_minor": 0
      },
      "text/plain": [
       "Validating: 0it [00:00, ?it/s]"
      ]
     },
     "metadata": {},
     "output_type": "display_data"
    },
    {
     "data": {
      "application/vnd.jupyter.widget-view+json": {
       "model_id": "",
       "version_major": 2,
       "version_minor": 0
      },
      "text/plain": [
       "Validating: 0it [00:00, ?it/s]"
      ]
     },
     "metadata": {},
     "output_type": "display_data"
    },
    {
     "data": {
      "application/vnd.jupyter.widget-view+json": {
       "model_id": "",
       "version_major": 2,
       "version_minor": 0
      },
      "text/plain": [
       "Validating: 0it [00:00, ?it/s]"
      ]
     },
     "metadata": {},
     "output_type": "display_data"
    },
    {
     "data": {
      "application/vnd.jupyter.widget-view+json": {
       "model_id": "",
       "version_major": 2,
       "version_minor": 0
      },
      "text/plain": [
       "Validating: 0it [00:00, ?it/s]"
      ]
     },
     "metadata": {},
     "output_type": "display_data"
    },
    {
     "data": {
      "application/vnd.jupyter.widget-view+json": {
       "model_id": "",
       "version_major": 2,
       "version_minor": 0
      },
      "text/plain": [
       "Validating: 0it [00:00, ?it/s]"
      ]
     },
     "metadata": {},
     "output_type": "display_data"
    },
    {
     "data": {
      "application/vnd.jupyter.widget-view+json": {
       "model_id": "",
       "version_major": 2,
       "version_minor": 0
      },
      "text/plain": [
       "Validating: 0it [00:00, ?it/s]"
      ]
     },
     "metadata": {},
     "output_type": "display_data"
    },
    {
     "data": {
      "application/vnd.jupyter.widget-view+json": {
       "model_id": "",
       "version_major": 2,
       "version_minor": 0
      },
      "text/plain": [
       "Validating: 0it [00:00, ?it/s]"
      ]
     },
     "metadata": {},
     "output_type": "display_data"
    },
    {
     "data": {
      "application/vnd.jupyter.widget-view+json": {
       "model_id": "",
       "version_major": 2,
       "version_minor": 0
      },
      "text/plain": [
       "Validating: 0it [00:00, ?it/s]"
      ]
     },
     "metadata": {},
     "output_type": "display_data"
    },
    {
     "data": {
      "application/vnd.jupyter.widget-view+json": {
       "model_id": "",
       "version_major": 2,
       "version_minor": 0
      },
      "text/plain": [
       "Validating: 0it [00:00, ?it/s]"
      ]
     },
     "metadata": {},
     "output_type": "display_data"
    },
    {
     "data": {
      "application/vnd.jupyter.widget-view+json": {
       "model_id": "",
       "version_major": 2,
       "version_minor": 0
      },
      "text/plain": [
       "Validating: 0it [00:00, ?it/s]"
      ]
     },
     "metadata": {},
     "output_type": "display_data"
    },
    {
     "data": {
      "application/vnd.jupyter.widget-view+json": {
       "model_id": "",
       "version_major": 2,
       "version_minor": 0
      },
      "text/plain": [
       "Validating: 0it [00:00, ?it/s]"
      ]
     },
     "metadata": {},
     "output_type": "display_data"
    },
    {
     "data": {
      "application/vnd.jupyter.widget-view+json": {
       "model_id": "",
       "version_major": 2,
       "version_minor": 0
      },
      "text/plain": [
       "Validating: 0it [00:00, ?it/s]"
      ]
     },
     "metadata": {},
     "output_type": "display_data"
    },
    {
     "data": {
      "application/vnd.jupyter.widget-view+json": {
       "model_id": "",
       "version_major": 2,
       "version_minor": 0
      },
      "text/plain": [
       "Validating: 0it [00:00, ?it/s]"
      ]
     },
     "metadata": {},
     "output_type": "display_data"
    },
    {
     "data": {
      "application/vnd.jupyter.widget-view+json": {
       "model_id": "",
       "version_major": 2,
       "version_minor": 0
      },
      "text/plain": [
       "Validating: 0it [00:00, ?it/s]"
      ]
     },
     "metadata": {},
     "output_type": "display_data"
    },
    {
     "data": {
      "application/vnd.jupyter.widget-view+json": {
       "model_id": "",
       "version_major": 2,
       "version_minor": 0
      },
      "text/plain": [
       "Validating: 0it [00:00, ?it/s]"
      ]
     },
     "metadata": {},
     "output_type": "display_data"
    },
    {
     "data": {
      "application/vnd.jupyter.widget-view+json": {
       "model_id": "",
       "version_major": 2,
       "version_minor": 0
      },
      "text/plain": [
       "Validating: 0it [00:00, ?it/s]"
      ]
     },
     "metadata": {},
     "output_type": "display_data"
    },
    {
     "data": {
      "application/vnd.jupyter.widget-view+json": {
       "model_id": "",
       "version_major": 2,
       "version_minor": 0
      },
      "text/plain": [
       "Validating: 0it [00:00, ?it/s]"
      ]
     },
     "metadata": {},
     "output_type": "display_data"
    },
    {
     "data": {
      "application/vnd.jupyter.widget-view+json": {
       "model_id": "",
       "version_major": 2,
       "version_minor": 0
      },
      "text/plain": [
       "Validating: 0it [00:00, ?it/s]"
      ]
     },
     "metadata": {},
     "output_type": "display_data"
    },
    {
     "data": {
      "application/vnd.jupyter.widget-view+json": {
       "model_id": "",
       "version_major": 2,
       "version_minor": 0
      },
      "text/plain": [
       "Validating: 0it [00:00, ?it/s]"
      ]
     },
     "metadata": {},
     "output_type": "display_data"
    },
    {
     "data": {
      "application/vnd.jupyter.widget-view+json": {
       "model_id": "",
       "version_major": 2,
       "version_minor": 0
      },
      "text/plain": [
       "Validating: 0it [00:00, ?it/s]"
      ]
     },
     "metadata": {},
     "output_type": "display_data"
    },
    {
     "data": {
      "application/vnd.jupyter.widget-view+json": {
       "model_id": "",
       "version_major": 2,
       "version_minor": 0
      },
      "text/plain": [
       "Validating: 0it [00:00, ?it/s]"
      ]
     },
     "metadata": {},
     "output_type": "display_data"
    },
    {
     "data": {
      "application/vnd.jupyter.widget-view+json": {
       "model_id": "",
       "version_major": 2,
       "version_minor": 0
      },
      "text/plain": [
       "Validating: 0it [00:00, ?it/s]"
      ]
     },
     "metadata": {},
     "output_type": "display_data"
    },
    {
     "data": {
      "application/vnd.jupyter.widget-view+json": {
       "model_id": "",
       "version_major": 2,
       "version_minor": 0
      },
      "text/plain": [
       "Validating: 0it [00:00, ?it/s]"
      ]
     },
     "metadata": {},
     "output_type": "display_data"
    },
    {
     "data": {
      "application/vnd.jupyter.widget-view+json": {
       "model_id": "",
       "version_major": 2,
       "version_minor": 0
      },
      "text/plain": [
       "Validating: 0it [00:00, ?it/s]"
      ]
     },
     "metadata": {},
     "output_type": "display_data"
    },
    {
     "data": {
      "application/vnd.jupyter.widget-view+json": {
       "model_id": "",
       "version_major": 2,
       "version_minor": 0
      },
      "text/plain": [
       "Validating: 0it [00:00, ?it/s]"
      ]
     },
     "metadata": {},
     "output_type": "display_data"
    },
    {
     "data": {
      "application/vnd.jupyter.widget-view+json": {
       "model_id": "",
       "version_major": 2,
       "version_minor": 0
      },
      "text/plain": [
       "Validating: 0it [00:00, ?it/s]"
      ]
     },
     "metadata": {},
     "output_type": "display_data"
    },
    {
     "data": {
      "application/vnd.jupyter.widget-view+json": {
       "model_id": "",
       "version_major": 2,
       "version_minor": 0
      },
      "text/plain": [
       "Validating: 0it [00:00, ?it/s]"
      ]
     },
     "metadata": {},
     "output_type": "display_data"
    },
    {
     "data": {
      "application/vnd.jupyter.widget-view+json": {
       "model_id": "",
       "version_major": 2,
       "version_minor": 0
      },
      "text/plain": [
       "Validating: 0it [00:00, ?it/s]"
      ]
     },
     "metadata": {},
     "output_type": "display_data"
    },
    {
     "data": {
      "application/vnd.jupyter.widget-view+json": {
       "model_id": "",
       "version_major": 2,
       "version_minor": 0
      },
      "text/plain": [
       "Validating: 0it [00:00, ?it/s]"
      ]
     },
     "metadata": {},
     "output_type": "display_data"
    },
    {
     "data": {
      "application/vnd.jupyter.widget-view+json": {
       "model_id": "",
       "version_major": 2,
       "version_minor": 0
      },
      "text/plain": [
       "Validating: 0it [00:00, ?it/s]"
      ]
     },
     "metadata": {},
     "output_type": "display_data"
    },
    {
     "data": {
      "application/vnd.jupyter.widget-view+json": {
       "model_id": "",
       "version_major": 2,
       "version_minor": 0
      },
      "text/plain": [
       "Validating: 0it [00:00, ?it/s]"
      ]
     },
     "metadata": {},
     "output_type": "display_data"
    },
    {
     "data": {
      "application/vnd.jupyter.widget-view+json": {
       "model_id": "",
       "version_major": 2,
       "version_minor": 0
      },
      "text/plain": [
       "Validating: 0it [00:00, ?it/s]"
      ]
     },
     "metadata": {},
     "output_type": "display_data"
    },
    {
     "data": {
      "application/vnd.jupyter.widget-view+json": {
       "model_id": "",
       "version_major": 2,
       "version_minor": 0
      },
      "text/plain": [
       "Validating: 0it [00:00, ?it/s]"
      ]
     },
     "metadata": {},
     "output_type": "display_data"
    },
    {
     "data": {
      "application/vnd.jupyter.widget-view+json": {
       "model_id": "",
       "version_major": 2,
       "version_minor": 0
      },
      "text/plain": [
       "Validating: 0it [00:00, ?it/s]"
      ]
     },
     "metadata": {},
     "output_type": "display_data"
    },
    {
     "data": {
      "application/vnd.jupyter.widget-view+json": {
       "model_id": "",
       "version_major": 2,
       "version_minor": 0
      },
      "text/plain": [
       "Validating: 0it [00:00, ?it/s]"
      ]
     },
     "metadata": {},
     "output_type": "display_data"
    },
    {
     "data": {
      "application/vnd.jupyter.widget-view+json": {
       "model_id": "",
       "version_major": 2,
       "version_minor": 0
      },
      "text/plain": [
       "Validating: 0it [00:00, ?it/s]"
      ]
     },
     "metadata": {},
     "output_type": "display_data"
    },
    {
     "data": {
      "application/vnd.jupyter.widget-view+json": {
       "model_id": "",
       "version_major": 2,
       "version_minor": 0
      },
      "text/plain": [
       "Validating: 0it [00:00, ?it/s]"
      ]
     },
     "metadata": {},
     "output_type": "display_data"
    },
    {
     "data": {
      "application/vnd.jupyter.widget-view+json": {
       "model_id": "",
       "version_major": 2,
       "version_minor": 0
      },
      "text/plain": [
       "Validating: 0it [00:00, ?it/s]"
      ]
     },
     "metadata": {},
     "output_type": "display_data"
    },
    {
     "data": {
      "application/vnd.jupyter.widget-view+json": {
       "model_id": "",
       "version_major": 2,
       "version_minor": 0
      },
      "text/plain": [
       "Validating: 0it [00:00, ?it/s]"
      ]
     },
     "metadata": {},
     "output_type": "display_data"
    },
    {
     "data": {
      "application/vnd.jupyter.widget-view+json": {
       "model_id": "",
       "version_major": 2,
       "version_minor": 0
      },
      "text/plain": [
       "Validating: 0it [00:00, ?it/s]"
      ]
     },
     "metadata": {},
     "output_type": "display_data"
    },
    {
     "data": {
      "application/vnd.jupyter.widget-view+json": {
       "model_id": "",
       "version_major": 2,
       "version_minor": 0
      },
      "text/plain": [
       "Validating: 0it [00:00, ?it/s]"
      ]
     },
     "metadata": {},
     "output_type": "display_data"
    },
    {
     "data": {
      "application/vnd.jupyter.widget-view+json": {
       "model_id": "",
       "version_major": 2,
       "version_minor": 0
      },
      "text/plain": [
       "Validating: 0it [00:00, ?it/s]"
      ]
     },
     "metadata": {},
     "output_type": "display_data"
    },
    {
     "data": {
      "application/vnd.jupyter.widget-view+json": {
       "model_id": "",
       "version_major": 2,
       "version_minor": 0
      },
      "text/plain": [
       "Validating: 0it [00:00, ?it/s]"
      ]
     },
     "metadata": {},
     "output_type": "display_data"
    },
    {
     "data": {
      "application/vnd.jupyter.widget-view+json": {
       "model_id": "",
       "version_major": 2,
       "version_minor": 0
      },
      "text/plain": [
       "Validating: 0it [00:00, ?it/s]"
      ]
     },
     "metadata": {},
     "output_type": "display_data"
    },
    {
     "data": {
      "application/vnd.jupyter.widget-view+json": {
       "model_id": "",
       "version_major": 2,
       "version_minor": 0
      },
      "text/plain": [
       "Validating: 0it [00:00, ?it/s]"
      ]
     },
     "metadata": {},
     "output_type": "display_data"
    },
    {
     "data": {
      "application/vnd.jupyter.widget-view+json": {
       "model_id": "",
       "version_major": 2,
       "version_minor": 0
      },
      "text/plain": [
       "Validating: 0it [00:00, ?it/s]"
      ]
     },
     "metadata": {},
     "output_type": "display_data"
    },
    {
     "data": {
      "application/vnd.jupyter.widget-view+json": {
       "model_id": "",
       "version_major": 2,
       "version_minor": 0
      },
      "text/plain": [
       "Validating: 0it [00:00, ?it/s]"
      ]
     },
     "metadata": {},
     "output_type": "display_data"
    },
    {
     "data": {
      "application/vnd.jupyter.widget-view+json": {
       "model_id": "",
       "version_major": 2,
       "version_minor": 0
      },
      "text/plain": [
       "Validating: 0it [00:00, ?it/s]"
      ]
     },
     "metadata": {},
     "output_type": "display_data"
    },
    {
     "data": {
      "application/vnd.jupyter.widget-view+json": {
       "model_id": "",
       "version_major": 2,
       "version_minor": 0
      },
      "text/plain": [
       "Validating: 0it [00:00, ?it/s]"
      ]
     },
     "metadata": {},
     "output_type": "display_data"
    },
    {
     "data": {
      "application/vnd.jupyter.widget-view+json": {
       "model_id": "",
       "version_major": 2,
       "version_minor": 0
      },
      "text/plain": [
       "Validating: 0it [00:00, ?it/s]"
      ]
     },
     "metadata": {},
     "output_type": "display_data"
    },
    {
     "data": {
      "application/vnd.jupyter.widget-view+json": {
       "model_id": "",
       "version_major": 2,
       "version_minor": 0
      },
      "text/plain": [
       "Validating: 0it [00:00, ?it/s]"
      ]
     },
     "metadata": {},
     "output_type": "display_data"
    },
    {
     "data": {
      "application/vnd.jupyter.widget-view+json": {
       "model_id": "",
       "version_major": 2,
       "version_minor": 0
      },
      "text/plain": [
       "Validating: 0it [00:00, ?it/s]"
      ]
     },
     "metadata": {},
     "output_type": "display_data"
    },
    {
     "data": {
      "application/vnd.jupyter.widget-view+json": {
       "model_id": "",
       "version_major": 2,
       "version_minor": 0
      },
      "text/plain": [
       "Validating: 0it [00:00, ?it/s]"
      ]
     },
     "metadata": {},
     "output_type": "display_data"
    },
    {
     "data": {
      "application/vnd.jupyter.widget-view+json": {
       "model_id": "",
       "version_major": 2,
       "version_minor": 0
      },
      "text/plain": [
       "Validating: 0it [00:00, ?it/s]"
      ]
     },
     "metadata": {},
     "output_type": "display_data"
    },
    {
     "data": {
      "application/vnd.jupyter.widget-view+json": {
       "model_id": "",
       "version_major": 2,
       "version_minor": 0
      },
      "text/plain": [
       "Validating: 0it [00:00, ?it/s]"
      ]
     },
     "metadata": {},
     "output_type": "display_data"
    },
    {
     "data": {
      "application/vnd.jupyter.widget-view+json": {
       "model_id": "",
       "version_major": 2,
       "version_minor": 0
      },
      "text/plain": [
       "Validating: 0it [00:00, ?it/s]"
      ]
     },
     "metadata": {},
     "output_type": "display_data"
    },
    {
     "data": {
      "application/vnd.jupyter.widget-view+json": {
       "model_id": "",
       "version_major": 2,
       "version_minor": 0
      },
      "text/plain": [
       "Validating: 0it [00:00, ?it/s]"
      ]
     },
     "metadata": {},
     "output_type": "display_data"
    },
    {
     "data": {
      "application/vnd.jupyter.widget-view+json": {
       "model_id": "",
       "version_major": 2,
       "version_minor": 0
      },
      "text/plain": [
       "Validating: 0it [00:00, ?it/s]"
      ]
     },
     "metadata": {},
     "output_type": "display_data"
    },
    {
     "data": {
      "application/vnd.jupyter.widget-view+json": {
       "model_id": "",
       "version_major": 2,
       "version_minor": 0
      },
      "text/plain": [
       "Validating: 0it [00:00, ?it/s]"
      ]
     },
     "metadata": {},
     "output_type": "display_data"
    },
    {
     "data": {
      "application/vnd.jupyter.widget-view+json": {
       "model_id": "",
       "version_major": 2,
       "version_minor": 0
      },
      "text/plain": [
       "Validating: 0it [00:00, ?it/s]"
      ]
     },
     "metadata": {},
     "output_type": "display_data"
    },
    {
     "data": {
      "application/vnd.jupyter.widget-view+json": {
       "model_id": "",
       "version_major": 2,
       "version_minor": 0
      },
      "text/plain": [
       "Validating: 0it [00:00, ?it/s]"
      ]
     },
     "metadata": {},
     "output_type": "display_data"
    },
    {
     "data": {
      "application/vnd.jupyter.widget-view+json": {
       "model_id": "",
       "version_major": 2,
       "version_minor": 0
      },
      "text/plain": [
       "Validating: 0it [00:00, ?it/s]"
      ]
     },
     "metadata": {},
     "output_type": "display_data"
    },
    {
     "data": {
      "application/vnd.jupyter.widget-view+json": {
       "model_id": "",
       "version_major": 2,
       "version_minor": 0
      },
      "text/plain": [
       "Validating: 0it [00:00, ?it/s]"
      ]
     },
     "metadata": {},
     "output_type": "display_data"
    },
    {
     "data": {
      "application/vnd.jupyter.widget-view+json": {
       "model_id": "",
       "version_major": 2,
       "version_minor": 0
      },
      "text/plain": [
       "Validating: 0it [00:00, ?it/s]"
      ]
     },
     "metadata": {},
     "output_type": "display_data"
    },
    {
     "data": {
      "application/vnd.jupyter.widget-view+json": {
       "model_id": "",
       "version_major": 2,
       "version_minor": 0
      },
      "text/plain": [
       "Validating: 0it [00:00, ?it/s]"
      ]
     },
     "metadata": {},
     "output_type": "display_data"
    },
    {
     "data": {
      "application/vnd.jupyter.widget-view+json": {
       "model_id": "",
       "version_major": 2,
       "version_minor": 0
      },
      "text/plain": [
       "Validating: 0it [00:00, ?it/s]"
      ]
     },
     "metadata": {},
     "output_type": "display_data"
    },
    {
     "data": {
      "application/vnd.jupyter.widget-view+json": {
       "model_id": "",
       "version_major": 2,
       "version_minor": 0
      },
      "text/plain": [
       "Validating: 0it [00:00, ?it/s]"
      ]
     },
     "metadata": {},
     "output_type": "display_data"
    },
    {
     "data": {
      "application/vnd.jupyter.widget-view+json": {
       "model_id": "",
       "version_major": 2,
       "version_minor": 0
      },
      "text/plain": [
       "Validating: 0it [00:00, ?it/s]"
      ]
     },
     "metadata": {},
     "output_type": "display_data"
    },
    {
     "data": {
      "application/vnd.jupyter.widget-view+json": {
       "model_id": "",
       "version_major": 2,
       "version_minor": 0
      },
      "text/plain": [
       "Validating: 0it [00:00, ?it/s]"
      ]
     },
     "metadata": {},
     "output_type": "display_data"
    },
    {
     "data": {
      "application/vnd.jupyter.widget-view+json": {
       "model_id": "",
       "version_major": 2,
       "version_minor": 0
      },
      "text/plain": [
       "Validating: 0it [00:00, ?it/s]"
      ]
     },
     "metadata": {},
     "output_type": "display_data"
    },
    {
     "data": {
      "application/vnd.jupyter.widget-view+json": {
       "model_id": "",
       "version_major": 2,
       "version_minor": 0
      },
      "text/plain": [
       "Validating: 0it [00:00, ?it/s]"
      ]
     },
     "metadata": {},
     "output_type": "display_data"
    },
    {
     "data": {
      "application/vnd.jupyter.widget-view+json": {
       "model_id": "",
       "version_major": 2,
       "version_minor": 0
      },
      "text/plain": [
       "Validating: 0it [00:00, ?it/s]"
      ]
     },
     "metadata": {},
     "output_type": "display_data"
    },
    {
     "data": {
      "application/vnd.jupyter.widget-view+json": {
       "model_id": "",
       "version_major": 2,
       "version_minor": 0
      },
      "text/plain": [
       "Validating: 0it [00:00, ?it/s]"
      ]
     },
     "metadata": {},
     "output_type": "display_data"
    },
    {
     "data": {
      "application/vnd.jupyter.widget-view+json": {
       "model_id": "",
       "version_major": 2,
       "version_minor": 0
      },
      "text/plain": [
       "Validating: 0it [00:00, ?it/s]"
      ]
     },
     "metadata": {},
     "output_type": "display_data"
    },
    {
     "data": {
      "application/vnd.jupyter.widget-view+json": {
       "model_id": "",
       "version_major": 2,
       "version_minor": 0
      },
      "text/plain": [
       "Validating: 0it [00:00, ?it/s]"
      ]
     },
     "metadata": {},
     "output_type": "display_data"
    },
    {
     "data": {
      "application/vnd.jupyter.widget-view+json": {
       "model_id": "",
       "version_major": 2,
       "version_minor": 0
      },
      "text/plain": [
       "Validating: 0it [00:00, ?it/s]"
      ]
     },
     "metadata": {},
     "output_type": "display_data"
    },
    {
     "data": {
      "application/vnd.jupyter.widget-view+json": {
       "model_id": "",
       "version_major": 2,
       "version_minor": 0
      },
      "text/plain": [
       "Validating: 0it [00:00, ?it/s]"
      ]
     },
     "metadata": {},
     "output_type": "display_data"
    },
    {
     "data": {
      "application/vnd.jupyter.widget-view+json": {
       "model_id": "",
       "version_major": 2,
       "version_minor": 0
      },
      "text/plain": [
       "Validating: 0it [00:00, ?it/s]"
      ]
     },
     "metadata": {},
     "output_type": "display_data"
    },
    {
     "data": {
      "application/vnd.jupyter.widget-view+json": {
       "model_id": "",
       "version_major": 2,
       "version_minor": 0
      },
      "text/plain": [
       "Validating: 0it [00:00, ?it/s]"
      ]
     },
     "metadata": {},
     "output_type": "display_data"
    },
    {
     "data": {
      "application/vnd.jupyter.widget-view+json": {
       "model_id": "",
       "version_major": 2,
       "version_minor": 0
      },
      "text/plain": [
       "Validating: 0it [00:00, ?it/s]"
      ]
     },
     "metadata": {},
     "output_type": "display_data"
    },
    {
     "data": {
      "application/vnd.jupyter.widget-view+json": {
       "model_id": "",
       "version_major": 2,
       "version_minor": 0
      },
      "text/plain": [
       "Validating: 0it [00:00, ?it/s]"
      ]
     },
     "metadata": {},
     "output_type": "display_data"
    },
    {
     "data": {
      "application/vnd.jupyter.widget-view+json": {
       "model_id": "",
       "version_major": 2,
       "version_minor": 0
      },
      "text/plain": [
       "Validating: 0it [00:00, ?it/s]"
      ]
     },
     "metadata": {},
     "output_type": "display_data"
    },
    {
     "data": {
      "application/vnd.jupyter.widget-view+json": {
       "model_id": "",
       "version_major": 2,
       "version_minor": 0
      },
      "text/plain": [
       "Validating: 0it [00:00, ?it/s]"
      ]
     },
     "metadata": {},
     "output_type": "display_data"
    },
    {
     "data": {
      "application/vnd.jupyter.widget-view+json": {
       "model_id": "",
       "version_major": 2,
       "version_minor": 0
      },
      "text/plain": [
       "Validating: 0it [00:00, ?it/s]"
      ]
     },
     "metadata": {},
     "output_type": "display_data"
    },
    {
     "data": {
      "application/vnd.jupyter.widget-view+json": {
       "model_id": "",
       "version_major": 2,
       "version_minor": 0
      },
      "text/plain": [
       "Validating: 0it [00:00, ?it/s]"
      ]
     },
     "metadata": {},
     "output_type": "display_data"
    },
    {
     "data": {
      "application/vnd.jupyter.widget-view+json": {
       "model_id": "",
       "version_major": 2,
       "version_minor": 0
      },
      "text/plain": [
       "Validating: 0it [00:00, ?it/s]"
      ]
     },
     "metadata": {},
     "output_type": "display_data"
    },
    {
     "data": {
      "application/vnd.jupyter.widget-view+json": {
       "model_id": "",
       "version_major": 2,
       "version_minor": 0
      },
      "text/plain": [
       "Validating: 0it [00:00, ?it/s]"
      ]
     },
     "metadata": {},
     "output_type": "display_data"
    },
    {
     "data": {
      "application/vnd.jupyter.widget-view+json": {
       "model_id": "",
       "version_major": 2,
       "version_minor": 0
      },
      "text/plain": [
       "Validating: 0it [00:00, ?it/s]"
      ]
     },
     "metadata": {},
     "output_type": "display_data"
    },
    {
     "data": {
      "application/vnd.jupyter.widget-view+json": {
       "model_id": "",
       "version_major": 2,
       "version_minor": 0
      },
      "text/plain": [
       "Validating: 0it [00:00, ?it/s]"
      ]
     },
     "metadata": {},
     "output_type": "display_data"
    },
    {
     "data": {
      "application/vnd.jupyter.widget-view+json": {
       "model_id": "",
       "version_major": 2,
       "version_minor": 0
      },
      "text/plain": [
       "Validating: 0it [00:00, ?it/s]"
      ]
     },
     "metadata": {},
     "output_type": "display_data"
    },
    {
     "data": {
      "application/vnd.jupyter.widget-view+json": {
       "model_id": "",
       "version_major": 2,
       "version_minor": 0
      },
      "text/plain": [
       "Validating: 0it [00:00, ?it/s]"
      ]
     },
     "metadata": {},
     "output_type": "display_data"
    },
    {
     "data": {
      "application/vnd.jupyter.widget-view+json": {
       "model_id": "",
       "version_major": 2,
       "version_minor": 0
      },
      "text/plain": [
       "Validating: 0it [00:00, ?it/s]"
      ]
     },
     "metadata": {},
     "output_type": "display_data"
    },
    {
     "data": {
      "application/vnd.jupyter.widget-view+json": {
       "model_id": "",
       "version_major": 2,
       "version_minor": 0
      },
      "text/plain": [
       "Validating: 0it [00:00, ?it/s]"
      ]
     },
     "metadata": {},
     "output_type": "display_data"
    },
    {
     "data": {
      "application/vnd.jupyter.widget-view+json": {
       "model_id": "",
       "version_major": 2,
       "version_minor": 0
      },
      "text/plain": [
       "Validating: 0it [00:00, ?it/s]"
      ]
     },
     "metadata": {},
     "output_type": "display_data"
    },
    {
     "data": {
      "application/vnd.jupyter.widget-view+json": {
       "model_id": "",
       "version_major": 2,
       "version_minor": 0
      },
      "text/plain": [
       "Validating: 0it [00:00, ?it/s]"
      ]
     },
     "metadata": {},
     "output_type": "display_data"
    },
    {
     "data": {
      "application/vnd.jupyter.widget-view+json": {
       "model_id": "",
       "version_major": 2,
       "version_minor": 0
      },
      "text/plain": [
       "Validating: 0it [00:00, ?it/s]"
      ]
     },
     "metadata": {},
     "output_type": "display_data"
    },
    {
     "data": {
      "application/vnd.jupyter.widget-view+json": {
       "model_id": "",
       "version_major": 2,
       "version_minor": 0
      },
      "text/plain": [
       "Validating: 0it [00:00, ?it/s]"
      ]
     },
     "metadata": {},
     "output_type": "display_data"
    },
    {
     "data": {
      "application/vnd.jupyter.widget-view+json": {
       "model_id": "",
       "version_major": 2,
       "version_minor": 0
      },
      "text/plain": [
       "Validating: 0it [00:00, ?it/s]"
      ]
     },
     "metadata": {},
     "output_type": "display_data"
    },
    {
     "data": {
      "application/vnd.jupyter.widget-view+json": {
       "model_id": "",
       "version_major": 2,
       "version_minor": 0
      },
      "text/plain": [
       "Validating: 0it [00:00, ?it/s]"
      ]
     },
     "metadata": {},
     "output_type": "display_data"
    },
    {
     "data": {
      "application/vnd.jupyter.widget-view+json": {
       "model_id": "",
       "version_major": 2,
       "version_minor": 0
      },
      "text/plain": [
       "Validating: 0it [00:00, ?it/s]"
      ]
     },
     "metadata": {},
     "output_type": "display_data"
    },
    {
     "data": {
      "application/vnd.jupyter.widget-view+json": {
       "model_id": "",
       "version_major": 2,
       "version_minor": 0
      },
      "text/plain": [
       "Validating: 0it [00:00, ?it/s]"
      ]
     },
     "metadata": {},
     "output_type": "display_data"
    },
    {
     "data": {
      "application/vnd.jupyter.widget-view+json": {
       "model_id": "",
       "version_major": 2,
       "version_minor": 0
      },
      "text/plain": [
       "Validating: 0it [00:00, ?it/s]"
      ]
     },
     "metadata": {},
     "output_type": "display_data"
    },
    {
     "data": {
      "application/vnd.jupyter.widget-view+json": {
       "model_id": "",
       "version_major": 2,
       "version_minor": 0
      },
      "text/plain": [
       "Validating: 0it [00:00, ?it/s]"
      ]
     },
     "metadata": {},
     "output_type": "display_data"
    },
    {
     "data": {
      "application/vnd.jupyter.widget-view+json": {
       "model_id": "",
       "version_major": 2,
       "version_minor": 0
      },
      "text/plain": [
       "Validating: 0it [00:00, ?it/s]"
      ]
     },
     "metadata": {},
     "output_type": "display_data"
    },
    {
     "data": {
      "application/vnd.jupyter.widget-view+json": {
       "model_id": "",
       "version_major": 2,
       "version_minor": 0
      },
      "text/plain": [
       "Validating: 0it [00:00, ?it/s]"
      ]
     },
     "metadata": {},
     "output_type": "display_data"
    },
    {
     "data": {
      "application/vnd.jupyter.widget-view+json": {
       "model_id": "",
       "version_major": 2,
       "version_minor": 0
      },
      "text/plain": [
       "Validating: 0it [00:00, ?it/s]"
      ]
     },
     "metadata": {},
     "output_type": "display_data"
    },
    {
     "data": {
      "application/vnd.jupyter.widget-view+json": {
       "model_id": "",
       "version_major": 2,
       "version_minor": 0
      },
      "text/plain": [
       "Validating: 0it [00:00, ?it/s]"
      ]
     },
     "metadata": {},
     "output_type": "display_data"
    },
    {
     "data": {
      "application/vnd.jupyter.widget-view+json": {
       "model_id": "",
       "version_major": 2,
       "version_minor": 0
      },
      "text/plain": [
       "Validating: 0it [00:00, ?it/s]"
      ]
     },
     "metadata": {},
     "output_type": "display_data"
    },
    {
     "data": {
      "application/vnd.jupyter.widget-view+json": {
       "model_id": "",
       "version_major": 2,
       "version_minor": 0
      },
      "text/plain": [
       "Validating: 0it [00:00, ?it/s]"
      ]
     },
     "metadata": {},
     "output_type": "display_data"
    },
    {
     "data": {
      "application/vnd.jupyter.widget-view+json": {
       "model_id": "",
       "version_major": 2,
       "version_minor": 0
      },
      "text/plain": [
       "Validating: 0it [00:00, ?it/s]"
      ]
     },
     "metadata": {},
     "output_type": "display_data"
    },
    {
     "data": {
      "application/vnd.jupyter.widget-view+json": {
       "model_id": "",
       "version_major": 2,
       "version_minor": 0
      },
      "text/plain": [
       "Validating: 0it [00:00, ?it/s]"
      ]
     },
     "metadata": {},
     "output_type": "display_data"
    },
    {
     "data": {
      "application/vnd.jupyter.widget-view+json": {
       "model_id": "",
       "version_major": 2,
       "version_minor": 0
      },
      "text/plain": [
       "Validating: 0it [00:00, ?it/s]"
      ]
     },
     "metadata": {},
     "output_type": "display_data"
    },
    {
     "data": {
      "application/vnd.jupyter.widget-view+json": {
       "model_id": "",
       "version_major": 2,
       "version_minor": 0
      },
      "text/plain": [
       "Validating: 0it [00:00, ?it/s]"
      ]
     },
     "metadata": {},
     "output_type": "display_data"
    },
    {
     "data": {
      "application/vnd.jupyter.widget-view+json": {
       "model_id": "",
       "version_major": 2,
       "version_minor": 0
      },
      "text/plain": [
       "Validating: 0it [00:00, ?it/s]"
      ]
     },
     "metadata": {},
     "output_type": "display_data"
    },
    {
     "data": {
      "application/vnd.jupyter.widget-view+json": {
       "model_id": "",
       "version_major": 2,
       "version_minor": 0
      },
      "text/plain": [
       "Validating: 0it [00:00, ?it/s]"
      ]
     },
     "metadata": {},
     "output_type": "display_data"
    },
    {
     "data": {
      "application/vnd.jupyter.widget-view+json": {
       "model_id": "",
       "version_major": 2,
       "version_minor": 0
      },
      "text/plain": [
       "Validating: 0it [00:00, ?it/s]"
      ]
     },
     "metadata": {},
     "output_type": "display_data"
    },
    {
     "data": {
      "application/vnd.jupyter.widget-view+json": {
       "model_id": "",
       "version_major": 2,
       "version_minor": 0
      },
      "text/plain": [
       "Validating: 0it [00:00, ?it/s]"
      ]
     },
     "metadata": {},
     "output_type": "display_data"
    },
    {
     "data": {
      "application/vnd.jupyter.widget-view+json": {
       "model_id": "",
       "version_major": 2,
       "version_minor": 0
      },
      "text/plain": [
       "Validating: 0it [00:00, ?it/s]"
      ]
     },
     "metadata": {},
     "output_type": "display_data"
    },
    {
     "data": {
      "application/vnd.jupyter.widget-view+json": {
       "model_id": "",
       "version_major": 2,
       "version_minor": 0
      },
      "text/plain": [
       "Validating: 0it [00:00, ?it/s]"
      ]
     },
     "metadata": {},
     "output_type": "display_data"
    },
    {
     "data": {
      "application/vnd.jupyter.widget-view+json": {
       "model_id": "",
       "version_major": 2,
       "version_minor": 0
      },
      "text/plain": [
       "Validating: 0it [00:00, ?it/s]"
      ]
     },
     "metadata": {},
     "output_type": "display_data"
    },
    {
     "data": {
      "application/vnd.jupyter.widget-view+json": {
       "model_id": "",
       "version_major": 2,
       "version_minor": 0
      },
      "text/plain": [
       "Validating: 0it [00:00, ?it/s]"
      ]
     },
     "metadata": {},
     "output_type": "display_data"
    },
    {
     "data": {
      "application/vnd.jupyter.widget-view+json": {
       "model_id": "",
       "version_major": 2,
       "version_minor": 0
      },
      "text/plain": [
       "Validating: 0it [00:00, ?it/s]"
      ]
     },
     "metadata": {},
     "output_type": "display_data"
    },
    {
     "data": {
      "application/vnd.jupyter.widget-view+json": {
       "model_id": "",
       "version_major": 2,
       "version_minor": 0
      },
      "text/plain": [
       "Validating: 0it [00:00, ?it/s]"
      ]
     },
     "metadata": {},
     "output_type": "display_data"
    },
    {
     "data": {
      "application/vnd.jupyter.widget-view+json": {
       "model_id": "",
       "version_major": 2,
       "version_minor": 0
      },
      "text/plain": [
       "Validating: 0it [00:00, ?it/s]"
      ]
     },
     "metadata": {},
     "output_type": "display_data"
    },
    {
     "data": {
      "application/vnd.jupyter.widget-view+json": {
       "model_id": "",
       "version_major": 2,
       "version_minor": 0
      },
      "text/plain": [
       "Validating: 0it [00:00, ?it/s]"
      ]
     },
     "metadata": {},
     "output_type": "display_data"
    },
    {
     "data": {
      "application/vnd.jupyter.widget-view+json": {
       "model_id": "",
       "version_major": 2,
       "version_minor": 0
      },
      "text/plain": [
       "Validating: 0it [00:00, ?it/s]"
      ]
     },
     "metadata": {},
     "output_type": "display_data"
    },
    {
     "data": {
      "application/vnd.jupyter.widget-view+json": {
       "model_id": "",
       "version_major": 2,
       "version_minor": 0
      },
      "text/plain": [
       "Validating: 0it [00:00, ?it/s]"
      ]
     },
     "metadata": {},
     "output_type": "display_data"
    },
    {
     "data": {
      "application/vnd.jupyter.widget-view+json": {
       "model_id": "",
       "version_major": 2,
       "version_minor": 0
      },
      "text/plain": [
       "Validating: 0it [00:00, ?it/s]"
      ]
     },
     "metadata": {},
     "output_type": "display_data"
    },
    {
     "data": {
      "application/vnd.jupyter.widget-view+json": {
       "model_id": "",
       "version_major": 2,
       "version_minor": 0
      },
      "text/plain": [
       "Validating: 0it [00:00, ?it/s]"
      ]
     },
     "metadata": {},
     "output_type": "display_data"
    },
    {
     "data": {
      "application/vnd.jupyter.widget-view+json": {
       "model_id": "",
       "version_major": 2,
       "version_minor": 0
      },
      "text/plain": [
       "Validating: 0it [00:00, ?it/s]"
      ]
     },
     "metadata": {},
     "output_type": "display_data"
    },
    {
     "data": {
      "application/vnd.jupyter.widget-view+json": {
       "model_id": "",
       "version_major": 2,
       "version_minor": 0
      },
      "text/plain": [
       "Validating: 0it [00:00, ?it/s]"
      ]
     },
     "metadata": {},
     "output_type": "display_data"
    },
    {
     "data": {
      "application/vnd.jupyter.widget-view+json": {
       "model_id": "",
       "version_major": 2,
       "version_minor": 0
      },
      "text/plain": [
       "Validating: 0it [00:00, ?it/s]"
      ]
     },
     "metadata": {},
     "output_type": "display_data"
    },
    {
     "data": {
      "application/vnd.jupyter.widget-view+json": {
       "model_id": "",
       "version_major": 2,
       "version_minor": 0
      },
      "text/plain": [
       "Validating: 0it [00:00, ?it/s]"
      ]
     },
     "metadata": {},
     "output_type": "display_data"
    },
    {
     "data": {
      "application/vnd.jupyter.widget-view+json": {
       "model_id": "",
       "version_major": 2,
       "version_minor": 0
      },
      "text/plain": [
       "Validating: 0it [00:00, ?it/s]"
      ]
     },
     "metadata": {},
     "output_type": "display_data"
    },
    {
     "data": {
      "application/vnd.jupyter.widget-view+json": {
       "model_id": "",
       "version_major": 2,
       "version_minor": 0
      },
      "text/plain": [
       "Validating: 0it [00:00, ?it/s]"
      ]
     },
     "metadata": {},
     "output_type": "display_data"
    },
    {
     "data": {
      "application/vnd.jupyter.widget-view+json": {
       "model_id": "",
       "version_major": 2,
       "version_minor": 0
      },
      "text/plain": [
       "Validating: 0it [00:00, ?it/s]"
      ]
     },
     "metadata": {},
     "output_type": "display_data"
    },
    {
     "data": {
      "application/vnd.jupyter.widget-view+json": {
       "model_id": "",
       "version_major": 2,
       "version_minor": 0
      },
      "text/plain": [
       "Validating: 0it [00:00, ?it/s]"
      ]
     },
     "metadata": {},
     "output_type": "display_data"
    },
    {
     "data": {
      "application/vnd.jupyter.widget-view+json": {
       "model_id": "",
       "version_major": 2,
       "version_minor": 0
      },
      "text/plain": [
       "Validating: 0it [00:00, ?it/s]"
      ]
     },
     "metadata": {},
     "output_type": "display_data"
    },
    {
     "data": {
      "application/vnd.jupyter.widget-view+json": {
       "model_id": "",
       "version_major": 2,
       "version_minor": 0
      },
      "text/plain": [
       "Validating: 0it [00:00, ?it/s]"
      ]
     },
     "metadata": {},
     "output_type": "display_data"
    },
    {
     "data": {
      "application/vnd.jupyter.widget-view+json": {
       "model_id": "",
       "version_major": 2,
       "version_minor": 0
      },
      "text/plain": [
       "Validating: 0it [00:00, ?it/s]"
      ]
     },
     "metadata": {},
     "output_type": "display_data"
    },
    {
     "data": {
      "application/vnd.jupyter.widget-view+json": {
       "model_id": "",
       "version_major": 2,
       "version_minor": 0
      },
      "text/plain": [
       "Validating: 0it [00:00, ?it/s]"
      ]
     },
     "metadata": {},
     "output_type": "display_data"
    },
    {
     "data": {
      "application/vnd.jupyter.widget-view+json": {
       "model_id": "",
       "version_major": 2,
       "version_minor": 0
      },
      "text/plain": [
       "Validating: 0it [00:00, ?it/s]"
      ]
     },
     "metadata": {},
     "output_type": "display_data"
    },
    {
     "data": {
      "application/vnd.jupyter.widget-view+json": {
       "model_id": "",
       "version_major": 2,
       "version_minor": 0
      },
      "text/plain": [
       "Validating: 0it [00:00, ?it/s]"
      ]
     },
     "metadata": {},
     "output_type": "display_data"
    },
    {
     "data": {
      "application/vnd.jupyter.widget-view+json": {
       "model_id": "",
       "version_major": 2,
       "version_minor": 0
      },
      "text/plain": [
       "Validating: 0it [00:00, ?it/s]"
      ]
     },
     "metadata": {},
     "output_type": "display_data"
    },
    {
     "data": {
      "application/vnd.jupyter.widget-view+json": {
       "model_id": "",
       "version_major": 2,
       "version_minor": 0
      },
      "text/plain": [
       "Validating: 0it [00:00, ?it/s]"
      ]
     },
     "metadata": {},
     "output_type": "display_data"
    },
    {
     "data": {
      "application/vnd.jupyter.widget-view+json": {
       "model_id": "",
       "version_major": 2,
       "version_minor": 0
      },
      "text/plain": [
       "Validating: 0it [00:00, ?it/s]"
      ]
     },
     "metadata": {},
     "output_type": "display_data"
    },
    {
     "data": {
      "application/vnd.jupyter.widget-view+json": {
       "model_id": "",
       "version_major": 2,
       "version_minor": 0
      },
      "text/plain": [
       "Validating: 0it [00:00, ?it/s]"
      ]
     },
     "metadata": {},
     "output_type": "display_data"
    },
    {
     "data": {
      "application/vnd.jupyter.widget-view+json": {
       "model_id": "",
       "version_major": 2,
       "version_minor": 0
      },
      "text/plain": [
       "Validating: 0it [00:00, ?it/s]"
      ]
     },
     "metadata": {},
     "output_type": "display_data"
    },
    {
     "data": {
      "application/vnd.jupyter.widget-view+json": {
       "model_id": "",
       "version_major": 2,
       "version_minor": 0
      },
      "text/plain": [
       "Validating: 0it [00:00, ?it/s]"
      ]
     },
     "metadata": {},
     "output_type": "display_data"
    },
    {
     "data": {
      "application/vnd.jupyter.widget-view+json": {
       "model_id": "",
       "version_major": 2,
       "version_minor": 0
      },
      "text/plain": [
       "Validating: 0it [00:00, ?it/s]"
      ]
     },
     "metadata": {},
     "output_type": "display_data"
    },
    {
     "data": {
      "application/vnd.jupyter.widget-view+json": {
       "model_id": "",
       "version_major": 2,
       "version_minor": 0
      },
      "text/plain": [
       "Validating: 0it [00:00, ?it/s]"
      ]
     },
     "metadata": {},
     "output_type": "display_data"
    },
    {
     "data": {
      "application/vnd.jupyter.widget-view+json": {
       "model_id": "",
       "version_major": 2,
       "version_minor": 0
      },
      "text/plain": [
       "Validating: 0it [00:00, ?it/s]"
      ]
     },
     "metadata": {},
     "output_type": "display_data"
    },
    {
     "data": {
      "application/vnd.jupyter.widget-view+json": {
       "model_id": "",
       "version_major": 2,
       "version_minor": 0
      },
      "text/plain": [
       "Validating: 0it [00:00, ?it/s]"
      ]
     },
     "metadata": {},
     "output_type": "display_data"
    },
    {
     "data": {
      "application/vnd.jupyter.widget-view+json": {
       "model_id": "",
       "version_major": 2,
       "version_minor": 0
      },
      "text/plain": [
       "Validating: 0it [00:00, ?it/s]"
      ]
     },
     "metadata": {},
     "output_type": "display_data"
    },
    {
     "data": {
      "application/vnd.jupyter.widget-view+json": {
       "model_id": "",
       "version_major": 2,
       "version_minor": 0
      },
      "text/plain": [
       "Validating: 0it [00:00, ?it/s]"
      ]
     },
     "metadata": {},
     "output_type": "display_data"
    },
    {
     "data": {
      "application/vnd.jupyter.widget-view+json": {
       "model_id": "",
       "version_major": 2,
       "version_minor": 0
      },
      "text/plain": [
       "Validating: 0it [00:00, ?it/s]"
      ]
     },
     "metadata": {},
     "output_type": "display_data"
    },
    {
     "data": {
      "application/vnd.jupyter.widget-view+json": {
       "model_id": "",
       "version_major": 2,
       "version_minor": 0
      },
      "text/plain": [
       "Validating: 0it [00:00, ?it/s]"
      ]
     },
     "metadata": {},
     "output_type": "display_data"
    },
    {
     "data": {
      "application/vnd.jupyter.widget-view+json": {
       "model_id": "",
       "version_major": 2,
       "version_minor": 0
      },
      "text/plain": [
       "Validating: 0it [00:00, ?it/s]"
      ]
     },
     "metadata": {},
     "output_type": "display_data"
    },
    {
     "data": {
      "application/vnd.jupyter.widget-view+json": {
       "model_id": "",
       "version_major": 2,
       "version_minor": 0
      },
      "text/plain": [
       "Validating: 0it [00:00, ?it/s]"
      ]
     },
     "metadata": {},
     "output_type": "display_data"
    },
    {
     "data": {
      "application/vnd.jupyter.widget-view+json": {
       "model_id": "",
       "version_major": 2,
       "version_minor": 0
      },
      "text/plain": [
       "Validating: 0it [00:00, ?it/s]"
      ]
     },
     "metadata": {},
     "output_type": "display_data"
    },
    {
     "data": {
      "application/vnd.jupyter.widget-view+json": {
       "model_id": "",
       "version_major": 2,
       "version_minor": 0
      },
      "text/plain": [
       "Validating: 0it [00:00, ?it/s]"
      ]
     },
     "metadata": {},
     "output_type": "display_data"
    },
    {
     "data": {
      "application/vnd.jupyter.widget-view+json": {
       "model_id": "",
       "version_major": 2,
       "version_minor": 0
      },
      "text/plain": [
       "Validating: 0it [00:00, ?it/s]"
      ]
     },
     "metadata": {},
     "output_type": "display_data"
    },
    {
     "data": {
      "application/vnd.jupyter.widget-view+json": {
       "model_id": "",
       "version_major": 2,
       "version_minor": 0
      },
      "text/plain": [
       "Validating: 0it [00:00, ?it/s]"
      ]
     },
     "metadata": {},
     "output_type": "display_data"
    },
    {
     "data": {
      "application/vnd.jupyter.widget-view+json": {
       "model_id": "",
       "version_major": 2,
       "version_minor": 0
      },
      "text/plain": [
       "Validating: 0it [00:00, ?it/s]"
      ]
     },
     "metadata": {},
     "output_type": "display_data"
    },
    {
     "data": {
      "application/vnd.jupyter.widget-view+json": {
       "model_id": "",
       "version_major": 2,
       "version_minor": 0
      },
      "text/plain": [
       "Validating: 0it [00:00, ?it/s]"
      ]
     },
     "metadata": {},
     "output_type": "display_data"
    },
    {
     "data": {
      "application/vnd.jupyter.widget-view+json": {
       "model_id": "",
       "version_major": 2,
       "version_minor": 0
      },
      "text/plain": [
       "Validating: 0it [00:00, ?it/s]"
      ]
     },
     "metadata": {},
     "output_type": "display_data"
    },
    {
     "data": {
      "application/vnd.jupyter.widget-view+json": {
       "model_id": "",
       "version_major": 2,
       "version_minor": 0
      },
      "text/plain": [
       "Validating: 0it [00:00, ?it/s]"
      ]
     },
     "metadata": {},
     "output_type": "display_data"
    },
    {
     "data": {
      "application/vnd.jupyter.widget-view+json": {
       "model_id": "",
       "version_major": 2,
       "version_minor": 0
      },
      "text/plain": [
       "Validating: 0it [00:00, ?it/s]"
      ]
     },
     "metadata": {},
     "output_type": "display_data"
    },
    {
     "data": {
      "application/vnd.jupyter.widget-view+json": {
       "model_id": "",
       "version_major": 2,
       "version_minor": 0
      },
      "text/plain": [
       "Validating: 0it [00:00, ?it/s]"
      ]
     },
     "metadata": {},
     "output_type": "display_data"
    },
    {
     "data": {
      "application/vnd.jupyter.widget-view+json": {
       "model_id": "",
       "version_major": 2,
       "version_minor": 0
      },
      "text/plain": [
       "Validating: 0it [00:00, ?it/s]"
      ]
     },
     "metadata": {},
     "output_type": "display_data"
    },
    {
     "data": {
      "application/vnd.jupyter.widget-view+json": {
       "model_id": "",
       "version_major": 2,
       "version_minor": 0
      },
      "text/plain": [
       "Validating: 0it [00:00, ?it/s]"
      ]
     },
     "metadata": {},
     "output_type": "display_data"
    },
    {
     "data": {
      "application/vnd.jupyter.widget-view+json": {
       "model_id": "",
       "version_major": 2,
       "version_minor": 0
      },
      "text/plain": [
       "Validating: 0it [00:00, ?it/s]"
      ]
     },
     "metadata": {},
     "output_type": "display_data"
    },
    {
     "data": {
      "application/vnd.jupyter.widget-view+json": {
       "model_id": "",
       "version_major": 2,
       "version_minor": 0
      },
      "text/plain": [
       "Validating: 0it [00:00, ?it/s]"
      ]
     },
     "metadata": {},
     "output_type": "display_data"
    },
    {
     "data": {
      "application/vnd.jupyter.widget-view+json": {
       "model_id": "",
       "version_major": 2,
       "version_minor": 0
      },
      "text/plain": [
       "Validating: 0it [00:00, ?it/s]"
      ]
     },
     "metadata": {},
     "output_type": "display_data"
    },
    {
     "data": {
      "application/vnd.jupyter.widget-view+json": {
       "model_id": "",
       "version_major": 2,
       "version_minor": 0
      },
      "text/plain": [
       "Validating: 0it [00:00, ?it/s]"
      ]
     },
     "metadata": {},
     "output_type": "display_data"
    },
    {
     "data": {
      "application/vnd.jupyter.widget-view+json": {
       "model_id": "",
       "version_major": 2,
       "version_minor": 0
      },
      "text/plain": [
       "Validating: 0it [00:00, ?it/s]"
      ]
     },
     "metadata": {},
     "output_type": "display_data"
    },
    {
     "data": {
      "application/vnd.jupyter.widget-view+json": {
       "model_id": "",
       "version_major": 2,
       "version_minor": 0
      },
      "text/plain": [
       "Validating: 0it [00:00, ?it/s]"
      ]
     },
     "metadata": {},
     "output_type": "display_data"
    },
    {
     "data": {
      "application/vnd.jupyter.widget-view+json": {
       "model_id": "",
       "version_major": 2,
       "version_minor": 0
      },
      "text/plain": [
       "Validating: 0it [00:00, ?it/s]"
      ]
     },
     "metadata": {},
     "output_type": "display_data"
    },
    {
     "data": {
      "application/vnd.jupyter.widget-view+json": {
       "model_id": "",
       "version_major": 2,
       "version_minor": 0
      },
      "text/plain": [
       "Validating: 0it [00:00, ?it/s]"
      ]
     },
     "metadata": {},
     "output_type": "display_data"
    },
    {
     "data": {
      "application/vnd.jupyter.widget-view+json": {
       "model_id": "",
       "version_major": 2,
       "version_minor": 0
      },
      "text/plain": [
       "Validating: 0it [00:00, ?it/s]"
      ]
     },
     "metadata": {},
     "output_type": "display_data"
    },
    {
     "data": {
      "application/vnd.jupyter.widget-view+json": {
       "model_id": "",
       "version_major": 2,
       "version_minor": 0
      },
      "text/plain": [
       "Validating: 0it [00:00, ?it/s]"
      ]
     },
     "metadata": {},
     "output_type": "display_data"
    },
    {
     "data": {
      "application/vnd.jupyter.widget-view+json": {
       "model_id": "",
       "version_major": 2,
       "version_minor": 0
      },
      "text/plain": [
       "Validating: 0it [00:00, ?it/s]"
      ]
     },
     "metadata": {},
     "output_type": "display_data"
    },
    {
     "data": {
      "application/vnd.jupyter.widget-view+json": {
       "model_id": "",
       "version_major": 2,
       "version_minor": 0
      },
      "text/plain": [
       "Validating: 0it [00:00, ?it/s]"
      ]
     },
     "metadata": {},
     "output_type": "display_data"
    },
    {
     "data": {
      "application/vnd.jupyter.widget-view+json": {
       "model_id": "",
       "version_major": 2,
       "version_minor": 0
      },
      "text/plain": [
       "Validating: 0it [00:00, ?it/s]"
      ]
     },
     "metadata": {},
     "output_type": "display_data"
    },
    {
     "data": {
      "application/vnd.jupyter.widget-view+json": {
       "model_id": "",
       "version_major": 2,
       "version_minor": 0
      },
      "text/plain": [
       "Validating: 0it [00:00, ?it/s]"
      ]
     },
     "metadata": {},
     "output_type": "display_data"
    },
    {
     "data": {
      "application/vnd.jupyter.widget-view+json": {
       "model_id": "",
       "version_major": 2,
       "version_minor": 0
      },
      "text/plain": [
       "Validating: 0it [00:00, ?it/s]"
      ]
     },
     "metadata": {},
     "output_type": "display_data"
    },
    {
     "data": {
      "application/vnd.jupyter.widget-view+json": {
       "model_id": "",
       "version_major": 2,
       "version_minor": 0
      },
      "text/plain": [
       "Validating: 0it [00:00, ?it/s]"
      ]
     },
     "metadata": {},
     "output_type": "display_data"
    },
    {
     "data": {
      "application/vnd.jupyter.widget-view+json": {
       "model_id": "",
       "version_major": 2,
       "version_minor": 0
      },
      "text/plain": [
       "Validating: 0it [00:00, ?it/s]"
      ]
     },
     "metadata": {},
     "output_type": "display_data"
    },
    {
     "data": {
      "application/vnd.jupyter.widget-view+json": {
       "model_id": "",
       "version_major": 2,
       "version_minor": 0
      },
      "text/plain": [
       "Validating: 0it [00:00, ?it/s]"
      ]
     },
     "metadata": {},
     "output_type": "display_data"
    },
    {
     "data": {
      "application/vnd.jupyter.widget-view+json": {
       "model_id": "",
       "version_major": 2,
       "version_minor": 0
      },
      "text/plain": [
       "Validating: 0it [00:00, ?it/s]"
      ]
     },
     "metadata": {},
     "output_type": "display_data"
    },
    {
     "data": {
      "application/vnd.jupyter.widget-view+json": {
       "model_id": "",
       "version_major": 2,
       "version_minor": 0
      },
      "text/plain": [
       "Validating: 0it [00:00, ?it/s]"
      ]
     },
     "metadata": {},
     "output_type": "display_data"
    },
    {
     "data": {
      "application/vnd.jupyter.widget-view+json": {
       "model_id": "",
       "version_major": 2,
       "version_minor": 0
      },
      "text/plain": [
       "Validating: 0it [00:00, ?it/s]"
      ]
     },
     "metadata": {},
     "output_type": "display_data"
    },
    {
     "data": {
      "application/vnd.jupyter.widget-view+json": {
       "model_id": "",
       "version_major": 2,
       "version_minor": 0
      },
      "text/plain": [
       "Validating: 0it [00:00, ?it/s]"
      ]
     },
     "metadata": {},
     "output_type": "display_data"
    },
    {
     "data": {
      "application/vnd.jupyter.widget-view+json": {
       "model_id": "",
       "version_major": 2,
       "version_minor": 0
      },
      "text/plain": [
       "Validating: 0it [00:00, ?it/s]"
      ]
     },
     "metadata": {},
     "output_type": "display_data"
    },
    {
     "data": {
      "application/vnd.jupyter.widget-view+json": {
       "model_id": "",
       "version_major": 2,
       "version_minor": 0
      },
      "text/plain": [
       "Validating: 0it [00:00, ?it/s]"
      ]
     },
     "metadata": {},
     "output_type": "display_data"
    },
    {
     "data": {
      "application/vnd.jupyter.widget-view+json": {
       "model_id": "",
       "version_major": 2,
       "version_minor": 0
      },
      "text/plain": [
       "Validating: 0it [00:00, ?it/s]"
      ]
     },
     "metadata": {},
     "output_type": "display_data"
    },
    {
     "data": {
      "application/vnd.jupyter.widget-view+json": {
       "model_id": "",
       "version_major": 2,
       "version_minor": 0
      },
      "text/plain": [
       "Validating: 0it [00:00, ?it/s]"
      ]
     },
     "metadata": {},
     "output_type": "display_data"
    },
    {
     "data": {
      "application/vnd.jupyter.widget-view+json": {
       "model_id": "",
       "version_major": 2,
       "version_minor": 0
      },
      "text/plain": [
       "Validating: 0it [00:00, ?it/s]"
      ]
     },
     "metadata": {},
     "output_type": "display_data"
    },
    {
     "data": {
      "application/vnd.jupyter.widget-view+json": {
       "model_id": "",
       "version_major": 2,
       "version_minor": 0
      },
      "text/plain": [
       "Validating: 0it [00:00, ?it/s]"
      ]
     },
     "metadata": {},
     "output_type": "display_data"
    },
    {
     "data": {
      "application/vnd.jupyter.widget-view+json": {
       "model_id": "",
       "version_major": 2,
       "version_minor": 0
      },
      "text/plain": [
       "Validating: 0it [00:00, ?it/s]"
      ]
     },
     "metadata": {},
     "output_type": "display_data"
    },
    {
     "data": {
      "application/vnd.jupyter.widget-view+json": {
       "model_id": "",
       "version_major": 2,
       "version_minor": 0
      },
      "text/plain": [
       "Validating: 0it [00:00, ?it/s]"
      ]
     },
     "metadata": {},
     "output_type": "display_data"
    },
    {
     "data": {
      "application/vnd.jupyter.widget-view+json": {
       "model_id": "",
       "version_major": 2,
       "version_minor": 0
      },
      "text/plain": [
       "Validating: 0it [00:00, ?it/s]"
      ]
     },
     "metadata": {},
     "output_type": "display_data"
    },
    {
     "data": {
      "application/vnd.jupyter.widget-view+json": {
       "model_id": "",
       "version_major": 2,
       "version_minor": 0
      },
      "text/plain": [
       "Validating: 0it [00:00, ?it/s]"
      ]
     },
     "metadata": {},
     "output_type": "display_data"
    },
    {
     "data": {
      "application/vnd.jupyter.widget-view+json": {
       "model_id": "",
       "version_major": 2,
       "version_minor": 0
      },
      "text/plain": [
       "Validating: 0it [00:00, ?it/s]"
      ]
     },
     "metadata": {},
     "output_type": "display_data"
    },
    {
     "data": {
      "application/vnd.jupyter.widget-view+json": {
       "model_id": "",
       "version_major": 2,
       "version_minor": 0
      },
      "text/plain": [
       "Validating: 0it [00:00, ?it/s]"
      ]
     },
     "metadata": {},
     "output_type": "display_data"
    },
    {
     "data": {
      "application/vnd.jupyter.widget-view+json": {
       "model_id": "",
       "version_major": 2,
       "version_minor": 0
      },
      "text/plain": [
       "Validating: 0it [00:00, ?it/s]"
      ]
     },
     "metadata": {},
     "output_type": "display_data"
    },
    {
     "data": {
      "application/vnd.jupyter.widget-view+json": {
       "model_id": "",
       "version_major": 2,
       "version_minor": 0
      },
      "text/plain": [
       "Validating: 0it [00:00, ?it/s]"
      ]
     },
     "metadata": {},
     "output_type": "display_data"
    },
    {
     "data": {
      "application/vnd.jupyter.widget-view+json": {
       "model_id": "",
       "version_major": 2,
       "version_minor": 0
      },
      "text/plain": [
       "Validating: 0it [00:00, ?it/s]"
      ]
     },
     "metadata": {},
     "output_type": "display_data"
    },
    {
     "data": {
      "application/vnd.jupyter.widget-view+json": {
       "model_id": "",
       "version_major": 2,
       "version_minor": 0
      },
      "text/plain": [
       "Validating: 0it [00:00, ?it/s]"
      ]
     },
     "metadata": {},
     "output_type": "display_data"
    },
    {
     "data": {
      "application/vnd.jupyter.widget-view+json": {
       "model_id": "",
       "version_major": 2,
       "version_minor": 0
      },
      "text/plain": [
       "Validating: 0it [00:00, ?it/s]"
      ]
     },
     "metadata": {},
     "output_type": "display_data"
    },
    {
     "data": {
      "application/vnd.jupyter.widget-view+json": {
       "model_id": "",
       "version_major": 2,
       "version_minor": 0
      },
      "text/plain": [
       "Validating: 0it [00:00, ?it/s]"
      ]
     },
     "metadata": {},
     "output_type": "display_data"
    },
    {
     "data": {
      "application/vnd.jupyter.widget-view+json": {
       "model_id": "",
       "version_major": 2,
       "version_minor": 0
      },
      "text/plain": [
       "Validating: 0it [00:00, ?it/s]"
      ]
     },
     "metadata": {},
     "output_type": "display_data"
    },
    {
     "data": {
      "application/vnd.jupyter.widget-view+json": {
       "model_id": "",
       "version_major": 2,
       "version_minor": 0
      },
      "text/plain": [
       "Validating: 0it [00:00, ?it/s]"
      ]
     },
     "metadata": {},
     "output_type": "display_data"
    },
    {
     "data": {
      "application/vnd.jupyter.widget-view+json": {
       "model_id": "",
       "version_major": 2,
       "version_minor": 0
      },
      "text/plain": [
       "Validating: 0it [00:00, ?it/s]"
      ]
     },
     "metadata": {},
     "output_type": "display_data"
    },
    {
     "data": {
      "application/vnd.jupyter.widget-view+json": {
       "model_id": "",
       "version_major": 2,
       "version_minor": 0
      },
      "text/plain": [
       "Validating: 0it [00:00, ?it/s]"
      ]
     },
     "metadata": {},
     "output_type": "display_data"
    },
    {
     "data": {
      "application/vnd.jupyter.widget-view+json": {
       "model_id": "",
       "version_major": 2,
       "version_minor": 0
      },
      "text/plain": [
       "Validating: 0it [00:00, ?it/s]"
      ]
     },
     "metadata": {},
     "output_type": "display_data"
    },
    {
     "data": {
      "application/vnd.jupyter.widget-view+json": {
       "model_id": "",
       "version_major": 2,
       "version_minor": 0
      },
      "text/plain": [
       "Validating: 0it [00:00, ?it/s]"
      ]
     },
     "metadata": {},
     "output_type": "display_data"
    },
    {
     "name": "stderr",
     "output_type": "stream",
     "text": [
      "IOPub message rate exceeded.\n",
      "The notebook server will temporarily stop sending output\n",
      "to the client in order to avoid crashing it.\n",
      "To change this limit, set the config variable\n",
      "`--NotebookApp.iopub_msg_rate_limit`.\n",
      "\n",
      "Current values:\n",
      "NotebookApp.iopub_msg_rate_limit=1000.0 (msgs/sec)\n",
      "NotebookApp.rate_limit_window=3.0 (secs)\n",
      "\n"
     ]
    },
    {
     "data": {
      "application/vnd.jupyter.widget-view+json": {
       "model_id": "",
       "version_major": 2,
       "version_minor": 0
      },
      "text/plain": [
       "Validating: 0it [00:00, ?it/s]"
      ]
     },
     "metadata": {},
     "output_type": "display_data"
    },
    {
     "data": {
      "application/vnd.jupyter.widget-view+json": {
       "model_id": "",
       "version_major": 2,
       "version_minor": 0
      },
      "text/plain": [
       "Validating: 0it [00:00, ?it/s]"
      ]
     },
     "metadata": {},
     "output_type": "display_data"
    },
    {
     "data": {
      "application/vnd.jupyter.widget-view+json": {
       "model_id": "",
       "version_major": 2,
       "version_minor": 0
      },
      "text/plain": [
       "Validating: 0it [00:00, ?it/s]"
      ]
     },
     "metadata": {},
     "output_type": "display_data"
    },
    {
     "data": {
      "application/vnd.jupyter.widget-view+json": {
       "model_id": "",
       "version_major": 2,
       "version_minor": 0
      },
      "text/plain": [
       "Validating: 0it [00:00, ?it/s]"
      ]
     },
     "metadata": {},
     "output_type": "display_data"
    },
    {
     "data": {
      "application/vnd.jupyter.widget-view+json": {
       "model_id": "",
       "version_major": 2,
       "version_minor": 0
      },
      "text/plain": [
       "Validating: 0it [00:00, ?it/s]"
      ]
     },
     "metadata": {},
     "output_type": "display_data"
    },
    {
     "data": {
      "application/vnd.jupyter.widget-view+json": {
       "model_id": "",
       "version_major": 2,
       "version_minor": 0
      },
      "text/plain": [
       "Validating: 0it [00:00, ?it/s]"
      ]
     },
     "metadata": {},
     "output_type": "display_data"
    },
    {
     "data": {
      "application/vnd.jupyter.widget-view+json": {
       "model_id": "",
       "version_major": 2,
       "version_minor": 0
      },
      "text/plain": [
       "Validating: 0it [00:00, ?it/s]"
      ]
     },
     "metadata": {},
     "output_type": "display_data"
    },
    {
     "data": {
      "application/vnd.jupyter.widget-view+json": {
       "model_id": "",
       "version_major": 2,
       "version_minor": 0
      },
      "text/plain": [
       "Validating: 0it [00:00, ?it/s]"
      ]
     },
     "metadata": {},
     "output_type": "display_data"
    },
    {
     "data": {
      "application/vnd.jupyter.widget-view+json": {
       "model_id": "",
       "version_major": 2,
       "version_minor": 0
      },
      "text/plain": [
       "Validating: 0it [00:00, ?it/s]"
      ]
     },
     "metadata": {},
     "output_type": "display_data"
    },
    {
     "data": {
      "application/vnd.jupyter.widget-view+json": {
       "model_id": "",
       "version_major": 2,
       "version_minor": 0
      },
      "text/plain": [
       "Validating: 0it [00:00, ?it/s]"
      ]
     },
     "metadata": {},
     "output_type": "display_data"
    },
    {
     "data": {
      "application/vnd.jupyter.widget-view+json": {
       "model_id": "",
       "version_major": 2,
       "version_minor": 0
      },
      "text/plain": [
       "Validating: 0it [00:00, ?it/s]"
      ]
     },
     "metadata": {},
     "output_type": "display_data"
    },
    {
     "data": {
      "application/vnd.jupyter.widget-view+json": {
       "model_id": "",
       "version_major": 2,
       "version_minor": 0
      },
      "text/plain": [
       "Validating: 0it [00:00, ?it/s]"
      ]
     },
     "metadata": {},
     "output_type": "display_data"
    },
    {
     "data": {
      "application/vnd.jupyter.widget-view+json": {
       "model_id": "",
       "version_major": 2,
       "version_minor": 0
      },
      "text/plain": [
       "Validating: 0it [00:00, ?it/s]"
      ]
     },
     "metadata": {},
     "output_type": "display_data"
    },
    {
     "data": {
      "application/vnd.jupyter.widget-view+json": {
       "model_id": "",
       "version_major": 2,
       "version_minor": 0
      },
      "text/plain": [
       "Validating: 0it [00:00, ?it/s]"
      ]
     },
     "metadata": {},
     "output_type": "display_data"
    },
    {
     "data": {
      "application/vnd.jupyter.widget-view+json": {
       "model_id": "",
       "version_major": 2,
       "version_minor": 0
      },
      "text/plain": [
       "Validating: 0it [00:00, ?it/s]"
      ]
     },
     "metadata": {},
     "output_type": "display_data"
    },
    {
     "data": {
      "application/vnd.jupyter.widget-view+json": {
       "model_id": "",
       "version_major": 2,
       "version_minor": 0
      },
      "text/plain": [
       "Validating: 0it [00:00, ?it/s]"
      ]
     },
     "metadata": {},
     "output_type": "display_data"
    },
    {
     "data": {
      "application/vnd.jupyter.widget-view+json": {
       "model_id": "",
       "version_major": 2,
       "version_minor": 0
      },
      "text/plain": [
       "Validating: 0it [00:00, ?it/s]"
      ]
     },
     "metadata": {},
     "output_type": "display_data"
    },
    {
     "data": {
      "application/vnd.jupyter.widget-view+json": {
       "model_id": "",
       "version_major": 2,
       "version_minor": 0
      },
      "text/plain": [
       "Validating: 0it [00:00, ?it/s]"
      ]
     },
     "metadata": {},
     "output_type": "display_data"
    },
    {
     "data": {
      "application/vnd.jupyter.widget-view+json": {
       "model_id": "",
       "version_major": 2,
       "version_minor": 0
      },
      "text/plain": [
       "Validating: 0it [00:00, ?it/s]"
      ]
     },
     "metadata": {},
     "output_type": "display_data"
    },
    {
     "data": {
      "application/vnd.jupyter.widget-view+json": {
       "model_id": "",
       "version_major": 2,
       "version_minor": 0
      },
      "text/plain": [
       "Validating: 0it [00:00, ?it/s]"
      ]
     },
     "metadata": {},
     "output_type": "display_data"
    },
    {
     "data": {
      "application/vnd.jupyter.widget-view+json": {
       "model_id": "",
       "version_major": 2,
       "version_minor": 0
      },
      "text/plain": [
       "Validating: 0it [00:00, ?it/s]"
      ]
     },
     "metadata": {},
     "output_type": "display_data"
    },
    {
     "data": {
      "application/vnd.jupyter.widget-view+json": {
       "model_id": "",
       "version_major": 2,
       "version_minor": 0
      },
      "text/plain": [
       "Validating: 0it [00:00, ?it/s]"
      ]
     },
     "metadata": {},
     "output_type": "display_data"
    },
    {
     "data": {
      "application/vnd.jupyter.widget-view+json": {
       "model_id": "",
       "version_major": 2,
       "version_minor": 0
      },
      "text/plain": [
       "Validating: 0it [00:00, ?it/s]"
      ]
     },
     "metadata": {},
     "output_type": "display_data"
    },
    {
     "data": {
      "application/vnd.jupyter.widget-view+json": {
       "model_id": "",
       "version_major": 2,
       "version_minor": 0
      },
      "text/plain": [
       "Validating: 0it [00:00, ?it/s]"
      ]
     },
     "metadata": {},
     "output_type": "display_data"
    },
    {
     "data": {
      "application/vnd.jupyter.widget-view+json": {
       "model_id": "",
       "version_major": 2,
       "version_minor": 0
      },
      "text/plain": [
       "Validating: 0it [00:00, ?it/s]"
      ]
     },
     "metadata": {},
     "output_type": "display_data"
    },
    {
     "data": {
      "application/vnd.jupyter.widget-view+json": {
       "model_id": "",
       "version_major": 2,
       "version_minor": 0
      },
      "text/plain": [
       "Validating: 0it [00:00, ?it/s]"
      ]
     },
     "metadata": {},
     "output_type": "display_data"
    },
    {
     "data": {
      "application/vnd.jupyter.widget-view+json": {
       "model_id": "",
       "version_major": 2,
       "version_minor": 0
      },
      "text/plain": [
       "Validating: 0it [00:00, ?it/s]"
      ]
     },
     "metadata": {},
     "output_type": "display_data"
    },
    {
     "data": {
      "application/vnd.jupyter.widget-view+json": {
       "model_id": "",
       "version_major": 2,
       "version_minor": 0
      },
      "text/plain": [
       "Validating: 0it [00:00, ?it/s]"
      ]
     },
     "metadata": {},
     "output_type": "display_data"
    },
    {
     "data": {
      "application/vnd.jupyter.widget-view+json": {
       "model_id": "",
       "version_major": 2,
       "version_minor": 0
      },
      "text/plain": [
       "Validating: 0it [00:00, ?it/s]"
      ]
     },
     "metadata": {},
     "output_type": "display_data"
    },
    {
     "data": {
      "application/vnd.jupyter.widget-view+json": {
       "model_id": "",
       "version_major": 2,
       "version_minor": 0
      },
      "text/plain": [
       "Validating: 0it [00:00, ?it/s]"
      ]
     },
     "metadata": {},
     "output_type": "display_data"
    },
    {
     "data": {
      "application/vnd.jupyter.widget-view+json": {
       "model_id": "",
       "version_major": 2,
       "version_minor": 0
      },
      "text/plain": [
       "Validating: 0it [00:00, ?it/s]"
      ]
     },
     "metadata": {},
     "output_type": "display_data"
    },
    {
     "data": {
      "application/vnd.jupyter.widget-view+json": {
       "model_id": "",
       "version_major": 2,
       "version_minor": 0
      },
      "text/plain": [
       "Validating: 0it [00:00, ?it/s]"
      ]
     },
     "metadata": {},
     "output_type": "display_data"
    },
    {
     "data": {
      "application/vnd.jupyter.widget-view+json": {
       "model_id": "",
       "version_major": 2,
       "version_minor": 0
      },
      "text/plain": [
       "Validating: 0it [00:00, ?it/s]"
      ]
     },
     "metadata": {},
     "output_type": "display_data"
    },
    {
     "data": {
      "application/vnd.jupyter.widget-view+json": {
       "model_id": "",
       "version_major": 2,
       "version_minor": 0
      },
      "text/plain": [
       "Validating: 0it [00:00, ?it/s]"
      ]
     },
     "metadata": {},
     "output_type": "display_data"
    },
    {
     "data": {
      "application/vnd.jupyter.widget-view+json": {
       "model_id": "",
       "version_major": 2,
       "version_minor": 0
      },
      "text/plain": [
       "Validating: 0it [00:00, ?it/s]"
      ]
     },
     "metadata": {},
     "output_type": "display_data"
    },
    {
     "data": {
      "application/vnd.jupyter.widget-view+json": {
       "model_id": "",
       "version_major": 2,
       "version_minor": 0
      },
      "text/plain": [
       "Validating: 0it [00:00, ?it/s]"
      ]
     },
     "metadata": {},
     "output_type": "display_data"
    },
    {
     "data": {
      "application/vnd.jupyter.widget-view+json": {
       "model_id": "",
       "version_major": 2,
       "version_minor": 0
      },
      "text/plain": [
       "Validating: 0it [00:00, ?it/s]"
      ]
     },
     "metadata": {},
     "output_type": "display_data"
    },
    {
     "data": {
      "application/vnd.jupyter.widget-view+json": {
       "model_id": "",
       "version_major": 2,
       "version_minor": 0
      },
      "text/plain": [
       "Validating: 0it [00:00, ?it/s]"
      ]
     },
     "metadata": {},
     "output_type": "display_data"
    },
    {
     "data": {
      "application/vnd.jupyter.widget-view+json": {
       "model_id": "",
       "version_major": 2,
       "version_minor": 0
      },
      "text/plain": [
       "Validating: 0it [00:00, ?it/s]"
      ]
     },
     "metadata": {},
     "output_type": "display_data"
    },
    {
     "data": {
      "application/vnd.jupyter.widget-view+json": {
       "model_id": "",
       "version_major": 2,
       "version_minor": 0
      },
      "text/plain": [
       "Validating: 0it [00:00, ?it/s]"
      ]
     },
     "metadata": {},
     "output_type": "display_data"
    },
    {
     "data": {
      "application/vnd.jupyter.widget-view+json": {
       "model_id": "",
       "version_major": 2,
       "version_minor": 0
      },
      "text/plain": [
       "Validating: 0it [00:00, ?it/s]"
      ]
     },
     "metadata": {},
     "output_type": "display_data"
    },
    {
     "data": {
      "application/vnd.jupyter.widget-view+json": {
       "model_id": "",
       "version_major": 2,
       "version_minor": 0
      },
      "text/plain": [
       "Validating: 0it [00:00, ?it/s]"
      ]
     },
     "metadata": {},
     "output_type": "display_data"
    },
    {
     "data": {
      "application/vnd.jupyter.widget-view+json": {
       "model_id": "",
       "version_major": 2,
       "version_minor": 0
      },
      "text/plain": [
       "Validating: 0it [00:00, ?it/s]"
      ]
     },
     "metadata": {},
     "output_type": "display_data"
    },
    {
     "data": {
      "application/vnd.jupyter.widget-view+json": {
       "model_id": "",
       "version_major": 2,
       "version_minor": 0
      },
      "text/plain": [
       "Validating: 0it [00:00, ?it/s]"
      ]
     },
     "metadata": {},
     "output_type": "display_data"
    },
    {
     "data": {
      "application/vnd.jupyter.widget-view+json": {
       "model_id": "",
       "version_major": 2,
       "version_minor": 0
      },
      "text/plain": [
       "Validating: 0it [00:00, ?it/s]"
      ]
     },
     "metadata": {},
     "output_type": "display_data"
    },
    {
     "data": {
      "application/vnd.jupyter.widget-view+json": {
       "model_id": "",
       "version_major": 2,
       "version_minor": 0
      },
      "text/plain": [
       "Validating: 0it [00:00, ?it/s]"
      ]
     },
     "metadata": {},
     "output_type": "display_data"
    },
    {
     "data": {
      "application/vnd.jupyter.widget-view+json": {
       "model_id": "",
       "version_major": 2,
       "version_minor": 0
      },
      "text/plain": [
       "Validating: 0it [00:00, ?it/s]"
      ]
     },
     "metadata": {},
     "output_type": "display_data"
    },
    {
     "data": {
      "application/vnd.jupyter.widget-view+json": {
       "model_id": "",
       "version_major": 2,
       "version_minor": 0
      },
      "text/plain": [
       "Validating: 0it [00:00, ?it/s]"
      ]
     },
     "metadata": {},
     "output_type": "display_data"
    },
    {
     "data": {
      "application/vnd.jupyter.widget-view+json": {
       "model_id": "",
       "version_major": 2,
       "version_minor": 0
      },
      "text/plain": [
       "Validating: 0it [00:00, ?it/s]"
      ]
     },
     "metadata": {},
     "output_type": "display_data"
    },
    {
     "data": {
      "application/vnd.jupyter.widget-view+json": {
       "model_id": "",
       "version_major": 2,
       "version_minor": 0
      },
      "text/plain": [
       "Validating: 0it [00:00, ?it/s]"
      ]
     },
     "metadata": {},
     "output_type": "display_data"
    },
    {
     "data": {
      "application/vnd.jupyter.widget-view+json": {
       "model_id": "",
       "version_major": 2,
       "version_minor": 0
      },
      "text/plain": [
       "Validating: 0it [00:00, ?it/s]"
      ]
     },
     "metadata": {},
     "output_type": "display_data"
    },
    {
     "data": {
      "application/vnd.jupyter.widget-view+json": {
       "model_id": "",
       "version_major": 2,
       "version_minor": 0
      },
      "text/plain": [
       "Validating: 0it [00:00, ?it/s]"
      ]
     },
     "metadata": {},
     "output_type": "display_data"
    },
    {
     "data": {
      "application/vnd.jupyter.widget-view+json": {
       "model_id": "",
       "version_major": 2,
       "version_minor": 0
      },
      "text/plain": [
       "Validating: 0it [00:00, ?it/s]"
      ]
     },
     "metadata": {},
     "output_type": "display_data"
    },
    {
     "data": {
      "application/vnd.jupyter.widget-view+json": {
       "model_id": "",
       "version_major": 2,
       "version_minor": 0
      },
      "text/plain": [
       "Validating: 0it [00:00, ?it/s]"
      ]
     },
     "metadata": {},
     "output_type": "display_data"
    },
    {
     "data": {
      "application/vnd.jupyter.widget-view+json": {
       "model_id": "",
       "version_major": 2,
       "version_minor": 0
      },
      "text/plain": [
       "Validating: 0it [00:00, ?it/s]"
      ]
     },
     "metadata": {},
     "output_type": "display_data"
    },
    {
     "data": {
      "application/vnd.jupyter.widget-view+json": {
       "model_id": "",
       "version_major": 2,
       "version_minor": 0
      },
      "text/plain": [
       "Validating: 0it [00:00, ?it/s]"
      ]
     },
     "metadata": {},
     "output_type": "display_data"
    },
    {
     "data": {
      "application/vnd.jupyter.widget-view+json": {
       "model_id": "",
       "version_major": 2,
       "version_minor": 0
      },
      "text/plain": [
       "Validating: 0it [00:00, ?it/s]"
      ]
     },
     "metadata": {},
     "output_type": "display_data"
    },
    {
     "data": {
      "application/vnd.jupyter.widget-view+json": {
       "model_id": "",
       "version_major": 2,
       "version_minor": 0
      },
      "text/plain": [
       "Validating: 0it [00:00, ?it/s]"
      ]
     },
     "metadata": {},
     "output_type": "display_data"
    },
    {
     "data": {
      "application/vnd.jupyter.widget-view+json": {
       "model_id": "",
       "version_major": 2,
       "version_minor": 0
      },
      "text/plain": [
       "Validating: 0it [00:00, ?it/s]"
      ]
     },
     "metadata": {},
     "output_type": "display_data"
    },
    {
     "data": {
      "application/vnd.jupyter.widget-view+json": {
       "model_id": "",
       "version_major": 2,
       "version_minor": 0
      },
      "text/plain": [
       "Validating: 0it [00:00, ?it/s]"
      ]
     },
     "metadata": {},
     "output_type": "display_data"
    },
    {
     "data": {
      "application/vnd.jupyter.widget-view+json": {
       "model_id": "",
       "version_major": 2,
       "version_minor": 0
      },
      "text/plain": [
       "Validating: 0it [00:00, ?it/s]"
      ]
     },
     "metadata": {},
     "output_type": "display_data"
    },
    {
     "data": {
      "application/vnd.jupyter.widget-view+json": {
       "model_id": "",
       "version_major": 2,
       "version_minor": 0
      },
      "text/plain": [
       "Validating: 0it [00:00, ?it/s]"
      ]
     },
     "metadata": {},
     "output_type": "display_data"
    },
    {
     "data": {
      "application/vnd.jupyter.widget-view+json": {
       "model_id": "",
       "version_major": 2,
       "version_minor": 0
      },
      "text/plain": [
       "Validating: 0it [00:00, ?it/s]"
      ]
     },
     "metadata": {},
     "output_type": "display_data"
    },
    {
     "data": {
      "application/vnd.jupyter.widget-view+json": {
       "model_id": "",
       "version_major": 2,
       "version_minor": 0
      },
      "text/plain": [
       "Validating: 0it [00:00, ?it/s]"
      ]
     },
     "metadata": {},
     "output_type": "display_data"
    },
    {
     "data": {
      "application/vnd.jupyter.widget-view+json": {
       "model_id": "",
       "version_major": 2,
       "version_minor": 0
      },
      "text/plain": [
       "Validating: 0it [00:00, ?it/s]"
      ]
     },
     "metadata": {},
     "output_type": "display_data"
    },
    {
     "data": {
      "application/vnd.jupyter.widget-view+json": {
       "model_id": "",
       "version_major": 2,
       "version_minor": 0
      },
      "text/plain": [
       "Validating: 0it [00:00, ?it/s]"
      ]
     },
     "metadata": {},
     "output_type": "display_data"
    },
    {
     "data": {
      "application/vnd.jupyter.widget-view+json": {
       "model_id": "",
       "version_major": 2,
       "version_minor": 0
      },
      "text/plain": [
       "Validating: 0it [00:00, ?it/s]"
      ]
     },
     "metadata": {},
     "output_type": "display_data"
    },
    {
     "data": {
      "application/vnd.jupyter.widget-view+json": {
       "model_id": "",
       "version_major": 2,
       "version_minor": 0
      },
      "text/plain": [
       "Validating: 0it [00:00, ?it/s]"
      ]
     },
     "metadata": {},
     "output_type": "display_data"
    },
    {
     "data": {
      "application/vnd.jupyter.widget-view+json": {
       "model_id": "",
       "version_major": 2,
       "version_minor": 0
      },
      "text/plain": [
       "Validating: 0it [00:00, ?it/s]"
      ]
     },
     "metadata": {},
     "output_type": "display_data"
    },
    {
     "data": {
      "application/vnd.jupyter.widget-view+json": {
       "model_id": "",
       "version_major": 2,
       "version_minor": 0
      },
      "text/plain": [
       "Validating: 0it [00:00, ?it/s]"
      ]
     },
     "metadata": {},
     "output_type": "display_data"
    },
    {
     "data": {
      "application/vnd.jupyter.widget-view+json": {
       "model_id": "",
       "version_major": 2,
       "version_minor": 0
      },
      "text/plain": [
       "Validating: 0it [00:00, ?it/s]"
      ]
     },
     "metadata": {},
     "output_type": "display_data"
    },
    {
     "data": {
      "application/vnd.jupyter.widget-view+json": {
       "model_id": "",
       "version_major": 2,
       "version_minor": 0
      },
      "text/plain": [
       "Validating: 0it [00:00, ?it/s]"
      ]
     },
     "metadata": {},
     "output_type": "display_data"
    },
    {
     "data": {
      "application/vnd.jupyter.widget-view+json": {
       "model_id": "",
       "version_major": 2,
       "version_minor": 0
      },
      "text/plain": [
       "Validating: 0it [00:00, ?it/s]"
      ]
     },
     "metadata": {},
     "output_type": "display_data"
    },
    {
     "data": {
      "application/vnd.jupyter.widget-view+json": {
       "model_id": "",
       "version_major": 2,
       "version_minor": 0
      },
      "text/plain": [
       "Validating: 0it [00:00, ?it/s]"
      ]
     },
     "metadata": {},
     "output_type": "display_data"
    },
    {
     "data": {
      "application/vnd.jupyter.widget-view+json": {
       "model_id": "",
       "version_major": 2,
       "version_minor": 0
      },
      "text/plain": [
       "Validating: 0it [00:00, ?it/s]"
      ]
     },
     "metadata": {},
     "output_type": "display_data"
    },
    {
     "data": {
      "application/vnd.jupyter.widget-view+json": {
       "model_id": "",
       "version_major": 2,
       "version_minor": 0
      },
      "text/plain": [
       "Validating: 0it [00:00, ?it/s]"
      ]
     },
     "metadata": {},
     "output_type": "display_data"
    },
    {
     "data": {
      "application/vnd.jupyter.widget-view+json": {
       "model_id": "",
       "version_major": 2,
       "version_minor": 0
      },
      "text/plain": [
       "Validating: 0it [00:00, ?it/s]"
      ]
     },
     "metadata": {},
     "output_type": "display_data"
    },
    {
     "data": {
      "application/vnd.jupyter.widget-view+json": {
       "model_id": "",
       "version_major": 2,
       "version_minor": 0
      },
      "text/plain": [
       "Validating: 0it [00:00, ?it/s]"
      ]
     },
     "metadata": {},
     "output_type": "display_data"
    },
    {
     "data": {
      "application/vnd.jupyter.widget-view+json": {
       "model_id": "",
       "version_major": 2,
       "version_minor": 0
      },
      "text/plain": [
       "Validating: 0it [00:00, ?it/s]"
      ]
     },
     "metadata": {},
     "output_type": "display_data"
    },
    {
     "data": {
      "application/vnd.jupyter.widget-view+json": {
       "model_id": "",
       "version_major": 2,
       "version_minor": 0
      },
      "text/plain": [
       "Validating: 0it [00:00, ?it/s]"
      ]
     },
     "metadata": {},
     "output_type": "display_data"
    },
    {
     "data": {
      "application/vnd.jupyter.widget-view+json": {
       "model_id": "",
       "version_major": 2,
       "version_minor": 0
      },
      "text/plain": [
       "Validating: 0it [00:00, ?it/s]"
      ]
     },
     "metadata": {},
     "output_type": "display_data"
    },
    {
     "data": {
      "application/vnd.jupyter.widget-view+json": {
       "model_id": "",
       "version_major": 2,
       "version_minor": 0
      },
      "text/plain": [
       "Validating: 0it [00:00, ?it/s]"
      ]
     },
     "metadata": {},
     "output_type": "display_data"
    },
    {
     "data": {
      "application/vnd.jupyter.widget-view+json": {
       "model_id": "",
       "version_major": 2,
       "version_minor": 0
      },
      "text/plain": [
       "Validating: 0it [00:00, ?it/s]"
      ]
     },
     "metadata": {},
     "output_type": "display_data"
    },
    {
     "data": {
      "application/vnd.jupyter.widget-view+json": {
       "model_id": "",
       "version_major": 2,
       "version_minor": 0
      },
      "text/plain": [
       "Validating: 0it [00:00, ?it/s]"
      ]
     },
     "metadata": {},
     "output_type": "display_data"
    },
    {
     "data": {
      "application/vnd.jupyter.widget-view+json": {
       "model_id": "",
       "version_major": 2,
       "version_minor": 0
      },
      "text/plain": [
       "Validating: 0it [00:00, ?it/s]"
      ]
     },
     "metadata": {},
     "output_type": "display_data"
    },
    {
     "data": {
      "application/vnd.jupyter.widget-view+json": {
       "model_id": "",
       "version_major": 2,
       "version_minor": 0
      },
      "text/plain": [
       "Validating: 0it [00:00, ?it/s]"
      ]
     },
     "metadata": {},
     "output_type": "display_data"
    },
    {
     "data": {
      "application/vnd.jupyter.widget-view+json": {
       "model_id": "",
       "version_major": 2,
       "version_minor": 0
      },
      "text/plain": [
       "Validating: 0it [00:00, ?it/s]"
      ]
     },
     "metadata": {},
     "output_type": "display_data"
    },
    {
     "data": {
      "application/vnd.jupyter.widget-view+json": {
       "model_id": "",
       "version_major": 2,
       "version_minor": 0
      },
      "text/plain": [
       "Validating: 0it [00:00, ?it/s]"
      ]
     },
     "metadata": {},
     "output_type": "display_data"
    },
    {
     "data": {
      "application/vnd.jupyter.widget-view+json": {
       "model_id": "",
       "version_major": 2,
       "version_minor": 0
      },
      "text/plain": [
       "Validating: 0it [00:00, ?it/s]"
      ]
     },
     "metadata": {},
     "output_type": "display_data"
    },
    {
     "data": {
      "application/vnd.jupyter.widget-view+json": {
       "model_id": "",
       "version_major": 2,
       "version_minor": 0
      },
      "text/plain": [
       "Validating: 0it [00:00, ?it/s]"
      ]
     },
     "metadata": {},
     "output_type": "display_data"
    },
    {
     "data": {
      "application/vnd.jupyter.widget-view+json": {
       "model_id": "",
       "version_major": 2,
       "version_minor": 0
      },
      "text/plain": [
       "Validating: 0it [00:00, ?it/s]"
      ]
     },
     "metadata": {},
     "output_type": "display_data"
    },
    {
     "data": {
      "application/vnd.jupyter.widget-view+json": {
       "model_id": "",
       "version_major": 2,
       "version_minor": 0
      },
      "text/plain": [
       "Validating: 0it [00:00, ?it/s]"
      ]
     },
     "metadata": {},
     "output_type": "display_data"
    },
    {
     "data": {
      "application/vnd.jupyter.widget-view+json": {
       "model_id": "",
       "version_major": 2,
       "version_minor": 0
      },
      "text/plain": [
       "Validating: 0it [00:00, ?it/s]"
      ]
     },
     "metadata": {},
     "output_type": "display_data"
    },
    {
     "data": {
      "application/vnd.jupyter.widget-view+json": {
       "model_id": "",
       "version_major": 2,
       "version_minor": 0
      },
      "text/plain": [
       "Validating: 0it [00:00, ?it/s]"
      ]
     },
     "metadata": {},
     "output_type": "display_data"
    },
    {
     "data": {
      "application/vnd.jupyter.widget-view+json": {
       "model_id": "",
       "version_major": 2,
       "version_minor": 0
      },
      "text/plain": [
       "Validating: 0it [00:00, ?it/s]"
      ]
     },
     "metadata": {},
     "output_type": "display_data"
    },
    {
     "data": {
      "application/vnd.jupyter.widget-view+json": {
       "model_id": "",
       "version_major": 2,
       "version_minor": 0
      },
      "text/plain": [
       "Validating: 0it [00:00, ?it/s]"
      ]
     },
     "metadata": {},
     "output_type": "display_data"
    },
    {
     "data": {
      "application/vnd.jupyter.widget-view+json": {
       "model_id": "",
       "version_major": 2,
       "version_minor": 0
      },
      "text/plain": [
       "Validating: 0it [00:00, ?it/s]"
      ]
     },
     "metadata": {},
     "output_type": "display_data"
    },
    {
     "data": {
      "application/vnd.jupyter.widget-view+json": {
       "model_id": "",
       "version_major": 2,
       "version_minor": 0
      },
      "text/plain": [
       "Validating: 0it [00:00, ?it/s]"
      ]
     },
     "metadata": {},
     "output_type": "display_data"
    },
    {
     "name": "stderr",
     "output_type": "stream",
     "text": [
      "LOCAL_RANK: 0 - CUDA_VISIBLE_DEVICES: [0]\n"
     ]
    },
    {
     "ename": "AttributeError",
     "evalue": "'SensorsDataModule' object has no attribute 'y_test'",
     "output_type": "error",
     "traceback": [
      "\u001b[0;31m---------------------------------------------------------------------------\u001b[0m",
      "\u001b[0;31mAttributeError\u001b[0m                            Traceback (most recent call last)",
      "\u001b[0;32m<ipython-input-15-f339de823806>\u001b[0m in \u001b[0;36m<module>\u001b[0;34m\u001b[0m\n\u001b[1;32m     37\u001b[0m \u001b[0;34m\u001b[0m\u001b[0m\n\u001b[1;32m     38\u001b[0m \u001b[0mtrainer\u001b[0m\u001b[0;34m.\u001b[0m\u001b[0mfit\u001b[0m\u001b[0;34m(\u001b[0m\u001b[0mmodel\u001b[0m\u001b[0;34m,\u001b[0m \u001b[0mdm\u001b[0m\u001b[0;34m)\u001b[0m\u001b[0;34m\u001b[0m\u001b[0;34m\u001b[0m\u001b[0m\n\u001b[0;32m---> 39\u001b[0;31m \u001b[0mtrainer\u001b[0m\u001b[0;34m.\u001b[0m\u001b[0mtest\u001b[0m\u001b[0;34m(\u001b[0m\u001b[0mmodel\u001b[0m\u001b[0;34m,\u001b[0m \u001b[0mdatamodule\u001b[0m\u001b[0;34m=\u001b[0m\u001b[0mdm\u001b[0m\u001b[0;34m)\u001b[0m\u001b[0;34m\u001b[0m\u001b[0;34m\u001b[0m\u001b[0m\n\u001b[0m",
      "\u001b[0;32m~/anaconda3/envs/tum/lib/python3.6/site-packages/pytorch_lightning/trainer/trainer.py\u001b[0m in \u001b[0;36mtest\u001b[0;34m(self, model, dataloaders, ckpt_path, verbose, datamodule, test_dataloaders)\u001b[0m\n\u001b[1;32m    904\u001b[0m             )\n\u001b[1;32m    905\u001b[0m             \u001b[0mdataloaders\u001b[0m \u001b[0;34m=\u001b[0m \u001b[0mtest_dataloaders\u001b[0m\u001b[0;34m\u001b[0m\u001b[0;34m\u001b[0m\u001b[0m\n\u001b[0;32m--> 906\u001b[0;31m         \u001b[0;32mreturn\u001b[0m \u001b[0mself\u001b[0m\u001b[0;34m.\u001b[0m\u001b[0m_call_and_handle_interrupt\u001b[0m\u001b[0;34m(\u001b[0m\u001b[0mself\u001b[0m\u001b[0;34m.\u001b[0m\u001b[0m_test_impl\u001b[0m\u001b[0;34m,\u001b[0m \u001b[0mmodel\u001b[0m\u001b[0;34m,\u001b[0m \u001b[0mdataloaders\u001b[0m\u001b[0;34m,\u001b[0m \u001b[0mckpt_path\u001b[0m\u001b[0;34m,\u001b[0m \u001b[0mverbose\u001b[0m\u001b[0;34m,\u001b[0m \u001b[0mdatamodule\u001b[0m\u001b[0;34m)\u001b[0m\u001b[0;34m\u001b[0m\u001b[0;34m\u001b[0m\u001b[0m\n\u001b[0m\u001b[1;32m    907\u001b[0m \u001b[0;34m\u001b[0m\u001b[0m\n\u001b[1;32m    908\u001b[0m     def _test_impl(\n",
      "\u001b[0;32m~/anaconda3/envs/tum/lib/python3.6/site-packages/pytorch_lightning/trainer/trainer.py\u001b[0m in \u001b[0;36m_call_and_handle_interrupt\u001b[0;34m(self, trainer_fn, *args, **kwargs)\u001b[0m\n\u001b[1;32m    680\u001b[0m         \"\"\"\n\u001b[1;32m    681\u001b[0m         \u001b[0;32mtry\u001b[0m\u001b[0;34m:\u001b[0m\u001b[0;34m\u001b[0m\u001b[0;34m\u001b[0m\u001b[0m\n\u001b[0;32m--> 682\u001b[0;31m             \u001b[0;32mreturn\u001b[0m \u001b[0mtrainer_fn\u001b[0m\u001b[0;34m(\u001b[0m\u001b[0;34m*\u001b[0m\u001b[0margs\u001b[0m\u001b[0;34m,\u001b[0m \u001b[0;34m**\u001b[0m\u001b[0mkwargs\u001b[0m\u001b[0;34m)\u001b[0m\u001b[0;34m\u001b[0m\u001b[0;34m\u001b[0m\u001b[0m\n\u001b[0m\u001b[1;32m    683\u001b[0m         \u001b[0;31m# TODO: treat KeyboardInterrupt as BaseException (delete the code below) in v1.7\u001b[0m\u001b[0;34m\u001b[0m\u001b[0;34m\u001b[0m\u001b[0;34m\u001b[0m\u001b[0m\n\u001b[1;32m    684\u001b[0m         \u001b[0;32mexcept\u001b[0m \u001b[0mKeyboardInterrupt\u001b[0m \u001b[0;32mas\u001b[0m \u001b[0mexception\u001b[0m\u001b[0;34m:\u001b[0m\u001b[0;34m\u001b[0m\u001b[0;34m\u001b[0m\u001b[0m\n",
      "\u001b[0;32m~/anaconda3/envs/tum/lib/python3.6/site-packages/pytorch_lightning/trainer/trainer.py\u001b[0m in \u001b[0;36m_test_impl\u001b[0;34m(self, model, dataloaders, ckpt_path, verbose, datamodule)\u001b[0m\n\u001b[1;32m    947\u001b[0m \u001b[0;34m\u001b[0m\u001b[0m\n\u001b[1;32m    948\u001b[0m         \u001b[0;31m# run test\u001b[0m\u001b[0;34m\u001b[0m\u001b[0;34m\u001b[0m\u001b[0;34m\u001b[0m\u001b[0m\n\u001b[0;32m--> 949\u001b[0;31m         \u001b[0mresults\u001b[0m \u001b[0;34m=\u001b[0m \u001b[0mself\u001b[0m\u001b[0;34m.\u001b[0m\u001b[0m_run\u001b[0m\u001b[0;34m(\u001b[0m\u001b[0mmodel\u001b[0m\u001b[0;34m,\u001b[0m \u001b[0mckpt_path\u001b[0m\u001b[0;34m=\u001b[0m\u001b[0mself\u001b[0m\u001b[0;34m.\u001b[0m\u001b[0mtested_ckpt_path\u001b[0m\u001b[0;34m)\u001b[0m\u001b[0;34m\u001b[0m\u001b[0;34m\u001b[0m\u001b[0m\n\u001b[0m\u001b[1;32m    950\u001b[0m \u001b[0;34m\u001b[0m\u001b[0m\n\u001b[1;32m    951\u001b[0m         \u001b[0;32massert\u001b[0m \u001b[0mself\u001b[0m\u001b[0;34m.\u001b[0m\u001b[0mstate\u001b[0m\u001b[0;34m.\u001b[0m\u001b[0mstopped\u001b[0m\u001b[0;34m\u001b[0m\u001b[0;34m\u001b[0m\u001b[0m\n",
      "\u001b[0;32m~/anaconda3/envs/tum/lib/python3.6/site-packages/pytorch_lightning/trainer/trainer.py\u001b[0m in \u001b[0;36m_run\u001b[0;34m(self, model, ckpt_path)\u001b[0m\n\u001b[1;32m   1193\u001b[0m \u001b[0;34m\u001b[0m\u001b[0m\n\u001b[1;32m   1194\u001b[0m         \u001b[0;31m# dispatch `start_training` or `start_evaluating` or `start_predicting`\u001b[0m\u001b[0;34m\u001b[0m\u001b[0;34m\u001b[0m\u001b[0;34m\u001b[0m\u001b[0m\n\u001b[0;32m-> 1195\u001b[0;31m         \u001b[0mself\u001b[0m\u001b[0;34m.\u001b[0m\u001b[0m_dispatch\u001b[0m\u001b[0;34m(\u001b[0m\u001b[0;34m)\u001b[0m\u001b[0;34m\u001b[0m\u001b[0;34m\u001b[0m\u001b[0m\n\u001b[0m\u001b[1;32m   1196\u001b[0m \u001b[0;34m\u001b[0m\u001b[0m\n\u001b[1;32m   1197\u001b[0m         \u001b[0;31m# plugin will finalized fitting (e.g. ddp_spawn will load trained model)\u001b[0m\u001b[0;34m\u001b[0m\u001b[0;34m\u001b[0m\u001b[0;34m\u001b[0m\u001b[0m\n",
      "\u001b[0;32m~/anaconda3/envs/tum/lib/python3.6/site-packages/pytorch_lightning/trainer/trainer.py\u001b[0m in \u001b[0;36m_dispatch\u001b[0;34m(self)\u001b[0m\n\u001b[1;32m   1268\u001b[0m     \u001b[0;32mdef\u001b[0m \u001b[0m_dispatch\u001b[0m\u001b[0;34m(\u001b[0m\u001b[0mself\u001b[0m\u001b[0;34m)\u001b[0m\u001b[0;34m:\u001b[0m\u001b[0;34m\u001b[0m\u001b[0;34m\u001b[0m\u001b[0m\n\u001b[1;32m   1269\u001b[0m         \u001b[0;32mif\u001b[0m \u001b[0mself\u001b[0m\u001b[0;34m.\u001b[0m\u001b[0mevaluating\u001b[0m\u001b[0;34m:\u001b[0m\u001b[0;34m\u001b[0m\u001b[0;34m\u001b[0m\u001b[0m\n\u001b[0;32m-> 1270\u001b[0;31m             \u001b[0mself\u001b[0m\u001b[0;34m.\u001b[0m\u001b[0mtraining_type_plugin\u001b[0m\u001b[0;34m.\u001b[0m\u001b[0mstart_evaluating\u001b[0m\u001b[0;34m(\u001b[0m\u001b[0mself\u001b[0m\u001b[0;34m)\u001b[0m\u001b[0;34m\u001b[0m\u001b[0;34m\u001b[0m\u001b[0m\n\u001b[0m\u001b[1;32m   1271\u001b[0m         \u001b[0;32melif\u001b[0m \u001b[0mself\u001b[0m\u001b[0;34m.\u001b[0m\u001b[0mpredicting\u001b[0m\u001b[0;34m:\u001b[0m\u001b[0;34m\u001b[0m\u001b[0;34m\u001b[0m\u001b[0m\n\u001b[1;32m   1272\u001b[0m             \u001b[0mself\u001b[0m\u001b[0;34m.\u001b[0m\u001b[0mtraining_type_plugin\u001b[0m\u001b[0;34m.\u001b[0m\u001b[0mstart_predicting\u001b[0m\u001b[0;34m(\u001b[0m\u001b[0mself\u001b[0m\u001b[0;34m)\u001b[0m\u001b[0;34m\u001b[0m\u001b[0;34m\u001b[0m\u001b[0m\n",
      "\u001b[0;32m~/anaconda3/envs/tum/lib/python3.6/site-packages/pytorch_lightning/plugins/training_type/training_type_plugin.py\u001b[0m in \u001b[0;36mstart_evaluating\u001b[0;34m(self, trainer)\u001b[0m\n\u001b[1;32m    204\u001b[0m     \u001b[0;32mdef\u001b[0m \u001b[0mstart_evaluating\u001b[0m\u001b[0;34m(\u001b[0m\u001b[0mself\u001b[0m\u001b[0;34m,\u001b[0m \u001b[0mtrainer\u001b[0m\u001b[0;34m:\u001b[0m \u001b[0;34m\"pl.Trainer\"\u001b[0m\u001b[0;34m)\u001b[0m \u001b[0;34m->\u001b[0m \u001b[0;32mNone\u001b[0m\u001b[0;34m:\u001b[0m\u001b[0;34m\u001b[0m\u001b[0;34m\u001b[0m\u001b[0m\n\u001b[1;32m    205\u001b[0m         \u001b[0;31m# double dispatch to initiate the test loop\u001b[0m\u001b[0;34m\u001b[0m\u001b[0;34m\u001b[0m\u001b[0;34m\u001b[0m\u001b[0m\n\u001b[0;32m--> 206\u001b[0;31m         \u001b[0mself\u001b[0m\u001b[0;34m.\u001b[0m\u001b[0m_results\u001b[0m \u001b[0;34m=\u001b[0m \u001b[0mtrainer\u001b[0m\u001b[0;34m.\u001b[0m\u001b[0mrun_stage\u001b[0m\u001b[0;34m(\u001b[0m\u001b[0;34m)\u001b[0m\u001b[0;34m\u001b[0m\u001b[0;34m\u001b[0m\u001b[0m\n\u001b[0m\u001b[1;32m    207\u001b[0m \u001b[0;34m\u001b[0m\u001b[0m\n\u001b[1;32m    208\u001b[0m     \u001b[0;32mdef\u001b[0m \u001b[0mstart_predicting\u001b[0m\u001b[0;34m(\u001b[0m\u001b[0mself\u001b[0m\u001b[0;34m,\u001b[0m \u001b[0mtrainer\u001b[0m\u001b[0;34m:\u001b[0m \u001b[0;34m\"pl.Trainer\"\u001b[0m\u001b[0;34m)\u001b[0m \u001b[0;34m->\u001b[0m \u001b[0;32mNone\u001b[0m\u001b[0;34m:\u001b[0m\u001b[0;34m\u001b[0m\u001b[0;34m\u001b[0m\u001b[0m\n",
      "\u001b[0;32m~/anaconda3/envs/tum/lib/python3.6/site-packages/pytorch_lightning/trainer/trainer.py\u001b[0m in \u001b[0;36mrun_stage\u001b[0;34m(self)\u001b[0m\n\u001b[1;32m   1279\u001b[0m \u001b[0;34m\u001b[0m\u001b[0m\n\u001b[1;32m   1280\u001b[0m         \u001b[0;32mif\u001b[0m \u001b[0mself\u001b[0m\u001b[0;34m.\u001b[0m\u001b[0mevaluating\u001b[0m\u001b[0;34m:\u001b[0m\u001b[0;34m\u001b[0m\u001b[0;34m\u001b[0m\u001b[0m\n\u001b[0;32m-> 1281\u001b[0;31m             \u001b[0;32mreturn\u001b[0m \u001b[0mself\u001b[0m\u001b[0;34m.\u001b[0m\u001b[0m_run_evaluate\u001b[0m\u001b[0;34m(\u001b[0m\u001b[0;34m)\u001b[0m\u001b[0;34m\u001b[0m\u001b[0;34m\u001b[0m\u001b[0m\n\u001b[0m\u001b[1;32m   1282\u001b[0m         \u001b[0;32mif\u001b[0m \u001b[0mself\u001b[0m\u001b[0;34m.\u001b[0m\u001b[0mpredicting\u001b[0m\u001b[0;34m:\u001b[0m\u001b[0;34m\u001b[0m\u001b[0;34m\u001b[0m\u001b[0m\n\u001b[1;32m   1283\u001b[0m             \u001b[0;32mreturn\u001b[0m \u001b[0mself\u001b[0m\u001b[0;34m.\u001b[0m\u001b[0m_run_predict\u001b[0m\u001b[0;34m(\u001b[0m\u001b[0;34m)\u001b[0m\u001b[0;34m\u001b[0m\u001b[0;34m\u001b[0m\u001b[0m\n",
      "\u001b[0;32m~/anaconda3/envs/tum/lib/python3.6/site-packages/pytorch_lightning/trainer/trainer.py\u001b[0m in \u001b[0;36m_run_evaluate\u001b[0;34m(self)\u001b[0m\n\u001b[1;32m   1321\u001b[0m \u001b[0;34m\u001b[0m\u001b[0m\n\u001b[1;32m   1322\u001b[0m         \u001b[0;31m# reload dataloaders\u001b[0m\u001b[0;34m\u001b[0m\u001b[0;34m\u001b[0m\u001b[0;34m\u001b[0m\u001b[0m\n\u001b[0;32m-> 1323\u001b[0;31m         \u001b[0mself\u001b[0m\u001b[0;34m.\u001b[0m\u001b[0m_evaluation_loop\u001b[0m\u001b[0;34m.\u001b[0m\u001b[0m_reload_evaluation_dataloaders\u001b[0m\u001b[0;34m(\u001b[0m\u001b[0;34m)\u001b[0m\u001b[0;34m\u001b[0m\u001b[0;34m\u001b[0m\u001b[0m\n\u001b[0m\u001b[1;32m   1324\u001b[0m \u001b[0;34m\u001b[0m\u001b[0m\n\u001b[1;32m   1325\u001b[0m         \u001b[0;31m# reset trainer on this loop and all child loops in case user connected a custom loop\u001b[0m\u001b[0;34m\u001b[0m\u001b[0;34m\u001b[0m\u001b[0;34m\u001b[0m\u001b[0m\n",
      "\u001b[0;32m~/anaconda3/envs/tum/lib/python3.6/site-packages/pytorch_lightning/loops/dataloader/evaluation_loop.py\u001b[0m in \u001b[0;36m_reload_evaluation_dataloaders\u001b[0;34m(self)\u001b[0m\n\u001b[1;32m    165\u001b[0m         \u001b[0;34m\"\"\"Reloads dataloaders if necessary.\"\"\"\u001b[0m\u001b[0;34m\u001b[0m\u001b[0;34m\u001b[0m\u001b[0m\n\u001b[1;32m    166\u001b[0m         \u001b[0;32mif\u001b[0m \u001b[0mself\u001b[0m\u001b[0;34m.\u001b[0m\u001b[0mtrainer\u001b[0m\u001b[0;34m.\u001b[0m\u001b[0mtesting\u001b[0m\u001b[0;34m:\u001b[0m\u001b[0;34m\u001b[0m\u001b[0;34m\u001b[0m\u001b[0m\n\u001b[0;32m--> 167\u001b[0;31m             \u001b[0mself\u001b[0m\u001b[0;34m.\u001b[0m\u001b[0mtrainer\u001b[0m\u001b[0;34m.\u001b[0m\u001b[0mreset_test_dataloader\u001b[0m\u001b[0;34m(\u001b[0m\u001b[0;34m)\u001b[0m\u001b[0;34m\u001b[0m\u001b[0;34m\u001b[0m\u001b[0m\n\u001b[0m\u001b[1;32m    168\u001b[0m         \u001b[0;32melif\u001b[0m \u001b[0mself\u001b[0m\u001b[0;34m.\u001b[0m\u001b[0mtrainer\u001b[0m\u001b[0;34m.\u001b[0m\u001b[0mval_dataloaders\u001b[0m \u001b[0;32mis\u001b[0m \u001b[0;32mNone\u001b[0m \u001b[0;32mor\u001b[0m \u001b[0mself\u001b[0m\u001b[0;34m.\u001b[0m\u001b[0mtrainer\u001b[0m\u001b[0;34m.\u001b[0m\u001b[0m_should_reload_dl_epoch\u001b[0m\u001b[0;34m:\u001b[0m\u001b[0;34m\u001b[0m\u001b[0;34m\u001b[0m\u001b[0m\n\u001b[1;32m    169\u001b[0m             \u001b[0mself\u001b[0m\u001b[0;34m.\u001b[0m\u001b[0mtrainer\u001b[0m\u001b[0;34m.\u001b[0m\u001b[0mreset_val_dataloader\u001b[0m\u001b[0;34m(\u001b[0m\u001b[0;34m)\u001b[0m\u001b[0;34m\u001b[0m\u001b[0;34m\u001b[0m\u001b[0m\n",
      "\u001b[0;32m~/anaconda3/envs/tum/lib/python3.6/site-packages/pytorch_lightning/trainer/data_loading.py\u001b[0m in \u001b[0;36mreset_test_dataloader\u001b[0;34m(self, model)\u001b[0m\n\u001b[1;32m    533\u001b[0m         \u001b[0;32mif\u001b[0m \u001b[0msource\u001b[0m\u001b[0;34m.\u001b[0m\u001b[0mis_defined\u001b[0m\u001b[0;34m(\u001b[0m\u001b[0;34m)\u001b[0m \u001b[0;32mand\u001b[0m \u001b[0mhas_step\u001b[0m\u001b[0;34m:\u001b[0m\u001b[0;34m\u001b[0m\u001b[0;34m\u001b[0m\u001b[0m\n\u001b[1;32m    534\u001b[0m             self.num_test_batches, self.test_dataloaders = self._reset_eval_dataloader(\n\u001b[0;32m--> 535\u001b[0;31m                 \u001b[0mRunningStage\u001b[0m\u001b[0;34m.\u001b[0m\u001b[0mTESTING\u001b[0m\u001b[0;34m,\u001b[0m \u001b[0mmodel\u001b[0m\u001b[0;34m=\u001b[0m\u001b[0mpl_module\u001b[0m\u001b[0;34m\u001b[0m\u001b[0;34m\u001b[0m\u001b[0m\n\u001b[0m\u001b[1;32m    536\u001b[0m             )\n\u001b[1;32m    537\u001b[0m \u001b[0;34m\u001b[0m\u001b[0m\n",
      "\u001b[0;32m~/anaconda3/envs/tum/lib/python3.6/site-packages/pytorch_lightning/trainer/data_loading.py\u001b[0m in \u001b[0;36m_reset_eval_dataloader\u001b[0;34m(self, mode, model)\u001b[0m\n\u001b[1;32m    425\u001b[0m \u001b[0;34m\u001b[0m\u001b[0m\n\u001b[1;32m    426\u001b[0m         \u001b[0;31m# always get the loaders first so we can count how many there are\u001b[0m\u001b[0;34m\u001b[0m\u001b[0;34m\u001b[0m\u001b[0;34m\u001b[0m\u001b[0m\n\u001b[0;32m--> 427\u001b[0;31m         \u001b[0mdataloaders\u001b[0m \u001b[0;34m=\u001b[0m \u001b[0mself\u001b[0m\u001b[0;34m.\u001b[0m\u001b[0mrequest_dataloader\u001b[0m\u001b[0;34m(\u001b[0m\u001b[0mmode\u001b[0m\u001b[0;34m,\u001b[0m \u001b[0mmodel\u001b[0m\u001b[0;34m=\u001b[0m\u001b[0mmodel\u001b[0m\u001b[0;34m)\u001b[0m\u001b[0;34m\u001b[0m\u001b[0;34m\u001b[0m\u001b[0m\n\u001b[0m\u001b[1;32m    428\u001b[0m \u001b[0;34m\u001b[0m\u001b[0m\n\u001b[1;32m    429\u001b[0m         \u001b[0;32mif\u001b[0m \u001b[0;32mnot\u001b[0m \u001b[0misinstance\u001b[0m\u001b[0;34m(\u001b[0m\u001b[0mdataloaders\u001b[0m\u001b[0;34m,\u001b[0m \u001b[0mlist\u001b[0m\u001b[0;34m)\u001b[0m\u001b[0;34m:\u001b[0m\u001b[0;34m\u001b[0m\u001b[0;34m\u001b[0m\u001b[0m\n",
      "\u001b[0;32m~/anaconda3/envs/tum/lib/python3.6/site-packages/pytorch_lightning/trainer/data_loading.py\u001b[0m in \u001b[0;36mrequest_dataloader\u001b[0;34m(self, stage, model)\u001b[0m\n\u001b[1;32m    575\u001b[0m         \u001b[0mhook\u001b[0m \u001b[0;34m=\u001b[0m \u001b[0;34mf\"{stage.dataloader_prefix}_dataloader\"\u001b[0m\u001b[0;34m\u001b[0m\u001b[0;34m\u001b[0m\u001b[0m\n\u001b[1;32m    576\u001b[0m         \u001b[0mself\u001b[0m\u001b[0;34m.\u001b[0m\u001b[0mcall_hook\u001b[0m\u001b[0;34m(\u001b[0m\u001b[0;34m\"on_\"\u001b[0m \u001b[0;34m+\u001b[0m \u001b[0mhook\u001b[0m\u001b[0;34m,\u001b[0m \u001b[0mpl_module\u001b[0m\u001b[0;34m=\u001b[0m\u001b[0mmodel\u001b[0m\u001b[0;34m)\u001b[0m\u001b[0;34m\u001b[0m\u001b[0;34m\u001b[0m\u001b[0m\n\u001b[0;32m--> 577\u001b[0;31m         \u001b[0mdataloader\u001b[0m \u001b[0;34m=\u001b[0m \u001b[0msource\u001b[0m\u001b[0;34m.\u001b[0m\u001b[0mdataloader\u001b[0m\u001b[0;34m(\u001b[0m\u001b[0;34m)\u001b[0m\u001b[0;34m\u001b[0m\u001b[0;34m\u001b[0m\u001b[0m\n\u001b[0m\u001b[1;32m    578\u001b[0m         \u001b[0;32mif\u001b[0m \u001b[0misinstance\u001b[0m\u001b[0;34m(\u001b[0m\u001b[0mdataloader\u001b[0m\u001b[0;34m,\u001b[0m \u001b[0mtuple\u001b[0m\u001b[0;34m)\u001b[0m\u001b[0;34m:\u001b[0m\u001b[0;34m\u001b[0m\u001b[0;34m\u001b[0m\u001b[0m\n\u001b[1;32m    579\u001b[0m             \u001b[0mdataloader\u001b[0m \u001b[0;34m=\u001b[0m \u001b[0mlist\u001b[0m\u001b[0;34m(\u001b[0m\u001b[0mdataloader\u001b[0m\u001b[0;34m)\u001b[0m\u001b[0;34m\u001b[0m\u001b[0;34m\u001b[0m\u001b[0m\n",
      "\u001b[0;32m~/anaconda3/envs/tum/lib/python3.6/site-packages/pytorch_lightning/trainer/connectors/data_connector.py\u001b[0m in \u001b[0;36mdataloader\u001b[0;34m(self)\u001b[0m\n\u001b[1;32m    298\u001b[0m         \u001b[0;32mif\u001b[0m \u001b[0misinstance\u001b[0m\u001b[0;34m(\u001b[0m\u001b[0mself\u001b[0m\u001b[0;34m.\u001b[0m\u001b[0minstance\u001b[0m\u001b[0;34m,\u001b[0m \u001b[0mLightningDataModule\u001b[0m\u001b[0;34m)\u001b[0m\u001b[0;34m:\u001b[0m\u001b[0;34m\u001b[0m\u001b[0;34m\u001b[0m\u001b[0m\n\u001b[1;32m    299\u001b[0m             \u001b[0mmethod\u001b[0m \u001b[0;34m=\u001b[0m \u001b[0mgetattr\u001b[0m\u001b[0;34m(\u001b[0m\u001b[0mself\u001b[0m\u001b[0;34m.\u001b[0m\u001b[0minstance\u001b[0m\u001b[0;34m,\u001b[0m \u001b[0mself\u001b[0m\u001b[0;34m.\u001b[0m\u001b[0mname\u001b[0m\u001b[0;34m)\u001b[0m\u001b[0;34m\u001b[0m\u001b[0;34m\u001b[0m\u001b[0m\n\u001b[0;32m--> 300\u001b[0;31m             \u001b[0;32mreturn\u001b[0m \u001b[0mmethod\u001b[0m\u001b[0;34m(\u001b[0m\u001b[0;34m)\u001b[0m\u001b[0;34m\u001b[0m\u001b[0;34m\u001b[0m\u001b[0m\n\u001b[0m\u001b[1;32m    301\u001b[0m \u001b[0;34m\u001b[0m\u001b[0m\n\u001b[1;32m    302\u001b[0m         \u001b[0;32mreturn\u001b[0m \u001b[0mself\u001b[0m\u001b[0;34m.\u001b[0m\u001b[0minstance\u001b[0m\u001b[0;34m\u001b[0m\u001b[0;34m\u001b[0m\u001b[0m\n",
      "\u001b[0;32m<ipython-input-11-aafbea02e33f>\u001b[0m in \u001b[0;36mtest_dataloader\u001b[0;34m(self)\u001b[0m\n\u001b[1;32m     77\u001b[0m     \u001b[0;32mdef\u001b[0m \u001b[0mtest_dataloader\u001b[0m\u001b[0;34m(\u001b[0m\u001b[0mself\u001b[0m\u001b[0;34m)\u001b[0m\u001b[0;34m:\u001b[0m\u001b[0;34m\u001b[0m\u001b[0;34m\u001b[0m\u001b[0m\n\u001b[1;32m     78\u001b[0m         test_dataset = SensorsDataset(self.X_test, \n\u001b[0;32m---> 79\u001b[0;31m                                       self.y_test)\n\u001b[0m\u001b[1;32m     80\u001b[0m         test_loader = DataLoader(test_dataset, \n\u001b[1;32m     81\u001b[0m                                  \u001b[0mbatch_size\u001b[0m \u001b[0;34m=\u001b[0m \u001b[0mself\u001b[0m\u001b[0;34m.\u001b[0m\u001b[0mbatch_size\u001b[0m\u001b[0;34m,\u001b[0m\u001b[0;34m\u001b[0m\u001b[0;34m\u001b[0m\u001b[0m\n",
      "\u001b[0;31mAttributeError\u001b[0m: 'SensorsDataModule' object has no attribute 'y_test'"
     ]
    }
   ],
   "source": [
    "seed_everything(1)\n",
    "\n",
    "csv_logger = CSVLogger('./', name='lstm_normal', version='0'),\n",
    "\n",
    "checkpoint_callback = ModelCheckpoint(\n",
    "    monitor=\"val_loss\",\n",
    "    dirpath=\"./lstm_normal\",\n",
    "    filename=\"lstm_normal-{epoch:03d}-{val_loss:.5f}\",\n",
    "    save_top_k=3,\n",
    "    mode=\"min\",\n",
    ")\n",
    "\n",
    "trainer = Trainer(\n",
    "    max_epochs=p['max_epochs'],\n",
    "    callbacks=[checkpoint_callback],\n",
    "    logger=csv_logger,\n",
    "    gpus=1,\n",
    "    log_every_n_steps=10,\n",
    "    progress_bar_refresh_rate=2,\n",
    ")\n",
    "\n",
    "model = LSTMRegressor(\n",
    "    n_features = p['n_features'],\n",
    "    hidden_size = p['hidden_size'],\n",
    "    seq_len = p['seq_len'],\n",
    "    batch_size = p['batch_size'],\n",
    "    criterion = p['criterion'],\n",
    "    num_layers = p['num_layers'],\n",
    "    dropout = p['dropout'],\n",
    "    learning_rate = p['learning_rate']\n",
    ")\n",
    "\n",
    "dm = SensorsDataModule(\n",
    "    seq_len = p['seq_len'],\n",
    "    batch_size = p['batch_size']\n",
    ")\n",
    "\n",
    "trainer.fit(model, dm)\n",
    "trainer.test(model, datamodule=dm)"
   ]
  },
  {
   "cell_type": "markdown",
   "id": "3cb48a1e",
   "metadata": {},
   "source": [
    "## Testing"
   ]
  },
  {
   "cell_type": "code",
   "execution_count": 16,
   "id": "8ca6f6ea",
   "metadata": {},
   "outputs": [],
   "source": [
    "device = \"cuda\""
   ]
  },
  {
   "cell_type": "code",
   "execution_count": 17,
   "id": "a5518c0e",
   "metadata": {},
   "outputs": [],
   "source": [
    "start_idx = 205111\n",
    "end_idx = 206511\n",
    "test_idxs = slice(start_idx, end_idx)"
   ]
  },
  {
   "cell_type": "code",
   "execution_count": 30,
   "id": "8487e791",
   "metadata": {},
   "outputs": [],
   "source": [
    "in_set = []\n",
    "\n",
    "look_back = 3\n",
    "for i in range(start_idx, end_idx):\n",
    "    in_set.append(sensors_set[i:i+look_back] + np.random.normal(size=(look_back, 12))*0.0)\n",
    "\n",
    "in_set = torch.tensor(in_set, dtype=torch.float32).to(device)"
   ]
  },
  {
   "cell_type": "code",
   "execution_count": 31,
   "id": "d3f218c0",
   "metadata": {},
   "outputs": [],
   "source": [
    "def sin_cos_to_angle(sin_cos):\n",
    "    return np.array([\n",
    "        np.arctan2(sin_cos[:, 0], sin_cos[:, 3]),\n",
    "        np.arctan2(sin_cos[:, 1], sin_cos[:, 4]),\n",
    "        np.arctan2(sin_cos[:, 2], sin_cos[:, 5]),\n",
    "    ]).T\n",
    "\n",
    "out_set = model(in_set)[:, -1].cpu().detach().numpy()\n",
    "euler_pred = sin_cos_to_angle(out_set)"
   ]
  },
  {
   "cell_type": "code",
   "execution_count": 32,
   "id": "29020c38",
   "metadata": {},
   "outputs": [],
   "source": [
    "euler_set = dataset[test_idxs, 12:15]\n",
    "\n",
    "# euler_set_in = np.zeros_like(euler_set)\n",
    "# euler_set_in[:, 0] = euler_set[:, 0] \n",
    "# euler_set_in[:, 1] = euler_set[:, 2] \n",
    "# euler_set_in[:, 2] = euler_set[:, 1] "
   ]
  },
  {
   "cell_type": "code",
   "execution_count": 33,
   "id": "29481d2b",
   "metadata": {},
   "outputs": [
    {
     "data": {
      "text/plain": [
       "0.0010082881856302353"
      ]
     },
     "execution_count": 33,
     "metadata": {},
     "output_type": "execute_result"
    }
   ],
   "source": [
    "np.mean(np.sum(np.square(euler_pred - euler_set), axis=-1))"
   ]
  },
  {
   "cell_type": "code",
   "execution_count": 34,
   "id": "99a9da9e",
   "metadata": {},
   "outputs": [],
   "source": [
    "euler_gt_plt = euler_set[150:270]\n",
    "euler_plt = euler_pred[150:270] "
   ]
  },
  {
   "cell_type": "code",
   "execution_count": 35,
   "id": "45c0081e",
   "metadata": {},
   "outputs": [
    {
     "data": {
      "application/javascript": [
       "/* Put everything inside the global mpl namespace */\n",
       "/* global mpl */\n",
       "window.mpl = {};\n",
       "\n",
       "mpl.get_websocket_type = function () {\n",
       "    if (typeof WebSocket !== 'undefined') {\n",
       "        return WebSocket;\n",
       "    } else if (typeof MozWebSocket !== 'undefined') {\n",
       "        return MozWebSocket;\n",
       "    } else {\n",
       "        alert(\n",
       "            'Your browser does not have WebSocket support. ' +\n",
       "                'Please try Chrome, Safari or Firefox ≥ 6. ' +\n",
       "                'Firefox 4 and 5 are also supported but you ' +\n",
       "                'have to enable WebSockets in about:config.'\n",
       "        );\n",
       "    }\n",
       "};\n",
       "\n",
       "mpl.figure = function (figure_id, websocket, ondownload, parent_element) {\n",
       "    this.id = figure_id;\n",
       "\n",
       "    this.ws = websocket;\n",
       "\n",
       "    this.supports_binary = this.ws.binaryType !== undefined;\n",
       "\n",
       "    if (!this.supports_binary) {\n",
       "        var warnings = document.getElementById('mpl-warnings');\n",
       "        if (warnings) {\n",
       "            warnings.style.display = 'block';\n",
       "            warnings.textContent =\n",
       "                'This browser does not support binary websocket messages. ' +\n",
       "                'Performance may be slow.';\n",
       "        }\n",
       "    }\n",
       "\n",
       "    this.imageObj = new Image();\n",
       "\n",
       "    this.context = undefined;\n",
       "    this.message = undefined;\n",
       "    this.canvas = undefined;\n",
       "    this.rubberband_canvas = undefined;\n",
       "    this.rubberband_context = undefined;\n",
       "    this.format_dropdown = undefined;\n",
       "\n",
       "    this.image_mode = 'full';\n",
       "\n",
       "    this.root = document.createElement('div');\n",
       "    this.root.setAttribute('style', 'display: inline-block');\n",
       "    this._root_extra_style(this.root);\n",
       "\n",
       "    parent_element.appendChild(this.root);\n",
       "\n",
       "    this._init_header(this);\n",
       "    this._init_canvas(this);\n",
       "    this._init_toolbar(this);\n",
       "\n",
       "    var fig = this;\n",
       "\n",
       "    this.waiting = false;\n",
       "\n",
       "    this.ws.onopen = function () {\n",
       "        fig.send_message('supports_binary', { value: fig.supports_binary });\n",
       "        fig.send_message('send_image_mode', {});\n",
       "        if (fig.ratio !== 1) {\n",
       "            fig.send_message('set_dpi_ratio', { dpi_ratio: fig.ratio });\n",
       "        }\n",
       "        fig.send_message('refresh', {});\n",
       "    };\n",
       "\n",
       "    this.imageObj.onload = function () {\n",
       "        if (fig.image_mode === 'full') {\n",
       "            // Full images could contain transparency (where diff images\n",
       "            // almost always do), so we need to clear the canvas so that\n",
       "            // there is no ghosting.\n",
       "            fig.context.clearRect(0, 0, fig.canvas.width, fig.canvas.height);\n",
       "        }\n",
       "        fig.context.drawImage(fig.imageObj, 0, 0);\n",
       "    };\n",
       "\n",
       "    this.imageObj.onunload = function () {\n",
       "        fig.ws.close();\n",
       "    };\n",
       "\n",
       "    this.ws.onmessage = this._make_on_message_function(this);\n",
       "\n",
       "    this.ondownload = ondownload;\n",
       "};\n",
       "\n",
       "mpl.figure.prototype._init_header = function () {\n",
       "    var titlebar = document.createElement('div');\n",
       "    titlebar.classList =\n",
       "        'ui-dialog-titlebar ui-widget-header ui-corner-all ui-helper-clearfix';\n",
       "    var titletext = document.createElement('div');\n",
       "    titletext.classList = 'ui-dialog-title';\n",
       "    titletext.setAttribute(\n",
       "        'style',\n",
       "        'width: 100%; text-align: center; padding: 3px;'\n",
       "    );\n",
       "    titlebar.appendChild(titletext);\n",
       "    this.root.appendChild(titlebar);\n",
       "    this.header = titletext;\n",
       "};\n",
       "\n",
       "mpl.figure.prototype._canvas_extra_style = function (_canvas_div) {};\n",
       "\n",
       "mpl.figure.prototype._root_extra_style = function (_canvas_div) {};\n",
       "\n",
       "mpl.figure.prototype._init_canvas = function () {\n",
       "    var fig = this;\n",
       "\n",
       "    var canvas_div = (this.canvas_div = document.createElement('div'));\n",
       "    canvas_div.setAttribute(\n",
       "        'style',\n",
       "        'border: 1px solid #ddd;' +\n",
       "            'box-sizing: content-box;' +\n",
       "            'clear: both;' +\n",
       "            'min-height: 1px;' +\n",
       "            'min-width: 1px;' +\n",
       "            'outline: 0;' +\n",
       "            'overflow: hidden;' +\n",
       "            'position: relative;' +\n",
       "            'resize: both;'\n",
       "    );\n",
       "\n",
       "    function on_keyboard_event_closure(name) {\n",
       "        return function (event) {\n",
       "            return fig.key_event(event, name);\n",
       "        };\n",
       "    }\n",
       "\n",
       "    canvas_div.addEventListener(\n",
       "        'keydown',\n",
       "        on_keyboard_event_closure('key_press')\n",
       "    );\n",
       "    canvas_div.addEventListener(\n",
       "        'keyup',\n",
       "        on_keyboard_event_closure('key_release')\n",
       "    );\n",
       "\n",
       "    this._canvas_extra_style(canvas_div);\n",
       "    this.root.appendChild(canvas_div);\n",
       "\n",
       "    var canvas = (this.canvas = document.createElement('canvas'));\n",
       "    canvas.classList.add('mpl-canvas');\n",
       "    canvas.setAttribute('style', 'box-sizing: content-box;');\n",
       "\n",
       "    this.context = canvas.getContext('2d');\n",
       "\n",
       "    var backingStore =\n",
       "        this.context.backingStorePixelRatio ||\n",
       "        this.context.webkitBackingStorePixelRatio ||\n",
       "        this.context.mozBackingStorePixelRatio ||\n",
       "        this.context.msBackingStorePixelRatio ||\n",
       "        this.context.oBackingStorePixelRatio ||\n",
       "        this.context.backingStorePixelRatio ||\n",
       "        1;\n",
       "\n",
       "    this.ratio = (window.devicePixelRatio || 1) / backingStore;\n",
       "\n",
       "    var rubberband_canvas = (this.rubberband_canvas = document.createElement(\n",
       "        'canvas'\n",
       "    ));\n",
       "    rubberband_canvas.setAttribute(\n",
       "        'style',\n",
       "        'box-sizing: content-box; position: absolute; left: 0; top: 0; z-index: 1;'\n",
       "    );\n",
       "\n",
       "    // Apply a ponyfill if ResizeObserver is not implemented by browser.\n",
       "    if (this.ResizeObserver === undefined) {\n",
       "        if (window.ResizeObserver !== undefined) {\n",
       "            this.ResizeObserver = window.ResizeObserver;\n",
       "        } else {\n",
       "            var obs = _JSXTOOLS_RESIZE_OBSERVER({});\n",
       "            this.ResizeObserver = obs.ResizeObserver;\n",
       "        }\n",
       "    }\n",
       "\n",
       "    this.resizeObserverInstance = new this.ResizeObserver(function (entries) {\n",
       "        var nentries = entries.length;\n",
       "        for (var i = 0; i < nentries; i++) {\n",
       "            var entry = entries[i];\n",
       "            var width, height;\n",
       "            if (entry.contentBoxSize) {\n",
       "                if (entry.contentBoxSize instanceof Array) {\n",
       "                    // Chrome 84 implements new version of spec.\n",
       "                    width = entry.contentBoxSize[0].inlineSize;\n",
       "                    height = entry.contentBoxSize[0].blockSize;\n",
       "                } else {\n",
       "                    // Firefox implements old version of spec.\n",
       "                    width = entry.contentBoxSize.inlineSize;\n",
       "                    height = entry.contentBoxSize.blockSize;\n",
       "                }\n",
       "            } else {\n",
       "                // Chrome <84 implements even older version of spec.\n",
       "                width = entry.contentRect.width;\n",
       "                height = entry.contentRect.height;\n",
       "            }\n",
       "\n",
       "            // Keep the size of the canvas and rubber band canvas in sync with\n",
       "            // the canvas container.\n",
       "            if (entry.devicePixelContentBoxSize) {\n",
       "                // Chrome 84 implements new version of spec.\n",
       "                canvas.setAttribute(\n",
       "                    'width',\n",
       "                    entry.devicePixelContentBoxSize[0].inlineSize\n",
       "                );\n",
       "                canvas.setAttribute(\n",
       "                    'height',\n",
       "                    entry.devicePixelContentBoxSize[0].blockSize\n",
       "                );\n",
       "            } else {\n",
       "                canvas.setAttribute('width', width * fig.ratio);\n",
       "                canvas.setAttribute('height', height * fig.ratio);\n",
       "            }\n",
       "            canvas.setAttribute(\n",
       "                'style',\n",
       "                'width: ' + width + 'px; height: ' + height + 'px;'\n",
       "            );\n",
       "\n",
       "            rubberband_canvas.setAttribute('width', width);\n",
       "            rubberband_canvas.setAttribute('height', height);\n",
       "\n",
       "            // And update the size in Python. We ignore the initial 0/0 size\n",
       "            // that occurs as the element is placed into the DOM, which should\n",
       "            // otherwise not happen due to the minimum size styling.\n",
       "            if (fig.ws.readyState == 1 && width != 0 && height != 0) {\n",
       "                fig.request_resize(width, height);\n",
       "            }\n",
       "        }\n",
       "    });\n",
       "    this.resizeObserverInstance.observe(canvas_div);\n",
       "\n",
       "    function on_mouse_event_closure(name) {\n",
       "        return function (event) {\n",
       "            return fig.mouse_event(event, name);\n",
       "        };\n",
       "    }\n",
       "\n",
       "    rubberband_canvas.addEventListener(\n",
       "        'mousedown',\n",
       "        on_mouse_event_closure('button_press')\n",
       "    );\n",
       "    rubberband_canvas.addEventListener(\n",
       "        'mouseup',\n",
       "        on_mouse_event_closure('button_release')\n",
       "    );\n",
       "    // Throttle sequential mouse events to 1 every 20ms.\n",
       "    rubberband_canvas.addEventListener(\n",
       "        'mousemove',\n",
       "        on_mouse_event_closure('motion_notify')\n",
       "    );\n",
       "\n",
       "    rubberband_canvas.addEventListener(\n",
       "        'mouseenter',\n",
       "        on_mouse_event_closure('figure_enter')\n",
       "    );\n",
       "    rubberband_canvas.addEventListener(\n",
       "        'mouseleave',\n",
       "        on_mouse_event_closure('figure_leave')\n",
       "    );\n",
       "\n",
       "    canvas_div.addEventListener('wheel', function (event) {\n",
       "        if (event.deltaY < 0) {\n",
       "            event.step = 1;\n",
       "        } else {\n",
       "            event.step = -1;\n",
       "        }\n",
       "        on_mouse_event_closure('scroll')(event);\n",
       "    });\n",
       "\n",
       "    canvas_div.appendChild(canvas);\n",
       "    canvas_div.appendChild(rubberband_canvas);\n",
       "\n",
       "    this.rubberband_context = rubberband_canvas.getContext('2d');\n",
       "    this.rubberband_context.strokeStyle = '#000000';\n",
       "\n",
       "    this._resize_canvas = function (width, height, forward) {\n",
       "        if (forward) {\n",
       "            canvas_div.style.width = width + 'px';\n",
       "            canvas_div.style.height = height + 'px';\n",
       "        }\n",
       "    };\n",
       "\n",
       "    // Disable right mouse context menu.\n",
       "    this.rubberband_canvas.addEventListener('contextmenu', function (_e) {\n",
       "        event.preventDefault();\n",
       "        return false;\n",
       "    });\n",
       "\n",
       "    function set_focus() {\n",
       "        canvas.focus();\n",
       "        canvas_div.focus();\n",
       "    }\n",
       "\n",
       "    window.setTimeout(set_focus, 100);\n",
       "};\n",
       "\n",
       "mpl.figure.prototype._init_toolbar = function () {\n",
       "    var fig = this;\n",
       "\n",
       "    var toolbar = document.createElement('div');\n",
       "    toolbar.classList = 'mpl-toolbar';\n",
       "    this.root.appendChild(toolbar);\n",
       "\n",
       "    function on_click_closure(name) {\n",
       "        return function (_event) {\n",
       "            return fig.toolbar_button_onclick(name);\n",
       "        };\n",
       "    }\n",
       "\n",
       "    function on_mouseover_closure(tooltip) {\n",
       "        return function (event) {\n",
       "            if (!event.currentTarget.disabled) {\n",
       "                return fig.toolbar_button_onmouseover(tooltip);\n",
       "            }\n",
       "        };\n",
       "    }\n",
       "\n",
       "    fig.buttons = {};\n",
       "    var buttonGroup = document.createElement('div');\n",
       "    buttonGroup.classList = 'mpl-button-group';\n",
       "    for (var toolbar_ind in mpl.toolbar_items) {\n",
       "        var name = mpl.toolbar_items[toolbar_ind][0];\n",
       "        var tooltip = mpl.toolbar_items[toolbar_ind][1];\n",
       "        var image = mpl.toolbar_items[toolbar_ind][2];\n",
       "        var method_name = mpl.toolbar_items[toolbar_ind][3];\n",
       "\n",
       "        if (!name) {\n",
       "            /* Instead of a spacer, we start a new button group. */\n",
       "            if (buttonGroup.hasChildNodes()) {\n",
       "                toolbar.appendChild(buttonGroup);\n",
       "            }\n",
       "            buttonGroup = document.createElement('div');\n",
       "            buttonGroup.classList = 'mpl-button-group';\n",
       "            continue;\n",
       "        }\n",
       "\n",
       "        var button = (fig.buttons[name] = document.createElement('button'));\n",
       "        button.classList = 'mpl-widget';\n",
       "        button.setAttribute('role', 'button');\n",
       "        button.setAttribute('aria-disabled', 'false');\n",
       "        button.addEventListener('click', on_click_closure(method_name));\n",
       "        button.addEventListener('mouseover', on_mouseover_closure(tooltip));\n",
       "\n",
       "        var icon_img = document.createElement('img');\n",
       "        icon_img.src = '_images/' + image + '.png';\n",
       "        icon_img.srcset = '_images/' + image + '_large.png 2x';\n",
       "        icon_img.alt = tooltip;\n",
       "        button.appendChild(icon_img);\n",
       "\n",
       "        buttonGroup.appendChild(button);\n",
       "    }\n",
       "\n",
       "    if (buttonGroup.hasChildNodes()) {\n",
       "        toolbar.appendChild(buttonGroup);\n",
       "    }\n",
       "\n",
       "    var fmt_picker = document.createElement('select');\n",
       "    fmt_picker.classList = 'mpl-widget';\n",
       "    toolbar.appendChild(fmt_picker);\n",
       "    this.format_dropdown = fmt_picker;\n",
       "\n",
       "    for (var ind in mpl.extensions) {\n",
       "        var fmt = mpl.extensions[ind];\n",
       "        var option = document.createElement('option');\n",
       "        option.selected = fmt === mpl.default_extension;\n",
       "        option.innerHTML = fmt;\n",
       "        fmt_picker.appendChild(option);\n",
       "    }\n",
       "\n",
       "    var status_bar = document.createElement('span');\n",
       "    status_bar.classList = 'mpl-message';\n",
       "    toolbar.appendChild(status_bar);\n",
       "    this.message = status_bar;\n",
       "};\n",
       "\n",
       "mpl.figure.prototype.request_resize = function (x_pixels, y_pixels) {\n",
       "    // Request matplotlib to resize the figure. Matplotlib will then trigger a resize in the client,\n",
       "    // which will in turn request a refresh of the image.\n",
       "    this.send_message('resize', { width: x_pixels, height: y_pixels });\n",
       "};\n",
       "\n",
       "mpl.figure.prototype.send_message = function (type, properties) {\n",
       "    properties['type'] = type;\n",
       "    properties['figure_id'] = this.id;\n",
       "    this.ws.send(JSON.stringify(properties));\n",
       "};\n",
       "\n",
       "mpl.figure.prototype.send_draw_message = function () {\n",
       "    if (!this.waiting) {\n",
       "        this.waiting = true;\n",
       "        this.ws.send(JSON.stringify({ type: 'draw', figure_id: this.id }));\n",
       "    }\n",
       "};\n",
       "\n",
       "mpl.figure.prototype.handle_save = function (fig, _msg) {\n",
       "    var format_dropdown = fig.format_dropdown;\n",
       "    var format = format_dropdown.options[format_dropdown.selectedIndex].value;\n",
       "    fig.ondownload(fig, format);\n",
       "};\n",
       "\n",
       "mpl.figure.prototype.handle_resize = function (fig, msg) {\n",
       "    var size = msg['size'];\n",
       "    if (size[0] !== fig.canvas.width || size[1] !== fig.canvas.height) {\n",
       "        fig._resize_canvas(size[0], size[1], msg['forward']);\n",
       "        fig.send_message('refresh', {});\n",
       "    }\n",
       "};\n",
       "\n",
       "mpl.figure.prototype.handle_rubberband = function (fig, msg) {\n",
       "    var x0 = msg['x0'] / fig.ratio;\n",
       "    var y0 = (fig.canvas.height - msg['y0']) / fig.ratio;\n",
       "    var x1 = msg['x1'] / fig.ratio;\n",
       "    var y1 = (fig.canvas.height - msg['y1']) / fig.ratio;\n",
       "    x0 = Math.floor(x0) + 0.5;\n",
       "    y0 = Math.floor(y0) + 0.5;\n",
       "    x1 = Math.floor(x1) + 0.5;\n",
       "    y1 = Math.floor(y1) + 0.5;\n",
       "    var min_x = Math.min(x0, x1);\n",
       "    var min_y = Math.min(y0, y1);\n",
       "    var width = Math.abs(x1 - x0);\n",
       "    var height = Math.abs(y1 - y0);\n",
       "\n",
       "    fig.rubberband_context.clearRect(\n",
       "        0,\n",
       "        0,\n",
       "        fig.canvas.width / fig.ratio,\n",
       "        fig.canvas.height / fig.ratio\n",
       "    );\n",
       "\n",
       "    fig.rubberband_context.strokeRect(min_x, min_y, width, height);\n",
       "};\n",
       "\n",
       "mpl.figure.prototype.handle_figure_label = function (fig, msg) {\n",
       "    // Updates the figure title.\n",
       "    fig.header.textContent = msg['label'];\n",
       "};\n",
       "\n",
       "mpl.figure.prototype.handle_cursor = function (fig, msg) {\n",
       "    var cursor = msg['cursor'];\n",
       "    switch (cursor) {\n",
       "        case 0:\n",
       "            cursor = 'pointer';\n",
       "            break;\n",
       "        case 1:\n",
       "            cursor = 'default';\n",
       "            break;\n",
       "        case 2:\n",
       "            cursor = 'crosshair';\n",
       "            break;\n",
       "        case 3:\n",
       "            cursor = 'move';\n",
       "            break;\n",
       "    }\n",
       "    fig.rubberband_canvas.style.cursor = cursor;\n",
       "};\n",
       "\n",
       "mpl.figure.prototype.handle_message = function (fig, msg) {\n",
       "    fig.message.textContent = msg['message'];\n",
       "};\n",
       "\n",
       "mpl.figure.prototype.handle_draw = function (fig, _msg) {\n",
       "    // Request the server to send over a new figure.\n",
       "    fig.send_draw_message();\n",
       "};\n",
       "\n",
       "mpl.figure.prototype.handle_image_mode = function (fig, msg) {\n",
       "    fig.image_mode = msg['mode'];\n",
       "};\n",
       "\n",
       "mpl.figure.prototype.handle_history_buttons = function (fig, msg) {\n",
       "    for (var key in msg) {\n",
       "        if (!(key in fig.buttons)) {\n",
       "            continue;\n",
       "        }\n",
       "        fig.buttons[key].disabled = !msg[key];\n",
       "        fig.buttons[key].setAttribute('aria-disabled', !msg[key]);\n",
       "    }\n",
       "};\n",
       "\n",
       "mpl.figure.prototype.handle_navigate_mode = function (fig, msg) {\n",
       "    if (msg['mode'] === 'PAN') {\n",
       "        fig.buttons['Pan'].classList.add('active');\n",
       "        fig.buttons['Zoom'].classList.remove('active');\n",
       "    } else if (msg['mode'] === 'ZOOM') {\n",
       "        fig.buttons['Pan'].classList.remove('active');\n",
       "        fig.buttons['Zoom'].classList.add('active');\n",
       "    } else {\n",
       "        fig.buttons['Pan'].classList.remove('active');\n",
       "        fig.buttons['Zoom'].classList.remove('active');\n",
       "    }\n",
       "};\n",
       "\n",
       "mpl.figure.prototype.updated_canvas_event = function () {\n",
       "    // Called whenever the canvas gets updated.\n",
       "    this.send_message('ack', {});\n",
       "};\n",
       "\n",
       "// A function to construct a web socket function for onmessage handling.\n",
       "// Called in the figure constructor.\n",
       "mpl.figure.prototype._make_on_message_function = function (fig) {\n",
       "    return function socket_on_message(evt) {\n",
       "        if (evt.data instanceof Blob) {\n",
       "            /* FIXME: We get \"Resource interpreted as Image but\n",
       "             * transferred with MIME type text/plain:\" errors on\n",
       "             * Chrome.  But how to set the MIME type?  It doesn't seem\n",
       "             * to be part of the websocket stream */\n",
       "            evt.data.type = 'image/png';\n",
       "\n",
       "            /* Free the memory for the previous frames */\n",
       "            if (fig.imageObj.src) {\n",
       "                (window.URL || window.webkitURL).revokeObjectURL(\n",
       "                    fig.imageObj.src\n",
       "                );\n",
       "            }\n",
       "\n",
       "            fig.imageObj.src = (window.URL || window.webkitURL).createObjectURL(\n",
       "                evt.data\n",
       "            );\n",
       "            fig.updated_canvas_event();\n",
       "            fig.waiting = false;\n",
       "            return;\n",
       "        } else if (\n",
       "            typeof evt.data === 'string' &&\n",
       "            evt.data.slice(0, 21) === 'data:image/png;base64'\n",
       "        ) {\n",
       "            fig.imageObj.src = evt.data;\n",
       "            fig.updated_canvas_event();\n",
       "            fig.waiting = false;\n",
       "            return;\n",
       "        }\n",
       "\n",
       "        var msg = JSON.parse(evt.data);\n",
       "        var msg_type = msg['type'];\n",
       "\n",
       "        // Call the  \"handle_{type}\" callback, which takes\n",
       "        // the figure and JSON message as its only arguments.\n",
       "        try {\n",
       "            var callback = fig['handle_' + msg_type];\n",
       "        } catch (e) {\n",
       "            console.log(\n",
       "                \"No handler for the '\" + msg_type + \"' message type: \",\n",
       "                msg\n",
       "            );\n",
       "            return;\n",
       "        }\n",
       "\n",
       "        if (callback) {\n",
       "            try {\n",
       "                // console.log(\"Handling '\" + msg_type + \"' message: \", msg);\n",
       "                callback(fig, msg);\n",
       "            } catch (e) {\n",
       "                console.log(\n",
       "                    \"Exception inside the 'handler_\" + msg_type + \"' callback:\",\n",
       "                    e,\n",
       "                    e.stack,\n",
       "                    msg\n",
       "                );\n",
       "            }\n",
       "        }\n",
       "    };\n",
       "};\n",
       "\n",
       "// from http://stackoverflow.com/questions/1114465/getting-mouse-location-in-canvas\n",
       "mpl.findpos = function (e) {\n",
       "    //this section is from http://www.quirksmode.org/js/events_properties.html\n",
       "    var targ;\n",
       "    if (!e) {\n",
       "        e = window.event;\n",
       "    }\n",
       "    if (e.target) {\n",
       "        targ = e.target;\n",
       "    } else if (e.srcElement) {\n",
       "        targ = e.srcElement;\n",
       "    }\n",
       "    if (targ.nodeType === 3) {\n",
       "        // defeat Safari bug\n",
       "        targ = targ.parentNode;\n",
       "    }\n",
       "\n",
       "    // pageX,Y are the mouse positions relative to the document\n",
       "    var boundingRect = targ.getBoundingClientRect();\n",
       "    var x = e.pageX - (boundingRect.left + document.body.scrollLeft);\n",
       "    var y = e.pageY - (boundingRect.top + document.body.scrollTop);\n",
       "\n",
       "    return { x: x, y: y };\n",
       "};\n",
       "\n",
       "/*\n",
       " * return a copy of an object with only non-object keys\n",
       " * we need this to avoid circular references\n",
       " * http://stackoverflow.com/a/24161582/3208463\n",
       " */\n",
       "function simpleKeys(original) {\n",
       "    return Object.keys(original).reduce(function (obj, key) {\n",
       "        if (typeof original[key] !== 'object') {\n",
       "            obj[key] = original[key];\n",
       "        }\n",
       "        return obj;\n",
       "    }, {});\n",
       "}\n",
       "\n",
       "mpl.figure.prototype.mouse_event = function (event, name) {\n",
       "    var canvas_pos = mpl.findpos(event);\n",
       "\n",
       "    if (name === 'button_press') {\n",
       "        this.canvas.focus();\n",
       "        this.canvas_div.focus();\n",
       "    }\n",
       "\n",
       "    var x = canvas_pos.x * this.ratio;\n",
       "    var y = canvas_pos.y * this.ratio;\n",
       "\n",
       "    this.send_message(name, {\n",
       "        x: x,\n",
       "        y: y,\n",
       "        button: event.button,\n",
       "        step: event.step,\n",
       "        guiEvent: simpleKeys(event),\n",
       "    });\n",
       "\n",
       "    /* This prevents the web browser from automatically changing to\n",
       "     * the text insertion cursor when the button is pressed.  We want\n",
       "     * to control all of the cursor setting manually through the\n",
       "     * 'cursor' event from matplotlib */\n",
       "    event.preventDefault();\n",
       "    return false;\n",
       "};\n",
       "\n",
       "mpl.figure.prototype._key_event_extra = function (_event, _name) {\n",
       "    // Handle any extra behaviour associated with a key event\n",
       "};\n",
       "\n",
       "mpl.figure.prototype.key_event = function (event, name) {\n",
       "    // Prevent repeat events\n",
       "    if (name === 'key_press') {\n",
       "        if (event.which === this._key) {\n",
       "            return;\n",
       "        } else {\n",
       "            this._key = event.which;\n",
       "        }\n",
       "    }\n",
       "    if (name === 'key_release') {\n",
       "        this._key = null;\n",
       "    }\n",
       "\n",
       "    var value = '';\n",
       "    if (event.ctrlKey && event.which !== 17) {\n",
       "        value += 'ctrl+';\n",
       "    }\n",
       "    if (event.altKey && event.which !== 18) {\n",
       "        value += 'alt+';\n",
       "    }\n",
       "    if (event.shiftKey && event.which !== 16) {\n",
       "        value += 'shift+';\n",
       "    }\n",
       "\n",
       "    value += 'k';\n",
       "    value += event.which.toString();\n",
       "\n",
       "    this._key_event_extra(event, name);\n",
       "\n",
       "    this.send_message(name, { key: value, guiEvent: simpleKeys(event) });\n",
       "    return false;\n",
       "};\n",
       "\n",
       "mpl.figure.prototype.toolbar_button_onclick = function (name) {\n",
       "    if (name === 'download') {\n",
       "        this.handle_save(this, null);\n",
       "    } else {\n",
       "        this.send_message('toolbar_button', { name: name });\n",
       "    }\n",
       "};\n",
       "\n",
       "mpl.figure.prototype.toolbar_button_onmouseover = function (tooltip) {\n",
       "    this.message.textContent = tooltip;\n",
       "};\n",
       "\n",
       "///////////////// REMAINING CONTENT GENERATED BY embed_js.py /////////////////\n",
       "// prettier-ignore\n",
       "var _JSXTOOLS_RESIZE_OBSERVER=function(A){var t,i=new WeakMap,n=new WeakMap,a=new WeakMap,r=new WeakMap,o=new Set;function s(e){if(!(this instanceof s))throw new TypeError(\"Constructor requires 'new' operator\");i.set(this,e)}function h(){throw new TypeError(\"Function is not a constructor\")}function c(e,t,i,n){e=0 in arguments?Number(arguments[0]):0,t=1 in arguments?Number(arguments[1]):0,i=2 in arguments?Number(arguments[2]):0,n=3 in arguments?Number(arguments[3]):0,this.right=(this.x=this.left=e)+(this.width=i),this.bottom=(this.y=this.top=t)+(this.height=n),Object.freeze(this)}function d(){t=requestAnimationFrame(d);var s=new WeakMap,p=new Set;o.forEach((function(t){r.get(t).forEach((function(i){var r=t instanceof window.SVGElement,o=a.get(t),d=r?0:parseFloat(o.paddingTop),f=r?0:parseFloat(o.paddingRight),l=r?0:parseFloat(o.paddingBottom),u=r?0:parseFloat(o.paddingLeft),g=r?0:parseFloat(o.borderTopWidth),m=r?0:parseFloat(o.borderRightWidth),w=r?0:parseFloat(o.borderBottomWidth),b=u+f,F=d+l,v=(r?0:parseFloat(o.borderLeftWidth))+m,W=g+w,y=r?0:t.offsetHeight-W-t.clientHeight,E=r?0:t.offsetWidth-v-t.clientWidth,R=b+v,z=F+W,M=r?t.width:parseFloat(o.width)-R-E,O=r?t.height:parseFloat(o.height)-z-y;if(n.has(t)){var k=n.get(t);if(k[0]===M&&k[1]===O)return}n.set(t,[M,O]);var S=Object.create(h.prototype);S.target=t,S.contentRect=new c(u,d,M,O),s.has(i)||(s.set(i,[]),p.add(i)),s.get(i).push(S)}))})),p.forEach((function(e){i.get(e).call(e,s.get(e),e)}))}return s.prototype.observe=function(i){if(i instanceof window.Element){r.has(i)||(r.set(i,new Set),o.add(i),a.set(i,window.getComputedStyle(i)));var n=r.get(i);n.has(this)||n.add(this),cancelAnimationFrame(t),t=requestAnimationFrame(d)}},s.prototype.unobserve=function(i){if(i instanceof window.Element&&r.has(i)){var n=r.get(i);n.has(this)&&(n.delete(this),n.size||(r.delete(i),o.delete(i))),n.size||r.delete(i),o.size||cancelAnimationFrame(t)}},A.DOMRectReadOnly=c,A.ResizeObserver=s,A.ResizeObserverEntry=h,A}; // eslint-disable-line\n",
       "mpl.toolbar_items = [[\"Home\", \"Reset original view\", \"fa fa-home icon-home\", \"home\"], [\"Back\", \"Back to previous view\", \"fa fa-arrow-left icon-arrow-left\", \"back\"], [\"Forward\", \"Forward to next view\", \"fa fa-arrow-right icon-arrow-right\", \"forward\"], [\"\", \"\", \"\", \"\"], [\"Pan\", \"Left button pans, Right button zooms\\nx/y fixes axis, CTRL fixes aspect\", \"fa fa-arrows icon-move\", \"pan\"], [\"Zoom\", \"Zoom to rectangle\\nx/y fixes axis, CTRL fixes aspect\", \"fa fa-square-o icon-check-empty\", \"zoom\"], [\"\", \"\", \"\", \"\"], [\"Download\", \"Download plot\", \"fa fa-floppy-o icon-save\", \"download\"]];\n",
       "\n",
       "mpl.extensions = [\"eps\", \"jpeg\", \"pdf\", \"png\", \"ps\", \"raw\", \"svg\", \"tif\"];\n",
       "\n",
       "mpl.default_extension = \"png\";/* global mpl */\n",
       "\n",
       "var comm_websocket_adapter = function (comm) {\n",
       "    // Create a \"websocket\"-like object which calls the given IPython comm\n",
       "    // object with the appropriate methods. Currently this is a non binary\n",
       "    // socket, so there is still some room for performance tuning.\n",
       "    var ws = {};\n",
       "\n",
       "    ws.close = function () {\n",
       "        comm.close();\n",
       "    };\n",
       "    ws.send = function (m) {\n",
       "        //console.log('sending', m);\n",
       "        comm.send(m);\n",
       "    };\n",
       "    // Register the callback with on_msg.\n",
       "    comm.on_msg(function (msg) {\n",
       "        //console.log('receiving', msg['content']['data'], msg);\n",
       "        // Pass the mpl event to the overridden (by mpl) onmessage function.\n",
       "        ws.onmessage(msg['content']['data']);\n",
       "    });\n",
       "    return ws;\n",
       "};\n",
       "\n",
       "mpl.mpl_figure_comm = function (comm, msg) {\n",
       "    // This is the function which gets called when the mpl process\n",
       "    // starts-up an IPython Comm through the \"matplotlib\" channel.\n",
       "\n",
       "    var id = msg.content.data.id;\n",
       "    // Get hold of the div created by the display call when the Comm\n",
       "    // socket was opened in Python.\n",
       "    var element = document.getElementById(id);\n",
       "    var ws_proxy = comm_websocket_adapter(comm);\n",
       "\n",
       "    function ondownload(figure, _format) {\n",
       "        window.open(figure.canvas.toDataURL());\n",
       "    }\n",
       "\n",
       "    var fig = new mpl.figure(id, ws_proxy, ondownload, element);\n",
       "\n",
       "    // Call onopen now - mpl needs it, as it is assuming we've passed it a real\n",
       "    // web socket which is closed, not our websocket->open comm proxy.\n",
       "    ws_proxy.onopen();\n",
       "\n",
       "    fig.parent_element = element;\n",
       "    fig.cell_info = mpl.find_output_cell(\"<div id='\" + id + \"'></div>\");\n",
       "    if (!fig.cell_info) {\n",
       "        console.error('Failed to find cell for figure', id, fig);\n",
       "        return;\n",
       "    }\n",
       "    fig.cell_info[0].output_area.element.on(\n",
       "        'cleared',\n",
       "        { fig: fig },\n",
       "        fig._remove_fig_handler\n",
       "    );\n",
       "};\n",
       "\n",
       "mpl.figure.prototype.handle_close = function (fig, msg) {\n",
       "    var width = fig.canvas.width / fig.ratio;\n",
       "    fig.cell_info[0].output_area.element.off(\n",
       "        'cleared',\n",
       "        fig._remove_fig_handler\n",
       "    );\n",
       "    fig.resizeObserverInstance.unobserve(fig.canvas_div);\n",
       "\n",
       "    // Update the output cell to use the data from the current canvas.\n",
       "    fig.push_to_output();\n",
       "    var dataURL = fig.canvas.toDataURL();\n",
       "    // Re-enable the keyboard manager in IPython - without this line, in FF,\n",
       "    // the notebook keyboard shortcuts fail.\n",
       "    IPython.keyboard_manager.enable();\n",
       "    fig.parent_element.innerHTML =\n",
       "        '<img src=\"' + dataURL + '\" width=\"' + width + '\">';\n",
       "    fig.close_ws(fig, msg);\n",
       "};\n",
       "\n",
       "mpl.figure.prototype.close_ws = function (fig, msg) {\n",
       "    fig.send_message('closing', msg);\n",
       "    // fig.ws.close()\n",
       "};\n",
       "\n",
       "mpl.figure.prototype.push_to_output = function (_remove_interactive) {\n",
       "    // Turn the data on the canvas into data in the output cell.\n",
       "    var width = this.canvas.width / this.ratio;\n",
       "    var dataURL = this.canvas.toDataURL();\n",
       "    this.cell_info[1]['text/html'] =\n",
       "        '<img src=\"' + dataURL + '\" width=\"' + width + '\">';\n",
       "};\n",
       "\n",
       "mpl.figure.prototype.updated_canvas_event = function () {\n",
       "    // Tell IPython that the notebook contents must change.\n",
       "    IPython.notebook.set_dirty(true);\n",
       "    this.send_message('ack', {});\n",
       "    var fig = this;\n",
       "    // Wait a second, then push the new image to the DOM so\n",
       "    // that it is saved nicely (might be nice to debounce this).\n",
       "    setTimeout(function () {\n",
       "        fig.push_to_output();\n",
       "    }, 1000);\n",
       "};\n",
       "\n",
       "mpl.figure.prototype._init_toolbar = function () {\n",
       "    var fig = this;\n",
       "\n",
       "    var toolbar = document.createElement('div');\n",
       "    toolbar.classList = 'btn-toolbar';\n",
       "    this.root.appendChild(toolbar);\n",
       "\n",
       "    function on_click_closure(name) {\n",
       "        return function (_event) {\n",
       "            return fig.toolbar_button_onclick(name);\n",
       "        };\n",
       "    }\n",
       "\n",
       "    function on_mouseover_closure(tooltip) {\n",
       "        return function (event) {\n",
       "            if (!event.currentTarget.disabled) {\n",
       "                return fig.toolbar_button_onmouseover(tooltip);\n",
       "            }\n",
       "        };\n",
       "    }\n",
       "\n",
       "    fig.buttons = {};\n",
       "    var buttonGroup = document.createElement('div');\n",
       "    buttonGroup.classList = 'btn-group';\n",
       "    var button;\n",
       "    for (var toolbar_ind in mpl.toolbar_items) {\n",
       "        var name = mpl.toolbar_items[toolbar_ind][0];\n",
       "        var tooltip = mpl.toolbar_items[toolbar_ind][1];\n",
       "        var image = mpl.toolbar_items[toolbar_ind][2];\n",
       "        var method_name = mpl.toolbar_items[toolbar_ind][3];\n",
       "\n",
       "        if (!name) {\n",
       "            /* Instead of a spacer, we start a new button group. */\n",
       "            if (buttonGroup.hasChildNodes()) {\n",
       "                toolbar.appendChild(buttonGroup);\n",
       "            }\n",
       "            buttonGroup = document.createElement('div');\n",
       "            buttonGroup.classList = 'btn-group';\n",
       "            continue;\n",
       "        }\n",
       "\n",
       "        button = fig.buttons[name] = document.createElement('button');\n",
       "        button.classList = 'btn btn-default';\n",
       "        button.href = '#';\n",
       "        button.title = name;\n",
       "        button.innerHTML = '<i class=\"fa ' + image + ' fa-lg\"></i>';\n",
       "        button.addEventListener('click', on_click_closure(method_name));\n",
       "        button.addEventListener('mouseover', on_mouseover_closure(tooltip));\n",
       "        buttonGroup.appendChild(button);\n",
       "    }\n",
       "\n",
       "    if (buttonGroup.hasChildNodes()) {\n",
       "        toolbar.appendChild(buttonGroup);\n",
       "    }\n",
       "\n",
       "    // Add the status bar.\n",
       "    var status_bar = document.createElement('span');\n",
       "    status_bar.classList = 'mpl-message pull-right';\n",
       "    toolbar.appendChild(status_bar);\n",
       "    this.message = status_bar;\n",
       "\n",
       "    // Add the close button to the window.\n",
       "    var buttongrp = document.createElement('div');\n",
       "    buttongrp.classList = 'btn-group inline pull-right';\n",
       "    button = document.createElement('button');\n",
       "    button.classList = 'btn btn-mini btn-primary';\n",
       "    button.href = '#';\n",
       "    button.title = 'Stop Interaction';\n",
       "    button.innerHTML = '<i class=\"fa fa-power-off icon-remove icon-large\"></i>';\n",
       "    button.addEventListener('click', function (_evt) {\n",
       "        fig.handle_close(fig, {});\n",
       "    });\n",
       "    button.addEventListener(\n",
       "        'mouseover',\n",
       "        on_mouseover_closure('Stop Interaction')\n",
       "    );\n",
       "    buttongrp.appendChild(button);\n",
       "    var titlebar = this.root.querySelector('.ui-dialog-titlebar');\n",
       "    titlebar.insertBefore(buttongrp, titlebar.firstChild);\n",
       "};\n",
       "\n",
       "mpl.figure.prototype._remove_fig_handler = function (event) {\n",
       "    var fig = event.data.fig;\n",
       "    if (event.target !== this) {\n",
       "        // Ignore bubbled events from children.\n",
       "        return;\n",
       "    }\n",
       "    fig.close_ws(fig, {});\n",
       "};\n",
       "\n",
       "mpl.figure.prototype._root_extra_style = function (el) {\n",
       "    el.style.boxSizing = 'content-box'; // override notebook setting of border-box.\n",
       "};\n",
       "\n",
       "mpl.figure.prototype._canvas_extra_style = function (el) {\n",
       "    // this is important to make the div 'focusable\n",
       "    el.setAttribute('tabindex', 0);\n",
       "    // reach out to IPython and tell the keyboard manager to turn it's self\n",
       "    // off when our div gets focus\n",
       "\n",
       "    // location in version 3\n",
       "    if (IPython.notebook.keyboard_manager) {\n",
       "        IPython.notebook.keyboard_manager.register_events(el);\n",
       "    } else {\n",
       "        // location in version 2\n",
       "        IPython.keyboard_manager.register_events(el);\n",
       "    }\n",
       "};\n",
       "\n",
       "mpl.figure.prototype._key_event_extra = function (event, _name) {\n",
       "    var manager = IPython.notebook.keyboard_manager;\n",
       "    if (!manager) {\n",
       "        manager = IPython.keyboard_manager;\n",
       "    }\n",
       "\n",
       "    // Check for shift+enter\n",
       "    if (event.shiftKey && event.which === 13) {\n",
       "        this.canvas_div.blur();\n",
       "        // select the cell after this one\n",
       "        var index = IPython.notebook.find_cell_index(this.cell_info[0]);\n",
       "        IPython.notebook.select(index + 1);\n",
       "    }\n",
       "};\n",
       "\n",
       "mpl.figure.prototype.handle_save = function (fig, _msg) {\n",
       "    fig.ondownload(fig, null);\n",
       "};\n",
       "\n",
       "mpl.find_output_cell = function (html_output) {\n",
       "    // Return the cell and output element which can be found *uniquely* in the notebook.\n",
       "    // Note - this is a bit hacky, but it is done because the \"notebook_saving.Notebook\"\n",
       "    // IPython event is triggered only after the cells have been serialised, which for\n",
       "    // our purposes (turning an active figure into a static one), is too late.\n",
       "    var cells = IPython.notebook.get_cells();\n",
       "    var ncells = cells.length;\n",
       "    for (var i = 0; i < ncells; i++) {\n",
       "        var cell = cells[i];\n",
       "        if (cell.cell_type === 'code') {\n",
       "            for (var j = 0; j < cell.output_area.outputs.length; j++) {\n",
       "                var data = cell.output_area.outputs[j];\n",
       "                if (data.data) {\n",
       "                    // IPython >= 3 moved mimebundle to data attribute of output\n",
       "                    data = data.data;\n",
       "                }\n",
       "                if (data['text/html'] === html_output) {\n",
       "                    return [cell, data, j];\n",
       "                }\n",
       "            }\n",
       "        }\n",
       "    }\n",
       "};\n",
       "\n",
       "// Register the function which deals with the matplotlib target/channel.\n",
       "// The kernel may be null if the page has been refreshed.\n",
       "if (IPython.notebook.kernel !== null) {\n",
       "    IPython.notebook.kernel.comm_manager.register_target(\n",
       "        'matplotlib',\n",
       "        mpl.mpl_figure_comm\n",
       "    );\n",
       "}\n"
      ],
      "text/plain": [
       "<IPython.core.display.Javascript object>"
      ]
     },
     "metadata": {},
     "output_type": "display_data"
    },
    {
     "data": {
      "text/html": [
       "<img src=\"data:image/png;base64,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\" width=\"1000\">"
      ],
      "text/plain": [
       "<IPython.core.display.HTML object>"
      ]
     },
     "metadata": {},
     "output_type": "display_data"
    }
   ],
   "source": [
    "fig = plt.figure(figsize=(10,8))\n",
    "\n",
    "ax = fig.add_subplot(1, 1, 1, projection='3d')\n",
    "# ax.scatter(euler_gt_plt[:, 0], euler_gt_plt[:, 1], euler_gt_plt[:, 2], c=np.arange(len(euler_gt_plt)), alpha=0.1)\n",
    "sc = ax.plot(euler_plt[:,0], euler_plt[:,1], euler_plt[:,2]) #, c=np.arange(len(euler_plt)), alpha=0.5)\n",
    "sc = ax.scatter(euler_plt[:,0], euler_plt[:,1], euler_plt[:,2], c=np.arange(len(euler_plt)), alpha=0.5)\n",
    "\n",
    "ax.set_xlabel('X')\n",
    "ax.set_ylabel('Y')\n",
    "ax.set_zlabel('Z')\n",
    "\n",
    "ax.set_xlim([-1.5, 0.25])\n",
    "ax.set_ylim([-1.95, 1.5])\n",
    "ax.set_zlim([-0.5, 0.0])\n",
    "\n",
    "# plt.colorbar(sc)\n",
    "plt.show()"
   ]
  },
  {
   "cell_type": "code",
   "execution_count": null,
   "id": "04264084",
   "metadata": {},
   "outputs": [],
   "source": []
  }
 ],
 "metadata": {
  "kernelspec": {
   "display_name": "Python 3",
   "language": "python",
   "name": "python3"
  },
  "language_info": {
   "codemirror_mode": {
    "name": "ipython",
    "version": 3
   },
   "file_extension": ".py",
   "mimetype": "text/x-python",
   "name": "python",
   "nbconvert_exporter": "python",
   "pygments_lexer": "ipython3",
   "version": "3.6.13"
  }
 },
 "nbformat": 4,
 "nbformat_minor": 5
}
